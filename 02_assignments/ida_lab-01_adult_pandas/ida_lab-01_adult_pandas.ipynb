{
  "cells": [
    {
      "cell_type": "markdown",
      "metadata": {
        "id": "QNPHt8Yv6ywG"
      },
      "source": [
        "<h1><center>Лабораторна робота 1.</center></h1>\n",
        "<h2><center>Аналіз доходу населення за набором даних Adult Data Set</center></h2>"
      ]
    },
    {
      "cell_type": "markdown",
      "metadata": {
        "id": "NZvmmMsk6ywL"
      },
      "source": [
        "**Виконав:** Гринько І.М.\n",
        "\n",
        "**Варіант:** № 6"
      ]
    },
    {
      "cell_type": "markdown",
      "metadata": {
        "id": "iuE7D0z_6ywM"
      },
      "source": [
        "<a class=\"anchor\" id=\"lab-1\"></a>"
      ]
    },
    {
      "cell_type": "markdown",
      "metadata": {
        "id": "7MEN7-0Y6ywM"
      },
      "source": [
        "## Зміст\n",
        "\n",
        "1. [Завантаження і знайомство з даними](#lab-1.1)\n",
        "2. [Завдання](#lab-1.2)"
      ]
    },
    {
      "cell_type": "markdown",
      "metadata": {
        "id": "kbYaR6h-6ywN"
      },
      "source": [
        "<a class=\"anchor\" id=\"lab-1.1\"></a>"
      ]
    },
    {
      "cell_type": "markdown",
      "metadata": {
        "id": "LDoDKFED6ywN"
      },
      "source": [
        "## <span style=\"color:blue; font-size:1.2em;\">1.1. Завантаження та підготовка даних</span>\n",
        "\n",
        "[Повернутися до змісту](#lab-1)"
      ]
    },
    {
      "cell_type": "markdown",
      "metadata": {
        "id": "8Zj-_LgF6ywO"
      },
      "source": [
        "У лабораторній роботі пропонується за допомогою Pandas відповісти на кілька запитань за набором даних [Adult](https://archive.ics.uci.edu/ml/datasets/adult) сховища UCI."
      ]
    },
    {
      "cell_type": "markdown",
      "metadata": {
        "id": "JOOzFDwl6ywO"
      },
      "source": [
        "Унікальні значення ознак набору даниз Adult Data Set (більше інформації в описі [Adult](https://archive.ics.uci.edu/ml/datasets/adult)):\n",
        "\n",
        "- age: continuous.\n",
        "- workclass: Private, Self-emp-not-inc, Self-emp-inc, Federal-gov, Local-gov, State-gov, Without-pay, Never-worked.\n",
        "- fnlwgt: continuous.\n",
        "- education: Bachelors, Some-college, 11th, HS-grad, Prof-school, Assoc-acdm, Assoc-voc, 9th, 7th-8th, 12th, Masters, 1st-4th, 10th, Doctorate, 5th-6th, Preschool.\n",
        "- education-num: continuous.\n",
        "- marital-status: Married-civ-spouse, Divorced, Never-married, Separated, Widowed, Married-spouse-absent, Married-AF-spouse.\n",
        "- occupation: Tech-support, Craft-repair, Other-service, Sales, Exec-managerial, Prof-specialty, Handlers-cleaners, Machine-op-inspct, Adm-clerical, Farming-fishing, Transport-moving, Priv-house-serv, Protective-serv, Armed-Forces.\n",
        "- relationship: Wife, Own-child, Husband, Not-in-family, Other-relative, Unmarried.\n",
        "- race: White, Asian-Pac-Islander, Amer-Indian-Eskimo, Other, Black.\n",
        "- sex: Female, Male.\n",
        "- capital-gain: continuous.\n",
        "- capital-loss: continuous.\n",
        "- hours-per-week: continuous.\n",
        "- native-country: United-States, Cambodia, England, Puerto-Rico, Canada, Germany, Outlying-US(Guam-USVI-etc), India, Japan, Greece, South, China, Cuba, Iran, Honduras, Philippines, Italy, Poland, Jamaica, Vietnam, Mexico, Portugal, Ireland, France, Dominican-Republic, Laos, Ecuador, Taiwan, Haiti, Columbia, Hungary, Guatemala, Nicaragua, Scotland, Thailand, Yugoslavia, El-Salvador, Trinadad&Tobago, Peru, Hong, Holand-Netherlands.   \n",
        "- salary: >50K,<=50K"
      ]
    },
    {
      "cell_type": "markdown",
      "metadata": {
        "id": "oCWPuf5c6ywP"
      },
      "source": [
        "Завантажимо `Pandas` та переглянемо вміст набору даних."
      ]
    },
    {
      "cell_type": "code",
      "execution_count": 2,
      "metadata": {
        "id": "G89eAiTh6ywQ"
      },
      "outputs": [],
      "source": [
        "import pandas as pd"
      ]
    },
    {
      "cell_type": "code",
      "execution_count": 102,
      "metadata": {
        "id": "KDVGUwf46ywR",
        "outputId": "1d8b9898-7966-478b-c59e-dd34472808e8",
        "colab": {
          "base_uri": "https://localhost:8080/",
          "height": 206
        }
      },
      "outputs": [
        {
          "output_type": "execute_result",
          "data": {
            "text/plain": [
              "   age         workclass  fnlwgt  education  education-num  \\\n",
              "0   39         State-gov   77516  Bachelors             13   \n",
              "1   50  Self-emp-not-inc   83311  Bachelors             13   \n",
              "2   38           Private  215646    HS-grad              9   \n",
              "3   53           Private  234721       11th              7   \n",
              "4   28           Private  338409  Bachelors             13   \n",
              "\n",
              "       marital-status         occupation   relationship   race     sex  \\\n",
              "0       Never-married       Adm-clerical  Not-in-family  White    Male   \n",
              "1  Married-civ-spouse    Exec-managerial        Husband  White    Male   \n",
              "2            Divorced  Handlers-cleaners  Not-in-family  White    Male   \n",
              "3  Married-civ-spouse  Handlers-cleaners        Husband  Black    Male   \n",
              "4  Married-civ-spouse     Prof-specialty           Wife  Black  Female   \n",
              "\n",
              "   capital-gain  capital-loss  hours-per-week native-country salary  \n",
              "0          2174             0              40  United-States  <=50K  \n",
              "1             0             0              13  United-States  <=50K  \n",
              "2             0             0              40  United-States  <=50K  \n",
              "3             0             0              40  United-States  <=50K  \n",
              "4             0             0              40           Cuba  <=50K  "
            ],
            "text/html": [
              "\n",
              "  <div id=\"df-3e0bee3d-843e-4b74-bea5-2c715b3b9bbc\">\n",
              "    <div class=\"colab-df-container\">\n",
              "      <div>\n",
              "<style scoped>\n",
              "    .dataframe tbody tr th:only-of-type {\n",
              "        vertical-align: middle;\n",
              "    }\n",
              "\n",
              "    .dataframe tbody tr th {\n",
              "        vertical-align: top;\n",
              "    }\n",
              "\n",
              "    .dataframe thead th {\n",
              "        text-align: right;\n",
              "    }\n",
              "</style>\n",
              "<table border=\"1\" class=\"dataframe\">\n",
              "  <thead>\n",
              "    <tr style=\"text-align: right;\">\n",
              "      <th></th>\n",
              "      <th>age</th>\n",
              "      <th>workclass</th>\n",
              "      <th>fnlwgt</th>\n",
              "      <th>education</th>\n",
              "      <th>education-num</th>\n",
              "      <th>marital-status</th>\n",
              "      <th>occupation</th>\n",
              "      <th>relationship</th>\n",
              "      <th>race</th>\n",
              "      <th>sex</th>\n",
              "      <th>capital-gain</th>\n",
              "      <th>capital-loss</th>\n",
              "      <th>hours-per-week</th>\n",
              "      <th>native-country</th>\n",
              "      <th>salary</th>\n",
              "    </tr>\n",
              "  </thead>\n",
              "  <tbody>\n",
              "    <tr>\n",
              "      <th>0</th>\n",
              "      <td>39</td>\n",
              "      <td>State-gov</td>\n",
              "      <td>77516</td>\n",
              "      <td>Bachelors</td>\n",
              "      <td>13</td>\n",
              "      <td>Never-married</td>\n",
              "      <td>Adm-clerical</td>\n",
              "      <td>Not-in-family</td>\n",
              "      <td>White</td>\n",
              "      <td>Male</td>\n",
              "      <td>2174</td>\n",
              "      <td>0</td>\n",
              "      <td>40</td>\n",
              "      <td>United-States</td>\n",
              "      <td>&lt;=50K</td>\n",
              "    </tr>\n",
              "    <tr>\n",
              "      <th>1</th>\n",
              "      <td>50</td>\n",
              "      <td>Self-emp-not-inc</td>\n",
              "      <td>83311</td>\n",
              "      <td>Bachelors</td>\n",
              "      <td>13</td>\n",
              "      <td>Married-civ-spouse</td>\n",
              "      <td>Exec-managerial</td>\n",
              "      <td>Husband</td>\n",
              "      <td>White</td>\n",
              "      <td>Male</td>\n",
              "      <td>0</td>\n",
              "      <td>0</td>\n",
              "      <td>13</td>\n",
              "      <td>United-States</td>\n",
              "      <td>&lt;=50K</td>\n",
              "    </tr>\n",
              "    <tr>\n",
              "      <th>2</th>\n",
              "      <td>38</td>\n",
              "      <td>Private</td>\n",
              "      <td>215646</td>\n",
              "      <td>HS-grad</td>\n",
              "      <td>9</td>\n",
              "      <td>Divorced</td>\n",
              "      <td>Handlers-cleaners</td>\n",
              "      <td>Not-in-family</td>\n",
              "      <td>White</td>\n",
              "      <td>Male</td>\n",
              "      <td>0</td>\n",
              "      <td>0</td>\n",
              "      <td>40</td>\n",
              "      <td>United-States</td>\n",
              "      <td>&lt;=50K</td>\n",
              "    </tr>\n",
              "    <tr>\n",
              "      <th>3</th>\n",
              "      <td>53</td>\n",
              "      <td>Private</td>\n",
              "      <td>234721</td>\n",
              "      <td>11th</td>\n",
              "      <td>7</td>\n",
              "      <td>Married-civ-spouse</td>\n",
              "      <td>Handlers-cleaners</td>\n",
              "      <td>Husband</td>\n",
              "      <td>Black</td>\n",
              "      <td>Male</td>\n",
              "      <td>0</td>\n",
              "      <td>0</td>\n",
              "      <td>40</td>\n",
              "      <td>United-States</td>\n",
              "      <td>&lt;=50K</td>\n",
              "    </tr>\n",
              "    <tr>\n",
              "      <th>4</th>\n",
              "      <td>28</td>\n",
              "      <td>Private</td>\n",
              "      <td>338409</td>\n",
              "      <td>Bachelors</td>\n",
              "      <td>13</td>\n",
              "      <td>Married-civ-spouse</td>\n",
              "      <td>Prof-specialty</td>\n",
              "      <td>Wife</td>\n",
              "      <td>Black</td>\n",
              "      <td>Female</td>\n",
              "      <td>0</td>\n",
              "      <td>0</td>\n",
              "      <td>40</td>\n",
              "      <td>Cuba</td>\n",
              "      <td>&lt;=50K</td>\n",
              "    </tr>\n",
              "  </tbody>\n",
              "</table>\n",
              "</div>\n",
              "      <button class=\"colab-df-convert\" onclick=\"convertToInteractive('df-3e0bee3d-843e-4b74-bea5-2c715b3b9bbc')\"\n",
              "              title=\"Convert this dataframe to an interactive table.\"\n",
              "              style=\"display:none;\">\n",
              "        \n",
              "  <svg xmlns=\"http://www.w3.org/2000/svg\" height=\"24px\"viewBox=\"0 0 24 24\"\n",
              "       width=\"24px\">\n",
              "    <path d=\"M0 0h24v24H0V0z\" fill=\"none\"/>\n",
              "    <path d=\"M18.56 5.44l.94 2.06.94-2.06 2.06-.94-2.06-.94-.94-2.06-.94 2.06-2.06.94zm-11 1L8.5 8.5l.94-2.06 2.06-.94-2.06-.94L8.5 2.5l-.94 2.06-2.06.94zm10 10l.94 2.06.94-2.06 2.06-.94-2.06-.94-.94-2.06-.94 2.06-2.06.94z\"/><path d=\"M17.41 7.96l-1.37-1.37c-.4-.4-.92-.59-1.43-.59-.52 0-1.04.2-1.43.59L10.3 9.45l-7.72 7.72c-.78.78-.78 2.05 0 2.83L4 21.41c.39.39.9.59 1.41.59.51 0 1.02-.2 1.41-.59l7.78-7.78 2.81-2.81c.8-.78.8-2.07 0-2.86zM5.41 20L4 18.59l7.72-7.72 1.47 1.35L5.41 20z\"/>\n",
              "  </svg>\n",
              "      </button>\n",
              "      \n",
              "  <style>\n",
              "    .colab-df-container {\n",
              "      display:flex;\n",
              "      flex-wrap:wrap;\n",
              "      gap: 12px;\n",
              "    }\n",
              "\n",
              "    .colab-df-convert {\n",
              "      background-color: #E8F0FE;\n",
              "      border: none;\n",
              "      border-radius: 50%;\n",
              "      cursor: pointer;\n",
              "      display: none;\n",
              "      fill: #1967D2;\n",
              "      height: 32px;\n",
              "      padding: 0 0 0 0;\n",
              "      width: 32px;\n",
              "    }\n",
              "\n",
              "    .colab-df-convert:hover {\n",
              "      background-color: #E2EBFA;\n",
              "      box-shadow: 0px 1px 2px rgba(60, 64, 67, 0.3), 0px 1px 3px 1px rgba(60, 64, 67, 0.15);\n",
              "      fill: #174EA6;\n",
              "    }\n",
              "\n",
              "    [theme=dark] .colab-df-convert {\n",
              "      background-color: #3B4455;\n",
              "      fill: #D2E3FC;\n",
              "    }\n",
              "\n",
              "    [theme=dark] .colab-df-convert:hover {\n",
              "      background-color: #434B5C;\n",
              "      box-shadow: 0px 1px 3px 1px rgba(0, 0, 0, 0.15);\n",
              "      filter: drop-shadow(0px 1px 2px rgba(0, 0, 0, 0.3));\n",
              "      fill: #FFFFFF;\n",
              "    }\n",
              "  </style>\n",
              "\n",
              "      <script>\n",
              "        const buttonEl =\n",
              "          document.querySelector('#df-3e0bee3d-843e-4b74-bea5-2c715b3b9bbc button.colab-df-convert');\n",
              "        buttonEl.style.display =\n",
              "          google.colab.kernel.accessAllowed ? 'block' : 'none';\n",
              "\n",
              "        async function convertToInteractive(key) {\n",
              "          const element = document.querySelector('#df-3e0bee3d-843e-4b74-bea5-2c715b3b9bbc');\n",
              "          const dataTable =\n",
              "            await google.colab.kernel.invokeFunction('convertToInteractive',\n",
              "                                                     [key], {});\n",
              "          if (!dataTable) return;\n",
              "\n",
              "          const docLinkHtml = 'Like what you see? Visit the ' +\n",
              "            '<a target=\"_blank\" href=https://colab.research.google.com/notebooks/data_table.ipynb>data table notebook</a>'\n",
              "            + ' to learn more about interactive tables.';\n",
              "          element.innerHTML = '';\n",
              "          dataTable['output_type'] = 'display_data';\n",
              "          await google.colab.output.renderOutput(dataTable, element);\n",
              "          const docLink = document.createElement('div');\n",
              "          docLink.innerHTML = docLinkHtml;\n",
              "          element.appendChild(docLink);\n",
              "        }\n",
              "      </script>\n",
              "    </div>\n",
              "  </div>\n",
              "  "
            ]
          },
          "metadata": {},
          "execution_count": 102
        }
      ],
      "source": [
        "adult_data_url = 'https://raw.githubusercontent.com/radiukpavlo/intelligent-data-analysis/main/02_assignments/ida_lab-01_adult_pandas/adult.data.csv'\n",
        "\n",
        "data = pd.read_csv(adult_data_url)\n",
        "data.head()"
      ]
    },
    {
      "cell_type": "markdown",
      "metadata": {
        "id": "dbDV0flB6ywT"
      },
      "source": [
        "-----\n",
        "<a class=\"anchor\" id=\"lab-1.2\"></a>"
      ]
    },
    {
      "cell_type": "markdown",
      "metadata": {
        "id": "0LAKuiVt6ywU"
      },
      "source": [
        "## <span style=\"color:blue; font-size:1.2em;\">1.2. Завдання</span>\n",
        "\n",
        "[Повернутися до змісту](#lab-1)"
      ]
    },
    {
      "cell_type": "markdown",
      "metadata": {
        "id": "4ui7le9I6ywU"
      },
      "source": [
        "Варіанти завдань відповідають списку студентв групі. Дайте відповіді на запитання з використанням бібліотеки `Pandas`."
      ]
    },
    {
      "cell_type": "markdown",
      "metadata": {
        "id": "n5r2Xnls6ywU"
      },
      "source": [
        "### <span style=\"color:red; font-size:1.5em;\">Завдання 1</span>\n",
        "\n",
        "**Для варіантів 1-10:**\n",
        "\n",
        "Яку кількість чоловіків (ознака *sex*) подано в наборі даних UCI Adult Data Set?\n",
        "\n",
        "**Для варіантів 11-20:**\n",
        "\n",
        "Яку кількість жінок (ознака *sex*) подано в наборі даних UCI Adult Data Set?"
      ]
    },
    {
      "cell_type": "code",
      "execution_count": 4,
      "metadata": {
        "id": "6oW40LeM6ywU",
        "outputId": "87624622-9316-4443-c404-d1c0fc1c7938",
        "colab": {
          "base_uri": "https://localhost:8080/"
        }
      },
      "outputs": [
        {
          "output_type": "execute_result",
          "data": {
            "text/plain": [
              "Male      21790\n",
              "Female    10771\n",
              "Name: sex, dtype: int64"
            ]
          },
          "metadata": {},
          "execution_count": 4
        }
      ],
      "source": [
        "# Ваш код тут\n",
        "data['sex'].value_counts()"
      ]
    },
    {
      "cell_type": "markdown",
      "metadata": {
        "id": "zMer8mSQ6ywV"
      },
      "source": [
        "### <span style=\"color:red; font-size:1.5em;\">Завдання 2</span>\n",
        "\n",
        "**Для варіантів 1-10:**\n",
        "\n",
        "Який середній вік (ознака *age*) жінок?\n",
        "\n",
        "**Для варіантів 11-20:**\n",
        "\n",
        "Який середній вік (ознака *age*) чоловіків?"
      ]
    },
    {
      "cell_type": "code",
      "execution_count": 6,
      "metadata": {
        "id": "yj_v38df6ywV",
        "outputId": "d061c5cf-b4ac-4589-921a-7beff9c66814",
        "colab": {
          "base_uri": "https://localhost:8080/"
        }
      },
      "outputs": [
        {
          "output_type": "execute_result",
          "data": {
            "text/plain": [
              "36.85823043357163"
            ]
          },
          "metadata": {},
          "execution_count": 6
        }
      ],
      "source": [
        "# Ваш код тут\n",
        "data[data['sex'] == 'Female']['age'].mean()"
      ]
    },
    {
      "cell_type": "markdown",
      "metadata": {
        "id": "gNtiTElD6ywV"
      },
      "source": [
        "### <span style=\"color:red; font-size:1.5em;\">Завдання 3</span>\n",
        "\n",
        "**Для варіантів 1-5:**\n",
        "\n",
        "Яка частка громадян Німеччини (у %, ознака *native-country*) в наборі даних?\n",
        "\n",
        "**Для варіантів 6-10:**\n",
        "\n",
        "Яка частка громадян Мексики (у %, ознака *native-country*) в наборі даних?\n",
        "\n",
        "**Для варіантів 11-15:**\n",
        "\n",
        "Яка частка громадян США (у %, ознака *native-country*) в наборі даних?\n",
        "\n",
        "**Для варіантів 16-20:**\n",
        "\n",
        "Яка частка громадян Ірану (у %, ознака *native-country*) в наборі даних?"
      ]
    },
    {
      "cell_type": "code",
      "execution_count": 33,
      "metadata": {
        "id": "oCnHvZzC6ywW",
        "outputId": "faf2d915-1ae8-49ef-d3bf-7ac28f748d9b",
        "colab": {
          "base_uri": "https://localhost:8080/"
        }
      },
      "outputs": [
        {
          "output_type": "execute_result",
          "data": {
            "text/plain": [
              "1.9624704400970485"
            ]
          },
          "metadata": {},
          "execution_count": 33
        }
      ],
      "source": [
        "# Ваш код тут\n",
        "data[data['native-country'] == 'Mexico'].value_counts().count() / data['native-country'].count() * 100"
      ]
    },
    {
      "cell_type": "markdown",
      "metadata": {
        "id": "F94A17oe6ywW"
      },
      "source": [
        "### <span style=\"color:red; font-size:1.5em;\">Завдання 4</span>\n",
        "\n",
        "**Для варіантів 1-10:**\n",
        "\n",
        "Які середні значення і середньоквадратичні відхилення віку тих, хто отримує зарплату не більше 50K на рік (ознака *salary*)?\n",
        "\n",
        "**Для варіантів 11-20:**\n",
        "\n",
        "Які середні значення і середньоквадратичні відхилення віку тих, хто отримує зарплату більше 50K на рік (ознака *salary*)?"
      ]
    },
    {
      "cell_type": "code",
      "execution_count": 184,
      "metadata": {
        "id": "uAGb50ko6ywW",
        "outputId": "2e7d736b-9369-4bec-af4d-f6bc97a7112f",
        "colab": {
          "base_uri": "https://localhost:8080/"
        }
      },
      "outputs": [
        {
          "output_type": "execute_result",
          "data": {
            "text/plain": [
              "count    24720.000000\n",
              "mean        36.783738\n",
              "std         14.020088\n",
              "min         17.000000\n",
              "25%         25.000000\n",
              "50%         34.000000\n",
              "75%         46.000000\n",
              "max         90.000000\n",
              "Name: age, dtype: float64"
            ]
          },
          "metadata": {},
          "execution_count": 184
        }
      ],
      "source": [
        "# Ваш код тут\n",
        "import numpy as np\n",
        "data[data['salary'] == \"<=50K\"].age.describe()\n"
      ]
    },
    {
      "cell_type": "markdown",
      "metadata": {
        "id": "1PfG5M_Q6ywW"
      },
      "source": [
        "### <span style=\"color:red; font-size:1.5em;\">Завдання 5</span>\n",
        "\n",
        "**Для варіантів 1-5:**\n",
        "\n",
        "Яка частка людей, що подані в наборі даних, має вік <20 років?\n",
        "\n",
        "**Для варіантів 6-10:**\n",
        "\n",
        "Яка частка людей, що подані в наборі даних, має вік в діапазоні [20; 30) років?\n",
        "\n",
        "**Для варіантів 11-15:**\n",
        "\n",
        "Яка частка людей, що подані в наборі даних, має вік в діапазоні [30; 50) років?\n",
        "\n",
        "**Для варіантів 16-20:**\n",
        "\n",
        "Яка частка людей, що подані в наборі даних, має вік >=50 років?"
      ]
    },
    {
      "cell_type": "code",
      "execution_count": 43,
      "metadata": {
        "id": "oh09huQ96ywX",
        "outputId": "f66328b3-b964-48d3-bab7-51479e179001",
        "colab": {
          "base_uri": "https://localhost:8080/"
        }
      },
      "outputs": [
        {
          "output_type": "execute_result",
          "data": {
            "text/plain": [
              "0.48456742729031665"
            ]
          },
          "metadata": {},
          "execution_count": 43
        }
      ],
      "source": [
        "# Ваш код тут\n",
        "data[(data['age'] >= 30) & (data['age'] < 50)].value_counts().count() / data['age'].count()"
      ]
    },
    {
      "cell_type": "markdown",
      "metadata": {
        "id": "uuLd5PMx6ywX"
      },
      "source": [
        "### <span style=\"color:red; font-size:1.5em;\">Завдання 6</span>\n",
        "\n",
        "**Для варіантів 1-5:**\n",
        "\n",
        "Скільки людей, що отримують >50K, мають вищу освіту?\n",
        "\n",
        "**Для варіантів 6-10:**\n",
        "\n",
        "Скільки людей, що отримують >50K, не мають вищу освіту?\n",
        "\n",
        "**Для варіантів 11-15:**\n",
        "\n",
        "Скільки людей, що отримують <=50K, мають вищу освіту?\n",
        "\n",
        "**Для варіантів 16-20:**\n",
        "\n",
        "Скільки людей, що отримують <=50K, не мають вищу освіту?\n",
        "\n",
        "**Примітка:** вища освіта відповідає значенням ознаки *education* - Bachelors, Prof-school, Assoc-acdm, Assoc-voc, Masters або Doctorate)"
      ]
    },
    {
      "cell_type": "code",
      "execution_count": 66,
      "metadata": {
        "id": "Mw2AT9uN6ywX",
        "outputId": "3550c1c4-1c4b-42c2-b8d2-bc5715cf75e6",
        "colab": {
          "base_uri": "https://localhost:8080/"
        }
      },
      "outputs": [
        {
          "output_type": "execute_result",
          "data": {
            "text/plain": [
              "22024"
            ]
          },
          "metadata": {},
          "execution_count": 66
        }
      ],
      "source": [
        "# Ваш код тут\n",
        "data.query(\"education != 'Bachelors' & education != 'Prof-school' & education != 'Assoc-acdm' & education != 'Assoc-voc' & education != 'Masters' & education != 'Doctorate'\").value_counts().count()"
      ]
    },
    {
      "cell_type": "markdown",
      "metadata": {
        "id": "tC9AxWUC6ywX"
      },
      "source": [
        "### <span style=\"color:red; font-size:1.5em;\">Завдання 7</span>\n",
        "\n",
        "**Виведіть статистику віку для кожної раси (ознака *race*) та кожної статі (ознака *sex*). Використовуйте `groupby` і `describe`.**\n",
        "\n",
        "**Для варіантів 1-5:**\n",
        "\n",
        "Знайдіть у такий спосіб максимальний вік чоловіків раси *Amer-Indian-Eskimo*.\n",
        "\n",
        "**Для варіантів 6-10:**\n",
        "\n",
        "Знайдіть у такий спосіб максимальний вік жінок раси *Asian-Pac-Islander*.\n",
        "\n",
        "**Для варіантів 11-15:**\n",
        "\n",
        "Знайдіть у такий спосіб максимальний вік чоловіків раси *Black*.\n",
        "\n",
        "**Для варіантів 16-20:**\n",
        "\n",
        "Знайдіть у такий спосіб максимальний вік жінок раси *White*."
      ]
    },
    {
      "cell_type": "code",
      "execution_count": 175,
      "metadata": {
        "id": "_oOwzJgr6ywX",
        "outputId": "739b2acd-d70a-4cdb-b146-33dc73c4f4c3",
        "colab": {
          "base_uri": "https://localhost:8080/",
          "height": 426
        }
      },
      "outputs": [
        {
          "output_type": "execute_result",
          "data": {
            "text/plain": [
              "                               age                                        \n",
              "                             count       mean        std   min   50%   max\n",
              "sex    race                                                               \n",
              "Female Amer-Indian-Eskimo    119.0  37.117647  13.114991  17.0  36.0  80.0\n",
              "       Asian-Pac-Islander    346.0  35.089595  12.300845  17.0  33.0  75.0\n",
              "       Black                1555.0  37.854019  12.637197  17.0  37.0  90.0\n",
              "       Other                 109.0  31.678899  11.631599  17.0  29.0  74.0\n",
              "       White                8642.0  36.811618  14.329093  17.0  35.0  90.0\n",
              "Male   Amer-Indian-Eskimo    192.0  37.208333  12.049563  17.0  35.0  82.0\n",
              "       Asian-Pac-Islander    693.0  39.073593  12.883944  18.0  37.0  90.0\n",
              "       Black                1569.0  37.682600  12.882612  17.0  36.0  90.0\n",
              "       Other                 162.0  34.654321  11.355531  17.0  32.0  77.0\n",
              "       White               19174.0  39.652498  13.436029  17.0  38.0  90.0"
            ],
            "text/html": [
              "\n",
              "  <div id=\"df-46620965-82c0-4e50-8c6f-691f1413472e\">\n",
              "    <div class=\"colab-df-container\">\n",
              "      <div>\n",
              "<style scoped>\n",
              "    .dataframe tbody tr th:only-of-type {\n",
              "        vertical-align: middle;\n",
              "    }\n",
              "\n",
              "    .dataframe tbody tr th {\n",
              "        vertical-align: top;\n",
              "    }\n",
              "\n",
              "    .dataframe thead tr th {\n",
              "        text-align: left;\n",
              "    }\n",
              "\n",
              "    .dataframe thead tr:last-of-type th {\n",
              "        text-align: right;\n",
              "    }\n",
              "</style>\n",
              "<table border=\"1\" class=\"dataframe\">\n",
              "  <thead>\n",
              "    <tr>\n",
              "      <th></th>\n",
              "      <th></th>\n",
              "      <th colspan=\"6\" halign=\"left\">age</th>\n",
              "    </tr>\n",
              "    <tr>\n",
              "      <th></th>\n",
              "      <th></th>\n",
              "      <th>count</th>\n",
              "      <th>mean</th>\n",
              "      <th>std</th>\n",
              "      <th>min</th>\n",
              "      <th>50%</th>\n",
              "      <th>max</th>\n",
              "    </tr>\n",
              "    <tr>\n",
              "      <th>sex</th>\n",
              "      <th>race</th>\n",
              "      <th></th>\n",
              "      <th></th>\n",
              "      <th></th>\n",
              "      <th></th>\n",
              "      <th></th>\n",
              "      <th></th>\n",
              "    </tr>\n",
              "  </thead>\n",
              "  <tbody>\n",
              "    <tr>\n",
              "      <th rowspan=\"5\" valign=\"top\">Female</th>\n",
              "      <th>Amer-Indian-Eskimo</th>\n",
              "      <td>119.0</td>\n",
              "      <td>37.117647</td>\n",
              "      <td>13.114991</td>\n",
              "      <td>17.0</td>\n",
              "      <td>36.0</td>\n",
              "      <td>80.0</td>\n",
              "    </tr>\n",
              "    <tr>\n",
              "      <th>Asian-Pac-Islander</th>\n",
              "      <td>346.0</td>\n",
              "      <td>35.089595</td>\n",
              "      <td>12.300845</td>\n",
              "      <td>17.0</td>\n",
              "      <td>33.0</td>\n",
              "      <td>75.0</td>\n",
              "    </tr>\n",
              "    <tr>\n",
              "      <th>Black</th>\n",
              "      <td>1555.0</td>\n",
              "      <td>37.854019</td>\n",
              "      <td>12.637197</td>\n",
              "      <td>17.0</td>\n",
              "      <td>37.0</td>\n",
              "      <td>90.0</td>\n",
              "    </tr>\n",
              "    <tr>\n",
              "      <th>Other</th>\n",
              "      <td>109.0</td>\n",
              "      <td>31.678899</td>\n",
              "      <td>11.631599</td>\n",
              "      <td>17.0</td>\n",
              "      <td>29.0</td>\n",
              "      <td>74.0</td>\n",
              "    </tr>\n",
              "    <tr>\n",
              "      <th>White</th>\n",
              "      <td>8642.0</td>\n",
              "      <td>36.811618</td>\n",
              "      <td>14.329093</td>\n",
              "      <td>17.0</td>\n",
              "      <td>35.0</td>\n",
              "      <td>90.0</td>\n",
              "    </tr>\n",
              "    <tr>\n",
              "      <th rowspan=\"5\" valign=\"top\">Male</th>\n",
              "      <th>Amer-Indian-Eskimo</th>\n",
              "      <td>192.0</td>\n",
              "      <td>37.208333</td>\n",
              "      <td>12.049563</td>\n",
              "      <td>17.0</td>\n",
              "      <td>35.0</td>\n",
              "      <td>82.0</td>\n",
              "    </tr>\n",
              "    <tr>\n",
              "      <th>Asian-Pac-Islander</th>\n",
              "      <td>693.0</td>\n",
              "      <td>39.073593</td>\n",
              "      <td>12.883944</td>\n",
              "      <td>18.0</td>\n",
              "      <td>37.0</td>\n",
              "      <td>90.0</td>\n",
              "    </tr>\n",
              "    <tr>\n",
              "      <th>Black</th>\n",
              "      <td>1569.0</td>\n",
              "      <td>37.682600</td>\n",
              "      <td>12.882612</td>\n",
              "      <td>17.0</td>\n",
              "      <td>36.0</td>\n",
              "      <td>90.0</td>\n",
              "    </tr>\n",
              "    <tr>\n",
              "      <th>Other</th>\n",
              "      <td>162.0</td>\n",
              "      <td>34.654321</td>\n",
              "      <td>11.355531</td>\n",
              "      <td>17.0</td>\n",
              "      <td>32.0</td>\n",
              "      <td>77.0</td>\n",
              "    </tr>\n",
              "    <tr>\n",
              "      <th>White</th>\n",
              "      <td>19174.0</td>\n",
              "      <td>39.652498</td>\n",
              "      <td>13.436029</td>\n",
              "      <td>17.0</td>\n",
              "      <td>38.0</td>\n",
              "      <td>90.0</td>\n",
              "    </tr>\n",
              "  </tbody>\n",
              "</table>\n",
              "</div>\n",
              "      <button class=\"colab-df-convert\" onclick=\"convertToInteractive('df-46620965-82c0-4e50-8c6f-691f1413472e')\"\n",
              "              title=\"Convert this dataframe to an interactive table.\"\n",
              "              style=\"display:none;\">\n",
              "        \n",
              "  <svg xmlns=\"http://www.w3.org/2000/svg\" height=\"24px\"viewBox=\"0 0 24 24\"\n",
              "       width=\"24px\">\n",
              "    <path d=\"M0 0h24v24H0V0z\" fill=\"none\"/>\n",
              "    <path d=\"M18.56 5.44l.94 2.06.94-2.06 2.06-.94-2.06-.94-.94-2.06-.94 2.06-2.06.94zm-11 1L8.5 8.5l.94-2.06 2.06-.94-2.06-.94L8.5 2.5l-.94 2.06-2.06.94zm10 10l.94 2.06.94-2.06 2.06-.94-2.06-.94-.94-2.06-.94 2.06-2.06.94z\"/><path d=\"M17.41 7.96l-1.37-1.37c-.4-.4-.92-.59-1.43-.59-.52 0-1.04.2-1.43.59L10.3 9.45l-7.72 7.72c-.78.78-.78 2.05 0 2.83L4 21.41c.39.39.9.59 1.41.59.51 0 1.02-.2 1.41-.59l7.78-7.78 2.81-2.81c.8-.78.8-2.07 0-2.86zM5.41 20L4 18.59l7.72-7.72 1.47 1.35L5.41 20z\"/>\n",
              "  </svg>\n",
              "      </button>\n",
              "      \n",
              "  <style>\n",
              "    .colab-df-container {\n",
              "      display:flex;\n",
              "      flex-wrap:wrap;\n",
              "      gap: 12px;\n",
              "    }\n",
              "\n",
              "    .colab-df-convert {\n",
              "      background-color: #E8F0FE;\n",
              "      border: none;\n",
              "      border-radius: 50%;\n",
              "      cursor: pointer;\n",
              "      display: none;\n",
              "      fill: #1967D2;\n",
              "      height: 32px;\n",
              "      padding: 0 0 0 0;\n",
              "      width: 32px;\n",
              "    }\n",
              "\n",
              "    .colab-df-convert:hover {\n",
              "      background-color: #E2EBFA;\n",
              "      box-shadow: 0px 1px 2px rgba(60, 64, 67, 0.3), 0px 1px 3px 1px rgba(60, 64, 67, 0.15);\n",
              "      fill: #174EA6;\n",
              "    }\n",
              "\n",
              "    [theme=dark] .colab-df-convert {\n",
              "      background-color: #3B4455;\n",
              "      fill: #D2E3FC;\n",
              "    }\n",
              "\n",
              "    [theme=dark] .colab-df-convert:hover {\n",
              "      background-color: #434B5C;\n",
              "      box-shadow: 0px 1px 3px 1px rgba(0, 0, 0, 0.15);\n",
              "      filter: drop-shadow(0px 1px 2px rgba(0, 0, 0, 0.3));\n",
              "      fill: #FFFFFF;\n",
              "    }\n",
              "  </style>\n",
              "\n",
              "      <script>\n",
              "        const buttonEl =\n",
              "          document.querySelector('#df-46620965-82c0-4e50-8c6f-691f1413472e button.colab-df-convert');\n",
              "        buttonEl.style.display =\n",
              "          google.colab.kernel.accessAllowed ? 'block' : 'none';\n",
              "\n",
              "        async function convertToInteractive(key) {\n",
              "          const element = document.querySelector('#df-46620965-82c0-4e50-8c6f-691f1413472e');\n",
              "          const dataTable =\n",
              "            await google.colab.kernel.invokeFunction('convertToInteractive',\n",
              "                                                     [key], {});\n",
              "          if (!dataTable) return;\n",
              "\n",
              "          const docLinkHtml = 'Like what you see? Visit the ' +\n",
              "            '<a target=\"_blank\" href=https://colab.research.google.com/notebooks/data_table.ipynb>data table notebook</a>'\n",
              "            + ' to learn more about interactive tables.';\n",
              "          element.innerHTML = '';\n",
              "          dataTable['output_type'] = 'display_data';\n",
              "          await google.colab.output.renderOutput(dataTable, element);\n",
              "          const docLink = document.createElement('div');\n",
              "          docLink.innerHTML = docLinkHtml;\n",
              "          element.appendChild(docLink);\n",
              "        }\n",
              "      </script>\n",
              "    </div>\n",
              "  </div>\n",
              "  "
            ]
          },
          "metadata": {},
          "execution_count": 175
        }
      ],
      "source": [
        "# Ваш код тут\n",
        "columns_to_show = ['age']\n",
        "df_gr = data.groupby(['sex', 'race'])[columns_to_show]\n",
        "df_gr.describe(percentiles=[])"
      ]
    },
    {
      "cell_type": "markdown",
      "metadata": {
        "id": "Dl88vG3P6ywY"
      },
      "source": [
        "### <span style=\"color:red; font-size:1.5em;\">Завдання 8</span>\n",
        "\n",
        "Для варіантів 1-5:\n",
        "\n",
        "**Хто заробляє більше (>50K): одружені чи неодружені чоловіки (ознака *marital-status*)?**\n",
        "\n",
        "Для варіантів 6-10:\n",
        "\n",
        "**Люди з якою освітою заробляють більше (>50K) (ознака *education*)?**\n",
        "\n",
        "Для варіантів 11-15:\n",
        "\n",
        "**Представники якої професії заробляють більше (>50K) (ознака *occupation*)?**\n",
        "\n",
        "Для варіантів 16-20:\n",
        "\n",
        "**Пердставники якого робітничого класу заробляють більше (>50K) (ознака *workclass*)?**\n",
        "\n",
        "***Примітка:*** одруженими вважаємо тих, у кого *marital-status* починається з *Married* (Married-civ-spouse, Married-spouse-absent або Married-AF-spouse), інших вважаємо холостими."
      ]
    },
    {
      "cell_type": "code",
      "execution_count": 129,
      "metadata": {
        "id": "f676kk5O6ywY",
        "outputId": "43ee8f74-3228-4824-d403-c8beaab5b3f0",
        "colab": {
          "base_uri": "https://localhost:8080/"
        }
      },
      "outputs": [
        {
          "output_type": "execute_result",
          "data": {
            "text/plain": [
              "education     salary\n",
              "10th          >50K        62\n",
              "11th          >50K        60\n",
              "12th          >50K        33\n",
              "1st-4th       >50K         6\n",
              "5th-6th       >50K        16\n",
              "7th-8th       >50K        40\n",
              "9th           >50K        27\n",
              "Assoc-acdm    >50K       265\n",
              "Assoc-voc     >50K       361\n",
              "Bachelors     >50K      2221\n",
              "Doctorate     >50K       306\n",
              "HS-grad       >50K      1675\n",
              "Masters       >50K       959\n",
              "Prof-school   >50K       423\n",
              "Some-college  >50K      1387\n",
              "Name: salary, dtype: int64"
            ]
          },
          "metadata": {},
          "execution_count": 129
        }
      ],
      "source": [
        "# Ваш код тут\n",
        "\n",
        "data[data['salary'] == '>50K'].groupby('education')['salary'].value_counts()\n"
      ]
    },
    {
      "cell_type": "markdown",
      "metadata": {
        "id": "QytRxSVo6ywY"
      },
      "source": [
        "### <span style=\"color:red; font-size:1.5em;\">Завдання 9</span>\n",
        "\n",
        "***Для всіх варіантів*: обрахуйте мінімальну та максимальну кількість робочих годин (ознака *hours-per-week*).**\n",
        "\n",
        "**Для варіантів 1-5:**\n",
        "\n",
        "Скільки людей працюють максимальну кількість годин і який поміж них відсоток заробляє багато (>50K)?\n",
        "\n",
        "**Для варіантів 6-10:**\n",
        "\n",
        "Скільки людей працюють максимальну кількість годин і який поміж них відсоток заробляє мало (<=50K)?\n",
        "\n",
        "**Для варіантів 11-15:**\n",
        "\n",
        "Скільки людей працюють мінімальну кількість годин і який поміж них відсоток заробляє багато (>50K)?\n",
        "\n",
        "**Для варіантів 16-20:**\n",
        "\n",
        "Скільки людей працюють мінімальну кількість годин і який поміж них відсоток заробляє мало (<=50K)?"
      ]
    },
    {
      "cell_type": "code",
      "execution_count": 168,
      "metadata": {
        "id": "tBW8pZJU6ywY",
        "outputId": "2c7245bc-0047-4f9a-dc72-8e5b7650b4eb",
        "colab": {
          "base_uri": "https://localhost:8080/"
        }
      },
      "outputs": [
        {
          "output_type": "execute_result",
          "data": {
            "text/plain": [
              "70.58823529411765"
            ]
          },
          "metadata": {},
          "execution_count": 168
        }
      ],
      "source": [
        "# Ваш код тут\n",
        "data_f = data[data['hours-per-week'] == data['hours-per-week'].max()]\n",
        "count_max = data_f.value_counts().count()\n",
        "data_f[data_f['salary'] == '<=50K'].value_counts().count() / count_max * 100"
      ]
    },
    {
      "cell_type": "markdown",
      "metadata": {
        "id": "8IAqlJ6h6ywY"
      },
      "source": [
        "### <span style=\"color:red; font-size:1.5em;\">Завдання 10</span>\n",
        "\n",
        "**Для варіантів 1-5:**\n",
        "\n",
        "Обрахуйте середній час роботи (*hours-per-week*) тих людей, хто заробляє мало і багато (*salary*) для кожної країни (*native-country*).\n",
        "\n",
        "**Для варіантів 6-10:**\n",
        "\n",
        "Обрахуйте середній час роботи (*hours-per-week*) тих людей, хто заробляє мало і багато (*salary*) для кожної раси (*race*).\n",
        "\n",
        "**Для варіантів 11-15:**\n",
        "\n",
        "Обрахуйте середній час роботи (*hours-per-week*) тих людей, хто заробляє мало і багато (*salary*) для обох статей (*sex*).\n",
        "\n",
        "**Для варіантів 16-20:**\n",
        "\n",
        "Обрахуйте середній час роботи (*hours-per-week*) тих людей, хто заробляє мало і багато (*salary*) для кожної робочої позиції (*occupation*)."
      ]
    },
    {
      "cell_type": "code",
      "execution_count": 153,
      "metadata": {
        "tags": [],
        "id": "8k-n9VkF6ywY",
        "outputId": "9efd8761-30e2-4b24-8991-6abe7de88a59",
        "colab": {
          "base_uri": "https://localhost:8080/"
        }
      },
      "outputs": [
        {
          "output_type": "execute_result",
          "data": {
            "text/plain": [
              "race                salary\n",
              "Amer-Indian-Eskimo  <=50K     39.410909\n",
              "                    >50K      44.916667\n",
              "Asian-Pac-Islander  <=50K     38.425950\n",
              "                    >50K      44.829710\n",
              "Black               <=50K     37.580197\n",
              "                    >50K      44.382429\n",
              "Other               <=50K     38.914634\n",
              "                    >50K      44.920000\n",
              "White               <=50K     39.013624\n",
              "                    >50K      45.562035\n",
              "Name: hours-per-week, dtype: float64"
            ]
          },
          "metadata": {},
          "execution_count": 153
        }
      ],
      "source": [
        "# Ваш код тут\n",
        "data.groupby(['race', 'salary'])['hours-per-week'].mean()"
      ]
    }
  ],
  "metadata": {
    "anaconda-cloud": {},
    "kernelspec": {
      "display_name": "Python 3 (ipykernel)",
      "language": "python",
      "name": "python3"
    },
    "language_info": {
      "codemirror_mode": {
        "name": "ipython",
        "version": 3
      },
      "file_extension": ".py",
      "mimetype": "text/x-python",
      "name": "python",
      "nbconvert_exporter": "python",
      "pygments_lexer": "ipython3",
      "version": "3.9.12"
    },
    "colab": {
      "provenance": [],
      "toc_visible": true
    }
  },
  "nbformat": 4,
  "nbformat_minor": 0
}