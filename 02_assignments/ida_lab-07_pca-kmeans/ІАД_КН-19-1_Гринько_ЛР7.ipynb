{
  "cells": [
    {
      "cell_type": "markdown",
      "metadata": {
        "id": "3RY2ooiTskvK"
      },
      "source": [
        "<h1><center>Лабораторна робота 7.</center></h1>\n",
        "<h2><center>Аналіз активності людини за відкритими даними мобільних телефонів</center></h2>"
      ]
    },
    {
      "cell_type": "markdown",
      "metadata": {
        "id": "polHVFiQskvN"
      },
      "source": [
        "**Виконав:** Прізвище І.П.\n",
        "\n",
        "**Варіант:** №__"
      ]
    },
    {
      "cell_type": "markdown",
      "metadata": {
        "id": "N-tKXj6iskvO"
      },
      "source": [
        "<a class=\"anchor\" id=\"lab-7\"></a>"
      ]
    },
    {
      "cell_type": "markdown",
      "metadata": {
        "id": "m41kxtw9skvP"
      },
      "source": [
        "## Зміст\n",
        "\n",
        "- [7.1. Завантаження та підготовка даних](#lab-7.1)\n",
        "- [7.2. Застосування методу головних компонент](#lab-7.2)  \n",
        "- [7.3. Застосування *k*-means](#lab-7.3)\n",
        "- [7.4. Агломератична кластеризація](#lab-7.4)\n",
        "- [7.5. Застосування класифікатора після кластеризації](#lab-7.5)\n",
        "- [7.6. Кластеризація із методом головних компонент](#lab-7.6)"
      ]
    },
    {
      "cell_type": "markdown",
      "metadata": {
        "id": "S66q9cipskvQ"
      },
      "source": [
        "<a class=\"anchor\" id=\"lab-7.1\"></a>"
      ]
    },
    {
      "cell_type": "markdown",
      "metadata": {
        "id": "bymM1aWfskvQ"
      },
      "source": [
        "## <span style=\"color:blue; font-size:1.2em;\">7.1. Завантаження та підготовка даних</span>\n",
        "\n",
        "[Повернутися до змісту](#lab-7)"
      ]
    },
    {
      "cell_type": "markdown",
      "metadata": {
        "id": "wf2qrhFxskvQ"
      },
      "source": [
        "У цій лабораторній робота Вам потрібно розібратися з тим, як працюють методи пониження розмірності й кластеризації даних. Крім того, ще раз попрактикуємося із задачею класифікації.\n",
        "\n",
        "Тут ми працюватимемо з набором даних [Samsung Human Activity Recognition](https://archive.ics.uci.edu/ml/datasets/Human+Activity+Recognition+Using+Smartphones). Завантажте дані з [репозиторію](https://github.com/radiukpavlo/intelligent-data-analysis/blob/main/02_assignments/ida_lab-07_pca-kmeans/samsung_HAR.zip) на GitHub.\n",
        "\n",
        "Дані взято з акселерометрів і гіроскопів мобільних телефонів Samsung Galaxy S3 (докладніше щодо ознак – за посиланням на UCI вище), також відомий вид активності людини з телефоном в кишені – чи ходила людина, стояла, лежала, сиділа або йшла вгору/вниз сходами.\n",
        "\n",
        "Спершу представимо, що вид активності нам невідомий, і спробуємо кластеризувати людей лише на основі наявних свідчень. Далі розв'яжемо завдання визначення виду фізичної активності саме як задачу класифікації."
      ]
    },
    {
      "cell_type": "code",
      "execution_count": 1,
      "metadata": {
        "tags": [],
        "id": "tHSqwLTxskvR"
      },
      "outputs": [],
      "source": [
        "import numpy as np\n",
        "import pandas as pd\n",
        "import seaborn as sns\n",
        "\n",
        "from tqdm import tqdm_notebook\n",
        "\n",
        "%matplotlib inline\n",
        "from matplotlib import pyplot as plt\n",
        "plt.style.use(['seaborn-darkgrid'])\n",
        "plt.rcParams['figure.figsize'] = (12, 9)\n",
        "plt.rcParams['font.family'] = 'DejaVu Sans'\n",
        "\n",
        "from sklearn import metrics\n",
        "from sklearn.cluster import MiniBatchKMeans, AgglomerativeClustering, SpectralClustering\n",
        "from sklearn.decomposition import PCA\n",
        "from sklearn.model_selection import GridSearchCV\n",
        "from sklearn.preprocessing import StandardScaler\n",
        "from sklearn.svm import LinearSVC\n",
        "\n",
        "RANDOM_STATE = 17"
      ]
    },
    {
      "cell_type": "code",
      "execution_count": 10,
      "metadata": {
        "id": "M1WQZIQFskvT",
        "outputId": "f4e2125f-7401-4dbf-d666-611f0f0bff71",
        "colab": {
          "base_uri": "https://localhost:8080/"
        }
      },
      "outputs": [
        {
          "output_type": "stream",
          "name": "stdout",
          "text": [
            "Drive already mounted at /content/drive; to attempt to forcibly remount, call drive.mount(\"/content/drive\", force_remount=True).\n"
          ]
        }
      ],
      "source": [
        "# Завантаження даних, якщо код пишеться в Google Colab\n",
        "\n",
        "# Підключаємо додаткові бібліотеки для під'єднання Google Colab до власного Googgle Drive\n",
        "from google.colab import drive\n",
        "drive.mount('/content/drive')\n",
        "\n",
        "# Текстові дані потрібно розмістити за наведеним нижче шляхом для кожного текстового файлу.\n",
        "# Можливо шлях зміниться, залежно від вашого робочого середовища.\n",
        "X_train = np.loadtxt(\"https://raw.githubusercontent.com/radiukpavlo/intelligent-data-analysis/812a3f66a744bf99069b49e5162084526f740b2d/02_assignments/ida_lab-07_pca-kmeans/samsung_HAR/samsung_train.txt\")\n",
        "y_train = np.loadtxt(\"https://raw.githubusercontent.com/radiukpavlo/intelligent-data-analysis/812a3f66a744bf99069b49e5162084526f740b2d/02_assignments/ida_lab-07_pca-kmeans/samsung_HAR/samsung_train_labels.txt\").astype(int)\n",
        "\n",
        "X_test = np.loadtxt(\"https://raw.githubusercontent.com/radiukpavlo/intelligent-data-analysis/812a3f66a744bf99069b49e5162084526f740b2d/02_assignments/ida_lab-07_pca-kmeans/samsung_HAR/samsung_test.txt\")\n",
        "y_test = np.loadtxt(\"https://raw.githubusercontent.com/radiukpavlo/intelligent-data-analysis/812a3f66a744bf99069b49e5162084526f740b2d/02_assignments/ida_lab-07_pca-kmeans/samsung_HAR/samsung_test_labels.txt\").astype(int)\n",
        "\n"
      ]
    },
    {
      "cell_type": "code",
      "execution_count": 11,
      "metadata": {
        "tags": [],
        "id": "6rICI1zuskvU"
      },
      "outputs": [],
      "source": [
        "# Перевіримо розмірності\n",
        "assert(X_train.shape == (7352, 561) and y_train.shape == (7352,))\n",
        "assert(X_test.shape == (2947, 561) and y_test.shape == (2947,))"
      ]
    },
    {
      "cell_type": "markdown",
      "metadata": {
        "id": "Z8dTYobVskvV"
      },
      "source": [
        "Для кластеризації нам не потрібен вектор відповідей, тому будемо працювати з об'єднанням навчальної та тестової вибірок. Об'єднаємо `X_train` з `X_test` та `y_train` з `y_test`."
      ]
    },
    {
      "cell_type": "code",
      "execution_count": 12,
      "metadata": {
        "tags": [],
        "id": "ydiKfQrJskvV"
      },
      "outputs": [],
      "source": [
        "X = np.vstack([X_train, X_test])\n",
        "y = np.hstack([y_train, y_test])"
      ]
    },
    {
      "cell_type": "markdown",
      "metadata": {
        "id": "hT9sAmg-skvV"
      },
      "source": [
        "Визначимо кількість унікальних значень міток цільового класу."
      ]
    },
    {
      "cell_type": "code",
      "execution_count": 13,
      "metadata": {
        "id": "0kveM-JBskvV",
        "outputId": "40c4ef9b-f434-4f5a-c59e-7d1e3411bff8",
        "colab": {
          "base_uri": "https://localhost:8080/"
        }
      },
      "outputs": [
        {
          "output_type": "execute_result",
          "data": {
            "text/plain": [
              "array([1, 2, 3, 4, 5, 6])"
            ]
          },
          "metadata": {},
          "execution_count": 13
        }
      ],
      "source": [
        "np.unique(y)"
      ]
    },
    {
      "cell_type": "code",
      "execution_count": 14,
      "metadata": {
        "id": "hpT2e3QXskvV",
        "outputId": "4ec45f8d-d01b-4e8d-e5a1-822b15786906",
        "colab": {
          "base_uri": "https://localhost:8080/"
        }
      },
      "outputs": [
        {
          "output_type": "execute_result",
          "data": {
            "text/plain": [
              "6"
            ]
          },
          "metadata": {},
          "execution_count": 14
        }
      ],
      "source": [
        "n_classes = np.unique(y).size\n",
        "n_classes"
      ]
    },
    {
      "cell_type": "markdown",
      "metadata": {
        "id": "TwNNpcmHskvW"
      },
      "source": [
        "Ці мітки [відповідають](https://archive.ics.uci.edu/ml/machine-learning-databases/00240/UCI%20HAR%20Dataset.names) таким значенням:\n",
        "- 1 – ходьба;\n",
        "- 2 – підйом вгору сходами;\n",
        "- 3 – спуску вниз сходами;\n",
        "- 4 – сидіння;\n",
        "- 5 – стояння;\n",
        "- 6 – лежання."
      ]
    },
    {
      "cell_type": "markdown",
      "metadata": {
        "id": "AcLZKPsFskvW"
      },
      "source": [
        "Виконаємо масштабування вибірки за допомогою `StandardScaler` з параметрами за замовчуванням:"
      ]
    },
    {
      "cell_type": "code",
      "execution_count": 15,
      "metadata": {
        "tags": [],
        "id": "mCWJ5vXsskvW"
      },
      "outputs": [],
      "source": [
        "scaler = StandardScaler()\n",
        "X_scaled = scaler.fit_transform(X)"
      ]
    },
    {
      "cell_type": "markdown",
      "metadata": {
        "id": "FKIU3Io8skvW"
      },
      "source": [
        "------------------------"
      ]
    },
    {
      "cell_type": "markdown",
      "metadata": {
        "id": "37_pfXVHskvW"
      },
      "source": [
        "<a class=\"anchor\" id=\"lab-7.2\"></a>"
      ]
    },
    {
      "cell_type": "markdown",
      "metadata": {
        "id": "gMYneF7fskvW"
      },
      "source": [
        "## <span style=\"color:blue; font-size:1.2em;\">7.2. Застосування методу головних компонент</span>\n",
        "\n",
        "[Повернутися до змісту](#lab-7)"
      ]
    },
    {
      "cell_type": "markdown",
      "metadata": {
        "id": "HHDM2rnMskvX"
      },
      "source": [
        "Виконайте зниження розмірності даних за допомогою PCA. Залишіть таку кількість компонент, щоби пояснити як мінімум 90% дисперсії оброблених (масштабованих) даних. Використовуйте масштабовану вибірку й зафіксуйте random_state (константа RANDOM_STATE)."
      ]
    },
    {
      "cell_type": "code",
      "execution_count": 16,
      "metadata": {
        "tags": [],
        "id": "1scjSrciskvX"
      },
      "outputs": [],
      "source": [
        "# Ваш код тут\n",
        "pca = PCA(0.90, random_state=RANDOM_STATE)\n",
        "X_pca = pca.fit_transform(X_scaled)"
      ]
    },
    {
      "cell_type": "code",
      "execution_count": 17,
      "metadata": {
        "id": "oTauqIstskvX",
        "outputId": "a0961431-ac57-4bab-e820-6bca15614487",
        "colab": {
          "base_uri": "https://localhost:8080/"
        }
      },
      "outputs": [
        {
          "output_type": "execute_result",
          "data": {
            "text/plain": [
              "(10299, 65)"
            ]
          },
          "metadata": {},
          "execution_count": 17
        }
      ],
      "source": [
        "# Переглядаємо кількість компонент\n",
        "X_pca.shape"
      ]
    },
    {
      "cell_type": "markdown",
      "metadata": {
        "id": "uNVgS163skvX"
      },
      "source": [
        "### <span style=\"color:red; font-size:1.5em;\">Завдання 1</span>\n",
        "\n",
        "\n",
        "**Для варіантів 1-5:**\n",
        "\n",
        "Виконайте ще одне пониження розмірності даних, але для пояснення 100% дисперсії. Порівняйте результати з точки зору необхідної кількості компонент.\n",
        "\n",
        "**Для варіантів 6-10:**\n",
        "\n",
        "Яку мінімальну кількість головних компонент потрібно виділити, щоб пояснити 90% дисперсії початкових (масштабованих) даних? \n",
        "\n",
        "**Для варіантів 11-15:**\n",
        "\n",
        "Скільки відсотків дисперсії припадає на першу головну компоненту? Використайте метод `explained_variance_ratio_`. Результат округліть до сотих.\n",
        "\n",
        "**Для варіантів 16-20:**\n",
        "\n",
        "Виведіть номер головної компоненти, на яку припадає найбільший % дисперсії (для 90% дисперсії). Використайте метод `explained_variance_ratio_`."
      ]
    },
    {
      "cell_type": "markdown",
      "metadata": {
        "id": "uzBphP8askvX"
      },
      "source": [
        "### <span style=\"color:red; font-size:1.5em;\">Додаткове завдання</span>\n",
        "\n",
        "**Для всіх варіантів:**\n",
        "\n",
        "Відобразіть дані в проекції на перші дві головні компоненти. Для візуалізації використайте `plt.scatter()`. \n",
        "\n",
        "Якщо візуалізацію виконано правильно, Ви побачите скільки-то кластерів, майже ідеально відокремлених один від одного. Які види активності входять в ці кластери?"
      ]
    },
    {
      "cell_type": "markdown",
      "metadata": {
        "id": "0zFhwgpZskvX"
      },
      "source": [
        "------------------------"
      ]
    },
    {
      "cell_type": "code",
      "source": [
        "len(pca.explained_variance_ratio_)"
      ],
      "metadata": {
        "id": "RU4HaV3Ezl7x",
        "outputId": "f22d5d64-fc23-4f31-d907-939de3bb4e99",
        "colab": {
          "base_uri": "https://localhost:8080/"
        }
      },
      "execution_count": 18,
      "outputs": [
        {
          "output_type": "execute_result",
          "data": {
            "text/plain": [
              "65"
            ]
          },
          "metadata": {},
          "execution_count": 18
        }
      ]
    },
    {
      "cell_type": "code",
      "source": [
        "plt.figure(figsize=(13,10))\n",
        "plt.scatter(X_pca[:, 0], X_pca[:, 1], c=y, s=20, cmap='viridis');\n",
        "plt.colorbar()"
      ],
      "metadata": {
        "id": "YA5Rvb3hztSY",
        "outputId": "8868a0bf-d631-4ecf-f71b-419cefebee2e",
        "colab": {
          "base_uri": "https://localhost:8080/",
          "height": 609
        }
      },
      "execution_count": 19,
      "outputs": [
        {
          "output_type": "execute_result",
          "data": {
            "text/plain": [
              "<matplotlib.colorbar.Colorbar at 0x7fe5e4bc5810>"
            ]
          },
          "metadata": {},
          "execution_count": 19
        },
        {
          "output_type": "display_data",
          "data": {
            "text/plain": [
              "<Figure size 936x720 with 2 Axes>"
            ],
            "image/png": "[encoded data removed]"
          },
          "metadata": {}
        }
      ]
    },
    {
      "cell_type": "markdown",
      "metadata": {
        "id": "UpmBYfgJskvY"
      },
      "source": [
        "## <span style=\"color:blue; font-size:1.2em;\">7.3. Застосування *k*-means</span>\n",
        "\n",
        "[Повернутися до змісту](#lab-7)"
      ]
    },
    {
      "cell_type": "markdown",
      "metadata": {
        "id": "vR6uO4DeskvY"
      },
      "source": [
        "Виконайте кластеризацію даних методом `MiniBatchKmeans`, навчивши модель за даними зі зниженою за рахунок PCA розмірністю. Тут потрібно шукати саме 6 кластерів, але загалом у задачах без вчителя ми не знаємо, яку кількість кластерів треба шукати.\n",
        "\n",
        "Параметри:\n",
        "\n",
        "- **n_clusters** = n_classes (кількість унікальних міток цільового класу);\n",
        "- **n_init** = 100;\n",
        "- **random_state** = RANDOM_STATE (для відтворюваності результату).\n",
        "\n",
        "Інші параметри залишаються за замовчуванням."
      ]
    },
    {
      "cell_type": "code",
      "execution_count": 20,
      "metadata": {
        "id": "y4TprC47skvY"
      },
      "outputs": [],
      "source": [
        "kmeans = MiniBatchKMeans(n_clusters=n_classes, n_init=100, random_state=RANDOM_STATE)\n",
        "kmeans.fit(X_pca)\n",
        "cluster_labels = kmeans.predict(X_pca)"
      ]
    },
    {
      "cell_type": "markdown",
      "metadata": {
        "id": "D6UbZBMSskvY"
      },
      "source": [
        "Перегляньте відповідність між мітками кластерів і початковими мітками класів, а також гляньте на те, які види активностей алгоритм `MiniBatchKmeans` плутає."
      ]
    },
    {
      "cell_type": "code",
      "execution_count": 21,
      "metadata": {
        "id": "6yrY0-ieskvY",
        "outputId": "9b2a1e09-85e8-4dba-fce7-f12707c971ee",
        "colab": {
          "base_uri": "https://localhost:8080/",
          "height": 269
        }
      },
      "outputs": [
        {
          "output_type": "execute_result",
          "data": {
            "text/plain": [
              "                      cluster1  cluster2  cluster3  cluster4  cluster5  \\\n",
              "ходьба                     340         0       240      1017       125   \n",
              "підйом вгору сходами       278         0      1075       179        12   \n",
              "спуск вниз сходами         754         0       163       249       240   \n",
              "сидіння                      0      1631        33         0         0   \n",
              "стояння                      0      1896        10         0         0   \n",
              "лежання                      0        76        35         0         0   \n",
              "всі                       1372      3603      1556      1445       377   \n",
              "\n",
              "                      cluster6    всі  \n",
              "ходьба                       0   1722  \n",
              "підйом вгору сходами         0   1544  \n",
              "спуск вниз сходами           0   1406  \n",
              "сидіння                    113   1777  \n",
              "стояння                      0   1906  \n",
              "лежання                   1833   1944  \n",
              "всі                       1946  10299  "
            ],
            "text/html": [
              "\n",
              "  <div id=\"df-c9ff2f32-ff07-44c9-bbf4-690d40baa45c\">\n",
              "    <div class=\"colab-df-container\">\n",
              "      <div>\n",
              "<style scoped>\n",
              "    .dataframe tbody tr th:only-of-type {\n",
              "        vertical-align: middle;\n",
              "    }\n",
              "\n",
              "    .dataframe tbody tr th {\n",
              "        vertical-align: top;\n",
              "    }\n",
              "\n",
              "    .dataframe thead th {\n",
              "        text-align: right;\n",
              "    }\n",
              "</style>\n",
              "<table border=\"1\" class=\"dataframe\">\n",
              "  <thead>\n",
              "    <tr style=\"text-align: right;\">\n",
              "      <th></th>\n",
              "      <th>cluster1</th>\n",
              "      <th>cluster2</th>\n",
              "      <th>cluster3</th>\n",
              "      <th>cluster4</th>\n",
              "      <th>cluster5</th>\n",
              "      <th>cluster6</th>\n",
              "      <th>всі</th>\n",
              "    </tr>\n",
              "  </thead>\n",
              "  <tbody>\n",
              "    <tr>\n",
              "      <th>ходьба</th>\n",
              "      <td>340</td>\n",
              "      <td>0</td>\n",
              "      <td>240</td>\n",
              "      <td>1017</td>\n",
              "      <td>125</td>\n",
              "      <td>0</td>\n",
              "      <td>1722</td>\n",
              "    </tr>\n",
              "    <tr>\n",
              "      <th>підйом вгору сходами</th>\n",
              "      <td>278</td>\n",
              "      <td>0</td>\n",
              "      <td>1075</td>\n",
              "      <td>179</td>\n",
              "      <td>12</td>\n",
              "      <td>0</td>\n",
              "      <td>1544</td>\n",
              "    </tr>\n",
              "    <tr>\n",
              "      <th>спуск вниз сходами</th>\n",
              "      <td>754</td>\n",
              "      <td>0</td>\n",
              "      <td>163</td>\n",
              "      <td>249</td>\n",
              "      <td>240</td>\n",
              "      <td>0</td>\n",
              "      <td>1406</td>\n",
              "    </tr>\n",
              "    <tr>\n",
              "      <th>сидіння</th>\n",
              "      <td>0</td>\n",
              "      <td>1631</td>\n",
              "      <td>33</td>\n",
              "      <td>0</td>\n",
              "      <td>0</td>\n",
              "      <td>113</td>\n",
              "      <td>1777</td>\n",
              "    </tr>\n",
              "    <tr>\n",
              "      <th>стояння</th>\n",
              "      <td>0</td>\n",
              "      <td>1896</td>\n",
              "      <td>10</td>\n",
              "      <td>0</td>\n",
              "      <td>0</td>\n",
              "      <td>0</td>\n",
              "      <td>1906</td>\n",
              "    </tr>\n",
              "    <tr>\n",
              "      <th>лежання</th>\n",
              "      <td>0</td>\n",
              "      <td>76</td>\n",
              "      <td>35</td>\n",
              "      <td>0</td>\n",
              "      <td>0</td>\n",
              "      <td>1833</td>\n",
              "      <td>1944</td>\n",
              "    </tr>\n",
              "    <tr>\n",
              "      <th>всі</th>\n",
              "      <td>1372</td>\n",
              "      <td>3603</td>\n",
              "      <td>1556</td>\n",
              "      <td>1445</td>\n",
              "      <td>377</td>\n",
              "      <td>1946</td>\n",
              "      <td>10299</td>\n",
              "    </tr>\n",
              "  </tbody>\n",
              "</table>\n",
              "</div>\n",
              "      <button class=\"colab-df-convert\" onclick=\"convertToInteractive('df-c9ff2f32-ff07-44c9-bbf4-690d40baa45c')\"\n",
              "              title=\"Convert this dataframe to an interactive table.\"\n",
              "              style=\"display:none;\">\n",
              "        \n",
              "  <svg xmlns=\"http://www.w3.org/2000/svg\" height=\"24px\"viewBox=\"0 0 24 24\"\n",
              "       width=\"24px\">\n",
              "    <path d=\"M0 0h24v24H0V0z\" fill=\"none\"/>\n",
              "    <path d=\"M18.56 5.44l.94 2.06.94-2.06 2.06-.94-2.06-.94-.94-2.06-.94 2.06-2.06.94zm-11 1L8.5 8.5l.94-2.06 2.06-.94-2.06-.94L8.5 2.5l-.94 2.06-2.06.94zm10 10l.94 2.06.94-2.06 2.06-.94-2.06-.94-.94-2.06-.94 2.06-2.06.94z\"/><path d=\"M17.41 7.96l-1.37-1.37c-.4-.4-.92-.59-1.43-.59-.52 0-1.04.2-1.43.59L10.3 9.45l-7.72 7.72c-.78.78-.78 2.05 0 2.83L4 21.41c.39.39.9.59 1.41.59.51 0 1.02-.2 1.41-.59l7.78-7.78 2.81-2.81c.8-.78.8-2.07 0-2.86zM5.41 20L4 18.59l7.72-7.72 1.47 1.35L5.41 20z\"/>\n",
              "  </svg>\n",
              "      </button>\n",
              "      \n",
              "  <style>\n",
              "    .colab-df-container {\n",
              "      display:flex;\n",
              "      flex-wrap:wrap;\n",
              "      gap: 12px;\n",
              "    }\n",
              "\n",
              "    .colab-df-convert {\n",
              "      background-color: #E8F0FE;\n",
              "      border: none;\n",
              "      border-radius: 50%;\n",
              "      cursor: pointer;\n",
              "      display: none;\n",
              "      fill: #1967D2;\n",
              "      height: 32px;\n",
              "      padding: 0 0 0 0;\n",
              "      width: 32px;\n",
              "    }\n",
              "\n",
              "    .colab-df-convert:hover {\n",
              "      background-color: #E2EBFA;\n",
              "      box-shadow: 0px 1px 2px rgba(60, 64, 67, 0.3), 0px 1px 3px 1px rgba(60, 64, 67, 0.15);\n",
              "      fill: #174EA6;\n",
              "    }\n",
              "\n",
              "    [theme=dark] .colab-df-convert {\n",
              "      background-color: #3B4455;\n",
              "      fill: #D2E3FC;\n",
              "    }\n",
              "\n",
              "    [theme=dark] .colab-df-convert:hover {\n",
              "      background-color: #434B5C;\n",
              "      box-shadow: 0px 1px 3px 1px rgba(0, 0, 0, 0.15);\n",
              "      filter: drop-shadow(0px 1px 2px rgba(0, 0, 0, 0.3));\n",
              "      fill: #FFFFFF;\n",
              "    }\n",
              "  </style>\n",
              "\n",
              "      <script>\n",
              "        const buttonEl =\n",
              "          document.querySelector('#df-c9ff2f32-ff07-44c9-bbf4-690d40baa45c button.colab-df-convert');\n",
              "        buttonEl.style.display =\n",
              "          google.colab.kernel.accessAllowed ? 'block' : 'none';\n",
              "\n",
              "        async function convertToInteractive(key) {\n",
              "          const element = document.querySelector('#df-c9ff2f32-ff07-44c9-bbf4-690d40baa45c');\n",
              "          const dataTable =\n",
              "            await google.colab.kernel.invokeFunction('convertToInteractive',\n",
              "                                                     [key], {});\n",
              "          if (!dataTable) return;\n",
              "\n",
              "          const docLinkHtml = 'Like what you see? Visit the ' +\n",
              "            '<a target=\"_blank\" href=https://colab.research.google.com/notebooks/data_table.ipynb>data table notebook</a>'\n",
              "            + ' to learn more about interactive tables.';\n",
              "          element.innerHTML = '';\n",
              "          dataTable['output_type'] = 'display_data';\n",
              "          await google.colab.output.renderOutput(dataTable, element);\n",
              "          const docLink = document.createElement('div');\n",
              "          docLink.innerHTML = docLinkHtml;\n",
              "          element.appendChild(docLink);\n",
              "        }\n",
              "      </script>\n",
              "    </div>\n",
              "  </div>\n",
              "  "
            ]
          },
          "metadata": {},
          "execution_count": 21
        }
      ],
      "source": [
        "tab = pd.crosstab(y, cluster_labels, margins=True)\n",
        "tab.index = ['ходьба', 'підйом вгору сходами', \n",
        "             'спуск вниз сходами', 'сидіння', 'стояння', 'лежання', 'всі']\n",
        "tab.columns = ['cluster' + str(i + 1) for i in range(6)] + ['всі']\n",
        "tab"
      ]
    },
    {
      "cell_type": "markdown",
      "metadata": {
        "id": "vEj7CXZPskvY"
      },
      "source": [
        "Бачимо, що кожному класу (тобто кожній активності) відповідають кілька кластерів. Давайте подивимося на максимальну частку об'єктів в класі, що відносяться до якогось одного кластеру. Ця частка буде простокою метрикою, що характеризує наскільки легко клас відділяється від інших під час кластеризування.\n",
        "\n",
        "Приклад: якщо для класу \"спуск сходами\", в якому 1406 об'єктів, розподіл кластерів є таким:\n",
        " - кластер 1 – 900;\n",
        " - кластер 3 – 500;\n",
        " - кластер 6 – 6,\n",
        " \n",
        "то така частка буде 900 / 1406 $\\approx$ 0.64."
      ]
    },
    {
      "cell_type": "markdown",
      "metadata": {
        "id": "zYX5SW_WskvZ"
      },
      "source": [
        "Зазвичай, *k*-means не надто добре відрізняє тільки активності одну від одної. Тому використаємо метод ліктя, щоби вибрати оптимальну кількість кластерів. Параметри алгоритму й дані використовуємо ті ж, що і раніше, міняємо лише `n_clusters`."
      ]
    },
    {
      "cell_type": "code",
      "execution_count": 23,
      "metadata": {
        "id": "vK-yayG7skvZ",
        "outputId": "65847d40-fe0e-4f6a-c159-92163081247e",
        "colab": {
          "base_uri": "https://localhost:8080/",
          "height": 618,
          "referenced_widgets": [
            "40ee60a455e9478faa7a5c60ee9a9267",
            "eb477c434f3847fe8d467a4cedcb427f",
            "81ac1e726c8b4a4a8ea91e8eaff3065f",
            "6647f8efe2a54e3bb9d94cdc3d5f1d15",
            "92cf98ba26194c84b3834ffccb475630",
            "f5fb0e6280da4ee6ab1ecf8ba3d09d70",
            "78315bad289748dbbb9129eb4a731065",
            "8d21239d5e4f435094f6e27f99422d25",
            "f6821737c38142c084ca6a8eff590602",
            "8529182049724906986b298658bbf94b",
            "0302c0ccf22841ecbc1bda3f71824df6"
          ]
        }
      },
      "outputs": [
        {
          "output_type": "stream",
          "name": "stderr",
          "text": [
            "/usr/local/lib/python3.7/dist-packages/ipykernel_launcher.py:2: TqdmDeprecationWarning: This function will be removed in tqdm==5.0.0\n",
            "Please use `tqdm.notebook.tqdm` instead of `tqdm.tqdm_notebook`\n",
            "  \n"
          ]
        },
        {
          "output_type": "display_data",
          "data": {
            "text/plain": [
              "  0%|          | 0/6 [00:00<?, ?it/s]"
            ],
            "application/vnd.jupyter.widget-view+json": {
              "version_major": 2,
              "version_minor": 0,
              "model_id": "40ee60a455e9478faa7a5c60ee9a9267"
            }
          },
          "metadata": {}
        },
        {
          "output_type": "display_data",
          "data": {
            "text/plain": [
              "<Figure size 864x648 with 1 Axes>"
            ],
            "image/png": "[encoded data removed]"
          },
          "metadata": {}
        }
      ],
      "source": [
        "inertia = []\n",
        "for k in tqdm_notebook(range(1, n_classes + 1)):\n",
        "    kmeans = MiniBatchKMeans(n_clusters=k, n_init=100, random_state=RANDOM_STATE).fit(X_pca)\n",
        "    inertia.append(np.sqrt(kmeans.inertia_))\n",
        "\n",
        "plt.plot(range(1, 7), inertia, marker='s');"
      ]
    },
    {
      "cell_type": "markdown",
      "metadata": {
        "id": "SVGB8P_jskvZ"
      },
      "source": [
        "### <span style=\"color:red; font-size:1.5em;\">Завдання 2</span>\n",
        "\n",
        "\n",
        "**Для варіантів 1-5:**\n",
        "\n",
        "Яка кількість кластерів є оптимальною? Для відповіді на це запитання використайте метод ліктя, а саме закодуйте $D(k)$ (аналогічно до прикладу з лекції).\n",
        "\n",
        "**Для варіантів 6-10:**\n",
        "\n",
        " Чи правда, що краще обрати 3 кластери для розбиття всієї відмасштабованої вибірки? Для відповіді на це запитання використайте метод ліктя, а саме закодуйте $D(k)$ (аналогічно до прикладу з лекції).\n",
        "\n",
        "**Для варіантів 11-15:**\n",
        "\n",
        "Обрахуйте, який вид активності відокремився від інших найкраще за метрикою частки об'єктів в класі (описано вище)?\n",
        "\n",
        "**Для варіантів 16-20:**\n",
        "\n",
        "Візуалізуйте дані в проекції на перші дві головні компоненти. Зображіть точки різними кольорами, відповідно до отриманих міток кластерів (`cluster_labels`). Використайте `plt.scatter()`."
      ]
    },
    {
      "cell_type": "code",
      "source": [
        "inertia = []\n",
        "for k in tqdm_notebook(range(1, n_classes)):\n",
        "    kmeans = MiniBatchKMeans(n_clusters=k, n_init=100, random_state=RANDOM_STATE).fit(X_pca)\n",
        "    inertia.append(np.sqrt(kmeans.inertia_))\n",
        "\n",
        "for i in range(1, len(inertia) - 1):\n",
        "    D = abs(inertia[i] - inertia[i + 1]) / abs(inertia[i - 1] - inertia[i])\n",
        "    print(D)"
      ],
      "metadata": {
        "id": "4-1MphGk0DlU",
        "outputId": "be13b248-484c-4de0-a97c-f78b2fbaf9d5",
        "colab": {
          "base_uri": "https://localhost:8080/",
          "height": 153,
          "referenced_widgets": [
            "7d9d8c3785ca4ed6bfbfc21c27afb4e5",
            "a3ce352164204664ae6cdffd39227f95",
            "d877b146dee1404d993b9a3c853188ed",
            "0c22a97ec1ad40df9ce890bfc5e407c2",
            "6d30d883cff543bab7dc11b826c516ce",
            "965cbbdfa4c1460dadf7725f4bca191c",
            "6c8229af8374451f8b209052b21db052",
            "9503b55d8cb34136b3f13ed5c615a71e",
            "36f1566b863441c19ab6e0dfbea3775c",
            "cbcd78e30b89449da4d1c4503e03c709",
            "e1e63c9d8bbc4f26af7579d2e7e67ac8"
          ]
        }
      },
      "execution_count": 25,
      "outputs": [
        {
          "output_type": "stream",
          "name": "stderr",
          "text": [
            "/usr/local/lib/python3.7/dist-packages/ipykernel_launcher.py:2: TqdmDeprecationWarning: This function will be removed in tqdm==5.0.0\n",
            "Please use `tqdm.notebook.tqdm` instead of `tqdm.tqdm_notebook`\n",
            "  \n"
          ]
        },
        {
          "output_type": "display_data",
          "data": {
            "text/plain": [
              "  0%|          | 0/5 [00:00<?, ?it/s]"
            ],
            "application/vnd.jupyter.widget-view+json": {
              "version_major": 2,
              "version_minor": 0,
              "model_id": "7d9d8c3785ca4ed6bfbfc21c27afb4e5"
            }
          },
          "metadata": {}
        },
        {
          "output_type": "stream",
          "name": "stdout",
          "text": [
            "0.17285099347244812\n",
            "0.4070139367455355\n",
            "0.40583398074745985\n"
          ]
        }
      ]
    },
    {
      "cell_type": "markdown",
      "metadata": {
        "id": "l7WuS19wskva"
      },
      "source": [
        "<a class=\"anchor\" id=\"lab-7.4\"></a>"
      ]
    },
    {
      "cell_type": "markdown",
      "metadata": {
        "id": "npMV_9Bhskva"
      },
      "source": [
        "## <span style=\"color:blue; font-size:1.2em;\">7.4. Агломератична кластеризація</span>\n",
        "\n",
        "[Повернутися до змісту](#lab-7)"
      ]
    },
    {
      "cell_type": "markdown",
      "metadata": {
        "id": "4rZwrpMeskva"
      },
      "source": [
        "Спробуємо ще один алгоритм, що входить до групи ієрархічної кластеризації – агломеративну кластеризацію [`AgglomerativeClustering()`](https://scikit-learn.org/stable/modules/generated/sklearn.cluster.AgglomerativeClustering.html)."
      ]
    },
    {
      "cell_type": "code",
      "execution_count": 26,
      "metadata": {
        "id": "3gNSK2Mkskva"
      },
      "outputs": [],
      "source": [
        "ag = AgglomerativeClustering(n_clusters=n_classes, \n",
        "                             linkage='ward').fit_predict(X_pca)"
      ]
    },
    {
      "cell_type": "markdown",
      "metadata": {
        "id": "6PG2M7x9skva"
      },
      "source": [
        "Обрахуйте Adjusted Rand Index (ARI) для розбиття на два кластери за [`AgglomerativeClustering()`](https://scikit-learn.org/stable/modules/generated/sklearn.cluster.AgglomerativeClustering.html) та [`MiniBatchKmeans()`](https://scikit-learn.org/stable/modules/generated/sklearn.cluster.MiniBatchKMeans.html) з параметрами із пункту 7.3.\n",
        "\n",
        "Відповідно до знайденого значення ARI, дайте відповіді на запитання нижче."
      ]
    },
    {
      "cell_type": "code",
      "source": [
        "metrics.adjusted_rand_score(y, ag)"
      ],
      "metadata": {
        "id": "K3bRsnGm0bpw",
        "outputId": "5ad71503-73fc-4d25-a03f-a12c0100bab4",
        "colab": {
          "base_uri": "https://localhost:8080/"
        }
      },
      "execution_count": 27,
      "outputs": [
        {
          "output_type": "execute_result",
          "data": {
            "text/plain": [
              "0.49362763373004886"
            ]
          },
          "metadata": {},
          "execution_count": 27
        }
      ]
    },
    {
      "cell_type": "code",
      "source": [
        "metrics.adjusted_rand_score(y, cluster_labels)"
      ],
      "metadata": {
        "id": "4KdM8efZ0e2H",
        "outputId": "ad4ac62a-a738-4cdb-b06f-605ba69b23e9",
        "colab": {
          "base_uri": "https://localhost:8080/"
        }
      },
      "execution_count": 28,
      "outputs": [
        {
          "output_type": "execute_result",
          "data": {
            "text/plain": [
              "0.5342207745672404"
            ]
          },
          "metadata": {},
          "execution_count": 28
        }
      ]
    },
    {
      "cell_type": "markdown",
      "metadata": {
        "id": "Weaty1Nvskvb"
      },
      "source": [
        "### <span style=\"color:red; font-size:1.5em;\">Завдання 3</span>\n",
        "\n",
        "\n",
        "**Для варіантів 1-5:**\n",
        "\n",
        "Порівняйте значення ARI, знайденого для `AgglomerativeClustering()` та `MiniBatchKmeans()`. Поясніть, чому ці значення різні.\n",
        "\n",
        "**Для варіантів 6-10:**\n",
        "\n",
        "Відповідно до виконаних обрахунків, що впливає на значення ARI? Присвоєні мітки чи розбиття об'єктів на кластери? Наведіть коротке пояснення.\n",
        "\n",
        "**Для варіантів 11-15:**\n",
        "\n",
        "Чи правда, що для нашого прикладу `AgglomerativeClustering()` впорався з кластеризацією гірше, ніж `MiniBatchKmeans()`? Чому?\n",
        "\n",
        "**Для варіантів 16-20:**\n",
        "\n",
        "Чи правда, що у разі випадкового розбиття на кластери ARI буде близький до нуля. Чому?"
      ]
    },
    {
      "cell_type": "markdown",
      "metadata": {
        "id": "ZyGLGd0Cskvb"
      },
      "source": [
        "Для ARI немає значення, які саме значення мітки присвоєні кластерам, має значення лише розбиття об'єктів на кластери."
      ]
    },
    {
      "cell_type": "markdown",
      "metadata": {
        "id": "_Z192FzIskvb"
      },
      "source": [
        "<a class=\"anchor\" id=\"lab-7.5\"></a>"
      ]
    },
    {
      "cell_type": "markdown",
      "metadata": {
        "id": "GZiqOrN3skvb"
      },
      "source": [
        "## <span style=\"color:blue; font-size:1.2em;\">7.5. Застосування класифікатора після кластеризації</span>\n",
        "\n",
        "[Повернутися до змісту](#lab-7)"
      ]
    },
    {
      "cell_type": "markdown",
      "metadata": {
        "id": "W9ZSR4KCskvb"
      },
      "source": [
        "Можна помітити, що завдання не надто добре розв'язується саме як задача кластеризації, якщо виділяти лише кілька кластерів (>2). Спробуємо тепер розв'яжемо задачу класифікації; пам'ятаємо, що дані у нас розмічені.\n",
        "\n",
        "Для класифікації використайте метод опорних векторів – клас `sklearn.svm.LinearSVC`. В межах курсу ми не розглядали відокремлено цей алгоритм, проте він вкрай відомий, почитати про нього можна, наприклад, в документації scikit-learn під назвою [Support Vector Machines](https://scikit-learn.org/stable/modules/svm.html#). \n",
        "\n",
        "Налаштуйте для `LinearSVC` гіперпараметр `C` за допомогою `GridSearchCV` (cv=3). Виконайте навчання нового `StandardScaler` за навчальною вибіркою (з усіма початковими ознаками), застосуйте масштабування до тестової вибірки."
      ]
    },
    {
      "cell_type": "code",
      "execution_count": 29,
      "metadata": {
        "id": "BKgDJDFZskvb"
      },
      "outputs": [],
      "source": [
        "scaler = StandardScaler()\n",
        "X_train_scaled = scaler.fit_transform(X_train)\n",
        "X_test_scaled = scaler.transform(X_test)"
      ]
    },
    {
      "cell_type": "code",
      "execution_count": 30,
      "metadata": {
        "id": "T-mOdNNMskvc"
      },
      "outputs": [],
      "source": [
        "svc = LinearSVC(random_state=RANDOM_STATE)\n",
        "svc_params = {'C': [0.001, 0.01, 0.1, 1, 10]}"
      ]
    },
    {
      "cell_type": "code",
      "execution_count": 31,
      "metadata": {
        "id": "IsIC7x3pskvc",
        "outputId": "f3afad6c-3a66-4c34-8267-80febadf0e49",
        "colab": {
          "base_uri": "https://localhost:8080/"
        }
      },
      "outputs": [
        {
          "output_type": "stream",
          "name": "stderr",
          "text": [
            "/usr/local/lib/python3.7/dist-packages/sklearn/svm/_base.py:1208: ConvergenceWarning: Liblinear failed to converge, increase the number of iterations.\n",
            "  ConvergenceWarning,\n",
            "/usr/local/lib/python3.7/dist-packages/sklearn/svm/_base.py:1208: ConvergenceWarning: Liblinear failed to converge, increase the number of iterations.\n",
            "  ConvergenceWarning,\n",
            "/usr/local/lib/python3.7/dist-packages/sklearn/svm/_base.py:1208: ConvergenceWarning: Liblinear failed to converge, increase the number of iterations.\n",
            "  ConvergenceWarning,\n",
            "/usr/local/lib/python3.7/dist-packages/sklearn/svm/_base.py:1208: ConvergenceWarning: Liblinear failed to converge, increase the number of iterations.\n",
            "  ConvergenceWarning,\n",
            "/usr/local/lib/python3.7/dist-packages/sklearn/svm/_base.py:1208: ConvergenceWarning: Liblinear failed to converge, increase the number of iterations.\n",
            "  ConvergenceWarning,\n",
            "/usr/local/lib/python3.7/dist-packages/sklearn/svm/_base.py:1208: ConvergenceWarning: Liblinear failed to converge, increase the number of iterations.\n",
            "  ConvergenceWarning,\n",
            "/usr/local/lib/python3.7/dist-packages/sklearn/svm/_base.py:1208: ConvergenceWarning: Liblinear failed to converge, increase the number of iterations.\n",
            "  ConvergenceWarning,\n",
            "/usr/local/lib/python3.7/dist-packages/sklearn/svm/_base.py:1208: ConvergenceWarning: Liblinear failed to converge, increase the number of iterations.\n",
            "  ConvergenceWarning,\n",
            "/usr/local/lib/python3.7/dist-packages/sklearn/svm/_base.py:1208: ConvergenceWarning: Liblinear failed to converge, increase the number of iterations.\n",
            "  ConvergenceWarning,\n"
          ]
        },
        {
          "output_type": "stream",
          "name": "stdout",
          "text": [
            "CPU times: user 1min 17s, sys: 1.28 s, total: 1min 19s\n",
            "Wall time: 1min 24s\n"
          ]
        },
        {
          "output_type": "stream",
          "name": "stderr",
          "text": [
            "/usr/local/lib/python3.7/dist-packages/sklearn/svm/_base.py:1208: ConvergenceWarning: Liblinear failed to converge, increase the number of iterations.\n",
            "  ConvergenceWarning,\n"
          ]
        }
      ],
      "source": [
        "%%time\n",
        "best_svc = GridSearchCV(svc, param_grid=svc_params, cv=3).fit(X_train_scaled, y_train)\n",
        "best_svc = best_svc.best_estimator_"
      ]
    },
    {
      "cell_type": "code",
      "execution_count": 32,
      "metadata": {
        "id": "lZdx3Cwyskvc",
        "outputId": "e4b3e19a-1880-416d-9462-9570b7b24cce",
        "colab": {
          "base_uri": "https://localhost:8080/"
        }
      },
      "outputs": [
        {
          "output_type": "execute_result",
          "data": {
            "text/plain": [
              "0.1"
            ]
          },
          "metadata": {},
          "execution_count": 32
        }
      ],
      "source": [
        "best_svc.C"
      ]
    },
    {
      "cell_type": "markdown",
      "metadata": {
        "id": "1IntJd-_skvc"
      },
      "source": [
        "Виконайте прогноз за тестовим набором даних:"
      ]
    },
    {
      "cell_type": "code",
      "execution_count": 33,
      "metadata": {
        "id": "haj5oHQ2skvc"
      },
      "outputs": [],
      "source": [
        "y_predicted = best_svc.predict(X_test_scaled)"
      ]
    },
    {
      "cell_type": "markdown",
      "metadata": {
        "id": "f64dX3wxskvc"
      },
      "source": [
        "Вивидимо результат розподілення класів у таблиці:"
      ]
    },
    {
      "cell_type": "code",
      "execution_count": 34,
      "metadata": {
        "id": "kG1ijBB8skvd",
        "outputId": "822240d3-49de-4132-c2e9-da6b1d34641c",
        "colab": {
          "base_uri": "https://localhost:8080/",
          "height": 269
        }
      },
      "outputs": [
        {
          "output_type": "execute_result",
          "data": {
            "text/plain": [
              "                      ходьба  підйом вгору сходами  спуску вниз сходами  \\\n",
              "ходьба                   494                     2                    0   \n",
              "підйом вгору сходами      12                   459                    0   \n",
              "спуску вниз сходами        2                     3                  414   \n",
              "сидіння                    0                     4                    0   \n",
              "стояння                    0                     0                    0   \n",
              "лежання                    0                     0                    0   \n",
              "всі                      508                   468                  414   \n",
              "\n",
              "                      сидіння  стояння  лежання   всі  \n",
              "ходьба                      0        0        0   496  \n",
              "підйом вгору сходами        0        0        0   471  \n",
              "спуску вниз сходами         1        0        0   420  \n",
              "сидіння                   426       61        0   491  \n",
              "стояння                    15      517        0   532  \n",
              "лежання                     0       11      526   537  \n",
              "всі                       442      589      526  2947  "
            ],
            "text/html": [
              "\n",
              "  <div id=\"df-35afb1f5-eed5-43d6-9ea1-d479a3eb0944\">\n",
              "    <div class=\"colab-df-container\">\n",
              "      <div>\n",
              "<style scoped>\n",
              "    .dataframe tbody tr th:only-of-type {\n",
              "        vertical-align: middle;\n",
              "    }\n",
              "\n",
              "    .dataframe tbody tr th {\n",
              "        vertical-align: top;\n",
              "    }\n",
              "\n",
              "    .dataframe thead th {\n",
              "        text-align: right;\n",
              "    }\n",
              "</style>\n",
              "<table border=\"1\" class=\"dataframe\">\n",
              "  <thead>\n",
              "    <tr style=\"text-align: right;\">\n",
              "      <th></th>\n",
              "      <th>ходьба</th>\n",
              "      <th>підйом вгору сходами</th>\n",
              "      <th>спуску вниз сходами</th>\n",
              "      <th>сидіння</th>\n",
              "      <th>стояння</th>\n",
              "      <th>лежання</th>\n",
              "      <th>всі</th>\n",
              "    </tr>\n",
              "  </thead>\n",
              "  <tbody>\n",
              "    <tr>\n",
              "      <th>ходьба</th>\n",
              "      <td>494</td>\n",
              "      <td>2</td>\n",
              "      <td>0</td>\n",
              "      <td>0</td>\n",
              "      <td>0</td>\n",
              "      <td>0</td>\n",
              "      <td>496</td>\n",
              "    </tr>\n",
              "    <tr>\n",
              "      <th>підйом вгору сходами</th>\n",
              "      <td>12</td>\n",
              "      <td>459</td>\n",
              "      <td>0</td>\n",
              "      <td>0</td>\n",
              "      <td>0</td>\n",
              "      <td>0</td>\n",
              "      <td>471</td>\n",
              "    </tr>\n",
              "    <tr>\n",
              "      <th>спуску вниз сходами</th>\n",
              "      <td>2</td>\n",
              "      <td>3</td>\n",
              "      <td>414</td>\n",
              "      <td>1</td>\n",
              "      <td>0</td>\n",
              "      <td>0</td>\n",
              "      <td>420</td>\n",
              "    </tr>\n",
              "    <tr>\n",
              "      <th>сидіння</th>\n",
              "      <td>0</td>\n",
              "      <td>4</td>\n",
              "      <td>0</td>\n",
              "      <td>426</td>\n",
              "      <td>61</td>\n",
              "      <td>0</td>\n",
              "      <td>491</td>\n",
              "    </tr>\n",
              "    <tr>\n",
              "      <th>стояння</th>\n",
              "      <td>0</td>\n",
              "      <td>0</td>\n",
              "      <td>0</td>\n",
              "      <td>15</td>\n",
              "      <td>517</td>\n",
              "      <td>0</td>\n",
              "      <td>532</td>\n",
              "    </tr>\n",
              "    <tr>\n",
              "      <th>лежання</th>\n",
              "      <td>0</td>\n",
              "      <td>0</td>\n",
              "      <td>0</td>\n",
              "      <td>0</td>\n",
              "      <td>11</td>\n",
              "      <td>526</td>\n",
              "      <td>537</td>\n",
              "    </tr>\n",
              "    <tr>\n",
              "      <th>всі</th>\n",
              "      <td>508</td>\n",
              "      <td>468</td>\n",
              "      <td>414</td>\n",
              "      <td>442</td>\n",
              "      <td>589</td>\n",
              "      <td>526</td>\n",
              "      <td>2947</td>\n",
              "    </tr>\n",
              "  </tbody>\n",
              "</table>\n",
              "</div>\n",
              "      <button class=\"colab-df-convert\" onclick=\"convertToInteractive('df-35afb1f5-eed5-43d6-9ea1-d479a3eb0944')\"\n",
              "              title=\"Convert this dataframe to an interactive table.\"\n",
              "              style=\"display:none;\">\n",
              "        \n",
              "  <svg xmlns=\"http://www.w3.org/2000/svg\" height=\"24px\"viewBox=\"0 0 24 24\"\n",
              "       width=\"24px\">\n",
              "    <path d=\"M0 0h24v24H0V0z\" fill=\"none\"/>\n",
              "    <path d=\"M18.56 5.44l.94 2.06.94-2.06 2.06-.94-2.06-.94-.94-2.06-.94 2.06-2.06.94zm-11 1L8.5 8.5l.94-2.06 2.06-.94-2.06-.94L8.5 2.5l-.94 2.06-2.06.94zm10 10l.94 2.06.94-2.06 2.06-.94-2.06-.94-.94-2.06-.94 2.06-2.06.94z\"/><path d=\"M17.41 7.96l-1.37-1.37c-.4-.4-.92-.59-1.43-.59-.52 0-1.04.2-1.43.59L10.3 9.45l-7.72 7.72c-.78.78-.78 2.05 0 2.83L4 21.41c.39.39.9.59 1.41.59.51 0 1.02-.2 1.41-.59l7.78-7.78 2.81-2.81c.8-.78.8-2.07 0-2.86zM5.41 20L4 18.59l7.72-7.72 1.47 1.35L5.41 20z\"/>\n",
              "  </svg>\n",
              "      </button>\n",
              "      \n",
              "  <style>\n",
              "    .colab-df-container {\n",
              "      display:flex;\n",
              "      flex-wrap:wrap;\n",
              "      gap: 12px;\n",
              "    }\n",
              "\n",
              "    .colab-df-convert {\n",
              "      background-color: #E8F0FE;\n",
              "      border: none;\n",
              "      border-radius: 50%;\n",
              "      cursor: pointer;\n",
              "      display: none;\n",
              "      fill: #1967D2;\n",
              "      height: 32px;\n",
              "      padding: 0 0 0 0;\n",
              "      width: 32px;\n",
              "    }\n",
              "\n",
              "    .colab-df-convert:hover {\n",
              "      background-color: #E2EBFA;\n",
              "      box-shadow: 0px 1px 2px rgba(60, 64, 67, 0.3), 0px 1px 3px 1px rgba(60, 64, 67, 0.15);\n",
              "      fill: #174EA6;\n",
              "    }\n",
              "\n",
              "    [theme=dark] .colab-df-convert {\n",
              "      background-color: #3B4455;\n",
              "      fill: #D2E3FC;\n",
              "    }\n",
              "\n",
              "    [theme=dark] .colab-df-convert:hover {\n",
              "      background-color: #434B5C;\n",
              "      box-shadow: 0px 1px 3px 1px rgba(0, 0, 0, 0.15);\n",
              "      filter: drop-shadow(0px 1px 2px rgba(0, 0, 0, 0.3));\n",
              "      fill: #FFFFFF;\n",
              "    }\n",
              "  </style>\n",
              "\n",
              "      <script>\n",
              "        const buttonEl =\n",
              "          document.querySelector('#df-35afb1f5-eed5-43d6-9ea1-d479a3eb0944 button.colab-df-convert');\n",
              "        buttonEl.style.display =\n",
              "          google.colab.kernel.accessAllowed ? 'block' : 'none';\n",
              "\n",
              "        async function convertToInteractive(key) {\n",
              "          const element = document.querySelector('#df-35afb1f5-eed5-43d6-9ea1-d479a3eb0944');\n",
              "          const dataTable =\n",
              "            await google.colab.kernel.invokeFunction('convertToInteractive',\n",
              "                                                     [key], {});\n",
              "          if (!dataTable) return;\n",
              "\n",
              "          const docLinkHtml = 'Like what you see? Visit the ' +\n",
              "            '<a target=\"_blank\" href=https://colab.research.google.com/notebooks/data_table.ipynb>data table notebook</a>'\n",
              "            + ' to learn more about interactive tables.';\n",
              "          element.innerHTML = '';\n",
              "          dataTable['output_type'] = 'display_data';\n",
              "          await google.colab.output.renderOutput(dataTable, element);\n",
              "          const docLink = document.createElement('div');\n",
              "          docLink.innerHTML = docLinkHtml;\n",
              "          element.appendChild(docLink);\n",
              "        }\n",
              "      </script>\n",
              "    </div>\n",
              "  </div>\n",
              "  "
            ]
          },
          "metadata": {},
          "execution_count": 34
        }
      ],
      "source": [
        "tab = pd.crosstab(y_test, y_predicted, margins=True)\n",
        "tab.index = ['ходьба', 'підйом вгору сходами', 'спуску вниз сходами', \n",
        "             'сидіння', 'стояння', 'лежання', 'всі']\n",
        "tab.columns = tab.index\n",
        "tab"
      ]
    },
    {
      "cell_type": "markdown",
      "metadata": {
        "id": "JsNhK8wpskvd"
      },
      "source": [
        "### <span style=\"color:red; font-size:1.5em;\">Завдання 4</span>\n",
        "\n",
        "Для відповіді на запитання нижче використайте `metrics.classification_report()`:\n",
        "\n",
        "**Для варіантів 1-5:**\n",
        "\n",
        "Обрахуйте частку правильних відповідей (accuracy) класифікатора SVM? Виведіть значення відповідної метрики за допомогою коду.\n",
        "\n",
        "**Для варіантів 6-10:**\n",
        "\n",
        "Який вид активності SVM визначає найгірше за метрикою влучності (precision)? Виведіть назву відповідної ознаки (вид активності) та значення відповідної метрики за допомогою коду.\n",
        "\n",
        "**Для варіантів 11-15:**\n",
        "\n",
        "Який вид активності SVM визначає найгірше за метрикою повноти (recall)? Виведіть назву відповідної ознаки (вид активності) та значення відповідної метрики за допомогою коду.\n",
        "\n",
        "**Для варіантів 16-20:**\n",
        "\n",
        "Який вид активності SVM визначає найгірше за метрикою $F$-міри (f1-score)? Виведіть назву відповідної ознаки (вид активності) та значення відповідної метрики за допомогою коду."
      ]
    },
    {
      "cell_type": "markdown",
      "metadata": {
        "id": "A9-uRAK7skvd"
      },
      "source": [
        "------------------------"
      ]
    },
    {
      "cell_type": "code",
      "source": [
        "metrics_ = metrics.classification_report(y_test, y_predicted, target_names=tab.index[:6])\n",
        "print(metrics_)"
      ],
      "metadata": {
        "id": "QBBhIzQH1A35",
        "outputId": "555ddfda-680c-462d-bf64-999332c9f238",
        "colab": {
          "base_uri": "https://localhost:8080/"
        }
      },
      "execution_count": 35,
      "outputs": [
        {
          "output_type": "stream",
          "name": "stdout",
          "text": [
            "                      precision    recall  f1-score   support\n",
            "\n",
            "              ходьба       0.97      1.00      0.98       496\n",
            "підйом вгору сходами       0.98      0.97      0.98       471\n",
            " спуску вниз сходами       1.00      0.99      0.99       420\n",
            "             сидіння       0.96      0.87      0.91       491\n",
            "             стояння       0.88      0.97      0.92       532\n",
            "             лежання       1.00      0.98      0.99       537\n",
            "\n",
            "            accuracy                           0.96      2947\n",
            "           macro avg       0.97      0.96      0.96      2947\n",
            "        weighted avg       0.96      0.96      0.96      2947\n",
            "\n"
          ]
        }
      ]
    },
    {
      "cell_type": "markdown",
      "metadata": {
        "id": "Y-c-KUxlskvd"
      },
      "source": [
        "<a class=\"anchor\" id=\"lab-7.6\"></a>"
      ]
    },
    {
      "cell_type": "markdown",
      "metadata": {
        "id": "pidGt2wxskvd"
      },
      "source": [
        "## <span style=\"color:blue; font-size:1.2em;\">7.6. Класифікація із методом головних компонент</span>\n",
        "\n",
        "[Повернутися до змісту](#lab-7)"
      ]
    },
    {
      "cell_type": "markdown",
      "metadata": {
        "id": "WrnuelGnskvd"
      },
      "source": [
        "Виконайте навчання класифікатора, повторивши всі попередні дії (завдання 4) з додаванням PCA:\n",
        "\n",
        "- Використовуйте вибірки `X_train_scaled` і `X_test_scaled`.\n",
        "- Навчіть той же PCA, що й раніше за масштабованою навчальною вибіркою; застосуйте перетворення до тестової вибірки.\n",
        "- Налаштуйте гіперпараметр `C` на крос-валідації за навчальною вибіркою з PCA-перетворенням."
      ]
    },
    {
      "cell_type": "code",
      "execution_count": 36,
      "metadata": {
        "id": "0GCJ4-jAskve"
      },
      "outputs": [],
      "source": [
        "scaler = StandardScaler()\n",
        "X_train_scaled = scaler.fit_transform(X_train)\n",
        "X_test_scaled = scaler.transform(X_test)\n",
        "\n",
        "X_train_pca = pca.fit_transform(X_train_scaled)\n",
        "X_test_pca = pca.transform(X_test_scaled)"
      ]
    },
    {
      "cell_type": "code",
      "execution_count": 37,
      "metadata": {
        "id": "96tjpk99skve"
      },
      "outputs": [],
      "source": [
        "svc = LinearSVC(random_state=RANDOM_STATE)\n",
        "svc_params = {'C': [0.001, 0.01, 0.1, 1, 10]}"
      ]
    },
    {
      "cell_type": "code",
      "execution_count": 38,
      "metadata": {
        "id": "IqJru5jtskvf",
        "outputId": "ac6b4272-54de-4c6d-c514-eba78f9aa5ff",
        "colab": {
          "base_uri": "https://localhost:8080/"
        }
      },
      "outputs": [
        {
          "output_type": "stream",
          "name": "stderr",
          "text": [
            "/usr/local/lib/python3.7/dist-packages/sklearn/svm/_base.py:1208: ConvergenceWarning: Liblinear failed to converge, increase the number of iterations.\n",
            "  ConvergenceWarning,\n",
            "/usr/local/lib/python3.7/dist-packages/sklearn/svm/_base.py:1208: ConvergenceWarning: Liblinear failed to converge, increase the number of iterations.\n",
            "  ConvergenceWarning,\n",
            "/usr/local/lib/python3.7/dist-packages/sklearn/svm/_base.py:1208: ConvergenceWarning: Liblinear failed to converge, increase the number of iterations.\n",
            "  ConvergenceWarning,\n",
            "/usr/local/lib/python3.7/dist-packages/sklearn/svm/_base.py:1208: ConvergenceWarning: Liblinear failed to converge, increase the number of iterations.\n",
            "  ConvergenceWarning,\n",
            "/usr/local/lib/python3.7/dist-packages/sklearn/svm/_base.py:1208: ConvergenceWarning: Liblinear failed to converge, increase the number of iterations.\n",
            "  ConvergenceWarning,\n",
            "/usr/local/lib/python3.7/dist-packages/sklearn/svm/_base.py:1208: ConvergenceWarning: Liblinear failed to converge, increase the number of iterations.\n",
            "  ConvergenceWarning,\n",
            "/usr/local/lib/python3.7/dist-packages/sklearn/svm/_base.py:1208: ConvergenceWarning: Liblinear failed to converge, increase the number of iterations.\n",
            "  ConvergenceWarning,\n",
            "/usr/local/lib/python3.7/dist-packages/sklearn/svm/_base.py:1208: ConvergenceWarning: Liblinear failed to converge, increase the number of iterations.\n",
            "  ConvergenceWarning,\n",
            "/usr/local/lib/python3.7/dist-packages/sklearn/svm/_base.py:1208: ConvergenceWarning: Liblinear failed to converge, increase the number of iterations.\n",
            "  ConvergenceWarning,\n",
            "/usr/local/lib/python3.7/dist-packages/sklearn/svm/_base.py:1208: ConvergenceWarning: Liblinear failed to converge, increase the number of iterations.\n",
            "  ConvergenceWarning,\n"
          ]
        },
        {
          "output_type": "stream",
          "name": "stdout",
          "text": [
            "CPU times: user 15.4 s, sys: 1.42 s, total: 16.8 s\n",
            "Wall time: 15.9 s\n"
          ]
        },
        {
          "output_type": "stream",
          "name": "stderr",
          "text": [
            "/usr/local/lib/python3.7/dist-packages/sklearn/svm/_base.py:1208: ConvergenceWarning: Liblinear failed to converge, increase the number of iterations.\n",
            "  ConvergenceWarning,\n"
          ]
        }
      ],
      "source": [
        "%%time\n",
        "best_svc_pca = GridSearchCV(svc, param_grid=svc_params, cv=3).fit(X_train_pca, y_train)"
      ]
    },
    {
      "cell_type": "markdown",
      "metadata": {
        "id": "20JjFjaVskvf"
      },
      "source": [
        "### <span style=\"color:red; font-size:1.5em;\">Завдання 5</span>\n",
        "\n",
        "Обрахуйте метрики за класифікатором SVM та з використанням PCA:\n",
        "\n",
        "**Для варіантів 1-5:**\n",
        "\n",
        "Яка різниця між кращою якістю (accuracy) на крос-валідації за використанням всіх 561 початкових ознак і за  використання методу головних компонент? Заокругліть значення метрики до сотих.\n",
        "\n",
        "**Для варіантів 6-10:**\n",
        "\n",
        "Порівняйте значення влучності (precision), отриманого за всіма ознаками (завдання 4) і з використанням PCA. Вкажіть переваги/недоліки застосування PCA до навчальної вибірки.\n",
        "\n",
        "**Для варіантів 11-15:**\n",
        "\n",
        "Порівняйте значення повноти (recall), отриманого за всіма ознаками (завдання 4) і з використанням PCA. Вкажіть переваги/недоліки застосування PCA до навчальної вибірки.\n",
        "\n",
        "**Для варіантів 16-20:**\n",
        "\n",
        "Порівняйте значення $F$-міри (f1-score), отриманої за всіма ознаками (завдання 4) і з використанням PCA. Вкажіть переваги/недоліки застосування PCA до навчальної вибірки."
      ]
    },
    {
      "cell_type": "code",
      "execution_count": 40,
      "metadata": {
        "id": "je0RLV5rskvh",
        "outputId": "56eb184f-ac66-4907-e27b-c2f52595c6c7",
        "colab": {
          "base_uri": "https://localhost:8080/",
          "height": 269
        }
      },
      "outputs": [
        {
          "output_type": "execute_result",
          "data": {
            "text/plain": [
              "                      ходьба  підйом вгору сходами  спуску вниз сходами  \\\n",
              "ходьба                   485                     6                    4   \n",
              "підйом вгору сходами      45                   408                   18   \n",
              "спуску вниз сходами        9                    26                  383   \n",
              "сидіння                    0                     3                    0   \n",
              "стояння                    3                     0                    0   \n",
              "лежання                    0                     0                    0   \n",
              "всі                      542                   443                  405   \n",
              "\n",
              "                      сидіння  стояння  лежання   всі  \n",
              "ходьба                      0        0        1   496  \n",
              "підйом вгору сходами        0        0        0   471  \n",
              "спуску вниз сходами         0        1        1   420  \n",
              "сидіння                   403       85        0   491  \n",
              "стояння                    34      495        0   532  \n",
              "лежання                     1        0      536   537  \n",
              "всі                       438      581      538  2947  "
            ],
            "text/html": [
              "\n",
              "  <div id=\"df-d7dfe669-5ab7-4c76-b954-7cd5d04569fd\">\n",
              "    <div class=\"colab-df-container\">\n",
              "      <div>\n",
              "<style scoped>\n",
              "    .dataframe tbody tr th:only-of-type {\n",
              "        vertical-align: middle;\n",
              "    }\n",
              "\n",
              "    .dataframe tbody tr th {\n",
              "        vertical-align: top;\n",
              "    }\n",
              "\n",
              "    .dataframe thead th {\n",
              "        text-align: right;\n",
              "    }\n",
              "</style>\n",
              "<table border=\"1\" class=\"dataframe\">\n",
              "  <thead>\n",
              "    <tr style=\"text-align: right;\">\n",
              "      <th></th>\n",
              "      <th>ходьба</th>\n",
              "      <th>підйом вгору сходами</th>\n",
              "      <th>спуску вниз сходами</th>\n",
              "      <th>сидіння</th>\n",
              "      <th>стояння</th>\n",
              "      <th>лежання</th>\n",
              "      <th>всі</th>\n",
              "    </tr>\n",
              "  </thead>\n",
              "  <tbody>\n",
              "    <tr>\n",
              "      <th>ходьба</th>\n",
              "      <td>485</td>\n",
              "      <td>6</td>\n",
              "      <td>4</td>\n",
              "      <td>0</td>\n",
              "      <td>0</td>\n",
              "      <td>1</td>\n",
              "      <td>496</td>\n",
              "    </tr>\n",
              "    <tr>\n",
              "      <th>підйом вгору сходами</th>\n",
              "      <td>45</td>\n",
              "      <td>408</td>\n",
              "      <td>18</td>\n",
              "      <td>0</td>\n",
              "      <td>0</td>\n",
              "      <td>0</td>\n",
              "      <td>471</td>\n",
              "    </tr>\n",
              "    <tr>\n",
              "      <th>спуску вниз сходами</th>\n",
              "      <td>9</td>\n",
              "      <td>26</td>\n",
              "      <td>383</td>\n",
              "      <td>0</td>\n",
              "      <td>1</td>\n",
              "      <td>1</td>\n",
              "      <td>420</td>\n",
              "    </tr>\n",
              "    <tr>\n",
              "      <th>сидіння</th>\n",
              "      <td>0</td>\n",
              "      <td>3</td>\n",
              "      <td>0</td>\n",
              "      <td>403</td>\n",
              "      <td>85</td>\n",
              "      <td>0</td>\n",
              "      <td>491</td>\n",
              "    </tr>\n",
              "    <tr>\n",
              "      <th>стояння</th>\n",
              "      <td>3</td>\n",
              "      <td>0</td>\n",
              "      <td>0</td>\n",
              "      <td>34</td>\n",
              "      <td>495</td>\n",
              "      <td>0</td>\n",
              "      <td>532</td>\n",
              "    </tr>\n",
              "    <tr>\n",
              "      <th>лежання</th>\n",
              "      <td>0</td>\n",
              "      <td>0</td>\n",
              "      <td>0</td>\n",
              "      <td>1</td>\n",
              "      <td>0</td>\n",
              "      <td>536</td>\n",
              "      <td>537</td>\n",
              "    </tr>\n",
              "    <tr>\n",
              "      <th>всі</th>\n",
              "      <td>542</td>\n",
              "      <td>443</td>\n",
              "      <td>405</td>\n",
              "      <td>438</td>\n",
              "      <td>581</td>\n",
              "      <td>538</td>\n",
              "      <td>2947</td>\n",
              "    </tr>\n",
              "  </tbody>\n",
              "</table>\n",
              "</div>\n",
              "      <button class=\"colab-df-convert\" onclick=\"convertToInteractive('df-d7dfe669-5ab7-4c76-b954-7cd5d04569fd')\"\n",
              "              title=\"Convert this dataframe to an interactive table.\"\n",
              "              style=\"display:none;\">\n",
              "        \n",
              "  <svg xmlns=\"http://www.w3.org/2000/svg\" height=\"24px\"viewBox=\"0 0 24 24\"\n",
              "       width=\"24px\">\n",
              "    <path d=\"M0 0h24v24H0V0z\" fill=\"none\"/>\n",
              "    <path d=\"M18.56 5.44l.94 2.06.94-2.06 2.06-.94-2.06-.94-.94-2.06-.94 2.06-2.06.94zm-11 1L8.5 8.5l.94-2.06 2.06-.94-2.06-.94L8.5 2.5l-.94 2.06-2.06.94zm10 10l.94 2.06.94-2.06 2.06-.94-2.06-.94-.94-2.06-.94 2.06-2.06.94z\"/><path d=\"M17.41 7.96l-1.37-1.37c-.4-.4-.92-.59-1.43-.59-.52 0-1.04.2-1.43.59L10.3 9.45l-7.72 7.72c-.78.78-.78 2.05 0 2.83L4 21.41c.39.39.9.59 1.41.59.51 0 1.02-.2 1.41-.59l7.78-7.78 2.81-2.81c.8-.78.8-2.07 0-2.86zM5.41 20L4 18.59l7.72-7.72 1.47 1.35L5.41 20z\"/>\n",
              "  </svg>\n",
              "      </button>\n",
              "      \n",
              "  <style>\n",
              "    .colab-df-container {\n",
              "      display:flex;\n",
              "      flex-wrap:wrap;\n",
              "      gap: 12px;\n",
              "    }\n",
              "\n",
              "    .colab-df-convert {\n",
              "      background-color: #E8F0FE;\n",
              "      border: none;\n",
              "      border-radius: 50%;\n",
              "      cursor: pointer;\n",
              "      display: none;\n",
              "      fill: #1967D2;\n",
              "      height: 32px;\n",
              "      padding: 0 0 0 0;\n",
              "      width: 32px;\n",
              "    }\n",
              "\n",
              "    .colab-df-convert:hover {\n",
              "      background-color: #E2EBFA;\n",
              "      box-shadow: 0px 1px 2px rgba(60, 64, 67, 0.3), 0px 1px 3px 1px rgba(60, 64, 67, 0.15);\n",
              "      fill: #174EA6;\n",
              "    }\n",
              "\n",
              "    [theme=dark] .colab-df-convert {\n",
              "      background-color: #3B4455;\n",
              "      fill: #D2E3FC;\n",
              "    }\n",
              "\n",
              "    [theme=dark] .colab-df-convert:hover {\n",
              "      background-color: #434B5C;\n",
              "      box-shadow: 0px 1px 3px 1px rgba(0, 0, 0, 0.15);\n",
              "      filter: drop-shadow(0px 1px 2px rgba(0, 0, 0, 0.3));\n",
              "      fill: #FFFFFF;\n",
              "    }\n",
              "  </style>\n",
              "\n",
              "      <script>\n",
              "        const buttonEl =\n",
              "          document.querySelector('#df-d7dfe669-5ab7-4c76-b954-7cd5d04569fd button.colab-df-convert');\n",
              "        buttonEl.style.display =\n",
              "          google.colab.kernel.accessAllowed ? 'block' : 'none';\n",
              "\n",
              "        async function convertToInteractive(key) {\n",
              "          const element = document.querySelector('#df-d7dfe669-5ab7-4c76-b954-7cd5d04569fd');\n",
              "          const dataTable =\n",
              "            await google.colab.kernel.invokeFunction('convertToInteractive',\n",
              "                                                     [key], {});\n",
              "          if (!dataTable) return;\n",
              "\n",
              "          const docLinkHtml = 'Like what you see? Visit the ' +\n",
              "            '<a target=\"_blank\" href=https://colab.research.google.com/notebooks/data_table.ipynb>data table notebook</a>'\n",
              "            + ' to learn more about interactive tables.';\n",
              "          element.innerHTML = '';\n",
              "          dataTable['output_type'] = 'display_data';\n",
              "          await google.colab.output.renderOutput(dataTable, element);\n",
              "          const docLink = document.createElement('div');\n",
              "          docLink.innerHTML = docLinkHtml;\n",
              "          element.appendChild(docLink);\n",
              "        }\n",
              "      </script>\n",
              "    </div>\n",
              "  </div>\n",
              "  "
            ]
          },
          "metadata": {},
          "execution_count": 40
        }
      ],
      "source": [
        "y_predicted_pca = best_svc_pca.predict(X_test_pca)\n",
        "tab = pd.crosstab(y_test, y_predicted_pca, margins=True)\n",
        "tab.index = ['ходьба', 'підйом вгору сходами', 'спуску вниз сходами', \n",
        "             'сидіння', 'стояння', 'лежання', 'всі']\n",
        "tab.columns = tab.index\n",
        "tab"
      ]
    },
    {
      "cell_type": "code",
      "source": [
        "metrics_pca = metrics.classification_report(y_test, y_predicted_pca, target_names=tab.index[:6])\n",
        "print(metrics_pca)"
      ],
      "metadata": {
        "id": "erXWAoXb1ocg",
        "outputId": "1bc1c0d8-d433-4f2a-9a0f-50b5e42e4567",
        "colab": {
          "base_uri": "https://localhost:8080/"
        }
      },
      "execution_count": 41,
      "outputs": [
        {
          "output_type": "stream",
          "name": "stdout",
          "text": [
            "                      precision    recall  f1-score   support\n",
            "\n",
            "              ходьба       0.89      0.98      0.93       496\n",
            "підйом вгору сходами       0.92      0.87      0.89       471\n",
            " спуску вниз сходами       0.95      0.91      0.93       420\n",
            "             сидіння       0.92      0.82      0.87       491\n",
            "             стояння       0.85      0.93      0.89       532\n",
            "             лежання       1.00      1.00      1.00       537\n",
            "\n",
            "            accuracy                           0.92      2947\n",
            "           macro avg       0.92      0.92      0.92      2947\n",
            "        weighted avg       0.92      0.92      0.92      2947\n",
            "\n"
          ]
        }
      ]
    }
  ],
  "metadata": {
    "anaconda-cloud": {},
    "kernelspec": {
      "display_name": "Python 3 (ipykernel)",
      "language": "python",
      "name": "python3"
    },
    "language_info": {
      "codemirror_mode": {
        "name": "ipython",
        "version": 3
      },
      "file_extension": ".py",
      "mimetype": "text/x-python",
      "name": "python",
      "nbconvert_exporter": "python",
      "pygments_lexer": "ipython3",
      "version": "3.9.13"
    },
    "colab": {
      "provenance": []
    },
    "widgets": {
      "application/vnd.jupyter.widget-state+json": {
        "40ee60a455e9478faa7a5c60ee9a9267": {
          "model_module": "@jupyter-widgets/controls",
          "model_name": "HBoxModel",
          "model_module_version": "1.5.0",
          "state": {
            "_dom_classes": [],
            "_model_module": "@jupyter-widgets/controls",
            "_model_module_version": "1.5.0",
            "_model_name": "HBoxModel",
            "_view_count": null,
            "_view_module": "@jupyter-widgets/controls",
            "_view_module_version": "1.5.0",
            "_view_name": "HBoxView",
            "box_style": "",
            "children": [
              "IPY_MODEL_eb477c434f3847fe8d467a4cedcb427f",
              "IPY_MODEL_81ac1e726c8b4a4a8ea91e8eaff3065f",
              "IPY_MODEL_6647f8efe2a54e3bb9d94cdc3d5f1d15"
            ],
            "layout": "IPY_MODEL_92cf98ba26194c84b3834ffccb475630"
          }
        },
        "eb477c434f3847fe8d467a4cedcb427f": {
          "model_module": "@jupyter-widgets/controls",
          "model_name": "HTMLModel",
          "model_module_version": "1.5.0",
          "state": {
            "_dom_classes": [],
            "_model_module": "@jupyter-widgets/controls",
            "_model_module_version": "1.5.0",
            "_model_name": "HTMLModel",
            "_view_count": null,
            "_view_module": "@jupyter-widgets/controls",
            "_view_module_version": "1.5.0",
            "_view_name": "HTMLView",
            "description": "",
            "description_tooltip": null,
            "layout": "IPY_MODEL_f5fb0e6280da4ee6ab1ecf8ba3d09d70",
            "placeholder": "​",
            "style": "IPY_MODEL_78315bad289748dbbb9129eb4a731065",
            "value": "100%"
          }
        },
        "81ac1e726c8b4a4a8ea91e8eaff3065f": {
          "model_module": "@jupyter-widgets/controls",
          "model_name": "FloatProgressModel",
          "model_module_version": "1.5.0",
          "state": {
            "_dom_classes": [],
            "_model_module": "@jupyter-widgets/controls",
            "_model_module_version": "1.5.0",
            "_model_name": "FloatProgressModel",
            "_view_count": null,
            "_view_module": "@jupyter-widgets/controls",
            "_view_module_version": "1.5.0",
            "_view_name": "ProgressView",
            "bar_style": "success",
            "description": "",
            "description_tooltip": null,
            "layout": "IPY_MODEL_8d21239d5e4f435094f6e27f99422d25",
            "max": 6,
            "min": 0,
            "orientation": "horizontal",
            "style": "IPY_MODEL_f6821737c38142c084ca6a8eff590602",
            "value": 6
          }
        },
        "6647f8efe2a54e3bb9d94cdc3d5f1d15": {
          "model_module": "@jupyter-widgets/controls",
          "model_name": "HTMLModel",
          "model_module_version": "1.5.0",
          "state": {
            "_dom_classes": [],
            "_model_module": "@jupyter-widgets/controls",
            "_model_module_version": "1.5.0",
            "_model_name": "HTMLModel",
            "_view_count": null,
            "_view_module": "@jupyter-widgets/controls",
            "_view_module_version": "1.5.0",
            "_view_name": "HTMLView",
            "description": "",
            "description_tooltip": null,
            "layout": "IPY_MODEL_8529182049724906986b298658bbf94b",
            "placeholder": "​",
            "style": "IPY_MODEL_0302c0ccf22841ecbc1bda3f71824df6",
            "value": " 6/6 [00:13&lt;00:00,  2.12s/it]"
          }
        },
        "92cf98ba26194c84b3834ffccb475630": {
          "model_module": "@jupyter-widgets/base",
          "model_name": "LayoutModel",
          "model_module_version": "1.2.0",
          "state": {
            "_model_module": "@jupyter-widgets/base",
            "_model_module_version": "1.2.0",
            "_model_name": "LayoutModel",
            "_view_count": null,
            "_view_module": "@jupyter-widgets/base",
            "_view_module_version": "1.2.0",
            "_view_name": "LayoutView",
            "align_content": null,
            "align_items": null,
            "align_self": null,
            "border": null,
            "bottom": null,
            "display": null,
            "flex": null,
            "flex_flow": null,
            "grid_area": null,
            "grid_auto_columns": null,
            "grid_auto_flow": null,
            "grid_auto_rows": null,
            "grid_column": null,
            "grid_gap": null,
            "grid_row": null,
            "grid_template_areas": null,
            "grid_template_columns": null,
            "grid_template_rows": null,
            "height": null,
            "justify_content": null,
            "justify_items": null,
            "left": null,
            "margin": null,
            "max_height": null,
            "max_width": null,
            "min_height": null,
            "min_width": null,
            "object_fit": null,
            "object_position": null,
            "order": null,
            "overflow": null,
            "overflow_x": null,
            "overflow_y": null,
            "padding": null,
            "right": null,
            "top": null,
            "visibility": null,
            "width": null
          }
        },
        "f5fb0e6280da4ee6ab1ecf8ba3d09d70": {
          "model_module": "@jupyter-widgets/base",
          "model_name": "LayoutModel",
          "model_module_version": "1.2.0",
          "state": {
            "_model_module": "@jupyter-widgets/base",
            "_model_module_version": "1.2.0",
            "_model_name": "LayoutModel",
            "_view_count": null,
            "_view_module": "@jupyter-widgets/base",
            "_view_module_version": "1.2.0",
            "_view_name": "LayoutView",
            "align_content": null,
            "align_items": null,
            "align_self": null,
            "border": null,
            "bottom": null,
            "display": null,
            "flex": null,
            "flex_flow": null,
            "grid_area": null,
            "grid_auto_columns": null,
            "grid_auto_flow": null,
            "grid_auto_rows": null,
            "grid_column": null,
            "grid_gap": null,
            "grid_row": null,
            "grid_template_areas": null,
            "grid_template_columns": null,
            "grid_template_rows": null,
            "height": null,
            "justify_content": null,
            "justify_items": null,
            "left": null,
            "margin": null,
            "max_height": null,
            "max_width": null,
            "min_height": null,
            "min_width": null,
            "object_fit": null,
            "object_position": null,
            "order": null,
            "overflow": null,
            "overflow_x": null,
            "overflow_y": null,
            "padding": null,
            "right": null,
            "top": null,
            "visibility": null,
            "width": null
          }
        },
        "78315bad289748dbbb9129eb4a731065": {
          "model_module": "@jupyter-widgets/controls",
          "model_name": "DescriptionStyleModel",
          "model_module_version": "1.5.0",
          "state": {
            "_model_module": "@jupyter-widgets/controls",
            "_model_module_version": "1.5.0",
            "_model_name": "DescriptionStyleModel",
            "_view_count": null,
            "_view_module": "@jupyter-widgets/base",
            "_view_module_version": "1.2.0",
            "_view_name": "StyleView",
            "description_width": ""
          }
        },
        "8d21239d5e4f435094f6e27f99422d25": {
          "model_module": "@jupyter-widgets/base",
          "model_name": "LayoutModel",
          "model_module_version": "1.2.0",
          "state": {
            "_model_module": "@jupyter-widgets/base",
            "_model_module_version": "1.2.0",
            "_model_name": "LayoutModel",
            "_view_count": null,
            "_view_module": "@jupyter-widgets/base",
            "_view_module_version": "1.2.0",
            "_view_name": "LayoutView",
            "align_content": null,
            "align_items": null,
            "align_self": null,
            "border": null,
            "bottom": null,
            "display": null,
            "flex": null,
            "flex_flow": null,
            "grid_area": null,
            "grid_auto_columns": null,
            "grid_auto_flow": null,
            "grid_auto_rows": null,
            "grid_column": null,
            "grid_gap": null,
            "grid_row": null,
            "grid_template_areas": null,
            "grid_template_columns": null,
            "grid_template_rows": null,
            "height": null,
            "justify_content": null,
            "justify_items": null,
            "left": null,
            "margin": null,
            "max_height": null,
            "max_width": null,
            "min_height": null,
            "min_width": null,
            "object_fit": null,
            "object_position": null,
            "order": null,
            "overflow": null,
            "overflow_x": null,
            "overflow_y": null,
            "padding": null,
            "right": null,
            "top": null,
            "visibility": null,
            "width": null
          }
        },
        "f6821737c38142c084ca6a8eff590602": {
          "model_module": "@jupyter-widgets/controls",
          "model_name": "ProgressStyleModel",
          "model_module_version": "1.5.0",
          "state": {
            "_model_module": "@jupyter-widgets/controls",
            "_model_module_version": "1.5.0",
            "_model_name": "ProgressStyleModel",
            "_view_count": null,
            "_view_module": "@jupyter-widgets/base",
            "_view_module_version": "1.2.0",
            "_view_name": "StyleView",
            "bar_color": null,
            "description_width": ""
          }
        },
        "8529182049724906986b298658bbf94b": {
          "model_module": "@jupyter-widgets/base",
          "model_name": "LayoutModel",
          "model_module_version": "1.2.0",
          "state": {
            "_model_module": "@jupyter-widgets/base",
            "_model_module_version": "1.2.0",
            "_model_name": "LayoutModel",
            "_view_count": null,
            "_view_module": "@jupyter-widgets/base",
            "_view_module_version": "1.2.0",
            "_view_name": "LayoutView",
            "align_content": null,
            "align_items": null,
            "align_self": null,
            "border": null,
            "bottom": null,
            "display": null,
            "flex": null,
            "flex_flow": null,
            "grid_area": null,
            "grid_auto_columns": null,
            "grid_auto_flow": null,
            "grid_auto_rows": null,
            "grid_column": null,
            "grid_gap": null,
            "grid_row": null,
            "grid_template_areas": null,
            "grid_template_columns": null,
            "grid_template_rows": null,
            "height": null,
            "justify_content": null,
            "justify_items": null,
            "left": null,
            "margin": null,
            "max_height": null,
            "max_width": null,
            "min_height": null,
            "min_width": null,
            "object_fit": null,
            "object_position": null,
            "order": null,
            "overflow": null,
            "overflow_x": null,
            "overflow_y": null,
            "padding": null,
            "right": null,
            "top": null,
            "visibility": null,
            "width": null
          }
        },
        "0302c0ccf22841ecbc1bda3f71824df6": {
          "model_module": "@jupyter-widgets/controls",
          "model_name": "DescriptionStyleModel",
          "model_module_version": "1.5.0",
          "state": {
            "_model_module": "@jupyter-widgets/controls",
            "_model_module_version": "1.5.0",
            "_model_name": "DescriptionStyleModel",
            "_view_count": null,
            "_view_module": "@jupyter-widgets/base",
            "_view_module_version": "1.2.0",
            "_view_name": "StyleView",
            "description_width": ""
          }
        },
        "7d9d8c3785ca4ed6bfbfc21c27afb4e5": {
          "model_module": "@jupyter-widgets/controls",
          "model_name": "HBoxModel",
          "model_module_version": "1.5.0",
          "state": {
            "_dom_classes": [],
            "_model_module": "@jupyter-widgets/controls",
            "_model_module_version": "1.5.0",
            "_model_name": "HBoxModel",
            "_view_count": null,
            "_view_module": "@jupyter-widgets/controls",
            "_view_module_version": "1.5.0",
            "_view_name": "HBoxView",
            "box_style": "",
            "children": [
              "IPY_MODEL_a3ce352164204664ae6cdffd39227f95",
              "IPY_MODEL_d877b146dee1404d993b9a3c853188ed",
              "IPY_MODEL_0c22a97ec1ad40df9ce890bfc5e407c2"
            ],
            "layout": "IPY_MODEL_6d30d883cff543bab7dc11b826c516ce"
          }
        },
        "a3ce352164204664ae6cdffd39227f95": {
          "model_module": "@jupyter-widgets/controls",
          "model_name": "HTMLModel",
          "model_module_version": "1.5.0",
          "state": {
            "_dom_classes": [],
            "_model_module": "@jupyter-widgets/controls",
            "_model_module_version": "1.5.0",
            "_model_name": "HTMLModel",
            "_view_count": null,
            "_view_module": "@jupyter-widgets/controls",
            "_view_module_version": "1.5.0",
            "_view_name": "HTMLView",
            "description": "",
            "description_tooltip": null,
            "layout": "IPY_MODEL_965cbbdfa4c1460dadf7725f4bca191c",
            "placeholder": "​",
            "style": "IPY_MODEL_6c8229af8374451f8b209052b21db052",
            "value": "100%"
          }
        },
        "d877b146dee1404d993b9a3c853188ed": {
          "model_module": "@jupyter-widgets/controls",
          "model_name": "FloatProgressModel",
          "model_module_version": "1.5.0",
          "state": {
            "_dom_classes": [],
            "_model_module": "@jupyter-widgets/controls",
            "_model_module_version": "1.5.0",
            "_model_name": "FloatProgressModel",
            "_view_count": null,
            "_view_module": "@jupyter-widgets/controls",
            "_view_module_version": "1.5.0",
            "_view_name": "ProgressView",
            "bar_style": "success",
            "description": "",
            "description_tooltip": null,
            "layout": "IPY_MODEL_9503b55d8cb34136b3f13ed5c615a71e",
            "max": 5,
            "min": 0,
            "orientation": "horizontal",
            "style": "IPY_MODEL_36f1566b863441c19ab6e0dfbea3775c",
            "value": 5
          }
        },
        "0c22a97ec1ad40df9ce890bfc5e407c2": {
          "model_module": "@jupyter-widgets/controls",
          "model_name": "HTMLModel",
          "model_module_version": "1.5.0",
          "state": {
            "_dom_classes": [],
            "_model_module": "@jupyter-widgets/controls",
            "_model_module_version": "1.5.0",
            "_model_name": "HTMLModel",
            "_view_count": null,
            "_view_module": "@jupyter-widgets/controls",
            "_view_module_version": "1.5.0",
            "_view_name": "HTMLView",
            "description": "",
            "description_tooltip": null,
            "layout": "IPY_MODEL_cbcd78e30b89449da4d1c4503e03c709",
            "placeholder": "​",
            "style": "IPY_MODEL_e1e63c9d8bbc4f26af7579d2e7e67ac8",
            "value": " 5/5 [00:07&lt;00:00,  1.53s/it]"
          }
        },
        "6d30d883cff543bab7dc11b826c516ce": {
          "model_module": "@jupyter-widgets/base",
          "model_name": "LayoutModel",
          "model_module_version": "1.2.0",
          "state": {
            "_model_module": "@jupyter-widgets/base",
            "_model_module_version": "1.2.0",
            "_model_name": "LayoutModel",
            "_view_count": null,
            "_view_module": "@jupyter-widgets/base",
            "_view_module_version": "1.2.0",
            "_view_name": "LayoutView",
            "align_content": null,
            "align_items": null,
            "align_self": null,
            "border": null,
            "bottom": null,
            "display": null,
            "flex": null,
            "flex_flow": null,
            "grid_area": null,
            "grid_auto_columns": null,
            "grid_auto_flow": null,
            "grid_auto_rows": null,
            "grid_column": null,
            "grid_gap": null,
            "grid_row": null,
            "grid_template_areas": null,
            "grid_template_columns": null,
            "grid_template_rows": null,
            "height": null,
            "justify_content": null,
            "justify_items": null,
            "left": null,
            "margin": null,
            "max_height": null,
            "max_width": null,
            "min_height": null,
            "min_width": null,
            "object_fit": null,
            "object_position": null,
            "order": null,
            "overflow": null,
            "overflow_x": null,
            "overflow_y": null,
            "padding": null,
            "right": null,
            "top": null,
            "visibility": null,
            "width": null
          }
        },
        "965cbbdfa4c1460dadf7725f4bca191c": {
          "model_module": "@jupyter-widgets/base",
          "model_name": "LayoutModel",
          "model_module_version": "1.2.0",
          "state": {
            "_model_module": "@jupyter-widgets/base",
            "_model_module_version": "1.2.0",
            "_model_name": "LayoutModel",
            "_view_count": null,
            "_view_module": "@jupyter-widgets/base",
            "_view_module_version": "1.2.0",
            "_view_name": "LayoutView",
            "align_content": null,
            "align_items": null,
            "align_self": null,
            "border": null,
            "bottom": null,
            "display": null,
            "flex": null,
            "flex_flow": null,
            "grid_area": null,
            "grid_auto_columns": null,
            "grid_auto_flow": null,
            "grid_auto_rows": null,
            "grid_column": null,
            "grid_gap": null,
            "grid_row": null,
            "grid_template_areas": null,
            "grid_template_columns": null,
            "grid_template_rows": null,
            "height": null,
            "justify_content": null,
            "justify_items": null,
            "left": null,
            "margin": null,
            "max_height": null,
            "max_width": null,
            "min_height": null,
            "min_width": null,
            "object_fit": null,
            "object_position": null,
            "order": null,
            "overflow": null,
            "overflow_x": null,
            "overflow_y": null,
            "padding": null,
            "right": null,
            "top": null,
            "visibility": null,
            "width": null
          }
        },
        "6c8229af8374451f8b209052b21db052": {
          "model_module": "@jupyter-widgets/controls",
          "model_name": "DescriptionStyleModel",
          "model_module_version": "1.5.0",
          "state": {
            "_model_module": "@jupyter-widgets/controls",
            "_model_module_version": "1.5.0",
            "_model_name": "DescriptionStyleModel",
            "_view_count": null,
            "_view_module": "@jupyter-widgets/base",
            "_view_module_version": "1.2.0",
            "_view_name": "StyleView",
            "description_width": ""
          }
        },
        "9503b55d8cb34136b3f13ed5c615a71e": {
          "model_module": "@jupyter-widgets/base",
          "model_name": "LayoutModel",
          "model_module_version": "1.2.0",
          "state": {
            "_model_module": "@jupyter-widgets/base",
            "_model_module_version": "1.2.0",
            "_model_name": "LayoutModel",
            "_view_count": null,
            "_view_module": "@jupyter-widgets/base",
            "_view_module_version": "1.2.0",
            "_view_name": "LayoutView",
            "align_content": null,
            "align_items": null,
            "align_self": null,
            "border": null,
            "bottom": null,
            "display": null,
            "flex": null,
            "flex_flow": null,
            "grid_area": null,
            "grid_auto_columns": null,
            "grid_auto_flow": null,
            "grid_auto_rows": null,
            "grid_column": null,
            "grid_gap": null,
            "grid_row": null,
            "grid_template_areas": null,
            "grid_template_columns": null,
            "grid_template_rows": null,
            "height": null,
            "justify_content": null,
            "justify_items": null,
            "left": null,
            "margin": null,
            "max_height": null,
            "max_width": null,
            "min_height": null,
            "min_width": null,
            "object_fit": null,
            "object_position": null,
            "order": null,
            "overflow": null,
            "overflow_x": null,
            "overflow_y": null,
            "padding": null,
            "right": null,
            "top": null,
            "visibility": null,
            "width": null
          }
        },
        "36f1566b863441c19ab6e0dfbea3775c": {
          "model_module": "@jupyter-widgets/controls",
          "model_name": "ProgressStyleModel",
          "model_module_version": "1.5.0",
          "state": {
            "_model_module": "@jupyter-widgets/controls",
            "_model_module_version": "1.5.0",
            "_model_name": "ProgressStyleModel",
            "_view_count": null,
            "_view_module": "@jupyter-widgets/base",
            "_view_module_version": "1.2.0",
            "_view_name": "StyleView",
            "bar_color": null,
            "description_width": ""
          }
        },
        "cbcd78e30b89449da4d1c4503e03c709": {
          "model_module": "@jupyter-widgets/base",
          "model_name": "LayoutModel",
          "model_module_version": "1.2.0",
          "state": {
            "_model_module": "@jupyter-widgets/base",
            "_model_module_version": "1.2.0",
            "_model_name": "LayoutModel",
            "_view_count": null,
            "_view_module": "@jupyter-widgets/base",
            "_view_module_version": "1.2.0",
            "_view_name": "LayoutView",
            "align_content": null,
            "align_items": null,
            "align_self": null,
            "border": null,
            "bottom": null,
            "display": null,
            "flex": null,
            "flex_flow": null,
            "grid_area": null,
            "grid_auto_columns": null,
            "grid_auto_flow": null,
            "grid_auto_rows": null,
            "grid_column": null,
            "grid_gap": null,
            "grid_row": null,
            "grid_template_areas": null,
            "grid_template_columns": null,
            "grid_template_rows": null,
            "height": null,
            "justify_content": null,
            "justify_items": null,
            "left": null,
            "margin": null,
            "max_height": null,
            "max_width": null,
            "min_height": null,
            "min_width": null,
            "object_fit": null,
            "object_position": null,
            "order": null,
            "overflow": null,
            "overflow_x": null,
            "overflow_y": null,
            "padding": null,
            "right": null,
            "top": null,
            "visibility": null,
            "width": null
          }
        },
        "e1e63c9d8bbc4f26af7579d2e7e67ac8": {
          "model_module": "@jupyter-widgets/controls",
          "model_name": "DescriptionStyleModel",
          "model_module_version": "1.5.0",
          "state": {
            "_model_module": "@jupyter-widgets/controls",
            "_model_module_version": "1.5.0",
            "_model_name": "DescriptionStyleModel",
            "_view_count": null,
            "_view_module": "@jupyter-widgets/base",
            "_view_module_version": "1.2.0",
            "_view_name": "StyleView",
            "description_width": ""
          }
        }
      }
    }
  },
  "nbformat": 4,
  "nbformat_minor": 0
}