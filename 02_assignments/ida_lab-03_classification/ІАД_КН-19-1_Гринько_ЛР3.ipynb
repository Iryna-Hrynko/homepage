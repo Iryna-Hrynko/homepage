{
  "cells": [
    {
      "cell_type": "markdown",
      "metadata": {
        "id": "HQvW70qsQ1A6"
      },
      "source": [
        "<h1><center>Лабораторна робота 3.</center></h1>\n",
        "<h2><center>Задача класифікації за набором даних Adult репозитарію UCI</center></h2>"
      ]
    },
    {
      "cell_type": "markdown",
      "metadata": {
        "id": "JgIIuMabQ1A_"
      },
      "source": [
        "**Виконав:** Прізвище І.П.\n",
        "\n",
        "**Варіант:** №__"
      ]
    },
    {
      "cell_type": "markdown",
      "metadata": {
        "id": "LXN4rhuAQ1Bc"
      },
      "source": [
        "<a class=\"anchor\" id=\"3\"></a>"
      ]
    },
    {
      "cell_type": "markdown",
      "metadata": {
        "id": "ZFhh0WA8Q1Be"
      },
      "source": [
        "## Зміст\n",
        "\n",
        "1. [Синтетичний набір даних \"дівчина в барі\"](#3.1)\n",
        "2. [Функції для обрахування ентропії й приросту інформації](#3.2)\n",
        "3. [Задача класифікації за набором данних \"Adult\"](#3.3)\n",
        "    - [Дерево рішень без налаштування параметрів ](#3.3.1)\n",
        "    - [Дерево рішень з налаштуванням параметрів](#3.3.2)"
      ]
    },
    {
      "cell_type": "markdown",
      "metadata": {
        "id": "XhOqTlFUQ1Bf"
      },
      "source": [
        "У цій лабораторній роботі Вам пропонується розібратися з тим, як працює дерево рішень на іграшковому прикладі. Ми навчимо і налаштуємо дерево рішень і (за бажанням) випадковий ліс для задачі класифікації за уже знайомим набором даних Adult сховища UCI."
      ]
    },
    {
      "cell_type": "markdown",
      "metadata": {
        "id": "_LlnqjkUQ1Bg"
      },
      "source": [
        "Спершу підключаємо необхідні бібліотеки:"
      ]
    },
    {
      "cell_type": "code",
      "execution_count": 1,
      "metadata": {
        "id": "D2j9TQeQQ1Bh"
      },
      "outputs": [],
      "source": [
        "# Відключимо різні попередження Anaconda\n",
        "import warnings\n",
        "warnings.filterwarnings('ignore')\n",
        "\n",
        "import numpy as np\n",
        "import pandas as pd\n",
        "\n",
        "%matplotlib inline\n",
        "from matplotlib import pyplot as plt\n",
        "import seaborn as sns\n",
        "\n",
        "from sklearn.preprocessing import LabelEncoder\n",
        "import collections\n",
        "from sklearn.model_selection import GridSearchCV\n",
        "from sklearn import preprocessing\n",
        "from sklearn.tree import DecisionTreeClassifier, export_graphviz\n",
        "from sklearn.ensemble import RandomForestClassifier\n",
        "from sklearn.metrics import accuracy_score"
      ]
    },
    {
      "cell_type": "code",
      "execution_count": 2,
      "metadata": {
        "id": "Fh04Rl9cQ1Bl"
      },
      "outputs": [],
      "source": [
        "# задамо графіки у форматі .svg, щоби вони мали кращу чіткість\n",
        "%config InlineBackend.figure_format = 'svg' \n",
        "\n",
        "# підвищимо розмір графіків за замовчуванням\n",
        "plt.style.use('ggplot')\n",
        "plt.rcParams['figure.figsize'] = 7, 5"
      ]
    },
    {
      "cell_type": "markdown",
      "metadata": {
        "id": "szcpd84QQ1Bm"
      },
      "source": [
        "<a class=\"anchor\" id=\"3.1\"></a>"
      ]
    },
    {
      "cell_type": "markdown",
      "metadata": {
        "id": "EzA6rWmRQ1Bo"
      },
      "source": [
        "## <span style=\"color:blue; font-size:1.2em;\">3.1. Синтетичний набір даних \"дівчина в барі\"</span>\n",
        "\n",
        "[Повернутися до змісту](#3)"
      ]
    },
    {
      "cell_type": "markdown",
      "metadata": {
        "id": "PvOS18KeQ1Bq"
      },
      "source": [
        "Мета цієї частини - \"на пальцях\", за допомогою іграшкової задачі класифікації розібратися в тому, як працюють дерева рішень. Саме по собі дерево рішень є доволі слабким алгоритмом, але основані на ньому алгоритми випадкового лісу і градієнтного бустингу - мабуть, найкращі рішення, що є на сьогодні (в задачах, де можна обійтися без нейронних мереж). Тому розібратися в тому, як працює дерево рішень, доволі корисно."
      ]
    },
    {
      "cell_type": "markdown",
      "metadata": {
        "id": "f-EY2Dq7Q1Br"
      },
      "source": [
        "Спершу розглянемо таку задачу бінарної класифікації: чи поїде з Вами дівчина з бару випити філіжанку кави? Результат цієї задачі залежатиме від таких чинників: Ваша зовнішність і внутрішня харизма, міцність запропонованих напоїв і, як би це не звучало меркантильно, від кількості витрачених в барі грошей."
      ]
    },
    {
      "cell_type": "markdown",
      "metadata": {
        "id": "wCRLrIuaQ1Bs"
      },
      "source": [
        "![image](https://raw.githubusercontent.com/radiukpavlo/intelligent-data-analysis/main/03_img/3_lab_girl-in-a-bar.png)"
      ]
    },
    {
      "cell_type": "markdown",
      "metadata": {
        "id": "oWxtj9u2Q1Bt"
      },
      "source": [
        "### Створення набору даних"
      ]
    },
    {
      "cell_type": "code",
      "execution_count": 3,
      "metadata": {
        "id": "OKsH4Ro0Q1Bt"
      },
      "outputs": [],
      "source": [
        "# Створення датафрейму з dummy variables\n",
        "def create_df(dic, feature_list):\n",
        "    out = pd.DataFrame(dic)\n",
        "    out = pd.concat([out, pd.get_dummies(out[feature_list])], axis = 1)\n",
        "    out.drop(feature_list, axis = 1, inplace = True)\n",
        "    return out\n",
        "\n",
        "# Деякі значення ознак є в тестовій підвибірці, але немає в навчальній і навпаки\n",
        "def intersect_features(train, test):\n",
        "    common_feat = list( set(train.keys()) & set(test.keys()))\n",
        "    return train[common_feat], test[common_feat]"
      ]
    },
    {
      "cell_type": "code",
      "execution_count": 4,
      "metadata": {
        "id": "15AQxdEdQ1Bu"
      },
      "outputs": [],
      "source": [
        "features = ['Зовнішність', 'Алкоголь_в_напої',\n",
        "            'Рівень_харизми', 'Витрачені_гроші']"
      ]
    },
    {
      "cell_type": "markdown",
      "metadata": {
        "id": "P-C7BvyLQ1Bv"
      },
      "source": [
        "Задамо навчальну вибірку:"
      ]
    },
    {
      "cell_type": "code",
      "execution_count": 9,
      "metadata": {
        "id": "MTVB3i0YQ1Bv",
        "outputId": "654bbaf7-53ea-4454-8e60-3a096b5d7152",
        "colab": {
          "base_uri": "https://localhost:8080/",
          "height": 269
        }
      },
      "outputs": [
        {
          "output_type": "execute_result",
          "data": {
            "text/plain": [
              "   Поїде  Зовнішність_відштовхуюча  Зовнішність_приємна  Алкоголь_в_напої_ні  \\\n",
              "0      0                         0                    1                    0   \n",
              "1      1                         0                    1                    0   \n",
              "2      0                         0                    1                    1   \n",
              "3      1                         1                    0                    1   \n",
              "4      1                         1                    0                    0   \n",
              "5      0                         1                    0                    0   \n",
              "6      0                         0                    1                    0   \n",
              "\n",
              "   Алкоголь_в_напої_так  Рівень_харизми_високий  Рівень_харизми_низький  \\\n",
              "0                     1                       1                       0   \n",
              "1                     1                       0                       1   \n",
              "2                     0                       0                       0   \n",
              "3                     0                       0                       0   \n",
              "4                     1                       0                       1   \n",
              "5                     1                       1                       0   \n",
              "6                     1                       0                       0   \n",
              "\n",
              "   Рівень_харизми_середній  Витрачені_гроші_багато  Витрачені_гроші_мало  \n",
              "0                        0                       1                     0  \n",
              "1                        0                       0                     1  \n",
              "2                        1                       1                     0  \n",
              "3                        1                       0                     1  \n",
              "4                        0                       1                     0  \n",
              "5                        0                       1                     0  \n",
              "6                        1                       1                     0  "
            ],
            "text/html": [
              "\n",
              "  <div id=\"df-6b07b2a0-8700-4455-89d6-822a2f0f487f\">\n",
              "    <div class=\"colab-df-container\">\n",
              "      <div>\n",
              "<style scoped>\n",
              "    .dataframe tbody tr th:only-of-type {\n",
              "        vertical-align: middle;\n",
              "    }\n",
              "\n",
              "    .dataframe tbody tr th {\n",
              "        vertical-align: top;\n",
              "    }\n",
              "\n",
              "    .dataframe thead th {\n",
              "        text-align: right;\n",
              "    }\n",
              "</style>\n",
              "<table border=\"1\" class=\"dataframe\">\n",
              "  <thead>\n",
              "    <tr style=\"text-align: right;\">\n",
              "      <th></th>\n",
              "      <th>Поїде</th>\n",
              "      <th>Зовнішність_відштовхуюча</th>\n",
              "      <th>Зовнішність_приємна</th>\n",
              "      <th>Алкоголь_в_напої_ні</th>\n",
              "      <th>Алкоголь_в_напої_так</th>\n",
              "      <th>Рівень_харизми_високий</th>\n",
              "      <th>Рівень_харизми_низький</th>\n",
              "      <th>Рівень_харизми_середній</th>\n",
              "      <th>Витрачені_гроші_багато</th>\n",
              "      <th>Витрачені_гроші_мало</th>\n",
              "    </tr>\n",
              "  </thead>\n",
              "  <tbody>\n",
              "    <tr>\n",
              "      <th>0</th>\n",
              "      <td>0</td>\n",
              "      <td>0</td>\n",
              "      <td>1</td>\n",
              "      <td>0</td>\n",
              "      <td>1</td>\n",
              "      <td>1</td>\n",
              "      <td>0</td>\n",
              "      <td>0</td>\n",
              "      <td>1</td>\n",
              "      <td>0</td>\n",
              "    </tr>\n",
              "    <tr>\n",
              "      <th>1</th>\n",
              "      <td>1</td>\n",
              "      <td>0</td>\n",
              "      <td>1</td>\n",
              "      <td>0</td>\n",
              "      <td>1</td>\n",
              "      <td>0</td>\n",
              "      <td>1</td>\n",
              "      <td>0</td>\n",
              "      <td>0</td>\n",
              "      <td>1</td>\n",
              "    </tr>\n",
              "    <tr>\n",
              "      <th>2</th>\n",
              "      <td>0</td>\n",
              "      <td>0</td>\n",
              "      <td>1</td>\n",
              "      <td>1</td>\n",
              "      <td>0</td>\n",
              "      <td>0</td>\n",
              "      <td>0</td>\n",
              "      <td>1</td>\n",
              "      <td>1</td>\n",
              "      <td>0</td>\n",
              "    </tr>\n",
              "    <tr>\n",
              "      <th>3</th>\n",
              "      <td>1</td>\n",
              "      <td>1</td>\n",
              "      <td>0</td>\n",
              "      <td>1</td>\n",
              "      <td>0</td>\n",
              "      <td>0</td>\n",
              "      <td>0</td>\n",
              "      <td>1</td>\n",
              "      <td>0</td>\n",
              "      <td>1</td>\n",
              "    </tr>\n",
              "    <tr>\n",
              "      <th>4</th>\n",
              "      <td>1</td>\n",
              "      <td>1</td>\n",
              "      <td>0</td>\n",
              "      <td>0</td>\n",
              "      <td>1</td>\n",
              "      <td>0</td>\n",
              "      <td>1</td>\n",
              "      <td>0</td>\n",
              "      <td>1</td>\n",
              "      <td>0</td>\n",
              "    </tr>\n",
              "    <tr>\n",
              "      <th>5</th>\n",
              "      <td>0</td>\n",
              "      <td>1</td>\n",
              "      <td>0</td>\n",
              "      <td>0</td>\n",
              "      <td>1</td>\n",
              "      <td>1</td>\n",
              "      <td>0</td>\n",
              "      <td>0</td>\n",
              "      <td>1</td>\n",
              "      <td>0</td>\n",
              "    </tr>\n",
              "    <tr>\n",
              "      <th>6</th>\n",
              "      <td>0</td>\n",
              "      <td>0</td>\n",
              "      <td>1</td>\n",
              "      <td>0</td>\n",
              "      <td>1</td>\n",
              "      <td>0</td>\n",
              "      <td>0</td>\n",
              "      <td>1</td>\n",
              "      <td>1</td>\n",
              "      <td>0</td>\n",
              "    </tr>\n",
              "  </tbody>\n",
              "</table>\n",
              "</div>\n",
              "      <button class=\"colab-df-convert\" onclick=\"convertToInteractive('df-6b07b2a0-8700-4455-89d6-822a2f0f487f')\"\n",
              "              title=\"Convert this dataframe to an interactive table.\"\n",
              "              style=\"display:none;\">\n",
              "        \n",
              "  <svg xmlns=\"http://www.w3.org/2000/svg\" height=\"24px\"viewBox=\"0 0 24 24\"\n",
              "       width=\"24px\">\n",
              "    <path d=\"M0 0h24v24H0V0z\" fill=\"none\"/>\n",
              "    <path d=\"M18.56 5.44l.94 2.06.94-2.06 2.06-.94-2.06-.94-.94-2.06-.94 2.06-2.06.94zm-11 1L8.5 8.5l.94-2.06 2.06-.94-2.06-.94L8.5 2.5l-.94 2.06-2.06.94zm10 10l.94 2.06.94-2.06 2.06-.94-2.06-.94-.94-2.06-.94 2.06-2.06.94z\"/><path d=\"M17.41 7.96l-1.37-1.37c-.4-.4-.92-.59-1.43-.59-.52 0-1.04.2-1.43.59L10.3 9.45l-7.72 7.72c-.78.78-.78 2.05 0 2.83L4 21.41c.39.39.9.59 1.41.59.51 0 1.02-.2 1.41-.59l7.78-7.78 2.81-2.81c.8-.78.8-2.07 0-2.86zM5.41 20L4 18.59l7.72-7.72 1.47 1.35L5.41 20z\"/>\n",
              "  </svg>\n",
              "      </button>\n",
              "      \n",
              "  <style>\n",
              "    .colab-df-container {\n",
              "      display:flex;\n",
              "      flex-wrap:wrap;\n",
              "      gap: 12px;\n",
              "    }\n",
              "\n",
              "    .colab-df-convert {\n",
              "      background-color: #E8F0FE;\n",
              "      border: none;\n",
              "      border-radius: 50%;\n",
              "      cursor: pointer;\n",
              "      display: none;\n",
              "      fill: #1967D2;\n",
              "      height: 32px;\n",
              "      padding: 0 0 0 0;\n",
              "      width: 32px;\n",
              "    }\n",
              "\n",
              "    .colab-df-convert:hover {\n",
              "      background-color: #E2EBFA;\n",
              "      box-shadow: 0px 1px 2px rgba(60, 64, 67, 0.3), 0px 1px 3px 1px rgba(60, 64, 67, 0.15);\n",
              "      fill: #174EA6;\n",
              "    }\n",
              "\n",
              "    [theme=dark] .colab-df-convert {\n",
              "      background-color: #3B4455;\n",
              "      fill: #D2E3FC;\n",
              "    }\n",
              "\n",
              "    [theme=dark] .colab-df-convert:hover {\n",
              "      background-color: #434B5C;\n",
              "      box-shadow: 0px 1px 3px 1px rgba(0, 0, 0, 0.15);\n",
              "      filter: drop-shadow(0px 1px 2px rgba(0, 0, 0, 0.3));\n",
              "      fill: #FFFFFF;\n",
              "    }\n",
              "  </style>\n",
              "\n",
              "      <script>\n",
              "        const buttonEl =\n",
              "          document.querySelector('#df-6b07b2a0-8700-4455-89d6-822a2f0f487f button.colab-df-convert');\n",
              "        buttonEl.style.display =\n",
              "          google.colab.kernel.accessAllowed ? 'block' : 'none';\n",
              "\n",
              "        async function convertToInteractive(key) {\n",
              "          const element = document.querySelector('#df-6b07b2a0-8700-4455-89d6-822a2f0f487f');\n",
              "          const dataTable =\n",
              "            await google.colab.kernel.invokeFunction('convertToInteractive',\n",
              "                                                     [key], {});\n",
              "          if (!dataTable) return;\n",
              "\n",
              "          const docLinkHtml = 'Like what you see? Visit the ' +\n",
              "            '<a target=\"_blank\" href=https://colab.research.google.com/notebooks/data_table.ipynb>data table notebook</a>'\n",
              "            + ' to learn more about interactive tables.';\n",
              "          element.innerHTML = '';\n",
              "          dataTable['output_type'] = 'display_data';\n",
              "          await google.colab.output.renderOutput(dataTable, element);\n",
              "          const docLink = document.createElement('div');\n",
              "          docLink.innerHTML = docLinkHtml;\n",
              "          element.appendChild(docLink);\n",
              "        }\n",
              "      </script>\n",
              "    </div>\n",
              "  </div>\n",
              "  "
            ]
          },
          "metadata": {},
          "execution_count": 9
        }
      ],
      "source": [
        "df_train = {}\n",
        "df_train['Зовнішність'] = ['приємна', 'приємна', 'приємна', 'відштовхуюча',\n",
        "                         'відштовхуюча', 'відштовхуюча', 'приємна'] \n",
        "df_train['Алкоголь_в_напої'] = ['так', 'так', 'ні', 'ні', 'так', 'так', 'так']\n",
        "df_train['Рівень_харизми'] = ['високий', 'низький', 'середній', 'середній', 'низький',\n",
        "                                   'високий', 'середній']\n",
        "df_train['Витрачені_гроші'] = ['багато', 'мало', 'багато', 'мало', 'багато',\n",
        "                                  'багато', 'багато']\n",
        "df_train['Поїде'] = LabelEncoder().fit_transform(['+', '-', '+', '-', '-', '+', '+'])\n",
        "\n",
        "df_train = create_df(df_train, features)\n",
        "df_train"
      ]
    },
    {
      "cell_type": "markdown",
      "metadata": {
        "id": "y7aMkYPmQ1Bx"
      },
      "source": [
        "Задамо тестову вибірку:"
      ]
    },
    {
      "cell_type": "code",
      "execution_count": 6,
      "metadata": {
        "id": "qJ30XdxxQ1Bx",
        "outputId": "e01635b7-596c-4ed6-fb9e-eb62f3b571f6",
        "colab": {
          "base_uri": "https://localhost:8080/",
          "height": 143
        }
      },
      "outputs": [
        {
          "output_type": "execute_result",
          "data": {
            "text/plain": [
              "   Зовнішність_відштовхуюча  Зовнішність_приємна  Алкоголь_в_напої_ні  \\\n",
              "0                         0                    1                    1   \n",
              "1                         0                    1                    0   \n",
              "2                         1                    0                    0   \n",
              "\n",
              "   Алкоголь_в_напої_так  Рівень_харизми_високий  Рівень_харизми_середній  \\\n",
              "0                     0                       0                        1   \n",
              "1                     1                       1                        0   \n",
              "2                     1                       0                        1   \n",
              "\n",
              "   Витрачені_гроші_багато  Витрачені_гроші_мало  \n",
              "0                       1                     0  \n",
              "1                       0                     1  \n",
              "2                       1                     0  "
            ],
            "text/html": [
              "\n",
              "  <div id=\"df-8b3f30ce-5ef9-454c-b60b-2ee14485f48a\">\n",
              "    <div class=\"colab-df-container\">\n",
              "      <div>\n",
              "<style scoped>\n",
              "    .dataframe tbody tr th:only-of-type {\n",
              "        vertical-align: middle;\n",
              "    }\n",
              "\n",
              "    .dataframe tbody tr th {\n",
              "        vertical-align: top;\n",
              "    }\n",
              "\n",
              "    .dataframe thead th {\n",
              "        text-align: right;\n",
              "    }\n",
              "</style>\n",
              "<table border=\"1\" class=\"dataframe\">\n",
              "  <thead>\n",
              "    <tr style=\"text-align: right;\">\n",
              "      <th></th>\n",
              "      <th>Зовнішність_відштовхуюча</th>\n",
              "      <th>Зовнішність_приємна</th>\n",
              "      <th>Алкоголь_в_напої_ні</th>\n",
              "      <th>Алкоголь_в_напої_так</th>\n",
              "      <th>Рівень_харизми_високий</th>\n",
              "      <th>Рівень_харизми_середній</th>\n",
              "      <th>Витрачені_гроші_багато</th>\n",
              "      <th>Витрачені_гроші_мало</th>\n",
              "    </tr>\n",
              "  </thead>\n",
              "  <tbody>\n",
              "    <tr>\n",
              "      <th>0</th>\n",
              "      <td>0</td>\n",
              "      <td>1</td>\n",
              "      <td>1</td>\n",
              "      <td>0</td>\n",
              "      <td>0</td>\n",
              "      <td>1</td>\n",
              "      <td>1</td>\n",
              "      <td>0</td>\n",
              "    </tr>\n",
              "    <tr>\n",
              "      <th>1</th>\n",
              "      <td>0</td>\n",
              "      <td>1</td>\n",
              "      <td>0</td>\n",
              "      <td>1</td>\n",
              "      <td>1</td>\n",
              "      <td>0</td>\n",
              "      <td>0</td>\n",
              "      <td>1</td>\n",
              "    </tr>\n",
              "    <tr>\n",
              "      <th>2</th>\n",
              "      <td>1</td>\n",
              "      <td>0</td>\n",
              "      <td>0</td>\n",
              "      <td>1</td>\n",
              "      <td>0</td>\n",
              "      <td>1</td>\n",
              "      <td>1</td>\n",
              "      <td>0</td>\n",
              "    </tr>\n",
              "  </tbody>\n",
              "</table>\n",
              "</div>\n",
              "      <button class=\"colab-df-convert\" onclick=\"convertToInteractive('df-8b3f30ce-5ef9-454c-b60b-2ee14485f48a')\"\n",
              "              title=\"Convert this dataframe to an interactive table.\"\n",
              "              style=\"display:none;\">\n",
              "        \n",
              "  <svg xmlns=\"http://www.w3.org/2000/svg\" height=\"24px\"viewBox=\"0 0 24 24\"\n",
              "       width=\"24px\">\n",
              "    <path d=\"M0 0h24v24H0V0z\" fill=\"none\"/>\n",
              "    <path d=\"M18.56 5.44l.94 2.06.94-2.06 2.06-.94-2.06-.94-.94-2.06-.94 2.06-2.06.94zm-11 1L8.5 8.5l.94-2.06 2.06-.94-2.06-.94L8.5 2.5l-.94 2.06-2.06.94zm10 10l.94 2.06.94-2.06 2.06-.94-2.06-.94-.94-2.06-.94 2.06-2.06.94z\"/><path d=\"M17.41 7.96l-1.37-1.37c-.4-.4-.92-.59-1.43-.59-.52 0-1.04.2-1.43.59L10.3 9.45l-7.72 7.72c-.78.78-.78 2.05 0 2.83L4 21.41c.39.39.9.59 1.41.59.51 0 1.02-.2 1.41-.59l7.78-7.78 2.81-2.81c.8-.78.8-2.07 0-2.86zM5.41 20L4 18.59l7.72-7.72 1.47 1.35L5.41 20z\"/>\n",
              "  </svg>\n",
              "      </button>\n",
              "      \n",
              "  <style>\n",
              "    .colab-df-container {\n",
              "      display:flex;\n",
              "      flex-wrap:wrap;\n",
              "      gap: 12px;\n",
              "    }\n",
              "\n",
              "    .colab-df-convert {\n",
              "      background-color: #E8F0FE;\n",
              "      border: none;\n",
              "      border-radius: 50%;\n",
              "      cursor: pointer;\n",
              "      display: none;\n",
              "      fill: #1967D2;\n",
              "      height: 32px;\n",
              "      padding: 0 0 0 0;\n",
              "      width: 32px;\n",
              "    }\n",
              "\n",
              "    .colab-df-convert:hover {\n",
              "      background-color: #E2EBFA;\n",
              "      box-shadow: 0px 1px 2px rgba(60, 64, 67, 0.3), 0px 1px 3px 1px rgba(60, 64, 67, 0.15);\n",
              "      fill: #174EA6;\n",
              "    }\n",
              "\n",
              "    [theme=dark] .colab-df-convert {\n",
              "      background-color: #3B4455;\n",
              "      fill: #D2E3FC;\n",
              "    }\n",
              "\n",
              "    [theme=dark] .colab-df-convert:hover {\n",
              "      background-color: #434B5C;\n",
              "      box-shadow: 0px 1px 3px 1px rgba(0, 0, 0, 0.15);\n",
              "      filter: drop-shadow(0px 1px 2px rgba(0, 0, 0, 0.3));\n",
              "      fill: #FFFFFF;\n",
              "    }\n",
              "  </style>\n",
              "\n",
              "      <script>\n",
              "        const buttonEl =\n",
              "          document.querySelector('#df-8b3f30ce-5ef9-454c-b60b-2ee14485f48a button.colab-df-convert');\n",
              "        buttonEl.style.display =\n",
              "          google.colab.kernel.accessAllowed ? 'block' : 'none';\n",
              "\n",
              "        async function convertToInteractive(key) {\n",
              "          const element = document.querySelector('#df-8b3f30ce-5ef9-454c-b60b-2ee14485f48a');\n",
              "          const dataTable =\n",
              "            await google.colab.kernel.invokeFunction('convertToInteractive',\n",
              "                                                     [key], {});\n",
              "          if (!dataTable) return;\n",
              "\n",
              "          const docLinkHtml = 'Like what you see? Visit the ' +\n",
              "            '<a target=\"_blank\" href=https://colab.research.google.com/notebooks/data_table.ipynb>data table notebook</a>'\n",
              "            + ' to learn more about interactive tables.';\n",
              "          element.innerHTML = '';\n",
              "          dataTable['output_type'] = 'display_data';\n",
              "          await google.colab.output.renderOutput(dataTable, element);\n",
              "          const docLink = document.createElement('div');\n",
              "          docLink.innerHTML = docLinkHtml;\n",
              "          element.appendChild(docLink);\n",
              "        }\n",
              "      </script>\n",
              "    </div>\n",
              "  </div>\n",
              "  "
            ]
          },
          "metadata": {},
          "execution_count": 6
        }
      ],
      "source": [
        "df_test = {}\n",
        "df_test['Зовнішність'] = ['приємна', 'приємна', 'відштовхуюча'] \n",
        "df_test['Алкоголь_в_напої'] = ['ні', 'так', 'так']\n",
        "df_test['Рівень_харизми'] = ['середній', 'високий', 'середній']\n",
        "df_test['Витрачені_гроші'] = ['багато', 'мало', 'багато']\n",
        "df_test = create_df(df_test, features)\n",
        "df_test"
      ]
    },
    {
      "cell_type": "code",
      "execution_count": 7,
      "metadata": {
        "id": "Tf4RKm4UQ1By",
        "outputId": "5ecddda3-0521-4811-965d-b27c48f8483d",
        "colab": {
          "base_uri": "https://localhost:8080/",
          "height": 269
        }
      },
      "outputs": [
        {
          "output_type": "execute_result",
          "data": {
            "text/plain": [
              "   Зовнішність_відштовхуюча  Витрачені_гроші_мало  Алкоголь_в_напої_так  \\\n",
              "0                         0                     0                     1   \n",
              "1                         0                     1                     1   \n",
              "2                         0                     0                     0   \n",
              "3                         1                     1                     0   \n",
              "4                         1                     0                     1   \n",
              "5                         1                     0                     1   \n",
              "6                         0                     0                     1   \n",
              "\n",
              "   Витрачені_гроші_багато  Рівень_харизми_середній  Рівень_харизми_високий  \\\n",
              "0                       1                        0                       1   \n",
              "1                       0                        0                       0   \n",
              "2                       1                        1                       0   \n",
              "3                       0                        1                       0   \n",
              "4                       1                        0                       0   \n",
              "5                       1                        0                       1   \n",
              "6                       1                        1                       0   \n",
              "\n",
              "   Алкоголь_в_напої_ні  Зовнішність_приємна  \n",
              "0                    0                    1  \n",
              "1                    0                    1  \n",
              "2                    1                    1  \n",
              "3                    1                    0  \n",
              "4                    0                    0  \n",
              "5                    0                    0  \n",
              "6                    0                    1  "
            ],
            "text/html": [
              "\n",
              "  <div id=\"df-66c35ee9-c523-4cd7-87e8-a439b8aed41e\">\n",
              "    <div class=\"colab-df-container\">\n",
              "      <div>\n",
              "<style scoped>\n",
              "    .dataframe tbody tr th:only-of-type {\n",
              "        vertical-align: middle;\n",
              "    }\n",
              "\n",
              "    .dataframe tbody tr th {\n",
              "        vertical-align: top;\n",
              "    }\n",
              "\n",
              "    .dataframe thead th {\n",
              "        text-align: right;\n",
              "    }\n",
              "</style>\n",
              "<table border=\"1\" class=\"dataframe\">\n",
              "  <thead>\n",
              "    <tr style=\"text-align: right;\">\n",
              "      <th></th>\n",
              "      <th>Зовнішність_відштовхуюча</th>\n",
              "      <th>Витрачені_гроші_мало</th>\n",
              "      <th>Алкоголь_в_напої_так</th>\n",
              "      <th>Витрачені_гроші_багато</th>\n",
              "      <th>Рівень_харизми_середній</th>\n",
              "      <th>Рівень_харизми_високий</th>\n",
              "      <th>Алкоголь_в_напої_ні</th>\n",
              "      <th>Зовнішність_приємна</th>\n",
              "    </tr>\n",
              "  </thead>\n",
              "  <tbody>\n",
              "    <tr>\n",
              "      <th>0</th>\n",
              "      <td>0</td>\n",
              "      <td>0</td>\n",
              "      <td>1</td>\n",
              "      <td>1</td>\n",
              "      <td>0</td>\n",
              "      <td>1</td>\n",
              "      <td>0</td>\n",
              "      <td>1</td>\n",
              "    </tr>\n",
              "    <tr>\n",
              "      <th>1</th>\n",
              "      <td>0</td>\n",
              "      <td>1</td>\n",
              "      <td>1</td>\n",
              "      <td>0</td>\n",
              "      <td>0</td>\n",
              "      <td>0</td>\n",
              "      <td>0</td>\n",
              "      <td>1</td>\n",
              "    </tr>\n",
              "    <tr>\n",
              "      <th>2</th>\n",
              "      <td>0</td>\n",
              "      <td>0</td>\n",
              "      <td>0</td>\n",
              "      <td>1</td>\n",
              "      <td>1</td>\n",
              "      <td>0</td>\n",
              "      <td>1</td>\n",
              "      <td>1</td>\n",
              "    </tr>\n",
              "    <tr>\n",
              "      <th>3</th>\n",
              "      <td>1</td>\n",
              "      <td>1</td>\n",
              "      <td>0</td>\n",
              "      <td>0</td>\n",
              "      <td>1</td>\n",
              "      <td>0</td>\n",
              "      <td>1</td>\n",
              "      <td>0</td>\n",
              "    </tr>\n",
              "    <tr>\n",
              "      <th>4</th>\n",
              "      <td>1</td>\n",
              "      <td>0</td>\n",
              "      <td>1</td>\n",
              "      <td>1</td>\n",
              "      <td>0</td>\n",
              "      <td>0</td>\n",
              "      <td>0</td>\n",
              "      <td>0</td>\n",
              "    </tr>\n",
              "    <tr>\n",
              "      <th>5</th>\n",
              "      <td>1</td>\n",
              "      <td>0</td>\n",
              "      <td>1</td>\n",
              "      <td>1</td>\n",
              "      <td>0</td>\n",
              "      <td>1</td>\n",
              "      <td>0</td>\n",
              "      <td>0</td>\n",
              "    </tr>\n",
              "    <tr>\n",
              "      <th>6</th>\n",
              "      <td>0</td>\n",
              "      <td>0</td>\n",
              "      <td>1</td>\n",
              "      <td>1</td>\n",
              "      <td>1</td>\n",
              "      <td>0</td>\n",
              "      <td>0</td>\n",
              "      <td>1</td>\n",
              "    </tr>\n",
              "  </tbody>\n",
              "</table>\n",
              "</div>\n",
              "      <button class=\"colab-df-convert\" onclick=\"convertToInteractive('df-66c35ee9-c523-4cd7-87e8-a439b8aed41e')\"\n",
              "              title=\"Convert this dataframe to an interactive table.\"\n",
              "              style=\"display:none;\">\n",
              "        \n",
              "  <svg xmlns=\"http://www.w3.org/2000/svg\" height=\"24px\"viewBox=\"0 0 24 24\"\n",
              "       width=\"24px\">\n",
              "    <path d=\"M0 0h24v24H0V0z\" fill=\"none\"/>\n",
              "    <path d=\"M18.56 5.44l.94 2.06.94-2.06 2.06-.94-2.06-.94-.94-2.06-.94 2.06-2.06.94zm-11 1L8.5 8.5l.94-2.06 2.06-.94-2.06-.94L8.5 2.5l-.94 2.06-2.06.94zm10 10l.94 2.06.94-2.06 2.06-.94-2.06-.94-.94-2.06-.94 2.06-2.06.94z\"/><path d=\"M17.41 7.96l-1.37-1.37c-.4-.4-.92-.59-1.43-.59-.52 0-1.04.2-1.43.59L10.3 9.45l-7.72 7.72c-.78.78-.78 2.05 0 2.83L4 21.41c.39.39.9.59 1.41.59.51 0 1.02-.2 1.41-.59l7.78-7.78 2.81-2.81c.8-.78.8-2.07 0-2.86zM5.41 20L4 18.59l7.72-7.72 1.47 1.35L5.41 20z\"/>\n",
              "  </svg>\n",
              "      </button>\n",
              "      \n",
              "  <style>\n",
              "    .colab-df-container {\n",
              "      display:flex;\n",
              "      flex-wrap:wrap;\n",
              "      gap: 12px;\n",
              "    }\n",
              "\n",
              "    .colab-df-convert {\n",
              "      background-color: #E8F0FE;\n",
              "      border: none;\n",
              "      border-radius: 50%;\n",
              "      cursor: pointer;\n",
              "      display: none;\n",
              "      fill: #1967D2;\n",
              "      height: 32px;\n",
              "      padding: 0 0 0 0;\n",
              "      width: 32px;\n",
              "    }\n",
              "\n",
              "    .colab-df-convert:hover {\n",
              "      background-color: #E2EBFA;\n",
              "      box-shadow: 0px 1px 2px rgba(60, 64, 67, 0.3), 0px 1px 3px 1px rgba(60, 64, 67, 0.15);\n",
              "      fill: #174EA6;\n",
              "    }\n",
              "\n",
              "    [theme=dark] .colab-df-convert {\n",
              "      background-color: #3B4455;\n",
              "      fill: #D2E3FC;\n",
              "    }\n",
              "\n",
              "    [theme=dark] .colab-df-convert:hover {\n",
              "      background-color: #434B5C;\n",
              "      box-shadow: 0px 1px 3px 1px rgba(0, 0, 0, 0.15);\n",
              "      filter: drop-shadow(0px 1px 2px rgba(0, 0, 0, 0.3));\n",
              "      fill: #FFFFFF;\n",
              "    }\n",
              "  </style>\n",
              "\n",
              "      <script>\n",
              "        const buttonEl =\n",
              "          document.querySelector('#df-66c35ee9-c523-4cd7-87e8-a439b8aed41e button.colab-df-convert');\n",
              "        buttonEl.style.display =\n",
              "          google.colab.kernel.accessAllowed ? 'block' : 'none';\n",
              "\n",
              "        async function convertToInteractive(key) {\n",
              "          const element = document.querySelector('#df-66c35ee9-c523-4cd7-87e8-a439b8aed41e');\n",
              "          const dataTable =\n",
              "            await google.colab.kernel.invokeFunction('convertToInteractive',\n",
              "                                                     [key], {});\n",
              "          if (!dataTable) return;\n",
              "\n",
              "          const docLinkHtml = 'Like what you see? Visit the ' +\n",
              "            '<a target=\"_blank\" href=https://colab.research.google.com/notebooks/data_table.ipynb>data table notebook</a>'\n",
              "            + ' to learn more about interactive tables.';\n",
              "          element.innerHTML = '';\n",
              "          dataTable['output_type'] = 'display_data';\n",
              "          await google.colab.output.renderOutput(dataTable, element);\n",
              "          const docLink = document.createElement('div');\n",
              "          docLink.innerHTML = docLinkHtml;\n",
              "          element.appendChild(docLink);\n",
              "        }\n",
              "      </script>\n",
              "    </div>\n",
              "  </div>\n",
              "  "
            ]
          },
          "metadata": {},
          "execution_count": 7
        }
      ],
      "source": [
        "# Деякі значення ознак є в тестовій підвибірці, але немає в навчальній і навпаки\n",
        "y = df_train['Поїде']\n",
        "df_train, df_test = intersect_features(train=df_train, test=df_test)\n",
        "df_train"
      ]
    },
    {
      "cell_type": "code",
      "execution_count": 8,
      "metadata": {
        "id": "2Zrr3ba8Q1By",
        "outputId": "78ecf1d0-f7ba-41b5-9d5a-1017ed66268f",
        "colab": {
          "base_uri": "https://localhost:8080/",
          "height": 143
        }
      },
      "outputs": [
        {
          "output_type": "execute_result",
          "data": {
            "text/plain": [
              "   Зовнішність_відштовхуюча  Витрачені_гроші_мало  Алкоголь_в_напої_так  \\\n",
              "0                         0                     0                     0   \n",
              "1                         0                     1                     1   \n",
              "2                         1                     0                     1   \n",
              "\n",
              "   Витрачені_гроші_багато  Рівень_харизми_середній  Рівень_харизми_високий  \\\n",
              "0                       1                        1                       0   \n",
              "1                       0                        0                       1   \n",
              "2                       1                        1                       0   \n",
              "\n",
              "   Алкоголь_в_напої_ні  Зовнішність_приємна  \n",
              "0                    1                    1  \n",
              "1                    0                    1  \n",
              "2                    0                    0  "
            ],
            "text/html": [
              "\n",
              "  <div id=\"df-55d781df-d523-4dff-943e-d6d5ec5ac462\">\n",
              "    <div class=\"colab-df-container\">\n",
              "      <div>\n",
              "<style scoped>\n",
              "    .dataframe tbody tr th:only-of-type {\n",
              "        vertical-align: middle;\n",
              "    }\n",
              "\n",
              "    .dataframe tbody tr th {\n",
              "        vertical-align: top;\n",
              "    }\n",
              "\n",
              "    .dataframe thead th {\n",
              "        text-align: right;\n",
              "    }\n",
              "</style>\n",
              "<table border=\"1\" class=\"dataframe\">\n",
              "  <thead>\n",
              "    <tr style=\"text-align: right;\">\n",
              "      <th></th>\n",
              "      <th>Зовнішність_відштовхуюча</th>\n",
              "      <th>Витрачені_гроші_мало</th>\n",
              "      <th>Алкоголь_в_напої_так</th>\n",
              "      <th>Витрачені_гроші_багато</th>\n",
              "      <th>Рівень_харизми_середній</th>\n",
              "      <th>Рівень_харизми_високий</th>\n",
              "      <th>Алкоголь_в_напої_ні</th>\n",
              "      <th>Зовнішність_приємна</th>\n",
              "    </tr>\n",
              "  </thead>\n",
              "  <tbody>\n",
              "    <tr>\n",
              "      <th>0</th>\n",
              "      <td>0</td>\n",
              "      <td>0</td>\n",
              "      <td>0</td>\n",
              "      <td>1</td>\n",
              "      <td>1</td>\n",
              "      <td>0</td>\n",
              "      <td>1</td>\n",
              "      <td>1</td>\n",
              "    </tr>\n",
              "    <tr>\n",
              "      <th>1</th>\n",
              "      <td>0</td>\n",
              "      <td>1</td>\n",
              "      <td>1</td>\n",
              "      <td>0</td>\n",
              "      <td>0</td>\n",
              "      <td>1</td>\n",
              "      <td>0</td>\n",
              "      <td>1</td>\n",
              "    </tr>\n",
              "    <tr>\n",
              "      <th>2</th>\n",
              "      <td>1</td>\n",
              "      <td>0</td>\n",
              "      <td>1</td>\n",
              "      <td>1</td>\n",
              "      <td>1</td>\n",
              "      <td>0</td>\n",
              "      <td>0</td>\n",
              "      <td>0</td>\n",
              "    </tr>\n",
              "  </tbody>\n",
              "</table>\n",
              "</div>\n",
              "      <button class=\"colab-df-convert\" onclick=\"convertToInteractive('df-55d781df-d523-4dff-943e-d6d5ec5ac462')\"\n",
              "              title=\"Convert this dataframe to an interactive table.\"\n",
              "              style=\"display:none;\">\n",
              "        \n",
              "  <svg xmlns=\"http://www.w3.org/2000/svg\" height=\"24px\"viewBox=\"0 0 24 24\"\n",
              "       width=\"24px\">\n",
              "    <path d=\"M0 0h24v24H0V0z\" fill=\"none\"/>\n",
              "    <path d=\"M18.56 5.44l.94 2.06.94-2.06 2.06-.94-2.06-.94-.94-2.06-.94 2.06-2.06.94zm-11 1L8.5 8.5l.94-2.06 2.06-.94-2.06-.94L8.5 2.5l-.94 2.06-2.06.94zm10 10l.94 2.06.94-2.06 2.06-.94-2.06-.94-.94-2.06-.94 2.06-2.06.94z\"/><path d=\"M17.41 7.96l-1.37-1.37c-.4-.4-.92-.59-1.43-.59-.52 0-1.04.2-1.43.59L10.3 9.45l-7.72 7.72c-.78.78-.78 2.05 0 2.83L4 21.41c.39.39.9.59 1.41.59.51 0 1.02-.2 1.41-.59l7.78-7.78 2.81-2.81c.8-.78.8-2.07 0-2.86zM5.41 20L4 18.59l7.72-7.72 1.47 1.35L5.41 20z\"/>\n",
              "  </svg>\n",
              "      </button>\n",
              "      \n",
              "  <style>\n",
              "    .colab-df-container {\n",
              "      display:flex;\n",
              "      flex-wrap:wrap;\n",
              "      gap: 12px;\n",
              "    }\n",
              "\n",
              "    .colab-df-convert {\n",
              "      background-color: #E8F0FE;\n",
              "      border: none;\n",
              "      border-radius: 50%;\n",
              "      cursor: pointer;\n",
              "      display: none;\n",
              "      fill: #1967D2;\n",
              "      height: 32px;\n",
              "      padding: 0 0 0 0;\n",
              "      width: 32px;\n",
              "    }\n",
              "\n",
              "    .colab-df-convert:hover {\n",
              "      background-color: #E2EBFA;\n",
              "      box-shadow: 0px 1px 2px rgba(60, 64, 67, 0.3), 0px 1px 3px 1px rgba(60, 64, 67, 0.15);\n",
              "      fill: #174EA6;\n",
              "    }\n",
              "\n",
              "    [theme=dark] .colab-df-convert {\n",
              "      background-color: #3B4455;\n",
              "      fill: #D2E3FC;\n",
              "    }\n",
              "\n",
              "    [theme=dark] .colab-df-convert:hover {\n",
              "      background-color: #434B5C;\n",
              "      box-shadow: 0px 1px 3px 1px rgba(0, 0, 0, 0.15);\n",
              "      filter: drop-shadow(0px 1px 2px rgba(0, 0, 0, 0.3));\n",
              "      fill: #FFFFFF;\n",
              "    }\n",
              "  </style>\n",
              "\n",
              "      <script>\n",
              "        const buttonEl =\n",
              "          document.querySelector('#df-55d781df-d523-4dff-943e-d6d5ec5ac462 button.colab-df-convert');\n",
              "        buttonEl.style.display =\n",
              "          google.colab.kernel.accessAllowed ? 'block' : 'none';\n",
              "\n",
              "        async function convertToInteractive(key) {\n",
              "          const element = document.querySelector('#df-55d781df-d523-4dff-943e-d6d5ec5ac462');\n",
              "          const dataTable =\n",
              "            await google.colab.kernel.invokeFunction('convertToInteractive',\n",
              "                                                     [key], {});\n",
              "          if (!dataTable) return;\n",
              "\n",
              "          const docLinkHtml = 'Like what you see? Visit the ' +\n",
              "            '<a target=\"_blank\" href=https://colab.research.google.com/notebooks/data_table.ipynb>data table notebook</a>'\n",
              "            + ' to learn more about interactive tables.';\n",
              "          element.innerHTML = '';\n",
              "          dataTable['output_type'] = 'display_data';\n",
              "          await google.colab.output.renderOutput(dataTable, element);\n",
              "          const docLink = document.createElement('div');\n",
              "          docLink.innerHTML = docLinkHtml;\n",
              "          element.appendChild(docLink);\n",
              "        }\n",
              "      </script>\n",
              "    </div>\n",
              "  </div>\n",
              "  "
            ]
          },
          "metadata": {},
          "execution_count": 8
        }
      ],
      "source": [
        "df_test"
      ]
    },
    {
      "cell_type": "markdown",
      "metadata": {
        "id": "jkK0on4JQ1Bz"
      },
      "source": [
        "Дайте відповідь на запитання нижче."
      ]
    },
    {
      "cell_type": "markdown",
      "metadata": {
        "id": "C2fz3IpqQ1Bz"
      },
      "source": [
        "<span style=\"color:red; font-size:2em;\">Завдання 1</span>\n",
        "\n",
        "**Для варіантів 1-5:**\n",
        "\n",
        "Обрахуйте ентропію початкової системи ($S_0$)? Під станами системи розуміємо значення ознаки \"Поїде\" - 0 або 1 (тобто всього 2 стани).\n",
        "\n",
        "**Для варіантів 6-10:**\n",
        "\n",
        "Яким є значення ентропії $S_1$ лівої групи, тих, в кого зовнішність приємна?\n",
        "\n",
        "**Для варіантів 11-15:**\n",
        "\n",
        "Яким є значення ентропії $S_2$ правої групи, тих, в кого зовнішність відштовхуюча?\n",
        "\n",
        "**Для варіантів 16-20:**\n",
        "\n",
        "Яким є приріст інформації за даного розбиття (IG)?"
      ]
    },
    {
      "cell_type": "markdown",
      "metadata": {
        "id": "3JqbQrwrQ1B0"
      },
      "source": [
        "Побудуйте за допомогою `sklearn` дерево рішень, навчивши його на навчальній вибірці. Глибину можна не обмежувати."
      ]
    },
    {
      "cell_type": "code",
      "execution_count": 11,
      "metadata": {
        "id": "1gAI6eAvQ1B0",
        "outputId": "347c0a98-804e-4973-9d4b-8c380cdd324e",
        "colab": {
          "base_uri": "https://localhost:8080/"
        }
      },
      "outputs": [
        {
          "output_type": "execute_result",
          "data": {
            "text/plain": [
              "0.9182958340544896"
            ]
          },
          "metadata": {},
          "execution_count": 11
        }
      ],
      "source": [
        "import math as m\n",
        "\n",
        "willride = df_train[(df_train['Поїде'] == 1) & (df_train['Зовнішність_приємна'] == 0)]['Поїде'].count()\n",
        "cases = df_train[df_train['Зовнішність_приємна'] == 0]['Поїде'].count()\n",
        "wontride = cases - willride\n",
        "\n",
        "S2 = -(willride / cases) * m.log((willride / cases), 2) - (wontride / cases) * m.log((wontride / cases), 2)\n",
        "S2"
      ]
    },
    {
      "cell_type": "markdown",
      "metadata": {
        "id": "fXLqPiTXQ1B0"
      },
      "source": [
        "Додатково: відобразіть дерево за допомогою graphviz. Можна використати бібліотеку `pydotplus`."
      ]
    },
    {
      "cell_type": "code",
      "execution_count": null,
      "metadata": {
        "id": "FRRVtBJoQ1B1"
      },
      "outputs": [],
      "source": [
        "# Ваш код тут\n"
      ]
    },
    {
      "cell_type": "markdown",
      "metadata": {
        "id": "xgkM0kJvQ1B1"
      },
      "source": [
        "<a class=\"anchor\" id=\"3.2\"></a>"
      ]
    },
    {
      "cell_type": "markdown",
      "metadata": {
        "id": "A4fI_dSwQ1B1"
      },
      "source": [
        "## <span style=\"color:blue; font-size:1.2em;\">3.2. Функції для обрахування ентропії й приросту інформації</span>\n",
        "\n",
        "[Повернутися до змісту](#3)"
      ]
    },
    {
      "cell_type": "markdown",
      "metadata": {
        "id": "7-sIdOEJQ1B1"
      },
      "source": [
        "**Приклад для перевірки:** 9 синіх кульок і 11 жовтих. Нехай кулька перебуває в стані \"1\", якщо вона синя і \"0\", якщо – жовта."
      ]
    },
    {
      "cell_type": "code",
      "execution_count": 12,
      "metadata": {
        "id": "TAJjB8FlQ1B2"
      },
      "outputs": [],
      "source": [
        "balls = [1 for i in range(9)] + [0 for i in range(11)]"
      ]
    },
    {
      "cell_type": "markdown",
      "metadata": {
        "id": "Gp-sTpjdQ1B2"
      },
      "source": [
        "![img](https://raw.githubusercontent.com/radiukpavlo/intelligent-data-analysis/main/03_img/3_decision-tree_circles_1.png)"
      ]
    },
    {
      "cell_type": "markdown",
      "metadata": {
        "id": "115A8G8EQ1B2"
      },
      "source": [
        "Далі нехай кульки розбиваються на 2 групи:"
      ]
    },
    {
      "cell_type": "markdown",
      "metadata": {
        "id": "DBffjgZwQ1B2"
      },
      "source": [
        "![img](https://raw.githubusercontent.com/radiukpavlo/intelligent-data-analysis/main/03_img/3_decision-tree_circles_2.png)"
      ]
    },
    {
      "cell_type": "code",
      "execution_count": 13,
      "metadata": {
        "id": "FzLr8MQmQ1B3"
      },
      "outputs": [],
      "source": [
        "# дві групи\n",
        "balls_left  = [1 for i in range(8)] + [0 for i in range(5)] # 8 синіх і 5 жовтих\n",
        "balls_right = [1 for i in range(1)] + [0 for i in range(6)] # 1 синя і 6 жовтих"
      ]
    },
    {
      "cell_type": "markdown",
      "metadata": {
        "id": "DfjxuPnsQ1B3"
      },
      "source": [
        "Реалізуйте функцію для обрахування ентропії Шеннона:"
      ]
    },
    {
      "cell_type": "code",
      "execution_count": 14,
      "metadata": {
        "id": "v9GCUYmQQ1B3",
        "outputId": "d8401c20-bcfb-4389-dd11-baa686cc19b2",
        "colab": {
          "base_uri": "https://localhost:8080/"
        }
      },
      "outputs": [
        {
          "output_type": "stream",
          "name": "stdout",
          "text": [
            "0.9927744539878084\n"
          ]
        }
      ],
      "source": [
        "import collections as coll\n",
        "\n",
        "def entropy(a_list):\n",
        "    \n",
        "    numOfElements = len(a_list)\n",
        "    elements = coll.Counter([el for el in a_list])\n",
        "\n",
        "    entropy = 0\n",
        "\n",
        "    for elm in elements:\n",
        "      ni = elements[elm]\n",
        "      pi = ni / numOfElements\n",
        "      entropy += pi * (m.log(pi, 2))\n",
        "\n",
        "    return entropy * -1\n",
        "\n",
        "balls = [1 for i in range(9)] + [0 for i in range(11)]\n",
        "\n",
        "balls_left  = [1 for i in range(8)] + [0 for i in range(5)] # 8 синіх і 5 жовтих\n",
        "balls_right = [1 for i in range(1)] + [0 for i in range(6)] # 1 синя і 6 жовтих\n",
        "\n",
        "print(entropy(balls)) "
      ]
    },
    {
      "cell_type": "markdown",
      "metadata": {
        "id": "lJ78VRdEQ1B4"
      },
      "source": [
        "Перевіряємо працездатність функції `entropy`:"
      ]
    },
    {
      "cell_type": "code",
      "execution_count": 15,
      "metadata": {
        "id": "8BVfbR4iQ1B4",
        "outputId": "14390c0d-86bb-4552-ff00-626723ba1426",
        "colab": {
          "base_uri": "https://localhost:8080/"
        }
      },
      "outputs": [
        {
          "output_type": "stream",
          "name": "stdout",
          "text": [
            "0.9927744539878084\n",
            "0.961236604722876\n",
            "0.5916727785823275\n",
            "2.584962500721156\n"
          ]
        }
      ],
      "source": [
        "print(entropy(balls)) # 9 синіх і 11 жовтих\n",
        "print(entropy(balls_left)) # 8 синіх і 5 жовтих\n",
        "print(entropy(balls_right)) # 1 синя і 6 жовтих\n",
        "print(entropy([1,2,3,4,5,6])) # ентропія гральної кості з незміщенним центром тяжіння"
      ]
    },
    {
      "cell_type": "markdown",
      "metadata": {
        "id": "JYjz3dseQ1B4"
      },
      "source": [
        "<span style=\"color:red; font-size:2em;\">Завдання 2</span>\n",
        "\n",
        "**Для варіантів 1-5:**\n",
        "\n",
        "Чому дорівнює ентропія гральної кисті з незміщеним центром тяжіння?\n",
        "\n",
        "**Для варіантів 6-10:**\n",
        "\n",
        "Чому дорівнює ентропія стану, що задане початковим списком кульок `balls`?\n",
        "\n",
        "**Для варіантів 11-15:**\n",
        "\n",
        "Чому дорівнює ентропія стану, що задане списком `balls_left`?\n",
        "\n",
        "**Для варіантів 16-20:**\n",
        "\n",
        "Чому дорівнює ентропія стану, що задане списком `balls_right`?"
      ]
    },
    {
      "cell_type": "code",
      "execution_count": 16,
      "metadata": {
        "id": "oeWtqenhQ1B4",
        "outputId": "ada1b889-2d17-4098-9b1c-790811368b9d",
        "colab": {
          "base_uri": "https://localhost:8080/"
        }
      },
      "outputs": [
        {
          "output_type": "execute_result",
          "data": {
            "text/plain": [
              "0.16088518841412436"
            ]
          },
          "metadata": {},
          "execution_count": 16
        }
      ],
      "source": [
        "# обрахунок приросту інформації\n",
        "\n",
        "def information_gain(root, left, right):\n",
        "  N = len(root)\n",
        "  Ni1 = len(left)\n",
        "  Ni2 = len(right)\n",
        "\n",
        "  return entropy(root) - Ni1 / N * entropy(left) - Ni2 / N * entropy(right)\n",
        "\n",
        "information_gain(balls, balls_left, balls_right)"
      ]
    },
    {
      "cell_type": "markdown",
      "metadata": {
        "id": "qxrhjjEHQ1B5"
      },
      "source": [
        "<span style=\"color:red; font-size:2em;\">Завдання 3</span>\n",
        "\n",
        "**Для всіх варіантів**\n",
        "\n",
        "Який приріст інформації за поділу вибірки на `balls_left` і `balls_right`?"
      ]
    },
    {
      "cell_type": "markdown",
      "metadata": {
        "id": "qeWL5nKbQ1B5"
      },
      "source": [
        "<a class=\"anchor\" id=\"3.3\"></a>"
      ]
    },
    {
      "cell_type": "markdown",
      "metadata": {
        "id": "y8kS4ZVUQ1B5"
      },
      "source": [
        "## <span style=\"color:blue; font-size:1.2em;\">3.3. Задача класифікації за набором данних \"Adult</span>\n",
        "\n",
        "[Повернутися до змісту](#3)"
      ]
    },
    {
      "cell_type": "markdown",
      "metadata": {
        "id": "6w2U6MrLQ1B5"
      },
      "source": [
        "**Набір даних [UCI Adult](http://archive.ics.uci.edu/ml/machine-learning-databases/adult)** (додатково завантажувати не треба, всі дані є в репозитарії): класифікація людей за допомогою демографічних даних для прогнозування того, чи заробляє людина більше \\$ 50 000 в рік.\n",
        "\n",
        "Опис ознак набору даних UCI Adult можете знайти в ноутбуці [лабораторної роботи №1](https://colab.research.google.com/github/radiukpavlo/intelligent-data-analysis/blob/main/02_assignments/ida_lab-01_adult_pandas/ida_lab-01_adult_pandas.ipynb)."
      ]
    },
    {
      "cell_type": "markdown",
      "metadata": {
        "id": "sEitDEUhQ1B5"
      },
      "source": [
        "Завантажуємо навчальну та тестову вибірки."
      ]
    },
    {
      "cell_type": "code",
      "execution_count": 17,
      "metadata": {
        "id": "HPUYPiPxQ1B5",
        "outputId": "e4f55c7f-257d-4aa2-e3ea-9df54d03a444",
        "colab": {
          "base_uri": "https://localhost:8080/",
          "height": 206
        }
      },
      "outputs": [
        {
          "output_type": "execute_result",
          "data": {
            "text/plain": [
              "       Age      Workclass  fnlwgt    Education  Education_Num  \\\n",
              "32556   27        Private  257302   Assoc-acdm             12   \n",
              "32557   40        Private  154374      HS-grad              9   \n",
              "32558   58        Private  151910      HS-grad              9   \n",
              "32559   22        Private  201490      HS-grad              9   \n",
              "32560   52   Self-emp-inc  287927      HS-grad              9   \n",
              "\n",
              "            Martial_Status          Occupation Relationship    Race      Sex  \\\n",
              "32556   Married-civ-spouse        Tech-support         Wife   White   Female   \n",
              "32557   Married-civ-spouse   Machine-op-inspct      Husband   White     Male   \n",
              "32558              Widowed        Adm-clerical    Unmarried   White   Female   \n",
              "32559        Never-married        Adm-clerical    Own-child   White     Male   \n",
              "32560   Married-civ-spouse     Exec-managerial         Wife   White   Female   \n",
              "\n",
              "       Capital_Gain  Capital_Loss  Hours_per_week         Country  Target  \n",
              "32556             0             0              38   United-States   <=50K  \n",
              "32557             0             0              40   United-States    >50K  \n",
              "32558             0             0              40   United-States   <=50K  \n",
              "32559             0             0              20   United-States   <=50K  \n",
              "32560         15024             0              40   United-States    >50K  "
            ],
            "text/html": [
              "\n",
              "  <div id=\"df-8fc74ec5-991a-4e9f-a7ca-8b90817f39b9\">\n",
              "    <div class=\"colab-df-container\">\n",
              "      <div>\n",
              "<style scoped>\n",
              "    .dataframe tbody tr th:only-of-type {\n",
              "        vertical-align: middle;\n",
              "    }\n",
              "\n",
              "    .dataframe tbody tr th {\n",
              "        vertical-align: top;\n",
              "    }\n",
              "\n",
              "    .dataframe thead th {\n",
              "        text-align: right;\n",
              "    }\n",
              "</style>\n",
              "<table border=\"1\" class=\"dataframe\">\n",
              "  <thead>\n",
              "    <tr style=\"text-align: right;\">\n",
              "      <th></th>\n",
              "      <th>Age</th>\n",
              "      <th>Workclass</th>\n",
              "      <th>fnlwgt</th>\n",
              "      <th>Education</th>\n",
              "      <th>Education_Num</th>\n",
              "      <th>Martial_Status</th>\n",
              "      <th>Occupation</th>\n",
              "      <th>Relationship</th>\n",
              "      <th>Race</th>\n",
              "      <th>Sex</th>\n",
              "      <th>Capital_Gain</th>\n",
              "      <th>Capital_Loss</th>\n",
              "      <th>Hours_per_week</th>\n",
              "      <th>Country</th>\n",
              "      <th>Target</th>\n",
              "    </tr>\n",
              "  </thead>\n",
              "  <tbody>\n",
              "    <tr>\n",
              "      <th>32556</th>\n",
              "      <td>27</td>\n",
              "      <td>Private</td>\n",
              "      <td>257302</td>\n",
              "      <td>Assoc-acdm</td>\n",
              "      <td>12</td>\n",
              "      <td>Married-civ-spouse</td>\n",
              "      <td>Tech-support</td>\n",
              "      <td>Wife</td>\n",
              "      <td>White</td>\n",
              "      <td>Female</td>\n",
              "      <td>0</td>\n",
              "      <td>0</td>\n",
              "      <td>38</td>\n",
              "      <td>United-States</td>\n",
              "      <td>&lt;=50K</td>\n",
              "    </tr>\n",
              "    <tr>\n",
              "      <th>32557</th>\n",
              "      <td>40</td>\n",
              "      <td>Private</td>\n",
              "      <td>154374</td>\n",
              "      <td>HS-grad</td>\n",
              "      <td>9</td>\n",
              "      <td>Married-civ-spouse</td>\n",
              "      <td>Machine-op-inspct</td>\n",
              "      <td>Husband</td>\n",
              "      <td>White</td>\n",
              "      <td>Male</td>\n",
              "      <td>0</td>\n",
              "      <td>0</td>\n",
              "      <td>40</td>\n",
              "      <td>United-States</td>\n",
              "      <td>&gt;50K</td>\n",
              "    </tr>\n",
              "    <tr>\n",
              "      <th>32558</th>\n",
              "      <td>58</td>\n",
              "      <td>Private</td>\n",
              "      <td>151910</td>\n",
              "      <td>HS-grad</td>\n",
              "      <td>9</td>\n",
              "      <td>Widowed</td>\n",
              "      <td>Adm-clerical</td>\n",
              "      <td>Unmarried</td>\n",
              "      <td>White</td>\n",
              "      <td>Female</td>\n",
              "      <td>0</td>\n",
              "      <td>0</td>\n",
              "      <td>40</td>\n",
              "      <td>United-States</td>\n",
              "      <td>&lt;=50K</td>\n",
              "    </tr>\n",
              "    <tr>\n",
              "      <th>32559</th>\n",
              "      <td>22</td>\n",
              "      <td>Private</td>\n",
              "      <td>201490</td>\n",
              "      <td>HS-grad</td>\n",
              "      <td>9</td>\n",
              "      <td>Never-married</td>\n",
              "      <td>Adm-clerical</td>\n",
              "      <td>Own-child</td>\n",
              "      <td>White</td>\n",
              "      <td>Male</td>\n",
              "      <td>0</td>\n",
              "      <td>0</td>\n",
              "      <td>20</td>\n",
              "      <td>United-States</td>\n",
              "      <td>&lt;=50K</td>\n",
              "    </tr>\n",
              "    <tr>\n",
              "      <th>32560</th>\n",
              "      <td>52</td>\n",
              "      <td>Self-emp-inc</td>\n",
              "      <td>287927</td>\n",
              "      <td>HS-grad</td>\n",
              "      <td>9</td>\n",
              "      <td>Married-civ-spouse</td>\n",
              "      <td>Exec-managerial</td>\n",
              "      <td>Wife</td>\n",
              "      <td>White</td>\n",
              "      <td>Female</td>\n",
              "      <td>15024</td>\n",
              "      <td>0</td>\n",
              "      <td>40</td>\n",
              "      <td>United-States</td>\n",
              "      <td>&gt;50K</td>\n",
              "    </tr>\n",
              "  </tbody>\n",
              "</table>\n",
              "</div>\n",
              "      <button class=\"colab-df-convert\" onclick=\"convertToInteractive('df-8fc74ec5-991a-4e9f-a7ca-8b90817f39b9')\"\n",
              "              title=\"Convert this dataframe to an interactive table.\"\n",
              "              style=\"display:none;\">\n",
              "        \n",
              "  <svg xmlns=\"http://www.w3.org/2000/svg\" height=\"24px\"viewBox=\"0 0 24 24\"\n",
              "       width=\"24px\">\n",
              "    <path d=\"M0 0h24v24H0V0z\" fill=\"none\"/>\n",
              "    <path d=\"M18.56 5.44l.94 2.06.94-2.06 2.06-.94-2.06-.94-.94-2.06-.94 2.06-2.06.94zm-11 1L8.5 8.5l.94-2.06 2.06-.94-2.06-.94L8.5 2.5l-.94 2.06-2.06.94zm10 10l.94 2.06.94-2.06 2.06-.94-2.06-.94-.94-2.06-.94 2.06-2.06.94z\"/><path d=\"M17.41 7.96l-1.37-1.37c-.4-.4-.92-.59-1.43-.59-.52 0-1.04.2-1.43.59L10.3 9.45l-7.72 7.72c-.78.78-.78 2.05 0 2.83L4 21.41c.39.39.9.59 1.41.59.51 0 1.02-.2 1.41-.59l7.78-7.78 2.81-2.81c.8-.78.8-2.07 0-2.86zM5.41 20L4 18.59l7.72-7.72 1.47 1.35L5.41 20z\"/>\n",
              "  </svg>\n",
              "      </button>\n",
              "      \n",
              "  <style>\n",
              "    .colab-df-container {\n",
              "      display:flex;\n",
              "      flex-wrap:wrap;\n",
              "      gap: 12px;\n",
              "    }\n",
              "\n",
              "    .colab-df-convert {\n",
              "      background-color: #E8F0FE;\n",
              "      border: none;\n",
              "      border-radius: 50%;\n",
              "      cursor: pointer;\n",
              "      display: none;\n",
              "      fill: #1967D2;\n",
              "      height: 32px;\n",
              "      padding: 0 0 0 0;\n",
              "      width: 32px;\n",
              "    }\n",
              "\n",
              "    .colab-df-convert:hover {\n",
              "      background-color: #E2EBFA;\n",
              "      box-shadow: 0px 1px 2px rgba(60, 64, 67, 0.3), 0px 1px 3px 1px rgba(60, 64, 67, 0.15);\n",
              "      fill: #174EA6;\n",
              "    }\n",
              "\n",
              "    [theme=dark] .colab-df-convert {\n",
              "      background-color: #3B4455;\n",
              "      fill: #D2E3FC;\n",
              "    }\n",
              "\n",
              "    [theme=dark] .colab-df-convert:hover {\n",
              "      background-color: #434B5C;\n",
              "      box-shadow: 0px 1px 3px 1px rgba(0, 0, 0, 0.15);\n",
              "      filter: drop-shadow(0px 1px 2px rgba(0, 0, 0, 0.3));\n",
              "      fill: #FFFFFF;\n",
              "    }\n",
              "  </style>\n",
              "\n",
              "      <script>\n",
              "        const buttonEl =\n",
              "          document.querySelector('#df-8fc74ec5-991a-4e9f-a7ca-8b90817f39b9 button.colab-df-convert');\n",
              "        buttonEl.style.display =\n",
              "          google.colab.kernel.accessAllowed ? 'block' : 'none';\n",
              "\n",
              "        async function convertToInteractive(key) {\n",
              "          const element = document.querySelector('#df-8fc74ec5-991a-4e9f-a7ca-8b90817f39b9');\n",
              "          const dataTable =\n",
              "            await google.colab.kernel.invokeFunction('convertToInteractive',\n",
              "                                                     [key], {});\n",
              "          if (!dataTable) return;\n",
              "\n",
              "          const docLinkHtml = 'Like what you see? Visit the ' +\n",
              "            '<a target=\"_blank\" href=https://colab.research.google.com/notebooks/data_table.ipynb>data table notebook</a>'\n",
              "            + ' to learn more about interactive tables.';\n",
              "          element.innerHTML = '';\n",
              "          dataTable['output_type'] = 'display_data';\n",
              "          await google.colab.output.renderOutput(dataTable, element);\n",
              "          const docLink = document.createElement('div');\n",
              "          docLink.innerHTML = docLinkHtml;\n",
              "          element.appendChild(docLink);\n",
              "        }\n",
              "      </script>\n",
              "    </div>\n",
              "  </div>\n",
              "  "
            ]
          },
          "metadata": {},
          "execution_count": 17
        }
      ],
      "source": [
        "data_train_url = 'https://raw.githubusercontent.com/radiukpavlo/intelligent-data-analysis/main/02_assignments/ida_lab-03_classification/adult_train.csv'\n",
        "data_train = pd.read_csv(data_train_url, sep=';')\n",
        "\n",
        "data_train.tail()"
      ]
    },
    {
      "cell_type": "code",
      "execution_count": 18,
      "metadata": {
        "id": "CDinE-BaQ1B6",
        "outputId": "d4d82673-426b-4a4a-e134-73d68a9080e3",
        "colab": {
          "base_uri": "https://localhost:8080/",
          "height": 206
        }
      },
      "outputs": [
        {
          "output_type": "execute_result",
          "data": {
            "text/plain": [
              "      Age      Workclass    fnlwgt   Education  Education_Num  \\\n",
              "16277  39        Private  215419.0   Bachelors           13.0   \n",
              "16278  64            NaN  321403.0     HS-grad            9.0   \n",
              "16279  38        Private  374983.0   Bachelors           13.0   \n",
              "16280  44        Private   83891.0   Bachelors           13.0   \n",
              "16281  35   Self-emp-inc  182148.0   Bachelors           13.0   \n",
              "\n",
              "            Martial_Status        Occupation     Relationship  \\\n",
              "16277             Divorced    Prof-specialty    Not-in-family   \n",
              "16278              Widowed               NaN   Other-relative   \n",
              "16279   Married-civ-spouse    Prof-specialty          Husband   \n",
              "16280             Divorced      Adm-clerical        Own-child   \n",
              "16281   Married-civ-spouse   Exec-managerial          Husband   \n",
              "\n",
              "                      Race      Sex  Capital_Gain  Capital_Loss  \\\n",
              "16277                White   Female           0.0           0.0   \n",
              "16278                Black     Male           0.0           0.0   \n",
              "16279                White     Male           0.0           0.0   \n",
              "16280   Asian-Pac-Islander     Male        5455.0           0.0   \n",
              "16281                White     Male           0.0           0.0   \n",
              "\n",
              "       Hours_per_week         Country   Target  \n",
              "16277            36.0   United-States   <=50K.  \n",
              "16278            40.0   United-States   <=50K.  \n",
              "16279            50.0   United-States   <=50K.  \n",
              "16280            40.0   United-States   <=50K.  \n",
              "16281            60.0   United-States    >50K.  "
            ],
            "text/html": [
              "\n",
              "  <div id=\"df-41356eae-882d-480d-8a41-ddaf937040e1\">\n",
              "    <div class=\"colab-df-container\">\n",
              "      <div>\n",
              "<style scoped>\n",
              "    .dataframe tbody tr th:only-of-type {\n",
              "        vertical-align: middle;\n",
              "    }\n",
              "\n",
              "    .dataframe tbody tr th {\n",
              "        vertical-align: top;\n",
              "    }\n",
              "\n",
              "    .dataframe thead th {\n",
              "        text-align: right;\n",
              "    }\n",
              "</style>\n",
              "<table border=\"1\" class=\"dataframe\">\n",
              "  <thead>\n",
              "    <tr style=\"text-align: right;\">\n",
              "      <th></th>\n",
              "      <th>Age</th>\n",
              "      <th>Workclass</th>\n",
              "      <th>fnlwgt</th>\n",
              "      <th>Education</th>\n",
              "      <th>Education_Num</th>\n",
              "      <th>Martial_Status</th>\n",
              "      <th>Occupation</th>\n",
              "      <th>Relationship</th>\n",
              "      <th>Race</th>\n",
              "      <th>Sex</th>\n",
              "      <th>Capital_Gain</th>\n",
              "      <th>Capital_Loss</th>\n",
              "      <th>Hours_per_week</th>\n",
              "      <th>Country</th>\n",
              "      <th>Target</th>\n",
              "    </tr>\n",
              "  </thead>\n",
              "  <tbody>\n",
              "    <tr>\n",
              "      <th>16277</th>\n",
              "      <td>39</td>\n",
              "      <td>Private</td>\n",
              "      <td>215419.0</td>\n",
              "      <td>Bachelors</td>\n",
              "      <td>13.0</td>\n",
              "      <td>Divorced</td>\n",
              "      <td>Prof-specialty</td>\n",
              "      <td>Not-in-family</td>\n",
              "      <td>White</td>\n",
              "      <td>Female</td>\n",
              "      <td>0.0</td>\n",
              "      <td>0.0</td>\n",
              "      <td>36.0</td>\n",
              "      <td>United-States</td>\n",
              "      <td>&lt;=50K.</td>\n",
              "    </tr>\n",
              "    <tr>\n",
              "      <th>16278</th>\n",
              "      <td>64</td>\n",
              "      <td>NaN</td>\n",
              "      <td>321403.0</td>\n",
              "      <td>HS-grad</td>\n",
              "      <td>9.0</td>\n",
              "      <td>Widowed</td>\n",
              "      <td>NaN</td>\n",
              "      <td>Other-relative</td>\n",
              "      <td>Black</td>\n",
              "      <td>Male</td>\n",
              "      <td>0.0</td>\n",
              "      <td>0.0</td>\n",
              "      <td>40.0</td>\n",
              "      <td>United-States</td>\n",
              "      <td>&lt;=50K.</td>\n",
              "    </tr>\n",
              "    <tr>\n",
              "      <th>16279</th>\n",
              "      <td>38</td>\n",
              "      <td>Private</td>\n",
              "      <td>374983.0</td>\n",
              "      <td>Bachelors</td>\n",
              "      <td>13.0</td>\n",
              "      <td>Married-civ-spouse</td>\n",
              "      <td>Prof-specialty</td>\n",
              "      <td>Husband</td>\n",
              "      <td>White</td>\n",
              "      <td>Male</td>\n",
              "      <td>0.0</td>\n",
              "      <td>0.0</td>\n",
              "      <td>50.0</td>\n",
              "      <td>United-States</td>\n",
              "      <td>&lt;=50K.</td>\n",
              "    </tr>\n",
              "    <tr>\n",
              "      <th>16280</th>\n",
              "      <td>44</td>\n",
              "      <td>Private</td>\n",
              "      <td>83891.0</td>\n",
              "      <td>Bachelors</td>\n",
              "      <td>13.0</td>\n",
              "      <td>Divorced</td>\n",
              "      <td>Adm-clerical</td>\n",
              "      <td>Own-child</td>\n",
              "      <td>Asian-Pac-Islander</td>\n",
              "      <td>Male</td>\n",
              "      <td>5455.0</td>\n",
              "      <td>0.0</td>\n",
              "      <td>40.0</td>\n",
              "      <td>United-States</td>\n",
              "      <td>&lt;=50K.</td>\n",
              "    </tr>\n",
              "    <tr>\n",
              "      <th>16281</th>\n",
              "      <td>35</td>\n",
              "      <td>Self-emp-inc</td>\n",
              "      <td>182148.0</td>\n",
              "      <td>Bachelors</td>\n",
              "      <td>13.0</td>\n",
              "      <td>Married-civ-spouse</td>\n",
              "      <td>Exec-managerial</td>\n",
              "      <td>Husband</td>\n",
              "      <td>White</td>\n",
              "      <td>Male</td>\n",
              "      <td>0.0</td>\n",
              "      <td>0.0</td>\n",
              "      <td>60.0</td>\n",
              "      <td>United-States</td>\n",
              "      <td>&gt;50K.</td>\n",
              "    </tr>\n",
              "  </tbody>\n",
              "</table>\n",
              "</div>\n",
              "      <button class=\"colab-df-convert\" onclick=\"convertToInteractive('df-41356eae-882d-480d-8a41-ddaf937040e1')\"\n",
              "              title=\"Convert this dataframe to an interactive table.\"\n",
              "              style=\"display:none;\">\n",
              "        \n",
              "  <svg xmlns=\"http://www.w3.org/2000/svg\" height=\"24px\"viewBox=\"0 0 24 24\"\n",
              "       width=\"24px\">\n",
              "    <path d=\"M0 0h24v24H0V0z\" fill=\"none\"/>\n",
              "    <path d=\"M18.56 5.44l.94 2.06.94-2.06 2.06-.94-2.06-.94-.94-2.06-.94 2.06-2.06.94zm-11 1L8.5 8.5l.94-2.06 2.06-.94-2.06-.94L8.5 2.5l-.94 2.06-2.06.94zm10 10l.94 2.06.94-2.06 2.06-.94-2.06-.94-.94-2.06-.94 2.06-2.06.94z\"/><path d=\"M17.41 7.96l-1.37-1.37c-.4-.4-.92-.59-1.43-.59-.52 0-1.04.2-1.43.59L10.3 9.45l-7.72 7.72c-.78.78-.78 2.05 0 2.83L4 21.41c.39.39.9.59 1.41.59.51 0 1.02-.2 1.41-.59l7.78-7.78 2.81-2.81c.8-.78.8-2.07 0-2.86zM5.41 20L4 18.59l7.72-7.72 1.47 1.35L5.41 20z\"/>\n",
              "  </svg>\n",
              "      </button>\n",
              "      \n",
              "  <style>\n",
              "    .colab-df-container {\n",
              "      display:flex;\n",
              "      flex-wrap:wrap;\n",
              "      gap: 12px;\n",
              "    }\n",
              "\n",
              "    .colab-df-convert {\n",
              "      background-color: #E8F0FE;\n",
              "      border: none;\n",
              "      border-radius: 50%;\n",
              "      cursor: pointer;\n",
              "      display: none;\n",
              "      fill: #1967D2;\n",
              "      height: 32px;\n",
              "      padding: 0 0 0 0;\n",
              "      width: 32px;\n",
              "    }\n",
              "\n",
              "    .colab-df-convert:hover {\n",
              "      background-color: #E2EBFA;\n",
              "      box-shadow: 0px 1px 2px rgba(60, 64, 67, 0.3), 0px 1px 3px 1px rgba(60, 64, 67, 0.15);\n",
              "      fill: #174EA6;\n",
              "    }\n",
              "\n",
              "    [theme=dark] .colab-df-convert {\n",
              "      background-color: #3B4455;\n",
              "      fill: #D2E3FC;\n",
              "    }\n",
              "\n",
              "    [theme=dark] .colab-df-convert:hover {\n",
              "      background-color: #434B5C;\n",
              "      box-shadow: 0px 1px 3px 1px rgba(0, 0, 0, 0.15);\n",
              "      filter: drop-shadow(0px 1px 2px rgba(0, 0, 0, 0.3));\n",
              "      fill: #FFFFFF;\n",
              "    }\n",
              "  </style>\n",
              "\n",
              "      <script>\n",
              "        const buttonEl =\n",
              "          document.querySelector('#df-41356eae-882d-480d-8a41-ddaf937040e1 button.colab-df-convert');\n",
              "        buttonEl.style.display =\n",
              "          google.colab.kernel.accessAllowed ? 'block' : 'none';\n",
              "\n",
              "        async function convertToInteractive(key) {\n",
              "          const element = document.querySelector('#df-41356eae-882d-480d-8a41-ddaf937040e1');\n",
              "          const dataTable =\n",
              "            await google.colab.kernel.invokeFunction('convertToInteractive',\n",
              "                                                     [key], {});\n",
              "          if (!dataTable) return;\n",
              "\n",
              "          const docLinkHtml = 'Like what you see? Visit the ' +\n",
              "            '<a target=\"_blank\" href=https://colab.research.google.com/notebooks/data_table.ipynb>data table notebook</a>'\n",
              "            + ' to learn more about interactive tables.';\n",
              "          element.innerHTML = '';\n",
              "          dataTable['output_type'] = 'display_data';\n",
              "          await google.colab.output.renderOutput(dataTable, element);\n",
              "          const docLink = document.createElement('div');\n",
              "          docLink.innerHTML = docLinkHtml;\n",
              "          element.appendChild(docLink);\n",
              "        }\n",
              "      </script>\n",
              "    </div>\n",
              "  </div>\n",
              "  "
            ]
          },
          "metadata": {},
          "execution_count": 18
        }
      ],
      "source": [
        "data_test_url = 'https://raw.githubusercontent.com/radiukpavlo/intelligent-data-analysis/main/02_assignments/ida_lab-03_classification/adult_test.csv'\n",
        "data_test = pd.read_csv(data_test_url, sep=';')\n",
        "\n",
        "data_test.tail()"
      ]
    },
    {
      "cell_type": "code",
      "execution_count": 19,
      "metadata": {
        "id": "lTm3UUeZQ1B6"
      },
      "outputs": [],
      "source": [
        "# необхідно видалити рядки з неправильними мітками в тестовій вибірці\n",
        "data_test = data_test[(data_test['Target'] == ' >50K.') \n",
        "                      | (data_test['Target']==' <=50K.')]\n",
        "\n",
        "# перекодуємо target в числове поле\n",
        "data_train.at[data_train['Target'] == ' <=50K', 'Target'] = 0\n",
        "data_train.at[data_train['Target'] == ' >50K', 'Target'] = 1\n",
        "\n",
        "data_test.at[data_test['Target'] == ' <=50K.', 'Target'] = 0\n",
        "data_test.at[data_test['Target'] == ' >50K.', 'Target'] = 1"
      ]
    },
    {
      "cell_type": "markdown",
      "metadata": {
        "id": "WRN9C0UeQ1B6"
      },
      "source": [
        "Первинний аналіз даних."
      ]
    },
    {
      "cell_type": "code",
      "execution_count": null,
      "metadata": {
        "id": "STegD4jkQ1B6"
      },
      "outputs": [],
      "source": [
        "data_test.describe(include='all').T"
      ]
    },
    {
      "cell_type": "code",
      "execution_count": 20,
      "metadata": {
        "id": "O52MQIuRQ1B7",
        "outputId": "16785a7d-2aac-4af2-8322-c11678435883",
        "colab": {
          "base_uri": "https://localhost:8080/"
        }
      },
      "outputs": [
        {
          "output_type": "execute_result",
          "data": {
            "text/plain": [
              "0    24720\n",
              "1     7841\n",
              "Name: Target, dtype: int64"
            ]
          },
          "metadata": {},
          "execution_count": 20
        }
      ],
      "source": [
        "data_train['Target'].value_counts()"
      ]
    },
    {
      "cell_type": "code",
      "execution_count": 21,
      "metadata": {
        "id": "ickDTXOkQ1B9",
        "outputId": "b89988e9-bbbe-4774-d633-c247a0b5f764",
        "colab": {
          "base_uri": "https://localhost:8080/",
          "height": 1000
        }
      },
      "outputs": [
        {
          "output_type": "display_data",
          "data": {
            "text/plain": [
              "<Figure size 1800x1080 with 15 Axes>"
            ],
            "image/svg+xml": "<?xml version=\"1.0\" encoding=\"utf-8\" standalone=\"no\"?>\n<!DOCTYPE svg PUBLIC \"-//W3C//DTD SVG 1.1//EN\"\n  \"http://www.w3.org/Graphics/SVG/1.1/DTD/svg11.dtd\">\n<!-- Created with matplotlib (https://matplotlib.org/) -->\n<svg height=\"1000.488625pt\" version=\"1.1\" viewBox=\"0 0 1448.2125 1000.488625\" width=\"1448.2125pt\" xmlns=\"http://www.w3.org/2000/svg\" xmlns:xlink=\"http://www.w3.org/1999/xlink\">\n <defs>\n  <style type=\"text/css\">\n*{stroke-linecap:butt;stroke-linejoin:round;}\n  </style>\n </defs>\n <g id=\"figure_1\">\n  <g id=\"patch_1\">\n   <path d=\"M 0 1000.488625 \nL 1448.2125 1000.488625 \nL 1448.2125 0 \nL 0 0 \nz\n\" style=\"fill:#ffffff;\"/>\n  </g>\n  <g id=\"axes_1\">\n   <g id=\"patch_2\">\n    <path d=\"M 46.0125 209.459932 \nL 286.529741 209.459932 \nL 286.529741 24.14175 \nL 46.0125 24.14175 \nz\n\" style=\"fill:#e5e5e5;\"/>\n   </g>\n   <g id=\"matplotlib.axis_1\">\n    <g id=\"xtick_1\">\n     <g id=\"line2d_1\">\n      <path clip-path=\"url(#pd9d4d533c3)\" d=\"M 65.930802 209.459932 \nL 65.930802 24.14175 \n\" style=\"fill:none;stroke:#ffffff;stroke-linecap:square;stroke-width:0.8;\"/>\n     </g>\n     <g id=\"line2d_2\">\n      <defs>\n       <path d=\"M 0 0 \nL 0 3.5 \n\" id=\"mdde19dd8b5\" style=\"stroke:#555555;stroke-width:0.8;\"/>\n      </defs>\n      <g>\n       <use style=\"fill:#555555;stroke:#555555;stroke-width:0.8;\" x=\"65.930802\" xlink:href=\"#mdde19dd8b5\" y=\"209.459932\"/>\n      </g>\n     </g>\n     <g id=\"text_1\">\n      <!-- 20 -->\n      <defs>\n       <path d=\"M 19.1875 8.296875 \nL 53.609375 8.296875 \nL 53.609375 0 \nL 7.328125 0 \nL 7.328125 8.296875 \nQ 12.9375 14.109375 22.625 23.890625 \nQ 32.328125 33.6875 34.8125 36.53125 \nQ 39.546875 41.84375 41.421875 45.53125 \nQ 43.3125 49.21875 43.3125 52.78125 \nQ 43.3125 58.59375 39.234375 62.25 \nQ 35.15625 65.921875 28.609375 65.921875 \nQ 23.96875 65.921875 18.8125 64.3125 \nQ 13.671875 62.703125 7.8125 59.421875 \nL 7.8125 69.390625 \nQ 13.765625 71.78125 18.9375 73 \nQ 24.125 74.21875 28.421875 74.21875 \nQ 39.75 74.21875 46.484375 68.546875 \nQ 53.21875 62.890625 53.21875 53.421875 \nQ 53.21875 48.921875 51.53125 44.890625 \nQ 49.859375 40.875 45.40625 35.40625 \nQ 44.1875 33.984375 37.640625 27.21875 \nQ 31.109375 20.453125 19.1875 8.296875 \nz\n\" id=\"DejaVuSans-50\"/>\n       <path d=\"M 31.78125 66.40625 \nQ 24.171875 66.40625 20.328125 58.90625 \nQ 16.5 51.421875 16.5 36.375 \nQ 16.5 21.390625 20.328125 13.890625 \nQ 24.171875 6.390625 31.78125 6.390625 \nQ 39.453125 6.390625 43.28125 13.890625 \nQ 47.125 21.390625 47.125 36.375 \nQ 47.125 51.421875 43.28125 58.90625 \nQ 39.453125 66.40625 31.78125 66.40625 \nz\nM 31.78125 74.21875 \nQ 44.046875 74.21875 50.515625 64.515625 \nQ 56.984375 54.828125 56.984375 36.375 \nQ 56.984375 17.96875 50.515625 8.265625 \nQ 44.046875 -1.421875 31.78125 -1.421875 \nQ 19.53125 -1.421875 13.0625 8.265625 \nQ 6.59375 17.96875 6.59375 36.375 \nQ 6.59375 54.828125 13.0625 64.515625 \nQ 19.53125 74.21875 31.78125 74.21875 \nz\n\" id=\"DejaVuSans-48\"/>\n      </defs>\n      <g style=\"fill:#555555;\" transform=\"translate(68.690177 229.184932)rotate(-90)scale(0.1 -0.1)\">\n       <use xlink:href=\"#DejaVuSans-50\"/>\n       <use x=\"63.623047\" xlink:href=\"#DejaVuSans-48\"/>\n      </g>\n     </g>\n    </g>\n    <g id=\"xtick_2\">\n     <g id=\"line2d_3\">\n      <path clip-path=\"url(#pd9d4d533c3)\" d=\"M 125.83547 209.459932 \nL 125.83547 24.14175 \n\" style=\"fill:none;stroke:#ffffff;stroke-linecap:square;stroke-width:0.8;\"/>\n     </g>\n     <g id=\"line2d_4\">\n      <g>\n       <use style=\"fill:#555555;stroke:#555555;stroke-width:0.8;\" x=\"125.83547\" xlink:href=\"#mdde19dd8b5\" y=\"209.459932\"/>\n      </g>\n     </g>\n     <g id=\"text_2\">\n      <!-- 40 -->\n      <defs>\n       <path d=\"M 37.796875 64.3125 \nL 12.890625 25.390625 \nL 37.796875 25.390625 \nz\nM 35.203125 72.90625 \nL 47.609375 72.90625 \nL 47.609375 25.390625 \nL 58.015625 25.390625 \nL 58.015625 17.1875 \nL 47.609375 17.1875 \nL 47.609375 0 \nL 37.796875 0 \nL 37.796875 17.1875 \nL 4.890625 17.1875 \nL 4.890625 26.703125 \nz\n\" id=\"DejaVuSans-52\"/>\n      </defs>\n      <g style=\"fill:#555555;\" transform=\"translate(128.594845 229.184932)rotate(-90)scale(0.1 -0.1)\">\n       <use xlink:href=\"#DejaVuSans-52\"/>\n       <use x=\"63.623047\" xlink:href=\"#DejaVuSans-48\"/>\n      </g>\n     </g>\n    </g>\n    <g id=\"xtick_3\">\n     <g id=\"line2d_5\">\n      <path clip-path=\"url(#pd9d4d533c3)\" d=\"M 185.740138 209.459932 \nL 185.740138 24.14175 \n\" style=\"fill:none;stroke:#ffffff;stroke-linecap:square;stroke-width:0.8;\"/>\n     </g>\n     <g id=\"line2d_6\">\n      <g>\n       <use style=\"fill:#555555;stroke:#555555;stroke-width:0.8;\" x=\"185.740138\" xlink:href=\"#mdde19dd8b5\" y=\"209.459932\"/>\n      </g>\n     </g>\n     <g id=\"text_3\">\n      <!-- 60 -->\n      <defs>\n       <path d=\"M 33.015625 40.375 \nQ 26.375 40.375 22.484375 35.828125 \nQ 18.609375 31.296875 18.609375 23.390625 \nQ 18.609375 15.53125 22.484375 10.953125 \nQ 26.375 6.390625 33.015625 6.390625 \nQ 39.65625 6.390625 43.53125 10.953125 \nQ 47.40625 15.53125 47.40625 23.390625 \nQ 47.40625 31.296875 43.53125 35.828125 \nQ 39.65625 40.375 33.015625 40.375 \nz\nM 52.59375 71.296875 \nL 52.59375 62.3125 \nQ 48.875 64.0625 45.09375 64.984375 \nQ 41.3125 65.921875 37.59375 65.921875 \nQ 27.828125 65.921875 22.671875 59.328125 \nQ 17.53125 52.734375 16.796875 39.40625 \nQ 19.671875 43.65625 24.015625 45.921875 \nQ 28.375 48.1875 33.59375 48.1875 \nQ 44.578125 48.1875 50.953125 41.515625 \nQ 57.328125 34.859375 57.328125 23.390625 \nQ 57.328125 12.15625 50.6875 5.359375 \nQ 44.046875 -1.421875 33.015625 -1.421875 \nQ 20.359375 -1.421875 13.671875 8.265625 \nQ 6.984375 17.96875 6.984375 36.375 \nQ 6.984375 53.65625 15.1875 63.9375 \nQ 23.390625 74.21875 37.203125 74.21875 \nQ 40.921875 74.21875 44.703125 73.484375 \nQ 48.484375 72.75 52.59375 71.296875 \nz\n\" id=\"DejaVuSans-54\"/>\n      </defs>\n      <g style=\"fill:#555555;\" transform=\"translate(188.499513 229.184932)rotate(-90)scale(0.1 -0.1)\">\n       <use xlink:href=\"#DejaVuSans-54\"/>\n       <use x=\"63.623047\" xlink:href=\"#DejaVuSans-48\"/>\n      </g>\n     </g>\n    </g>\n    <g id=\"xtick_4\">\n     <g id=\"line2d_7\">\n      <path clip-path=\"url(#pd9d4d533c3)\" d=\"M 245.644806 209.459932 \nL 245.644806 24.14175 \n\" style=\"fill:none;stroke:#ffffff;stroke-linecap:square;stroke-width:0.8;\"/>\n     </g>\n     <g id=\"line2d_8\">\n      <g>\n       <use style=\"fill:#555555;stroke:#555555;stroke-width:0.8;\" x=\"245.644806\" xlink:href=\"#mdde19dd8b5\" y=\"209.459932\"/>\n      </g>\n     </g>\n     <g id=\"text_4\">\n      <!-- 80 -->\n      <defs>\n       <path d=\"M 31.78125 34.625 \nQ 24.75 34.625 20.71875 30.859375 \nQ 16.703125 27.09375 16.703125 20.515625 \nQ 16.703125 13.921875 20.71875 10.15625 \nQ 24.75 6.390625 31.78125 6.390625 \nQ 38.8125 6.390625 42.859375 10.171875 \nQ 46.921875 13.96875 46.921875 20.515625 \nQ 46.921875 27.09375 42.890625 30.859375 \nQ 38.875 34.625 31.78125 34.625 \nz\nM 21.921875 38.8125 \nQ 15.578125 40.375 12.03125 44.71875 \nQ 8.5 49.078125 8.5 55.328125 \nQ 8.5 64.0625 14.71875 69.140625 \nQ 20.953125 74.21875 31.78125 74.21875 \nQ 42.671875 74.21875 48.875 69.140625 \nQ 55.078125 64.0625 55.078125 55.328125 \nQ 55.078125 49.078125 51.53125 44.71875 \nQ 48 40.375 41.703125 38.8125 \nQ 48.828125 37.15625 52.796875 32.3125 \nQ 56.78125 27.484375 56.78125 20.515625 \nQ 56.78125 9.90625 50.3125 4.234375 \nQ 43.84375 -1.421875 31.78125 -1.421875 \nQ 19.734375 -1.421875 13.25 4.234375 \nQ 6.78125 9.90625 6.78125 20.515625 \nQ 6.78125 27.484375 10.78125 32.3125 \nQ 14.796875 37.15625 21.921875 38.8125 \nz\nM 18.3125 54.390625 \nQ 18.3125 48.734375 21.84375 45.5625 \nQ 25.390625 42.390625 31.78125 42.390625 \nQ 38.140625 42.390625 41.71875 45.5625 \nQ 45.3125 48.734375 45.3125 54.390625 \nQ 45.3125 60.0625 41.71875 63.234375 \nQ 38.140625 66.40625 31.78125 66.40625 \nQ 25.390625 66.40625 21.84375 63.234375 \nQ 18.3125 60.0625 18.3125 54.390625 \nz\n\" id=\"DejaVuSans-56\"/>\n      </defs>\n      <g style=\"fill:#555555;\" transform=\"translate(248.404181 229.184932)rotate(-90)scale(0.1 -0.1)\">\n       <use xlink:href=\"#DejaVuSans-56\"/>\n       <use x=\"63.623047\" xlink:href=\"#DejaVuSans-48\"/>\n      </g>\n     </g>\n    </g>\n   </g>\n   <g id=\"matplotlib.axis_2\">\n    <g id=\"ytick_1\">\n     <g id=\"line2d_9\">\n      <path clip-path=\"url(#pd9d4d533c3)\" d=\"M 46.0125 209.459932 \nL 286.529741 209.459932 \n\" style=\"fill:none;stroke:#ffffff;stroke-linecap:square;stroke-width:0.8;\"/>\n     </g>\n     <g id=\"line2d_10\">\n      <defs>\n       <path d=\"M 0 0 \nL -3.5 0 \n\" id=\"m29fc131eff\" style=\"stroke:#555555;stroke-width:0.8;\"/>\n      </defs>\n      <g>\n       <use style=\"fill:#555555;stroke:#555555;stroke-width:0.8;\" x=\"46.0125\" xlink:href=\"#m29fc131eff\" y=\"209.459932\"/>\n      </g>\n     </g>\n     <g id=\"text_5\">\n      <!-- 0 -->\n      <g style=\"fill:#555555;\" transform=\"translate(32.65 213.259151)scale(0.1 -0.1)\">\n       <use xlink:href=\"#DejaVuSans-48\"/>\n      </g>\n     </g>\n    </g>\n    <g id=\"ytick_2\">\n     <g id=\"line2d_11\">\n      <path clip-path=\"url(#pd9d4d533c3)\" d=\"M 46.0125 180.822335 \nL 286.529741 180.822335 \n\" style=\"fill:none;stroke:#ffffff;stroke-linecap:square;stroke-width:0.8;\"/>\n     </g>\n     <g id=\"line2d_12\">\n      <g>\n       <use style=\"fill:#555555;stroke:#555555;stroke-width:0.8;\" x=\"46.0125\" xlink:href=\"#m29fc131eff\" y=\"180.822335\"/>\n      </g>\n     </g>\n     <g id=\"text_6\">\n      <!-- 1000 -->\n      <defs>\n       <path d=\"M 12.40625 8.296875 \nL 28.515625 8.296875 \nL 28.515625 63.921875 \nL 10.984375 60.40625 \nL 10.984375 69.390625 \nL 28.421875 72.90625 \nL 38.28125 72.90625 \nL 38.28125 8.296875 \nL 54.390625 8.296875 \nL 54.390625 0 \nL 12.40625 0 \nz\n\" id=\"DejaVuSans-49\"/>\n      </defs>\n      <g style=\"fill:#555555;\" transform=\"translate(13.5625 184.621554)scale(0.1 -0.1)\">\n       <use xlink:href=\"#DejaVuSans-49\"/>\n       <use x=\"63.623047\" xlink:href=\"#DejaVuSans-48\"/>\n       <use x=\"127.246094\" xlink:href=\"#DejaVuSans-48\"/>\n       <use x=\"190.869141\" xlink:href=\"#DejaVuSans-48\"/>\n      </g>\n     </g>\n    </g>\n    <g id=\"ytick_3\">\n     <g id=\"line2d_13\">\n      <path clip-path=\"url(#pd9d4d533c3)\" d=\"M 46.0125 152.184739 \nL 286.529741 152.184739 \n\" style=\"fill:none;stroke:#ffffff;stroke-linecap:square;stroke-width:0.8;\"/>\n     </g>\n     <g id=\"line2d_14\">\n      <g>\n       <use style=\"fill:#555555;stroke:#555555;stroke-width:0.8;\" x=\"46.0125\" xlink:href=\"#m29fc131eff\" y=\"152.184739\"/>\n      </g>\n     </g>\n     <g id=\"text_7\">\n      <!-- 2000 -->\n      <g style=\"fill:#555555;\" transform=\"translate(13.5625 155.983958)scale(0.1 -0.1)\">\n       <use xlink:href=\"#DejaVuSans-50\"/>\n       <use x=\"63.623047\" xlink:href=\"#DejaVuSans-48\"/>\n       <use x=\"127.246094\" xlink:href=\"#DejaVuSans-48\"/>\n       <use x=\"190.869141\" xlink:href=\"#DejaVuSans-48\"/>\n      </g>\n     </g>\n    </g>\n    <g id=\"ytick_4\">\n     <g id=\"line2d_15\">\n      <path clip-path=\"url(#pd9d4d533c3)\" d=\"M 46.0125 123.547143 \nL 286.529741 123.547143 \n\" style=\"fill:none;stroke:#ffffff;stroke-linecap:square;stroke-width:0.8;\"/>\n     </g>\n     <g id=\"line2d_16\">\n      <g>\n       <use style=\"fill:#555555;stroke:#555555;stroke-width:0.8;\" x=\"46.0125\" xlink:href=\"#m29fc131eff\" y=\"123.547143\"/>\n      </g>\n     </g>\n     <g id=\"text_8\">\n      <!-- 3000 -->\n      <defs>\n       <path d=\"M 40.578125 39.3125 \nQ 47.65625 37.796875 51.625 33 \nQ 55.609375 28.21875 55.609375 21.1875 \nQ 55.609375 10.40625 48.1875 4.484375 \nQ 40.765625 -1.421875 27.09375 -1.421875 \nQ 22.515625 -1.421875 17.65625 -0.515625 \nQ 12.796875 0.390625 7.625 2.203125 \nL 7.625 11.71875 \nQ 11.71875 9.328125 16.59375 8.109375 \nQ 21.484375 6.890625 26.8125 6.890625 \nQ 36.078125 6.890625 40.9375 10.546875 \nQ 45.796875 14.203125 45.796875 21.1875 \nQ 45.796875 27.640625 41.28125 31.265625 \nQ 36.765625 34.90625 28.71875 34.90625 \nL 20.21875 34.90625 \nL 20.21875 43.015625 \nL 29.109375 43.015625 \nQ 36.375 43.015625 40.234375 45.921875 \nQ 44.09375 48.828125 44.09375 54.296875 \nQ 44.09375 59.90625 40.109375 62.90625 \nQ 36.140625 65.921875 28.71875 65.921875 \nQ 24.65625 65.921875 20.015625 65.03125 \nQ 15.375 64.15625 9.8125 62.3125 \nL 9.8125 71.09375 \nQ 15.4375 72.65625 20.34375 73.4375 \nQ 25.25 74.21875 29.59375 74.21875 \nQ 40.828125 74.21875 47.359375 69.109375 \nQ 53.90625 64.015625 53.90625 55.328125 \nQ 53.90625 49.265625 50.4375 45.09375 \nQ 46.96875 40.921875 40.578125 39.3125 \nz\n\" id=\"DejaVuSans-51\"/>\n      </defs>\n      <g style=\"fill:#555555;\" transform=\"translate(13.5625 127.346361)scale(0.1 -0.1)\">\n       <use xlink:href=\"#DejaVuSans-51\"/>\n       <use x=\"63.623047\" xlink:href=\"#DejaVuSans-48\"/>\n       <use x=\"127.246094\" xlink:href=\"#DejaVuSans-48\"/>\n       <use x=\"190.869141\" xlink:href=\"#DejaVuSans-48\"/>\n      </g>\n     </g>\n    </g>\n    <g id=\"ytick_5\">\n     <g id=\"line2d_17\">\n      <path clip-path=\"url(#pd9d4d533c3)\" d=\"M 46.0125 94.909546 \nL 286.529741 94.909546 \n\" style=\"fill:none;stroke:#ffffff;stroke-linecap:square;stroke-width:0.8;\"/>\n     </g>\n     <g id=\"line2d_18\">\n      <g>\n       <use style=\"fill:#555555;stroke:#555555;stroke-width:0.8;\" x=\"46.0125\" xlink:href=\"#m29fc131eff\" y=\"94.909546\"/>\n      </g>\n     </g>\n     <g id=\"text_9\">\n      <!-- 4000 -->\n      <g style=\"fill:#555555;\" transform=\"translate(13.5625 98.708765)scale(0.1 -0.1)\">\n       <use xlink:href=\"#DejaVuSans-52\"/>\n       <use x=\"63.623047\" xlink:href=\"#DejaVuSans-48\"/>\n       <use x=\"127.246094\" xlink:href=\"#DejaVuSans-48\"/>\n       <use x=\"190.869141\" xlink:href=\"#DejaVuSans-48\"/>\n      </g>\n     </g>\n    </g>\n    <g id=\"ytick_6\">\n     <g id=\"line2d_19\">\n      <path clip-path=\"url(#pd9d4d533c3)\" d=\"M 46.0125 66.27195 \nL 286.529741 66.27195 \n\" style=\"fill:none;stroke:#ffffff;stroke-linecap:square;stroke-width:0.8;\"/>\n     </g>\n     <g id=\"line2d_20\">\n      <g>\n       <use style=\"fill:#555555;stroke:#555555;stroke-width:0.8;\" x=\"46.0125\" xlink:href=\"#m29fc131eff\" y=\"66.27195\"/>\n      </g>\n     </g>\n     <g id=\"text_10\">\n      <!-- 5000 -->\n      <defs>\n       <path d=\"M 10.796875 72.90625 \nL 49.515625 72.90625 \nL 49.515625 64.59375 \nL 19.828125 64.59375 \nL 19.828125 46.734375 \nQ 21.96875 47.46875 24.109375 47.828125 \nQ 26.265625 48.1875 28.421875 48.1875 \nQ 40.625 48.1875 47.75 41.5 \nQ 54.890625 34.8125 54.890625 23.390625 \nQ 54.890625 11.625 47.5625 5.09375 \nQ 40.234375 -1.421875 26.90625 -1.421875 \nQ 22.3125 -1.421875 17.546875 -0.640625 \nQ 12.796875 0.140625 7.71875 1.703125 \nL 7.71875 11.625 \nQ 12.109375 9.234375 16.796875 8.0625 \nQ 21.484375 6.890625 26.703125 6.890625 \nQ 35.15625 6.890625 40.078125 11.328125 \nQ 45.015625 15.765625 45.015625 23.390625 \nQ 45.015625 31 40.078125 35.4375 \nQ 35.15625 39.890625 26.703125 39.890625 \nQ 22.75 39.890625 18.8125 39.015625 \nQ 14.890625 38.140625 10.796875 36.28125 \nz\n\" id=\"DejaVuSans-53\"/>\n      </defs>\n      <g style=\"fill:#555555;\" transform=\"translate(13.5625 70.071169)scale(0.1 -0.1)\">\n       <use xlink:href=\"#DejaVuSans-53\"/>\n       <use x=\"63.623047\" xlink:href=\"#DejaVuSans-48\"/>\n       <use x=\"127.246094\" xlink:href=\"#DejaVuSans-48\"/>\n       <use x=\"190.869141\" xlink:href=\"#DejaVuSans-48\"/>\n      </g>\n     </g>\n    </g>\n    <g id=\"ytick_7\">\n     <g id=\"line2d_21\">\n      <path clip-path=\"url(#pd9d4d533c3)\" d=\"M 46.0125 37.634354 \nL 286.529741 37.634354 \n\" style=\"fill:none;stroke:#ffffff;stroke-linecap:square;stroke-width:0.8;\"/>\n     </g>\n     <g id=\"line2d_22\">\n      <g>\n       <use style=\"fill:#555555;stroke:#555555;stroke-width:0.8;\" x=\"46.0125\" xlink:href=\"#m29fc131eff\" y=\"37.634354\"/>\n      </g>\n     </g>\n     <g id=\"text_11\">\n      <!-- 6000 -->\n      <g style=\"fill:#555555;\" transform=\"translate(13.5625 41.433572)scale(0.1 -0.1)\">\n       <use xlink:href=\"#DejaVuSans-54\"/>\n       <use x=\"63.623047\" xlink:href=\"#DejaVuSans-48\"/>\n       <use x=\"127.246094\" xlink:href=\"#DejaVuSans-48\"/>\n       <use x=\"190.869141\" xlink:href=\"#DejaVuSans-48\"/>\n      </g>\n     </g>\n    </g>\n   </g>\n   <g id=\"patch_3\">\n    <path clip-path=\"url(#pd9d4d533c3)\" d=\"M 56.945102 209.459932 \nL 78.810306 209.459932 \nL 78.810306 49.94852 \nL 56.945102 49.94852 \nz\n\" style=\"fill:#e24a33;\"/>\n   </g>\n   <g id=\"patch_4\">\n    <path clip-path=\"url(#pd9d4d533c3)\" d=\"M 78.810306 209.459932 \nL 100.675509 209.459932 \nL 100.675509 40.784489 \nL 78.810306 40.784489 \nz\n\" style=\"fill:#e24a33;\"/>\n   </g>\n   <g id=\"patch_5\">\n    <path clip-path=\"url(#pd9d4d533c3)\" d=\"M 100.675509 209.459932 \nL 122.540713 209.459932 \nL 122.540713 36.259749 \nL 100.675509 36.259749 \nz\n\" style=\"fill:#e24a33;\"/>\n   </g>\n   <g id=\"patch_6\">\n    <path clip-path=\"url(#pd9d4d533c3)\" d=\"M 122.540713 209.459932 \nL 144.405917 209.459932 \nL 144.405917 32.966425 \nL 122.540713 32.966425 \nz\n\" style=\"fill:#e24a33;\"/>\n   </g>\n   <g id=\"patch_7\">\n    <path clip-path=\"url(#pd9d4d533c3)\" d=\"M 144.405917 209.459932 \nL 166.271121 209.459932 \nL 166.271121 95.854587 \nL 144.405917 95.854587 \nz\n\" style=\"fill:#e24a33;\"/>\n   </g>\n   <g id=\"patch_8\">\n    <path clip-path=\"url(#pd9d4d533c3)\" d=\"M 166.271121 209.459932 \nL 188.136324 209.459932 \nL 188.136324 135.25992 \nL 166.271121 135.25992 \nz\n\" style=\"fill:#e24a33;\"/>\n   </g>\n   <g id=\"patch_9\">\n    <path clip-path=\"url(#pd9d4d533c3)\" d=\"M 188.136324 209.459932 \nL 210.001528 209.459932 \nL 210.001528 163.782966 \nL 188.136324 163.782966 \nz\n\" style=\"fill:#e24a33;\"/>\n   </g>\n   <g id=\"patch_10\">\n    <path clip-path=\"url(#pd9d4d533c3)\" d=\"M 210.001528 209.459932 \nL 231.866732 209.459932 \nL 231.866732 195.255684 \nL 210.001528 195.255684 \nz\n\" style=\"fill:#e24a33;\"/>\n   </g>\n   <g id=\"patch_11\">\n    <path clip-path=\"url(#pd9d4d533c3)\" d=\"M 231.866732 209.459932 \nL 253.731936 209.459932 \nL 253.731936 204.47699 \nL 231.866732 204.47699 \nz\n\" style=\"fill:#e24a33;\"/>\n   </g>\n   <g id=\"patch_12\">\n    <path clip-path=\"url(#pd9d4d533c3)\" d=\"M 253.731936 209.459932 \nL 275.597139 209.459932 \nL 275.597139 207.541213 \nL 253.731936 207.541213 \nz\n\" style=\"fill:#e24a33;\"/>\n   </g>\n   <g id=\"patch_13\">\n    <path d=\"M 46.0125 209.459932 \nL 46.0125 24.14175 \n\" style=\"fill:none;stroke:#ffffff;stroke-linecap:square;stroke-linejoin:miter;\"/>\n   </g>\n   <g id=\"patch_14\">\n    <path d=\"M 286.529741 209.459932 \nL 286.529741 24.14175 \n\" style=\"fill:none;stroke:#ffffff;stroke-linecap:square;stroke-linejoin:miter;\"/>\n   </g>\n   <g id=\"patch_15\">\n    <path d=\"M 46.0125 209.459932 \nL 286.529741 209.459932 \n\" style=\"fill:none;stroke:#ffffff;stroke-linecap:square;stroke-linejoin:miter;\"/>\n   </g>\n   <g id=\"patch_16\">\n    <path d=\"M 46.0125 24.14175 \nL 286.529741 24.14175 \n\" style=\"fill:none;stroke:#ffffff;stroke-linecap:square;stroke-linejoin:miter;\"/>\n   </g>\n   <g id=\"text_12\">\n    <!-- Age -->\n    <defs>\n     <path d=\"M 34.1875 63.1875 \nL 20.796875 26.90625 \nL 47.609375 26.90625 \nz\nM 28.609375 72.90625 \nL 39.796875 72.90625 \nL 67.578125 0 \nL 57.328125 0 \nL 50.6875 18.703125 \nL 17.828125 18.703125 \nL 11.1875 0 \nL 0.78125 0 \nz\n\" id=\"DejaVuSans-65\"/>\n     <path d=\"M 45.40625 27.984375 \nQ 45.40625 37.75 41.375 43.109375 \nQ 37.359375 48.484375 30.078125 48.484375 \nQ 22.859375 48.484375 18.828125 43.109375 \nQ 14.796875 37.75 14.796875 27.984375 \nQ 14.796875 18.265625 18.828125 12.890625 \nQ 22.859375 7.515625 30.078125 7.515625 \nQ 37.359375 7.515625 41.375 12.890625 \nQ 45.40625 18.265625 45.40625 27.984375 \nz\nM 54.390625 6.78125 \nQ 54.390625 -7.171875 48.1875 -13.984375 \nQ 42 -20.796875 29.203125 -20.796875 \nQ 24.46875 -20.796875 20.265625 -20.09375 \nQ 16.0625 -19.390625 12.109375 -17.921875 \nL 12.109375 -9.1875 \nQ 16.0625 -11.328125 19.921875 -12.34375 \nQ 23.78125 -13.375 27.78125 -13.375 \nQ 36.625 -13.375 41.015625 -8.765625 \nQ 45.40625 -4.15625 45.40625 5.171875 \nL 45.40625 9.625 \nQ 42.625 4.78125 38.28125 2.390625 \nQ 33.9375 0 27.875 0 \nQ 17.828125 0 11.671875 7.65625 \nQ 5.515625 15.328125 5.515625 27.984375 \nQ 5.515625 40.671875 11.671875 48.328125 \nQ 17.828125 56 27.875 56 \nQ 33.9375 56 38.28125 53.609375 \nQ 42.625 51.21875 45.40625 46.390625 \nL 45.40625 54.6875 \nL 54.390625 54.6875 \nz\n\" id=\"DejaVuSans-103\"/>\n     <path d=\"M 56.203125 29.59375 \nL 56.203125 25.203125 \nL 14.890625 25.203125 \nQ 15.484375 15.921875 20.484375 11.0625 \nQ 25.484375 6.203125 34.421875 6.203125 \nQ 39.59375 6.203125 44.453125 7.46875 \nQ 49.3125 8.734375 54.109375 11.28125 \nL 54.109375 2.78125 \nQ 49.265625 0.734375 44.1875 -0.34375 \nQ 39.109375 -1.421875 33.890625 -1.421875 \nQ 20.796875 -1.421875 13.15625 6.1875 \nQ 5.515625 13.8125 5.515625 26.8125 \nQ 5.515625 40.234375 12.765625 48.109375 \nQ 20.015625 56 32.328125 56 \nQ 43.359375 56 49.78125 48.890625 \nQ 56.203125 41.796875 56.203125 29.59375 \nz\nM 47.21875 32.234375 \nQ 47.125 39.59375 43.09375 43.984375 \nQ 39.0625 48.390625 32.421875 48.390625 \nQ 24.90625 48.390625 20.390625 44.140625 \nQ 15.875 39.890625 15.1875 32.171875 \nz\n\" id=\"DejaVuSans-101\"/>\n    </defs>\n    <g transform=\"translate(152.344746 18.14175)scale(0.144 -0.144)\">\n     <use xlink:href=\"#DejaVuSans-65\"/>\n     <use x=\"68.408203\" xlink:href=\"#DejaVuSans-103\"/>\n     <use x=\"131.884766\" xlink:href=\"#DejaVuSans-101\"/>\n    </g>\n   </g>\n  </g>\n  <g id=\"axes_2\">\n   <g id=\"patch_17\">\n    <path d=\"M 334.63319 209.459932 \nL 575.150431 209.459932 \nL 575.150431 24.14175 \nL 334.63319 24.14175 \nz\n\" style=\"fill:#e5e5e5;\"/>\n   </g>\n   <g id=\"matplotlib.axis_3\">\n    <g id=\"xtick_5\">\n     <g id=\"line2d_23\">\n      <path clip-path=\"url(#pea3a56ca54)\" d=\"M 349.665517 209.459932 \nL 349.665517 24.14175 \n\" style=\"fill:none;stroke:#ffffff;stroke-linecap:square;stroke-width:0.8;\"/>\n     </g>\n     <g id=\"line2d_24\">\n      <g>\n       <use style=\"fill:#555555;stroke:#555555;stroke-width:0.8;\" x=\"349.665517\" xlink:href=\"#mdde19dd8b5\" y=\"209.459932\"/>\n      </g>\n     </g>\n     <g id=\"text_13\">\n      <!--  Private -->\n      <defs>\n       <path id=\"DejaVuSans-32\"/>\n       <path d=\"M 19.671875 64.796875 \nL 19.671875 37.40625 \nL 32.078125 37.40625 \nQ 38.96875 37.40625 42.71875 40.96875 \nQ 46.484375 44.53125 46.484375 51.125 \nQ 46.484375 57.671875 42.71875 61.234375 \nQ 38.96875 64.796875 32.078125 64.796875 \nz\nM 9.8125 72.90625 \nL 32.078125 72.90625 \nQ 44.34375 72.90625 50.609375 67.359375 \nQ 56.890625 61.8125 56.890625 51.125 \nQ 56.890625 40.328125 50.609375 34.8125 \nQ 44.34375 29.296875 32.078125 29.296875 \nL 19.671875 29.296875 \nL 19.671875 0 \nL 9.8125 0 \nz\n\" id=\"DejaVuSans-80\"/>\n       <path d=\"M 41.109375 46.296875 \nQ 39.59375 47.171875 37.8125 47.578125 \nQ 36.03125 48 33.890625 48 \nQ 26.265625 48 22.1875 43.046875 \nQ 18.109375 38.09375 18.109375 28.8125 \nL 18.109375 0 \nL 9.078125 0 \nL 9.078125 54.6875 \nL 18.109375 54.6875 \nL 18.109375 46.1875 \nQ 20.953125 51.171875 25.484375 53.578125 \nQ 30.03125 56 36.53125 56 \nQ 37.453125 56 38.578125 55.875 \nQ 39.703125 55.765625 41.0625 55.515625 \nz\n\" id=\"DejaVuSans-114\"/>\n       <path d=\"M 9.421875 54.6875 \nL 18.40625 54.6875 \nL 18.40625 0 \nL 9.421875 0 \nz\nM 9.421875 75.984375 \nL 18.40625 75.984375 \nL 18.40625 64.59375 \nL 9.421875 64.59375 \nz\n\" id=\"DejaVuSans-105\"/>\n       <path d=\"M 2.984375 54.6875 \nL 12.5 54.6875 \nL 29.59375 8.796875 \nL 46.6875 54.6875 \nL 56.203125 54.6875 \nL 35.6875 0 \nL 23.484375 0 \nz\n\" id=\"DejaVuSans-118\"/>\n       <path d=\"M 34.28125 27.484375 \nQ 23.390625 27.484375 19.1875 25 \nQ 14.984375 22.515625 14.984375 16.5 \nQ 14.984375 11.71875 18.140625 8.90625 \nQ 21.296875 6.109375 26.703125 6.109375 \nQ 34.1875 6.109375 38.703125 11.40625 \nQ 43.21875 16.703125 43.21875 25.484375 \nL 43.21875 27.484375 \nz\nM 52.203125 31.203125 \nL 52.203125 0 \nL 43.21875 0 \nL 43.21875 8.296875 \nQ 40.140625 3.328125 35.546875 0.953125 \nQ 30.953125 -1.421875 24.3125 -1.421875 \nQ 15.921875 -1.421875 10.953125 3.296875 \nQ 6 8.015625 6 15.921875 \nQ 6 25.140625 12.171875 29.828125 \nQ 18.359375 34.515625 30.609375 34.515625 \nL 43.21875 34.515625 \nL 43.21875 35.40625 \nQ 43.21875 41.609375 39.140625 45 \nQ 35.0625 48.390625 27.6875 48.390625 \nQ 23 48.390625 18.546875 47.265625 \nQ 14.109375 46.140625 10.015625 43.890625 \nL 10.015625 52.203125 \nQ 14.9375 54.109375 19.578125 55.046875 \nQ 24.21875 56 28.609375 56 \nQ 40.484375 56 46.34375 49.84375 \nQ 52.203125 43.703125 52.203125 31.203125 \nz\n\" id=\"DejaVuSans-97\"/>\n       <path d=\"M 18.3125 70.21875 \nL 18.3125 54.6875 \nL 36.8125 54.6875 \nL 36.8125 47.703125 \nL 18.3125 47.703125 \nL 18.3125 18.015625 \nQ 18.3125 11.328125 20.140625 9.421875 \nQ 21.96875 7.515625 27.59375 7.515625 \nL 36.8125 7.515625 \nL 36.8125 0 \nL 27.59375 0 \nQ 17.1875 0 13.234375 3.875 \nQ 9.28125 7.765625 9.28125 18.015625 \nL 9.28125 47.703125 \nL 2.6875 47.703125 \nL 2.6875 54.6875 \nL 9.28125 54.6875 \nL 9.28125 70.21875 \nz\n\" id=\"DejaVuSans-116\"/>\n      </defs>\n      <g style=\"fill:#555555;\" transform=\"translate(352.424892 254.502119)rotate(-90)scale(0.1 -0.1)\">\n       <use xlink:href=\"#DejaVuSans-32\"/>\n       <use x=\"31.787109\" xlink:href=\"#DejaVuSans-80\"/>\n       <use x=\"90.339844\" xlink:href=\"#DejaVuSans-114\"/>\n       <use x=\"131.453125\" xlink:href=\"#DejaVuSans-105\"/>\n       <use x=\"159.236328\" xlink:href=\"#DejaVuSans-118\"/>\n       <use x=\"218.416016\" xlink:href=\"#DejaVuSans-97\"/>\n       <use x=\"279.695312\" xlink:href=\"#DejaVuSans-116\"/>\n       <use x=\"318.904297\" xlink:href=\"#DejaVuSans-101\"/>\n      </g>\n     </g>\n    </g>\n    <g id=\"xtick_6\">\n     <g id=\"line2d_25\">\n      <path clip-path=\"url(#pea3a56ca54)\" d=\"M 379.730172 209.459932 \nL 379.730172 24.14175 \n\" style=\"fill:none;stroke:#ffffff;stroke-linecap:square;stroke-width:0.8;\"/>\n     </g>\n     <g id=\"line2d_26\">\n      <g>\n       <use style=\"fill:#555555;stroke:#555555;stroke-width:0.8;\" x=\"379.730172\" xlink:href=\"#mdde19dd8b5\" y=\"209.459932\"/>\n      </g>\n     </g>\n     <g id=\"text_14\">\n      <!--  Self-emp-not-inc -->\n      <defs>\n       <path d=\"M 53.515625 70.515625 \nL 53.515625 60.890625 \nQ 47.90625 63.578125 42.921875 64.890625 \nQ 37.9375 66.21875 33.296875 66.21875 \nQ 25.25 66.21875 20.875 63.09375 \nQ 16.5 59.96875 16.5 54.203125 \nQ 16.5 49.359375 19.40625 46.890625 \nQ 22.3125 44.4375 30.421875 42.921875 \nL 36.375 41.703125 \nQ 47.40625 39.59375 52.65625 34.296875 \nQ 57.90625 29 57.90625 20.125 \nQ 57.90625 9.515625 50.796875 4.046875 \nQ 43.703125 -1.421875 29.984375 -1.421875 \nQ 24.8125 -1.421875 18.96875 -0.25 \nQ 13.140625 0.921875 6.890625 3.21875 \nL 6.890625 13.375 \nQ 12.890625 10.015625 18.65625 8.296875 \nQ 24.421875 6.59375 29.984375 6.59375 \nQ 38.421875 6.59375 43.015625 9.90625 \nQ 47.609375 13.234375 47.609375 19.390625 \nQ 47.609375 24.75 44.3125 27.78125 \nQ 41.015625 30.8125 33.5 32.328125 \nL 27.484375 33.5 \nQ 16.453125 35.6875 11.515625 40.375 \nQ 6.59375 45.0625 6.59375 53.421875 \nQ 6.59375 63.09375 13.40625 68.65625 \nQ 20.21875 74.21875 32.171875 74.21875 \nQ 37.3125 74.21875 42.625 73.28125 \nQ 47.953125 72.359375 53.515625 70.515625 \nz\n\" id=\"DejaVuSans-83\"/>\n       <path d=\"M 9.421875 75.984375 \nL 18.40625 75.984375 \nL 18.40625 0 \nL 9.421875 0 \nz\n\" id=\"DejaVuSans-108\"/>\n       <path d=\"M 37.109375 75.984375 \nL 37.109375 68.5 \nL 28.515625 68.5 \nQ 23.6875 68.5 21.796875 66.546875 \nQ 19.921875 64.59375 19.921875 59.515625 \nL 19.921875 54.6875 \nL 34.71875 54.6875 \nL 34.71875 47.703125 \nL 19.921875 47.703125 \nL 19.921875 0 \nL 10.890625 0 \nL 10.890625 47.703125 \nL 2.296875 47.703125 \nL 2.296875 54.6875 \nL 10.890625 54.6875 \nL 10.890625 58.5 \nQ 10.890625 67.625 15.140625 71.796875 \nQ 19.390625 75.984375 28.609375 75.984375 \nz\n\" id=\"DejaVuSans-102\"/>\n       <path d=\"M 4.890625 31.390625 \nL 31.203125 31.390625 \nL 31.203125 23.390625 \nL 4.890625 23.390625 \nz\n\" id=\"DejaVuSans-45\"/>\n       <path d=\"M 52 44.1875 \nQ 55.375 50.25 60.0625 53.125 \nQ 64.75 56 71.09375 56 \nQ 79.640625 56 84.28125 50.015625 \nQ 88.921875 44.046875 88.921875 33.015625 \nL 88.921875 0 \nL 79.890625 0 \nL 79.890625 32.71875 \nQ 79.890625 40.578125 77.09375 44.375 \nQ 74.3125 48.1875 68.609375 48.1875 \nQ 61.625 48.1875 57.5625 43.546875 \nQ 53.515625 38.921875 53.515625 30.90625 \nL 53.515625 0 \nL 44.484375 0 \nL 44.484375 32.71875 \nQ 44.484375 40.625 41.703125 44.40625 \nQ 38.921875 48.1875 33.109375 48.1875 \nQ 26.21875 48.1875 22.15625 43.53125 \nQ 18.109375 38.875 18.109375 30.90625 \nL 18.109375 0 \nL 9.078125 0 \nL 9.078125 54.6875 \nL 18.109375 54.6875 \nL 18.109375 46.1875 \nQ 21.1875 51.21875 25.484375 53.609375 \nQ 29.78125 56 35.6875 56 \nQ 41.65625 56 45.828125 52.96875 \nQ 50 49.953125 52 44.1875 \nz\n\" id=\"DejaVuSans-109\"/>\n       <path d=\"M 18.109375 8.203125 \nL 18.109375 -20.796875 \nL 9.078125 -20.796875 \nL 9.078125 54.6875 \nL 18.109375 54.6875 \nL 18.109375 46.390625 \nQ 20.953125 51.265625 25.265625 53.625 \nQ 29.59375 56 35.59375 56 \nQ 45.5625 56 51.78125 48.09375 \nQ 58.015625 40.1875 58.015625 27.296875 \nQ 58.015625 14.40625 51.78125 6.484375 \nQ 45.5625 -1.421875 35.59375 -1.421875 \nQ 29.59375 -1.421875 25.265625 0.953125 \nQ 20.953125 3.328125 18.109375 8.203125 \nz\nM 48.6875 27.296875 \nQ 48.6875 37.203125 44.609375 42.84375 \nQ 40.53125 48.484375 33.40625 48.484375 \nQ 26.265625 48.484375 22.1875 42.84375 \nQ 18.109375 37.203125 18.109375 27.296875 \nQ 18.109375 17.390625 22.1875 11.75 \nQ 26.265625 6.109375 33.40625 6.109375 \nQ 40.53125 6.109375 44.609375 11.75 \nQ 48.6875 17.390625 48.6875 27.296875 \nz\n\" id=\"DejaVuSans-112\"/>\n       <path d=\"M 54.890625 33.015625 \nL 54.890625 0 \nL 45.90625 0 \nL 45.90625 32.71875 \nQ 45.90625 40.484375 42.875 44.328125 \nQ 39.84375 48.1875 33.796875 48.1875 \nQ 26.515625 48.1875 22.3125 43.546875 \nQ 18.109375 38.921875 18.109375 30.90625 \nL 18.109375 0 \nL 9.078125 0 \nL 9.078125 54.6875 \nL 18.109375 54.6875 \nL 18.109375 46.1875 \nQ 21.34375 51.125 25.703125 53.5625 \nQ 30.078125 56 35.796875 56 \nQ 45.21875 56 50.046875 50.171875 \nQ 54.890625 44.34375 54.890625 33.015625 \nz\n\" id=\"DejaVuSans-110\"/>\n       <path d=\"M 30.609375 48.390625 \nQ 23.390625 48.390625 19.1875 42.75 \nQ 14.984375 37.109375 14.984375 27.296875 \nQ 14.984375 17.484375 19.15625 11.84375 \nQ 23.34375 6.203125 30.609375 6.203125 \nQ 37.796875 6.203125 41.984375 11.859375 \nQ 46.1875 17.53125 46.1875 27.296875 \nQ 46.1875 37.015625 41.984375 42.703125 \nQ 37.796875 48.390625 30.609375 48.390625 \nz\nM 30.609375 56 \nQ 42.328125 56 49.015625 48.375 \nQ 55.71875 40.765625 55.71875 27.296875 \nQ 55.71875 13.875 49.015625 6.21875 \nQ 42.328125 -1.421875 30.609375 -1.421875 \nQ 18.84375 -1.421875 12.171875 6.21875 \nQ 5.515625 13.875 5.515625 27.296875 \nQ 5.515625 40.765625 12.171875 48.375 \nQ 18.84375 56 30.609375 56 \nz\n\" id=\"DejaVuSans-111\"/>\n       <path d=\"M 48.78125 52.59375 \nL 48.78125 44.1875 \nQ 44.96875 46.296875 41.140625 47.34375 \nQ 37.3125 48.390625 33.40625 48.390625 \nQ 24.65625 48.390625 19.8125 42.84375 \nQ 14.984375 37.3125 14.984375 27.296875 \nQ 14.984375 17.28125 19.8125 11.734375 \nQ 24.65625 6.203125 33.40625 6.203125 \nQ 37.3125 6.203125 41.140625 7.25 \nQ 44.96875 8.296875 48.78125 10.40625 \nL 48.78125 2.09375 \nQ 45.015625 0.34375 40.984375 -0.53125 \nQ 36.96875 -1.421875 32.421875 -1.421875 \nQ 20.0625 -1.421875 12.78125 6.34375 \nQ 5.515625 14.109375 5.515625 27.296875 \nQ 5.515625 40.671875 12.859375 48.328125 \nQ 20.21875 56 33.015625 56 \nQ 37.15625 56 41.109375 55.140625 \nQ 45.0625 54.296875 48.78125 52.59375 \nz\n\" id=\"DejaVuSans-99\"/>\n      </defs>\n      <g style=\"fill:#555555;\" transform=\"translate(382.489547 301.944307)rotate(-90)scale(0.1 -0.1)\">\n       <use xlink:href=\"#DejaVuSans-32\"/>\n       <use x=\"31.787109\" xlink:href=\"#DejaVuSans-83\"/>\n       <use x=\"95.263672\" xlink:href=\"#DejaVuSans-101\"/>\n       <use x=\"156.787109\" xlink:href=\"#DejaVuSans-108\"/>\n       <use x=\"184.570312\" xlink:href=\"#DejaVuSans-102\"/>\n       <use x=\"214.275391\" xlink:href=\"#DejaVuSans-45\"/>\n       <use x=\"250.359375\" xlink:href=\"#DejaVuSans-101\"/>\n       <use x=\"311.882812\" xlink:href=\"#DejaVuSans-109\"/>\n       <use x=\"409.294922\" xlink:href=\"#DejaVuSans-112\"/>\n       <use x=\"472.771484\" xlink:href=\"#DejaVuSans-45\"/>\n       <use x=\"508.855469\" xlink:href=\"#DejaVuSans-110\"/>\n       <use x=\"572.234375\" xlink:href=\"#DejaVuSans-111\"/>\n       <use x=\"633.416016\" xlink:href=\"#DejaVuSans-116\"/>\n       <use x=\"672.625\" xlink:href=\"#DejaVuSans-45\"/>\n       <use x=\"708.708984\" xlink:href=\"#DejaVuSans-105\"/>\n       <use x=\"736.492188\" xlink:href=\"#DejaVuSans-110\"/>\n       <use x=\"799.871094\" xlink:href=\"#DejaVuSans-99\"/>\n      </g>\n     </g>\n    </g>\n    <g id=\"xtick_7\">\n     <g id=\"line2d_27\">\n      <path clip-path=\"url(#pea3a56ca54)\" d=\"M 409.794828 209.459932 \nL 409.794828 24.14175 \n\" style=\"fill:none;stroke:#ffffff;stroke-linecap:square;stroke-width:0.8;\"/>\n     </g>\n     <g id=\"line2d_28\">\n      <g>\n       <use style=\"fill:#555555;stroke:#555555;stroke-width:0.8;\" x=\"409.794828\" xlink:href=\"#mdde19dd8b5\" y=\"209.459932\"/>\n      </g>\n     </g>\n     <g id=\"text_15\">\n      <!--  Local-gov -->\n      <defs>\n       <path d=\"M 9.8125 72.90625 \nL 19.671875 72.90625 \nL 19.671875 8.296875 \nL 55.171875 8.296875 \nL 55.171875 0 \nL 9.8125 0 \nz\n\" id=\"DejaVuSans-76\"/>\n      </defs>\n      <g style=\"fill:#555555;\" transform=\"translate(412.554203 267.552119)rotate(-90)scale(0.1 -0.1)\">\n       <use xlink:href=\"#DejaVuSans-32\"/>\n       <use x=\"31.787109\" xlink:href=\"#DejaVuSans-76\"/>\n       <use x=\"85.75\" xlink:href=\"#DejaVuSans-111\"/>\n       <use x=\"146.931641\" xlink:href=\"#DejaVuSans-99\"/>\n       <use x=\"201.912109\" xlink:href=\"#DejaVuSans-97\"/>\n       <use x=\"263.191406\" xlink:href=\"#DejaVuSans-108\"/>\n       <use x=\"290.974609\" xlink:href=\"#DejaVuSans-45\"/>\n       <use x=\"327.058594\" xlink:href=\"#DejaVuSans-103\"/>\n       <use x=\"390.535156\" xlink:href=\"#DejaVuSans-111\"/>\n       <use x=\"451.716797\" xlink:href=\"#DejaVuSans-118\"/>\n      </g>\n     </g>\n    </g>\n    <g id=\"xtick_8\">\n     <g id=\"line2d_29\">\n      <path clip-path=\"url(#pea3a56ca54)\" d=\"M 439.859483 209.459932 \nL 439.859483 24.14175 \n\" style=\"fill:none;stroke:#ffffff;stroke-linecap:square;stroke-width:0.8;\"/>\n     </g>\n     <g id=\"line2d_30\">\n      <g>\n       <use style=\"fill:#555555;stroke:#555555;stroke-width:0.8;\" x=\"439.859483\" xlink:href=\"#mdde19dd8b5\" y=\"209.459932\"/>\n      </g>\n     </g>\n     <g id=\"text_16\">\n      <!--  State-gov -->\n      <g style=\"fill:#555555;\" transform=\"translate(442.618858 268.102119)rotate(-90)scale(0.1 -0.1)\">\n       <use xlink:href=\"#DejaVuSans-32\"/>\n       <use x=\"31.787109\" xlink:href=\"#DejaVuSans-83\"/>\n       <use x=\"95.263672\" xlink:href=\"#DejaVuSans-116\"/>\n       <use x=\"134.472656\" xlink:href=\"#DejaVuSans-97\"/>\n       <use x=\"195.751953\" xlink:href=\"#DejaVuSans-116\"/>\n       <use x=\"234.960938\" xlink:href=\"#DejaVuSans-101\"/>\n       <use x=\"296.484375\" xlink:href=\"#DejaVuSans-45\"/>\n       <use x=\"332.568359\" xlink:href=\"#DejaVuSans-103\"/>\n       <use x=\"396.044922\" xlink:href=\"#DejaVuSans-111\"/>\n       <use x=\"457.226562\" xlink:href=\"#DejaVuSans-118\"/>\n      </g>\n     </g>\n    </g>\n    <g id=\"xtick_9\">\n     <g id=\"line2d_31\">\n      <path clip-path=\"url(#pea3a56ca54)\" d=\"M 469.924138 209.459932 \nL 469.924138 24.14175 \n\" style=\"fill:none;stroke:#ffffff;stroke-linecap:square;stroke-width:0.8;\"/>\n     </g>\n     <g id=\"line2d_32\">\n      <g>\n       <use style=\"fill:#555555;stroke:#555555;stroke-width:0.8;\" x=\"469.924138\" xlink:href=\"#mdde19dd8b5\" y=\"209.459932\"/>\n      </g>\n     </g>\n     <g id=\"text_17\">\n      <!--  Self-emp-inc -->\n      <g style=\"fill:#555555;\" transform=\"translate(472.683513 281.959932)rotate(-90)scale(0.1 -0.1)\">\n       <use xlink:href=\"#DejaVuSans-32\"/>\n       <use x=\"31.787109\" xlink:href=\"#DejaVuSans-83\"/>\n       <use x=\"95.263672\" xlink:href=\"#DejaVuSans-101\"/>\n       <use x=\"156.787109\" xlink:href=\"#DejaVuSans-108\"/>\n       <use x=\"184.570312\" xlink:href=\"#DejaVuSans-102\"/>\n       <use x=\"214.275391\" xlink:href=\"#DejaVuSans-45\"/>\n       <use x=\"250.359375\" xlink:href=\"#DejaVuSans-101\"/>\n       <use x=\"311.882812\" xlink:href=\"#DejaVuSans-109\"/>\n       <use x=\"409.294922\" xlink:href=\"#DejaVuSans-112\"/>\n       <use x=\"472.771484\" xlink:href=\"#DejaVuSans-45\"/>\n       <use x=\"508.855469\" xlink:href=\"#DejaVuSans-105\"/>\n       <use x=\"536.638672\" xlink:href=\"#DejaVuSans-110\"/>\n       <use x=\"600.017578\" xlink:href=\"#DejaVuSans-99\"/>\n      </g>\n     </g>\n    </g>\n    <g id=\"xtick_10\">\n     <g id=\"line2d_33\">\n      <path clip-path=\"url(#pea3a56ca54)\" d=\"M 499.988793 209.459932 \nL 499.988793 24.14175 \n\" style=\"fill:none;stroke:#ffffff;stroke-linecap:square;stroke-width:0.8;\"/>\n     </g>\n     <g id=\"line2d_34\">\n      <g>\n       <use style=\"fill:#555555;stroke:#555555;stroke-width:0.8;\" x=\"499.988793\" xlink:href=\"#mdde19dd8b5\" y=\"209.459932\"/>\n      </g>\n     </g>\n     <g id=\"text_18\">\n      <!--  Federal-gov -->\n      <defs>\n       <path d=\"M 9.8125 72.90625 \nL 51.703125 72.90625 \nL 51.703125 64.59375 \nL 19.671875 64.59375 \nL 19.671875 43.109375 \nL 48.578125 43.109375 \nL 48.578125 34.8125 \nL 19.671875 34.8125 \nL 19.671875 0 \nL 9.8125 0 \nz\n\" id=\"DejaVuSans-70\"/>\n       <path d=\"M 45.40625 46.390625 \nL 45.40625 75.984375 \nL 54.390625 75.984375 \nL 54.390625 0 \nL 45.40625 0 \nL 45.40625 8.203125 \nQ 42.578125 3.328125 38.25 0.953125 \nQ 33.9375 -1.421875 27.875 -1.421875 \nQ 17.96875 -1.421875 11.734375 6.484375 \nQ 5.515625 14.40625 5.515625 27.296875 \nQ 5.515625 40.1875 11.734375 48.09375 \nQ 17.96875 56 27.875 56 \nQ 33.9375 56 38.25 53.625 \nQ 42.578125 51.265625 45.40625 46.390625 \nz\nM 14.796875 27.296875 \nQ 14.796875 17.390625 18.875 11.75 \nQ 22.953125 6.109375 30.078125 6.109375 \nQ 37.203125 6.109375 41.296875 11.75 \nQ 45.40625 17.390625 45.40625 27.296875 \nQ 45.40625 37.203125 41.296875 42.84375 \nQ 37.203125 48.484375 30.078125 48.484375 \nQ 22.953125 48.484375 18.875 42.84375 \nQ 14.796875 37.203125 14.796875 27.296875 \nz\n\" id=\"DejaVuSans-100\"/>\n      </defs>\n      <g style=\"fill:#555555;\" transform=\"translate(502.748168 278.505244)rotate(-90)scale(0.1 -0.1)\">\n       <use xlink:href=\"#DejaVuSans-32\"/>\n       <use x=\"31.787109\" xlink:href=\"#DejaVuSans-70\"/>\n       <use x=\"83.806641\" xlink:href=\"#DejaVuSans-101\"/>\n       <use x=\"145.330078\" xlink:href=\"#DejaVuSans-100\"/>\n       <use x=\"208.806641\" xlink:href=\"#DejaVuSans-101\"/>\n       <use x=\"270.330078\" xlink:href=\"#DejaVuSans-114\"/>\n       <use x=\"311.443359\" xlink:href=\"#DejaVuSans-97\"/>\n       <use x=\"372.722656\" xlink:href=\"#DejaVuSans-108\"/>\n       <use x=\"400.505859\" xlink:href=\"#DejaVuSans-45\"/>\n       <use x=\"436.589844\" xlink:href=\"#DejaVuSans-103\"/>\n       <use x=\"500.066406\" xlink:href=\"#DejaVuSans-111\"/>\n       <use x=\"561.248047\" xlink:href=\"#DejaVuSans-118\"/>\n      </g>\n     </g>\n    </g>\n    <g id=\"xtick_11\">\n     <g id=\"line2d_35\">\n      <path clip-path=\"url(#pea3a56ca54)\" d=\"M 530.053448 209.459932 \nL 530.053448 24.14175 \n\" style=\"fill:none;stroke:#ffffff;stroke-linecap:square;stroke-width:0.8;\"/>\n     </g>\n     <g id=\"line2d_36\">\n      <g>\n       <use style=\"fill:#555555;stroke:#555555;stroke-width:0.8;\" x=\"530.053448\" xlink:href=\"#mdde19dd8b5\" y=\"209.459932\"/>\n      </g>\n     </g>\n     <g id=\"text_19\">\n      <!--  Without-pay -->\n      <defs>\n       <path d=\"M 3.328125 72.90625 \nL 13.28125 72.90625 \nL 28.609375 11.28125 \nL 43.890625 72.90625 \nL 54.984375 72.90625 \nL 70.3125 11.28125 \nL 85.59375 72.90625 \nL 95.609375 72.90625 \nL 77.296875 0 \nL 64.890625 0 \nL 49.515625 63.28125 \nL 33.984375 0 \nL 21.578125 0 \nz\n\" id=\"DejaVuSans-87\"/>\n       <path d=\"M 54.890625 33.015625 \nL 54.890625 0 \nL 45.90625 0 \nL 45.90625 32.71875 \nQ 45.90625 40.484375 42.875 44.328125 \nQ 39.84375 48.1875 33.796875 48.1875 \nQ 26.515625 48.1875 22.3125 43.546875 \nQ 18.109375 38.921875 18.109375 30.90625 \nL 18.109375 0 \nL 9.078125 0 \nL 9.078125 75.984375 \nL 18.109375 75.984375 \nL 18.109375 46.1875 \nQ 21.34375 51.125 25.703125 53.5625 \nQ 30.078125 56 35.796875 56 \nQ 45.21875 56 50.046875 50.171875 \nQ 54.890625 44.34375 54.890625 33.015625 \nz\n\" id=\"DejaVuSans-104\"/>\n       <path d=\"M 8.5 21.578125 \nL 8.5 54.6875 \nL 17.484375 54.6875 \nL 17.484375 21.921875 \nQ 17.484375 14.15625 20.5 10.265625 \nQ 23.53125 6.390625 29.59375 6.390625 \nQ 36.859375 6.390625 41.078125 11.03125 \nQ 45.3125 15.671875 45.3125 23.6875 \nL 45.3125 54.6875 \nL 54.296875 54.6875 \nL 54.296875 0 \nL 45.3125 0 \nL 45.3125 8.40625 \nQ 42.046875 3.421875 37.71875 1 \nQ 33.40625 -1.421875 27.6875 -1.421875 \nQ 18.265625 -1.421875 13.375 4.4375 \nQ 8.5 10.296875 8.5 21.578125 \nz\nM 31.109375 56 \nz\n\" id=\"DejaVuSans-117\"/>\n       <path d=\"M 32.171875 -5.078125 \nQ 28.375 -14.84375 24.75 -17.8125 \nQ 21.140625 -20.796875 15.09375 -20.796875 \nL 7.90625 -20.796875 \nL 7.90625 -13.28125 \nL 13.1875 -13.28125 \nQ 16.890625 -13.28125 18.9375 -11.515625 \nQ 21 -9.765625 23.484375 -3.21875 \nL 25.09375 0.875 \nL 2.984375 54.6875 \nL 12.5 54.6875 \nL 29.59375 11.921875 \nL 46.6875 54.6875 \nL 56.203125 54.6875 \nz\n\" id=\"DejaVuSans-121\"/>\n      </defs>\n      <g style=\"fill:#555555;\" transform=\"translate(532.812823 280.716182)rotate(-90)scale(0.1 -0.1)\">\n       <use xlink:href=\"#DejaVuSans-32\"/>\n       <use x=\"31.787109\" xlink:href=\"#DejaVuSans-87\"/>\n       <use x=\"128.414062\" xlink:href=\"#DejaVuSans-105\"/>\n       <use x=\"156.197266\" xlink:href=\"#DejaVuSans-116\"/>\n       <use x=\"195.40625\" xlink:href=\"#DejaVuSans-104\"/>\n       <use x=\"258.785156\" xlink:href=\"#DejaVuSans-111\"/>\n       <use x=\"319.966797\" xlink:href=\"#DejaVuSans-117\"/>\n       <use x=\"383.345703\" xlink:href=\"#DejaVuSans-116\"/>\n       <use x=\"422.554688\" xlink:href=\"#DejaVuSans-45\"/>\n       <use x=\"458.638672\" xlink:href=\"#DejaVuSans-112\"/>\n       <use x=\"522.115234\" xlink:href=\"#DejaVuSans-97\"/>\n       <use x=\"583.394531\" xlink:href=\"#DejaVuSans-121\"/>\n      </g>\n     </g>\n    </g>\n    <g id=\"xtick_12\">\n     <g id=\"line2d_37\">\n      <path clip-path=\"url(#pea3a56ca54)\" d=\"M 560.118103 209.459932 \nL 560.118103 24.14175 \n\" style=\"fill:none;stroke:#ffffff;stroke-linecap:square;stroke-width:0.8;\"/>\n     </g>\n     <g id=\"line2d_38\">\n      <g>\n       <use style=\"fill:#555555;stroke:#555555;stroke-width:0.8;\" x=\"560.118103\" xlink:href=\"#mdde19dd8b5\" y=\"209.459932\"/>\n      </g>\n     </g>\n     <g id=\"text_20\">\n      <!--  Never-worked -->\n      <defs>\n       <path d=\"M 9.8125 72.90625 \nL 23.09375 72.90625 \nL 55.421875 11.921875 \nL 55.421875 72.90625 \nL 64.984375 72.90625 \nL 64.984375 0 \nL 51.703125 0 \nL 19.390625 60.984375 \nL 19.390625 0 \nL 9.8125 0 \nz\n\" id=\"DejaVuSans-78\"/>\n       <path d=\"M 4.203125 54.6875 \nL 13.1875 54.6875 \nL 24.421875 12.015625 \nL 35.59375 54.6875 \nL 46.1875 54.6875 \nL 57.421875 12.015625 \nL 68.609375 54.6875 \nL 77.59375 54.6875 \nL 63.28125 0 \nL 52.6875 0 \nL 40.921875 44.828125 \nL 29.109375 0 \nL 18.5 0 \nz\n\" id=\"DejaVuSans-119\"/>\n       <path d=\"M 9.078125 75.984375 \nL 18.109375 75.984375 \nL 18.109375 31.109375 \nL 44.921875 54.6875 \nL 56.390625 54.6875 \nL 27.390625 29.109375 \nL 57.625 0 \nL 45.90625 0 \nL 18.109375 26.703125 \nL 18.109375 0 \nL 9.078125 0 \nz\n\" id=\"DejaVuSans-107\"/>\n      </defs>\n      <g style=\"fill:#555555;\" transform=\"translate(562.877478 288.763057)rotate(-90)scale(0.1 -0.1)\">\n       <use xlink:href=\"#DejaVuSans-32\"/>\n       <use x=\"31.787109\" xlink:href=\"#DejaVuSans-78\"/>\n       <use x=\"106.591797\" xlink:href=\"#DejaVuSans-101\"/>\n       <use x=\"168.115234\" xlink:href=\"#DejaVuSans-118\"/>\n       <use x=\"227.294922\" xlink:href=\"#DejaVuSans-101\"/>\n       <use x=\"288.818359\" xlink:href=\"#DejaVuSans-114\"/>\n       <use x=\"323.556641\" xlink:href=\"#DejaVuSans-45\"/>\n       <use x=\"359.640625\" xlink:href=\"#DejaVuSans-119\"/>\n       <use x=\"441.427734\" xlink:href=\"#DejaVuSans-111\"/>\n       <use x=\"502.609375\" xlink:href=\"#DejaVuSans-114\"/>\n       <use x=\"543.722656\" xlink:href=\"#DejaVuSans-107\"/>\n       <use x=\"598.007812\" xlink:href=\"#DejaVuSans-101\"/>\n       <use x=\"659.53125\" xlink:href=\"#DejaVuSans-100\"/>\n      </g>\n     </g>\n    </g>\n   </g>\n   <g id=\"matplotlib.axis_4\">\n    <g id=\"ytick_8\">\n     <g id=\"line2d_39\">\n      <path clip-path=\"url(#pea3a56ca54)\" d=\"M 334.63319 209.459932 \nL 575.150431 209.459932 \n\" style=\"fill:none;stroke:#ffffff;stroke-linecap:square;stroke-width:0.8;\"/>\n     </g>\n     <g id=\"line2d_40\">\n      <g>\n       <use style=\"fill:#555555;stroke:#555555;stroke-width:0.8;\" x=\"334.63319\" xlink:href=\"#m29fc131eff\" y=\"209.459932\"/>\n      </g>\n     </g>\n     <g id=\"text_21\">\n      <!-- 0 -->\n      <g style=\"fill:#555555;\" transform=\"translate(321.27069 213.259151)scale(0.1 -0.1)\">\n       <use xlink:href=\"#DejaVuSans-48\"/>\n      </g>\n     </g>\n    </g>\n    <g id=\"ytick_9\">\n     <g id=\"line2d_41\">\n      <path clip-path=\"url(#pea3a56ca54)\" d=\"M 334.63319 170.577859 \nL 575.150431 170.577859 \n\" style=\"fill:none;stroke:#ffffff;stroke-linecap:square;stroke-width:0.8;\"/>\n     </g>\n     <g id=\"line2d_42\">\n      <g>\n       <use style=\"fill:#555555;stroke:#555555;stroke-width:0.8;\" x=\"334.63319\" xlink:href=\"#m29fc131eff\" y=\"170.577859\"/>\n      </g>\n     </g>\n     <g id=\"text_22\">\n      <!-- 5000 -->\n      <g style=\"fill:#555555;\" transform=\"translate(302.18319 174.377077)scale(0.1 -0.1)\">\n       <use xlink:href=\"#DejaVuSans-53\"/>\n       <use x=\"63.623047\" xlink:href=\"#DejaVuSans-48\"/>\n       <use x=\"127.246094\" xlink:href=\"#DejaVuSans-48\"/>\n       <use x=\"190.869141\" xlink:href=\"#DejaVuSans-48\"/>\n      </g>\n     </g>\n    </g>\n    <g id=\"ytick_10\">\n     <g id=\"line2d_43\">\n      <path clip-path=\"url(#pea3a56ca54)\" d=\"M 334.63319 131.695785 \nL 575.150431 131.695785 \n\" style=\"fill:none;stroke:#ffffff;stroke-linecap:square;stroke-width:0.8;\"/>\n     </g>\n     <g id=\"line2d_44\">\n      <g>\n       <use style=\"fill:#555555;stroke:#555555;stroke-width:0.8;\" x=\"334.63319\" xlink:href=\"#m29fc131eff\" y=\"131.695785\"/>\n      </g>\n     </g>\n     <g id=\"text_23\">\n      <!-- 10000 -->\n      <g style=\"fill:#555555;\" transform=\"translate(295.82069 135.495004)scale(0.1 -0.1)\">\n       <use xlink:href=\"#DejaVuSans-49\"/>\n       <use x=\"63.623047\" xlink:href=\"#DejaVuSans-48\"/>\n       <use x=\"127.246094\" xlink:href=\"#DejaVuSans-48\"/>\n       <use x=\"190.869141\" xlink:href=\"#DejaVuSans-48\"/>\n       <use x=\"254.492188\" xlink:href=\"#DejaVuSans-48\"/>\n      </g>\n     </g>\n    </g>\n    <g id=\"ytick_11\">\n     <g id=\"line2d_45\">\n      <path clip-path=\"url(#pea3a56ca54)\" d=\"M 334.63319 92.813712 \nL 575.150431 92.813712 \n\" style=\"fill:none;stroke:#ffffff;stroke-linecap:square;stroke-width:0.8;\"/>\n     </g>\n     <g id=\"line2d_46\">\n      <g>\n       <use style=\"fill:#555555;stroke:#555555;stroke-width:0.8;\" x=\"334.63319\" xlink:href=\"#m29fc131eff\" y=\"92.813712\"/>\n      </g>\n     </g>\n     <g id=\"text_24\">\n      <!-- 15000 -->\n      <g style=\"fill:#555555;\" transform=\"translate(295.82069 96.612931)scale(0.1 -0.1)\">\n       <use xlink:href=\"#DejaVuSans-49\"/>\n       <use x=\"63.623047\" xlink:href=\"#DejaVuSans-53\"/>\n       <use x=\"127.246094\" xlink:href=\"#DejaVuSans-48\"/>\n       <use x=\"190.869141\" xlink:href=\"#DejaVuSans-48\"/>\n       <use x=\"254.492188\" xlink:href=\"#DejaVuSans-48\"/>\n      </g>\n     </g>\n    </g>\n    <g id=\"ytick_12\">\n     <g id=\"line2d_47\">\n      <path clip-path=\"url(#pea3a56ca54)\" d=\"M 334.63319 53.931639 \nL 575.150431 53.931639 \n\" style=\"fill:none;stroke:#ffffff;stroke-linecap:square;stroke-width:0.8;\"/>\n     </g>\n     <g id=\"line2d_48\">\n      <g>\n       <use style=\"fill:#555555;stroke:#555555;stroke-width:0.8;\" x=\"334.63319\" xlink:href=\"#m29fc131eff\" y=\"53.931639\"/>\n      </g>\n     </g>\n     <g id=\"text_25\">\n      <!-- 20000 -->\n      <g style=\"fill:#555555;\" transform=\"translate(295.82069 57.730858)scale(0.1 -0.1)\">\n       <use xlink:href=\"#DejaVuSans-50\"/>\n       <use x=\"63.623047\" xlink:href=\"#DejaVuSans-48\"/>\n       <use x=\"127.246094\" xlink:href=\"#DejaVuSans-48\"/>\n       <use x=\"190.869141\" xlink:href=\"#DejaVuSans-48\"/>\n       <use x=\"254.492188\" xlink:href=\"#DejaVuSans-48\"/>\n      </g>\n     </g>\n    </g>\n   </g>\n   <g id=\"patch_18\">\n    <path clip-path=\"url(#pea3a56ca54)\" d=\"M 342.149353 209.459932 \nL 357.181681 209.459932 \nL 357.181681 32.966425 \nL 342.149353 32.966425 \nz\n\" style=\"fill:#e24a33;\"/>\n   </g>\n   <g id=\"patch_19\">\n    <path clip-path=\"url(#pea3a56ca54)\" d=\"M 372.214009 209.459932 \nL 387.246336 209.459932 \nL 387.246336 189.700062 \nL 372.214009 189.700062 \nz\n\" style=\"fill:#e24a33;\"/>\n   </g>\n   <g id=\"patch_20\">\n    <path clip-path=\"url(#pea3a56ca54)\" d=\"M 402.278664 209.459932 \nL 417.310991 209.459932 \nL 417.310991 193.183896 \nL 402.278664 193.183896 \nz\n\" style=\"fill:#e24a33;\"/>\n   </g>\n   <g id=\"patch_21\">\n    <path clip-path=\"url(#pea3a56ca54)\" d=\"M 432.343319 209.459932 \nL 447.375647 209.459932 \nL 447.375647 199.366146 \nL 432.343319 199.366146 \nz\n\" style=\"fill:#e24a33;\"/>\n   </g>\n   <g id=\"patch_22\">\n    <path clip-path=\"url(#pea3a56ca54)\" d=\"M 462.407974 209.459932 \nL 477.440302 209.459932 \nL 477.440302 200.781453 \nL 462.407974 200.781453 \nz\n\" style=\"fill:#e24a33;\"/>\n   </g>\n   <g id=\"patch_23\">\n    <path clip-path=\"url(#pea3a56ca54)\" d=\"M 492.472629 209.459932 \nL 507.504957 209.459932 \nL 507.504957 201.994574 \nL 492.472629 201.994574 \nz\n\" style=\"fill:#e24a33;\"/>\n   </g>\n   <g id=\"patch_24\">\n    <path clip-path=\"url(#pea3a56ca54)\" d=\"M 522.537284 209.459932 \nL 537.569612 209.459932 \nL 537.569612 209.351062 \nL 522.537284 209.351062 \nz\n\" style=\"fill:#e24a33;\"/>\n   </g>\n   <g id=\"patch_25\">\n    <path clip-path=\"url(#pea3a56ca54)\" d=\"M 552.60194 209.459932 \nL 567.634267 209.459932 \nL 567.634267 209.405497 \nL 552.60194 209.405497 \nz\n\" style=\"fill:#e24a33;\"/>\n   </g>\n   <g id=\"patch_26\">\n    <path d=\"M 334.63319 209.459932 \nL 334.63319 24.14175 \n\" style=\"fill:none;stroke:#ffffff;stroke-linecap:square;stroke-linejoin:miter;\"/>\n   </g>\n   <g id=\"patch_27\">\n    <path d=\"M 575.150431 209.459932 \nL 575.150431 24.14175 \n\" style=\"fill:none;stroke:#ffffff;stroke-linecap:square;stroke-linejoin:miter;\"/>\n   </g>\n   <g id=\"patch_28\">\n    <path d=\"M 334.63319 209.459932 \nL 575.150431 209.459932 \n\" style=\"fill:none;stroke:#ffffff;stroke-linecap:square;stroke-linejoin:miter;\"/>\n   </g>\n   <g id=\"patch_29\">\n    <path d=\"M 334.63319 24.14175 \nL 575.150431 24.14175 \n\" style=\"fill:none;stroke:#ffffff;stroke-linecap:square;stroke-linejoin:miter;\"/>\n   </g>\n   <g id=\"text_26\">\n    <!-- Workclass -->\n    <defs>\n     <path d=\"M 44.28125 53.078125 \nL 44.28125 44.578125 \nQ 40.484375 46.53125 36.375 47.5 \nQ 32.28125 48.484375 27.875 48.484375 \nQ 21.1875 48.484375 17.84375 46.4375 \nQ 14.5 44.390625 14.5 40.28125 \nQ 14.5 37.15625 16.890625 35.375 \nQ 19.28125 33.59375 26.515625 31.984375 \nL 29.59375 31.296875 \nQ 39.15625 29.25 43.1875 25.515625 \nQ 47.21875 21.78125 47.21875 15.09375 \nQ 47.21875 7.46875 41.1875 3.015625 \nQ 35.15625 -1.421875 24.609375 -1.421875 \nQ 20.21875 -1.421875 15.453125 -0.5625 \nQ 10.6875 0.296875 5.421875 2 \nL 5.421875 11.28125 \nQ 10.40625 8.6875 15.234375 7.390625 \nQ 20.0625 6.109375 24.8125 6.109375 \nQ 31.15625 6.109375 34.5625 8.28125 \nQ 37.984375 10.453125 37.984375 14.40625 \nQ 37.984375 18.0625 35.515625 20.015625 \nQ 33.0625 21.96875 24.703125 23.78125 \nL 21.578125 24.515625 \nQ 13.234375 26.265625 9.515625 29.90625 \nQ 5.8125 33.546875 5.8125 39.890625 \nQ 5.8125 47.609375 11.28125 51.796875 \nQ 16.75 56 26.8125 56 \nQ 31.78125 56 36.171875 55.265625 \nQ 40.578125 54.546875 44.28125 53.078125 \nz\n\" id=\"DejaVuSans-115\"/>\n    </defs>\n    <g transform=\"translate(418.78831 18.14175)scale(0.144 -0.144)\">\n     <use xlink:href=\"#DejaVuSans-87\"/>\n     <use x=\"93.001953\" xlink:href=\"#DejaVuSans-111\"/>\n     <use x=\"154.183594\" xlink:href=\"#DejaVuSans-114\"/>\n     <use x=\"195.296875\" xlink:href=\"#DejaVuSans-107\"/>\n     <use x=\"253.207031\" xlink:href=\"#DejaVuSans-99\"/>\n     <use x=\"308.1875\" xlink:href=\"#DejaVuSans-108\"/>\n     <use x=\"335.970703\" xlink:href=\"#DejaVuSans-97\"/>\n     <use x=\"397.25\" xlink:href=\"#DejaVuSans-115\"/>\n     <use x=\"449.349609\" xlink:href=\"#DejaVuSans-115\"/>\n    </g>\n   </g>\n  </g>\n  <g id=\"axes_3\">\n   <g id=\"patch_30\">\n    <path d=\"M 623.253879 209.459932 \nL 863.771121 209.459932 \nL 863.771121 24.14175 \nL 623.253879 24.14175 \nz\n\" style=\"fill:#e5e5e5;\"/>\n   </g>\n   <g id=\"matplotlib.axis_5\">\n    <g id=\"xtick_13\">\n     <g id=\"line2d_49\">\n      <path clip-path=\"url(#p8cbf3ddbf6)\" d=\"M 632.362178 209.459932 \nL 632.362178 24.14175 \n\" style=\"fill:none;stroke:#ffffff;stroke-linecap:square;stroke-width:0.8;\"/>\n     </g>\n     <g id=\"line2d_50\">\n      <g>\n       <use style=\"fill:#555555;stroke:#555555;stroke-width:0.8;\" x=\"632.362178\" xlink:href=\"#mdde19dd8b5\" y=\"209.459932\"/>\n      </g>\n     </g>\n     <g id=\"text_27\">\n      <!-- 0.00 -->\n      <defs>\n       <path d=\"M 10.6875 12.40625 \nL 21 12.40625 \nL 21 0 \nL 10.6875 0 \nz\n\" id=\"DejaVuSans-46\"/>\n      </defs>\n      <g style=\"fill:#555555;\" transform=\"translate(635.121553 238.725557)rotate(-90)scale(0.1 -0.1)\">\n       <use xlink:href=\"#DejaVuSans-48\"/>\n       <use x=\"63.623047\" xlink:href=\"#DejaVuSans-46\"/>\n       <use x=\"95.410156\" xlink:href=\"#DejaVuSans-48\"/>\n       <use x=\"159.033203\" xlink:href=\"#DejaVuSans-48\"/>\n      </g>\n     </g>\n    </g>\n    <g id=\"xtick_14\">\n     <g id=\"line2d_51\">\n      <path clip-path=\"url(#p8cbf3ddbf6)\" d=\"M 669.486782 209.459932 \nL 669.486782 24.14175 \n\" style=\"fill:none;stroke:#ffffff;stroke-linecap:square;stroke-width:0.8;\"/>\n     </g>\n     <g id=\"line2d_52\">\n      <g>\n       <use style=\"fill:#555555;stroke:#555555;stroke-width:0.8;\" x=\"669.486782\" xlink:href=\"#mdde19dd8b5\" y=\"209.459932\"/>\n      </g>\n     </g>\n     <g id=\"text_28\">\n      <!-- 0.25 -->\n      <g style=\"fill:#555555;\" transform=\"translate(672.246157 238.725557)rotate(-90)scale(0.1 -0.1)\">\n       <use xlink:href=\"#DejaVuSans-48\"/>\n       <use x=\"63.623047\" xlink:href=\"#DejaVuSans-46\"/>\n       <use x=\"95.410156\" xlink:href=\"#DejaVuSans-50\"/>\n       <use x=\"159.033203\" xlink:href=\"#DejaVuSans-53\"/>\n      </g>\n     </g>\n    </g>\n    <g id=\"xtick_15\">\n     <g id=\"line2d_53\">\n      <path clip-path=\"url(#p8cbf3ddbf6)\" d=\"M 706.611386 209.459932 \nL 706.611386 24.14175 \n\" style=\"fill:none;stroke:#ffffff;stroke-linecap:square;stroke-width:0.8;\"/>\n     </g>\n     <g id=\"line2d_54\">\n      <g>\n       <use style=\"fill:#555555;stroke:#555555;stroke-width:0.8;\" x=\"706.611386\" xlink:href=\"#mdde19dd8b5\" y=\"209.459932\"/>\n      </g>\n     </g>\n     <g id=\"text_29\">\n      <!-- 0.50 -->\n      <g style=\"fill:#555555;\" transform=\"translate(709.370761 238.725557)rotate(-90)scale(0.1 -0.1)\">\n       <use xlink:href=\"#DejaVuSans-48\"/>\n       <use x=\"63.623047\" xlink:href=\"#DejaVuSans-46\"/>\n       <use x=\"95.410156\" xlink:href=\"#DejaVuSans-53\"/>\n       <use x=\"159.033203\" xlink:href=\"#DejaVuSans-48\"/>\n      </g>\n     </g>\n    </g>\n    <g id=\"xtick_16\">\n     <g id=\"line2d_55\">\n      <path clip-path=\"url(#p8cbf3ddbf6)\" d=\"M 743.73599 209.459932 \nL 743.73599 24.14175 \n\" style=\"fill:none;stroke:#ffffff;stroke-linecap:square;stroke-width:0.8;\"/>\n     </g>\n     <g id=\"line2d_56\">\n      <g>\n       <use style=\"fill:#555555;stroke:#555555;stroke-width:0.8;\" x=\"743.73599\" xlink:href=\"#mdde19dd8b5\" y=\"209.459932\"/>\n      </g>\n     </g>\n     <g id=\"text_30\">\n      <!-- 0.75 -->\n      <defs>\n       <path d=\"M 8.203125 72.90625 \nL 55.078125 72.90625 \nL 55.078125 68.703125 \nL 28.609375 0 \nL 18.3125 0 \nL 43.21875 64.59375 \nL 8.203125 64.59375 \nz\n\" id=\"DejaVuSans-55\"/>\n      </defs>\n      <g style=\"fill:#555555;\" transform=\"translate(746.495365 238.725557)rotate(-90)scale(0.1 -0.1)\">\n       <use xlink:href=\"#DejaVuSans-48\"/>\n       <use x=\"63.623047\" xlink:href=\"#DejaVuSans-46\"/>\n       <use x=\"95.410156\" xlink:href=\"#DejaVuSans-55\"/>\n       <use x=\"159.033203\" xlink:href=\"#DejaVuSans-53\"/>\n      </g>\n     </g>\n    </g>\n    <g id=\"xtick_17\">\n     <g id=\"line2d_57\">\n      <path clip-path=\"url(#p8cbf3ddbf6)\" d=\"M 780.860594 209.459932 \nL 780.860594 24.14175 \n\" style=\"fill:none;stroke:#ffffff;stroke-linecap:square;stroke-width:0.8;\"/>\n     </g>\n     <g id=\"line2d_58\">\n      <g>\n       <use style=\"fill:#555555;stroke:#555555;stroke-width:0.8;\" x=\"780.860594\" xlink:href=\"#mdde19dd8b5\" y=\"209.459932\"/>\n      </g>\n     </g>\n     <g id=\"text_31\">\n      <!-- 1.00 -->\n      <g style=\"fill:#555555;\" transform=\"translate(783.619969 238.725557)rotate(-90)scale(0.1 -0.1)\">\n       <use xlink:href=\"#DejaVuSans-49\"/>\n       <use x=\"63.623047\" xlink:href=\"#DejaVuSans-46\"/>\n       <use x=\"95.410156\" xlink:href=\"#DejaVuSans-48\"/>\n       <use x=\"159.033203\" xlink:href=\"#DejaVuSans-48\"/>\n      </g>\n     </g>\n    </g>\n    <g id=\"xtick_18\">\n     <g id=\"line2d_59\">\n      <path clip-path=\"url(#p8cbf3ddbf6)\" d=\"M 817.985198 209.459932 \nL 817.985198 24.14175 \n\" style=\"fill:none;stroke:#ffffff;stroke-linecap:square;stroke-width:0.8;\"/>\n     </g>\n     <g id=\"line2d_60\">\n      <g>\n       <use style=\"fill:#555555;stroke:#555555;stroke-width:0.8;\" x=\"817.985198\" xlink:href=\"#mdde19dd8b5\" y=\"209.459932\"/>\n      </g>\n     </g>\n     <g id=\"text_32\">\n      <!-- 1.25 -->\n      <g style=\"fill:#555555;\" transform=\"translate(820.744573 238.725557)rotate(-90)scale(0.1 -0.1)\">\n       <use xlink:href=\"#DejaVuSans-49\"/>\n       <use x=\"63.623047\" xlink:href=\"#DejaVuSans-46\"/>\n       <use x=\"95.410156\" xlink:href=\"#DejaVuSans-50\"/>\n       <use x=\"159.033203\" xlink:href=\"#DejaVuSans-53\"/>\n      </g>\n     </g>\n    </g>\n    <g id=\"xtick_19\">\n     <g id=\"line2d_61\">\n      <path clip-path=\"url(#p8cbf3ddbf6)\" d=\"M 855.109802 209.459932 \nL 855.109802 24.14175 \n\" style=\"fill:none;stroke:#ffffff;stroke-linecap:square;stroke-width:0.8;\"/>\n     </g>\n     <g id=\"line2d_62\">\n      <g>\n       <use style=\"fill:#555555;stroke:#555555;stroke-width:0.8;\" x=\"855.109802\" xlink:href=\"#mdde19dd8b5\" y=\"209.459932\"/>\n      </g>\n     </g>\n     <g id=\"text_33\">\n      <!-- 1.50 -->\n      <g style=\"fill:#555555;\" transform=\"translate(857.869177 238.725557)rotate(-90)scale(0.1 -0.1)\">\n       <use xlink:href=\"#DejaVuSans-49\"/>\n       <use x=\"63.623047\" xlink:href=\"#DejaVuSans-46\"/>\n       <use x=\"95.410156\" xlink:href=\"#DejaVuSans-53\"/>\n       <use x=\"159.033203\" xlink:href=\"#DejaVuSans-48\"/>\n      </g>\n     </g>\n    </g>\n    <g id=\"text_34\">\n     <!-- 1e6 -->\n     <g style=\"fill:#555555;\" transform=\"translate(844.892996 249.323994)scale(0.1 -0.1)\">\n      <use xlink:href=\"#DejaVuSans-49\"/>\n      <use x=\"63.623047\" xlink:href=\"#DejaVuSans-101\"/>\n      <use x=\"125.146484\" xlink:href=\"#DejaVuSans-54\"/>\n     </g>\n    </g>\n   </g>\n   <g id=\"matplotlib.axis_6\">\n    <g id=\"ytick_13\">\n     <g id=\"line2d_63\">\n      <path clip-path=\"url(#p8cbf3ddbf6)\" d=\"M 623.253879 209.459932 \nL 863.771121 209.459932 \n\" style=\"fill:none;stroke:#ffffff;stroke-linecap:square;stroke-width:0.8;\"/>\n     </g>\n     <g id=\"line2d_64\">\n      <g>\n       <use style=\"fill:#555555;stroke:#555555;stroke-width:0.8;\" x=\"623.253879\" xlink:href=\"#m29fc131eff\" y=\"209.459932\"/>\n      </g>\n     </g>\n     <g id=\"text_35\">\n      <!-- 0 -->\n      <g style=\"fill:#555555;\" transform=\"translate(609.891379 213.259151)scale(0.1 -0.1)\">\n       <use xlink:href=\"#DejaVuSans-48\"/>\n      </g>\n     </g>\n    </g>\n    <g id=\"ytick_14\">\n     <g id=\"line2d_65\">\n      <path clip-path=\"url(#p8cbf3ddbf6)\" d=\"M 623.253879 186.429527 \nL 863.771121 186.429527 \n\" style=\"fill:none;stroke:#ffffff;stroke-linecap:square;stroke-width:0.8;\"/>\n     </g>\n     <g id=\"line2d_66\">\n      <g>\n       <use style=\"fill:#555555;stroke:#555555;stroke-width:0.8;\" x=\"623.253879\" xlink:href=\"#m29fc131eff\" y=\"186.429527\"/>\n      </g>\n     </g>\n     <g id=\"text_36\">\n      <!-- 2000 -->\n      <g style=\"fill:#555555;\" transform=\"translate(590.803879 190.228746)scale(0.1 -0.1)\">\n       <use xlink:href=\"#DejaVuSans-50\"/>\n       <use x=\"63.623047\" xlink:href=\"#DejaVuSans-48\"/>\n       <use x=\"127.246094\" xlink:href=\"#DejaVuSans-48\"/>\n       <use x=\"190.869141\" xlink:href=\"#DejaVuSans-48\"/>\n      </g>\n     </g>\n    </g>\n    <g id=\"ytick_15\">\n     <g id=\"line2d_67\">\n      <path clip-path=\"url(#p8cbf3ddbf6)\" d=\"M 623.253879 163.399122 \nL 863.771121 163.399122 \n\" style=\"fill:none;stroke:#ffffff;stroke-linecap:square;stroke-width:0.8;\"/>\n     </g>\n     <g id=\"line2d_68\">\n      <g>\n       <use style=\"fill:#555555;stroke:#555555;stroke-width:0.8;\" x=\"623.253879\" xlink:href=\"#m29fc131eff\" y=\"163.399122\"/>\n      </g>\n     </g>\n     <g id=\"text_37\">\n      <!-- 4000 -->\n      <g style=\"fill:#555555;\" transform=\"translate(590.803879 167.198341)scale(0.1 -0.1)\">\n       <use xlink:href=\"#DejaVuSans-52\"/>\n       <use x=\"63.623047\" xlink:href=\"#DejaVuSans-48\"/>\n       <use x=\"127.246094\" xlink:href=\"#DejaVuSans-48\"/>\n       <use x=\"190.869141\" xlink:href=\"#DejaVuSans-48\"/>\n      </g>\n     </g>\n    </g>\n    <g id=\"ytick_16\">\n     <g id=\"line2d_69\">\n      <path clip-path=\"url(#p8cbf3ddbf6)\" d=\"M 623.253879 140.368718 \nL 863.771121 140.368718 \n\" style=\"fill:none;stroke:#ffffff;stroke-linecap:square;stroke-width:0.8;\"/>\n     </g>\n     <g id=\"line2d_70\">\n      <g>\n       <use style=\"fill:#555555;stroke:#555555;stroke-width:0.8;\" x=\"623.253879\" xlink:href=\"#m29fc131eff\" y=\"140.368718\"/>\n      </g>\n     </g>\n     <g id=\"text_38\">\n      <!-- 6000 -->\n      <g style=\"fill:#555555;\" transform=\"translate(590.803879 144.167936)scale(0.1 -0.1)\">\n       <use xlink:href=\"#DejaVuSans-54\"/>\n       <use x=\"63.623047\" xlink:href=\"#DejaVuSans-48\"/>\n       <use x=\"127.246094\" xlink:href=\"#DejaVuSans-48\"/>\n       <use x=\"190.869141\" xlink:href=\"#DejaVuSans-48\"/>\n      </g>\n     </g>\n    </g>\n    <g id=\"ytick_17\">\n     <g id=\"line2d_71\">\n      <path clip-path=\"url(#p8cbf3ddbf6)\" d=\"M 623.253879 117.338313 \nL 863.771121 117.338313 \n\" style=\"fill:none;stroke:#ffffff;stroke-linecap:square;stroke-width:0.8;\"/>\n     </g>\n     <g id=\"line2d_72\">\n      <g>\n       <use style=\"fill:#555555;stroke:#555555;stroke-width:0.8;\" x=\"623.253879\" xlink:href=\"#m29fc131eff\" y=\"117.338313\"/>\n      </g>\n     </g>\n     <g id=\"text_39\">\n      <!-- 8000 -->\n      <g style=\"fill:#555555;\" transform=\"translate(590.803879 121.137532)scale(0.1 -0.1)\">\n       <use xlink:href=\"#DejaVuSans-56\"/>\n       <use x=\"63.623047\" xlink:href=\"#DejaVuSans-48\"/>\n       <use x=\"127.246094\" xlink:href=\"#DejaVuSans-48\"/>\n       <use x=\"190.869141\" xlink:href=\"#DejaVuSans-48\"/>\n      </g>\n     </g>\n    </g>\n    <g id=\"ytick_18\">\n     <g id=\"line2d_73\">\n      <path clip-path=\"url(#p8cbf3ddbf6)\" d=\"M 623.253879 94.307908 \nL 863.771121 94.307908 \n\" style=\"fill:none;stroke:#ffffff;stroke-linecap:square;stroke-width:0.8;\"/>\n     </g>\n     <g id=\"line2d_74\">\n      <g>\n       <use style=\"fill:#555555;stroke:#555555;stroke-width:0.8;\" x=\"623.253879\" xlink:href=\"#m29fc131eff\" y=\"94.307908\"/>\n      </g>\n     </g>\n     <g id=\"text_40\">\n      <!-- 10000 -->\n      <g style=\"fill:#555555;\" transform=\"translate(584.441379 98.107127)scale(0.1 -0.1)\">\n       <use xlink:href=\"#DejaVuSans-49\"/>\n       <use x=\"63.623047\" xlink:href=\"#DejaVuSans-48\"/>\n       <use x=\"127.246094\" xlink:href=\"#DejaVuSans-48\"/>\n       <use x=\"190.869141\" xlink:href=\"#DejaVuSans-48\"/>\n       <use x=\"254.492188\" xlink:href=\"#DejaVuSans-48\"/>\n      </g>\n     </g>\n    </g>\n    <g id=\"ytick_19\">\n     <g id=\"line2d_75\">\n      <path clip-path=\"url(#p8cbf3ddbf6)\" d=\"M 623.253879 71.277504 \nL 863.771121 71.277504 \n\" style=\"fill:none;stroke:#ffffff;stroke-linecap:square;stroke-width:0.8;\"/>\n     </g>\n     <g id=\"line2d_76\">\n      <g>\n       <use style=\"fill:#555555;stroke:#555555;stroke-width:0.8;\" x=\"623.253879\" xlink:href=\"#m29fc131eff\" y=\"71.277504\"/>\n      </g>\n     </g>\n     <g id=\"text_41\">\n      <!-- 12000 -->\n      <g style=\"fill:#555555;\" transform=\"translate(584.441379 75.076722)scale(0.1 -0.1)\">\n       <use xlink:href=\"#DejaVuSans-49\"/>\n       <use x=\"63.623047\" xlink:href=\"#DejaVuSans-50\"/>\n       <use x=\"127.246094\" xlink:href=\"#DejaVuSans-48\"/>\n       <use x=\"190.869141\" xlink:href=\"#DejaVuSans-48\"/>\n       <use x=\"254.492188\" xlink:href=\"#DejaVuSans-48\"/>\n      </g>\n     </g>\n    </g>\n    <g id=\"ytick_20\">\n     <g id=\"line2d_77\">\n      <path clip-path=\"url(#p8cbf3ddbf6)\" d=\"M 623.253879 48.247099 \nL 863.771121 48.247099 \n\" style=\"fill:none;stroke:#ffffff;stroke-linecap:square;stroke-width:0.8;\"/>\n     </g>\n     <g id=\"line2d_78\">\n      <g>\n       <use style=\"fill:#555555;stroke:#555555;stroke-width:0.8;\" x=\"623.253879\" xlink:href=\"#m29fc131eff\" y=\"48.247099\"/>\n      </g>\n     </g>\n     <g id=\"text_42\">\n      <!-- 14000 -->\n      <g style=\"fill:#555555;\" transform=\"translate(584.441379 52.046318)scale(0.1 -0.1)\">\n       <use xlink:href=\"#DejaVuSans-49\"/>\n       <use x=\"63.623047\" xlink:href=\"#DejaVuSans-52\"/>\n       <use x=\"127.246094\" xlink:href=\"#DejaVuSans-48\"/>\n       <use x=\"190.869141\" xlink:href=\"#DejaVuSans-48\"/>\n       <use x=\"254.492188\" xlink:href=\"#DejaVuSans-48\"/>\n      </g>\n     </g>\n    </g>\n    <g id=\"ytick_21\">\n     <g id=\"line2d_79\">\n      <path clip-path=\"url(#p8cbf3ddbf6)\" d=\"M 623.253879 25.216694 \nL 863.771121 25.216694 \n\" style=\"fill:none;stroke:#ffffff;stroke-linecap:square;stroke-width:0.8;\"/>\n     </g>\n     <g id=\"line2d_80\">\n      <g>\n       <use style=\"fill:#555555;stroke:#555555;stroke-width:0.8;\" x=\"623.253879\" xlink:href=\"#m29fc131eff\" y=\"25.216694\"/>\n      </g>\n     </g>\n     <g id=\"text_43\">\n      <!-- 16000 -->\n      <g style=\"fill:#555555;\" transform=\"translate(584.441379 29.015913)scale(0.1 -0.1)\">\n       <use xlink:href=\"#DejaVuSans-49\"/>\n       <use x=\"63.623047\" xlink:href=\"#DejaVuSans-54\"/>\n       <use x=\"127.246094\" xlink:href=\"#DejaVuSans-48\"/>\n       <use x=\"190.869141\" xlink:href=\"#DejaVuSans-48\"/>\n       <use x=\"254.492188\" xlink:href=\"#DejaVuSans-48\"/>\n      </g>\n     </g>\n    </g>\n   </g>\n   <g id=\"patch_31\">\n    <path clip-path=\"url(#p8cbf3ddbf6)\" d=\"M 634.186481 209.459932 \nL 656.051685 209.459932 \nL 656.051685 58.415023 \nL 634.186481 58.415023 \nz\n\" style=\"fill:#e24a33;\"/>\n   </g>\n   <g id=\"patch_32\">\n    <path clip-path=\"url(#p8cbf3ddbf6)\" d=\"M 656.051685 209.459932 \nL 677.916889 209.459932 \nL 677.916889 32.966425 \nL 656.051685 32.966425 \nz\n\" style=\"fill:#e24a33;\"/>\n   </g>\n   <g id=\"patch_33\">\n    <path clip-path=\"url(#p8cbf3ddbf6)\" d=\"M 677.916889 209.459932 \nL 699.782092 209.459932 \nL 699.782092 169.179754 \nL 677.916889 169.179754 \nz\n\" style=\"fill:#e24a33;\"/>\n   </g>\n   <g id=\"patch_34\">\n    <path clip-path=\"url(#p8cbf3ddbf6)\" d=\"M 699.782092 209.459932 \nL 721.647296 209.459932 \nL 721.647296 203.96718 \nL 699.782092 203.96718 \nz\n\" style=\"fill:#e24a33;\"/>\n   </g>\n   <g id=\"patch_35\">\n    <path clip-path=\"url(#p8cbf3ddbf6)\" d=\"M 721.647296 209.459932 \nL 743.5125 209.459932 \nL 743.5125 208.285381 \nL 721.647296 208.285381 \nz\n\" style=\"fill:#e24a33;\"/>\n   </g>\n   <g id=\"patch_36\">\n    <path clip-path=\"url(#p8cbf3ddbf6)\" d=\"M 743.5125 209.459932 \nL 765.377704 209.459932 \nL 765.377704 209.229628 \nL 743.5125 209.229628 \nz\n\" style=\"fill:#e24a33;\"/>\n   </g>\n   <g id=\"patch_37\">\n    <path clip-path=\"url(#p8cbf3ddbf6)\" d=\"M 765.377704 209.459932 \nL 787.242908 209.459932 \nL 787.242908 209.34478 \nL 765.377704 209.34478 \nz\n\" style=\"fill:#e24a33;\"/>\n   </g>\n   <g id=\"patch_38\">\n    <path clip-path=\"url(#p8cbf3ddbf6)\" d=\"M 787.242908 209.459932 \nL 809.108111 209.459932 \nL 809.108111 209.402356 \nL 787.242908 209.402356 \nz\n\" style=\"fill:#e24a33;\"/>\n   </g>\n   <g id=\"patch_39\">\n    <path clip-path=\"url(#p8cbf3ddbf6)\" d=\"M 809.108111 209.459932 \nL 830.973315 209.459932 \nL 830.973315 209.436901 \nL 809.108111 209.436901 \nz\n\" style=\"fill:#e24a33;\"/>\n   </g>\n   <g id=\"patch_40\">\n    <path clip-path=\"url(#p8cbf3ddbf6)\" d=\"M 830.973315 209.459932 \nL 852.838519 209.459932 \nL 852.838519 209.425386 \nL 830.973315 209.425386 \nz\n\" style=\"fill:#e24a33;\"/>\n   </g>\n   <g id=\"patch_41\">\n    <path d=\"M 623.253879 209.459932 \nL 623.253879 24.14175 \n\" style=\"fill:none;stroke:#ffffff;stroke-linecap:square;stroke-linejoin:miter;\"/>\n   </g>\n   <g id=\"patch_42\">\n    <path d=\"M 863.771121 209.459932 \nL 863.771121 24.14175 \n\" style=\"fill:none;stroke:#ffffff;stroke-linecap:square;stroke-linejoin:miter;\"/>\n   </g>\n   <g id=\"patch_43\">\n    <path d=\"M 623.253879 209.459932 \nL 863.771121 209.459932 \n\" style=\"fill:none;stroke:#ffffff;stroke-linecap:square;stroke-linejoin:miter;\"/>\n   </g>\n   <g id=\"patch_44\">\n    <path d=\"M 623.253879 24.14175 \nL 863.771121 24.14175 \n\" style=\"fill:none;stroke:#ffffff;stroke-linecap:square;stroke-linejoin:miter;\"/>\n   </g>\n   <g id=\"text_44\">\n    <!-- fnlwgt -->\n    <g transform=\"translate(721.132875 18.14175)scale(0.144 -0.144)\">\n     <use xlink:href=\"#DejaVuSans-102\"/>\n     <use x=\"35.205078\" xlink:href=\"#DejaVuSans-110\"/>\n     <use x=\"98.583984\" xlink:href=\"#DejaVuSans-108\"/>\n     <use x=\"126.367188\" xlink:href=\"#DejaVuSans-119\"/>\n     <use x=\"208.154297\" xlink:href=\"#DejaVuSans-103\"/>\n     <use x=\"271.630859\" xlink:href=\"#DejaVuSans-116\"/>\n    </g>\n   </g>\n  </g>\n  <g id=\"axes_4\">\n   <g id=\"patch_45\">\n    <path d=\"M 911.874569 209.459932 \nL 1152.39181 209.459932 \nL 1152.39181 24.14175 \nL 911.874569 24.14175 \nz\n\" style=\"fill:#e5e5e5;\"/>\n   </g>\n   <g id=\"matplotlib.axis_7\">\n    <g id=\"xtick_20\">\n     <g id=\"line2d_81\">\n      <path clip-path=\"url(#p87044fc332)\" d=\"M 919.390733 209.459932 \nL 919.390733 24.14175 \n\" style=\"fill:none;stroke:#ffffff;stroke-linecap:square;stroke-width:0.8;\"/>\n     </g>\n     <g id=\"line2d_82\">\n      <g>\n       <use style=\"fill:#555555;stroke:#555555;stroke-width:0.8;\" x=\"919.390733\" xlink:href=\"#mdde19dd8b5\" y=\"209.459932\"/>\n      </g>\n     </g>\n     <g id=\"text_45\">\n      <!--  HS-grad -->\n      <defs>\n       <path d=\"M 9.8125 72.90625 \nL 19.671875 72.90625 \nL 19.671875 43.015625 \nL 55.515625 43.015625 \nL 55.515625 72.90625 \nL 65.375 72.90625 \nL 65.375 0 \nL 55.515625 0 \nL 55.515625 34.71875 \nL 19.671875 34.71875 \nL 19.671875 0 \nL 9.8125 0 \nz\n\" id=\"DejaVuSans-72\"/>\n      </defs>\n      <g style=\"fill:#555555;\" transform=\"translate(922.150108 260.050557)rotate(-90)scale(0.1 -0.1)\">\n       <use xlink:href=\"#DejaVuSans-32\"/>\n       <use x=\"31.787109\" xlink:href=\"#DejaVuSans-72\"/>\n       <use x=\"106.982422\" xlink:href=\"#DejaVuSans-83\"/>\n       <use x=\"170.458984\" xlink:href=\"#DejaVuSans-45\"/>\n       <use x=\"206.542969\" xlink:href=\"#DejaVuSans-103\"/>\n       <use x=\"270.019531\" xlink:href=\"#DejaVuSans-114\"/>\n       <use x=\"311.132812\" xlink:href=\"#DejaVuSans-97\"/>\n       <use x=\"372.412109\" xlink:href=\"#DejaVuSans-100\"/>\n      </g>\n     </g>\n    </g>\n    <g id=\"xtick_21\">\n     <g id=\"line2d_83\">\n      <path clip-path=\"url(#p87044fc332)\" d=\"M 934.42306 209.459932 \nL 934.42306 24.14175 \n\" style=\"fill:none;stroke:#ffffff;stroke-linecap:square;stroke-width:0.8;\"/>\n     </g>\n     <g id=\"line2d_84\">\n      <g>\n       <use style=\"fill:#555555;stroke:#555555;stroke-width:0.8;\" x=\"934.42306\" xlink:href=\"#mdde19dd8b5\" y=\"209.459932\"/>\n      </g>\n     </g>\n     <g id=\"text_46\">\n      <!--  Some-college -->\n      <g style=\"fill:#555555;\" transform=\"translate(937.182435 287.434932)rotate(-90)scale(0.1 -0.1)\">\n       <use xlink:href=\"#DejaVuSans-32\"/>\n       <use x=\"31.787109\" xlink:href=\"#DejaVuSans-83\"/>\n       <use x=\"95.263672\" xlink:href=\"#DejaVuSans-111\"/>\n       <use x=\"156.445312\" xlink:href=\"#DejaVuSans-109\"/>\n       <use x=\"253.857422\" xlink:href=\"#DejaVuSans-101\"/>\n       <use x=\"315.380859\" xlink:href=\"#DejaVuSans-45\"/>\n       <use x=\"351.464844\" xlink:href=\"#DejaVuSans-99\"/>\n       <use x=\"406.445312\" xlink:href=\"#DejaVuSans-111\"/>\n       <use x=\"467.626953\" xlink:href=\"#DejaVuSans-108\"/>\n       <use x=\"495.410156\" xlink:href=\"#DejaVuSans-108\"/>\n       <use x=\"523.193359\" xlink:href=\"#DejaVuSans-101\"/>\n       <use x=\"584.716797\" xlink:href=\"#DejaVuSans-103\"/>\n       <use x=\"648.193359\" xlink:href=\"#DejaVuSans-101\"/>\n      </g>\n     </g>\n    </g>\n    <g id=\"xtick_22\">\n     <g id=\"line2d_85\">\n      <path clip-path=\"url(#p87044fc332)\" d=\"M 949.455388 209.459932 \nL 949.455388 24.14175 \n\" style=\"fill:none;stroke:#ffffff;stroke-linecap:square;stroke-width:0.8;\"/>\n     </g>\n     <g id=\"line2d_86\">\n      <g>\n       <use style=\"fill:#555555;stroke:#555555;stroke-width:0.8;\" x=\"949.455388\" xlink:href=\"#mdde19dd8b5\" y=\"209.459932\"/>\n      </g>\n     </g>\n     <g id=\"text_47\">\n      <!--  Bachelors -->\n      <defs>\n       <path d=\"M 19.671875 34.8125 \nL 19.671875 8.109375 \nL 35.5 8.109375 \nQ 43.453125 8.109375 47.28125 11.40625 \nQ 51.125 14.703125 51.125 21.484375 \nQ 51.125 28.328125 47.28125 31.5625 \nQ 43.453125 34.8125 35.5 34.8125 \nz\nM 19.671875 64.796875 \nL 19.671875 42.828125 \nL 34.28125 42.828125 \nQ 41.5 42.828125 45.03125 45.53125 \nQ 48.578125 48.25 48.578125 53.8125 \nQ 48.578125 59.328125 45.03125 62.0625 \nQ 41.5 64.796875 34.28125 64.796875 \nz\nM 9.8125 72.90625 \nL 35.015625 72.90625 \nQ 46.296875 72.90625 52.390625 68.21875 \nQ 58.5 63.53125 58.5 54.890625 \nQ 58.5 48.1875 55.375 44.234375 \nQ 52.25 40.28125 46.1875 39.3125 \nQ 53.46875 37.75 57.5 32.78125 \nQ 61.53125 27.828125 61.53125 20.40625 \nQ 61.53125 10.640625 54.890625 5.3125 \nQ 48.25 0 35.984375 0 \nL 9.8125 0 \nz\n\" id=\"DejaVuSans-66\"/>\n      </defs>\n      <g style=\"fill:#555555;\" transform=\"translate(952.214763 268.833369)rotate(-90)scale(0.1 -0.1)\">\n       <use xlink:href=\"#DejaVuSans-32\"/>\n       <use x=\"31.787109\" xlink:href=\"#DejaVuSans-66\"/>\n       <use x=\"100.390625\" xlink:href=\"#DejaVuSans-97\"/>\n       <use x=\"161.669922\" xlink:href=\"#DejaVuSans-99\"/>\n       <use x=\"216.650391\" xlink:href=\"#DejaVuSans-104\"/>\n       <use x=\"280.029297\" xlink:href=\"#DejaVuSans-101\"/>\n       <use x=\"341.552734\" xlink:href=\"#DejaVuSans-108\"/>\n       <use x=\"369.335938\" xlink:href=\"#DejaVuSans-111\"/>\n       <use x=\"430.517578\" xlink:href=\"#DejaVuSans-114\"/>\n       <use x=\"471.630859\" xlink:href=\"#DejaVuSans-115\"/>\n      </g>\n     </g>\n    </g>\n    <g id=\"xtick_23\">\n     <g id=\"line2d_87\">\n      <path clip-path=\"url(#p87044fc332)\" d=\"M 964.487716 209.459932 \nL 964.487716 24.14175 \n\" style=\"fill:none;stroke:#ffffff;stroke-linecap:square;stroke-width:0.8;\"/>\n     </g>\n     <g id=\"line2d_88\">\n      <g>\n       <use style=\"fill:#555555;stroke:#555555;stroke-width:0.8;\" x=\"964.487716\" xlink:href=\"#mdde19dd8b5\" y=\"209.459932\"/>\n      </g>\n     </g>\n     <g id=\"text_48\">\n      <!--  Masters -->\n      <defs>\n       <path d=\"M 9.8125 72.90625 \nL 24.515625 72.90625 \nL 43.109375 23.296875 \nL 61.8125 72.90625 \nL 76.515625 72.90625 \nL 76.515625 0 \nL 66.890625 0 \nL 66.890625 64.015625 \nL 48.09375 14.015625 \nL 38.1875 14.015625 \nL 19.390625 64.015625 \nL 19.390625 0 \nL 9.8125 0 \nz\n\" id=\"DejaVuSans-77\"/>\n      </defs>\n      <g style=\"fill:#555555;\" transform=\"translate(967.247091 258.997432)rotate(-90)scale(0.1 -0.1)\">\n       <use xlink:href=\"#DejaVuSans-32\"/>\n       <use x=\"31.787109\" xlink:href=\"#DejaVuSans-77\"/>\n       <use x=\"118.066406\" xlink:href=\"#DejaVuSans-97\"/>\n       <use x=\"179.345703\" xlink:href=\"#DejaVuSans-115\"/>\n       <use x=\"231.445312\" xlink:href=\"#DejaVuSans-116\"/>\n       <use x=\"270.654297\" xlink:href=\"#DejaVuSans-101\"/>\n       <use x=\"332.177734\" xlink:href=\"#DejaVuSans-114\"/>\n       <use x=\"373.291016\" xlink:href=\"#DejaVuSans-115\"/>\n      </g>\n     </g>\n    </g>\n    <g id=\"xtick_24\">\n     <g id=\"line2d_89\">\n      <path clip-path=\"url(#p87044fc332)\" d=\"M 979.520043 209.459932 \nL 979.520043 24.14175 \n\" style=\"fill:none;stroke:#ffffff;stroke-linecap:square;stroke-width:0.8;\"/>\n     </g>\n     <g id=\"line2d_90\">\n      <g>\n       <use style=\"fill:#555555;stroke:#555555;stroke-width:0.8;\" x=\"979.520043\" xlink:href=\"#mdde19dd8b5\" y=\"209.459932\"/>\n      </g>\n     </g>\n     <g id=\"text_49\">\n      <!--  Assoc-voc -->\n      <g style=\"fill:#555555;\" transform=\"translate(982.279418 269.395869)rotate(-90)scale(0.1 -0.1)\">\n       <use xlink:href=\"#DejaVuSans-32\"/>\n       <use x=\"31.787109\" xlink:href=\"#DejaVuSans-65\"/>\n       <use x=\"100.195312\" xlink:href=\"#DejaVuSans-115\"/>\n       <use x=\"152.294922\" xlink:href=\"#DejaVuSans-115\"/>\n       <use x=\"204.394531\" xlink:href=\"#DejaVuSans-111\"/>\n       <use x=\"265.576172\" xlink:href=\"#DejaVuSans-99\"/>\n       <use x=\"320.556641\" xlink:href=\"#DejaVuSans-45\"/>\n       <use x=\"354.015625\" xlink:href=\"#DejaVuSans-118\"/>\n       <use x=\"413.195312\" xlink:href=\"#DejaVuSans-111\"/>\n       <use x=\"474.376953\" xlink:href=\"#DejaVuSans-99\"/>\n      </g>\n     </g>\n    </g>\n    <g id=\"xtick_25\">\n     <g id=\"line2d_91\">\n      <path clip-path=\"url(#p87044fc332)\" d=\"M 994.552371 209.459932 \nL 994.552371 24.14175 \n\" style=\"fill:none;stroke:#ffffff;stroke-linecap:square;stroke-width:0.8;\"/>\n     </g>\n     <g id=\"line2d_92\">\n      <g>\n       <use style=\"fill:#555555;stroke:#555555;stroke-width:0.8;\" x=\"994.552371\" xlink:href=\"#mdde19dd8b5\" y=\"209.459932\"/>\n      </g>\n     </g>\n     <g id=\"text_50\">\n      <!--  11th -->\n      <g style=\"fill:#555555;\" transform=\"translate(997.311746 242.620869)rotate(-90)scale(0.1 -0.1)\">\n       <use xlink:href=\"#DejaVuSans-32\"/>\n       <use x=\"31.787109\" xlink:href=\"#DejaVuSans-49\"/>\n       <use x=\"95.410156\" xlink:href=\"#DejaVuSans-49\"/>\n       <use x=\"159.033203\" xlink:href=\"#DejaVuSans-116\"/>\n       <use x=\"198.242188\" xlink:href=\"#DejaVuSans-104\"/>\n      </g>\n     </g>\n    </g>\n    <g id=\"xtick_26\">\n     <g id=\"line2d_93\">\n      <path clip-path=\"url(#p87044fc332)\" d=\"M 1009.584698 209.459932 \nL 1009.584698 24.14175 \n\" style=\"fill:none;stroke:#ffffff;stroke-linecap:square;stroke-width:0.8;\"/>\n     </g>\n     <g id=\"line2d_94\">\n      <g>\n       <use style=\"fill:#555555;stroke:#555555;stroke-width:0.8;\" x=\"1009.584698\" xlink:href=\"#mdde19dd8b5\" y=\"209.459932\"/>\n      </g>\n     </g>\n     <g id=\"text_51\">\n      <!--  Assoc-acdm -->\n      <g style=\"fill:#555555;\" transform=\"translate(1012.344073 279.838057)rotate(-90)scale(0.1 -0.1)\">\n       <use xlink:href=\"#DejaVuSans-32\"/>\n       <use x=\"31.787109\" xlink:href=\"#DejaVuSans-65\"/>\n       <use x=\"100.195312\" xlink:href=\"#DejaVuSans-115\"/>\n       <use x=\"152.294922\" xlink:href=\"#DejaVuSans-115\"/>\n       <use x=\"204.394531\" xlink:href=\"#DejaVuSans-111\"/>\n       <use x=\"265.576172\" xlink:href=\"#DejaVuSans-99\"/>\n       <use x=\"320.556641\" xlink:href=\"#DejaVuSans-45\"/>\n       <use x=\"356.640625\" xlink:href=\"#DejaVuSans-97\"/>\n       <use x=\"417.919922\" xlink:href=\"#DejaVuSans-99\"/>\n       <use x=\"472.900391\" xlink:href=\"#DejaVuSans-100\"/>\n       <use x=\"536.376953\" xlink:href=\"#DejaVuSans-109\"/>\n      </g>\n     </g>\n    </g>\n    <g id=\"xtick_27\">\n     <g id=\"line2d_95\">\n      <path clip-path=\"url(#p87044fc332)\" d=\"M 1024.617026 209.459932 \nL 1024.617026 24.14175 \n\" style=\"fill:none;stroke:#ffffff;stroke-linecap:square;stroke-width:0.8;\"/>\n     </g>\n     <g id=\"line2d_96\">\n      <g>\n       <use style=\"fill:#555555;stroke:#555555;stroke-width:0.8;\" x=\"1024.617026\" xlink:href=\"#mdde19dd8b5\" y=\"209.459932\"/>\n      </g>\n     </g>\n     <g id=\"text_52\">\n      <!--  10th -->\n      <g style=\"fill:#555555;\" transform=\"translate(1027.376401 242.620869)rotate(-90)scale(0.1 -0.1)\">\n       <use xlink:href=\"#DejaVuSans-32\"/>\n       <use x=\"31.787109\" xlink:href=\"#DejaVuSans-49\"/>\n       <use x=\"95.410156\" xlink:href=\"#DejaVuSans-48\"/>\n       <use x=\"159.033203\" xlink:href=\"#DejaVuSans-116\"/>\n       <use x=\"198.242188\" xlink:href=\"#DejaVuSans-104\"/>\n      </g>\n     </g>\n    </g>\n    <g id=\"xtick_28\">\n     <g id=\"line2d_97\">\n      <path clip-path=\"url(#p87044fc332)\" d=\"M 1039.649353 209.459932 \nL 1039.649353 24.14175 \n\" style=\"fill:none;stroke:#ffffff;stroke-linecap:square;stroke-width:0.8;\"/>\n     </g>\n     <g id=\"line2d_98\">\n      <g>\n       <use style=\"fill:#555555;stroke:#555555;stroke-width:0.8;\" x=\"1039.649353\" xlink:href=\"#mdde19dd8b5\" y=\"209.459932\"/>\n      </g>\n     </g>\n     <g id=\"text_53\">\n      <!--  7th-8th -->\n      <g style=\"fill:#555555;\" transform=\"translate(1042.408728 256.486494)rotate(-90)scale(0.1 -0.1)\">\n       <use xlink:href=\"#DejaVuSans-32\"/>\n       <use x=\"31.787109\" xlink:href=\"#DejaVuSans-55\"/>\n       <use x=\"95.410156\" xlink:href=\"#DejaVuSans-116\"/>\n       <use x=\"134.619141\" xlink:href=\"#DejaVuSans-104\"/>\n       <use x=\"197.998047\" xlink:href=\"#DejaVuSans-45\"/>\n       <use x=\"234.082031\" xlink:href=\"#DejaVuSans-56\"/>\n       <use x=\"297.705078\" xlink:href=\"#DejaVuSans-116\"/>\n       <use x=\"336.914062\" xlink:href=\"#DejaVuSans-104\"/>\n      </g>\n     </g>\n    </g>\n    <g id=\"xtick_29\">\n     <g id=\"line2d_99\">\n      <path clip-path=\"url(#p87044fc332)\" d=\"M 1054.681681 209.459932 \nL 1054.681681 24.14175 \n\" style=\"fill:none;stroke:#ffffff;stroke-linecap:square;stroke-width:0.8;\"/>\n     </g>\n     <g id=\"line2d_100\">\n      <g>\n       <use style=\"fill:#555555;stroke:#555555;stroke-width:0.8;\" x=\"1054.681681\" xlink:href=\"#mdde19dd8b5\" y=\"209.459932\"/>\n      </g>\n     </g>\n     <g id=\"text_54\">\n      <!--  Prof-school -->\n      <g style=\"fill:#555555;\" transform=\"translate(1057.441056 274.136494)rotate(-90)scale(0.1 -0.1)\">\n       <use xlink:href=\"#DejaVuSans-32\"/>\n       <use x=\"31.787109\" xlink:href=\"#DejaVuSans-80\"/>\n       <use x=\"90.339844\" xlink:href=\"#DejaVuSans-114\"/>\n       <use x=\"129.203125\" xlink:href=\"#DejaVuSans-111\"/>\n       <use x=\"190.384766\" xlink:href=\"#DejaVuSans-102\"/>\n       <use x=\"220.089844\" xlink:href=\"#DejaVuSans-45\"/>\n       <use x=\"256.173828\" xlink:href=\"#DejaVuSans-115\"/>\n       <use x=\"308.273438\" xlink:href=\"#DejaVuSans-99\"/>\n       <use x=\"363.253906\" xlink:href=\"#DejaVuSans-104\"/>\n       <use x=\"426.632812\" xlink:href=\"#DejaVuSans-111\"/>\n       <use x=\"487.814453\" xlink:href=\"#DejaVuSans-111\"/>\n       <use x=\"548.996094\" xlink:href=\"#DejaVuSans-108\"/>\n      </g>\n     </g>\n    </g>\n    <g id=\"xtick_30\">\n     <g id=\"line2d_101\">\n      <path clip-path=\"url(#p87044fc332)\" d=\"M 1069.714009 209.459932 \nL 1069.714009 24.14175 \n\" style=\"fill:none;stroke:#ffffff;stroke-linecap:square;stroke-width:0.8;\"/>\n     </g>\n     <g id=\"line2d_102\">\n      <g>\n       <use style=\"fill:#555555;stroke:#555555;stroke-width:0.8;\" x=\"1069.714009\" xlink:href=\"#mdde19dd8b5\" y=\"209.459932\"/>\n      </g>\n     </g>\n     <g id=\"text_55\">\n      <!--  9th -->\n      <defs>\n       <path d=\"M 10.984375 1.515625 \nL 10.984375 10.5 \nQ 14.703125 8.734375 18.5 7.8125 \nQ 22.3125 6.890625 25.984375 6.890625 \nQ 35.75 6.890625 40.890625 13.453125 \nQ 46.046875 20.015625 46.78125 33.40625 \nQ 43.953125 29.203125 39.59375 26.953125 \nQ 35.25 24.703125 29.984375 24.703125 \nQ 19.046875 24.703125 12.671875 31.3125 \nQ 6.296875 37.9375 6.296875 49.421875 \nQ 6.296875 60.640625 12.9375 67.421875 \nQ 19.578125 74.21875 30.609375 74.21875 \nQ 43.265625 74.21875 49.921875 64.515625 \nQ 56.59375 54.828125 56.59375 36.375 \nQ 56.59375 19.140625 48.40625 8.859375 \nQ 40.234375 -1.421875 26.421875 -1.421875 \nQ 22.703125 -1.421875 18.890625 -0.6875 \nQ 15.09375 0.046875 10.984375 1.515625 \nz\nM 30.609375 32.421875 \nQ 37.25 32.421875 41.125 36.953125 \nQ 45.015625 41.5 45.015625 49.421875 \nQ 45.015625 57.28125 41.125 61.84375 \nQ 37.25 66.40625 30.609375 66.40625 \nQ 23.96875 66.40625 20.09375 61.84375 \nQ 16.21875 57.28125 16.21875 49.421875 \nQ 16.21875 41.5 20.09375 36.953125 \nQ 23.96875 32.421875 30.609375 32.421875 \nz\n\" id=\"DejaVuSans-57\"/>\n      </defs>\n      <g style=\"fill:#555555;\" transform=\"translate(1072.473384 236.258369)rotate(-90)scale(0.1 -0.1)\">\n       <use xlink:href=\"#DejaVuSans-32\"/>\n       <use x=\"31.787109\" xlink:href=\"#DejaVuSans-57\"/>\n       <use x=\"95.410156\" xlink:href=\"#DejaVuSans-116\"/>\n       <use x=\"134.619141\" xlink:href=\"#DejaVuSans-104\"/>\n      </g>\n     </g>\n    </g>\n    <g id=\"xtick_31\">\n     <g id=\"line2d_103\">\n      <path clip-path=\"url(#p87044fc332)\" d=\"M 1084.746336 209.459932 \nL 1084.746336 24.14175 \n\" style=\"fill:none;stroke:#ffffff;stroke-linecap:square;stroke-width:0.8;\"/>\n     </g>\n     <g id=\"line2d_104\">\n      <g>\n       <use style=\"fill:#555555;stroke:#555555;stroke-width:0.8;\" x=\"1084.746336\" xlink:href=\"#mdde19dd8b5\" y=\"209.459932\"/>\n      </g>\n     </g>\n     <g id=\"text_56\">\n      <!--  12th -->\n      <g style=\"fill:#555555;\" transform=\"translate(1087.505711 242.620869)rotate(-90)scale(0.1 -0.1)\">\n       <use xlink:href=\"#DejaVuSans-32\"/>\n       <use x=\"31.787109\" xlink:href=\"#DejaVuSans-49\"/>\n       <use x=\"95.410156\" xlink:href=\"#DejaVuSans-50\"/>\n       <use x=\"159.033203\" xlink:href=\"#DejaVuSans-116\"/>\n       <use x=\"198.242188\" xlink:href=\"#DejaVuSans-104\"/>\n      </g>\n     </g>\n    </g>\n    <g id=\"xtick_32\">\n     <g id=\"line2d_105\">\n      <path clip-path=\"url(#p87044fc332)\" d=\"M 1099.778664 209.459932 \nL 1099.778664 24.14175 \n\" style=\"fill:none;stroke:#ffffff;stroke-linecap:square;stroke-width:0.8;\"/>\n     </g>\n     <g id=\"line2d_106\">\n      <g>\n       <use style=\"fill:#555555;stroke:#555555;stroke-width:0.8;\" x=\"1099.778664\" xlink:href=\"#mdde19dd8b5\" y=\"209.459932\"/>\n      </g>\n     </g>\n     <g id=\"text_57\">\n      <!--  Doctorate -->\n      <defs>\n       <path d=\"M 19.671875 64.796875 \nL 19.671875 8.109375 \nL 31.59375 8.109375 \nQ 46.6875 8.109375 53.6875 14.9375 \nQ 60.6875 21.78125 60.6875 36.53125 \nQ 60.6875 51.171875 53.6875 57.984375 \nQ 46.6875 64.796875 31.59375 64.796875 \nz\nM 9.8125 72.90625 \nL 30.078125 72.90625 \nQ 51.265625 72.90625 61.171875 64.09375 \nQ 71.09375 55.28125 71.09375 36.53125 \nQ 71.09375 17.671875 61.125 8.828125 \nQ 51.171875 0 30.078125 0 \nL 9.8125 0 \nz\n\" id=\"DejaVuSans-68\"/>\n      </defs>\n      <g style=\"fill:#555555;\" transform=\"translate(1102.538039 269.306807)rotate(-90)scale(0.1 -0.1)\">\n       <use xlink:href=\"#DejaVuSans-32\"/>\n       <use x=\"31.787109\" xlink:href=\"#DejaVuSans-68\"/>\n       <use x=\"108.789062\" xlink:href=\"#DejaVuSans-111\"/>\n       <use x=\"169.970703\" xlink:href=\"#DejaVuSans-99\"/>\n       <use x=\"224.951172\" xlink:href=\"#DejaVuSans-116\"/>\n       <use x=\"264.160156\" xlink:href=\"#DejaVuSans-111\"/>\n       <use x=\"325.341797\" xlink:href=\"#DejaVuSans-114\"/>\n       <use x=\"366.455078\" xlink:href=\"#DejaVuSans-97\"/>\n       <use x=\"427.734375\" xlink:href=\"#DejaVuSans-116\"/>\n       <use x=\"466.943359\" xlink:href=\"#DejaVuSans-101\"/>\n      </g>\n     </g>\n    </g>\n    <g id=\"xtick_33\">\n     <g id=\"line2d_107\">\n      <path clip-path=\"url(#p87044fc332)\" d=\"M 1114.810991 209.459932 \nL 1114.810991 24.14175 \n\" style=\"fill:none;stroke:#ffffff;stroke-linecap:square;stroke-width:0.8;\"/>\n     </g>\n     <g id=\"line2d_108\">\n      <g>\n       <use style=\"fill:#555555;stroke:#555555;stroke-width:0.8;\" x=\"1114.810991\" xlink:href=\"#mdde19dd8b5\" y=\"209.459932\"/>\n      </g>\n     </g>\n     <g id=\"text_58\">\n      <!--  5th-6th -->\n      <g style=\"fill:#555555;\" transform=\"translate(1117.570366 256.486494)rotate(-90)scale(0.1 -0.1)\">\n       <use xlink:href=\"#DejaVuSans-32\"/>\n       <use x=\"31.787109\" xlink:href=\"#DejaVuSans-53\"/>\n       <use x=\"95.410156\" xlink:href=\"#DejaVuSans-116\"/>\n       <use x=\"134.619141\" xlink:href=\"#DejaVuSans-104\"/>\n       <use x=\"197.998047\" xlink:href=\"#DejaVuSans-45\"/>\n       <use x=\"234.082031\" xlink:href=\"#DejaVuSans-54\"/>\n       <use x=\"297.705078\" xlink:href=\"#DejaVuSans-116\"/>\n       <use x=\"336.914062\" xlink:href=\"#DejaVuSans-104\"/>\n      </g>\n     </g>\n    </g>\n    <g id=\"xtick_34\">\n     <g id=\"line2d_109\">\n      <path clip-path=\"url(#p87044fc332)\" d=\"M 1129.843319 209.459932 \nL 1129.843319 24.14175 \n\" style=\"fill:none;stroke:#ffffff;stroke-linecap:square;stroke-width:0.8;\"/>\n     </g>\n     <g id=\"line2d_110\">\n      <g>\n       <use style=\"fill:#555555;stroke:#555555;stroke-width:0.8;\" x=\"1129.843319\" xlink:href=\"#mdde19dd8b5\" y=\"209.459932\"/>\n      </g>\n     </g>\n     <g id=\"text_59\">\n      <!--  1st-4th -->\n      <g style=\"fill:#555555;\" transform=\"translate(1132.602694 255.358369)rotate(-90)scale(0.1 -0.1)\">\n       <use xlink:href=\"#DejaVuSans-32\"/>\n       <use x=\"31.787109\" xlink:href=\"#DejaVuSans-49\"/>\n       <use x=\"95.410156\" xlink:href=\"#DejaVuSans-115\"/>\n       <use x=\"147.509766\" xlink:href=\"#DejaVuSans-116\"/>\n       <use x=\"186.71875\" xlink:href=\"#DejaVuSans-45\"/>\n       <use x=\"222.802734\" xlink:href=\"#DejaVuSans-52\"/>\n       <use x=\"286.425781\" xlink:href=\"#DejaVuSans-116\"/>\n       <use x=\"325.634766\" xlink:href=\"#DejaVuSans-104\"/>\n      </g>\n     </g>\n    </g>\n    <g id=\"xtick_35\">\n     <g id=\"line2d_111\">\n      <path clip-path=\"url(#p87044fc332)\" d=\"M 1144.875647 209.459932 \nL 1144.875647 24.14175 \n\" style=\"fill:none;stroke:#ffffff;stroke-linecap:square;stroke-width:0.8;\"/>\n     </g>\n     <g id=\"line2d_112\">\n      <g>\n       <use style=\"fill:#555555;stroke:#555555;stroke-width:0.8;\" x=\"1144.875647\" xlink:href=\"#mdde19dd8b5\" y=\"209.459932\"/>\n      </g>\n     </g>\n     <g id=\"text_60\">\n      <!--  Preschool -->\n      <g style=\"fill:#555555;\" transform=\"translate(1147.635022 267.592744)rotate(-90)scale(0.1 -0.1)\">\n       <use xlink:href=\"#DejaVuSans-32\"/>\n       <use x=\"31.787109\" xlink:href=\"#DejaVuSans-80\"/>\n       <use x=\"90.339844\" xlink:href=\"#DejaVuSans-114\"/>\n       <use x=\"129.203125\" xlink:href=\"#DejaVuSans-101\"/>\n       <use x=\"190.726562\" xlink:href=\"#DejaVuSans-115\"/>\n       <use x=\"242.826172\" xlink:href=\"#DejaVuSans-99\"/>\n       <use x=\"297.806641\" xlink:href=\"#DejaVuSans-104\"/>\n       <use x=\"361.185547\" xlink:href=\"#DejaVuSans-111\"/>\n       <use x=\"422.367188\" xlink:href=\"#DejaVuSans-111\"/>\n       <use x=\"483.548828\" xlink:href=\"#DejaVuSans-108\"/>\n      </g>\n     </g>\n    </g>\n   </g>\n   <g id=\"matplotlib.axis_8\">\n    <g id=\"ytick_22\">\n     <g id=\"line2d_113\">\n      <path clip-path=\"url(#p87044fc332)\" d=\"M 911.874569 209.459932 \nL 1152.39181 209.459932 \n\" style=\"fill:none;stroke:#ffffff;stroke-linecap:square;stroke-width:0.8;\"/>\n     </g>\n     <g id=\"line2d_114\">\n      <g>\n       <use style=\"fill:#555555;stroke:#555555;stroke-width:0.8;\" x=\"911.874569\" xlink:href=\"#m29fc131eff\" y=\"209.459932\"/>\n      </g>\n     </g>\n     <g id=\"text_61\">\n      <!-- 0 -->\n      <g style=\"fill:#555555;\" transform=\"translate(898.512069 213.259151)scale(0.1 -0.1)\">\n       <use xlink:href=\"#DejaVuSans-48\"/>\n      </g>\n     </g>\n    </g>\n    <g id=\"ytick_23\">\n     <g id=\"line2d_115\">\n      <path clip-path=\"url(#p87044fc332)\" d=\"M 911.874569 175.845322 \nL 1152.39181 175.845322 \n\" style=\"fill:none;stroke:#ffffff;stroke-linecap:square;stroke-width:0.8;\"/>\n     </g>\n     <g id=\"line2d_116\">\n      <g>\n       <use style=\"fill:#555555;stroke:#555555;stroke-width:0.8;\" x=\"911.874569\" xlink:href=\"#m29fc131eff\" y=\"175.845322\"/>\n      </g>\n     </g>\n     <g id=\"text_62\">\n      <!-- 2000 -->\n      <g style=\"fill:#555555;\" transform=\"translate(879.424569 179.644541)scale(0.1 -0.1)\">\n       <use xlink:href=\"#DejaVuSans-50\"/>\n       <use x=\"63.623047\" xlink:href=\"#DejaVuSans-48\"/>\n       <use x=\"127.246094\" xlink:href=\"#DejaVuSans-48\"/>\n       <use x=\"190.869141\" xlink:href=\"#DejaVuSans-48\"/>\n      </g>\n     </g>\n    </g>\n    <g id=\"ytick_24\">\n     <g id=\"line2d_117\">\n      <path clip-path=\"url(#p87044fc332)\" d=\"M 911.874569 142.230713 \nL 1152.39181 142.230713 \n\" style=\"fill:none;stroke:#ffffff;stroke-linecap:square;stroke-width:0.8;\"/>\n     </g>\n     <g id=\"line2d_118\">\n      <g>\n       <use style=\"fill:#555555;stroke:#555555;stroke-width:0.8;\" x=\"911.874569\" xlink:href=\"#m29fc131eff\" y=\"142.230713\"/>\n      </g>\n     </g>\n     <g id=\"text_63\">\n      <!-- 4000 -->\n      <g style=\"fill:#555555;\" transform=\"translate(879.424569 146.029932)scale(0.1 -0.1)\">\n       <use xlink:href=\"#DejaVuSans-52\"/>\n       <use x=\"63.623047\" xlink:href=\"#DejaVuSans-48\"/>\n       <use x=\"127.246094\" xlink:href=\"#DejaVuSans-48\"/>\n       <use x=\"190.869141\" xlink:href=\"#DejaVuSans-48\"/>\n      </g>\n     </g>\n    </g>\n    <g id=\"ytick_25\">\n     <g id=\"line2d_119\">\n      <path clip-path=\"url(#p87044fc332)\" d=\"M 911.874569 108.616104 \nL 1152.39181 108.616104 \n\" style=\"fill:none;stroke:#ffffff;stroke-linecap:square;stroke-width:0.8;\"/>\n     </g>\n     <g id=\"line2d_120\">\n      <g>\n       <use style=\"fill:#555555;stroke:#555555;stroke-width:0.8;\" x=\"911.874569\" xlink:href=\"#m29fc131eff\" y=\"108.616104\"/>\n      </g>\n     </g>\n     <g id=\"text_64\">\n      <!-- 6000 -->\n      <g style=\"fill:#555555;\" transform=\"translate(879.424569 112.415322)scale(0.1 -0.1)\">\n       <use xlink:href=\"#DejaVuSans-54\"/>\n       <use x=\"63.623047\" xlink:href=\"#DejaVuSans-48\"/>\n       <use x=\"127.246094\" xlink:href=\"#DejaVuSans-48\"/>\n       <use x=\"190.869141\" xlink:href=\"#DejaVuSans-48\"/>\n      </g>\n     </g>\n    </g>\n    <g id=\"ytick_26\">\n     <g id=\"line2d_121\">\n      <path clip-path=\"url(#p87044fc332)\" d=\"M 911.874569 75.001494 \nL 1152.39181 75.001494 \n\" style=\"fill:none;stroke:#ffffff;stroke-linecap:square;stroke-width:0.8;\"/>\n     </g>\n     <g id=\"line2d_122\">\n      <g>\n       <use style=\"fill:#555555;stroke:#555555;stroke-width:0.8;\" x=\"911.874569\" xlink:href=\"#m29fc131eff\" y=\"75.001494\"/>\n      </g>\n     </g>\n     <g id=\"text_65\">\n      <!-- 8000 -->\n      <g style=\"fill:#555555;\" transform=\"translate(879.424569 78.800713)scale(0.1 -0.1)\">\n       <use xlink:href=\"#DejaVuSans-56\"/>\n       <use x=\"63.623047\" xlink:href=\"#DejaVuSans-48\"/>\n       <use x=\"127.246094\" xlink:href=\"#DejaVuSans-48\"/>\n       <use x=\"190.869141\" xlink:href=\"#DejaVuSans-48\"/>\n      </g>\n     </g>\n    </g>\n    <g id=\"ytick_27\">\n     <g id=\"line2d_123\">\n      <path clip-path=\"url(#p87044fc332)\" d=\"M 911.874569 41.386885 \nL 1152.39181 41.386885 \n\" style=\"fill:none;stroke:#ffffff;stroke-linecap:square;stroke-width:0.8;\"/>\n     </g>\n     <g id=\"line2d_124\">\n      <g>\n       <use style=\"fill:#555555;stroke:#555555;stroke-width:0.8;\" x=\"911.874569\" xlink:href=\"#m29fc131eff\" y=\"41.386885\"/>\n      </g>\n     </g>\n     <g id=\"text_66\">\n      <!-- 10000 -->\n      <g style=\"fill:#555555;\" transform=\"translate(873.062069 45.186104)scale(0.1 -0.1)\">\n       <use xlink:href=\"#DejaVuSans-49\"/>\n       <use x=\"63.623047\" xlink:href=\"#DejaVuSans-48\"/>\n       <use x=\"127.246094\" xlink:href=\"#DejaVuSans-48\"/>\n       <use x=\"190.869141\" xlink:href=\"#DejaVuSans-48\"/>\n       <use x=\"254.492188\" xlink:href=\"#DejaVuSans-48\"/>\n      </g>\n     </g>\n    </g>\n   </g>\n   <g id=\"patch_46\">\n    <path clip-path=\"url(#p87044fc332)\" d=\"M 915.632651 209.459932 \nL 923.148815 209.459932 \nL 923.148815 32.966425 \nL 915.632651 32.966425 \nz\n\" style=\"fill:#e24a33;\"/>\n   </g>\n   <g id=\"patch_47\">\n    <path clip-path=\"url(#p87044fc332)\" d=\"M 930.664978 209.459932 \nL 938.181142 209.459932 \nL 938.181142 86.917873 \nL 930.664978 86.917873 \nz\n\" style=\"fill:#e24a33;\"/>\n   </g>\n   <g id=\"patch_48\">\n    <path clip-path=\"url(#p87044fc332)\" d=\"M 945.697306 209.459932 \nL 953.21347 209.459932 \nL 953.21347 119.456815 \nL 945.697306 119.456815 \nz\n\" style=\"fill:#e24a33;\"/>\n   </g>\n   <g id=\"patch_49\">\n    <path clip-path=\"url(#p87044fc332)\" d=\"M 960.729634 209.459932 \nL 968.245797 209.459932 \nL 968.245797 180.500946 \nL 960.729634 180.500946 \nz\n\" style=\"fill:#e24a33;\"/>\n   </g>\n   <g id=\"patch_50\">\n    <path clip-path=\"url(#p87044fc332)\" d=\"M 975.761961 209.459932 \nL 983.278125 209.459932 \nL 983.278125 186.232237 \nL 975.761961 186.232237 \nz\n\" style=\"fill:#e24a33;\"/>\n   </g>\n   <g id=\"patch_51\">\n    <path clip-path=\"url(#p87044fc332)\" d=\"M 990.794289 209.459932 \nL 998.310453 209.459932 \nL 998.310453 189.711349 \nL 990.794289 189.711349 \nz\n\" style=\"fill:#e24a33;\"/>\n   </g>\n   <g id=\"patch_52\">\n    <path clip-path=\"url(#p87044fc332)\" d=\"M 1005.826616 209.459932 \nL 1013.34278 209.459932 \nL 1013.34278 191.526538 \nL 1005.826616 191.526538 \nz\n\" style=\"fill:#e24a33;\"/>\n   </g>\n   <g id=\"patch_53\">\n    <path clip-path=\"url(#p87044fc332)\" d=\"M 1020.858944 209.459932 \nL 1028.375108 209.459932 \nL 1028.375108 193.778717 \nL 1020.858944 193.778717 \nz\n\" style=\"fill:#e24a33;\"/>\n   </g>\n   <g id=\"patch_54\">\n    <path clip-path=\"url(#p87044fc332)\" d=\"M 1035.891272 209.459932 \nL 1043.407435 209.459932 \nL 1043.407435 198.602413 \nL 1035.891272 198.602413 \nz\n\" style=\"fill:#e24a33;\"/>\n   </g>\n   <g id=\"patch_55\">\n    <path clip-path=\"url(#p87044fc332)\" d=\"M 1050.923599 209.459932 \nL 1058.439763 209.459932 \nL 1058.439763 199.778924 \nL 1050.923599 199.778924 \nz\n\" style=\"fill:#e24a33;\"/>\n   </g>\n   <g id=\"patch_56\">\n    <path clip-path=\"url(#p87044fc332)\" d=\"M 1065.955927 209.459932 \nL 1073.472091 209.459932 \nL 1073.472091 200.820977 \nL 1065.955927 200.820977 \nz\n\" style=\"fill:#e24a33;\"/>\n   </g>\n   <g id=\"patch_57\">\n    <path clip-path=\"url(#p87044fc332)\" d=\"M 1080.988254 209.459932 \nL 1088.504418 209.459932 \nL 1088.504418 202.182369 \nL 1080.988254 202.182369 \nz\n\" style=\"fill:#e24a33;\"/>\n   </g>\n   <g id=\"patch_58\">\n    <path clip-path=\"url(#p87044fc332)\" d=\"M 1096.020582 209.459932 \nL 1103.536746 209.459932 \nL 1103.536746 202.518515 \nL 1096.020582 202.518515 \nz\n\" style=\"fill:#e24a33;\"/>\n   </g>\n   <g id=\"patch_59\">\n    <path clip-path=\"url(#p87044fc332)\" d=\"M 1111.052909 209.459932 \nL 1118.569073 209.459932 \nL 1118.569073 203.863099 \nL 1111.052909 203.863099 \nz\n\" style=\"fill:#e24a33;\"/>\n   </g>\n   <g id=\"patch_60\">\n    <path clip-path=\"url(#p87044fc332)\" d=\"M 1126.085237 209.459932 \nL 1133.601401 209.459932 \nL 1133.601401 206.636305 \nL 1126.085237 206.636305 \nz\n\" style=\"fill:#e24a33;\"/>\n   </g>\n   <g id=\"patch_61\">\n    <path clip-path=\"url(#p87044fc332)\" d=\"M 1141.117565 209.459932 \nL 1148.633728 209.459932 \nL 1148.633728 208.602759 \nL 1141.117565 208.602759 \nz\n\" style=\"fill:#e24a33;\"/>\n   </g>\n   <g id=\"patch_62\">\n    <path d=\"M 911.874569 209.459932 \nL 911.874569 24.14175 \n\" style=\"fill:none;stroke:#ffffff;stroke-linecap:square;stroke-linejoin:miter;\"/>\n   </g>\n   <g id=\"patch_63\">\n    <path d=\"M 1152.39181 209.459932 \nL 1152.39181 24.14175 \n\" style=\"fill:none;stroke:#ffffff;stroke-linecap:square;stroke-linejoin:miter;\"/>\n   </g>\n   <g id=\"patch_64\">\n    <path d=\"M 911.874569 209.459932 \nL 1152.39181 209.459932 \n\" style=\"fill:none;stroke:#ffffff;stroke-linecap:square;stroke-linejoin:miter;\"/>\n   </g>\n   <g id=\"patch_65\">\n    <path d=\"M 911.874569 24.14175 \nL 1152.39181 24.14175 \n\" style=\"fill:none;stroke:#ffffff;stroke-linecap:square;stroke-linejoin:miter;\"/>\n   </g>\n   <g id=\"text_67\">\n    <!-- Education -->\n    <defs>\n     <path d=\"M 9.8125 72.90625 \nL 55.90625 72.90625 \nL 55.90625 64.59375 \nL 19.671875 64.59375 \nL 19.671875 43.015625 \nL 54.390625 43.015625 \nL 54.390625 34.71875 \nL 19.671875 34.71875 \nL 19.671875 8.296875 \nL 56.78125 8.296875 \nL 56.78125 0 \nL 9.8125 0 \nz\n\" id=\"DejaVuSans-69\"/>\n    </defs>\n    <g transform=\"translate(996.287315 18.14175)scale(0.144 -0.144)\">\n     <use xlink:href=\"#DejaVuSans-69\"/>\n     <use x=\"63.183594\" xlink:href=\"#DejaVuSans-100\"/>\n     <use x=\"126.660156\" xlink:href=\"#DejaVuSans-117\"/>\n     <use x=\"190.039062\" xlink:href=\"#DejaVuSans-99\"/>\n     <use x=\"245.019531\" xlink:href=\"#DejaVuSans-97\"/>\n     <use x=\"306.298828\" xlink:href=\"#DejaVuSans-116\"/>\n     <use x=\"345.507812\" xlink:href=\"#DejaVuSans-105\"/>\n     <use x=\"373.291016\" xlink:href=\"#DejaVuSans-111\"/>\n     <use x=\"434.472656\" xlink:href=\"#DejaVuSans-110\"/>\n    </g>\n   </g>\n  </g>\n  <g id=\"axes_5\">\n   <g id=\"patch_66\">\n    <path d=\"M 1200.495259 209.459932 \nL 1441.0125 209.459932 \nL 1441.0125 24.14175 \nL 1200.495259 24.14175 \nz\n\" style=\"fill:#e5e5e5;\"/>\n   </g>\n   <g id=\"matplotlib.axis_9\">\n    <g id=\"xtick_36\">\n     <g id=\"line2d_125\">\n      <path clip-path=\"url(#p4ff6837358)\" d=\"M 1233.293064 209.459932 \nL 1233.293064 24.14175 \n\" style=\"fill:none;stroke:#ffffff;stroke-linecap:square;stroke-width:0.8;\"/>\n     </g>\n     <g id=\"line2d_126\">\n      <g>\n       <use style=\"fill:#555555;stroke:#555555;stroke-width:0.8;\" x=\"1233.293064\" xlink:href=\"#mdde19dd8b5\" y=\"209.459932\"/>\n      </g>\n     </g>\n     <g id=\"text_68\">\n      <!-- 2.5 -->\n      <g style=\"fill:#555555;\" transform=\"translate(1236.052439 232.363057)rotate(-90)scale(0.1 -0.1)\">\n       <use xlink:href=\"#DejaVuSans-50\"/>\n       <use x=\"63.623047\" xlink:href=\"#DejaVuSans-46\"/>\n       <use x=\"95.410156\" xlink:href=\"#DejaVuSans-53\"/>\n      </g>\n     </g>\n    </g>\n    <g id=\"xtick_37\">\n     <g id=\"line2d_127\">\n      <path clip-path=\"url(#p4ff6837358)\" d=\"M 1269.735071 209.459932 \nL 1269.735071 24.14175 \n\" style=\"fill:none;stroke:#ffffff;stroke-linecap:square;stroke-width:0.8;\"/>\n     </g>\n     <g id=\"line2d_128\">\n      <g>\n       <use style=\"fill:#555555;stroke:#555555;stroke-width:0.8;\" x=\"1269.735071\" xlink:href=\"#mdde19dd8b5\" y=\"209.459932\"/>\n      </g>\n     </g>\n     <g id=\"text_69\">\n      <!-- 5.0 -->\n      <g style=\"fill:#555555;\" transform=\"translate(1272.494446 232.363057)rotate(-90)scale(0.1 -0.1)\">\n       <use xlink:href=\"#DejaVuSans-53\"/>\n       <use x=\"63.623047\" xlink:href=\"#DejaVuSans-46\"/>\n       <use x=\"95.410156\" xlink:href=\"#DejaVuSans-48\"/>\n      </g>\n     </g>\n    </g>\n    <g id=\"xtick_38\">\n     <g id=\"line2d_129\">\n      <path clip-path=\"url(#p4ff6837358)\" d=\"M 1306.177077 209.459932 \nL 1306.177077 24.14175 \n\" style=\"fill:none;stroke:#ffffff;stroke-linecap:square;stroke-width:0.8;\"/>\n     </g>\n     <g id=\"line2d_130\">\n      <g>\n       <use style=\"fill:#555555;stroke:#555555;stroke-width:0.8;\" x=\"1306.177077\" xlink:href=\"#mdde19dd8b5\" y=\"209.459932\"/>\n      </g>\n     </g>\n     <g id=\"text_70\">\n      <!-- 7.5 -->\n      <g style=\"fill:#555555;\" transform=\"translate(1308.936452 232.363057)rotate(-90)scale(0.1 -0.1)\">\n       <use xlink:href=\"#DejaVuSans-55\"/>\n       <use x=\"63.623047\" xlink:href=\"#DejaVuSans-46\"/>\n       <use x=\"95.410156\" xlink:href=\"#DejaVuSans-53\"/>\n      </g>\n     </g>\n    </g>\n    <g id=\"xtick_39\">\n     <g id=\"line2d_131\">\n      <path clip-path=\"url(#p4ff6837358)\" d=\"M 1342.619083 209.459932 \nL 1342.619083 24.14175 \n\" style=\"fill:none;stroke:#ffffff;stroke-linecap:square;stroke-width:0.8;\"/>\n     </g>\n     <g id=\"line2d_132\">\n      <g>\n       <use style=\"fill:#555555;stroke:#555555;stroke-width:0.8;\" x=\"1342.619083\" xlink:href=\"#mdde19dd8b5\" y=\"209.459932\"/>\n      </g>\n     </g>\n     <g id=\"text_71\">\n      <!-- 10.0 -->\n      <g style=\"fill:#555555;\" transform=\"translate(1345.378458 238.725557)rotate(-90)scale(0.1 -0.1)\">\n       <use xlink:href=\"#DejaVuSans-49\"/>\n       <use x=\"63.623047\" xlink:href=\"#DejaVuSans-48\"/>\n       <use x=\"127.246094\" xlink:href=\"#DejaVuSans-46\"/>\n       <use x=\"159.033203\" xlink:href=\"#DejaVuSans-48\"/>\n      </g>\n     </g>\n    </g>\n    <g id=\"xtick_40\">\n     <g id=\"line2d_133\">\n      <path clip-path=\"url(#p4ff6837358)\" d=\"M 1379.061089 209.459932 \nL 1379.061089 24.14175 \n\" style=\"fill:none;stroke:#ffffff;stroke-linecap:square;stroke-width:0.8;\"/>\n     </g>\n     <g id=\"line2d_134\">\n      <g>\n       <use style=\"fill:#555555;stroke:#555555;stroke-width:0.8;\" x=\"1379.061089\" xlink:href=\"#mdde19dd8b5\" y=\"209.459932\"/>\n      </g>\n     </g>\n     <g id=\"text_72\">\n      <!-- 12.5 -->\n      <g style=\"fill:#555555;\" transform=\"translate(1381.820464 238.725557)rotate(-90)scale(0.1 -0.1)\">\n       <use xlink:href=\"#DejaVuSans-49\"/>\n       <use x=\"63.623047\" xlink:href=\"#DejaVuSans-50\"/>\n       <use x=\"127.246094\" xlink:href=\"#DejaVuSans-46\"/>\n       <use x=\"159.033203\" xlink:href=\"#DejaVuSans-53\"/>\n      </g>\n     </g>\n    </g>\n    <g id=\"xtick_41\">\n     <g id=\"line2d_135\">\n      <path clip-path=\"url(#p4ff6837358)\" d=\"M 1415.503096 209.459932 \nL 1415.503096 24.14175 \n\" style=\"fill:none;stroke:#ffffff;stroke-linecap:square;stroke-width:0.8;\"/>\n     </g>\n     <g id=\"line2d_136\">\n      <g>\n       <use style=\"fill:#555555;stroke:#555555;stroke-width:0.8;\" x=\"1415.503096\" xlink:href=\"#mdde19dd8b5\" y=\"209.459932\"/>\n      </g>\n     </g>\n     <g id=\"text_73\">\n      <!-- 15.0 -->\n      <g style=\"fill:#555555;\" transform=\"translate(1418.262471 238.725557)rotate(-90)scale(0.1 -0.1)\">\n       <use xlink:href=\"#DejaVuSans-49\"/>\n       <use x=\"63.623047\" xlink:href=\"#DejaVuSans-53\"/>\n       <use x=\"127.246094\" xlink:href=\"#DejaVuSans-46\"/>\n       <use x=\"159.033203\" xlink:href=\"#DejaVuSans-48\"/>\n      </g>\n     </g>\n    </g>\n   </g>\n   <g id=\"matplotlib.axis_10\">\n    <g id=\"ytick_28\">\n     <g id=\"line2d_137\">\n      <path clip-path=\"url(#p4ff6837358)\" d=\"M 1200.495259 209.459932 \nL 1441.0125 209.459932 \n\" style=\"fill:none;stroke:#ffffff;stroke-linecap:square;stroke-width:0.8;\"/>\n     </g>\n     <g id=\"line2d_138\">\n      <g>\n       <use style=\"fill:#555555;stroke:#555555;stroke-width:0.8;\" x=\"1200.495259\" xlink:href=\"#m29fc131eff\" y=\"209.459932\"/>\n      </g>\n     </g>\n     <g id=\"text_74\">\n      <!-- 0 -->\n      <g style=\"fill:#555555;\" transform=\"translate(1187.132759 213.259151)scale(0.1 -0.1)\">\n       <use xlink:href=\"#DejaVuSans-48\"/>\n      </g>\n     </g>\n    </g>\n    <g id=\"ytick_29\">\n     <g id=\"line2d_139\">\n      <path clip-path=\"url(#p4ff6837358)\" d=\"M 1200.495259 175.845322 \nL 1441.0125 175.845322 \n\" style=\"fill:none;stroke:#ffffff;stroke-linecap:square;stroke-width:0.8;\"/>\n     </g>\n     <g id=\"line2d_140\">\n      <g>\n       <use style=\"fill:#555555;stroke:#555555;stroke-width:0.8;\" x=\"1200.495259\" xlink:href=\"#m29fc131eff\" y=\"175.845322\"/>\n      </g>\n     </g>\n     <g id=\"text_75\">\n      <!-- 2000 -->\n      <g style=\"fill:#555555;\" transform=\"translate(1168.045259 179.644541)scale(0.1 -0.1)\">\n       <use xlink:href=\"#DejaVuSans-50\"/>\n       <use x=\"63.623047\" xlink:href=\"#DejaVuSans-48\"/>\n       <use x=\"127.246094\" xlink:href=\"#DejaVuSans-48\"/>\n       <use x=\"190.869141\" xlink:href=\"#DejaVuSans-48\"/>\n      </g>\n     </g>\n    </g>\n    <g id=\"ytick_30\">\n     <g id=\"line2d_141\">\n      <path clip-path=\"url(#p4ff6837358)\" d=\"M 1200.495259 142.230713 \nL 1441.0125 142.230713 \n\" style=\"fill:none;stroke:#ffffff;stroke-linecap:square;stroke-width:0.8;\"/>\n     </g>\n     <g id=\"line2d_142\">\n      <g>\n       <use style=\"fill:#555555;stroke:#555555;stroke-width:0.8;\" x=\"1200.495259\" xlink:href=\"#m29fc131eff\" y=\"142.230713\"/>\n      </g>\n     </g>\n     <g id=\"text_76\">\n      <!-- 4000 -->\n      <g style=\"fill:#555555;\" transform=\"translate(1168.045259 146.029932)scale(0.1 -0.1)\">\n       <use xlink:href=\"#DejaVuSans-52\"/>\n       <use x=\"63.623047\" xlink:href=\"#DejaVuSans-48\"/>\n       <use x=\"127.246094\" xlink:href=\"#DejaVuSans-48\"/>\n       <use x=\"190.869141\" xlink:href=\"#DejaVuSans-48\"/>\n      </g>\n     </g>\n    </g>\n    <g id=\"ytick_31\">\n     <g id=\"line2d_143\">\n      <path clip-path=\"url(#p4ff6837358)\" d=\"M 1200.495259 108.616104 \nL 1441.0125 108.616104 \n\" style=\"fill:none;stroke:#ffffff;stroke-linecap:square;stroke-width:0.8;\"/>\n     </g>\n     <g id=\"line2d_144\">\n      <g>\n       <use style=\"fill:#555555;stroke:#555555;stroke-width:0.8;\" x=\"1200.495259\" xlink:href=\"#m29fc131eff\" y=\"108.616104\"/>\n      </g>\n     </g>\n     <g id=\"text_77\">\n      <!-- 6000 -->\n      <g style=\"fill:#555555;\" transform=\"translate(1168.045259 112.415322)scale(0.1 -0.1)\">\n       <use xlink:href=\"#DejaVuSans-54\"/>\n       <use x=\"63.623047\" xlink:href=\"#DejaVuSans-48\"/>\n       <use x=\"127.246094\" xlink:href=\"#DejaVuSans-48\"/>\n       <use x=\"190.869141\" xlink:href=\"#DejaVuSans-48\"/>\n      </g>\n     </g>\n    </g>\n    <g id=\"ytick_32\">\n     <g id=\"line2d_145\">\n      <path clip-path=\"url(#p4ff6837358)\" d=\"M 1200.495259 75.001494 \nL 1441.0125 75.001494 \n\" style=\"fill:none;stroke:#ffffff;stroke-linecap:square;stroke-width:0.8;\"/>\n     </g>\n     <g id=\"line2d_146\">\n      <g>\n       <use style=\"fill:#555555;stroke:#555555;stroke-width:0.8;\" x=\"1200.495259\" xlink:href=\"#m29fc131eff\" y=\"75.001494\"/>\n      </g>\n     </g>\n     <g id=\"text_78\">\n      <!-- 8000 -->\n      <g style=\"fill:#555555;\" transform=\"translate(1168.045259 78.800713)scale(0.1 -0.1)\">\n       <use xlink:href=\"#DejaVuSans-56\"/>\n       <use x=\"63.623047\" xlink:href=\"#DejaVuSans-48\"/>\n       <use x=\"127.246094\" xlink:href=\"#DejaVuSans-48\"/>\n       <use x=\"190.869141\" xlink:href=\"#DejaVuSans-48\"/>\n      </g>\n     </g>\n    </g>\n    <g id=\"ytick_33\">\n     <g id=\"line2d_147\">\n      <path clip-path=\"url(#p4ff6837358)\" d=\"M 1200.495259 41.386885 \nL 1441.0125 41.386885 \n\" style=\"fill:none;stroke:#ffffff;stroke-linecap:square;stroke-width:0.8;\"/>\n     </g>\n     <g id=\"line2d_148\">\n      <g>\n       <use style=\"fill:#555555;stroke:#555555;stroke-width:0.8;\" x=\"1200.495259\" xlink:href=\"#m29fc131eff\" y=\"41.386885\"/>\n      </g>\n     </g>\n     <g id=\"text_79\">\n      <!-- 10000 -->\n      <g style=\"fill:#555555;\" transform=\"translate(1161.682759 45.186104)scale(0.1 -0.1)\">\n       <use xlink:href=\"#DejaVuSans-49\"/>\n       <use x=\"63.623047\" xlink:href=\"#DejaVuSans-48\"/>\n       <use x=\"127.246094\" xlink:href=\"#DejaVuSans-48\"/>\n       <use x=\"190.869141\" xlink:href=\"#DejaVuSans-48\"/>\n       <use x=\"254.492188\" xlink:href=\"#DejaVuSans-48\"/>\n      </g>\n     </g>\n    </g>\n   </g>\n   <g id=\"patch_67\">\n    <path clip-path=\"url(#p4ff6837358)\" d=\"M 1211.427861 209.459932 \nL 1233.293064 209.459932 \nL 1233.293064 205.779132 \nL 1211.427861 205.779132 \nz\n\" style=\"fill:#e24a33;\"/>\n   </g>\n   <g id=\"patch_68\">\n    <path clip-path=\"url(#p4ff6837358)\" d=\"M 1233.293064 209.459932 \nL 1255.158268 209.459932 \nL 1255.158268 203.863099 \nL 1233.293064 203.863099 \nz\n\" style=\"fill:#e24a33;\"/>\n   </g>\n   <g id=\"patch_69\">\n    <path clip-path=\"url(#p4ff6837358)\" d=\"M 1255.158268 209.459932 \nL 1277.023472 209.459932 \nL 1277.023472 189.963458 \nL 1255.158268 189.963458 \nz\n\" style=\"fill:#e24a33;\"/>\n   </g>\n   <g id=\"patch_70\">\n    <path clip-path=\"url(#p4ff6837358)\" d=\"M 1277.023472 209.459932 \nL 1298.888676 209.459932 \nL 1298.888676 193.778717 \nL 1277.023472 193.778717 \nz\n\" style=\"fill:#e24a33;\"/>\n   </g>\n   <g id=\"patch_71\">\n    <path clip-path=\"url(#p4ff6837358)\" d=\"M 1298.888676 209.459932 \nL 1320.753879 209.459932 \nL 1320.753879 182.433786 \nL 1298.888676 182.433786 \nz\n\" style=\"fill:#e24a33;\"/>\n   </g>\n   <g id=\"patch_72\">\n    <path clip-path=\"url(#p4ff6837358)\" d=\"M 1320.753879 209.459932 \nL 1342.619083 209.459932 \nL 1342.619083 32.966425 \nL 1320.753879 32.966425 \nz\n\" style=\"fill:#e24a33;\"/>\n   </g>\n   <g id=\"patch_73\">\n    <path clip-path=\"url(#p4ff6837358)\" d=\"M 1342.619083 209.459932 \nL 1364.484287 209.459932 \nL 1364.484287 63.690178 \nL 1342.619083 63.690178 \nz\n\" style=\"fill:#e24a33;\"/>\n   </g>\n   <g id=\"patch_74\">\n    <path clip-path=\"url(#p4ff6837358)\" d=\"M 1364.484287 209.459932 \nL 1386.349491 209.459932 \nL 1386.349491 191.526538 \nL 1364.484287 191.526538 \nz\n\" style=\"fill:#e24a33;\"/>\n   </g>\n   <g id=\"patch_75\">\n    <path clip-path=\"url(#p4ff6837358)\" d=\"M 1386.349491 209.459932 \nL 1408.214694 209.459932 \nL 1408.214694 90.497829 \nL 1386.349491 90.497829 \nz\n\" style=\"fill:#e24a33;\"/>\n   </g>\n   <g id=\"patch_76\">\n    <path clip-path=\"url(#p4ff6837358)\" d=\"M 1408.214694 209.459932 \nL 1430.079898 209.459932 \nL 1430.079898 192.837507 \nL 1408.214694 192.837507 \nz\n\" style=\"fill:#e24a33;\"/>\n   </g>\n   <g id=\"patch_77\">\n    <path d=\"M 1200.495259 209.459932 \nL 1200.495259 24.14175 \n\" style=\"fill:none;stroke:#ffffff;stroke-linecap:square;stroke-linejoin:miter;\"/>\n   </g>\n   <g id=\"patch_78\">\n    <path d=\"M 1441.0125 209.459932 \nL 1441.0125 24.14175 \n\" style=\"fill:none;stroke:#ffffff;stroke-linecap:square;stroke-linejoin:miter;\"/>\n   </g>\n   <g id=\"patch_79\">\n    <path d=\"M 1200.495259 209.459932 \nL 1441.0125 209.459932 \n\" style=\"fill:none;stroke:#ffffff;stroke-linecap:square;stroke-linejoin:miter;\"/>\n   </g>\n   <g id=\"patch_80\">\n    <path d=\"M 1200.495259 24.14175 \nL 1441.0125 24.14175 \n\" style=\"fill:none;stroke:#ffffff;stroke-linecap:square;stroke-linejoin:miter;\"/>\n   </g>\n   <g id=\"text_80\">\n    <!-- Education_Num -->\n    <defs>\n     <path d=\"M 50.984375 -16.609375 \nL 50.984375 -23.578125 \nL -0.984375 -23.578125 \nL -0.984375 -16.609375 \nz\n\" id=\"DejaVuSans-95\"/>\n    </defs>\n    <g transform=\"translate(1264.345254 18.14175)scale(0.144 -0.144)\">\n     <use xlink:href=\"#DejaVuSans-69\"/>\n     <use x=\"63.183594\" xlink:href=\"#DejaVuSans-100\"/>\n     <use x=\"126.660156\" xlink:href=\"#DejaVuSans-117\"/>\n     <use x=\"190.039062\" xlink:href=\"#DejaVuSans-99\"/>\n     <use x=\"245.019531\" xlink:href=\"#DejaVuSans-97\"/>\n     <use x=\"306.298828\" xlink:href=\"#DejaVuSans-116\"/>\n     <use x=\"345.507812\" xlink:href=\"#DejaVuSans-105\"/>\n     <use x=\"373.291016\" xlink:href=\"#DejaVuSans-111\"/>\n     <use x=\"434.472656\" xlink:href=\"#DejaVuSans-110\"/>\n     <use x=\"497.851562\" xlink:href=\"#DejaVuSans-95\"/>\n     <use x=\"547.851562\" xlink:href=\"#DejaVuSans-78\"/>\n     <use x=\"622.65625\" xlink:href=\"#DejaVuSans-117\"/>\n     <use x=\"686.035156\" xlink:href=\"#DejaVuSans-109\"/>\n    </g>\n   </g>\n  </g>\n  <g id=\"axes_6\">\n   <g id=\"patch_81\">\n    <path d=\"M 46.0125 524.500841 \nL 286.529741 524.500841 \nL 286.529741 339.182659 \nL 46.0125 339.182659 \nz\n\" style=\"fill:#e5e5e5;\"/>\n   </g>\n   <g id=\"matplotlib.axis_11\">\n    <g id=\"xtick_42\">\n     <g id=\"line2d_149\">\n      <path clip-path=\"url(#pdb16f2fc68)\" d=\"M 63.192303 524.500841 \nL 63.192303 339.182659 \n\" style=\"fill:none;stroke:#ffffff;stroke-linecap:square;stroke-width:0.8;\"/>\n     </g>\n     <g id=\"line2d_150\">\n      <g>\n       <use style=\"fill:#555555;stroke:#555555;stroke-width:0.8;\" x=\"63.192303\" xlink:href=\"#mdde19dd8b5\" y=\"524.500841\"/>\n      </g>\n     </g>\n     <g id=\"text_81\">\n      <!--  Married-civ-spouse -->\n      <g style=\"fill:#555555;\" transform=\"translate(65.951678 629.286778)rotate(-90)scale(0.1 -0.1)\">\n       <use xlink:href=\"#DejaVuSans-32\"/>\n       <use x=\"31.787109\" xlink:href=\"#DejaVuSans-77\"/>\n       <use x=\"118.066406\" xlink:href=\"#DejaVuSans-97\"/>\n       <use x=\"179.345703\" xlink:href=\"#DejaVuSans-114\"/>\n       <use x=\"218.708984\" xlink:href=\"#DejaVuSans-114\"/>\n       <use x=\"259.822266\" xlink:href=\"#DejaVuSans-105\"/>\n       <use x=\"287.605469\" xlink:href=\"#DejaVuSans-101\"/>\n       <use x=\"349.128906\" xlink:href=\"#DejaVuSans-100\"/>\n       <use x=\"412.605469\" xlink:href=\"#DejaVuSans-45\"/>\n       <use x=\"448.689453\" xlink:href=\"#DejaVuSans-99\"/>\n       <use x=\"503.669922\" xlink:href=\"#DejaVuSans-105\"/>\n       <use x=\"531.453125\" xlink:href=\"#DejaVuSans-118\"/>\n       <use x=\"588.007812\" xlink:href=\"#DejaVuSans-45\"/>\n       <use x=\"624.091797\" xlink:href=\"#DejaVuSans-115\"/>\n       <use x=\"676.191406\" xlink:href=\"#DejaVuSans-112\"/>\n       <use x=\"739.667969\" xlink:href=\"#DejaVuSans-111\"/>\n       <use x=\"800.849609\" xlink:href=\"#DejaVuSans-117\"/>\n       <use x=\"864.228516\" xlink:href=\"#DejaVuSans-115\"/>\n       <use x=\"916.328125\" xlink:href=\"#DejaVuSans-101\"/>\n      </g>\n     </g>\n    </g>\n    <g id=\"xtick_43\">\n     <g id=\"line2d_151\">\n      <path clip-path=\"url(#pdb16f2fc68)\" d=\"M 97.551909 524.500841 \nL 97.551909 339.182659 \n\" style=\"fill:none;stroke:#ffffff;stroke-linecap:square;stroke-width:0.8;\"/>\n     </g>\n     <g id=\"line2d_152\">\n      <g>\n       <use style=\"fill:#555555;stroke:#555555;stroke-width:0.8;\" x=\"97.551909\" xlink:href=\"#mdde19dd8b5\" y=\"524.500841\"/>\n      </g>\n     </g>\n     <g id=\"text_82\">\n      <!--  Never-married -->\n      <g style=\"fill:#555555;\" transform=\"translate(100.311284 606.661778)rotate(-90)scale(0.1 -0.1)\">\n       <use xlink:href=\"#DejaVuSans-32\"/>\n       <use x=\"31.787109\" xlink:href=\"#DejaVuSans-78\"/>\n       <use x=\"106.591797\" xlink:href=\"#DejaVuSans-101\"/>\n       <use x=\"168.115234\" xlink:href=\"#DejaVuSans-118\"/>\n       <use x=\"227.294922\" xlink:href=\"#DejaVuSans-101\"/>\n       <use x=\"288.818359\" xlink:href=\"#DejaVuSans-114\"/>\n       <use x=\"323.556641\" xlink:href=\"#DejaVuSans-45\"/>\n       <use x=\"359.640625\" xlink:href=\"#DejaVuSans-109\"/>\n       <use x=\"457.052734\" xlink:href=\"#DejaVuSans-97\"/>\n       <use x=\"518.332031\" xlink:href=\"#DejaVuSans-114\"/>\n       <use x=\"557.695312\" xlink:href=\"#DejaVuSans-114\"/>\n       <use x=\"598.808594\" xlink:href=\"#DejaVuSans-105\"/>\n       <use x=\"626.591797\" xlink:href=\"#DejaVuSans-101\"/>\n       <use x=\"688.115234\" xlink:href=\"#DejaVuSans-100\"/>\n      </g>\n     </g>\n    </g>\n    <g id=\"xtick_44\">\n     <g id=\"line2d_153\">\n      <path clip-path=\"url(#pdb16f2fc68)\" d=\"M 131.911515 524.500841 \nL 131.911515 339.182659 \n\" style=\"fill:none;stroke:#ffffff;stroke-linecap:square;stroke-width:0.8;\"/>\n     </g>\n     <g id=\"line2d_154\">\n      <g>\n       <use style=\"fill:#555555;stroke:#555555;stroke-width:0.8;\" x=\"131.911515\" xlink:href=\"#mdde19dd8b5\" y=\"524.500841\"/>\n      </g>\n     </g>\n     <g id=\"text_83\">\n      <!--  Divorced -->\n      <g style=\"fill:#555555;\" transform=\"translate(134.67089 579.080528)rotate(-90)scale(0.1 -0.1)\">\n       <use xlink:href=\"#DejaVuSans-32\"/>\n       <use x=\"31.787109\" xlink:href=\"#DejaVuSans-68\"/>\n       <use x=\"108.789062\" xlink:href=\"#DejaVuSans-105\"/>\n       <use x=\"136.572266\" xlink:href=\"#DejaVuSans-118\"/>\n       <use x=\"195.751953\" xlink:href=\"#DejaVuSans-111\"/>\n       <use x=\"256.933594\" xlink:href=\"#DejaVuSans-114\"/>\n       <use x=\"295.796875\" xlink:href=\"#DejaVuSans-99\"/>\n       <use x=\"350.777344\" xlink:href=\"#DejaVuSans-101\"/>\n       <use x=\"412.300781\" xlink:href=\"#DejaVuSans-100\"/>\n      </g>\n     </g>\n    </g>\n    <g id=\"xtick_45\">\n     <g id=\"line2d_155\">\n      <path clip-path=\"url(#pdb16f2fc68)\" d=\"M 166.271121 524.500841 \nL 166.271121 339.182659 \n\" style=\"fill:none;stroke:#ffffff;stroke-linecap:square;stroke-width:0.8;\"/>\n     </g>\n     <g id=\"line2d_156\">\n      <g>\n       <use style=\"fill:#555555;stroke:#555555;stroke-width:0.8;\" x=\"166.271121\" xlink:href=\"#mdde19dd8b5\" y=\"524.500841\"/>\n      </g>\n     </g>\n     <g id=\"text_84\">\n      <!--  Separated -->\n      <g style=\"fill:#555555;\" transform=\"translate(169.030496 586.318028)rotate(-90)scale(0.1 -0.1)\">\n       <use xlink:href=\"#DejaVuSans-32\"/>\n       <use x=\"31.787109\" xlink:href=\"#DejaVuSans-83\"/>\n       <use x=\"95.263672\" xlink:href=\"#DejaVuSans-101\"/>\n       <use x=\"156.787109\" xlink:href=\"#DejaVuSans-112\"/>\n       <use x=\"220.263672\" xlink:href=\"#DejaVuSans-97\"/>\n       <use x=\"281.542969\" xlink:href=\"#DejaVuSans-114\"/>\n       <use x=\"322.65625\" xlink:href=\"#DejaVuSans-97\"/>\n       <use x=\"383.935547\" xlink:href=\"#DejaVuSans-116\"/>\n       <use x=\"423.144531\" xlink:href=\"#DejaVuSans-101\"/>\n       <use x=\"484.667969\" xlink:href=\"#DejaVuSans-100\"/>\n      </g>\n     </g>\n    </g>\n    <g id=\"xtick_46\">\n     <g id=\"line2d_157\">\n      <path clip-path=\"url(#pdb16f2fc68)\" d=\"M 200.630727 524.500841 \nL 200.630727 339.182659 \n\" style=\"fill:none;stroke:#ffffff;stroke-linecap:square;stroke-width:0.8;\"/>\n     </g>\n     <g id=\"line2d_158\">\n      <g>\n       <use style=\"fill:#555555;stroke:#555555;stroke-width:0.8;\" x=\"200.630727\" xlink:href=\"#mdde19dd8b5\" y=\"524.500841\"/>\n      </g>\n     </g>\n     <g id=\"text_85\">\n      <!--  Widowed -->\n      <g style=\"fill:#555555;\" transform=\"translate(203.390102 580.266466)rotate(-90)scale(0.1 -0.1)\">\n       <use xlink:href=\"#DejaVuSans-32\"/>\n       <use x=\"31.787109\" xlink:href=\"#DejaVuSans-87\"/>\n       <use x=\"128.414062\" xlink:href=\"#DejaVuSans-105\"/>\n       <use x=\"156.197266\" xlink:href=\"#DejaVuSans-100\"/>\n       <use x=\"219.673828\" xlink:href=\"#DejaVuSans-111\"/>\n       <use x=\"280.855469\" xlink:href=\"#DejaVuSans-119\"/>\n       <use x=\"362.642578\" xlink:href=\"#DejaVuSans-101\"/>\n       <use x=\"424.166016\" xlink:href=\"#DejaVuSans-100\"/>\n      </g>\n     </g>\n    </g>\n    <g id=\"xtick_47\">\n     <g id=\"line2d_159\">\n      <path clip-path=\"url(#pdb16f2fc68)\" d=\"M 234.990333 524.500841 \nL 234.990333 339.182659 \n\" style=\"fill:none;stroke:#ffffff;stroke-linecap:square;stroke-width:0.8;\"/>\n     </g>\n     <g id=\"line2d_160\">\n      <g>\n       <use style=\"fill:#555555;stroke:#555555;stroke-width:0.8;\" x=\"234.990333\" xlink:href=\"#mdde19dd8b5\" y=\"524.500841\"/>\n      </g>\n     </g>\n     <g id=\"text_86\">\n      <!--  Married-spouse-absent -->\n      <defs>\n       <path d=\"M 48.6875 27.296875 \nQ 48.6875 37.203125 44.609375 42.84375 \nQ 40.53125 48.484375 33.40625 48.484375 \nQ 26.265625 48.484375 22.1875 42.84375 \nQ 18.109375 37.203125 18.109375 27.296875 \nQ 18.109375 17.390625 22.1875 11.75 \nQ 26.265625 6.109375 33.40625 6.109375 \nQ 40.53125 6.109375 44.609375 11.75 \nQ 48.6875 17.390625 48.6875 27.296875 \nz\nM 18.109375 46.390625 \nQ 20.953125 51.265625 25.265625 53.625 \nQ 29.59375 56 35.59375 56 \nQ 45.5625 56 51.78125 48.09375 \nQ 58.015625 40.1875 58.015625 27.296875 \nQ 58.015625 14.40625 51.78125 6.484375 \nQ 45.5625 -1.421875 35.59375 -1.421875 \nQ 29.59375 -1.421875 25.265625 0.953125 \nQ 20.953125 3.328125 18.109375 8.203125 \nL 18.109375 0 \nL 9.078125 0 \nL 9.078125 75.984375 \nL 18.109375 75.984375 \nz\n\" id=\"DejaVuSans-98\"/>\n      </defs>\n      <g style=\"fill:#555555;\" transform=\"translate(237.749708 649.450841)rotate(-90)scale(0.1 -0.1)\">\n       <use xlink:href=\"#DejaVuSans-32\"/>\n       <use x=\"31.787109\" xlink:href=\"#DejaVuSans-77\"/>\n       <use x=\"118.066406\" xlink:href=\"#DejaVuSans-97\"/>\n       <use x=\"179.345703\" xlink:href=\"#DejaVuSans-114\"/>\n       <use x=\"218.708984\" xlink:href=\"#DejaVuSans-114\"/>\n       <use x=\"259.822266\" xlink:href=\"#DejaVuSans-105\"/>\n       <use x=\"287.605469\" xlink:href=\"#DejaVuSans-101\"/>\n       <use x=\"349.128906\" xlink:href=\"#DejaVuSans-100\"/>\n       <use x=\"412.605469\" xlink:href=\"#DejaVuSans-45\"/>\n       <use x=\"448.689453\" xlink:href=\"#DejaVuSans-115\"/>\n       <use x=\"500.789062\" xlink:href=\"#DejaVuSans-112\"/>\n       <use x=\"564.265625\" xlink:href=\"#DejaVuSans-111\"/>\n       <use x=\"625.447266\" xlink:href=\"#DejaVuSans-117\"/>\n       <use x=\"688.826172\" xlink:href=\"#DejaVuSans-115\"/>\n       <use x=\"740.925781\" xlink:href=\"#DejaVuSans-101\"/>\n       <use x=\"802.449219\" xlink:href=\"#DejaVuSans-45\"/>\n       <use x=\"838.533203\" xlink:href=\"#DejaVuSans-97\"/>\n       <use x=\"899.8125\" xlink:href=\"#DejaVuSans-98\"/>\n       <use x=\"963.289062\" xlink:href=\"#DejaVuSans-115\"/>\n       <use x=\"1015.388672\" xlink:href=\"#DejaVuSans-101\"/>\n       <use x=\"1076.912109\" xlink:href=\"#DejaVuSans-110\"/>\n       <use x=\"1140.291016\" xlink:href=\"#DejaVuSans-116\"/>\n      </g>\n     </g>\n    </g>\n    <g id=\"xtick_48\">\n     <g id=\"line2d_161\">\n      <path clip-path=\"url(#pdb16f2fc68)\" d=\"M 269.349938 524.500841 \nL 269.349938 339.182659 \n\" style=\"fill:none;stroke:#ffffff;stroke-linecap:square;stroke-width:0.8;\"/>\n     </g>\n     <g id=\"line2d_162\">\n      <g>\n       <use style=\"fill:#555555;stroke:#555555;stroke-width:0.8;\" x=\"269.349938\" xlink:href=\"#mdde19dd8b5\" y=\"524.500841\"/>\n      </g>\n     </g>\n     <g id=\"text_87\">\n      <!--  Married-AF-spouse -->\n      <g style=\"fill:#555555;\" transform=\"translate(272.109313 627.721153)rotate(-90)scale(0.1 -0.1)\">\n       <use xlink:href=\"#DejaVuSans-32\"/>\n       <use x=\"31.787109\" xlink:href=\"#DejaVuSans-77\"/>\n       <use x=\"118.066406\" xlink:href=\"#DejaVuSans-97\"/>\n       <use x=\"179.345703\" xlink:href=\"#DejaVuSans-114\"/>\n       <use x=\"218.708984\" xlink:href=\"#DejaVuSans-114\"/>\n       <use x=\"259.822266\" xlink:href=\"#DejaVuSans-105\"/>\n       <use x=\"287.605469\" xlink:href=\"#DejaVuSans-101\"/>\n       <use x=\"349.128906\" xlink:href=\"#DejaVuSans-100\"/>\n       <use x=\"412.605469\" xlink:href=\"#DejaVuSans-45\"/>\n       <use x=\"446.439453\" xlink:href=\"#DejaVuSans-65\"/>\n       <use x=\"514.847656\" xlink:href=\"#DejaVuSans-70\"/>\n       <use x=\"572.367188\" xlink:href=\"#DejaVuSans-45\"/>\n       <use x=\"608.451172\" xlink:href=\"#DejaVuSans-115\"/>\n       <use x=\"660.550781\" xlink:href=\"#DejaVuSans-112\"/>\n       <use x=\"724.027344\" xlink:href=\"#DejaVuSans-111\"/>\n       <use x=\"785.208984\" xlink:href=\"#DejaVuSans-117\"/>\n       <use x=\"848.587891\" xlink:href=\"#DejaVuSans-115\"/>\n       <use x=\"900.6875\" xlink:href=\"#DejaVuSans-101\"/>\n      </g>\n     </g>\n    </g>\n   </g>\n   <g id=\"matplotlib.axis_12\">\n    <g id=\"ytick_34\">\n     <g id=\"line2d_163\">\n      <path clip-path=\"url(#pdb16f2fc68)\" d=\"M 46.0125 524.500841 \nL 286.529741 524.500841 \n\" style=\"fill:none;stroke:#ffffff;stroke-linecap:square;stroke-width:0.8;\"/>\n     </g>\n     <g id=\"line2d_164\">\n      <g>\n       <use style=\"fill:#555555;stroke:#555555;stroke-width:0.8;\" x=\"46.0125\" xlink:href=\"#m29fc131eff\" y=\"524.500841\"/>\n      </g>\n     </g>\n     <g id=\"text_88\">\n      <!-- 0 -->\n      <g style=\"fill:#555555;\" transform=\"translate(32.65 528.30006)scale(0.1 -0.1)\">\n       <use xlink:href=\"#DejaVuSans-48\"/>\n      </g>\n     </g>\n    </g>\n    <g id=\"ytick_35\">\n     <g id=\"line2d_165\">\n      <path clip-path=\"url(#pdb16f2fc68)\" d=\"M 46.0125 500.930661 \nL 286.529741 500.930661 \n\" style=\"fill:none;stroke:#ffffff;stroke-linecap:square;stroke-width:0.8;\"/>\n     </g>\n     <g id=\"line2d_166\">\n      <g>\n       <use style=\"fill:#555555;stroke:#555555;stroke-width:0.8;\" x=\"46.0125\" xlink:href=\"#m29fc131eff\" y=\"500.930661\"/>\n      </g>\n     </g>\n     <g id=\"text_89\">\n      <!-- 2000 -->\n      <g style=\"fill:#555555;\" transform=\"translate(13.5625 504.72988)scale(0.1 -0.1)\">\n       <use xlink:href=\"#DejaVuSans-50\"/>\n       <use x=\"63.623047\" xlink:href=\"#DejaVuSans-48\"/>\n       <use x=\"127.246094\" xlink:href=\"#DejaVuSans-48\"/>\n       <use x=\"190.869141\" xlink:href=\"#DejaVuSans-48\"/>\n      </g>\n     </g>\n    </g>\n    <g id=\"ytick_36\">\n     <g id=\"line2d_167\">\n      <path clip-path=\"url(#pdb16f2fc68)\" d=\"M 46.0125 477.360481 \nL 286.529741 477.360481 \n\" style=\"fill:none;stroke:#ffffff;stroke-linecap:square;stroke-width:0.8;\"/>\n     </g>\n     <g id=\"line2d_168\">\n      <g>\n       <use style=\"fill:#555555;stroke:#555555;stroke-width:0.8;\" x=\"46.0125\" xlink:href=\"#m29fc131eff\" y=\"477.360481\"/>\n      </g>\n     </g>\n     <g id=\"text_90\">\n      <!-- 4000 -->\n      <g style=\"fill:#555555;\" transform=\"translate(13.5625 481.1597)scale(0.1 -0.1)\">\n       <use xlink:href=\"#DejaVuSans-52\"/>\n       <use x=\"63.623047\" xlink:href=\"#DejaVuSans-48\"/>\n       <use x=\"127.246094\" xlink:href=\"#DejaVuSans-48\"/>\n       <use x=\"190.869141\" xlink:href=\"#DejaVuSans-48\"/>\n      </g>\n     </g>\n    </g>\n    <g id=\"ytick_37\">\n     <g id=\"line2d_169\">\n      <path clip-path=\"url(#pdb16f2fc68)\" d=\"M 46.0125 453.790301 \nL 286.529741 453.790301 \n\" style=\"fill:none;stroke:#ffffff;stroke-linecap:square;stroke-width:0.8;\"/>\n     </g>\n     <g id=\"line2d_170\">\n      <g>\n       <use style=\"fill:#555555;stroke:#555555;stroke-width:0.8;\" x=\"46.0125\" xlink:href=\"#m29fc131eff\" y=\"453.790301\"/>\n      </g>\n     </g>\n     <g id=\"text_91\">\n      <!-- 6000 -->\n      <g style=\"fill:#555555;\" transform=\"translate(13.5625 457.58952)scale(0.1 -0.1)\">\n       <use xlink:href=\"#DejaVuSans-54\"/>\n       <use x=\"63.623047\" xlink:href=\"#DejaVuSans-48\"/>\n       <use x=\"127.246094\" xlink:href=\"#DejaVuSans-48\"/>\n       <use x=\"190.869141\" xlink:href=\"#DejaVuSans-48\"/>\n      </g>\n     </g>\n    </g>\n    <g id=\"ytick_38\">\n     <g id=\"line2d_171\">\n      <path clip-path=\"url(#pdb16f2fc68)\" d=\"M 46.0125 430.220122 \nL 286.529741 430.220122 \n\" style=\"fill:none;stroke:#ffffff;stroke-linecap:square;stroke-width:0.8;\"/>\n     </g>\n     <g id=\"line2d_172\">\n      <g>\n       <use style=\"fill:#555555;stroke:#555555;stroke-width:0.8;\" x=\"46.0125\" xlink:href=\"#m29fc131eff\" y=\"430.220122\"/>\n      </g>\n     </g>\n     <g id=\"text_92\">\n      <!-- 8000 -->\n      <g style=\"fill:#555555;\" transform=\"translate(13.5625 434.01934)scale(0.1 -0.1)\">\n       <use xlink:href=\"#DejaVuSans-56\"/>\n       <use x=\"63.623047\" xlink:href=\"#DejaVuSans-48\"/>\n       <use x=\"127.246094\" xlink:href=\"#DejaVuSans-48\"/>\n       <use x=\"190.869141\" xlink:href=\"#DejaVuSans-48\"/>\n      </g>\n     </g>\n    </g>\n    <g id=\"ytick_39\">\n     <g id=\"line2d_173\">\n      <path clip-path=\"url(#pdb16f2fc68)\" d=\"M 46.0125 406.649942 \nL 286.529741 406.649942 \n\" style=\"fill:none;stroke:#ffffff;stroke-linecap:square;stroke-width:0.8;\"/>\n     </g>\n     <g id=\"line2d_174\">\n      <g>\n       <use style=\"fill:#555555;stroke:#555555;stroke-width:0.8;\" x=\"46.0125\" xlink:href=\"#m29fc131eff\" y=\"406.649942\"/>\n      </g>\n     </g>\n     <g id=\"text_93\">\n      <!-- 10000 -->\n      <g style=\"fill:#555555;\" transform=\"translate(7.2 410.449161)scale(0.1 -0.1)\">\n       <use xlink:href=\"#DejaVuSans-49\"/>\n       <use x=\"63.623047\" xlink:href=\"#DejaVuSans-48\"/>\n       <use x=\"127.246094\" xlink:href=\"#DejaVuSans-48\"/>\n       <use x=\"190.869141\" xlink:href=\"#DejaVuSans-48\"/>\n       <use x=\"254.492188\" xlink:href=\"#DejaVuSans-48\"/>\n      </g>\n     </g>\n    </g>\n    <g id=\"ytick_40\">\n     <g id=\"line2d_175\">\n      <path clip-path=\"url(#pdb16f2fc68)\" d=\"M 46.0125 383.079762 \nL 286.529741 383.079762 \n\" style=\"fill:none;stroke:#ffffff;stroke-linecap:square;stroke-width:0.8;\"/>\n     </g>\n     <g id=\"line2d_176\">\n      <g>\n       <use style=\"fill:#555555;stroke:#555555;stroke-width:0.8;\" x=\"46.0125\" xlink:href=\"#m29fc131eff\" y=\"383.079762\"/>\n      </g>\n     </g>\n     <g id=\"text_94\">\n      <!-- 12000 -->\n      <g style=\"fill:#555555;\" transform=\"translate(7.2 386.878981)scale(0.1 -0.1)\">\n       <use xlink:href=\"#DejaVuSans-49\"/>\n       <use x=\"63.623047\" xlink:href=\"#DejaVuSans-50\"/>\n       <use x=\"127.246094\" xlink:href=\"#DejaVuSans-48\"/>\n       <use x=\"190.869141\" xlink:href=\"#DejaVuSans-48\"/>\n       <use x=\"254.492188\" xlink:href=\"#DejaVuSans-48\"/>\n      </g>\n     </g>\n    </g>\n    <g id=\"ytick_41\">\n     <g id=\"line2d_177\">\n      <path clip-path=\"url(#pdb16f2fc68)\" d=\"M 46.0125 359.509582 \nL 286.529741 359.509582 \n\" style=\"fill:none;stroke:#ffffff;stroke-linecap:square;stroke-width:0.8;\"/>\n     </g>\n     <g id=\"line2d_178\">\n      <g>\n       <use style=\"fill:#555555;stroke:#555555;stroke-width:0.8;\" x=\"46.0125\" xlink:href=\"#m29fc131eff\" y=\"359.509582\"/>\n      </g>\n     </g>\n     <g id=\"text_95\">\n      <!-- 14000 -->\n      <g style=\"fill:#555555;\" transform=\"translate(7.2 363.308801)scale(0.1 -0.1)\">\n       <use xlink:href=\"#DejaVuSans-49\"/>\n       <use x=\"63.623047\" xlink:href=\"#DejaVuSans-52\"/>\n       <use x=\"127.246094\" xlink:href=\"#DejaVuSans-48\"/>\n       <use x=\"190.869141\" xlink:href=\"#DejaVuSans-48\"/>\n       <use x=\"254.492188\" xlink:href=\"#DejaVuSans-48\"/>\n      </g>\n     </g>\n    </g>\n   </g>\n   <g id=\"patch_82\">\n    <path clip-path=\"url(#pdb16f2fc68)\" d=\"M 54.602401 524.500841 \nL 71.782204 524.500841 \nL 71.782204 348.007334 \nL 54.602401 348.007334 \nz\n\" style=\"fill:#e24a33;\"/>\n   </g>\n   <g id=\"patch_83\">\n    <path clip-path=\"url(#pdb16f2fc68)\" d=\"M 88.962007 524.500841 \nL 106.14181 524.500841 \nL 106.14181 398.600725 \nL 88.962007 398.600725 \nz\n\" style=\"fill:#e24a33;\"/>\n   </g>\n   <g id=\"patch_84\">\n    <path clip-path=\"url(#pdb16f2fc68)\" d=\"M 123.321613 524.500841 \nL 140.501416 524.500841 \nL 140.501416 472.139686 \nL 123.321613 472.139686 \nz\n\" style=\"fill:#e24a33;\"/>\n   </g>\n   <g id=\"patch_85\">\n    <path clip-path=\"url(#pdb16f2fc68)\" d=\"M 157.681219 524.500841 \nL 174.861022 524.500841 \nL 174.861022 512.421124 \nL 157.681219 512.421124 \nz\n\" style=\"fill:#e24a33;\"/>\n   </g>\n   <g id=\"patch_86\">\n    <path clip-path=\"url(#pdb16f2fc68)\" d=\"M 192.040825 524.500841 \nL 209.220628 524.500841 \nL 209.220628 512.798247 \nL 192.040825 512.798247 \nz\n\" style=\"fill:#e24a33;\"/>\n   </g>\n   <g id=\"patch_87\">\n    <path clip-path=\"url(#pdb16f2fc68)\" d=\"M 226.400431 524.500841 \nL 243.580234 524.500841 \nL 243.580234 519.574673 \nL 226.400431 519.574673 \nz\n\" style=\"fill:#e24a33;\"/>\n   </g>\n   <g id=\"patch_88\">\n    <path clip-path=\"url(#pdb16f2fc68)\" d=\"M 260.760037 524.500841 \nL 277.93984 524.500841 \nL 277.93984 524.229784 \nL 260.760037 524.229784 \nz\n\" style=\"fill:#e24a33;\"/>\n   </g>\n   <g id=\"patch_89\">\n    <path d=\"M 46.0125 524.500841 \nL 46.0125 339.182659 \n\" style=\"fill:none;stroke:#ffffff;stroke-linecap:square;stroke-linejoin:miter;\"/>\n   </g>\n   <g id=\"patch_90\">\n    <path d=\"M 286.529741 524.500841 \nL 286.529741 339.182659 \n\" style=\"fill:none;stroke:#ffffff;stroke-linecap:square;stroke-linejoin:miter;\"/>\n   </g>\n   <g id=\"patch_91\">\n    <path d=\"M 46.0125 524.500841 \nL 286.529741 524.500841 \n\" style=\"fill:none;stroke:#ffffff;stroke-linecap:square;stroke-linejoin:miter;\"/>\n   </g>\n   <g id=\"patch_92\">\n    <path d=\"M 46.0125 339.182659 \nL 286.529741 339.182659 \n\" style=\"fill:none;stroke:#ffffff;stroke-linecap:square;stroke-linejoin:miter;\"/>\n   </g>\n   <g id=\"text_96\">\n    <!-- Martial_Status -->\n    <g transform=\"translate(114.909246 333.182659)scale(0.144 -0.144)\">\n     <use xlink:href=\"#DejaVuSans-77\"/>\n     <use x=\"86.279297\" xlink:href=\"#DejaVuSans-97\"/>\n     <use x=\"147.558594\" xlink:href=\"#DejaVuSans-114\"/>\n     <use x=\"188.671875\" xlink:href=\"#DejaVuSans-116\"/>\n     <use x=\"227.880859\" xlink:href=\"#DejaVuSans-105\"/>\n     <use x=\"255.664062\" xlink:href=\"#DejaVuSans-97\"/>\n     <use x=\"316.943359\" xlink:href=\"#DejaVuSans-108\"/>\n     <use x=\"344.726562\" xlink:href=\"#DejaVuSans-95\"/>\n     <use x=\"394.726562\" xlink:href=\"#DejaVuSans-83\"/>\n     <use x=\"458.203125\" xlink:href=\"#DejaVuSans-116\"/>\n     <use x=\"497.412109\" xlink:href=\"#DejaVuSans-97\"/>\n     <use x=\"558.691406\" xlink:href=\"#DejaVuSans-116\"/>\n     <use x=\"597.900391\" xlink:href=\"#DejaVuSans-117\"/>\n     <use x=\"661.279297\" xlink:href=\"#DejaVuSans-115\"/>\n    </g>\n   </g>\n  </g>\n  <g id=\"axes_7\">\n   <g id=\"patch_93\">\n    <path d=\"M 334.63319 524.500841 \nL 575.150431 524.500841 \nL 575.150431 339.182659 \nL 334.63319 339.182659 \nz\n\" style=\"fill:#e5e5e5;\"/>\n   </g>\n   <g id=\"matplotlib.axis_13\">\n    <g id=\"xtick_49\">\n     <g id=\"line2d_179\">\n      <path clip-path=\"url(#p7c2828596b)\" d=\"M 343.223091 524.500841 \nL 343.223091 339.182659 \n\" style=\"fill:none;stroke:#ffffff;stroke-linecap:square;stroke-width:0.8;\"/>\n     </g>\n     <g id=\"line2d_180\">\n      <g>\n       <use style=\"fill:#555555;stroke:#555555;stroke-width:0.8;\" x=\"343.223091\" xlink:href=\"#mdde19dd8b5\" y=\"524.500841\"/>\n      </g>\n     </g>\n     <g id=\"text_97\">\n      <!--  Prof-specialty -->\n      <g style=\"fill:#555555;\" transform=\"translate(345.982466 601.849278)rotate(-90)scale(0.1 -0.1)\">\n       <use xlink:href=\"#DejaVuSans-32\"/>\n       <use x=\"31.787109\" xlink:href=\"#DejaVuSans-80\"/>\n       <use x=\"90.339844\" xlink:href=\"#DejaVuSans-114\"/>\n       <use x=\"129.203125\" xlink:href=\"#DejaVuSans-111\"/>\n       <use x=\"190.384766\" xlink:href=\"#DejaVuSans-102\"/>\n       <use x=\"220.089844\" xlink:href=\"#DejaVuSans-45\"/>\n       <use x=\"256.173828\" xlink:href=\"#DejaVuSans-115\"/>\n       <use x=\"308.273438\" xlink:href=\"#DejaVuSans-112\"/>\n       <use x=\"371.75\" xlink:href=\"#DejaVuSans-101\"/>\n       <use x=\"433.273438\" xlink:href=\"#DejaVuSans-99\"/>\n       <use x=\"488.253906\" xlink:href=\"#DejaVuSans-105\"/>\n       <use x=\"516.037109\" xlink:href=\"#DejaVuSans-97\"/>\n       <use x=\"577.316406\" xlink:href=\"#DejaVuSans-108\"/>\n       <use x=\"605.099609\" xlink:href=\"#DejaVuSans-116\"/>\n       <use x=\"644.308594\" xlink:href=\"#DejaVuSans-121\"/>\n      </g>\n     </g>\n    </g>\n    <g id=\"xtick_50\">\n     <g id=\"line2d_181\">\n      <path clip-path=\"url(#p7c2828596b)\" d=\"M 360.402894 524.500841 \nL 360.402894 339.182659 \n\" style=\"fill:none;stroke:#ffffff;stroke-linecap:square;stroke-width:0.8;\"/>\n     </g>\n     <g id=\"line2d_182\">\n      <g>\n       <use style=\"fill:#555555;stroke:#555555;stroke-width:0.8;\" x=\"360.402894\" xlink:href=\"#mdde19dd8b5\" y=\"524.500841\"/>\n      </g>\n     </g>\n     <g id=\"text_98\">\n      <!--  Craft-repair -->\n      <defs>\n       <path d=\"M 64.40625 67.28125 \nL 64.40625 56.890625 \nQ 59.421875 61.53125 53.78125 63.8125 \nQ 48.140625 66.109375 41.796875 66.109375 \nQ 29.296875 66.109375 22.65625 58.46875 \nQ 16.015625 50.828125 16.015625 36.375 \nQ 16.015625 21.96875 22.65625 14.328125 \nQ 29.296875 6.6875 41.796875 6.6875 \nQ 48.140625 6.6875 53.78125 8.984375 \nQ 59.421875 11.28125 64.40625 15.921875 \nL 64.40625 5.609375 \nQ 59.234375 2.09375 53.4375 0.328125 \nQ 47.65625 -1.421875 41.21875 -1.421875 \nQ 24.65625 -1.421875 15.125 8.703125 \nQ 5.609375 18.84375 5.609375 36.375 \nQ 5.609375 53.953125 15.125 64.078125 \nQ 24.65625 74.21875 41.21875 74.21875 \nQ 47.75 74.21875 53.53125 72.484375 \nQ 59.328125 70.75 64.40625 67.28125 \nz\n\" id=\"DejaVuSans-67\"/>\n      </defs>\n      <g style=\"fill:#555555;\" transform=\"translate(363.162269 592.178966)rotate(-90)scale(0.1 -0.1)\">\n       <use xlink:href=\"#DejaVuSans-32\"/>\n       <use x=\"31.787109\" xlink:href=\"#DejaVuSans-67\"/>\n       <use x=\"101.611328\" xlink:href=\"#DejaVuSans-114\"/>\n       <use x=\"142.724609\" xlink:href=\"#DejaVuSans-97\"/>\n       <use x=\"204.003906\" xlink:href=\"#DejaVuSans-102\"/>\n       <use x=\"237.458984\" xlink:href=\"#DejaVuSans-116\"/>\n       <use x=\"276.667969\" xlink:href=\"#DejaVuSans-45\"/>\n       <use x=\"312.751953\" xlink:href=\"#DejaVuSans-114\"/>\n       <use x=\"351.615234\" xlink:href=\"#DejaVuSans-101\"/>\n       <use x=\"413.138672\" xlink:href=\"#DejaVuSans-112\"/>\n       <use x=\"476.615234\" xlink:href=\"#DejaVuSans-97\"/>\n       <use x=\"537.894531\" xlink:href=\"#DejaVuSans-105\"/>\n       <use x=\"565.677734\" xlink:href=\"#DejaVuSans-114\"/>\n      </g>\n     </g>\n    </g>\n    <g id=\"xtick_51\">\n     <g id=\"line2d_183\">\n      <path clip-path=\"url(#p7c2828596b)\" d=\"M 377.582697 524.500841 \nL 377.582697 339.182659 \n\" style=\"fill:none;stroke:#ffffff;stroke-linecap:square;stroke-width:0.8;\"/>\n     </g>\n     <g id=\"line2d_184\">\n      <g>\n       <use style=\"fill:#555555;stroke:#555555;stroke-width:0.8;\" x=\"377.582697\" xlink:href=\"#mdde19dd8b5\" y=\"524.500841\"/>\n      </g>\n     </g>\n     <g id=\"text_99\">\n      <!--  Exec-managerial -->\n      <defs>\n       <path d=\"M 54.890625 54.6875 \nL 35.109375 28.078125 \nL 55.90625 0 \nL 45.3125 0 \nL 29.390625 21.484375 \nL 13.484375 0 \nL 2.875 0 \nL 24.125 28.609375 \nL 4.6875 54.6875 \nL 15.28125 54.6875 \nL 29.78125 35.203125 \nL 44.28125 54.6875 \nz\n\" id=\"DejaVuSans-120\"/>\n      </defs>\n      <g style=\"fill:#555555;\" transform=\"translate(380.342072 618.494591)rotate(-90)scale(0.1 -0.1)\">\n       <use xlink:href=\"#DejaVuSans-32\"/>\n       <use x=\"31.787109\" xlink:href=\"#DejaVuSans-69\"/>\n       <use x=\"94.970703\" xlink:href=\"#DejaVuSans-120\"/>\n       <use x=\"151.025391\" xlink:href=\"#DejaVuSans-101\"/>\n       <use x=\"212.548828\" xlink:href=\"#DejaVuSans-99\"/>\n       <use x=\"267.529297\" xlink:href=\"#DejaVuSans-45\"/>\n       <use x=\"303.613281\" xlink:href=\"#DejaVuSans-109\"/>\n       <use x=\"401.025391\" xlink:href=\"#DejaVuSans-97\"/>\n       <use x=\"462.304688\" xlink:href=\"#DejaVuSans-110\"/>\n       <use x=\"525.683594\" xlink:href=\"#DejaVuSans-97\"/>\n       <use x=\"586.962891\" xlink:href=\"#DejaVuSans-103\"/>\n       <use x=\"650.439453\" xlink:href=\"#DejaVuSans-101\"/>\n       <use x=\"711.962891\" xlink:href=\"#DejaVuSans-114\"/>\n       <use x=\"753.076172\" xlink:href=\"#DejaVuSans-105\"/>\n       <use x=\"780.859375\" xlink:href=\"#DejaVuSans-97\"/>\n       <use x=\"842.138672\" xlink:href=\"#DejaVuSans-108\"/>\n      </g>\n     </g>\n    </g>\n    <g id=\"xtick_52\">\n     <g id=\"line2d_185\">\n      <path clip-path=\"url(#p7c2828596b)\" d=\"M 394.7625 524.500841 \nL 394.7625 339.182659 \n\" style=\"fill:none;stroke:#ffffff;stroke-linecap:square;stroke-width:0.8;\"/>\n     </g>\n     <g id=\"line2d_186\">\n      <g>\n       <use style=\"fill:#555555;stroke:#555555;stroke-width:0.8;\" x=\"394.7625\" xlink:href=\"#mdde19dd8b5\" y=\"524.500841\"/>\n      </g>\n     </g>\n     <g id=\"text_100\">\n      <!--  Adm-clerical -->\n      <g style=\"fill:#555555;\" transform=\"translate(397.521875 596.764903)rotate(-90)scale(0.1 -0.1)\">\n       <use xlink:href=\"#DejaVuSans-32\"/>\n       <use x=\"31.787109\" xlink:href=\"#DejaVuSans-65\"/>\n       <use x=\"98.445312\" xlink:href=\"#DejaVuSans-100\"/>\n       <use x=\"161.921875\" xlink:href=\"#DejaVuSans-109\"/>\n       <use x=\"259.333984\" xlink:href=\"#DejaVuSans-45\"/>\n       <use x=\"295.417969\" xlink:href=\"#DejaVuSans-99\"/>\n       <use x=\"350.398438\" xlink:href=\"#DejaVuSans-108\"/>\n       <use x=\"378.181641\" xlink:href=\"#DejaVuSans-101\"/>\n       <use x=\"439.705078\" xlink:href=\"#DejaVuSans-114\"/>\n       <use x=\"480.818359\" xlink:href=\"#DejaVuSans-105\"/>\n       <use x=\"508.601562\" xlink:href=\"#DejaVuSans-99\"/>\n       <use x=\"563.582031\" xlink:href=\"#DejaVuSans-97\"/>\n       <use x=\"624.861328\" xlink:href=\"#DejaVuSans-108\"/>\n      </g>\n     </g>\n    </g>\n    <g id=\"xtick_53\">\n     <g id=\"line2d_187\">\n      <path clip-path=\"url(#p7c2828596b)\" d=\"M 411.942303 524.500841 \nL 411.942303 339.182659 \n\" style=\"fill:none;stroke:#ffffff;stroke-linecap:square;stroke-width:0.8;\"/>\n     </g>\n     <g id=\"line2d_188\">\n      <g>\n       <use style=\"fill:#555555;stroke:#555555;stroke-width:0.8;\" x=\"411.942303\" xlink:href=\"#mdde19dd8b5\" y=\"524.500841\"/>\n      </g>\n     </g>\n     <g id=\"text_101\">\n      <!--  Sales -->\n      <g style=\"fill:#555555;\" transform=\"translate(414.701678 561.296153)rotate(-90)scale(0.1 -0.1)\">\n       <use xlink:href=\"#DejaVuSans-32\"/>\n       <use x=\"31.787109\" xlink:href=\"#DejaVuSans-83\"/>\n       <use x=\"95.263672\" xlink:href=\"#DejaVuSans-97\"/>\n       <use x=\"156.542969\" xlink:href=\"#DejaVuSans-108\"/>\n       <use x=\"184.326172\" xlink:href=\"#DejaVuSans-101\"/>\n       <use x=\"245.849609\" xlink:href=\"#DejaVuSans-115\"/>\n      </g>\n     </g>\n    </g>\n    <g id=\"xtick_54\">\n     <g id=\"line2d_189\">\n      <path clip-path=\"url(#p7c2828596b)\" d=\"M 429.122106 524.500841 \nL 429.122106 339.182659 \n\" style=\"fill:none;stroke:#ffffff;stroke-linecap:square;stroke-width:0.8;\"/>\n     </g>\n     <g id=\"line2d_190\">\n      <g>\n       <use style=\"fill:#555555;stroke:#555555;stroke-width:0.8;\" x=\"429.122106\" xlink:href=\"#mdde19dd8b5\" y=\"524.500841\"/>\n      </g>\n     </g>\n     <g id=\"text_102\">\n      <!--  Other-service -->\n      <defs>\n       <path d=\"M 39.40625 66.21875 \nQ 28.65625 66.21875 22.328125 58.203125 \nQ 16.015625 50.203125 16.015625 36.375 \nQ 16.015625 22.609375 22.328125 14.59375 \nQ 28.65625 6.59375 39.40625 6.59375 \nQ 50.140625 6.59375 56.421875 14.59375 \nQ 62.703125 22.609375 62.703125 36.375 \nQ 62.703125 50.203125 56.421875 58.203125 \nQ 50.140625 66.21875 39.40625 66.21875 \nz\nM 39.40625 74.21875 \nQ 54.734375 74.21875 63.90625 63.9375 \nQ 73.09375 53.65625 73.09375 36.375 \nQ 73.09375 19.140625 63.90625 8.859375 \nQ 54.734375 -1.421875 39.40625 -1.421875 \nQ 24.03125 -1.421875 14.8125 8.828125 \nQ 5.609375 19.09375 5.609375 36.375 \nQ 5.609375 53.65625 14.8125 63.9375 \nQ 24.03125 74.21875 39.40625 74.21875 \nz\n\" id=\"DejaVuSans-79\"/>\n      </defs>\n      <g style=\"fill:#555555;\" transform=\"translate(431.881481 601.864903)rotate(-90)scale(0.1 -0.1)\">\n       <use xlink:href=\"#DejaVuSans-32\"/>\n       <use x=\"31.787109\" xlink:href=\"#DejaVuSans-79\"/>\n       <use x=\"110.498047\" xlink:href=\"#DejaVuSans-116\"/>\n       <use x=\"149.707031\" xlink:href=\"#DejaVuSans-104\"/>\n       <use x=\"213.085938\" xlink:href=\"#DejaVuSans-101\"/>\n       <use x=\"274.609375\" xlink:href=\"#DejaVuSans-114\"/>\n       <use x=\"309.347656\" xlink:href=\"#DejaVuSans-45\"/>\n       <use x=\"345.431641\" xlink:href=\"#DejaVuSans-115\"/>\n       <use x=\"397.53125\" xlink:href=\"#DejaVuSans-101\"/>\n       <use x=\"459.054688\" xlink:href=\"#DejaVuSans-114\"/>\n       <use x=\"500.167969\" xlink:href=\"#DejaVuSans-118\"/>\n       <use x=\"559.347656\" xlink:href=\"#DejaVuSans-105\"/>\n       <use x=\"587.130859\" xlink:href=\"#DejaVuSans-99\"/>\n       <use x=\"642.111328\" xlink:href=\"#DejaVuSans-101\"/>\n      </g>\n     </g>\n    </g>\n    <g id=\"xtick_55\">\n     <g id=\"line2d_191\">\n      <path clip-path=\"url(#p7c2828596b)\" d=\"M 446.301909 524.500841 \nL 446.301909 339.182659 \n\" style=\"fill:none;stroke:#ffffff;stroke-linecap:square;stroke-width:0.8;\"/>\n     </g>\n     <g id=\"line2d_192\">\n      <g>\n       <use style=\"fill:#555555;stroke:#555555;stroke-width:0.8;\" x=\"446.301909\" xlink:href=\"#mdde19dd8b5\" y=\"524.500841\"/>\n      </g>\n     </g>\n     <g id=\"text_103\">\n      <!--  Machine-op-inspct -->\n      <g style=\"fill:#555555;\" transform=\"translate(449.061284 626.502403)rotate(-90)scale(0.1 -0.1)\">\n       <use xlink:href=\"#DejaVuSans-32\"/>\n       <use x=\"31.787109\" xlink:href=\"#DejaVuSans-77\"/>\n       <use x=\"118.066406\" xlink:href=\"#DejaVuSans-97\"/>\n       <use x=\"179.345703\" xlink:href=\"#DejaVuSans-99\"/>\n       <use x=\"234.326172\" xlink:href=\"#DejaVuSans-104\"/>\n       <use x=\"297.705078\" xlink:href=\"#DejaVuSans-105\"/>\n       <use x=\"325.488281\" xlink:href=\"#DejaVuSans-110\"/>\n       <use x=\"388.867188\" xlink:href=\"#DejaVuSans-101\"/>\n       <use x=\"450.390625\" xlink:href=\"#DejaVuSans-45\"/>\n       <use x=\"488.349609\" xlink:href=\"#DejaVuSans-111\"/>\n       <use x=\"549.53125\" xlink:href=\"#DejaVuSans-112\"/>\n       <use x=\"613.007812\" xlink:href=\"#DejaVuSans-45\"/>\n       <use x=\"649.091797\" xlink:href=\"#DejaVuSans-105\"/>\n       <use x=\"676.875\" xlink:href=\"#DejaVuSans-110\"/>\n       <use x=\"740.253906\" xlink:href=\"#DejaVuSans-115\"/>\n       <use x=\"792.353516\" xlink:href=\"#DejaVuSans-112\"/>\n       <use x=\"855.830078\" xlink:href=\"#DejaVuSans-99\"/>\n       <use x=\"910.810547\" xlink:href=\"#DejaVuSans-116\"/>\n      </g>\n     </g>\n    </g>\n    <g id=\"xtick_56\">\n     <g id=\"line2d_193\">\n      <path clip-path=\"url(#p7c2828596b)\" d=\"M 463.481712 524.500841 \nL 463.481712 339.182659 \n\" style=\"fill:none;stroke:#ffffff;stroke-linecap:square;stroke-width:0.8;\"/>\n     </g>\n     <g id=\"line2d_194\">\n      <g>\n       <use style=\"fill:#555555;stroke:#555555;stroke-width:0.8;\" x=\"463.481712\" xlink:href=\"#mdde19dd8b5\" y=\"524.500841\"/>\n      </g>\n     </g>\n     <g id=\"text_104\">\n      <!--  Transport-moving -->\n      <defs>\n       <path d=\"M -0.296875 72.90625 \nL 61.375 72.90625 \nL 61.375 64.59375 \nL 35.5 64.59375 \nL 35.5 0 \nL 25.59375 0 \nL 25.59375 64.59375 \nL -0.296875 64.59375 \nz\n\" id=\"DejaVuSans-84\"/>\n      </defs>\n      <g style=\"fill:#555555;\" transform=\"translate(466.241087 622.446153)rotate(-90)scale(0.1 -0.1)\">\n       <use xlink:href=\"#DejaVuSans-32\"/>\n       <use x=\"31.787109\" xlink:href=\"#DejaVuSans-84\"/>\n       <use x=\"78.121094\" xlink:href=\"#DejaVuSans-114\"/>\n       <use x=\"119.234375\" xlink:href=\"#DejaVuSans-97\"/>\n       <use x=\"180.513672\" xlink:href=\"#DejaVuSans-110\"/>\n       <use x=\"243.892578\" xlink:href=\"#DejaVuSans-115\"/>\n       <use x=\"295.992188\" xlink:href=\"#DejaVuSans-112\"/>\n       <use x=\"359.46875\" xlink:href=\"#DejaVuSans-111\"/>\n       <use x=\"420.650391\" xlink:href=\"#DejaVuSans-114\"/>\n       <use x=\"461.763672\" xlink:href=\"#DejaVuSans-116\"/>\n       <use x=\"500.972656\" xlink:href=\"#DejaVuSans-45\"/>\n       <use x=\"537.056641\" xlink:href=\"#DejaVuSans-109\"/>\n       <use x=\"634.46875\" xlink:href=\"#DejaVuSans-111\"/>\n       <use x=\"695.650391\" xlink:href=\"#DejaVuSans-118\"/>\n       <use x=\"754.830078\" xlink:href=\"#DejaVuSans-105\"/>\n       <use x=\"782.613281\" xlink:href=\"#DejaVuSans-110\"/>\n       <use x=\"845.992188\" xlink:href=\"#DejaVuSans-103\"/>\n      </g>\n     </g>\n    </g>\n    <g id=\"xtick_57\">\n     <g id=\"line2d_195\">\n      <path clip-path=\"url(#p7c2828596b)\" d=\"M 480.661515 524.500841 \nL 480.661515 339.182659 \n\" style=\"fill:none;stroke:#ffffff;stroke-linecap:square;stroke-width:0.8;\"/>\n     </g>\n     <g id=\"line2d_196\">\n      <g>\n       <use style=\"fill:#555555;stroke:#555555;stroke-width:0.8;\" x=\"480.661515\" xlink:href=\"#mdde19dd8b5\" y=\"524.500841\"/>\n      </g>\n     </g>\n     <g id=\"text_105\">\n      <!--  Handlers-cleaners -->\n      <g style=\"fill:#555555;\" transform=\"translate(483.42089 625.241466)rotate(-90)scale(0.1 -0.1)\">\n       <use xlink:href=\"#DejaVuSans-32\"/>\n       <use x=\"31.787109\" xlink:href=\"#DejaVuSans-72\"/>\n       <use x=\"106.982422\" xlink:href=\"#DejaVuSans-97\"/>\n       <use x=\"168.261719\" xlink:href=\"#DejaVuSans-110\"/>\n       <use x=\"231.640625\" xlink:href=\"#DejaVuSans-100\"/>\n       <use x=\"295.117188\" xlink:href=\"#DejaVuSans-108\"/>\n       <use x=\"322.900391\" xlink:href=\"#DejaVuSans-101\"/>\n       <use x=\"384.423828\" xlink:href=\"#DejaVuSans-114\"/>\n       <use x=\"425.537109\" xlink:href=\"#DejaVuSans-115\"/>\n       <use x=\"477.636719\" xlink:href=\"#DejaVuSans-45\"/>\n       <use x=\"513.720703\" xlink:href=\"#DejaVuSans-99\"/>\n       <use x=\"568.701172\" xlink:href=\"#DejaVuSans-108\"/>\n       <use x=\"596.484375\" xlink:href=\"#DejaVuSans-101\"/>\n       <use x=\"658.007812\" xlink:href=\"#DejaVuSans-97\"/>\n       <use x=\"719.287109\" xlink:href=\"#DejaVuSans-110\"/>\n       <use x=\"782.666016\" xlink:href=\"#DejaVuSans-101\"/>\n       <use x=\"844.189453\" xlink:href=\"#DejaVuSans-114\"/>\n       <use x=\"885.302734\" xlink:href=\"#DejaVuSans-115\"/>\n      </g>\n     </g>\n    </g>\n    <g id=\"xtick_58\">\n     <g id=\"line2d_197\">\n      <path clip-path=\"url(#p7c2828596b)\" d=\"M 497.841318 524.500841 \nL 497.841318 339.182659 \n\" style=\"fill:none;stroke:#ffffff;stroke-linecap:square;stroke-width:0.8;\"/>\n     </g>\n     <g id=\"line2d_198\">\n      <g>\n       <use style=\"fill:#555555;stroke:#555555;stroke-width:0.8;\" x=\"497.841318\" xlink:href=\"#mdde19dd8b5\" y=\"524.500841\"/>\n      </g>\n     </g>\n     <g id=\"text_106\">\n      <!--  Farming-fishing -->\n      <g style=\"fill:#555555;\" transform=\"translate(500.600693 611.703966)rotate(-90)scale(0.1 -0.1)\">\n       <use xlink:href=\"#DejaVuSans-32\"/>\n       <use x=\"31.787109\" xlink:href=\"#DejaVuSans-70\"/>\n       <use x=\"80.181641\" xlink:href=\"#DejaVuSans-97\"/>\n       <use x=\"141.460938\" xlink:href=\"#DejaVuSans-114\"/>\n       <use x=\"180.824219\" xlink:href=\"#DejaVuSans-109\"/>\n       <use x=\"278.236328\" xlink:href=\"#DejaVuSans-105\"/>\n       <use x=\"306.019531\" xlink:href=\"#DejaVuSans-110\"/>\n       <use x=\"369.398438\" xlink:href=\"#DejaVuSans-103\"/>\n       <use x=\"432.875\" xlink:href=\"#DejaVuSans-45\"/>\n       <use x=\"468.958984\" xlink:href=\"#DejaVuSans-102\"/>\n       <use x=\"504.164062\" xlink:href=\"#DejaVuSans-105\"/>\n       <use x=\"531.947266\" xlink:href=\"#DejaVuSans-115\"/>\n       <use x=\"584.046875\" xlink:href=\"#DejaVuSans-104\"/>\n       <use x=\"647.425781\" xlink:href=\"#DejaVuSans-105\"/>\n       <use x=\"675.208984\" xlink:href=\"#DejaVuSans-110\"/>\n       <use x=\"738.587891\" xlink:href=\"#DejaVuSans-103\"/>\n      </g>\n     </g>\n    </g>\n    <g id=\"xtick_59\">\n     <g id=\"line2d_199\">\n      <path clip-path=\"url(#p7c2828596b)\" d=\"M 515.021121 524.500841 \nL 515.021121 339.182659 \n\" style=\"fill:none;stroke:#ffffff;stroke-linecap:square;stroke-width:0.8;\"/>\n     </g>\n     <g id=\"line2d_200\">\n      <g>\n       <use style=\"fill:#555555;stroke:#555555;stroke-width:0.8;\" x=\"515.021121\" xlink:href=\"#mdde19dd8b5\" y=\"524.500841\"/>\n      </g>\n     </g>\n     <g id=\"text_107\">\n      <!--  Tech-support -->\n      <g style=\"fill:#555555;\" transform=\"translate(517.780496 599.077403)rotate(-90)scale(0.1 -0.1)\">\n       <use xlink:href=\"#DejaVuSans-32\"/>\n       <use x=\"31.787109\" xlink:href=\"#DejaVuSans-84\"/>\n       <use x=\"75.871094\" xlink:href=\"#DejaVuSans-101\"/>\n       <use x=\"137.394531\" xlink:href=\"#DejaVuSans-99\"/>\n       <use x=\"192.375\" xlink:href=\"#DejaVuSans-104\"/>\n       <use x=\"255.753906\" xlink:href=\"#DejaVuSans-45\"/>\n       <use x=\"291.837891\" xlink:href=\"#DejaVuSans-115\"/>\n       <use x=\"343.9375\" xlink:href=\"#DejaVuSans-117\"/>\n       <use x=\"407.316406\" xlink:href=\"#DejaVuSans-112\"/>\n       <use x=\"470.792969\" xlink:href=\"#DejaVuSans-112\"/>\n       <use x=\"534.269531\" xlink:href=\"#DejaVuSans-111\"/>\n       <use x=\"595.451172\" xlink:href=\"#DejaVuSans-114\"/>\n       <use x=\"636.564453\" xlink:href=\"#DejaVuSans-116\"/>\n      </g>\n     </g>\n    </g>\n    <g id=\"xtick_60\">\n     <g id=\"line2d_201\">\n      <path clip-path=\"url(#p7c2828596b)\" d=\"M 532.200924 524.500841 \nL 532.200924 339.182659 \n\" style=\"fill:none;stroke:#ffffff;stroke-linecap:square;stroke-width:0.8;\"/>\n     </g>\n     <g id=\"line2d_202\">\n      <g>\n       <use style=\"fill:#555555;stroke:#555555;stroke-width:0.8;\" x=\"532.200924\" xlink:href=\"#mdde19dd8b5\" y=\"524.500841\"/>\n      </g>\n     </g>\n     <g id=\"text_108\">\n      <!--  Protective-serv -->\n      <g style=\"fill:#555555;\" transform=\"translate(534.960299 609.880528)rotate(-90)scale(0.1 -0.1)\">\n       <use xlink:href=\"#DejaVuSans-32\"/>\n       <use x=\"31.787109\" xlink:href=\"#DejaVuSans-80\"/>\n       <use x=\"90.339844\" xlink:href=\"#DejaVuSans-114\"/>\n       <use x=\"129.203125\" xlink:href=\"#DejaVuSans-111\"/>\n       <use x=\"190.384766\" xlink:href=\"#DejaVuSans-116\"/>\n       <use x=\"229.59375\" xlink:href=\"#DejaVuSans-101\"/>\n       <use x=\"291.117188\" xlink:href=\"#DejaVuSans-99\"/>\n       <use x=\"346.097656\" xlink:href=\"#DejaVuSans-116\"/>\n       <use x=\"385.306641\" xlink:href=\"#DejaVuSans-105\"/>\n       <use x=\"413.089844\" xlink:href=\"#DejaVuSans-118\"/>\n       <use x=\"472.269531\" xlink:href=\"#DejaVuSans-101\"/>\n       <use x=\"533.792969\" xlink:href=\"#DejaVuSans-45\"/>\n       <use x=\"569.876953\" xlink:href=\"#DejaVuSans-115\"/>\n       <use x=\"621.976562\" xlink:href=\"#DejaVuSans-101\"/>\n       <use x=\"683.5\" xlink:href=\"#DejaVuSans-114\"/>\n       <use x=\"724.613281\" xlink:href=\"#DejaVuSans-118\"/>\n      </g>\n     </g>\n    </g>\n    <g id=\"xtick_61\">\n     <g id=\"line2d_203\">\n      <path clip-path=\"url(#p7c2828596b)\" d=\"M 549.380727 524.500841 \nL 549.380727 339.182659 \n\" style=\"fill:none;stroke:#ffffff;stroke-linecap:square;stroke-width:0.8;\"/>\n     </g>\n     <g id=\"line2d_204\">\n      <g>\n       <use style=\"fill:#555555;stroke:#555555;stroke-width:0.8;\" x=\"549.380727\" xlink:href=\"#mdde19dd8b5\" y=\"524.500841\"/>\n      </g>\n     </g>\n     <g id=\"text_109\">\n      <!--  Priv-house-serv -->\n      <g style=\"fill:#555555;\" transform=\"translate(552.140102 611.843028)rotate(-90)scale(0.1 -0.1)\">\n       <use xlink:href=\"#DejaVuSans-32\"/>\n       <use x=\"31.787109\" xlink:href=\"#DejaVuSans-80\"/>\n       <use x=\"90.339844\" xlink:href=\"#DejaVuSans-114\"/>\n       <use x=\"131.453125\" xlink:href=\"#DejaVuSans-105\"/>\n       <use x=\"159.236328\" xlink:href=\"#DejaVuSans-118\"/>\n       <use x=\"215.791016\" xlink:href=\"#DejaVuSans-45\"/>\n       <use x=\"251.875\" xlink:href=\"#DejaVuSans-104\"/>\n       <use x=\"315.253906\" xlink:href=\"#DejaVuSans-111\"/>\n       <use x=\"376.435547\" xlink:href=\"#DejaVuSans-117\"/>\n       <use x=\"439.814453\" xlink:href=\"#DejaVuSans-115\"/>\n       <use x=\"491.914062\" xlink:href=\"#DejaVuSans-101\"/>\n       <use x=\"553.4375\" xlink:href=\"#DejaVuSans-45\"/>\n       <use x=\"589.521484\" xlink:href=\"#DejaVuSans-115\"/>\n       <use x=\"641.621094\" xlink:href=\"#DejaVuSans-101\"/>\n       <use x=\"703.144531\" xlink:href=\"#DejaVuSans-114\"/>\n       <use x=\"744.257812\" xlink:href=\"#DejaVuSans-118\"/>\n      </g>\n     </g>\n    </g>\n    <g id=\"xtick_62\">\n     <g id=\"line2d_205\">\n      <path clip-path=\"url(#p7c2828596b)\" d=\"M 566.56053 524.500841 \nL 566.56053 339.182659 \n\" style=\"fill:none;stroke:#ffffff;stroke-linecap:square;stroke-width:0.8;\"/>\n     </g>\n     <g id=\"line2d_206\">\n      <g>\n       <use style=\"fill:#555555;stroke:#555555;stroke-width:0.8;\" x=\"566.56053\" xlink:href=\"#mdde19dd8b5\" y=\"524.500841\"/>\n      </g>\n     </g>\n     <g id=\"text_110\">\n      <!--  Armed-Forces -->\n      <g style=\"fill:#555555;\" transform=\"translate(569.319905 603.560216)rotate(-90)scale(0.1 -0.1)\">\n       <use xlink:href=\"#DejaVuSans-32\"/>\n       <use x=\"31.787109\" xlink:href=\"#DejaVuSans-65\"/>\n       <use x=\"100.195312\" xlink:href=\"#DejaVuSans-114\"/>\n       <use x=\"139.558594\" xlink:href=\"#DejaVuSans-109\"/>\n       <use x=\"236.970703\" xlink:href=\"#DejaVuSans-101\"/>\n       <use x=\"298.494141\" xlink:href=\"#DejaVuSans-100\"/>\n       <use x=\"361.970703\" xlink:href=\"#DejaVuSans-45\"/>\n       <use x=\"398.054688\" xlink:href=\"#DejaVuSans-70\"/>\n       <use x=\"451.949219\" xlink:href=\"#DejaVuSans-111\"/>\n       <use x=\"513.130859\" xlink:href=\"#DejaVuSans-114\"/>\n       <use x=\"551.994141\" xlink:href=\"#DejaVuSans-99\"/>\n       <use x=\"606.974609\" xlink:href=\"#DejaVuSans-101\"/>\n       <use x=\"668.498047\" xlink:href=\"#DejaVuSans-115\"/>\n      </g>\n     </g>\n    </g>\n   </g>\n   <g id=\"matplotlib.axis_14\">\n    <g id=\"ytick_42\">\n     <g id=\"line2d_207\">\n      <path clip-path=\"url(#p7c2828596b)\" d=\"M 334.63319 524.500841 \nL 575.150431 524.500841 \n\" style=\"fill:none;stroke:#ffffff;stroke-linecap:square;stroke-width:0.8;\"/>\n     </g>\n     <g id=\"line2d_208\">\n      <g>\n       <use style=\"fill:#555555;stroke:#555555;stroke-width:0.8;\" x=\"334.63319\" xlink:href=\"#m29fc131eff\" y=\"524.500841\"/>\n      </g>\n     </g>\n     <g id=\"text_111\">\n      <!-- 0 -->\n      <g style=\"fill:#555555;\" transform=\"translate(321.27069 528.30006)scale(0.1 -0.1)\">\n       <use xlink:href=\"#DejaVuSans-48\"/>\n      </g>\n     </g>\n    </g>\n    <g id=\"ytick_43\">\n     <g id=\"line2d_209\">\n      <path clip-path=\"url(#p7c2828596b)\" d=\"M 334.63319 503.1852 \nL 575.150431 503.1852 \n\" style=\"fill:none;stroke:#ffffff;stroke-linecap:square;stroke-width:0.8;\"/>\n     </g>\n     <g id=\"line2d_210\">\n      <g>\n       <use style=\"fill:#555555;stroke:#555555;stroke-width:0.8;\" x=\"334.63319\" xlink:href=\"#m29fc131eff\" y=\"503.1852\"/>\n      </g>\n     </g>\n     <g id=\"text_112\">\n      <!-- 500 -->\n      <g style=\"fill:#555555;\" transform=\"translate(308.54569 506.984419)scale(0.1 -0.1)\">\n       <use xlink:href=\"#DejaVuSans-53\"/>\n       <use x=\"63.623047\" xlink:href=\"#DejaVuSans-48\"/>\n       <use x=\"127.246094\" xlink:href=\"#DejaVuSans-48\"/>\n      </g>\n     </g>\n    </g>\n    <g id=\"ytick_44\">\n     <g id=\"line2d_211\">\n      <path clip-path=\"url(#p7c2828596b)\" d=\"M 334.63319 481.869559 \nL 575.150431 481.869559 \n\" style=\"fill:none;stroke:#ffffff;stroke-linecap:square;stroke-width:0.8;\"/>\n     </g>\n     <g id=\"line2d_212\">\n      <g>\n       <use style=\"fill:#555555;stroke:#555555;stroke-width:0.8;\" x=\"334.63319\" xlink:href=\"#m29fc131eff\" y=\"481.869559\"/>\n      </g>\n     </g>\n     <g id=\"text_113\">\n      <!-- 1000 -->\n      <g style=\"fill:#555555;\" transform=\"translate(302.18319 485.668778)scale(0.1 -0.1)\">\n       <use xlink:href=\"#DejaVuSans-49\"/>\n       <use x=\"63.623047\" xlink:href=\"#DejaVuSans-48\"/>\n       <use x=\"127.246094\" xlink:href=\"#DejaVuSans-48\"/>\n       <use x=\"190.869141\" xlink:href=\"#DejaVuSans-48\"/>\n      </g>\n     </g>\n    </g>\n    <g id=\"ytick_45\">\n     <g id=\"line2d_213\">\n      <path clip-path=\"url(#p7c2828596b)\" d=\"M 334.63319 460.553918 \nL 575.150431 460.553918 \n\" style=\"fill:none;stroke:#ffffff;stroke-linecap:square;stroke-width:0.8;\"/>\n     </g>\n     <g id=\"line2d_214\">\n      <g>\n       <use style=\"fill:#555555;stroke:#555555;stroke-width:0.8;\" x=\"334.63319\" xlink:href=\"#m29fc131eff\" y=\"460.553918\"/>\n      </g>\n     </g>\n     <g id=\"text_114\">\n      <!-- 1500 -->\n      <g style=\"fill:#555555;\" transform=\"translate(302.18319 464.353137)scale(0.1 -0.1)\">\n       <use xlink:href=\"#DejaVuSans-49\"/>\n       <use x=\"63.623047\" xlink:href=\"#DejaVuSans-53\"/>\n       <use x=\"127.246094\" xlink:href=\"#DejaVuSans-48\"/>\n       <use x=\"190.869141\" xlink:href=\"#DejaVuSans-48\"/>\n      </g>\n     </g>\n    </g>\n    <g id=\"ytick_46\">\n     <g id=\"line2d_215\">\n      <path clip-path=\"url(#p7c2828596b)\" d=\"M 334.63319 439.238277 \nL 575.150431 439.238277 \n\" style=\"fill:none;stroke:#ffffff;stroke-linecap:square;stroke-width:0.8;\"/>\n     </g>\n     <g id=\"line2d_216\">\n      <g>\n       <use style=\"fill:#555555;stroke:#555555;stroke-width:0.8;\" x=\"334.63319\" xlink:href=\"#m29fc131eff\" y=\"439.238277\"/>\n      </g>\n     </g>\n     <g id=\"text_115\">\n      <!-- 2000 -->\n      <g style=\"fill:#555555;\" transform=\"translate(302.18319 443.037496)scale(0.1 -0.1)\">\n       <use xlink:href=\"#DejaVuSans-50\"/>\n       <use x=\"63.623047\" xlink:href=\"#DejaVuSans-48\"/>\n       <use x=\"127.246094\" xlink:href=\"#DejaVuSans-48\"/>\n       <use x=\"190.869141\" xlink:href=\"#DejaVuSans-48\"/>\n      </g>\n     </g>\n    </g>\n    <g id=\"ytick_47\">\n     <g id=\"line2d_217\">\n      <path clip-path=\"url(#p7c2828596b)\" d=\"M 334.63319 417.922637 \nL 575.150431 417.922637 \n\" style=\"fill:none;stroke:#ffffff;stroke-linecap:square;stroke-width:0.8;\"/>\n     </g>\n     <g id=\"line2d_218\">\n      <g>\n       <use style=\"fill:#555555;stroke:#555555;stroke-width:0.8;\" x=\"334.63319\" xlink:href=\"#m29fc131eff\" y=\"417.922637\"/>\n      </g>\n     </g>\n     <g id=\"text_116\">\n      <!-- 2500 -->\n      <g style=\"fill:#555555;\" transform=\"translate(302.18319 421.721855)scale(0.1 -0.1)\">\n       <use xlink:href=\"#DejaVuSans-50\"/>\n       <use x=\"63.623047\" xlink:href=\"#DejaVuSans-53\"/>\n       <use x=\"127.246094\" xlink:href=\"#DejaVuSans-48\"/>\n       <use x=\"190.869141\" xlink:href=\"#DejaVuSans-48\"/>\n      </g>\n     </g>\n    </g>\n    <g id=\"ytick_48\">\n     <g id=\"line2d_219\">\n      <path clip-path=\"url(#p7c2828596b)\" d=\"M 334.63319 396.606996 \nL 575.150431 396.606996 \n\" style=\"fill:none;stroke:#ffffff;stroke-linecap:square;stroke-width:0.8;\"/>\n     </g>\n     <g id=\"line2d_220\">\n      <g>\n       <use style=\"fill:#555555;stroke:#555555;stroke-width:0.8;\" x=\"334.63319\" xlink:href=\"#m29fc131eff\" y=\"396.606996\"/>\n      </g>\n     </g>\n     <g id=\"text_117\">\n      <!-- 3000 -->\n      <g style=\"fill:#555555;\" transform=\"translate(302.18319 400.406214)scale(0.1 -0.1)\">\n       <use xlink:href=\"#DejaVuSans-51\"/>\n       <use x=\"63.623047\" xlink:href=\"#DejaVuSans-48\"/>\n       <use x=\"127.246094\" xlink:href=\"#DejaVuSans-48\"/>\n       <use x=\"190.869141\" xlink:href=\"#DejaVuSans-48\"/>\n      </g>\n     </g>\n    </g>\n    <g id=\"ytick_49\">\n     <g id=\"line2d_221\">\n      <path clip-path=\"url(#p7c2828596b)\" d=\"M 334.63319 375.291355 \nL 575.150431 375.291355 \n\" style=\"fill:none;stroke:#ffffff;stroke-linecap:square;stroke-width:0.8;\"/>\n     </g>\n     <g id=\"line2d_222\">\n      <g>\n       <use style=\"fill:#555555;stroke:#555555;stroke-width:0.8;\" x=\"334.63319\" xlink:href=\"#m29fc131eff\" y=\"375.291355\"/>\n      </g>\n     </g>\n     <g id=\"text_118\">\n      <!-- 3500 -->\n      <g style=\"fill:#555555;\" transform=\"translate(302.18319 379.090573)scale(0.1 -0.1)\">\n       <use xlink:href=\"#DejaVuSans-51\"/>\n       <use x=\"63.623047\" xlink:href=\"#DejaVuSans-53\"/>\n       <use x=\"127.246094\" xlink:href=\"#DejaVuSans-48\"/>\n       <use x=\"190.869141\" xlink:href=\"#DejaVuSans-48\"/>\n      </g>\n     </g>\n    </g>\n    <g id=\"ytick_50\">\n     <g id=\"line2d_223\">\n      <path clip-path=\"url(#p7c2828596b)\" d=\"M 334.63319 353.975714 \nL 575.150431 353.975714 \n\" style=\"fill:none;stroke:#ffffff;stroke-linecap:square;stroke-width:0.8;\"/>\n     </g>\n     <g id=\"line2d_224\">\n      <g>\n       <use style=\"fill:#555555;stroke:#555555;stroke-width:0.8;\" x=\"334.63319\" xlink:href=\"#m29fc131eff\" y=\"353.975714\"/>\n      </g>\n     </g>\n     <g id=\"text_119\">\n      <!-- 4000 -->\n      <g style=\"fill:#555555;\" transform=\"translate(302.18319 357.774933)scale(0.1 -0.1)\">\n       <use xlink:href=\"#DejaVuSans-52\"/>\n       <use x=\"63.623047\" xlink:href=\"#DejaVuSans-48\"/>\n       <use x=\"127.246094\" xlink:href=\"#DejaVuSans-48\"/>\n       <use x=\"190.869141\" xlink:href=\"#DejaVuSans-48\"/>\n      </g>\n     </g>\n    </g>\n   </g>\n   <g id=\"patch_94\">\n    <path clip-path=\"url(#p7c2828596b)\" d=\"M 338.92814 524.500841 \nL 347.518042 524.500841 \nL 347.518042 348.007334 \nL 338.92814 348.007334 \nz\n\" style=\"fill:#e24a33;\"/>\n   </g>\n   <g id=\"patch_95\">\n    <path clip-path=\"url(#p7c2828596b)\" d=\"M 356.107943 524.500841 \nL 364.697845 524.500841 \nL 364.697845 349.755217 \nL 356.107943 349.755217 \nz\n\" style=\"fill:#e24a33;\"/>\n   </g>\n   <g id=\"patch_96\">\n    <path clip-path=\"url(#p7c2828596b)\" d=\"M 373.287746 524.500841 \nL 381.877648 524.500841 \nL 381.877648 351.162049 \nL 373.287746 351.162049 \nz\n\" style=\"fill:#e24a33;\"/>\n   </g>\n   <g id=\"patch_97\">\n    <path clip-path=\"url(#p7c2828596b)\" d=\"M 390.467549 524.500841 \nL 399.057451 524.500841 \nL 399.057451 363.780909 \nL 390.467549 363.780909 \nz\n\" style=\"fill:#e24a33;\"/>\n   </g>\n   <g id=\"patch_98\">\n    <path clip-path=\"url(#p7c2828596b)\" d=\"M 407.647352 524.500841 \nL 416.237254 524.500841 \nL 416.237254 368.896662 \nL 407.647352 368.896662 \nz\n\" style=\"fill:#e24a33;\"/>\n   </g>\n   <g id=\"patch_99\">\n    <path clip-path=\"url(#p7c2828596b)\" d=\"M 424.827155 524.500841 \nL 433.417057 524.500841 \nL 433.417057 384.030768 \nL 424.827155 384.030768 \nz\n\" style=\"fill:#e24a33;\"/>\n   </g>\n   <g id=\"patch_100\">\n    <path clip-path=\"url(#p7c2828596b)\" d=\"M 442.006958 524.500841 \nL 450.59686 524.500841 \nL 450.59686 439.153015 \nL 442.006958 439.153015 \nz\n\" style=\"fill:#e24a33;\"/>\n   </g>\n   <g id=\"patch_101\">\n    <path clip-path=\"url(#p7c2828596b)\" d=\"M 459.186761 524.500841 \nL 467.776663 524.500841 \nL 467.776663 456.418684 \nL 459.186761 456.418684 \nz\n\" style=\"fill:#e24a33;\"/>\n   </g>\n   <g id=\"patch_102\">\n    <path clip-path=\"url(#p7c2828596b)\" d=\"M 476.366564 524.500841 \nL 484.956466 524.500841 \nL 484.956466 466.095985 \nL 476.366564 466.095985 \nz\n\" style=\"fill:#e24a33;\"/>\n   </g>\n   <g id=\"patch_103\">\n    <path clip-path=\"url(#p7c2828596b)\" d=\"M 493.546367 524.500841 \nL 502.136268 524.500841 \nL 502.136268 482.125347 \nL 493.546367 482.125347 \nz\n\" style=\"fill:#e24a33;\"/>\n   </g>\n   <g id=\"patch_104\">\n    <path clip-path=\"url(#p7c2828596b)\" d=\"M 510.72617 524.500841 \nL 519.316071 524.500841 \nL 519.316071 484.939011 \nL 510.72617 484.939011 \nz\n\" style=\"fill:#e24a33;\"/>\n   </g>\n   <g id=\"patch_105\">\n    <path clip-path=\"url(#p7c2828596b)\" d=\"M 527.905973 524.500841 \nL 536.495874 524.500841 \nL 536.495874 496.833139 \nL 527.905973 496.833139 \nz\n\" style=\"fill:#e24a33;\"/>\n   </g>\n   <g id=\"patch_106\">\n    <path clip-path=\"url(#p7c2828596b)\" d=\"M 545.085776 524.500841 \nL 553.675677 524.500841 \nL 553.675677 518.14878 \nL 545.085776 518.14878 \nz\n\" style=\"fill:#e24a33;\"/>\n   </g>\n   <g id=\"patch_107\">\n    <path clip-path=\"url(#p7c2828596b)\" d=\"M 562.265579 524.500841 \nL 570.85548 524.500841 \nL 570.85548 524.117159 \nL 562.265579 524.117159 \nz\n\" style=\"fill:#e24a33;\"/>\n   </g>\n   <g id=\"patch_108\">\n    <path d=\"M 334.63319 524.500841 \nL 334.63319 339.182659 \n\" style=\"fill:none;stroke:#ffffff;stroke-linecap:square;stroke-linejoin:miter;\"/>\n   </g>\n   <g id=\"patch_109\">\n    <path d=\"M 575.150431 524.500841 \nL 575.150431 339.182659 \n\" style=\"fill:none;stroke:#ffffff;stroke-linecap:square;stroke-linejoin:miter;\"/>\n   </g>\n   <g id=\"patch_110\">\n    <path d=\"M 334.63319 524.500841 \nL 575.150431 524.500841 \n\" style=\"fill:none;stroke:#ffffff;stroke-linecap:square;stroke-linejoin:miter;\"/>\n   </g>\n   <g id=\"patch_111\">\n    <path d=\"M 334.63319 339.182659 \nL 575.150431 339.182659 \n\" style=\"fill:none;stroke:#ffffff;stroke-linecap:square;stroke-linejoin:miter;\"/>\n   </g>\n   <g id=\"text_120\">\n    <!-- Occupation -->\n    <g transform=\"translate(413.96881 333.182659)scale(0.144 -0.144)\">\n     <use xlink:href=\"#DejaVuSans-79\"/>\n     <use x=\"78.710938\" xlink:href=\"#DejaVuSans-99\"/>\n     <use x=\"133.691406\" xlink:href=\"#DejaVuSans-99\"/>\n     <use x=\"188.671875\" xlink:href=\"#DejaVuSans-117\"/>\n     <use x=\"252.050781\" xlink:href=\"#DejaVuSans-112\"/>\n     <use x=\"315.527344\" xlink:href=\"#DejaVuSans-97\"/>\n     <use x=\"376.806641\" xlink:href=\"#DejaVuSans-116\"/>\n     <use x=\"416.015625\" xlink:href=\"#DejaVuSans-105\"/>\n     <use x=\"443.798828\" xlink:href=\"#DejaVuSans-111\"/>\n     <use x=\"504.980469\" xlink:href=\"#DejaVuSans-110\"/>\n    </g>\n   </g>\n  </g>\n  <g id=\"axes_8\">\n   <g id=\"patch_112\">\n    <path d=\"M 623.253879 524.500841 \nL 863.771121 524.500841 \nL 863.771121 339.182659 \nL 623.253879 339.182659 \nz\n\" style=\"fill:#e5e5e5;\"/>\n   </g>\n   <g id=\"matplotlib.axis_15\">\n    <g id=\"xtick_63\">\n     <g id=\"line2d_225\">\n      <path clip-path=\"url(#pb2279fce70)\" d=\"M 643.296983 524.500841 \nL 643.296983 339.182659 \n\" style=\"fill:none;stroke:#ffffff;stroke-linecap:square;stroke-width:0.8;\"/>\n     </g>\n     <g id=\"line2d_226\">\n      <g>\n       <use style=\"fill:#555555;stroke:#555555;stroke-width:0.8;\" x=\"643.296983\" xlink:href=\"#mdde19dd8b5\" y=\"524.500841\"/>\n      </g>\n     </g>\n     <g id=\"text_121\">\n      <!--  Husband -->\n      <g style=\"fill:#555555;\" transform=\"translate(646.056358 578.908653)rotate(-90)scale(0.1 -0.1)\">\n       <use xlink:href=\"#DejaVuSans-32\"/>\n       <use x=\"31.787109\" xlink:href=\"#DejaVuSans-72\"/>\n       <use x=\"106.982422\" xlink:href=\"#DejaVuSans-117\"/>\n       <use x=\"170.361328\" xlink:href=\"#DejaVuSans-115\"/>\n       <use x=\"222.460938\" xlink:href=\"#DejaVuSans-98\"/>\n       <use x=\"285.9375\" xlink:href=\"#DejaVuSans-97\"/>\n       <use x=\"347.216797\" xlink:href=\"#DejaVuSans-110\"/>\n       <use x=\"410.595703\" xlink:href=\"#DejaVuSans-100\"/>\n      </g>\n     </g>\n    </g>\n    <g id=\"xtick_64\">\n     <g id=\"line2d_227\">\n      <path clip-path=\"url(#pb2279fce70)\" d=\"M 683.38319 524.500841 \nL 683.38319 339.182659 \n\" style=\"fill:none;stroke:#ffffff;stroke-linecap:square;stroke-width:0.8;\"/>\n     </g>\n     <g id=\"line2d_228\">\n      <g>\n       <use style=\"fill:#555555;stroke:#555555;stroke-width:0.8;\" x=\"683.38319\" xlink:href=\"#mdde19dd8b5\" y=\"524.500841\"/>\n      </g>\n     </g>\n     <g id=\"text_122\">\n      <!--  Not-in-family -->\n      <g style=\"fill:#555555;\" transform=\"translate(686.142565 599.394591)rotate(-90)scale(0.1 -0.1)\">\n       <use xlink:href=\"#DejaVuSans-32\"/>\n       <use x=\"31.787109\" xlink:href=\"#DejaVuSans-78\"/>\n       <use x=\"106.591797\" xlink:href=\"#DejaVuSans-111\"/>\n       <use x=\"167.773438\" xlink:href=\"#DejaVuSans-116\"/>\n       <use x=\"206.982422\" xlink:href=\"#DejaVuSans-45\"/>\n       <use x=\"243.066406\" xlink:href=\"#DejaVuSans-105\"/>\n       <use x=\"270.849609\" xlink:href=\"#DejaVuSans-110\"/>\n       <use x=\"334.228516\" xlink:href=\"#DejaVuSans-45\"/>\n       <use x=\"370.3125\" xlink:href=\"#DejaVuSans-102\"/>\n       <use x=\"405.517578\" xlink:href=\"#DejaVuSans-97\"/>\n       <use x=\"466.796875\" xlink:href=\"#DejaVuSans-109\"/>\n       <use x=\"564.208984\" xlink:href=\"#DejaVuSans-105\"/>\n       <use x=\"591.992188\" xlink:href=\"#DejaVuSans-108\"/>\n       <use x=\"619.775391\" xlink:href=\"#DejaVuSans-121\"/>\n      </g>\n     </g>\n    </g>\n    <g id=\"xtick_65\">\n     <g id=\"line2d_229\">\n      <path clip-path=\"url(#pb2279fce70)\" d=\"M 723.469397 524.500841 \nL 723.469397 339.182659 \n\" style=\"fill:none;stroke:#ffffff;stroke-linecap:square;stroke-width:0.8;\"/>\n     </g>\n     <g id=\"line2d_230\">\n      <g>\n       <use style=\"fill:#555555;stroke:#555555;stroke-width:0.8;\" x=\"723.469397\" xlink:href=\"#mdde19dd8b5\" y=\"524.500841\"/>\n      </g>\n     </g>\n     <g id=\"text_123\">\n      <!--  Own-child -->\n      <g style=\"fill:#555555;\" transform=\"translate(726.228772 584.414903)rotate(-90)scale(0.1 -0.1)\">\n       <use xlink:href=\"#DejaVuSans-32\"/>\n       <use x=\"31.787109\" xlink:href=\"#DejaVuSans-79\"/>\n       <use x=\"110.498047\" xlink:href=\"#DejaVuSans-119\"/>\n       <use x=\"192.285156\" xlink:href=\"#DejaVuSans-110\"/>\n       <use x=\"255.664062\" xlink:href=\"#DejaVuSans-45\"/>\n       <use x=\"291.748047\" xlink:href=\"#DejaVuSans-99\"/>\n       <use x=\"346.728516\" xlink:href=\"#DejaVuSans-104\"/>\n       <use x=\"410.107422\" xlink:href=\"#DejaVuSans-105\"/>\n       <use x=\"437.890625\" xlink:href=\"#DejaVuSans-108\"/>\n       <use x=\"465.673828\" xlink:href=\"#DejaVuSans-100\"/>\n      </g>\n     </g>\n    </g>\n    <g id=\"xtick_66\">\n     <g id=\"line2d_231\">\n      <path clip-path=\"url(#pb2279fce70)\" d=\"M 763.555603 524.500841 \nL 763.555603 339.182659 \n\" style=\"fill:none;stroke:#ffffff;stroke-linecap:square;stroke-width:0.8;\"/>\n     </g>\n     <g id=\"line2d_232\">\n      <g>\n       <use style=\"fill:#555555;stroke:#555555;stroke-width:0.8;\" x=\"763.555603\" xlink:href=\"#mdde19dd8b5\" y=\"524.500841\"/>\n      </g>\n     </g>\n     <g id=\"text_124\">\n      <!--  Unmarried -->\n      <defs>\n       <path d=\"M 8.6875 72.90625 \nL 18.609375 72.90625 \nL 18.609375 28.609375 \nQ 18.609375 16.890625 22.84375 11.734375 \nQ 27.09375 6.59375 36.625 6.59375 \nQ 46.09375 6.59375 50.34375 11.734375 \nQ 54.59375 16.890625 54.59375 28.609375 \nL 54.59375 72.90625 \nL 64.5 72.90625 \nL 64.5 27.390625 \nQ 64.5 13.140625 57.4375 5.859375 \nQ 50.390625 -1.421875 36.625 -1.421875 \nQ 22.796875 -1.421875 15.734375 5.859375 \nQ 8.6875 13.140625 8.6875 27.390625 \nz\n\" id=\"DejaVuSans-85\"/>\n      </defs>\n      <g style=\"fill:#555555;\" transform=\"translate(766.314978 587.530528)rotate(-90)scale(0.1 -0.1)\">\n       <use xlink:href=\"#DejaVuSans-32\"/>\n       <use x=\"31.787109\" xlink:href=\"#DejaVuSans-85\"/>\n       <use x=\"104.980469\" xlink:href=\"#DejaVuSans-110\"/>\n       <use x=\"168.359375\" xlink:href=\"#DejaVuSans-109\"/>\n       <use x=\"265.771484\" xlink:href=\"#DejaVuSans-97\"/>\n       <use x=\"327.050781\" xlink:href=\"#DejaVuSans-114\"/>\n       <use x=\"366.414062\" xlink:href=\"#DejaVuSans-114\"/>\n       <use x=\"407.527344\" xlink:href=\"#DejaVuSans-105\"/>\n       <use x=\"435.310547\" xlink:href=\"#DejaVuSans-101\"/>\n       <use x=\"496.833984\" xlink:href=\"#DejaVuSans-100\"/>\n      </g>\n     </g>\n    </g>\n    <g id=\"xtick_67\">\n     <g id=\"line2d_233\">\n      <path clip-path=\"url(#pb2279fce70)\" d=\"M 803.64181 524.500841 \nL 803.64181 339.182659 \n\" style=\"fill:none;stroke:#ffffff;stroke-linecap:square;stroke-width:0.8;\"/>\n     </g>\n     <g id=\"line2d_234\">\n      <g>\n       <use style=\"fill:#555555;stroke:#555555;stroke-width:0.8;\" x=\"803.64181\" xlink:href=\"#mdde19dd8b5\" y=\"524.500841\"/>\n      </g>\n     </g>\n     <g id=\"text_125\">\n      <!--  Wife -->\n      <g style=\"fill:#555555;\" transform=\"translate(806.401185 556.793028)rotate(-90)scale(0.1 -0.1)\">\n       <use xlink:href=\"#DejaVuSans-32\"/>\n       <use x=\"31.787109\" xlink:href=\"#DejaVuSans-87\"/>\n       <use x=\"128.414062\" xlink:href=\"#DejaVuSans-105\"/>\n       <use x=\"156.197266\" xlink:href=\"#DejaVuSans-102\"/>\n       <use x=\"191.402344\" xlink:href=\"#DejaVuSans-101\"/>\n      </g>\n     </g>\n    </g>\n    <g id=\"xtick_68\">\n     <g id=\"line2d_235\">\n      <path clip-path=\"url(#pb2279fce70)\" d=\"M 843.728017 524.500841 \nL 843.728017 339.182659 \n\" style=\"fill:none;stroke:#ffffff;stroke-linecap:square;stroke-width:0.8;\"/>\n     </g>\n     <g id=\"line2d_236\">\n      <g>\n       <use style=\"fill:#555555;stroke:#555555;stroke-width:0.8;\" x=\"843.728017\" xlink:href=\"#mdde19dd8b5\" y=\"524.500841\"/>\n      </g>\n     </g>\n     <g id=\"text_126\">\n      <!--  Other-relative -->\n      <g style=\"fill:#555555;\" transform=\"translate(846.487392 603.758653)rotate(-90)scale(0.1 -0.1)\">\n       <use xlink:href=\"#DejaVuSans-32\"/>\n       <use x=\"31.787109\" xlink:href=\"#DejaVuSans-79\"/>\n       <use x=\"110.498047\" xlink:href=\"#DejaVuSans-116\"/>\n       <use x=\"149.707031\" xlink:href=\"#DejaVuSans-104\"/>\n       <use x=\"213.085938\" xlink:href=\"#DejaVuSans-101\"/>\n       <use x=\"274.609375\" xlink:href=\"#DejaVuSans-114\"/>\n       <use x=\"309.347656\" xlink:href=\"#DejaVuSans-45\"/>\n       <use x=\"345.431641\" xlink:href=\"#DejaVuSans-114\"/>\n       <use x=\"384.294922\" xlink:href=\"#DejaVuSans-101\"/>\n       <use x=\"445.818359\" xlink:href=\"#DejaVuSans-108\"/>\n       <use x=\"473.601562\" xlink:href=\"#DejaVuSans-97\"/>\n       <use x=\"534.880859\" xlink:href=\"#DejaVuSans-116\"/>\n       <use x=\"574.089844\" xlink:href=\"#DejaVuSans-105\"/>\n       <use x=\"601.873047\" xlink:href=\"#DejaVuSans-118\"/>\n       <use x=\"661.052734\" xlink:href=\"#DejaVuSans-101\"/>\n      </g>\n     </g>\n    </g>\n   </g>\n   <g id=\"matplotlib.axis_16\">\n    <g id=\"ytick_51\">\n     <g id=\"line2d_237\">\n      <path clip-path=\"url(#pb2279fce70)\" d=\"M 623.253879 524.500841 \nL 863.771121 524.500841 \n\" style=\"fill:none;stroke:#ffffff;stroke-linecap:square;stroke-width:0.8;\"/>\n     </g>\n     <g id=\"line2d_238\">\n      <g>\n       <use style=\"fill:#555555;stroke:#555555;stroke-width:0.8;\" x=\"623.253879\" xlink:href=\"#m29fc131eff\" y=\"524.500841\"/>\n      </g>\n     </g>\n     <g id=\"text_127\">\n      <!-- 0 -->\n      <g style=\"fill:#555555;\" transform=\"translate(609.891379 528.30006)scale(0.1 -0.1)\">\n       <use xlink:href=\"#DejaVuSans-48\"/>\n      </g>\n     </g>\n    </g>\n    <g id=\"ytick_52\">\n     <g id=\"line2d_239\">\n      <path clip-path=\"url(#pb2279fce70)\" d=\"M 623.253879 497.745212 \nL 863.771121 497.745212 \n\" style=\"fill:none;stroke:#ffffff;stroke-linecap:square;stroke-width:0.8;\"/>\n     </g>\n     <g id=\"line2d_240\">\n      <g>\n       <use style=\"fill:#555555;stroke:#555555;stroke-width:0.8;\" x=\"623.253879\" xlink:href=\"#m29fc131eff\" y=\"497.745212\"/>\n      </g>\n     </g>\n     <g id=\"text_128\">\n      <!-- 2000 -->\n      <g style=\"fill:#555555;\" transform=\"translate(590.803879 501.544431)scale(0.1 -0.1)\">\n       <use xlink:href=\"#DejaVuSans-50\"/>\n       <use x=\"63.623047\" xlink:href=\"#DejaVuSans-48\"/>\n       <use x=\"127.246094\" xlink:href=\"#DejaVuSans-48\"/>\n       <use x=\"190.869141\" xlink:href=\"#DejaVuSans-48\"/>\n      </g>\n     </g>\n    </g>\n    <g id=\"ytick_53\">\n     <g id=\"line2d_241\">\n      <path clip-path=\"url(#pb2279fce70)\" d=\"M 623.253879 470.989583 \nL 863.771121 470.989583 \n\" style=\"fill:none;stroke:#ffffff;stroke-linecap:square;stroke-width:0.8;\"/>\n     </g>\n     <g id=\"line2d_242\">\n      <g>\n       <use style=\"fill:#555555;stroke:#555555;stroke-width:0.8;\" x=\"623.253879\" xlink:href=\"#m29fc131eff\" y=\"470.989583\"/>\n      </g>\n     </g>\n     <g id=\"text_129\">\n      <!-- 4000 -->\n      <g style=\"fill:#555555;\" transform=\"translate(590.803879 474.788802)scale(0.1 -0.1)\">\n       <use xlink:href=\"#DejaVuSans-52\"/>\n       <use x=\"63.623047\" xlink:href=\"#DejaVuSans-48\"/>\n       <use x=\"127.246094\" xlink:href=\"#DejaVuSans-48\"/>\n       <use x=\"190.869141\" xlink:href=\"#DejaVuSans-48\"/>\n      </g>\n     </g>\n    </g>\n    <g id=\"ytick_54\">\n     <g id=\"line2d_243\">\n      <path clip-path=\"url(#pb2279fce70)\" d=\"M 623.253879 444.233954 \nL 863.771121 444.233954 \n\" style=\"fill:none;stroke:#ffffff;stroke-linecap:square;stroke-width:0.8;\"/>\n     </g>\n     <g id=\"line2d_244\">\n      <g>\n       <use style=\"fill:#555555;stroke:#555555;stroke-width:0.8;\" x=\"623.253879\" xlink:href=\"#m29fc131eff\" y=\"444.233954\"/>\n      </g>\n     </g>\n     <g id=\"text_130\">\n      <!-- 6000 -->\n      <g style=\"fill:#555555;\" transform=\"translate(590.803879 448.033173)scale(0.1 -0.1)\">\n       <use xlink:href=\"#DejaVuSans-54\"/>\n       <use x=\"63.623047\" xlink:href=\"#DejaVuSans-48\"/>\n       <use x=\"127.246094\" xlink:href=\"#DejaVuSans-48\"/>\n       <use x=\"190.869141\" xlink:href=\"#DejaVuSans-48\"/>\n      </g>\n     </g>\n    </g>\n    <g id=\"ytick_55\">\n     <g id=\"line2d_245\">\n      <path clip-path=\"url(#pb2279fce70)\" d=\"M 623.253879 417.478325 \nL 863.771121 417.478325 \n\" style=\"fill:none;stroke:#ffffff;stroke-linecap:square;stroke-width:0.8;\"/>\n     </g>\n     <g id=\"line2d_246\">\n      <g>\n       <use style=\"fill:#555555;stroke:#555555;stroke-width:0.8;\" x=\"623.253879\" xlink:href=\"#m29fc131eff\" y=\"417.478325\"/>\n      </g>\n     </g>\n     <g id=\"text_131\">\n      <!-- 8000 -->\n      <g style=\"fill:#555555;\" transform=\"translate(590.803879 421.277544)scale(0.1 -0.1)\">\n       <use xlink:href=\"#DejaVuSans-56\"/>\n       <use x=\"63.623047\" xlink:href=\"#DejaVuSans-48\"/>\n       <use x=\"127.246094\" xlink:href=\"#DejaVuSans-48\"/>\n       <use x=\"190.869141\" xlink:href=\"#DejaVuSans-48\"/>\n      </g>\n     </g>\n    </g>\n    <g id=\"ytick_56\">\n     <g id=\"line2d_247\">\n      <path clip-path=\"url(#pb2279fce70)\" d=\"M 623.253879 390.722696 \nL 863.771121 390.722696 \n\" style=\"fill:none;stroke:#ffffff;stroke-linecap:square;stroke-width:0.8;\"/>\n     </g>\n     <g id=\"line2d_248\">\n      <g>\n       <use style=\"fill:#555555;stroke:#555555;stroke-width:0.8;\" x=\"623.253879\" xlink:href=\"#m29fc131eff\" y=\"390.722696\"/>\n      </g>\n     </g>\n     <g id=\"text_132\">\n      <!-- 10000 -->\n      <g style=\"fill:#555555;\" transform=\"translate(584.441379 394.521915)scale(0.1 -0.1)\">\n       <use xlink:href=\"#DejaVuSans-49\"/>\n       <use x=\"63.623047\" xlink:href=\"#DejaVuSans-48\"/>\n       <use x=\"127.246094\" xlink:href=\"#DejaVuSans-48\"/>\n       <use x=\"190.869141\" xlink:href=\"#DejaVuSans-48\"/>\n       <use x=\"254.492188\" xlink:href=\"#DejaVuSans-48\"/>\n      </g>\n     </g>\n    </g>\n    <g id=\"ytick_57\">\n     <g id=\"line2d_249\">\n      <path clip-path=\"url(#pb2279fce70)\" d=\"M 623.253879 363.967067 \nL 863.771121 363.967067 \n\" style=\"fill:none;stroke:#ffffff;stroke-linecap:square;stroke-width:0.8;\"/>\n     </g>\n     <g id=\"line2d_250\">\n      <g>\n       <use style=\"fill:#555555;stroke:#555555;stroke-width:0.8;\" x=\"623.253879\" xlink:href=\"#m29fc131eff\" y=\"363.967067\"/>\n      </g>\n     </g>\n     <g id=\"text_133\">\n      <!-- 12000 -->\n      <g style=\"fill:#555555;\" transform=\"translate(584.441379 367.766286)scale(0.1 -0.1)\">\n       <use xlink:href=\"#DejaVuSans-49\"/>\n       <use x=\"63.623047\" xlink:href=\"#DejaVuSans-50\"/>\n       <use x=\"127.246094\" xlink:href=\"#DejaVuSans-48\"/>\n       <use x=\"190.869141\" xlink:href=\"#DejaVuSans-48\"/>\n       <use x=\"254.492188\" xlink:href=\"#DejaVuSans-48\"/>\n      </g>\n     </g>\n    </g>\n   </g>\n   <g id=\"patch_113\">\n    <path clip-path=\"url(#pb2279fce70)\" d=\"M 633.275431 524.500841 \nL 653.318534 524.500841 \nL 653.318534 348.007334 \nL 633.275431 348.007334 \nz\n\" style=\"fill:#e24a33;\"/>\n   </g>\n   <g id=\"patch_114\">\n    <path clip-path=\"url(#pb2279fce70)\" d=\"M 673.361638 524.500841 \nL 693.404741 524.500841 \nL 693.404741 413.398092 \nL 673.361638 413.398092 \nz\n\" style=\"fill:#e24a33;\"/>\n   </g>\n   <g id=\"patch_115\">\n    <path clip-path=\"url(#pb2279fce70)\" d=\"M 713.447845 524.500841 \nL 733.490948 524.500841 \nL 733.490948 456.702077 \nL 713.447845 456.702077 \nz\n\" style=\"fill:#e24a33;\"/>\n   </g>\n   <g id=\"patch_116\">\n    <path clip-path=\"url(#pb2279fce70)\" d=\"M 753.534052 524.500841 \nL 773.577155 524.500841 \nL 773.577155 478.400892 \nL 753.534052 478.400892 \nz\n\" style=\"fill:#e24a33;\"/>\n   </g>\n   <g id=\"patch_117\">\n    <path clip-path=\"url(#pb2279fce70)\" d=\"M 793.620259 524.500841 \nL 813.663362 524.500841 \nL 813.663362 503.524428 \nL 793.620259 503.524428 \nz\n\" style=\"fill:#e24a33;\"/>\n   </g>\n   <g id=\"patch_118\">\n    <path clip-path=\"url(#pb2279fce70)\" d=\"M 833.706466 524.500841 \nL 853.749569 524.500841 \nL 853.749569 511.377205 \nL 833.706466 511.377205 \nz\n\" style=\"fill:#e24a33;\"/>\n   </g>\n   <g id=\"patch_119\">\n    <path d=\"M 623.253879 524.500841 \nL 623.253879 339.182659 \n\" style=\"fill:none;stroke:#ffffff;stroke-linecap:square;stroke-linejoin:miter;\"/>\n   </g>\n   <g id=\"patch_120\">\n    <path d=\"M 863.771121 524.500841 \nL 863.771121 339.182659 \n\" style=\"fill:none;stroke:#ffffff;stroke-linecap:square;stroke-linejoin:miter;\"/>\n   </g>\n   <g id=\"patch_121\">\n    <path d=\"M 623.253879 524.500841 \nL 863.771121 524.500841 \n\" style=\"fill:none;stroke:#ffffff;stroke-linecap:square;stroke-linejoin:miter;\"/>\n   </g>\n   <g id=\"patch_122\">\n    <path d=\"M 623.253879 339.182659 \nL 863.771121 339.182659 \n\" style=\"fill:none;stroke:#ffffff;stroke-linecap:square;stroke-linejoin:miter;\"/>\n   </g>\n   <g id=\"text_134\">\n    <!-- Relationship -->\n    <defs>\n     <path d=\"M 44.390625 34.1875 \nQ 47.5625 33.109375 50.5625 29.59375 \nQ 53.5625 26.078125 56.59375 19.921875 \nL 66.609375 0 \nL 56 0 \nL 46.6875 18.703125 \nQ 43.0625 26.03125 39.671875 28.421875 \nQ 36.28125 30.8125 30.421875 30.8125 \nL 19.671875 30.8125 \nL 19.671875 0 \nL 9.8125 0 \nL 9.8125 72.90625 \nL 32.078125 72.90625 \nQ 44.578125 72.90625 50.734375 67.671875 \nQ 56.890625 62.453125 56.890625 51.90625 \nQ 56.890625 45.015625 53.6875 40.46875 \nQ 50.484375 35.9375 44.390625 34.1875 \nz\nM 19.671875 64.796875 \nL 19.671875 38.921875 \nL 32.078125 38.921875 \nQ 39.203125 38.921875 42.84375 42.21875 \nQ 46.484375 45.515625 46.484375 51.90625 \nQ 46.484375 58.296875 42.84375 61.546875 \nQ 39.203125 64.796875 32.078125 64.796875 \nz\n\" id=\"DejaVuSans-82\"/>\n    </defs>\n    <g transform=\"translate(699.314625 333.182659)scale(0.144 -0.144)\">\n     <use xlink:href=\"#DejaVuSans-82\"/>\n     <use x=\"64.982422\" xlink:href=\"#DejaVuSans-101\"/>\n     <use x=\"126.505859\" xlink:href=\"#DejaVuSans-108\"/>\n     <use x=\"154.289062\" xlink:href=\"#DejaVuSans-97\"/>\n     <use x=\"215.568359\" xlink:href=\"#DejaVuSans-116\"/>\n     <use x=\"254.777344\" xlink:href=\"#DejaVuSans-105\"/>\n     <use x=\"282.560547\" xlink:href=\"#DejaVuSans-111\"/>\n     <use x=\"343.742188\" xlink:href=\"#DejaVuSans-110\"/>\n     <use x=\"407.121094\" xlink:href=\"#DejaVuSans-115\"/>\n     <use x=\"459.220703\" xlink:href=\"#DejaVuSans-104\"/>\n     <use x=\"522.599609\" xlink:href=\"#DejaVuSans-105\"/>\n     <use x=\"550.382812\" xlink:href=\"#DejaVuSans-112\"/>\n    </g>\n   </g>\n  </g>\n  <g id=\"axes_9\">\n   <g id=\"patch_123\">\n    <path d=\"M 911.874569 524.500841 \nL 1152.39181 524.500841 \nL 1152.39181 339.182659 \nL 911.874569 339.182659 \nz\n\" style=\"fill:#e5e5e5;\"/>\n   </g>\n   <g id=\"matplotlib.axis_17\">\n    <g id=\"xtick_69\">\n     <g id=\"line2d_251\">\n      <path clip-path=\"url(#p5f7cc8808e)\" d=\"M 935.926293 524.500841 \nL 935.926293 339.182659 \n\" style=\"fill:none;stroke:#ffffff;stroke-linecap:square;stroke-width:0.8;\"/>\n     </g>\n     <g id=\"line2d_252\">\n      <g>\n       <use style=\"fill:#555555;stroke:#555555;stroke-width:0.8;\" x=\"935.926293\" xlink:href=\"#mdde19dd8b5\" y=\"524.500841\"/>\n      </g>\n     </g>\n     <g id=\"text_135\">\n      <!--  White -->\n      <g style=\"fill:#555555;\" transform=\"translate(938.685668 563.755528)rotate(-90)scale(0.1 -0.1)\">\n       <use xlink:href=\"#DejaVuSans-32\"/>\n       <use x=\"31.787109\" xlink:href=\"#DejaVuSans-87\"/>\n       <use x=\"130.664062\" xlink:href=\"#DejaVuSans-104\"/>\n       <use x=\"194.042969\" xlink:href=\"#DejaVuSans-105\"/>\n       <use x=\"221.826172\" xlink:href=\"#DejaVuSans-116\"/>\n       <use x=\"261.035156\" xlink:href=\"#DejaVuSans-101\"/>\n      </g>\n     </g>\n    </g>\n    <g id=\"xtick_70\">\n     <g id=\"line2d_253\">\n      <path clip-path=\"url(#p5f7cc8808e)\" d=\"M 984.029741 524.500841 \nL 984.029741 339.182659 \n\" style=\"fill:none;stroke:#ffffff;stroke-linecap:square;stroke-width:0.8;\"/>\n     </g>\n     <g id=\"line2d_254\">\n      <g>\n       <use style=\"fill:#555555;stroke:#555555;stroke-width:0.8;\" x=\"984.029741\" xlink:href=\"#mdde19dd8b5\" y=\"524.500841\"/>\n      </g>\n     </g>\n     <g id=\"text_136\">\n      <!--  Black -->\n      <g style=\"fill:#555555;\" transform=\"translate(986.789116 561.735216)rotate(-90)scale(0.1 -0.1)\">\n       <use xlink:href=\"#DejaVuSans-32\"/>\n       <use x=\"31.787109\" xlink:href=\"#DejaVuSans-66\"/>\n       <use x=\"100.390625\" xlink:href=\"#DejaVuSans-108\"/>\n       <use x=\"128.173828\" xlink:href=\"#DejaVuSans-97\"/>\n       <use x=\"189.453125\" xlink:href=\"#DejaVuSans-99\"/>\n       <use x=\"244.433594\" xlink:href=\"#DejaVuSans-107\"/>\n      </g>\n     </g>\n    </g>\n    <g id=\"xtick_71\">\n     <g id=\"line2d_255\">\n      <path clip-path=\"url(#p5f7cc8808e)\" d=\"M 1032.13319 524.500841 \nL 1032.13319 339.182659 \n\" style=\"fill:none;stroke:#ffffff;stroke-linecap:square;stroke-width:0.8;\"/>\n     </g>\n     <g id=\"line2d_256\">\n      <g>\n       <use style=\"fill:#555555;stroke:#555555;stroke-width:0.8;\" x=\"1032.13319\" xlink:href=\"#mdde19dd8b5\" y=\"524.500841\"/>\n      </g>\n     </g>\n     <g id=\"text_137\">\n      <!--  Asian-Pac-Islander -->\n      <defs>\n       <path d=\"M 9.8125 72.90625 \nL 19.671875 72.90625 \nL 19.671875 0 \nL 9.8125 0 \nz\n\" id=\"DejaVuSans-73\"/>\n      </defs>\n      <g style=\"fill:#555555;\" transform=\"translate(1034.892565 626.410216)rotate(-90)scale(0.1 -0.1)\">\n       <use xlink:href=\"#DejaVuSans-32\"/>\n       <use x=\"31.787109\" xlink:href=\"#DejaVuSans-65\"/>\n       <use x=\"100.195312\" xlink:href=\"#DejaVuSans-115\"/>\n       <use x=\"152.294922\" xlink:href=\"#DejaVuSans-105\"/>\n       <use x=\"180.078125\" xlink:href=\"#DejaVuSans-97\"/>\n       <use x=\"241.357422\" xlink:href=\"#DejaVuSans-110\"/>\n       <use x=\"304.736328\" xlink:href=\"#DejaVuSans-45\"/>\n       <use x=\"340.820312\" xlink:href=\"#DejaVuSans-80\"/>\n       <use x=\"396.623047\" xlink:href=\"#DejaVuSans-97\"/>\n       <use x=\"457.902344\" xlink:href=\"#DejaVuSans-99\"/>\n       <use x=\"512.882812\" xlink:href=\"#DejaVuSans-45\"/>\n       <use x=\"548.966797\" xlink:href=\"#DejaVuSans-73\"/>\n       <use x=\"578.458984\" xlink:href=\"#DejaVuSans-115\"/>\n       <use x=\"630.558594\" xlink:href=\"#DejaVuSans-108\"/>\n       <use x=\"658.341797\" xlink:href=\"#DejaVuSans-97\"/>\n       <use x=\"719.621094\" xlink:href=\"#DejaVuSans-110\"/>\n       <use x=\"783\" xlink:href=\"#DejaVuSans-100\"/>\n       <use x=\"846.476562\" xlink:href=\"#DejaVuSans-101\"/>\n       <use x=\"908\" xlink:href=\"#DejaVuSans-114\"/>\n      </g>\n     </g>\n    </g>\n    <g id=\"xtick_72\">\n     <g id=\"line2d_257\">\n      <path clip-path=\"url(#p5f7cc8808e)\" d=\"M 1080.236638 524.500841 \nL 1080.236638 339.182659 \n\" style=\"fill:none;stroke:#ffffff;stroke-linecap:square;stroke-width:0.8;\"/>\n     </g>\n     <g id=\"line2d_258\">\n      <g>\n       <use style=\"fill:#555555;stroke:#555555;stroke-width:0.8;\" x=\"1080.236638\" xlink:href=\"#mdde19dd8b5\" y=\"524.500841\"/>\n      </g>\n     </g>\n     <g id=\"text_138\">\n      <!--  Amer-Indian-Eskimo -->\n      <g style=\"fill:#555555;\" transform=\"translate(1082.996013 634.938341)rotate(-90)scale(0.1 -0.1)\">\n       <use xlink:href=\"#DejaVuSans-32\"/>\n       <use x=\"31.787109\" xlink:href=\"#DejaVuSans-65\"/>\n       <use x=\"100.195312\" xlink:href=\"#DejaVuSans-109\"/>\n       <use x=\"197.607422\" xlink:href=\"#DejaVuSans-101\"/>\n       <use x=\"259.130859\" xlink:href=\"#DejaVuSans-114\"/>\n       <use x=\"293.869141\" xlink:href=\"#DejaVuSans-45\"/>\n       <use x=\"329.953125\" xlink:href=\"#DejaVuSans-73\"/>\n       <use x=\"359.445312\" xlink:href=\"#DejaVuSans-110\"/>\n       <use x=\"422.824219\" xlink:href=\"#DejaVuSans-100\"/>\n       <use x=\"486.300781\" xlink:href=\"#DejaVuSans-105\"/>\n       <use x=\"514.083984\" xlink:href=\"#DejaVuSans-97\"/>\n       <use x=\"575.363281\" xlink:href=\"#DejaVuSans-110\"/>\n       <use x=\"638.742188\" xlink:href=\"#DejaVuSans-45\"/>\n       <use x=\"674.826172\" xlink:href=\"#DejaVuSans-69\"/>\n       <use x=\"738.009766\" xlink:href=\"#DejaVuSans-115\"/>\n       <use x=\"790.109375\" xlink:href=\"#DejaVuSans-107\"/>\n       <use x=\"848.019531\" xlink:href=\"#DejaVuSans-105\"/>\n       <use x=\"875.802734\" xlink:href=\"#DejaVuSans-109\"/>\n       <use x=\"973.214844\" xlink:href=\"#DejaVuSans-111\"/>\n      </g>\n     </g>\n    </g>\n    <g id=\"xtick_73\">\n     <g id=\"line2d_259\">\n      <path clip-path=\"url(#p5f7cc8808e)\" d=\"M 1128.340086 524.500841 \nL 1128.340086 339.182659 \n\" style=\"fill:none;stroke:#ffffff;stroke-linecap:square;stroke-width:0.8;\"/>\n     </g>\n     <g id=\"line2d_260\">\n      <g>\n       <use style=\"fill:#555555;stroke:#555555;stroke-width:0.8;\" x=\"1128.340086\" xlink:href=\"#mdde19dd8b5\" y=\"524.500841\"/>\n      </g>\n     </g>\n     <g id=\"text_139\">\n      <!--  Other -->\n      <g style=\"fill:#555555;\" transform=\"translate(1131.099461 563.072716)rotate(-90)scale(0.1 -0.1)\">\n       <use xlink:href=\"#DejaVuSans-32\"/>\n       <use x=\"31.787109\" xlink:href=\"#DejaVuSans-79\"/>\n       <use x=\"110.498047\" xlink:href=\"#DejaVuSans-116\"/>\n       <use x=\"149.707031\" xlink:href=\"#DejaVuSans-104\"/>\n       <use x=\"213.085938\" xlink:href=\"#DejaVuSans-101\"/>\n       <use x=\"274.609375\" xlink:href=\"#DejaVuSans-114\"/>\n      </g>\n     </g>\n    </g>\n   </g>\n   <g id=\"matplotlib.axis_18\">\n    <g id=\"ytick_58\">\n     <g id=\"line2d_261\">\n      <path clip-path=\"url(#p5f7cc8808e)\" d=\"M 911.874569 524.500841 \nL 1152.39181 524.500841 \n\" style=\"fill:none;stroke:#ffffff;stroke-linecap:square;stroke-width:0.8;\"/>\n     </g>\n     <g id=\"line2d_262\">\n      <g>\n       <use style=\"fill:#555555;stroke:#555555;stroke-width:0.8;\" x=\"911.874569\" xlink:href=\"#m29fc131eff\" y=\"524.500841\"/>\n      </g>\n     </g>\n     <g id=\"text_140\">\n      <!-- 0 -->\n      <g style=\"fill:#555555;\" transform=\"translate(898.512069 528.30006)scale(0.1 -0.1)\">\n       <use xlink:href=\"#DejaVuSans-48\"/>\n      </g>\n     </g>\n    </g>\n    <g id=\"ytick_59\">\n     <g id=\"line2d_263\">\n      <path clip-path=\"url(#p5f7cc8808e)\" d=\"M 911.874569 492.775664 \nL 1152.39181 492.775664 \n\" style=\"fill:none;stroke:#ffffff;stroke-linecap:square;stroke-width:0.8;\"/>\n     </g>\n     <g id=\"line2d_264\">\n      <g>\n       <use style=\"fill:#555555;stroke:#555555;stroke-width:0.8;\" x=\"911.874569\" xlink:href=\"#m29fc131eff\" y=\"492.775664\"/>\n      </g>\n     </g>\n     <g id=\"text_141\">\n      <!-- 5000 -->\n      <g style=\"fill:#555555;\" transform=\"translate(879.424569 496.574882)scale(0.1 -0.1)\">\n       <use xlink:href=\"#DejaVuSans-53\"/>\n       <use x=\"63.623047\" xlink:href=\"#DejaVuSans-48\"/>\n       <use x=\"127.246094\" xlink:href=\"#DejaVuSans-48\"/>\n       <use x=\"190.869141\" xlink:href=\"#DejaVuSans-48\"/>\n      </g>\n     </g>\n    </g>\n    <g id=\"ytick_60\">\n     <g id=\"line2d_265\">\n      <path clip-path=\"url(#p5f7cc8808e)\" d=\"M 911.874569 461.050486 \nL 1152.39181 461.050486 \n\" style=\"fill:none;stroke:#ffffff;stroke-linecap:square;stroke-width:0.8;\"/>\n     </g>\n     <g id=\"line2d_266\">\n      <g>\n       <use style=\"fill:#555555;stroke:#555555;stroke-width:0.8;\" x=\"911.874569\" xlink:href=\"#m29fc131eff\" y=\"461.050486\"/>\n      </g>\n     </g>\n     <g id=\"text_142\">\n      <!-- 10000 -->\n      <g style=\"fill:#555555;\" transform=\"translate(873.062069 464.849705)scale(0.1 -0.1)\">\n       <use xlink:href=\"#DejaVuSans-49\"/>\n       <use x=\"63.623047\" xlink:href=\"#DejaVuSans-48\"/>\n       <use x=\"127.246094\" xlink:href=\"#DejaVuSans-48\"/>\n       <use x=\"190.869141\" xlink:href=\"#DejaVuSans-48\"/>\n       <use x=\"254.492188\" xlink:href=\"#DejaVuSans-48\"/>\n      </g>\n     </g>\n    </g>\n    <g id=\"ytick_61\">\n     <g id=\"line2d_267\">\n      <path clip-path=\"url(#p5f7cc8808e)\" d=\"M 911.874569 429.325309 \nL 1152.39181 429.325309 \n\" style=\"fill:none;stroke:#ffffff;stroke-linecap:square;stroke-width:0.8;\"/>\n     </g>\n     <g id=\"line2d_268\">\n      <g>\n       <use style=\"fill:#555555;stroke:#555555;stroke-width:0.8;\" x=\"911.874569\" xlink:href=\"#m29fc131eff\" y=\"429.325309\"/>\n      </g>\n     </g>\n     <g id=\"text_143\">\n      <!-- 15000 -->\n      <g style=\"fill:#555555;\" transform=\"translate(873.062069 433.124528)scale(0.1 -0.1)\">\n       <use xlink:href=\"#DejaVuSans-49\"/>\n       <use x=\"63.623047\" xlink:href=\"#DejaVuSans-53\"/>\n       <use x=\"127.246094\" xlink:href=\"#DejaVuSans-48\"/>\n       <use x=\"190.869141\" xlink:href=\"#DejaVuSans-48\"/>\n       <use x=\"254.492188\" xlink:href=\"#DejaVuSans-48\"/>\n      </g>\n     </g>\n    </g>\n    <g id=\"ytick_62\">\n     <g id=\"line2d_269\">\n      <path clip-path=\"url(#p5f7cc8808e)\" d=\"M 911.874569 397.600132 \nL 1152.39181 397.600132 \n\" style=\"fill:none;stroke:#ffffff;stroke-linecap:square;stroke-width:0.8;\"/>\n     </g>\n     <g id=\"line2d_270\">\n      <g>\n       <use style=\"fill:#555555;stroke:#555555;stroke-width:0.8;\" x=\"911.874569\" xlink:href=\"#m29fc131eff\" y=\"397.600132\"/>\n      </g>\n     </g>\n     <g id=\"text_144\">\n      <!-- 20000 -->\n      <g style=\"fill:#555555;\" transform=\"translate(873.062069 401.39935)scale(0.1 -0.1)\">\n       <use xlink:href=\"#DejaVuSans-50\"/>\n       <use x=\"63.623047\" xlink:href=\"#DejaVuSans-48\"/>\n       <use x=\"127.246094\" xlink:href=\"#DejaVuSans-48\"/>\n       <use x=\"190.869141\" xlink:href=\"#DejaVuSans-48\"/>\n       <use x=\"254.492188\" xlink:href=\"#DejaVuSans-48\"/>\n      </g>\n     </g>\n    </g>\n    <g id=\"ytick_63\">\n     <g id=\"line2d_271\">\n      <path clip-path=\"url(#p5f7cc8808e)\" d=\"M 911.874569 365.874954 \nL 1152.39181 365.874954 \n\" style=\"fill:none;stroke:#ffffff;stroke-linecap:square;stroke-width:0.8;\"/>\n     </g>\n     <g id=\"line2d_272\">\n      <g>\n       <use style=\"fill:#555555;stroke:#555555;stroke-width:0.8;\" x=\"911.874569\" xlink:href=\"#m29fc131eff\" y=\"365.874954\"/>\n      </g>\n     </g>\n     <g id=\"text_145\">\n      <!-- 25000 -->\n      <g style=\"fill:#555555;\" transform=\"translate(873.062069 369.674173)scale(0.1 -0.1)\">\n       <use xlink:href=\"#DejaVuSans-50\"/>\n       <use x=\"63.623047\" xlink:href=\"#DejaVuSans-53\"/>\n       <use x=\"127.246094\" xlink:href=\"#DejaVuSans-48\"/>\n       <use x=\"190.869141\" xlink:href=\"#DejaVuSans-48\"/>\n       <use x=\"254.492188\" xlink:href=\"#DejaVuSans-48\"/>\n      </g>\n     </g>\n    </g>\n   </g>\n   <g id=\"patch_124\">\n    <path clip-path=\"url(#p5f7cc8808e)\" d=\"M 923.900431 524.500841 \nL 947.952155 524.500841 \nL 947.952155 348.007334 \nL 923.900431 348.007334 \nz\n\" style=\"fill:#e24a33;\"/>\n   </g>\n   <g id=\"patch_125\">\n    <path clip-path=\"url(#p5f7cc8808e)\" d=\"M 972.003879 524.500841 \nL 996.055603 524.500841 \nL 996.055603 504.67895 \nL 972.003879 504.67895 \nz\n\" style=\"fill:#e24a33;\"/>\n   </g>\n   <g id=\"patch_126\">\n    <path clip-path=\"url(#p5f7cc8808e)\" d=\"M 1020.107328 524.500841 \nL 1044.159052 524.500841 \nL 1044.159052 517.908349 \nL 1020.107328 517.908349 \nz\n\" style=\"fill:#e24a33;\"/>\n   </g>\n   <g id=\"patch_127\">\n    <path clip-path=\"url(#p5f7cc8808e)\" d=\"M 1068.210776 524.500841 \nL 1092.2625 524.500841 \nL 1092.2625 522.527535 \nL 1068.210776 522.527535 \nz\n\" style=\"fill:#e24a33;\"/>\n   </g>\n   <g id=\"patch_128\">\n    <path clip-path=\"url(#p5f7cc8808e)\" d=\"M 1116.314224 524.500841 \nL 1140.365948 524.500841 \nL 1140.365948 522.781336 \nL 1116.314224 522.781336 \nz\n\" style=\"fill:#e24a33;\"/>\n   </g>\n   <g id=\"patch_129\">\n    <path d=\"M 911.874569 524.500841 \nL 911.874569 339.182659 \n\" style=\"fill:none;stroke:#ffffff;stroke-linecap:square;stroke-linejoin:miter;\"/>\n   </g>\n   <g id=\"patch_130\">\n    <path d=\"M 1152.39181 524.500841 \nL 1152.39181 339.182659 \n\" style=\"fill:none;stroke:#ffffff;stroke-linecap:square;stroke-linejoin:miter;\"/>\n   </g>\n   <g id=\"patch_131\">\n    <path d=\"M 911.874569 524.500841 \nL 1152.39181 524.500841 \n\" style=\"fill:none;stroke:#ffffff;stroke-linecap:square;stroke-linejoin:miter;\"/>\n   </g>\n   <g id=\"patch_132\">\n    <path d=\"M 911.874569 339.182659 \nL 1152.39181 339.182659 \n\" style=\"fill:none;stroke:#ffffff;stroke-linecap:square;stroke-linejoin:miter;\"/>\n   </g>\n   <g id=\"text_146\">\n    <!-- Race -->\n    <g transform=\"translate(1014.49094 333.182659)scale(0.144 -0.144)\">\n     <use xlink:href=\"#DejaVuSans-82\"/>\n     <use x=\"67.232422\" xlink:href=\"#DejaVuSans-97\"/>\n     <use x=\"128.511719\" xlink:href=\"#DejaVuSans-99\"/>\n     <use x=\"183.492188\" xlink:href=\"#DejaVuSans-101\"/>\n    </g>\n   </g>\n  </g>\n  <g id=\"axes_10\">\n   <g id=\"patch_133\">\n    <path d=\"M 1200.495259 524.500841 \nL 1441.0125 524.500841 \nL 1441.0125 339.182659 \nL 1200.495259 339.182659 \nz\n\" style=\"fill:#e5e5e5;\"/>\n   </g>\n   <g id=\"matplotlib.axis_19\">\n    <g id=\"xtick_74\">\n     <g id=\"line2d_273\">\n      <path clip-path=\"url(#ped5e072650)\" d=\"M 1260.624569 524.500841 \nL 1260.624569 339.182659 \n\" style=\"fill:none;stroke:#ffffff;stroke-linecap:square;stroke-width:0.8;\"/>\n     </g>\n     <g id=\"line2d_274\">\n      <g>\n       <use style=\"fill:#555555;stroke:#555555;stroke-width:0.8;\" x=\"1260.624569\" xlink:href=\"#mdde19dd8b5\" y=\"524.500841\"/>\n      </g>\n     </g>\n     <g id=\"text_147\">\n      <!--  Male -->\n      <g style=\"fill:#555555;\" transform=\"translate(1263.383944 558.366466)rotate(-90)scale(0.1 -0.1)\">\n       <use xlink:href=\"#DejaVuSans-32\"/>\n       <use x=\"31.787109\" xlink:href=\"#DejaVuSans-77\"/>\n       <use x=\"118.066406\" xlink:href=\"#DejaVuSans-97\"/>\n       <use x=\"179.345703\" xlink:href=\"#DejaVuSans-108\"/>\n       <use x=\"207.128906\" xlink:href=\"#DejaVuSans-101\"/>\n      </g>\n     </g>\n    </g>\n    <g id=\"xtick_75\">\n     <g id=\"line2d_275\">\n      <path clip-path=\"url(#ped5e072650)\" d=\"M 1380.88319 524.500841 \nL 1380.88319 339.182659 \n\" style=\"fill:none;stroke:#ffffff;stroke-linecap:square;stroke-width:0.8;\"/>\n     </g>\n     <g id=\"line2d_276\">\n      <g>\n       <use style=\"fill:#555555;stroke:#555555;stroke-width:0.8;\" x=\"1380.88319\" xlink:href=\"#mdde19dd8b5\" y=\"524.500841\"/>\n      </g>\n     </g>\n     <g id=\"text_148\">\n      <!--  Female -->\n      <g style=\"fill:#555555;\" transform=\"translate(1383.642565 570.833653)rotate(-90)scale(0.1 -0.1)\">\n       <use xlink:href=\"#DejaVuSans-32\"/>\n       <use x=\"31.787109\" xlink:href=\"#DejaVuSans-70\"/>\n       <use x=\"83.806641\" xlink:href=\"#DejaVuSans-101\"/>\n       <use x=\"145.330078\" xlink:href=\"#DejaVuSans-109\"/>\n       <use x=\"242.742188\" xlink:href=\"#DejaVuSans-97\"/>\n       <use x=\"304.021484\" xlink:href=\"#DejaVuSans-108\"/>\n       <use x=\"331.804688\" xlink:href=\"#DejaVuSans-101\"/>\n      </g>\n     </g>\n    </g>\n   </g>\n   <g id=\"matplotlib.axis_20\">\n    <g id=\"ytick_64\">\n     <g id=\"line2d_277\">\n      <path clip-path=\"url(#ped5e072650)\" d=\"M 1200.495259 524.500841 \nL 1441.0125 524.500841 \n\" style=\"fill:none;stroke:#ffffff;stroke-linecap:square;stroke-width:0.8;\"/>\n     </g>\n     <g id=\"line2d_278\">\n      <g>\n       <use style=\"fill:#555555;stroke:#555555;stroke-width:0.8;\" x=\"1200.495259\" xlink:href=\"#m29fc131eff\" y=\"524.500841\"/>\n      </g>\n     </g>\n     <g id=\"text_149\">\n      <!-- 0 -->\n      <g style=\"fill:#555555;\" transform=\"translate(1187.132759 528.30006)scale(0.1 -0.1)\">\n       <use xlink:href=\"#DejaVuSans-48\"/>\n      </g>\n     </g>\n    </g>\n    <g id=\"ytick_65\">\n     <g id=\"line2d_279\">\n      <path clip-path=\"url(#ped5e072650)\" d=\"M 1200.495259 484.002101 \nL 1441.0125 484.002101 \n\" style=\"fill:none;stroke:#ffffff;stroke-linecap:square;stroke-width:0.8;\"/>\n     </g>\n     <g id=\"line2d_280\">\n      <g>\n       <use style=\"fill:#555555;stroke:#555555;stroke-width:0.8;\" x=\"1200.495259\" xlink:href=\"#m29fc131eff\" y=\"484.002101\"/>\n      </g>\n     </g>\n     <g id=\"text_150\">\n      <!-- 5000 -->\n      <g style=\"fill:#555555;\" transform=\"translate(1168.045259 487.80132)scale(0.1 -0.1)\">\n       <use xlink:href=\"#DejaVuSans-53\"/>\n       <use x=\"63.623047\" xlink:href=\"#DejaVuSans-48\"/>\n       <use x=\"127.246094\" xlink:href=\"#DejaVuSans-48\"/>\n       <use x=\"190.869141\" xlink:href=\"#DejaVuSans-48\"/>\n      </g>\n     </g>\n    </g>\n    <g id=\"ytick_66\">\n     <g id=\"line2d_281\">\n      <path clip-path=\"url(#ped5e072650)\" d=\"M 1200.495259 443.503362 \nL 1441.0125 443.503362 \n\" style=\"fill:none;stroke:#ffffff;stroke-linecap:square;stroke-width:0.8;\"/>\n     </g>\n     <g id=\"line2d_282\">\n      <g>\n       <use style=\"fill:#555555;stroke:#555555;stroke-width:0.8;\" x=\"1200.495259\" xlink:href=\"#m29fc131eff\" y=\"443.503362\"/>\n      </g>\n     </g>\n     <g id=\"text_151\">\n      <!-- 10000 -->\n      <g style=\"fill:#555555;\" transform=\"translate(1161.682759 447.302581)scale(0.1 -0.1)\">\n       <use xlink:href=\"#DejaVuSans-49\"/>\n       <use x=\"63.623047\" xlink:href=\"#DejaVuSans-48\"/>\n       <use x=\"127.246094\" xlink:href=\"#DejaVuSans-48\"/>\n       <use x=\"190.869141\" xlink:href=\"#DejaVuSans-48\"/>\n       <use x=\"254.492188\" xlink:href=\"#DejaVuSans-48\"/>\n      </g>\n     </g>\n    </g>\n    <g id=\"ytick_67\">\n     <g id=\"line2d_283\">\n      <path clip-path=\"url(#ped5e072650)\" d=\"M 1200.495259 403.004623 \nL 1441.0125 403.004623 \n\" style=\"fill:none;stroke:#ffffff;stroke-linecap:square;stroke-width:0.8;\"/>\n     </g>\n     <g id=\"line2d_284\">\n      <g>\n       <use style=\"fill:#555555;stroke:#555555;stroke-width:0.8;\" x=\"1200.495259\" xlink:href=\"#m29fc131eff\" y=\"403.004623\"/>\n      </g>\n     </g>\n     <g id=\"text_152\">\n      <!-- 15000 -->\n      <g style=\"fill:#555555;\" transform=\"translate(1161.682759 406.803841)scale(0.1 -0.1)\">\n       <use xlink:href=\"#DejaVuSans-49\"/>\n       <use x=\"63.623047\" xlink:href=\"#DejaVuSans-53\"/>\n       <use x=\"127.246094\" xlink:href=\"#DejaVuSans-48\"/>\n       <use x=\"190.869141\" xlink:href=\"#DejaVuSans-48\"/>\n       <use x=\"254.492188\" xlink:href=\"#DejaVuSans-48\"/>\n      </g>\n     </g>\n    </g>\n    <g id=\"ytick_68\">\n     <g id=\"line2d_285\">\n      <path clip-path=\"url(#ped5e072650)\" d=\"M 1200.495259 362.505883 \nL 1441.0125 362.505883 \n\" style=\"fill:none;stroke:#ffffff;stroke-linecap:square;stroke-width:0.8;\"/>\n     </g>\n     <g id=\"line2d_286\">\n      <g>\n       <use style=\"fill:#555555;stroke:#555555;stroke-width:0.8;\" x=\"1200.495259\" xlink:href=\"#m29fc131eff\" y=\"362.505883\"/>\n      </g>\n     </g>\n     <g id=\"text_153\">\n      <!-- 20000 -->\n      <g style=\"fill:#555555;\" transform=\"translate(1161.682759 366.305102)scale(0.1 -0.1)\">\n       <use xlink:href=\"#DejaVuSans-50\"/>\n       <use x=\"63.623047\" xlink:href=\"#DejaVuSans-48\"/>\n       <use x=\"127.246094\" xlink:href=\"#DejaVuSans-48\"/>\n       <use x=\"190.869141\" xlink:href=\"#DejaVuSans-48\"/>\n       <use x=\"254.492188\" xlink:href=\"#DejaVuSans-48\"/>\n      </g>\n     </g>\n    </g>\n   </g>\n   <g id=\"patch_134\">\n    <path clip-path=\"url(#ped5e072650)\" d=\"M 1230.559914 524.500841 \nL 1290.689224 524.500841 \nL 1290.689224 348.007334 \nL 1230.559914 348.007334 \nz\n\" style=\"fill:#e24a33;\"/>\n   </g>\n   <g id=\"patch_135\">\n    <path clip-path=\"url(#ped5e072650)\" d=\"M 1350.818534 524.500841 \nL 1410.947845 524.500841 \nL 1410.947845 437.258456 \nL 1350.818534 437.258456 \nz\n\" style=\"fill:#e24a33;\"/>\n   </g>\n   <g id=\"patch_136\">\n    <path d=\"M 1200.495259 524.500841 \nL 1200.495259 339.182659 \n\" style=\"fill:none;stroke:#ffffff;stroke-linecap:square;stroke-linejoin:miter;\"/>\n   </g>\n   <g id=\"patch_137\">\n    <path d=\"M 1441.0125 524.500841 \nL 1441.0125 339.182659 \n\" style=\"fill:none;stroke:#ffffff;stroke-linecap:square;stroke-linejoin:miter;\"/>\n   </g>\n   <g id=\"patch_138\">\n    <path d=\"M 1200.495259 524.500841 \nL 1441.0125 524.500841 \n\" style=\"fill:none;stroke:#ffffff;stroke-linecap:square;stroke-linejoin:miter;\"/>\n   </g>\n   <g id=\"patch_139\">\n    <path d=\"M 1200.495259 339.182659 \nL 1441.0125 339.182659 \n\" style=\"fill:none;stroke:#ffffff;stroke-linecap:square;stroke-linejoin:miter;\"/>\n   </g>\n   <g id=\"text_154\">\n    <!-- Sex -->\n    <g transform=\"translate(1307.617254 333.182659)scale(0.144 -0.144)\">\n     <use xlink:href=\"#DejaVuSans-83\"/>\n     <use x=\"63.476562\" xlink:href=\"#DejaVuSans-101\"/>\n     <use x=\"123.25\" xlink:href=\"#DejaVuSans-120\"/>\n    </g>\n   </g>\n  </g>\n  <g id=\"axes_11\">\n   <g id=\"patch_140\">\n    <path d=\"M 46.0125 839.54175 \nL 286.529741 839.54175 \nL 286.529741 654.223568 \nL 46.0125 654.223568 \nz\n\" style=\"fill:#e5e5e5;\"/>\n   </g>\n   <g id=\"matplotlib.axis_21\">\n    <g id=\"xtick_76\">\n     <g id=\"line2d_287\">\n      <path clip-path=\"url(#p1680af61c5)\" d=\"M 56.945102 839.54175 \nL 56.945102 654.223568 \n\" style=\"fill:none;stroke:#ffffff;stroke-linecap:square;stroke-width:0.8;\"/>\n     </g>\n     <g id=\"line2d_288\">\n      <g>\n       <use style=\"fill:#555555;stroke:#555555;stroke-width:0.8;\" x=\"56.945102\" xlink:href=\"#mdde19dd8b5\" y=\"839.54175\"/>\n      </g>\n     </g>\n     <g id=\"text_155\">\n      <!-- 0 -->\n      <g style=\"fill:#555555;\" transform=\"translate(59.704477 852.90425)rotate(-90)scale(0.1 -0.1)\">\n       <use xlink:href=\"#DejaVuSans-48\"/>\n      </g>\n     </g>\n    </g>\n    <g id=\"xtick_77\">\n     <g id=\"line2d_289\">\n      <path clip-path=\"url(#p1680af61c5)\" d=\"M 100.675947 839.54175 \nL 100.675947 654.223568 \n\" style=\"fill:none;stroke:#ffffff;stroke-linecap:square;stroke-width:0.8;\"/>\n     </g>\n     <g id=\"line2d_290\">\n      <g>\n       <use style=\"fill:#555555;stroke:#555555;stroke-width:0.8;\" x=\"100.675947\" xlink:href=\"#mdde19dd8b5\" y=\"839.54175\"/>\n      </g>\n     </g>\n     <g id=\"text_156\">\n      <!-- 20000 -->\n      <g style=\"fill:#555555;\" transform=\"translate(103.435322 878.35425)rotate(-90)scale(0.1 -0.1)\">\n       <use xlink:href=\"#DejaVuSans-50\"/>\n       <use x=\"63.623047\" xlink:href=\"#DejaVuSans-48\"/>\n       <use x=\"127.246094\" xlink:href=\"#DejaVuSans-48\"/>\n       <use x=\"190.869141\" xlink:href=\"#DejaVuSans-48\"/>\n       <use x=\"254.492188\" xlink:href=\"#DejaVuSans-48\"/>\n      </g>\n     </g>\n    </g>\n    <g id=\"xtick_78\">\n     <g id=\"line2d_291\">\n      <path clip-path=\"url(#p1680af61c5)\" d=\"M 144.406792 839.54175 \nL 144.406792 654.223568 \n\" style=\"fill:none;stroke:#ffffff;stroke-linecap:square;stroke-width:0.8;\"/>\n     </g>\n     <g id=\"line2d_292\">\n      <g>\n       <use style=\"fill:#555555;stroke:#555555;stroke-width:0.8;\" x=\"144.406792\" xlink:href=\"#mdde19dd8b5\" y=\"839.54175\"/>\n      </g>\n     </g>\n     <g id=\"text_157\">\n      <!-- 40000 -->\n      <g style=\"fill:#555555;\" transform=\"translate(147.166167 878.35425)rotate(-90)scale(0.1 -0.1)\">\n       <use xlink:href=\"#DejaVuSans-52\"/>\n       <use x=\"63.623047\" xlink:href=\"#DejaVuSans-48\"/>\n       <use x=\"127.246094\" xlink:href=\"#DejaVuSans-48\"/>\n       <use x=\"190.869141\" xlink:href=\"#DejaVuSans-48\"/>\n       <use x=\"254.492188\" xlink:href=\"#DejaVuSans-48\"/>\n      </g>\n     </g>\n    </g>\n    <g id=\"xtick_79\">\n     <g id=\"line2d_293\">\n      <path clip-path=\"url(#p1680af61c5)\" d=\"M 188.137636 839.54175 \nL 188.137636 654.223568 \n\" style=\"fill:none;stroke:#ffffff;stroke-linecap:square;stroke-width:0.8;\"/>\n     </g>\n     <g id=\"line2d_294\">\n      <g>\n       <use style=\"fill:#555555;stroke:#555555;stroke-width:0.8;\" x=\"188.137636\" xlink:href=\"#mdde19dd8b5\" y=\"839.54175\"/>\n      </g>\n     </g>\n     <g id=\"text_158\">\n      <!-- 60000 -->\n      <g style=\"fill:#555555;\" transform=\"translate(190.897011 878.35425)rotate(-90)scale(0.1 -0.1)\">\n       <use xlink:href=\"#DejaVuSans-54\"/>\n       <use x=\"63.623047\" xlink:href=\"#DejaVuSans-48\"/>\n       <use x=\"127.246094\" xlink:href=\"#DejaVuSans-48\"/>\n       <use x=\"190.869141\" xlink:href=\"#DejaVuSans-48\"/>\n       <use x=\"254.492188\" xlink:href=\"#DejaVuSans-48\"/>\n      </g>\n     </g>\n    </g>\n    <g id=\"xtick_80\">\n     <g id=\"line2d_295\">\n      <path clip-path=\"url(#p1680af61c5)\" d=\"M 231.868481 839.54175 \nL 231.868481 654.223568 \n\" style=\"fill:none;stroke:#ffffff;stroke-linecap:square;stroke-width:0.8;\"/>\n     </g>\n     <g id=\"line2d_296\">\n      <g>\n       <use style=\"fill:#555555;stroke:#555555;stroke-width:0.8;\" x=\"231.868481\" xlink:href=\"#mdde19dd8b5\" y=\"839.54175\"/>\n      </g>\n     </g>\n     <g id=\"text_159\">\n      <!-- 80000 -->\n      <g style=\"fill:#555555;\" transform=\"translate(234.627856 878.35425)rotate(-90)scale(0.1 -0.1)\">\n       <use xlink:href=\"#DejaVuSans-56\"/>\n       <use x=\"63.623047\" xlink:href=\"#DejaVuSans-48\"/>\n       <use x=\"127.246094\" xlink:href=\"#DejaVuSans-48\"/>\n       <use x=\"190.869141\" xlink:href=\"#DejaVuSans-48\"/>\n       <use x=\"254.492188\" xlink:href=\"#DejaVuSans-48\"/>\n      </g>\n     </g>\n    </g>\n    <g id=\"xtick_81\">\n     <g id=\"line2d_297\">\n      <path clip-path=\"url(#p1680af61c5)\" d=\"M 275.599326 839.54175 \nL 275.599326 654.223568 \n\" style=\"fill:none;stroke:#ffffff;stroke-linecap:square;stroke-width:0.8;\"/>\n     </g>\n     <g id=\"line2d_298\">\n      <g>\n       <use style=\"fill:#555555;stroke:#555555;stroke-width:0.8;\" x=\"275.599326\" xlink:href=\"#mdde19dd8b5\" y=\"839.54175\"/>\n      </g>\n     </g>\n     <g id=\"text_160\">\n      <!-- 100000 -->\n      <g style=\"fill:#555555;\" transform=\"translate(278.358701 884.71675)rotate(-90)scale(0.1 -0.1)\">\n       <use xlink:href=\"#DejaVuSans-49\"/>\n       <use x=\"63.623047\" xlink:href=\"#DejaVuSans-48\"/>\n       <use x=\"127.246094\" xlink:href=\"#DejaVuSans-48\"/>\n       <use x=\"190.869141\" xlink:href=\"#DejaVuSans-48\"/>\n       <use x=\"254.492188\" xlink:href=\"#DejaVuSans-48\"/>\n       <use x=\"318.115234\" xlink:href=\"#DejaVuSans-48\"/>\n      </g>\n     </g>\n    </g>\n   </g>\n   <g id=\"matplotlib.axis_22\">\n    <g id=\"ytick_69\">\n     <g id=\"line2d_299\">\n      <path clip-path=\"url(#p1680af61c5)\" d=\"M 46.0125 839.54175 \nL 286.529741 839.54175 \n\" style=\"fill:none;stroke:#ffffff;stroke-linecap:square;stroke-width:0.8;\"/>\n     </g>\n     <g id=\"line2d_300\">\n      <g>\n       <use style=\"fill:#555555;stroke:#555555;stroke-width:0.8;\" x=\"46.0125\" xlink:href=\"#m29fc131eff\" y=\"839.54175\"/>\n      </g>\n     </g>\n     <g id=\"text_161\">\n      <!-- 0 -->\n      <g style=\"fill:#555555;\" transform=\"translate(32.65 843.340969)scale(0.1 -0.1)\">\n       <use xlink:href=\"#DejaVuSans-48\"/>\n      </g>\n     </g>\n    </g>\n    <g id=\"ytick_70\">\n     <g id=\"line2d_301\">\n      <path clip-path=\"url(#p1680af61c5)\" d=\"M 46.0125 811.783343 \nL 286.529741 811.783343 \n\" style=\"fill:none;stroke:#ffffff;stroke-linecap:square;stroke-width:0.8;\"/>\n     </g>\n     <g id=\"line2d_302\">\n      <g>\n       <use style=\"fill:#555555;stroke:#555555;stroke-width:0.8;\" x=\"46.0125\" xlink:href=\"#m29fc131eff\" y=\"811.783343\"/>\n      </g>\n     </g>\n     <g id=\"text_162\">\n      <!-- 5000 -->\n      <g style=\"fill:#555555;\" transform=\"translate(13.5625 815.582561)scale(0.1 -0.1)\">\n       <use xlink:href=\"#DejaVuSans-53\"/>\n       <use x=\"63.623047\" xlink:href=\"#DejaVuSans-48\"/>\n       <use x=\"127.246094\" xlink:href=\"#DejaVuSans-48\"/>\n       <use x=\"190.869141\" xlink:href=\"#DejaVuSans-48\"/>\n      </g>\n     </g>\n    </g>\n    <g id=\"ytick_71\">\n     <g id=\"line2d_303\">\n      <path clip-path=\"url(#p1680af61c5)\" d=\"M 46.0125 784.024935 \nL 286.529741 784.024935 \n\" style=\"fill:none;stroke:#ffffff;stroke-linecap:square;stroke-width:0.8;\"/>\n     </g>\n     <g id=\"line2d_304\">\n      <g>\n       <use style=\"fill:#555555;stroke:#555555;stroke-width:0.8;\" x=\"46.0125\" xlink:href=\"#m29fc131eff\" y=\"784.024935\"/>\n      </g>\n     </g>\n     <g id=\"text_163\">\n      <!-- 10000 -->\n      <g style=\"fill:#555555;\" transform=\"translate(7.2 787.824154)scale(0.1 -0.1)\">\n       <use xlink:href=\"#DejaVuSans-49\"/>\n       <use x=\"63.623047\" xlink:href=\"#DejaVuSans-48\"/>\n       <use x=\"127.246094\" xlink:href=\"#DejaVuSans-48\"/>\n       <use x=\"190.869141\" xlink:href=\"#DejaVuSans-48\"/>\n       <use x=\"254.492188\" xlink:href=\"#DejaVuSans-48\"/>\n      </g>\n     </g>\n    </g>\n    <g id=\"ytick_72\">\n     <g id=\"line2d_305\">\n      <path clip-path=\"url(#p1680af61c5)\" d=\"M 46.0125 756.266528 \nL 286.529741 756.266528 \n\" style=\"fill:none;stroke:#ffffff;stroke-linecap:square;stroke-width:0.8;\"/>\n     </g>\n     <g id=\"line2d_306\">\n      <g>\n       <use style=\"fill:#555555;stroke:#555555;stroke-width:0.8;\" x=\"46.0125\" xlink:href=\"#m29fc131eff\" y=\"756.266528\"/>\n      </g>\n     </g>\n     <g id=\"text_164\">\n      <!-- 15000 -->\n      <g style=\"fill:#555555;\" transform=\"translate(7.2 760.065746)scale(0.1 -0.1)\">\n       <use xlink:href=\"#DejaVuSans-49\"/>\n       <use x=\"63.623047\" xlink:href=\"#DejaVuSans-53\"/>\n       <use x=\"127.246094\" xlink:href=\"#DejaVuSans-48\"/>\n       <use x=\"190.869141\" xlink:href=\"#DejaVuSans-48\"/>\n       <use x=\"254.492188\" xlink:href=\"#DejaVuSans-48\"/>\n      </g>\n     </g>\n    </g>\n    <g id=\"ytick_73\">\n     <g id=\"line2d_307\">\n      <path clip-path=\"url(#p1680af61c5)\" d=\"M 46.0125 728.50812 \nL 286.529741 728.50812 \n\" style=\"fill:none;stroke:#ffffff;stroke-linecap:square;stroke-width:0.8;\"/>\n     </g>\n     <g id=\"line2d_308\">\n      <g>\n       <use style=\"fill:#555555;stroke:#555555;stroke-width:0.8;\" x=\"46.0125\" xlink:href=\"#m29fc131eff\" y=\"728.50812\"/>\n      </g>\n     </g>\n     <g id=\"text_165\">\n      <!-- 20000 -->\n      <g style=\"fill:#555555;\" transform=\"translate(7.2 732.307339)scale(0.1 -0.1)\">\n       <use xlink:href=\"#DejaVuSans-50\"/>\n       <use x=\"63.623047\" xlink:href=\"#DejaVuSans-48\"/>\n       <use x=\"127.246094\" xlink:href=\"#DejaVuSans-48\"/>\n       <use x=\"190.869141\" xlink:href=\"#DejaVuSans-48\"/>\n       <use x=\"254.492188\" xlink:href=\"#DejaVuSans-48\"/>\n      </g>\n     </g>\n    </g>\n    <g id=\"ytick_74\">\n     <g id=\"line2d_309\">\n      <path clip-path=\"url(#p1680af61c5)\" d=\"M 46.0125 700.749713 \nL 286.529741 700.749713 \n\" style=\"fill:none;stroke:#ffffff;stroke-linecap:square;stroke-width:0.8;\"/>\n     </g>\n     <g id=\"line2d_310\">\n      <g>\n       <use style=\"fill:#555555;stroke:#555555;stroke-width:0.8;\" x=\"46.0125\" xlink:href=\"#m29fc131eff\" y=\"700.749713\"/>\n      </g>\n     </g>\n     <g id=\"text_166\">\n      <!-- 25000 -->\n      <g style=\"fill:#555555;\" transform=\"translate(7.2 704.548931)scale(0.1 -0.1)\">\n       <use xlink:href=\"#DejaVuSans-50\"/>\n       <use x=\"63.623047\" xlink:href=\"#DejaVuSans-53\"/>\n       <use x=\"127.246094\" xlink:href=\"#DejaVuSans-48\"/>\n       <use x=\"190.869141\" xlink:href=\"#DejaVuSans-48\"/>\n       <use x=\"254.492188\" xlink:href=\"#DejaVuSans-48\"/>\n      </g>\n     </g>\n    </g>\n    <g id=\"ytick_75\">\n     <g id=\"line2d_311\">\n      <path clip-path=\"url(#p1680af61c5)\" d=\"M 46.0125 672.991305 \nL 286.529741 672.991305 \n\" style=\"fill:none;stroke:#ffffff;stroke-linecap:square;stroke-width:0.8;\"/>\n     </g>\n     <g id=\"line2d_312\">\n      <g>\n       <use style=\"fill:#555555;stroke:#555555;stroke-width:0.8;\" x=\"46.0125\" xlink:href=\"#m29fc131eff\" y=\"672.991305\"/>\n      </g>\n     </g>\n     <g id=\"text_167\">\n      <!-- 30000 -->\n      <g style=\"fill:#555555;\" transform=\"translate(7.2 676.790524)scale(0.1 -0.1)\">\n       <use xlink:href=\"#DejaVuSans-51\"/>\n       <use x=\"63.623047\" xlink:href=\"#DejaVuSans-48\"/>\n       <use x=\"127.246094\" xlink:href=\"#DejaVuSans-48\"/>\n       <use x=\"190.869141\" xlink:href=\"#DejaVuSans-48\"/>\n       <use x=\"254.492188\" xlink:href=\"#DejaVuSans-48\"/>\n      </g>\n     </g>\n    </g>\n   </g>\n   <g id=\"patch_141\">\n    <path clip-path=\"url(#p1680af61c5)\" d=\"M 56.945102 839.54175 \nL 78.810306 839.54175 \nL 78.810306 663.048244 \nL 56.945102 663.048244 \nz\n\" style=\"fill:#e24a33;\"/>\n   </g>\n   <g id=\"patch_142\">\n    <path clip-path=\"url(#p1680af61c5)\" d=\"M 78.810306 839.54175 \nL 100.675509 839.54175 \nL 100.675509 836.671531 \nL 78.810306 836.671531 \nz\n\" style=\"fill:#e24a33;\"/>\n   </g>\n   <g id=\"patch_143\">\n    <path clip-path=\"url(#p1680af61c5)\" d=\"M 100.675509 839.54175 \nL 122.540713 839.54175 \nL 122.540713 839.058754 \nL 100.675509 839.058754 \nz\n\" style=\"fill:#e24a33;\"/>\n   </g>\n   <g id=\"patch_144\">\n    <path clip-path=\"url(#p1680af61c5)\" d=\"M 122.540713 839.54175 \nL 144.405917 839.54175 \nL 144.405917 839.513992 \nL 122.540713 839.513992 \nz\n\" style=\"fill:#e24a33;\"/>\n   </g>\n   <g id=\"patch_145\">\n    <path clip-path=\"url(#p1680af61c5)\" d=\"M 144.405917 839.54175 \nL 166.271121 839.54175 \nL 166.271121 839.530647 \nL 144.405917 839.530647 \nz\n\" style=\"fill:#e24a33;\"/>\n   </g>\n   <g id=\"patch_146\">\n    <path clip-path=\"url(#p1680af61c5)\" d=\"M 166.271121 839.54175 \nL 188.136324 839.54175 \nL 188.136324 839.54175 \nL 166.271121 839.54175 \nz\n\" style=\"fill:#e24a33;\"/>\n   </g>\n   <g id=\"patch_147\">\n    <path clip-path=\"url(#p1680af61c5)\" d=\"M 188.136324 839.54175 \nL 210.001528 839.54175 \nL 210.001528 839.54175 \nL 188.136324 839.54175 \nz\n\" style=\"fill:#e24a33;\"/>\n   </g>\n   <g id=\"patch_148\">\n    <path clip-path=\"url(#p1680af61c5)\" d=\"M 210.001528 839.54175 \nL 231.866732 839.54175 \nL 231.866732 839.54175 \nL 210.001528 839.54175 \nz\n\" style=\"fill:#e24a33;\"/>\n   </g>\n   <g id=\"patch_149\">\n    <path clip-path=\"url(#p1680af61c5)\" d=\"M 231.866732 839.54175 \nL 253.731936 839.54175 \nL 253.731936 839.54175 \nL 231.866732 839.54175 \nz\n\" style=\"fill:#e24a33;\"/>\n   </g>\n   <g id=\"patch_150\">\n    <path clip-path=\"url(#p1680af61c5)\" d=\"M 253.731936 839.54175 \nL 275.597139 839.54175 \nL 275.597139 838.659033 \nL 253.731936 838.659033 \nz\n\" style=\"fill:#e24a33;\"/>\n   </g>\n   <g id=\"patch_151\">\n    <path d=\"M 46.0125 839.54175 \nL 46.0125 654.223568 \n\" style=\"fill:none;stroke:#ffffff;stroke-linecap:square;stroke-linejoin:miter;\"/>\n   </g>\n   <g id=\"patch_152\">\n    <path d=\"M 286.529741 839.54175 \nL 286.529741 654.223568 \n\" style=\"fill:none;stroke:#ffffff;stroke-linecap:square;stroke-linejoin:miter;\"/>\n   </g>\n   <g id=\"patch_153\">\n    <path d=\"M 46.0125 839.54175 \nL 286.529741 839.54175 \n\" style=\"fill:none;stroke:#ffffff;stroke-linecap:square;stroke-linejoin:miter;\"/>\n   </g>\n   <g id=\"patch_154\">\n    <path d=\"M 46.0125 654.223568 \nL 286.529741 654.223568 \n\" style=\"fill:none;stroke:#ffffff;stroke-linecap:square;stroke-linejoin:miter;\"/>\n   </g>\n   <g id=\"text_168\">\n    <!-- Capital_Gain -->\n    <defs>\n     <path d=\"M 59.515625 10.40625 \nL 59.515625 29.984375 \nL 43.40625 29.984375 \nL 43.40625 38.09375 \nL 69.28125 38.09375 \nL 69.28125 6.78125 \nQ 63.578125 2.734375 56.6875 0.65625 \nQ 49.8125 -1.421875 42 -1.421875 \nQ 24.90625 -1.421875 15.25 8.5625 \nQ 5.609375 18.5625 5.609375 36.375 \nQ 5.609375 54.25 15.25 64.234375 \nQ 24.90625 74.21875 42 74.21875 \nQ 49.125 74.21875 55.546875 72.453125 \nQ 61.96875 70.703125 67.390625 67.28125 \nL 67.390625 56.78125 \nQ 61.921875 61.421875 55.765625 63.765625 \nQ 49.609375 66.109375 42.828125 66.109375 \nQ 29.4375 66.109375 22.71875 58.640625 \nQ 16.015625 51.171875 16.015625 36.375 \nQ 16.015625 21.625 22.71875 14.15625 \nQ 29.4375 6.6875 42.828125 6.6875 \nQ 48.046875 6.6875 52.140625 7.59375 \nQ 56.25 8.5 59.515625 10.40625 \nz\n\" id=\"DejaVuSans-71\"/>\n    </defs>\n    <g transform=\"translate(120.870621 648.223568)scale(0.144 -0.144)\">\n     <use xlink:href=\"#DejaVuSans-67\"/>\n     <use x=\"69.824219\" xlink:href=\"#DejaVuSans-97\"/>\n     <use x=\"131.103516\" xlink:href=\"#DejaVuSans-112\"/>\n     <use x=\"194.580078\" xlink:href=\"#DejaVuSans-105\"/>\n     <use x=\"222.363281\" xlink:href=\"#DejaVuSans-116\"/>\n     <use x=\"261.572266\" xlink:href=\"#DejaVuSans-97\"/>\n     <use x=\"322.851562\" xlink:href=\"#DejaVuSans-108\"/>\n     <use x=\"350.634766\" xlink:href=\"#DejaVuSans-95\"/>\n     <use x=\"400.634766\" xlink:href=\"#DejaVuSans-71\"/>\n     <use x=\"478.125\" xlink:href=\"#DejaVuSans-97\"/>\n     <use x=\"539.404297\" xlink:href=\"#DejaVuSans-105\"/>\n     <use x=\"567.1875\" xlink:href=\"#DejaVuSans-110\"/>\n    </g>\n   </g>\n  </g>\n  <g id=\"axes_12\">\n   <g id=\"patch_155\">\n    <path d=\"M 334.63319 839.54175 \nL 575.150431 839.54175 \nL 575.150431 654.223568 \nL 334.63319 654.223568 \nz\n\" style=\"fill:#e5e5e5;\"/>\n   </g>\n   <g id=\"matplotlib.axis_23\">\n    <g id=\"xtick_82\">\n     <g id=\"line2d_313\">\n      <path clip-path=\"url(#pc270c5f45c)\" d=\"M 345.565792 839.54175 \nL 345.565792 654.223568 \n\" style=\"fill:none;stroke:#ffffff;stroke-linecap:square;stroke-width:0.8;\"/>\n     </g>\n     <g id=\"line2d_314\">\n      <g>\n       <use style=\"fill:#555555;stroke:#555555;stroke-width:0.8;\" x=\"345.565792\" xlink:href=\"#mdde19dd8b5\" y=\"839.54175\"/>\n      </g>\n     </g>\n     <g id=\"text_169\">\n      <!-- 0 -->\n      <g style=\"fill:#555555;\" transform=\"translate(348.325167 852.90425)rotate(-90)scale(0.1 -0.1)\">\n       <use xlink:href=\"#DejaVuSans-48\"/>\n      </g>\n     </g>\n    </g>\n    <g id=\"xtick_83\">\n     <g id=\"line2d_315\">\n      <path clip-path=\"url(#pc270c5f45c)\" d=\"M 395.761392 839.54175 \nL 395.761392 654.223568 \n\" style=\"fill:none;stroke:#ffffff;stroke-linecap:square;stroke-width:0.8;\"/>\n     </g>\n     <g id=\"line2d_316\">\n      <g>\n       <use style=\"fill:#555555;stroke:#555555;stroke-width:0.8;\" x=\"395.761392\" xlink:href=\"#mdde19dd8b5\" y=\"839.54175\"/>\n      </g>\n     </g>\n     <g id=\"text_170\">\n      <!-- 1000 -->\n      <g style=\"fill:#555555;\" transform=\"translate(398.520767 871.99175)rotate(-90)scale(0.1 -0.1)\">\n       <use xlink:href=\"#DejaVuSans-49\"/>\n       <use x=\"63.623047\" xlink:href=\"#DejaVuSans-48\"/>\n       <use x=\"127.246094\" xlink:href=\"#DejaVuSans-48\"/>\n       <use x=\"190.869141\" xlink:href=\"#DejaVuSans-48\"/>\n      </g>\n     </g>\n    </g>\n    <g id=\"xtick_84\">\n     <g id=\"line2d_317\">\n      <path clip-path=\"url(#pc270c5f45c)\" d=\"M 445.956993 839.54175 \nL 445.956993 654.223568 \n\" style=\"fill:none;stroke:#ffffff;stroke-linecap:square;stroke-width:0.8;\"/>\n     </g>\n     <g id=\"line2d_318\">\n      <g>\n       <use style=\"fill:#555555;stroke:#555555;stroke-width:0.8;\" x=\"445.956993\" xlink:href=\"#mdde19dd8b5\" y=\"839.54175\"/>\n      </g>\n     </g>\n     <g id=\"text_171\">\n      <!-- 2000 -->\n      <g style=\"fill:#555555;\" transform=\"translate(448.716368 871.99175)rotate(-90)scale(0.1 -0.1)\">\n       <use xlink:href=\"#DejaVuSans-50\"/>\n       <use x=\"63.623047\" xlink:href=\"#DejaVuSans-48\"/>\n       <use x=\"127.246094\" xlink:href=\"#DejaVuSans-48\"/>\n       <use x=\"190.869141\" xlink:href=\"#DejaVuSans-48\"/>\n      </g>\n     </g>\n    </g>\n    <g id=\"xtick_85\">\n     <g id=\"line2d_319\">\n      <path clip-path=\"url(#pc270c5f45c)\" d=\"M 496.152594 839.54175 \nL 496.152594 654.223568 \n\" style=\"fill:none;stroke:#ffffff;stroke-linecap:square;stroke-width:0.8;\"/>\n     </g>\n     <g id=\"line2d_320\">\n      <g>\n       <use style=\"fill:#555555;stroke:#555555;stroke-width:0.8;\" x=\"496.152594\" xlink:href=\"#mdde19dd8b5\" y=\"839.54175\"/>\n      </g>\n     </g>\n     <g id=\"text_172\">\n      <!-- 3000 -->\n      <g style=\"fill:#555555;\" transform=\"translate(498.911969 871.99175)rotate(-90)scale(0.1 -0.1)\">\n       <use xlink:href=\"#DejaVuSans-51\"/>\n       <use x=\"63.623047\" xlink:href=\"#DejaVuSans-48\"/>\n       <use x=\"127.246094\" xlink:href=\"#DejaVuSans-48\"/>\n       <use x=\"190.869141\" xlink:href=\"#DejaVuSans-48\"/>\n      </g>\n     </g>\n    </g>\n    <g id=\"xtick_86\">\n     <g id=\"line2d_321\">\n      <path clip-path=\"url(#pc270c5f45c)\" d=\"M 546.348195 839.54175 \nL 546.348195 654.223568 \n\" style=\"fill:none;stroke:#ffffff;stroke-linecap:square;stroke-width:0.8;\"/>\n     </g>\n     <g id=\"line2d_322\">\n      <g>\n       <use style=\"fill:#555555;stroke:#555555;stroke-width:0.8;\" x=\"546.348195\" xlink:href=\"#mdde19dd8b5\" y=\"839.54175\"/>\n      </g>\n     </g>\n     <g id=\"text_173\">\n      <!-- 4000 -->\n      <g style=\"fill:#555555;\" transform=\"translate(549.10757 871.99175)rotate(-90)scale(0.1 -0.1)\">\n       <use xlink:href=\"#DejaVuSans-52\"/>\n       <use x=\"63.623047\" xlink:href=\"#DejaVuSans-48\"/>\n       <use x=\"127.246094\" xlink:href=\"#DejaVuSans-48\"/>\n       <use x=\"190.869141\" xlink:href=\"#DejaVuSans-48\"/>\n      </g>\n     </g>\n    </g>\n   </g>\n   <g id=\"matplotlib.axis_24\">\n    <g id=\"ytick_76\">\n     <g id=\"line2d_323\">\n      <path clip-path=\"url(#pc270c5f45c)\" d=\"M 334.63319 839.54175 \nL 575.150431 839.54175 \n\" style=\"fill:none;stroke:#ffffff;stroke-linecap:square;stroke-width:0.8;\"/>\n     </g>\n     <g id=\"line2d_324\">\n      <g>\n       <use style=\"fill:#555555;stroke:#555555;stroke-width:0.8;\" x=\"334.63319\" xlink:href=\"#m29fc131eff\" y=\"839.54175\"/>\n      </g>\n     </g>\n     <g id=\"text_174\">\n      <!-- 0 -->\n      <g style=\"fill:#555555;\" transform=\"translate(321.27069 843.340969)scale(0.1 -0.1)\">\n       <use xlink:href=\"#DejaVuSans-48\"/>\n      </g>\n     </g>\n    </g>\n    <g id=\"ytick_77\">\n     <g id=\"line2d_325\">\n      <path clip-path=\"url(#pc270c5f45c)\" d=\"M 334.63319 811.123641 \nL 575.150431 811.123641 \n\" style=\"fill:none;stroke:#ffffff;stroke-linecap:square;stroke-width:0.8;\"/>\n     </g>\n     <g id=\"line2d_326\">\n      <g>\n       <use style=\"fill:#555555;stroke:#555555;stroke-width:0.8;\" x=\"334.63319\" xlink:href=\"#m29fc131eff\" y=\"811.123641\"/>\n      </g>\n     </g>\n     <g id=\"text_175\">\n      <!-- 5000 -->\n      <g style=\"fill:#555555;\" transform=\"translate(302.18319 814.92286)scale(0.1 -0.1)\">\n       <use xlink:href=\"#DejaVuSans-53\"/>\n       <use x=\"63.623047\" xlink:href=\"#DejaVuSans-48\"/>\n       <use x=\"127.246094\" xlink:href=\"#DejaVuSans-48\"/>\n       <use x=\"190.869141\" xlink:href=\"#DejaVuSans-48\"/>\n      </g>\n     </g>\n    </g>\n    <g id=\"ytick_78\">\n     <g id=\"line2d_327\">\n      <path clip-path=\"url(#pc270c5f45c)\" d=\"M 334.63319 782.705532 \nL 575.150431 782.705532 \n\" style=\"fill:none;stroke:#ffffff;stroke-linecap:square;stroke-width:0.8;\"/>\n     </g>\n     <g id=\"line2d_328\">\n      <g>\n       <use style=\"fill:#555555;stroke:#555555;stroke-width:0.8;\" x=\"334.63319\" xlink:href=\"#m29fc131eff\" y=\"782.705532\"/>\n      </g>\n     </g>\n     <g id=\"text_176\">\n      <!-- 10000 -->\n      <g style=\"fill:#555555;\" transform=\"translate(295.82069 786.504751)scale(0.1 -0.1)\">\n       <use xlink:href=\"#DejaVuSans-49\"/>\n       <use x=\"63.623047\" xlink:href=\"#DejaVuSans-48\"/>\n       <use x=\"127.246094\" xlink:href=\"#DejaVuSans-48\"/>\n       <use x=\"190.869141\" xlink:href=\"#DejaVuSans-48\"/>\n       <use x=\"254.492188\" xlink:href=\"#DejaVuSans-48\"/>\n      </g>\n     </g>\n    </g>\n    <g id=\"ytick_79\">\n     <g id=\"line2d_329\">\n      <path clip-path=\"url(#pc270c5f45c)\" d=\"M 334.63319 754.287424 \nL 575.150431 754.287424 \n\" style=\"fill:none;stroke:#ffffff;stroke-linecap:square;stroke-width:0.8;\"/>\n     </g>\n     <g id=\"line2d_330\">\n      <g>\n       <use style=\"fill:#555555;stroke:#555555;stroke-width:0.8;\" x=\"334.63319\" xlink:href=\"#m29fc131eff\" y=\"754.287424\"/>\n      </g>\n     </g>\n     <g id=\"text_177\">\n      <!-- 15000 -->\n      <g style=\"fill:#555555;\" transform=\"translate(295.82069 758.086642)scale(0.1 -0.1)\">\n       <use xlink:href=\"#DejaVuSans-49\"/>\n       <use x=\"63.623047\" xlink:href=\"#DejaVuSans-53\"/>\n       <use x=\"127.246094\" xlink:href=\"#DejaVuSans-48\"/>\n       <use x=\"190.869141\" xlink:href=\"#DejaVuSans-48\"/>\n       <use x=\"254.492188\" xlink:href=\"#DejaVuSans-48\"/>\n      </g>\n     </g>\n    </g>\n    <g id=\"ytick_80\">\n     <g id=\"line2d_331\">\n      <path clip-path=\"url(#pc270c5f45c)\" d=\"M 334.63319 725.869315 \nL 575.150431 725.869315 \n\" style=\"fill:none;stroke:#ffffff;stroke-linecap:square;stroke-width:0.8;\"/>\n     </g>\n     <g id=\"line2d_332\">\n      <g>\n       <use style=\"fill:#555555;stroke:#555555;stroke-width:0.8;\" x=\"334.63319\" xlink:href=\"#m29fc131eff\" y=\"725.869315\"/>\n      </g>\n     </g>\n     <g id=\"text_178\">\n      <!-- 20000 -->\n      <g style=\"fill:#555555;\" transform=\"translate(295.82069 729.668534)scale(0.1 -0.1)\">\n       <use xlink:href=\"#DejaVuSans-50\"/>\n       <use x=\"63.623047\" xlink:href=\"#DejaVuSans-48\"/>\n       <use x=\"127.246094\" xlink:href=\"#DejaVuSans-48\"/>\n       <use x=\"190.869141\" xlink:href=\"#DejaVuSans-48\"/>\n       <use x=\"254.492188\" xlink:href=\"#DejaVuSans-48\"/>\n      </g>\n     </g>\n    </g>\n    <g id=\"ytick_81\">\n     <g id=\"line2d_333\">\n      <path clip-path=\"url(#pc270c5f45c)\" d=\"M 334.63319 697.451206 \nL 575.150431 697.451206 \n\" style=\"fill:none;stroke:#ffffff;stroke-linecap:square;stroke-width:0.8;\"/>\n     </g>\n     <g id=\"line2d_334\">\n      <g>\n       <use style=\"fill:#555555;stroke:#555555;stroke-width:0.8;\" x=\"334.63319\" xlink:href=\"#m29fc131eff\" y=\"697.451206\"/>\n      </g>\n     </g>\n     <g id=\"text_179\">\n      <!-- 25000 -->\n      <g style=\"fill:#555555;\" transform=\"translate(295.82069 701.250425)scale(0.1 -0.1)\">\n       <use xlink:href=\"#DejaVuSans-50\"/>\n       <use x=\"63.623047\" xlink:href=\"#DejaVuSans-53\"/>\n       <use x=\"127.246094\" xlink:href=\"#DejaVuSans-48\"/>\n       <use x=\"190.869141\" xlink:href=\"#DejaVuSans-48\"/>\n       <use x=\"254.492188\" xlink:href=\"#DejaVuSans-48\"/>\n      </g>\n     </g>\n    </g>\n    <g id=\"ytick_82\">\n     <g id=\"line2d_335\">\n      <path clip-path=\"url(#pc270c5f45c)\" d=\"M 334.63319 669.033097 \nL 575.150431 669.033097 \n\" style=\"fill:none;stroke:#ffffff;stroke-linecap:square;stroke-width:0.8;\"/>\n     </g>\n     <g id=\"line2d_336\">\n      <g>\n       <use style=\"fill:#555555;stroke:#555555;stroke-width:0.8;\" x=\"334.63319\" xlink:href=\"#m29fc131eff\" y=\"669.033097\"/>\n      </g>\n     </g>\n     <g id=\"text_180\">\n      <!-- 30000 -->\n      <g style=\"fill:#555555;\" transform=\"translate(295.82069 672.832316)scale(0.1 -0.1)\">\n       <use xlink:href=\"#DejaVuSans-51\"/>\n       <use x=\"63.623047\" xlink:href=\"#DejaVuSans-48\"/>\n       <use x=\"127.246094\" xlink:href=\"#DejaVuSans-48\"/>\n       <use x=\"190.869141\" xlink:href=\"#DejaVuSans-48\"/>\n       <use x=\"254.492188\" xlink:href=\"#DejaVuSans-48\"/>\n      </g>\n     </g>\n    </g>\n   </g>\n   <g id=\"patch_156\">\n    <path clip-path=\"url(#pc270c5f45c)\" d=\"M 345.565792 839.54175 \nL 367.430995 839.54175 \nL 367.430995 663.048244 \nL 345.565792 663.048244 \nz\n\" style=\"fill:#e24a33;\"/>\n   </g>\n   <g id=\"patch_157\">\n    <path clip-path=\"url(#pc270c5f45c)\" d=\"M 367.430995 839.54175 \nL 389.296199 839.54175 \nL 389.296199 839.445128 \nL 367.430995 839.445128 \nz\n\" style=\"fill:#e24a33;\"/>\n   </g>\n   <g id=\"patch_158\">\n    <path clip-path=\"url(#pc270c5f45c)\" d=\"M 389.296199 839.54175 \nL 411.161403 839.54175 \nL 411.161403 839.422394 \nL 389.296199 839.422394 \nz\n\" style=\"fill:#e24a33;\"/>\n   </g>\n   <g id=\"patch_159\">\n    <path clip-path=\"url(#pc270c5f45c)\" d=\"M 411.161403 839.54175 \nL 433.026607 839.54175 \nL 433.026607 836.9216 \nL 411.161403 836.9216 \nz\n\" style=\"fill:#e24a33;\"/>\n   </g>\n   <g id=\"patch_160\">\n    <path clip-path=\"url(#pc270c5f45c)\" d=\"M 433.026607 839.54175 \nL 454.89181 839.54175 \nL 454.89181 835.114209 \nL 433.026607 835.114209 \nz\n\" style=\"fill:#e24a33;\"/>\n   </g>\n   <g id=\"patch_161\">\n    <path clip-path=\"url(#pc270c5f45c)\" d=\"M 454.89181 839.54175 \nL 476.757014 839.54175 \nL 476.757014 838.36524 \nL 454.89181 838.36524 \nz\n\" style=\"fill:#e24a33;\"/>\n   </g>\n   <g id=\"patch_162\">\n    <path clip-path=\"url(#pc270c5f45c)\" d=\"M 476.757014 839.54175 \nL 498.622218 839.54175 \nL 498.622218 839.462179 \nL 476.757014 839.462179 \nz\n\" style=\"fill:#e24a33;\"/>\n   </g>\n   <g id=\"patch_163\">\n    <path clip-path=\"url(#pc270c5f45c)\" d=\"M 498.622218 839.54175 \nL 520.487422 839.54175 \nL 520.487422 839.54175 \nL 498.622218 839.54175 \nz\n\" style=\"fill:#e24a33;\"/>\n   </g>\n   <g id=\"patch_164\">\n    <path clip-path=\"url(#pc270c5f45c)\" d=\"M 520.487422 839.54175 \nL 542.352625 839.54175 \nL 542.352625 839.507648 \nL 520.487422 839.507648 \nz\n\" style=\"fill:#e24a33;\"/>\n   </g>\n   <g id=\"patch_165\">\n    <path clip-path=\"url(#pc270c5f45c)\" d=\"M 542.352625 839.54175 \nL 564.217829 839.54175 \nL 564.217829 839.524699 \nL 542.352625 839.524699 \nz\n\" style=\"fill:#e24a33;\"/>\n   </g>\n   <g id=\"patch_166\">\n    <path d=\"M 334.63319 839.54175 \nL 334.63319 654.223568 \n\" style=\"fill:none;stroke:#ffffff;stroke-linecap:square;stroke-linejoin:miter;\"/>\n   </g>\n   <g id=\"patch_167\">\n    <path d=\"M 575.150431 839.54175 \nL 575.150431 654.223568 \n\" style=\"fill:none;stroke:#ffffff;stroke-linecap:square;stroke-linejoin:miter;\"/>\n   </g>\n   <g id=\"patch_168\">\n    <path d=\"M 334.63319 839.54175 \nL 575.150431 839.54175 \n\" style=\"fill:none;stroke:#ffffff;stroke-linecap:square;stroke-linejoin:miter;\"/>\n   </g>\n   <g id=\"patch_169\">\n    <path d=\"M 334.63319 654.223568 \nL 575.150431 654.223568 \n\" style=\"fill:none;stroke:#ffffff;stroke-linecap:square;stroke-linejoin:miter;\"/>\n   </g>\n   <g id=\"text_181\">\n    <!-- Capital_Loss -->\n    <g transform=\"translate(410.252935 648.223568)scale(0.144 -0.144)\">\n     <use xlink:href=\"#DejaVuSans-67\"/>\n     <use x=\"69.824219\" xlink:href=\"#DejaVuSans-97\"/>\n     <use x=\"131.103516\" xlink:href=\"#DejaVuSans-112\"/>\n     <use x=\"194.580078\" xlink:href=\"#DejaVuSans-105\"/>\n     <use x=\"222.363281\" xlink:href=\"#DejaVuSans-116\"/>\n     <use x=\"261.572266\" xlink:href=\"#DejaVuSans-97\"/>\n     <use x=\"322.851562\" xlink:href=\"#DejaVuSans-108\"/>\n     <use x=\"350.634766\" xlink:href=\"#DejaVuSans-95\"/>\n     <use x=\"400.634766\" xlink:href=\"#DejaVuSans-76\"/>\n     <use x=\"454.597656\" xlink:href=\"#DejaVuSans-111\"/>\n     <use x=\"515.779297\" xlink:href=\"#DejaVuSans-115\"/>\n     <use x=\"567.878906\" xlink:href=\"#DejaVuSans-115\"/>\n    </g>\n   </g>\n  </g>\n  <g id=\"axes_13\">\n   <g id=\"patch_170\">\n    <path d=\"M 623.253879 839.54175 \nL 863.771121 839.54175 \nL 863.771121 654.223568 \nL 623.253879 654.223568 \nz\n\" style=\"fill:#e5e5e5;\"/>\n   </g>\n   <g id=\"matplotlib.axis_25\">\n    <g id=\"xtick_87\">\n     <g id=\"line2d_337\">\n      <path clip-path=\"url(#p999f797f74)\" d=\"M 631.955338 839.54175 \nL 631.955338 654.223568 \n\" style=\"fill:none;stroke:#ffffff;stroke-linecap:square;stroke-width:0.8;\"/>\n     </g>\n     <g id=\"line2d_338\">\n      <g>\n       <use style=\"fill:#555555;stroke:#555555;stroke-width:0.8;\" x=\"631.955338\" xlink:href=\"#mdde19dd8b5\" y=\"839.54175\"/>\n      </g>\n     </g>\n     <g id=\"text_182\">\n      <!-- 0 -->\n      <g style=\"fill:#555555;\" transform=\"translate(634.714713 852.90425)rotate(-90)scale(0.1 -0.1)\">\n       <use xlink:href=\"#DejaVuSans-48\"/>\n      </g>\n     </g>\n    </g>\n    <g id=\"xtick_88\">\n     <g id=\"line2d_339\">\n      <path clip-path=\"url(#p999f797f74)\" d=\"M 676.578203 839.54175 \nL 676.578203 654.223568 \n\" style=\"fill:none;stroke:#ffffff;stroke-linecap:square;stroke-width:0.8;\"/>\n     </g>\n     <g id=\"line2d_340\">\n      <g>\n       <use style=\"fill:#555555;stroke:#555555;stroke-width:0.8;\" x=\"676.578203\" xlink:href=\"#mdde19dd8b5\" y=\"839.54175\"/>\n      </g>\n     </g>\n     <g id=\"text_183\">\n      <!-- 20 -->\n      <g style=\"fill:#555555;\" transform=\"translate(679.337578 859.26675)rotate(-90)scale(0.1 -0.1)\">\n       <use xlink:href=\"#DejaVuSans-50\"/>\n       <use x=\"63.623047\" xlink:href=\"#DejaVuSans-48\"/>\n      </g>\n     </g>\n    </g>\n    <g id=\"xtick_89\">\n     <g id=\"line2d_341\">\n      <path clip-path=\"url(#p999f797f74)\" d=\"M 721.201068 839.54175 \nL 721.201068 654.223568 \n\" style=\"fill:none;stroke:#ffffff;stroke-linecap:square;stroke-width:0.8;\"/>\n     </g>\n     <g id=\"line2d_342\">\n      <g>\n       <use style=\"fill:#555555;stroke:#555555;stroke-width:0.8;\" x=\"721.201068\" xlink:href=\"#mdde19dd8b5\" y=\"839.54175\"/>\n      </g>\n     </g>\n     <g id=\"text_184\">\n      <!-- 40 -->\n      <g style=\"fill:#555555;\" transform=\"translate(723.960443 859.26675)rotate(-90)scale(0.1 -0.1)\">\n       <use xlink:href=\"#DejaVuSans-52\"/>\n       <use x=\"63.623047\" xlink:href=\"#DejaVuSans-48\"/>\n      </g>\n     </g>\n    </g>\n    <g id=\"xtick_90\">\n     <g id=\"line2d_343\">\n      <path clip-path=\"url(#p999f797f74)\" d=\"M 765.823932 839.54175 \nL 765.823932 654.223568 \n\" style=\"fill:none;stroke:#ffffff;stroke-linecap:square;stroke-width:0.8;\"/>\n     </g>\n     <g id=\"line2d_344\">\n      <g>\n       <use style=\"fill:#555555;stroke:#555555;stroke-width:0.8;\" x=\"765.823932\" xlink:href=\"#mdde19dd8b5\" y=\"839.54175\"/>\n      </g>\n     </g>\n     <g id=\"text_185\">\n      <!-- 60 -->\n      <g style=\"fill:#555555;\" transform=\"translate(768.583307 859.26675)rotate(-90)scale(0.1 -0.1)\">\n       <use xlink:href=\"#DejaVuSans-54\"/>\n       <use x=\"63.623047\" xlink:href=\"#DejaVuSans-48\"/>\n      </g>\n     </g>\n    </g>\n    <g id=\"xtick_91\">\n     <g id=\"line2d_345\">\n      <path clip-path=\"url(#p999f797f74)\" d=\"M 810.446797 839.54175 \nL 810.446797 654.223568 \n\" style=\"fill:none;stroke:#ffffff;stroke-linecap:square;stroke-width:0.8;\"/>\n     </g>\n     <g id=\"line2d_346\">\n      <g>\n       <use style=\"fill:#555555;stroke:#555555;stroke-width:0.8;\" x=\"810.446797\" xlink:href=\"#mdde19dd8b5\" y=\"839.54175\"/>\n      </g>\n     </g>\n     <g id=\"text_186\">\n      <!-- 80 -->\n      <g style=\"fill:#555555;\" transform=\"translate(813.206172 859.26675)rotate(-90)scale(0.1 -0.1)\">\n       <use xlink:href=\"#DejaVuSans-56\"/>\n       <use x=\"63.623047\" xlink:href=\"#DejaVuSans-48\"/>\n      </g>\n     </g>\n    </g>\n    <g id=\"xtick_92\">\n     <g id=\"line2d_347\">\n      <path clip-path=\"url(#p999f797f74)\" d=\"M 855.069662 839.54175 \nL 855.069662 654.223568 \n\" style=\"fill:none;stroke:#ffffff;stroke-linecap:square;stroke-width:0.8;\"/>\n     </g>\n     <g id=\"line2d_348\">\n      <g>\n       <use style=\"fill:#555555;stroke:#555555;stroke-width:0.8;\" x=\"855.069662\" xlink:href=\"#mdde19dd8b5\" y=\"839.54175\"/>\n      </g>\n     </g>\n     <g id=\"text_187\">\n      <!-- 100 -->\n      <g style=\"fill:#555555;\" transform=\"translate(857.829037 865.62925)rotate(-90)scale(0.1 -0.1)\">\n       <use xlink:href=\"#DejaVuSans-49\"/>\n       <use x=\"63.623047\" xlink:href=\"#DejaVuSans-48\"/>\n       <use x=\"127.246094\" xlink:href=\"#DejaVuSans-48\"/>\n      </g>\n     </g>\n    </g>\n   </g>\n   <g id=\"matplotlib.axis_26\">\n    <g id=\"ytick_83\">\n     <g id=\"line2d_349\">\n      <path clip-path=\"url(#p999f797f74)\" d=\"M 623.253879 839.54175 \nL 863.771121 839.54175 \n\" style=\"fill:none;stroke:#ffffff;stroke-linecap:square;stroke-width:0.8;\"/>\n     </g>\n     <g id=\"line2d_350\">\n      <g>\n       <use style=\"fill:#555555;stroke:#555555;stroke-width:0.8;\" x=\"623.253879\" xlink:href=\"#m29fc131eff\" y=\"839.54175\"/>\n      </g>\n     </g>\n     <g id=\"text_188\">\n      <!-- 0 -->\n      <g style=\"fill:#555555;\" transform=\"translate(609.891379 843.340969)scale(0.1 -0.1)\">\n       <use xlink:href=\"#DejaVuSans-48\"/>\n      </g>\n     </g>\n    </g>\n    <g id=\"ytick_84\">\n     <g id=\"line2d_351\">\n      <path clip-path=\"url(#p999f797f74)\" d=\"M 623.253879 814.662485 \nL 863.771121 814.662485 \n\" style=\"fill:none;stroke:#ffffff;stroke-linecap:square;stroke-width:0.8;\"/>\n     </g>\n     <g id=\"line2d_352\">\n      <g>\n       <use style=\"fill:#555555;stroke:#555555;stroke-width:0.8;\" x=\"623.253879\" xlink:href=\"#m29fc131eff\" y=\"814.662485\"/>\n      </g>\n     </g>\n     <g id=\"text_189\">\n      <!-- 2500 -->\n      <g style=\"fill:#555555;\" transform=\"translate(590.803879 818.461704)scale(0.1 -0.1)\">\n       <use xlink:href=\"#DejaVuSans-50\"/>\n       <use x=\"63.623047\" xlink:href=\"#DejaVuSans-53\"/>\n       <use x=\"127.246094\" xlink:href=\"#DejaVuSans-48\"/>\n       <use x=\"190.869141\" xlink:href=\"#DejaVuSans-48\"/>\n      </g>\n     </g>\n    </g>\n    <g id=\"ytick_85\">\n     <g id=\"line2d_353\">\n      <path clip-path=\"url(#p999f797f74)\" d=\"M 623.253879 789.78322 \nL 863.771121 789.78322 \n\" style=\"fill:none;stroke:#ffffff;stroke-linecap:square;stroke-width:0.8;\"/>\n     </g>\n     <g id=\"line2d_354\">\n      <g>\n       <use style=\"fill:#555555;stroke:#555555;stroke-width:0.8;\" x=\"623.253879\" xlink:href=\"#m29fc131eff\" y=\"789.78322\"/>\n      </g>\n     </g>\n     <g id=\"text_190\">\n      <!-- 5000 -->\n      <g style=\"fill:#555555;\" transform=\"translate(590.803879 793.582439)scale(0.1 -0.1)\">\n       <use xlink:href=\"#DejaVuSans-53\"/>\n       <use x=\"63.623047\" xlink:href=\"#DejaVuSans-48\"/>\n       <use x=\"127.246094\" xlink:href=\"#DejaVuSans-48\"/>\n       <use x=\"190.869141\" xlink:href=\"#DejaVuSans-48\"/>\n      </g>\n     </g>\n    </g>\n    <g id=\"ytick_86\">\n     <g id=\"line2d_355\">\n      <path clip-path=\"url(#p999f797f74)\" d=\"M 623.253879 764.903955 \nL 863.771121 764.903955 \n\" style=\"fill:none;stroke:#ffffff;stroke-linecap:square;stroke-width:0.8;\"/>\n     </g>\n     <g id=\"line2d_356\">\n      <g>\n       <use style=\"fill:#555555;stroke:#555555;stroke-width:0.8;\" x=\"623.253879\" xlink:href=\"#m29fc131eff\" y=\"764.903955\"/>\n      </g>\n     </g>\n     <g id=\"text_191\">\n      <!-- 7500 -->\n      <g style=\"fill:#555555;\" transform=\"translate(590.803879 768.703174)scale(0.1 -0.1)\">\n       <use xlink:href=\"#DejaVuSans-55\"/>\n       <use x=\"63.623047\" xlink:href=\"#DejaVuSans-53\"/>\n       <use x=\"127.246094\" xlink:href=\"#DejaVuSans-48\"/>\n       <use x=\"190.869141\" xlink:href=\"#DejaVuSans-48\"/>\n      </g>\n     </g>\n    </g>\n    <g id=\"ytick_87\">\n     <g id=\"line2d_357\">\n      <path clip-path=\"url(#p999f797f74)\" d=\"M 623.253879 740.02469 \nL 863.771121 740.02469 \n\" style=\"fill:none;stroke:#ffffff;stroke-linecap:square;stroke-width:0.8;\"/>\n     </g>\n     <g id=\"line2d_358\">\n      <g>\n       <use style=\"fill:#555555;stroke:#555555;stroke-width:0.8;\" x=\"623.253879\" xlink:href=\"#m29fc131eff\" y=\"740.02469\"/>\n      </g>\n     </g>\n     <g id=\"text_192\">\n      <!-- 10000 -->\n      <g style=\"fill:#555555;\" transform=\"translate(584.441379 743.823908)scale(0.1 -0.1)\">\n       <use xlink:href=\"#DejaVuSans-49\"/>\n       <use x=\"63.623047\" xlink:href=\"#DejaVuSans-48\"/>\n       <use x=\"127.246094\" xlink:href=\"#DejaVuSans-48\"/>\n       <use x=\"190.869141\" xlink:href=\"#DejaVuSans-48\"/>\n       <use x=\"254.492188\" xlink:href=\"#DejaVuSans-48\"/>\n      </g>\n     </g>\n    </g>\n    <g id=\"ytick_88\">\n     <g id=\"line2d_359\">\n      <path clip-path=\"url(#p999f797f74)\" d=\"M 623.253879 715.145425 \nL 863.771121 715.145425 \n\" style=\"fill:none;stroke:#ffffff;stroke-linecap:square;stroke-width:0.8;\"/>\n     </g>\n     <g id=\"line2d_360\">\n      <g>\n       <use style=\"fill:#555555;stroke:#555555;stroke-width:0.8;\" x=\"623.253879\" xlink:href=\"#m29fc131eff\" y=\"715.145425\"/>\n      </g>\n     </g>\n     <g id=\"text_193\">\n      <!-- 12500 -->\n      <g style=\"fill:#555555;\" transform=\"translate(584.441379 718.944643)scale(0.1 -0.1)\">\n       <use xlink:href=\"#DejaVuSans-49\"/>\n       <use x=\"63.623047\" xlink:href=\"#DejaVuSans-50\"/>\n       <use x=\"127.246094\" xlink:href=\"#DejaVuSans-53\"/>\n       <use x=\"190.869141\" xlink:href=\"#DejaVuSans-48\"/>\n       <use x=\"254.492188\" xlink:href=\"#DejaVuSans-48\"/>\n      </g>\n     </g>\n    </g>\n    <g id=\"ytick_89\">\n     <g id=\"line2d_361\">\n      <path clip-path=\"url(#p999f797f74)\" d=\"M 623.253879 690.26616 \nL 863.771121 690.26616 \n\" style=\"fill:none;stroke:#ffffff;stroke-linecap:square;stroke-width:0.8;\"/>\n     </g>\n     <g id=\"line2d_362\">\n      <g>\n       <use style=\"fill:#555555;stroke:#555555;stroke-width:0.8;\" x=\"623.253879\" xlink:href=\"#m29fc131eff\" y=\"690.26616\"/>\n      </g>\n     </g>\n     <g id=\"text_194\">\n      <!-- 15000 -->\n      <g style=\"fill:#555555;\" transform=\"translate(584.441379 694.065378)scale(0.1 -0.1)\">\n       <use xlink:href=\"#DejaVuSans-49\"/>\n       <use x=\"63.623047\" xlink:href=\"#DejaVuSans-53\"/>\n       <use x=\"127.246094\" xlink:href=\"#DejaVuSans-48\"/>\n       <use x=\"190.869141\" xlink:href=\"#DejaVuSans-48\"/>\n       <use x=\"254.492188\" xlink:href=\"#DejaVuSans-48\"/>\n      </g>\n     </g>\n    </g>\n    <g id=\"ytick_90\">\n     <g id=\"line2d_363\">\n      <path clip-path=\"url(#p999f797f74)\" d=\"M 623.253879 665.386894 \nL 863.771121 665.386894 \n\" style=\"fill:none;stroke:#ffffff;stroke-linecap:square;stroke-width:0.8;\"/>\n     </g>\n     <g id=\"line2d_364\">\n      <g>\n       <use style=\"fill:#555555;stroke:#555555;stroke-width:0.8;\" x=\"623.253879\" xlink:href=\"#m29fc131eff\" y=\"665.386894\"/>\n      </g>\n     </g>\n     <g id=\"text_195\">\n      <!-- 17500 -->\n      <g style=\"fill:#555555;\" transform=\"translate(584.441379 669.186113)scale(0.1 -0.1)\">\n       <use xlink:href=\"#DejaVuSans-49\"/>\n       <use x=\"63.623047\" xlink:href=\"#DejaVuSans-55\"/>\n       <use x=\"127.246094\" xlink:href=\"#DejaVuSans-53\"/>\n       <use x=\"190.869141\" xlink:href=\"#DejaVuSans-48\"/>\n       <use x=\"254.492188\" xlink:href=\"#DejaVuSans-48\"/>\n      </g>\n     </g>\n    </g>\n   </g>\n   <g id=\"patch_171\">\n    <path clip-path=\"url(#p999f797f74)\" d=\"M 634.186481 839.54175 \nL 656.051685 839.54175 \nL 656.051685 832.217294 \nL 634.186481 832.217294 \nz\n\" style=\"fill:#e24a33;\"/>\n   </g>\n   <g id=\"patch_172\">\n    <path clip-path=\"url(#p999f797f74)\" d=\"M 656.051685 839.54175 \nL 677.916889 839.54175 \nL 677.916889 817.72761 \nL 656.051685 817.72761 \nz\n\" style=\"fill:#e24a33;\"/>\n   </g>\n   <g id=\"patch_173\">\n    <path clip-path=\"url(#p999f797f74)\" d=\"M 677.916889 839.54175 \nL 699.782092 839.54175 \nL 699.782092 816.483647 \nL 677.916889 816.483647 \nz\n\" style=\"fill:#e24a33;\"/>\n   </g>\n   <g id=\"patch_174\">\n    <path clip-path=\"url(#p999f797f74)\" d=\"M 699.782092 839.54175 \nL 721.647296 839.54175 \nL 721.647296 663.048244 \nL 699.782092 663.048244 \nz\n\" style=\"fill:#e24a33;\"/>\n   </g>\n   <g id=\"patch_175\">\n    <path clip-path=\"url(#p999f797f74)\" d=\"M 721.647296 839.54175 \nL 743.5125 839.54175 \nL 743.5125 808.502379 \nL 721.647296 808.502379 \nz\n\" style=\"fill:#e24a33;\"/>\n   </g>\n   <g id=\"patch_176\">\n    <path clip-path=\"url(#p999f797f74)\" d=\"M 743.5125 839.54175 \nL 765.377704 839.54175 \nL 765.377704 800.958986 \nL 743.5125 800.958986 \nz\n\" style=\"fill:#e24a33;\"/>\n   </g>\n   <g id=\"patch_177\">\n    <path clip-path=\"url(#p999f797f74)\" d=\"M 765.377704 839.54175 \nL 787.242908 839.54175 \nL 787.242908 821.668486 \nL 765.377704 821.668486 \nz\n\" style=\"fill:#e24a33;\"/>\n   </g>\n   <g id=\"patch_178\">\n    <path clip-path=\"url(#p999f797f74)\" d=\"M 787.242908 839.54175 \nL 809.108111 839.54175 \nL 809.108111 835.083386 \nL 787.242908 835.083386 \nz\n\" style=\"fill:#e24a33;\"/>\n   </g>\n   <g id=\"patch_179\">\n    <path clip-path=\"url(#p999f797f74)\" d=\"M 809.108111 839.54175 \nL 830.973315 839.54175 \nL 830.973315 837.531505 \nL 809.108111 837.531505 \nz\n\" style=\"fill:#e24a33;\"/>\n   </g>\n   <g id=\"patch_180\">\n    <path clip-path=\"url(#p999f797f74)\" d=\"M 830.973315 839.54175 \nL 852.838519 839.54175 \nL 852.838519 838.158463 \nL 830.973315 838.158463 \nz\n\" style=\"fill:#e24a33;\"/>\n   </g>\n   <g id=\"patch_181\">\n    <path d=\"M 623.253879 839.54175 \nL 623.253879 654.223568 \n\" style=\"fill:none;stroke:#ffffff;stroke-linecap:square;stroke-linejoin:miter;\"/>\n   </g>\n   <g id=\"patch_182\">\n    <path d=\"M 863.771121 839.54175 \nL 863.771121 654.223568 \n\" style=\"fill:none;stroke:#ffffff;stroke-linecap:square;stroke-linejoin:miter;\"/>\n   </g>\n   <g id=\"patch_183\">\n    <path d=\"M 623.253879 839.54175 \nL 863.771121 839.54175 \n\" style=\"fill:none;stroke:#ffffff;stroke-linecap:square;stroke-linejoin:miter;\"/>\n   </g>\n   <g id=\"patch_184\">\n    <path d=\"M 623.253879 654.223568 \nL 863.771121 654.223568 \n\" style=\"fill:none;stroke:#ffffff;stroke-linecap:square;stroke-linejoin:miter;\"/>\n   </g>\n   <g id=\"text_196\">\n    <!-- Hours_per_week -->\n    <g transform=\"translate(684.33975 648.223568)scale(0.144 -0.144)\">\n     <use xlink:href=\"#DejaVuSans-72\"/>\n     <use x=\"75.195312\" xlink:href=\"#DejaVuSans-111\"/>\n     <use x=\"136.376953\" xlink:href=\"#DejaVuSans-117\"/>\n     <use x=\"199.755859\" xlink:href=\"#DejaVuSans-114\"/>\n     <use x=\"240.869141\" xlink:href=\"#DejaVuSans-115\"/>\n     <use x=\"292.96875\" xlink:href=\"#DejaVuSans-95\"/>\n     <use x=\"342.96875\" xlink:href=\"#DejaVuSans-112\"/>\n     <use x=\"406.445312\" xlink:href=\"#DejaVuSans-101\"/>\n     <use x=\"467.96875\" xlink:href=\"#DejaVuSans-114\"/>\n     <use x=\"509.082031\" xlink:href=\"#DejaVuSans-95\"/>\n     <use x=\"559.082031\" xlink:href=\"#DejaVuSans-119\"/>\n     <use x=\"640.869141\" xlink:href=\"#DejaVuSans-101\"/>\n     <use x=\"702.392578\" xlink:href=\"#DejaVuSans-101\"/>\n     <use x=\"763.916016\" xlink:href=\"#DejaVuSans-107\"/>\n    </g>\n   </g>\n  </g>\n  <g id=\"axes_14\">\n   <g id=\"patch_185\">\n    <path d=\"M 911.874569 839.54175 \nL 1152.39181 839.54175 \nL 1152.39181 654.223568 \nL 911.874569 654.223568 \nz\n\" style=\"fill:#e5e5e5;\"/>\n   </g>\n   <g id=\"matplotlib.axis_27\">\n    <g id=\"xtick_93\">\n     <g id=\"line2d_365\">\n      <path clip-path=\"url(#pd2a30a1dc7)\" d=\"M 914.807706 839.54175 \nL 914.807706 654.223568 \n\" style=\"fill:none;stroke:#ffffff;stroke-linecap:square;stroke-width:0.8;\"/>\n     </g>\n     <g id=\"line2d_366\">\n      <g>\n       <use style=\"fill:#555555;stroke:#555555;stroke-width:0.8;\" x=\"914.807706\" xlink:href=\"#mdde19dd8b5\" y=\"839.54175\"/>\n      </g>\n     </g>\n     <g id=\"text_197\">\n      <!--  United-States -->\n      <g style=\"fill:#555555;\" transform=\"translate(917.567081 917.863625)rotate(-90)scale(0.1 -0.1)\">\n       <use xlink:href=\"#DejaVuSans-32\"/>\n       <use x=\"31.787109\" xlink:href=\"#DejaVuSans-85\"/>\n       <use x=\"104.980469\" xlink:href=\"#DejaVuSans-110\"/>\n       <use x=\"168.359375\" xlink:href=\"#DejaVuSans-105\"/>\n       <use x=\"196.142578\" xlink:href=\"#DejaVuSans-116\"/>\n       <use x=\"235.351562\" xlink:href=\"#DejaVuSans-101\"/>\n       <use x=\"296.875\" xlink:href=\"#DejaVuSans-100\"/>\n       <use x=\"360.351562\" xlink:href=\"#DejaVuSans-45\"/>\n       <use x=\"396.435547\" xlink:href=\"#DejaVuSans-83\"/>\n       <use x=\"459.912109\" xlink:href=\"#DejaVuSans-116\"/>\n       <use x=\"499.121094\" xlink:href=\"#DejaVuSans-97\"/>\n       <use x=\"560.400391\" xlink:href=\"#DejaVuSans-116\"/>\n       <use x=\"599.609375\" xlink:href=\"#DejaVuSans-101\"/>\n       <use x=\"661.132812\" xlink:href=\"#DejaVuSans-115\"/>\n      </g>\n     </g>\n    </g>\n    <g id=\"xtick_94\">\n     <g id=\"line2d_367\">\n      <path clip-path=\"url(#pd2a30a1dc7)\" d=\"M 920.67398 839.54175 \nL 920.67398 654.223568 \n\" style=\"fill:none;stroke:#ffffff;stroke-linecap:square;stroke-width:0.8;\"/>\n     </g>\n     <g id=\"line2d_368\">\n      <g>\n       <use style=\"fill:#555555;stroke:#555555;stroke-width:0.8;\" x=\"920.67398\" xlink:href=\"#mdde19dd8b5\" y=\"839.54175\"/>\n      </g>\n     </g>\n     <g id=\"text_198\">\n      <!--  Mexico -->\n      <g style=\"fill:#555555;\" transform=\"translate(923.433355 884.640187)rotate(-90)scale(0.1 -0.1)\">\n       <use xlink:href=\"#DejaVuSans-32\"/>\n       <use x=\"31.787109\" xlink:href=\"#DejaVuSans-77\"/>\n       <use x=\"118.066406\" xlink:href=\"#DejaVuSans-101\"/>\n       <use x=\"177.839844\" xlink:href=\"#DejaVuSans-120\"/>\n       <use x=\"237.019531\" xlink:href=\"#DejaVuSans-105\"/>\n       <use x=\"264.802734\" xlink:href=\"#DejaVuSans-99\"/>\n       <use x=\"319.783203\" xlink:href=\"#DejaVuSans-111\"/>\n      </g>\n     </g>\n    </g>\n    <g id=\"xtick_95\">\n     <g id=\"line2d_369\">\n      <path clip-path=\"url(#pd2a30a1dc7)\" d=\"M 926.540254 839.54175 \nL 926.540254 654.223568 \n\" style=\"fill:none;stroke:#ffffff;stroke-linecap:square;stroke-width:0.8;\"/>\n     </g>\n     <g id=\"line2d_370\">\n      <g>\n       <use style=\"fill:#555555;stroke:#555555;stroke-width:0.8;\" x=\"926.540254\" xlink:href=\"#mdde19dd8b5\" y=\"839.54175\"/>\n      </g>\n     </g>\n     <g id=\"text_199\">\n      <!--  Philippines -->\n      <g style=\"fill:#555555;\" transform=\"translate(929.299629 903.596437)rotate(-90)scale(0.1 -0.1)\">\n       <use xlink:href=\"#DejaVuSans-32\"/>\n       <use x=\"31.787109\" xlink:href=\"#DejaVuSans-80\"/>\n       <use x=\"92.089844\" xlink:href=\"#DejaVuSans-104\"/>\n       <use x=\"155.46875\" xlink:href=\"#DejaVuSans-105\"/>\n       <use x=\"183.251953\" xlink:href=\"#DejaVuSans-108\"/>\n       <use x=\"211.035156\" xlink:href=\"#DejaVuSans-105\"/>\n       <use x=\"238.818359\" xlink:href=\"#DejaVuSans-112\"/>\n       <use x=\"302.294922\" xlink:href=\"#DejaVuSans-112\"/>\n       <use x=\"365.771484\" xlink:href=\"#DejaVuSans-105\"/>\n       <use x=\"393.554688\" xlink:href=\"#DejaVuSans-110\"/>\n       <use x=\"456.933594\" xlink:href=\"#DejaVuSans-101\"/>\n       <use x=\"518.457031\" xlink:href=\"#DejaVuSans-115\"/>\n      </g>\n     </g>\n    </g>\n    <g id=\"xtick_96\">\n     <g id=\"line2d_371\">\n      <path clip-path=\"url(#pd2a30a1dc7)\" d=\"M 932.406529 839.54175 \nL 932.406529 654.223568 \n\" style=\"fill:none;stroke:#ffffff;stroke-linecap:square;stroke-width:0.8;\"/>\n     </g>\n     <g id=\"line2d_372\">\n      <g>\n       <use style=\"fill:#555555;stroke:#555555;stroke-width:0.8;\" x=\"932.406529\" xlink:href=\"#mdde19dd8b5\" y=\"839.54175\"/>\n      </g>\n     </g>\n     <g id=\"text_200\">\n      <!--  Germany -->\n      <g style=\"fill:#555555;\" transform=\"translate(935.165904 895.682375)rotate(-90)scale(0.1 -0.1)\">\n       <use xlink:href=\"#DejaVuSans-32\"/>\n       <use x=\"31.787109\" xlink:href=\"#DejaVuSans-71\"/>\n       <use x=\"109.277344\" xlink:href=\"#DejaVuSans-101\"/>\n       <use x=\"170.800781\" xlink:href=\"#DejaVuSans-114\"/>\n       <use x=\"210.164062\" xlink:href=\"#DejaVuSans-109\"/>\n       <use x=\"307.576172\" xlink:href=\"#DejaVuSans-97\"/>\n       <use x=\"368.855469\" xlink:href=\"#DejaVuSans-110\"/>\n       <use x=\"432.234375\" xlink:href=\"#DejaVuSans-121\"/>\n      </g>\n     </g>\n    </g>\n    <g id=\"xtick_97\">\n     <g id=\"line2d_373\">\n      <path clip-path=\"url(#pd2a30a1dc7)\" d=\"M 938.272803 839.54175 \nL 938.272803 654.223568 \n\" style=\"fill:none;stroke:#ffffff;stroke-linecap:square;stroke-width:0.8;\"/>\n     </g>\n     <g id=\"line2d_374\">\n      <g>\n       <use style=\"fill:#555555;stroke:#555555;stroke-width:0.8;\" x=\"938.272803\" xlink:href=\"#mdde19dd8b5\" y=\"839.54175\"/>\n      </g>\n     </g>\n     <g id=\"text_201\">\n      <!--  Canada -->\n      <g style=\"fill:#555555;\" transform=\"translate(941.032178 887.773)rotate(-90)scale(0.1 -0.1)\">\n       <use xlink:href=\"#DejaVuSans-32\"/>\n       <use x=\"31.787109\" xlink:href=\"#DejaVuSans-67\"/>\n       <use x=\"101.611328\" xlink:href=\"#DejaVuSans-97\"/>\n       <use x=\"162.890625\" xlink:href=\"#DejaVuSans-110\"/>\n       <use x=\"226.269531\" xlink:href=\"#DejaVuSans-97\"/>\n       <use x=\"287.548828\" xlink:href=\"#DejaVuSans-100\"/>\n       <use x=\"351.025391\" xlink:href=\"#DejaVuSans-97\"/>\n      </g>\n     </g>\n    </g>\n    <g id=\"xtick_98\">\n     <g id=\"line2d_375\">\n      <path clip-path=\"url(#pd2a30a1dc7)\" d=\"M 944.139077 839.54175 \nL 944.139077 654.223568 \n\" style=\"fill:none;stroke:#ffffff;stroke-linecap:square;stroke-width:0.8;\"/>\n     </g>\n     <g id=\"line2d_376\">\n      <g>\n       <use style=\"fill:#555555;stroke:#555555;stroke-width:0.8;\" x=\"944.139077\" xlink:href=\"#mdde19dd8b5\" y=\"839.54175\"/>\n      </g>\n     </g>\n     <g id=\"text_202\">\n      <!--  Puerto-Rico -->\n      <g style=\"fill:#555555;\" transform=\"translate(946.898452 907.35425)rotate(-90)scale(0.1 -0.1)\">\n       <use xlink:href=\"#DejaVuSans-32\"/>\n       <use x=\"31.787109\" xlink:href=\"#DejaVuSans-80\"/>\n       <use x=\"90.339844\" xlink:href=\"#DejaVuSans-117\"/>\n       <use x=\"153.71875\" xlink:href=\"#DejaVuSans-101\"/>\n       <use x=\"215.242188\" xlink:href=\"#DejaVuSans-114\"/>\n       <use x=\"256.355469\" xlink:href=\"#DejaVuSans-116\"/>\n       <use x=\"295.564453\" xlink:href=\"#DejaVuSans-111\"/>\n       <use x=\"358.621094\" xlink:href=\"#DejaVuSans-45\"/>\n       <use x=\"394.705078\" xlink:href=\"#DejaVuSans-82\"/>\n       <use x=\"464.1875\" xlink:href=\"#DejaVuSans-105\"/>\n       <use x=\"491.970703\" xlink:href=\"#DejaVuSans-99\"/>\n       <use x=\"546.951172\" xlink:href=\"#DejaVuSans-111\"/>\n      </g>\n     </g>\n    </g>\n    <g id=\"xtick_99\">\n     <g id=\"line2d_377\">\n      <path clip-path=\"url(#pd2a30a1dc7)\" d=\"M 950.005351 839.54175 \nL 950.005351 654.223568 \n\" style=\"fill:none;stroke:#ffffff;stroke-linecap:square;stroke-width:0.8;\"/>\n     </g>\n     <g id=\"line2d_378\">\n      <g>\n       <use style=\"fill:#555555;stroke:#555555;stroke-width:0.8;\" x=\"950.005351\" xlink:href=\"#mdde19dd8b5\" y=\"839.54175\"/>\n      </g>\n     </g>\n     <g id=\"text_203\">\n      <!--  El-Salvador -->\n      <g style=\"fill:#555555;\" transform=\"translate(952.764726 906.30425)rotate(-90)scale(0.1 -0.1)\">\n       <use xlink:href=\"#DejaVuSans-32\"/>\n       <use x=\"31.787109\" xlink:href=\"#DejaVuSans-69\"/>\n       <use x=\"94.970703\" xlink:href=\"#DejaVuSans-108\"/>\n       <use x=\"122.753906\" xlink:href=\"#DejaVuSans-45\"/>\n       <use x=\"158.837891\" xlink:href=\"#DejaVuSans-83\"/>\n       <use x=\"222.314453\" xlink:href=\"#DejaVuSans-97\"/>\n       <use x=\"283.59375\" xlink:href=\"#DejaVuSans-108\"/>\n       <use x=\"311.376953\" xlink:href=\"#DejaVuSans-118\"/>\n       <use x=\"370.556641\" xlink:href=\"#DejaVuSans-97\"/>\n       <use x=\"431.835938\" xlink:href=\"#DejaVuSans-100\"/>\n       <use x=\"495.3125\" xlink:href=\"#DejaVuSans-111\"/>\n       <use x=\"556.494141\" xlink:href=\"#DejaVuSans-114\"/>\n      </g>\n     </g>\n    </g>\n    <g id=\"xtick_100\">\n     <g id=\"line2d_379\">\n      <path clip-path=\"url(#pd2a30a1dc7)\" d=\"M 955.871625 839.54175 \nL 955.871625 654.223568 \n\" style=\"fill:none;stroke:#ffffff;stroke-linecap:square;stroke-width:0.8;\"/>\n     </g>\n     <g id=\"line2d_380\">\n      <g>\n       <use style=\"fill:#555555;stroke:#555555;stroke-width:0.8;\" x=\"955.871625\" xlink:href=\"#mdde19dd8b5\" y=\"839.54175\"/>\n      </g>\n     </g>\n     <g id=\"text_204\">\n      <!--  India -->\n      <g style=\"fill:#555555;\" transform=\"translate(958.631 874.262062)rotate(-90)scale(0.1 -0.1)\">\n       <use xlink:href=\"#DejaVuSans-32\"/>\n       <use x=\"31.787109\" xlink:href=\"#DejaVuSans-73\"/>\n       <use x=\"61.279297\" xlink:href=\"#DejaVuSans-110\"/>\n       <use x=\"124.658203\" xlink:href=\"#DejaVuSans-100\"/>\n       <use x=\"188.134766\" xlink:href=\"#DejaVuSans-105\"/>\n       <use x=\"215.917969\" xlink:href=\"#DejaVuSans-97\"/>\n      </g>\n     </g>\n    </g>\n    <g id=\"xtick_101\">\n     <g id=\"line2d_381\">\n      <path clip-path=\"url(#pd2a30a1dc7)\" d=\"M 961.737899 839.54175 \nL 961.737899 654.223568 \n\" style=\"fill:none;stroke:#ffffff;stroke-linecap:square;stroke-width:0.8;\"/>\n     </g>\n     <g id=\"line2d_382\">\n      <g>\n       <use style=\"fill:#555555;stroke:#555555;stroke-width:0.8;\" x=\"961.737899\" xlink:href=\"#mdde19dd8b5\" y=\"839.54175\"/>\n      </g>\n     </g>\n     <g id=\"text_205\">\n      <!--  Cuba -->\n      <g style=\"fill:#555555;\" transform=\"translate(964.497274 875.51675)rotate(-90)scale(0.1 -0.1)\">\n       <use xlink:href=\"#DejaVuSans-32\"/>\n       <use x=\"31.787109\" xlink:href=\"#DejaVuSans-67\"/>\n       <use x=\"101.611328\" xlink:href=\"#DejaVuSans-117\"/>\n       <use x=\"164.990234\" xlink:href=\"#DejaVuSans-98\"/>\n       <use x=\"228.466797\" xlink:href=\"#DejaVuSans-97\"/>\n      </g>\n     </g>\n    </g>\n    <g id=\"xtick_102\">\n     <g id=\"line2d_383\">\n      <path clip-path=\"url(#pd2a30a1dc7)\" d=\"M 967.604174 839.54175 \nL 967.604174 654.223568 \n\" style=\"fill:none;stroke:#ffffff;stroke-linecap:square;stroke-width:0.8;\"/>\n     </g>\n     <g id=\"line2d_384\">\n      <g>\n       <use style=\"fill:#555555;stroke:#555555;stroke-width:0.8;\" x=\"967.604174\" xlink:href=\"#mdde19dd8b5\" y=\"839.54175\"/>\n      </g>\n     </g>\n     <g id=\"text_206\">\n      <!--  England -->\n      <g style=\"fill:#555555;\" transform=\"translate(970.363549 890.31675)rotate(-90)scale(0.1 -0.1)\">\n       <use xlink:href=\"#DejaVuSans-32\"/>\n       <use x=\"31.787109\" xlink:href=\"#DejaVuSans-69\"/>\n       <use x=\"94.970703\" xlink:href=\"#DejaVuSans-110\"/>\n       <use x=\"158.349609\" xlink:href=\"#DejaVuSans-103\"/>\n       <use x=\"221.826172\" xlink:href=\"#DejaVuSans-108\"/>\n       <use x=\"249.609375\" xlink:href=\"#DejaVuSans-97\"/>\n       <use x=\"310.888672\" xlink:href=\"#DejaVuSans-110\"/>\n       <use x=\"374.267578\" xlink:href=\"#DejaVuSans-100\"/>\n      </g>\n     </g>\n    </g>\n    <g id=\"xtick_103\">\n     <g id=\"line2d_385\">\n      <path clip-path=\"url(#pd2a30a1dc7)\" d=\"M 973.470448 839.54175 \nL 973.470448 654.223568 \n\" style=\"fill:none;stroke:#ffffff;stroke-linecap:square;stroke-width:0.8;\"/>\n     </g>\n     <g id=\"line2d_386\">\n      <g>\n       <use style=\"fill:#555555;stroke:#555555;stroke-width:0.8;\" x=\"973.470448\" xlink:href=\"#mdde19dd8b5\" y=\"839.54175\"/>\n      </g>\n     </g>\n     <g id=\"text_207\">\n      <!--  Jamaica -->\n      <defs>\n       <path d=\"M 9.8125 72.90625 \nL 19.671875 72.90625 \nL 19.671875 5.078125 \nQ 19.671875 -8.109375 14.671875 -14.0625 \nQ 9.671875 -20.015625 -1.421875 -20.015625 \nL -5.171875 -20.015625 \nL -5.171875 -11.71875 \nL -2.09375 -11.71875 \nQ 4.4375 -11.71875 7.125 -8.046875 \nQ 9.8125 -4.390625 9.8125 5.078125 \nz\n\" id=\"DejaVuSans-74\"/>\n      </defs>\n      <g style=\"fill:#555555;\" transform=\"translate(976.229823 889.071437)rotate(-90)scale(0.1 -0.1)\">\n       <use xlink:href=\"#DejaVuSans-32\"/>\n       <use x=\"31.787109\" xlink:href=\"#DejaVuSans-74\"/>\n       <use x=\"61.279297\" xlink:href=\"#DejaVuSans-97\"/>\n       <use x=\"122.558594\" xlink:href=\"#DejaVuSans-109\"/>\n       <use x=\"219.970703\" xlink:href=\"#DejaVuSans-97\"/>\n       <use x=\"281.25\" xlink:href=\"#DejaVuSans-105\"/>\n       <use x=\"309.033203\" xlink:href=\"#DejaVuSans-99\"/>\n       <use x=\"364.013672\" xlink:href=\"#DejaVuSans-97\"/>\n      </g>\n     </g>\n    </g>\n    <g id=\"xtick_104\">\n     <g id=\"line2d_387\">\n      <path clip-path=\"url(#pd2a30a1dc7)\" d=\"M 979.336722 839.54175 \nL 979.336722 654.223568 \n\" style=\"fill:none;stroke:#ffffff;stroke-linecap:square;stroke-width:0.8;\"/>\n     </g>\n     <g id=\"line2d_388\">\n      <g>\n       <use style=\"fill:#555555;stroke:#555555;stroke-width:0.8;\" x=\"979.336722\" xlink:href=\"#mdde19dd8b5\" y=\"839.54175\"/>\n      </g>\n     </g>\n     <g id=\"text_208\">\n      <!--  South -->\n      <g style=\"fill:#555555;\" transform=\"translate(982.096097 878.782375)rotate(-90)scale(0.1 -0.1)\">\n       <use xlink:href=\"#DejaVuSans-32\"/>\n       <use x=\"31.787109\" xlink:href=\"#DejaVuSans-83\"/>\n       <use x=\"95.263672\" xlink:href=\"#DejaVuSans-111\"/>\n       <use x=\"156.445312\" xlink:href=\"#DejaVuSans-117\"/>\n       <use x=\"219.824219\" xlink:href=\"#DejaVuSans-116\"/>\n       <use x=\"259.033203\" xlink:href=\"#DejaVuSans-104\"/>\n      </g>\n     </g>\n    </g>\n    <g id=\"xtick_105\">\n     <g id=\"line2d_389\">\n      <path clip-path=\"url(#pd2a30a1dc7)\" d=\"M 985.202996 839.54175 \nL 985.202996 654.223568 \n\" style=\"fill:none;stroke:#ffffff;stroke-linecap:square;stroke-width:0.8;\"/>\n     </g>\n     <g id=\"line2d_390\">\n      <g>\n       <use style=\"fill:#555555;stroke:#555555;stroke-width:0.8;\" x=\"985.202996\" xlink:href=\"#mdde19dd8b5\" y=\"839.54175\"/>\n      </g>\n     </g>\n     <g id=\"text_209\">\n      <!--  China -->\n      <g style=\"fill:#555555;\" transform=\"translate(987.962371 878.283937)rotate(-90)scale(0.1 -0.1)\">\n       <use xlink:href=\"#DejaVuSans-32\"/>\n       <use x=\"31.787109\" xlink:href=\"#DejaVuSans-67\"/>\n       <use x=\"101.611328\" xlink:href=\"#DejaVuSans-104\"/>\n       <use x=\"164.990234\" xlink:href=\"#DejaVuSans-105\"/>\n       <use x=\"192.773438\" xlink:href=\"#DejaVuSans-110\"/>\n       <use x=\"256.152344\" xlink:href=\"#DejaVuSans-97\"/>\n      </g>\n     </g>\n    </g>\n    <g id=\"xtick_106\">\n     <g id=\"line2d_391\">\n      <path clip-path=\"url(#pd2a30a1dc7)\" d=\"M 991.06927 839.54175 \nL 991.06927 654.223568 \n\" style=\"fill:none;stroke:#ffffff;stroke-linecap:square;stroke-width:0.8;\"/>\n     </g>\n     <g id=\"line2d_392\">\n      <g>\n       <use style=\"fill:#555555;stroke:#555555;stroke-width:0.8;\" x=\"991.06927\" xlink:href=\"#mdde19dd8b5\" y=\"839.54175\"/>\n      </g>\n     </g>\n     <g id=\"text_210\">\n      <!--  Italy -->\n      <g style=\"fill:#555555;\" transform=\"translate(993.828645 871.415187)rotate(-90)scale(0.1 -0.1)\">\n       <use xlink:href=\"#DejaVuSans-32\"/>\n       <use x=\"31.787109\" xlink:href=\"#DejaVuSans-73\"/>\n       <use x=\"61.279297\" xlink:href=\"#DejaVuSans-116\"/>\n       <use x=\"100.488281\" xlink:href=\"#DejaVuSans-97\"/>\n       <use x=\"161.767578\" xlink:href=\"#DejaVuSans-108\"/>\n       <use x=\"189.550781\" xlink:href=\"#DejaVuSans-121\"/>\n      </g>\n     </g>\n    </g>\n    <g id=\"xtick_107\">\n     <g id=\"line2d_393\">\n      <path clip-path=\"url(#pd2a30a1dc7)\" d=\"M 996.935545 839.54175 \nL 996.935545 654.223568 \n\" style=\"fill:none;stroke:#ffffff;stroke-linecap:square;stroke-width:0.8;\"/>\n     </g>\n     <g id=\"line2d_394\">\n      <g>\n       <use style=\"fill:#555555;stroke:#555555;stroke-width:0.8;\" x=\"996.935545\" xlink:href=\"#mdde19dd8b5\" y=\"839.54175\"/>\n      </g>\n     </g>\n     <g id=\"text_211\">\n      <!--  Dominican-Republic -->\n      <g style=\"fill:#555555;\" transform=\"translate(999.69492 949.4855)rotate(-90)scale(0.1 -0.1)\">\n       <use xlink:href=\"#DejaVuSans-32\"/>\n       <use x=\"31.787109\" xlink:href=\"#DejaVuSans-68\"/>\n       <use x=\"108.789062\" xlink:href=\"#DejaVuSans-111\"/>\n       <use x=\"169.970703\" xlink:href=\"#DejaVuSans-109\"/>\n       <use x=\"267.382812\" xlink:href=\"#DejaVuSans-105\"/>\n       <use x=\"295.166016\" xlink:href=\"#DejaVuSans-110\"/>\n       <use x=\"358.544922\" xlink:href=\"#DejaVuSans-105\"/>\n       <use x=\"386.328125\" xlink:href=\"#DejaVuSans-99\"/>\n       <use x=\"441.308594\" xlink:href=\"#DejaVuSans-97\"/>\n       <use x=\"502.587891\" xlink:href=\"#DejaVuSans-110\"/>\n       <use x=\"565.966797\" xlink:href=\"#DejaVuSans-45\"/>\n       <use x=\"602.050781\" xlink:href=\"#DejaVuSans-82\"/>\n       <use x=\"667.033203\" xlink:href=\"#DejaVuSans-101\"/>\n       <use x=\"728.556641\" xlink:href=\"#DejaVuSans-112\"/>\n       <use x=\"792.033203\" xlink:href=\"#DejaVuSans-117\"/>\n       <use x=\"855.412109\" xlink:href=\"#DejaVuSans-98\"/>\n       <use x=\"918.888672\" xlink:href=\"#DejaVuSans-108\"/>\n       <use x=\"946.671875\" xlink:href=\"#DejaVuSans-105\"/>\n       <use x=\"974.455078\" xlink:href=\"#DejaVuSans-99\"/>\n      </g>\n     </g>\n    </g>\n    <g id=\"xtick_108\">\n     <g id=\"line2d_395\">\n      <path clip-path=\"url(#pd2a30a1dc7)\" d=\"M 1002.801819 839.54175 \nL 1002.801819 654.223568 \n\" style=\"fill:none;stroke:#ffffff;stroke-linecap:square;stroke-width:0.8;\"/>\n     </g>\n     <g id=\"line2d_396\">\n      <g>\n       <use style=\"fill:#555555;stroke:#555555;stroke-width:0.8;\" x=\"1002.801819\" xlink:href=\"#mdde19dd8b5\" y=\"839.54175\"/>\n      </g>\n     </g>\n     <g id=\"text_212\">\n      <!--  Vietnam -->\n      <defs>\n       <path d=\"M 28.609375 0 \nL 0.78125 72.90625 \nL 11.078125 72.90625 \nL 34.1875 11.53125 \nL 57.328125 72.90625 \nL 67.578125 72.90625 \nL 39.796875 0 \nz\n\" id=\"DejaVuSans-86\"/>\n      </defs>\n      <g style=\"fill:#555555;\" transform=\"translate(1005.561194 891.393312)rotate(-90)scale(0.1 -0.1)\">\n       <use xlink:href=\"#DejaVuSans-32\"/>\n       <use x=\"31.787109\" xlink:href=\"#DejaVuSans-86\"/>\n       <use x=\"97.945312\" xlink:href=\"#DejaVuSans-105\"/>\n       <use x=\"125.728516\" xlink:href=\"#DejaVuSans-101\"/>\n       <use x=\"187.251953\" xlink:href=\"#DejaVuSans-116\"/>\n       <use x=\"226.460938\" xlink:href=\"#DejaVuSans-110\"/>\n       <use x=\"289.839844\" xlink:href=\"#DejaVuSans-97\"/>\n       <use x=\"351.119141\" xlink:href=\"#DejaVuSans-109\"/>\n      </g>\n     </g>\n    </g>\n    <g id=\"xtick_109\">\n     <g id=\"line2d_397\">\n      <path clip-path=\"url(#pd2a30a1dc7)\" d=\"M 1008.668093 839.54175 \nL 1008.668093 654.223568 \n\" style=\"fill:none;stroke:#ffffff;stroke-linecap:square;stroke-width:0.8;\"/>\n     </g>\n     <g id=\"line2d_398\">\n      <g>\n       <use style=\"fill:#555555;stroke:#555555;stroke-width:0.8;\" x=\"1008.668093\" xlink:href=\"#mdde19dd8b5\" y=\"839.54175\"/>\n      </g>\n     </g>\n     <g id=\"text_213\">\n      <!--  Guatemala -->\n      <g style=\"fill:#555555;\" transform=\"translate(1011.427468 904.782375)rotate(-90)scale(0.1 -0.1)\">\n       <use xlink:href=\"#DejaVuSans-32\"/>\n       <use x=\"31.787109\" xlink:href=\"#DejaVuSans-71\"/>\n       <use x=\"109.277344\" xlink:href=\"#DejaVuSans-117\"/>\n       <use x=\"172.65625\" xlink:href=\"#DejaVuSans-97\"/>\n       <use x=\"233.935547\" xlink:href=\"#DejaVuSans-116\"/>\n       <use x=\"273.144531\" xlink:href=\"#DejaVuSans-101\"/>\n       <use x=\"334.667969\" xlink:href=\"#DejaVuSans-109\"/>\n       <use x=\"432.080078\" xlink:href=\"#DejaVuSans-97\"/>\n       <use x=\"493.359375\" xlink:href=\"#DejaVuSans-108\"/>\n       <use x=\"521.142578\" xlink:href=\"#DejaVuSans-97\"/>\n      </g>\n     </g>\n    </g>\n    <g id=\"xtick_110\">\n     <g id=\"line2d_399\">\n      <path clip-path=\"url(#pd2a30a1dc7)\" d=\"M 1014.534367 839.54175 \nL 1014.534367 654.223568 \n\" style=\"fill:none;stroke:#ffffff;stroke-linecap:square;stroke-width:0.8;\"/>\n     </g>\n     <g id=\"line2d_400\">\n      <g>\n       <use style=\"fill:#555555;stroke:#555555;stroke-width:0.8;\" x=\"1014.534367\" xlink:href=\"#mdde19dd8b5\" y=\"839.54175\"/>\n      </g>\n     </g>\n     <g id=\"text_214\">\n      <!--  Japan -->\n      <g style=\"fill:#555555;\" transform=\"translate(1017.293742 877.612062)rotate(-90)scale(0.1 -0.1)\">\n       <use xlink:href=\"#DejaVuSans-32\"/>\n       <use x=\"31.787109\" xlink:href=\"#DejaVuSans-74\"/>\n       <use x=\"61.279297\" xlink:href=\"#DejaVuSans-97\"/>\n       <use x=\"122.558594\" xlink:href=\"#DejaVuSans-112\"/>\n       <use x=\"186.035156\" xlink:href=\"#DejaVuSans-97\"/>\n       <use x=\"247.314453\" xlink:href=\"#DejaVuSans-110\"/>\n      </g>\n     </g>\n    </g>\n    <g id=\"xtick_111\">\n     <g id=\"line2d_401\">\n      <path clip-path=\"url(#pd2a30a1dc7)\" d=\"M 1020.400641 839.54175 \nL 1020.400641 654.223568 \n\" style=\"fill:none;stroke:#ffffff;stroke-linecap:square;stroke-width:0.8;\"/>\n     </g>\n     <g id=\"line2d_402\">\n      <g>\n       <use style=\"fill:#555555;stroke:#555555;stroke-width:0.8;\" x=\"1020.400641\" xlink:href=\"#mdde19dd8b5\" y=\"839.54175\"/>\n      </g>\n     </g>\n     <g id=\"text_215\">\n      <!--  Poland -->\n      <g style=\"fill:#555555;\" transform=\"translate(1023.160016 883.098)rotate(-90)scale(0.1 -0.1)\">\n       <use xlink:href=\"#DejaVuSans-32\"/>\n       <use x=\"31.787109\" xlink:href=\"#DejaVuSans-80\"/>\n       <use x=\"88.464844\" xlink:href=\"#DejaVuSans-111\"/>\n       <use x=\"149.646484\" xlink:href=\"#DejaVuSans-108\"/>\n       <use x=\"177.429688\" xlink:href=\"#DejaVuSans-97\"/>\n       <use x=\"238.708984\" xlink:href=\"#DejaVuSans-110\"/>\n       <use x=\"302.087891\" xlink:href=\"#DejaVuSans-100\"/>\n      </g>\n     </g>\n    </g>\n    <g id=\"xtick_112\">\n     <g id=\"line2d_403\">\n      <path clip-path=\"url(#pd2a30a1dc7)\" d=\"M 1026.266915 839.54175 \nL 1026.266915 654.223568 \n\" style=\"fill:none;stroke:#ffffff;stroke-linecap:square;stroke-width:0.8;\"/>\n     </g>\n     <g id=\"line2d_404\">\n      <g>\n       <use style=\"fill:#555555;stroke:#555555;stroke-width:0.8;\" x=\"1026.266915\" xlink:href=\"#mdde19dd8b5\" y=\"839.54175\"/>\n      </g>\n     </g>\n     <g id=\"text_216\">\n      <!--  Columbia -->\n      <g style=\"fill:#555555;\" transform=\"translate(1029.02629 896.932375)rotate(-90)scale(0.1 -0.1)\">\n       <use xlink:href=\"#DejaVuSans-32\"/>\n       <use x=\"31.787109\" xlink:href=\"#DejaVuSans-67\"/>\n       <use x=\"101.611328\" xlink:href=\"#DejaVuSans-111\"/>\n       <use x=\"162.792969\" xlink:href=\"#DejaVuSans-108\"/>\n       <use x=\"190.576172\" xlink:href=\"#DejaVuSans-117\"/>\n       <use x=\"253.955078\" xlink:href=\"#DejaVuSans-109\"/>\n       <use x=\"351.367188\" xlink:href=\"#DejaVuSans-98\"/>\n       <use x=\"414.84375\" xlink:href=\"#DejaVuSans-105\"/>\n       <use x=\"442.626953\" xlink:href=\"#DejaVuSans-97\"/>\n      </g>\n     </g>\n    </g>\n    <g id=\"xtick_113\">\n     <g id=\"line2d_405\">\n      <path clip-path=\"url(#pd2a30a1dc7)\" d=\"M 1032.13319 839.54175 \nL 1032.13319 654.223568 \n\" style=\"fill:none;stroke:#ffffff;stroke-linecap:square;stroke-width:0.8;\"/>\n     </g>\n     <g id=\"line2d_406\">\n      <g>\n       <use style=\"fill:#555555;stroke:#555555;stroke-width:0.8;\" x=\"1032.13319\" xlink:href=\"#mdde19dd8b5\" y=\"839.54175\"/>\n      </g>\n     </g>\n     <g id=\"text_217\">\n      <!--  Taiwan -->\n      <g style=\"fill:#555555;\" transform=\"translate(1034.892565 883.727687)rotate(-90)scale(0.1 -0.1)\">\n       <use xlink:href=\"#DejaVuSans-32\"/>\n       <use x=\"31.787109\" xlink:href=\"#DejaVuSans-84\"/>\n       <use x=\"76.371094\" xlink:href=\"#DejaVuSans-97\"/>\n       <use x=\"137.650391\" xlink:href=\"#DejaVuSans-105\"/>\n       <use x=\"165.433594\" xlink:href=\"#DejaVuSans-119\"/>\n       <use x=\"247.220703\" xlink:href=\"#DejaVuSans-97\"/>\n       <use x=\"308.5\" xlink:href=\"#DejaVuSans-110\"/>\n      </g>\n     </g>\n    </g>\n    <g id=\"xtick_114\">\n     <g id=\"line2d_407\">\n      <path clip-path=\"url(#pd2a30a1dc7)\" d=\"M 1037.999464 839.54175 \nL 1037.999464 654.223568 \n\" style=\"fill:none;stroke:#ffffff;stroke-linecap:square;stroke-width:0.8;\"/>\n     </g>\n     <g id=\"line2d_408\">\n      <g>\n       <use style=\"fill:#555555;stroke:#555555;stroke-width:0.8;\" x=\"1037.999464\" xlink:href=\"#mdde19dd8b5\" y=\"839.54175\"/>\n      </g>\n     </g>\n     <g id=\"text_218\">\n      <!--  Haiti -->\n      <g style=\"fill:#555555;\" transform=\"translate(1040.758839 872.844875)rotate(-90)scale(0.1 -0.1)\">\n       <use xlink:href=\"#DejaVuSans-32\"/>\n       <use x=\"31.787109\" xlink:href=\"#DejaVuSans-72\"/>\n       <use x=\"106.982422\" xlink:href=\"#DejaVuSans-97\"/>\n       <use x=\"168.261719\" xlink:href=\"#DejaVuSans-105\"/>\n       <use x=\"196.044922\" xlink:href=\"#DejaVuSans-116\"/>\n       <use x=\"235.253906\" xlink:href=\"#DejaVuSans-105\"/>\n      </g>\n     </g>\n    </g>\n    <g id=\"xtick_115\">\n     <g id=\"line2d_409\">\n      <path clip-path=\"url(#pd2a30a1dc7)\" d=\"M 1043.865738 839.54175 \nL 1043.865738 654.223568 \n\" style=\"fill:none;stroke:#ffffff;stroke-linecap:square;stroke-width:0.8;\"/>\n     </g>\n     <g id=\"line2d_410\">\n      <g>\n       <use style=\"fill:#555555;stroke:#555555;stroke-width:0.8;\" x=\"1043.865738\" xlink:href=\"#mdde19dd8b5\" y=\"839.54175\"/>\n      </g>\n     </g>\n     <g id=\"text_219\">\n      <!--  Iran -->\n      <g style=\"fill:#555555;\" transform=\"translate(1046.625113 869.246437)rotate(-90)scale(0.1 -0.1)\">\n       <use xlink:href=\"#DejaVuSans-32\"/>\n       <use x=\"31.787109\" xlink:href=\"#DejaVuSans-73\"/>\n       <use x=\"61.279297\" xlink:href=\"#DejaVuSans-114\"/>\n       <use x=\"102.392578\" xlink:href=\"#DejaVuSans-97\"/>\n       <use x=\"163.671875\" xlink:href=\"#DejaVuSans-110\"/>\n      </g>\n     </g>\n    </g>\n    <g id=\"xtick_116\">\n     <g id=\"line2d_411\">\n      <path clip-path=\"url(#pd2a30a1dc7)\" d=\"M 1049.732012 839.54175 \nL 1049.732012 654.223568 \n\" style=\"fill:none;stroke:#ffffff;stroke-linecap:square;stroke-width:0.8;\"/>\n     </g>\n     <g id=\"line2d_412\">\n      <g>\n       <use style=\"fill:#555555;stroke:#555555;stroke-width:0.8;\" x=\"1049.732012\" xlink:href=\"#mdde19dd8b5\" y=\"839.54175\"/>\n      </g>\n     </g>\n     <g id=\"text_220\">\n      <!--  Portugal -->\n      <g style=\"fill:#555555;\" transform=\"translate(1052.491387 891.12925)rotate(-90)scale(0.1 -0.1)\">\n       <use xlink:href=\"#DejaVuSans-32\"/>\n       <use x=\"31.787109\" xlink:href=\"#DejaVuSans-80\"/>\n       <use x=\"88.464844\" xlink:href=\"#DejaVuSans-111\"/>\n       <use x=\"149.646484\" xlink:href=\"#DejaVuSans-114\"/>\n       <use x=\"190.759766\" xlink:href=\"#DejaVuSans-116\"/>\n       <use x=\"229.96875\" xlink:href=\"#DejaVuSans-117\"/>\n       <use x=\"293.347656\" xlink:href=\"#DejaVuSans-103\"/>\n       <use x=\"356.824219\" xlink:href=\"#DejaVuSans-97\"/>\n       <use x=\"418.103516\" xlink:href=\"#DejaVuSans-108\"/>\n      </g>\n     </g>\n    </g>\n    <g id=\"xtick_117\">\n     <g id=\"line2d_413\">\n      <path clip-path=\"url(#pd2a30a1dc7)\" d=\"M 1055.598286 839.54175 \nL 1055.598286 654.223568 \n\" style=\"fill:none;stroke:#ffffff;stroke-linecap:square;stroke-width:0.8;\"/>\n     </g>\n     <g id=\"line2d_414\">\n      <g>\n       <use style=\"fill:#555555;stroke:#555555;stroke-width:0.8;\" x=\"1055.598286\" xlink:href=\"#mdde19dd8b5\" y=\"839.54175\"/>\n      </g>\n     </g>\n     <g id=\"text_221\">\n      <!--  Nicaragua -->\n      <g style=\"fill:#555555;\" transform=\"translate(1058.357661 900.658937)rotate(-90)scale(0.1 -0.1)\">\n       <use xlink:href=\"#DejaVuSans-32\"/>\n       <use x=\"31.787109\" xlink:href=\"#DejaVuSans-78\"/>\n       <use x=\"106.591797\" xlink:href=\"#DejaVuSans-105\"/>\n       <use x=\"134.375\" xlink:href=\"#DejaVuSans-99\"/>\n       <use x=\"189.355469\" xlink:href=\"#DejaVuSans-97\"/>\n       <use x=\"250.634766\" xlink:href=\"#DejaVuSans-114\"/>\n       <use x=\"291.748047\" xlink:href=\"#DejaVuSans-97\"/>\n       <use x=\"353.027344\" xlink:href=\"#DejaVuSans-103\"/>\n       <use x=\"416.503906\" xlink:href=\"#DejaVuSans-117\"/>\n       <use x=\"479.882812\" xlink:href=\"#DejaVuSans-97\"/>\n      </g>\n     </g>\n    </g>\n    <g id=\"xtick_118\">\n     <g id=\"line2d_415\">\n      <path clip-path=\"url(#pd2a30a1dc7)\" d=\"M 1061.464561 839.54175 \nL 1061.464561 654.223568 \n\" style=\"fill:none;stroke:#ffffff;stroke-linecap:square;stroke-width:0.8;\"/>\n     </g>\n     <g id=\"line2d_416\">\n      <g>\n       <use style=\"fill:#555555;stroke:#555555;stroke-width:0.8;\" x=\"1061.464561\" xlink:href=\"#mdde19dd8b5\" y=\"839.54175\"/>\n      </g>\n     </g>\n     <g id=\"text_222\">\n      <!--  Peru -->\n      <g style=\"fill:#555555;\" transform=\"translate(1064.223936 871.988625)rotate(-90)scale(0.1 -0.1)\">\n       <use xlink:href=\"#DejaVuSans-32\"/>\n       <use x=\"31.787109\" xlink:href=\"#DejaVuSans-80\"/>\n       <use x=\"88.464844\" xlink:href=\"#DejaVuSans-101\"/>\n       <use x=\"149.988281\" xlink:href=\"#DejaVuSans-114\"/>\n       <use x=\"191.101562\" xlink:href=\"#DejaVuSans-117\"/>\n      </g>\n     </g>\n    </g>\n    <g id=\"xtick_119\">\n     <g id=\"line2d_417\">\n      <path clip-path=\"url(#pd2a30a1dc7)\" d=\"M 1067.330835 839.54175 \nL 1067.330835 654.223568 \n\" style=\"fill:none;stroke:#ffffff;stroke-linecap:square;stroke-width:0.8;\"/>\n     </g>\n     <g id=\"line2d_418\">\n      <g>\n       <use style=\"fill:#555555;stroke:#555555;stroke-width:0.8;\" x=\"1067.330835\" xlink:href=\"#mdde19dd8b5\" y=\"839.54175\"/>\n      </g>\n     </g>\n     <g id=\"text_223\">\n      <!--  France -->\n      <g style=\"fill:#555555;\" transform=\"translate(1070.09021 882.974562)rotate(-90)scale(0.1 -0.1)\">\n       <use xlink:href=\"#DejaVuSans-32\"/>\n       <use x=\"31.787109\" xlink:href=\"#DejaVuSans-70\"/>\n       <use x=\"82.056641\" xlink:href=\"#DejaVuSans-114\"/>\n       <use x=\"123.169922\" xlink:href=\"#DejaVuSans-97\"/>\n       <use x=\"184.449219\" xlink:href=\"#DejaVuSans-110\"/>\n       <use x=\"247.828125\" xlink:href=\"#DejaVuSans-99\"/>\n       <use x=\"302.808594\" xlink:href=\"#DejaVuSans-101\"/>\n      </g>\n     </g>\n    </g>\n    <g id=\"xtick_120\">\n     <g id=\"line2d_419\">\n      <path clip-path=\"url(#pd2a30a1dc7)\" d=\"M 1073.197109 839.54175 \nL 1073.197109 654.223568 \n\" style=\"fill:none;stroke:#ffffff;stroke-linecap:square;stroke-width:0.8;\"/>\n     </g>\n     <g id=\"line2d_420\">\n      <g>\n       <use style=\"fill:#555555;stroke:#555555;stroke-width:0.8;\" x=\"1073.197109\" xlink:href=\"#mdde19dd8b5\" y=\"839.54175\"/>\n      </g>\n     </g>\n     <g id=\"text_224\">\n      <!--  Greece -->\n      <g style=\"fill:#555555;\" transform=\"translate(1075.956484 885.312062)rotate(-90)scale(0.1 -0.1)\">\n       <use xlink:href=\"#DejaVuSans-32\"/>\n       <use x=\"31.787109\" xlink:href=\"#DejaVuSans-71\"/>\n       <use x=\"109.277344\" xlink:href=\"#DejaVuSans-114\"/>\n       <use x=\"148.140625\" xlink:href=\"#DejaVuSans-101\"/>\n       <use x=\"209.664062\" xlink:href=\"#DejaVuSans-101\"/>\n       <use x=\"271.1875\" xlink:href=\"#DejaVuSans-99\"/>\n       <use x=\"326.167969\" xlink:href=\"#DejaVuSans-101\"/>\n      </g>\n     </g>\n    </g>\n    <g id=\"xtick_121\">\n     <g id=\"line2d_421\">\n      <path clip-path=\"url(#pd2a30a1dc7)\" d=\"M 1079.063383 839.54175 \nL 1079.063383 654.223568 \n\" style=\"fill:none;stroke:#ffffff;stroke-linecap:square;stroke-width:0.8;\"/>\n     </g>\n     <g id=\"line2d_422\">\n      <g>\n       <use style=\"fill:#555555;stroke:#555555;stroke-width:0.8;\" x=\"1079.063383\" xlink:href=\"#mdde19dd8b5\" y=\"839.54175\"/>\n      </g>\n     </g>\n     <g id=\"text_225\">\n      <!--  Ecuador -->\n      <g style=\"fill:#555555;\" transform=\"translate(1081.822758 890.580812)rotate(-90)scale(0.1 -0.1)\">\n       <use xlink:href=\"#DejaVuSans-32\"/>\n       <use x=\"31.787109\" xlink:href=\"#DejaVuSans-69\"/>\n       <use x=\"94.970703\" xlink:href=\"#DejaVuSans-99\"/>\n       <use x=\"149.951172\" xlink:href=\"#DejaVuSans-117\"/>\n       <use x=\"213.330078\" xlink:href=\"#DejaVuSans-97\"/>\n       <use x=\"274.609375\" xlink:href=\"#DejaVuSans-100\"/>\n       <use x=\"338.085938\" xlink:href=\"#DejaVuSans-111\"/>\n       <use x=\"399.267578\" xlink:href=\"#DejaVuSans-114\"/>\n      </g>\n     </g>\n    </g>\n    <g id=\"xtick_122\">\n     <g id=\"line2d_423\">\n      <path clip-path=\"url(#pd2a30a1dc7)\" d=\"M 1084.929657 839.54175 \nL 1084.929657 654.223568 \n\" style=\"fill:none;stroke:#ffffff;stroke-linecap:square;stroke-width:0.8;\"/>\n     </g>\n     <g id=\"line2d_424\">\n      <g>\n       <use style=\"fill:#555555;stroke:#555555;stroke-width:0.8;\" x=\"1084.929657\" xlink:href=\"#mdde19dd8b5\" y=\"839.54175\"/>\n      </g>\n     </g>\n     <g id=\"text_226\">\n      <!--  Ireland -->\n      <g style=\"fill:#555555;\" transform=\"translate(1087.689032 884.301125)rotate(-90)scale(0.1 -0.1)\">\n       <use xlink:href=\"#DejaVuSans-32\"/>\n       <use x=\"31.787109\" xlink:href=\"#DejaVuSans-73\"/>\n       <use x=\"61.279297\" xlink:href=\"#DejaVuSans-114\"/>\n       <use x=\"100.142578\" xlink:href=\"#DejaVuSans-101\"/>\n       <use x=\"161.666016\" xlink:href=\"#DejaVuSans-108\"/>\n       <use x=\"189.449219\" xlink:href=\"#DejaVuSans-97\"/>\n       <use x=\"250.728516\" xlink:href=\"#DejaVuSans-110\"/>\n       <use x=\"314.107422\" xlink:href=\"#DejaVuSans-100\"/>\n      </g>\n     </g>\n    </g>\n    <g id=\"xtick_123\">\n     <g id=\"line2d_425\">\n      <path clip-path=\"url(#pd2a30a1dc7)\" d=\"M 1090.795931 839.54175 \nL 1090.795931 654.223568 \n\" style=\"fill:none;stroke:#ffffff;stroke-linecap:square;stroke-width:0.8;\"/>\n     </g>\n     <g id=\"line2d_426\">\n      <g>\n       <use style=\"fill:#555555;stroke:#555555;stroke-width:0.8;\" x=\"1090.795931\" xlink:href=\"#mdde19dd8b5\" y=\"839.54175\"/>\n      </g>\n     </g>\n     <g id=\"text_227\">\n      <!--  Hong -->\n      <g style=\"fill:#555555;\" transform=\"translate(1093.555306 876.044875)rotate(-90)scale(0.1 -0.1)\">\n       <use xlink:href=\"#DejaVuSans-32\"/>\n       <use x=\"31.787109\" xlink:href=\"#DejaVuSans-72\"/>\n       <use x=\"106.982422\" xlink:href=\"#DejaVuSans-111\"/>\n       <use x=\"168.164062\" xlink:href=\"#DejaVuSans-110\"/>\n       <use x=\"231.542969\" xlink:href=\"#DejaVuSans-103\"/>\n      </g>\n     </g>\n    </g>\n    <g id=\"xtick_124\">\n     <g id=\"line2d_427\">\n      <path clip-path=\"url(#pd2a30a1dc7)\" d=\"M 1096.662206 839.54175 \nL 1096.662206 654.223568 \n\" style=\"fill:none;stroke:#ffffff;stroke-linecap:square;stroke-width:0.8;\"/>\n     </g>\n     <g id=\"line2d_428\">\n      <g>\n       <use style=\"fill:#555555;stroke:#555555;stroke-width:0.8;\" x=\"1096.662206\" xlink:href=\"#mdde19dd8b5\" y=\"839.54175\"/>\n      </g>\n     </g>\n     <g id=\"text_228\">\n      <!--  Cambodia -->\n      <g style=\"fill:#555555;\" transform=\"translate(1099.421581 900.293312)rotate(-90)scale(0.1 -0.1)\">\n       <use xlink:href=\"#DejaVuSans-32\"/>\n       <use x=\"31.787109\" xlink:href=\"#DejaVuSans-67\"/>\n       <use x=\"101.611328\" xlink:href=\"#DejaVuSans-97\"/>\n       <use x=\"162.890625\" xlink:href=\"#DejaVuSans-109\"/>\n       <use x=\"260.302734\" xlink:href=\"#DejaVuSans-98\"/>\n       <use x=\"323.779297\" xlink:href=\"#DejaVuSans-111\"/>\n       <use x=\"384.960938\" xlink:href=\"#DejaVuSans-100\"/>\n       <use x=\"448.4375\" xlink:href=\"#DejaVuSans-105\"/>\n       <use x=\"476.220703\" xlink:href=\"#DejaVuSans-97\"/>\n      </g>\n     </g>\n    </g>\n    <g id=\"xtick_125\">\n     <g id=\"line2d_429\">\n      <path clip-path=\"url(#pd2a30a1dc7)\" d=\"M 1102.52848 839.54175 \nL 1102.52848 654.223568 \n\" style=\"fill:none;stroke:#ffffff;stroke-linecap:square;stroke-width:0.8;\"/>\n     </g>\n     <g id=\"line2d_430\">\n      <g>\n       <use style=\"fill:#555555;stroke:#555555;stroke-width:0.8;\" x=\"1102.52848\" xlink:href=\"#mdde19dd8b5\" y=\"839.54175\"/>\n      </g>\n     </g>\n     <g id=\"text_229\">\n      <!--  Trinadad&amp;Tobago -->\n      <defs>\n       <path d=\"M 24.3125 39.203125 \nQ 19.875 35.25 17.796875 31.3125 \nQ 15.71875 27.390625 15.71875 23.09375 \nQ 15.71875 15.96875 20.890625 11.234375 \nQ 26.078125 6.5 33.890625 6.5 \nQ 38.53125 6.5 42.578125 8.03125 \nQ 46.625 9.578125 50.203125 12.703125 \nz\nM 31.203125 44.671875 \nL 56 19.28125 \nQ 58.890625 23.640625 60.5 28.59375 \nQ 62.109375 33.546875 62.40625 39.109375 \nL 71.484375 39.109375 \nQ 70.90625 32.671875 68.359375 26.359375 \nQ 65.828125 20.0625 61.28125 13.921875 \nL 74.90625 0 \nL 62.59375 0 \nL 55.609375 7.171875 \nQ 50.53125 2.828125 44.96875 0.703125 \nQ 39.40625 -1.421875 33.015625 -1.421875 \nQ 21.234375 -1.421875 13.765625 5.296875 \nQ 6.296875 12.015625 6.296875 22.515625 \nQ 6.296875 28.765625 9.5625 34.25 \nQ 12.84375 39.75 19.390625 44.578125 \nQ 17.046875 47.65625 15.8125 50.703125 \nQ 14.59375 53.765625 14.59375 56.6875 \nQ 14.59375 64.59375 20.015625 69.40625 \nQ 25.4375 74.21875 34.421875 74.21875 \nQ 38.484375 74.21875 42.5 73.34375 \nQ 46.53125 72.46875 50.6875 70.703125 \nL 50.6875 61.8125 \nQ 46.4375 64.109375 42.578125 65.296875 \nQ 38.71875 66.5 35.40625 66.5 \nQ 30.28125 66.5 27.078125 63.78125 \nQ 23.875 61.078125 23.875 56.78125 \nQ 23.875 54.296875 25.3125 51.78125 \nQ 26.765625 49.265625 31.203125 44.671875 \nz\n\" id=\"DejaVuSans-38\"/>\n      </defs>\n      <g style=\"fill:#555555;\" transform=\"translate(1105.287855 935.801125)rotate(-90)scale(0.1 -0.1)\">\n       <use xlink:href=\"#DejaVuSans-32\"/>\n       <use x=\"31.787109\" xlink:href=\"#DejaVuSans-84\"/>\n       <use x=\"78.121094\" xlink:href=\"#DejaVuSans-114\"/>\n       <use x=\"119.234375\" xlink:href=\"#DejaVuSans-105\"/>\n       <use x=\"147.017578\" xlink:href=\"#DejaVuSans-110\"/>\n       <use x=\"210.396484\" xlink:href=\"#DejaVuSans-97\"/>\n       <use x=\"271.675781\" xlink:href=\"#DejaVuSans-100\"/>\n       <use x=\"335.152344\" xlink:href=\"#DejaVuSans-97\"/>\n       <use x=\"396.431641\" xlink:href=\"#DejaVuSans-100\"/>\n       <use x=\"459.908203\" xlink:href=\"#DejaVuSans-38\"/>\n       <use x=\"537.886719\" xlink:href=\"#DejaVuSans-84\"/>\n       <use x=\"581.970703\" xlink:href=\"#DejaVuSans-111\"/>\n       <use x=\"643.152344\" xlink:href=\"#DejaVuSans-98\"/>\n       <use x=\"706.628906\" xlink:href=\"#DejaVuSans-97\"/>\n       <use x=\"767.908203\" xlink:href=\"#DejaVuSans-103\"/>\n       <use x=\"831.384766\" xlink:href=\"#DejaVuSans-111\"/>\n      </g>\n     </g>\n    </g>\n    <g id=\"xtick_126\">\n     <g id=\"line2d_431\">\n      <path clip-path=\"url(#pd2a30a1dc7)\" d=\"M 1108.394754 839.54175 \nL 1108.394754 654.223568 \n\" style=\"fill:none;stroke:#ffffff;stroke-linecap:square;stroke-width:0.8;\"/>\n     </g>\n     <g id=\"line2d_432\">\n      <g>\n       <use style=\"fill:#555555;stroke:#555555;stroke-width:0.8;\" x=\"1108.394754\" xlink:href=\"#mdde19dd8b5\" y=\"839.54175\"/>\n      </g>\n     </g>\n     <g id=\"text_230\">\n      <!--  Laos -->\n      <g style=\"fill:#555555;\" transform=\"translate(1111.154129 872.748)rotate(-90)scale(0.1 -0.1)\">\n       <use xlink:href=\"#DejaVuSans-32\"/>\n       <use x=\"31.787109\" xlink:href=\"#DejaVuSans-76\"/>\n       <use x=\"87.5\" xlink:href=\"#DejaVuSans-97\"/>\n       <use x=\"148.779297\" xlink:href=\"#DejaVuSans-111\"/>\n       <use x=\"209.960938\" xlink:href=\"#DejaVuSans-115\"/>\n      </g>\n     </g>\n    </g>\n    <g id=\"xtick_127\">\n     <g id=\"line2d_433\">\n      <path clip-path=\"url(#pd2a30a1dc7)\" d=\"M 1114.261028 839.54175 \nL 1114.261028 654.223568 \n\" style=\"fill:none;stroke:#ffffff;stroke-linecap:square;stroke-width:0.8;\"/>\n     </g>\n     <g id=\"line2d_434\">\n      <g>\n       <use style=\"fill:#555555;stroke:#555555;stroke-width:0.8;\" x=\"1114.261028\" xlink:href=\"#mdde19dd8b5\" y=\"839.54175\"/>\n      </g>\n     </g>\n     <g id=\"text_231\">\n      <!--  Thailand -->\n      <g style=\"fill:#555555;\" transform=\"translate(1117.020403 892.663625)rotate(-90)scale(0.1 -0.1)\">\n       <use xlink:href=\"#DejaVuSans-32\"/>\n       <use x=\"31.787109\" xlink:href=\"#DejaVuSans-84\"/>\n       <use x=\"92.871094\" xlink:href=\"#DejaVuSans-104\"/>\n       <use x=\"156.25\" xlink:href=\"#DejaVuSans-97\"/>\n       <use x=\"217.529297\" xlink:href=\"#DejaVuSans-105\"/>\n       <use x=\"245.3125\" xlink:href=\"#DejaVuSans-108\"/>\n       <use x=\"273.095703\" xlink:href=\"#DejaVuSans-97\"/>\n       <use x=\"334.375\" xlink:href=\"#DejaVuSans-110\"/>\n       <use x=\"397.753906\" xlink:href=\"#DejaVuSans-100\"/>\n      </g>\n     </g>\n    </g>\n    <g id=\"xtick_128\">\n     <g id=\"line2d_435\">\n      <path clip-path=\"url(#pd2a30a1dc7)\" d=\"M 1120.127302 839.54175 \nL 1120.127302 654.223568 \n\" style=\"fill:none;stroke:#ffffff;stroke-linecap:square;stroke-width:0.8;\"/>\n     </g>\n     <g id=\"line2d_436\">\n      <g>\n       <use style=\"fill:#555555;stroke:#555555;stroke-width:0.8;\" x=\"1120.127302\" xlink:href=\"#mdde19dd8b5\" y=\"839.54175\"/>\n      </g>\n     </g>\n     <g id=\"text_232\">\n      <!--  Yugoslavia -->\n      <defs>\n       <path d=\"M -0.203125 72.90625 \nL 10.40625 72.90625 \nL 30.609375 42.921875 \nL 50.6875 72.90625 \nL 61.28125 72.90625 \nL 35.5 34.71875 \nL 35.5 0 \nL 25.59375 0 \nL 25.59375 34.71875 \nz\n\" id=\"DejaVuSans-89\"/>\n      </defs>\n      <g style=\"fill:#555555;\" transform=\"translate(1122.886677 902.423)rotate(-90)scale(0.1 -0.1)\">\n       <use xlink:href=\"#DejaVuSans-32\"/>\n       <use x=\"31.787109\" xlink:href=\"#DejaVuSans-89\"/>\n       <use x=\"81.371094\" xlink:href=\"#DejaVuSans-117\"/>\n       <use x=\"144.75\" xlink:href=\"#DejaVuSans-103\"/>\n       <use x=\"208.226562\" xlink:href=\"#DejaVuSans-111\"/>\n       <use x=\"269.408203\" xlink:href=\"#DejaVuSans-115\"/>\n       <use x=\"321.507812\" xlink:href=\"#DejaVuSans-108\"/>\n       <use x=\"349.291016\" xlink:href=\"#DejaVuSans-97\"/>\n       <use x=\"410.570312\" xlink:href=\"#DejaVuSans-118\"/>\n       <use x=\"469.75\" xlink:href=\"#DejaVuSans-105\"/>\n       <use x=\"497.533203\" xlink:href=\"#DejaVuSans-97\"/>\n      </g>\n     </g>\n    </g>\n    <g id=\"xtick_129\">\n     <g id=\"line2d_437\">\n      <path clip-path=\"url(#pd2a30a1dc7)\" d=\"M 1125.993577 839.54175 \nL 1125.993577 654.223568 \n\" style=\"fill:none;stroke:#ffffff;stroke-linecap:square;stroke-width:0.8;\"/>\n     </g>\n     <g id=\"line2d_438\">\n      <g>\n       <use style=\"fill:#555555;stroke:#555555;stroke-width:0.8;\" x=\"1125.993577\" xlink:href=\"#mdde19dd8b5\" y=\"839.54175\"/>\n      </g>\n     </g>\n     <g id=\"text_233\">\n      <!--  Outlying-US(Guam-USVI-etc) -->\n      <defs>\n       <path d=\"M 31 75.875 \nQ 24.46875 64.65625 21.28125 53.65625 \nQ 18.109375 42.671875 18.109375 31.390625 \nQ 18.109375 20.125 21.3125 9.0625 \nQ 24.515625 -2 31 -13.1875 \nL 23.1875 -13.1875 \nQ 15.875 -1.703125 12.234375 9.375 \nQ 8.59375 20.453125 8.59375 31.390625 \nQ 8.59375 42.28125 12.203125 53.3125 \nQ 15.828125 64.359375 23.1875 75.875 \nz\n\" id=\"DejaVuSans-40\"/>\n       <path d=\"M 8.015625 75.875 \nL 15.828125 75.875 \nQ 23.140625 64.359375 26.78125 53.3125 \nQ 30.421875 42.28125 30.421875 31.390625 \nQ 30.421875 20.453125 26.78125 9.375 \nQ 23.140625 -1.703125 15.828125 -13.1875 \nL 8.015625 -13.1875 \nQ 14.5 -2 17.703125 9.0625 \nQ 20.90625 20.125 20.90625 31.390625 \nQ 20.90625 42.671875 17.703125 53.65625 \nQ 14.5 64.65625 8.015625 75.875 \nz\n\" id=\"DejaVuSans-41\"/>\n      </defs>\n      <g style=\"fill:#555555;\" transform=\"translate(1128.752952 993.288625)rotate(-90)scale(0.1 -0.1)\">\n       <use xlink:href=\"#DejaVuSans-32\"/>\n       <use x=\"31.787109\" xlink:href=\"#DejaVuSans-79\"/>\n       <use x=\"110.498047\" xlink:href=\"#DejaVuSans-117\"/>\n       <use x=\"173.876953\" xlink:href=\"#DejaVuSans-116\"/>\n       <use x=\"213.085938\" xlink:href=\"#DejaVuSans-108\"/>\n       <use x=\"240.869141\" xlink:href=\"#DejaVuSans-121\"/>\n       <use x=\"300.048828\" xlink:href=\"#DejaVuSans-105\"/>\n       <use x=\"327.832031\" xlink:href=\"#DejaVuSans-110\"/>\n       <use x=\"391.210938\" xlink:href=\"#DejaVuSans-103\"/>\n       <use x=\"454.6875\" xlink:href=\"#DejaVuSans-45\"/>\n       <use x=\"490.771484\" xlink:href=\"#DejaVuSans-85\"/>\n       <use x=\"563.964844\" xlink:href=\"#DejaVuSans-83\"/>\n       <use x=\"627.441406\" xlink:href=\"#DejaVuSans-40\"/>\n       <use x=\"666.455078\" xlink:href=\"#DejaVuSans-71\"/>\n       <use x=\"743.945312\" xlink:href=\"#DejaVuSans-117\"/>\n       <use x=\"807.324219\" xlink:href=\"#DejaVuSans-97\"/>\n       <use x=\"868.603516\" xlink:href=\"#DejaVuSans-109\"/>\n       <use x=\"966.015625\" xlink:href=\"#DejaVuSans-45\"/>\n       <use x=\"1002.099609\" xlink:href=\"#DejaVuSans-85\"/>\n       <use x=\"1075.292969\" xlink:href=\"#DejaVuSans-83\"/>\n       <use x=\"1138.769531\" xlink:href=\"#DejaVuSans-86\"/>\n       <use x=\"1207.177734\" xlink:href=\"#DejaVuSans-73\"/>\n       <use x=\"1236.669922\" xlink:href=\"#DejaVuSans-45\"/>\n       <use x=\"1272.753906\" xlink:href=\"#DejaVuSans-101\"/>\n       <use x=\"1334.277344\" xlink:href=\"#DejaVuSans-116\"/>\n       <use x=\"1373.486328\" xlink:href=\"#DejaVuSans-99\"/>\n       <use x=\"1428.466797\" xlink:href=\"#DejaVuSans-41\"/>\n      </g>\n     </g>\n    </g>\n    <g id=\"xtick_130\">\n     <g id=\"line2d_439\">\n      <path clip-path=\"url(#pd2a30a1dc7)\" d=\"M 1131.859851 839.54175 \nL 1131.859851 654.223568 \n\" style=\"fill:none;stroke:#ffffff;stroke-linecap:square;stroke-width:0.8;\"/>\n     </g>\n     <g id=\"line2d_440\">\n      <g>\n       <use style=\"fill:#555555;stroke:#555555;stroke-width:0.8;\" x=\"1131.859851\" xlink:href=\"#mdde19dd8b5\" y=\"839.54175\"/>\n      </g>\n     </g>\n     <g id=\"text_234\">\n      <!--  Honduras -->\n      <g style=\"fill:#555555;\" transform=\"translate(1134.619226 897.830812)rotate(-90)scale(0.1 -0.1)\">\n       <use xlink:href=\"#DejaVuSans-32\"/>\n       <use x=\"31.787109\" xlink:href=\"#DejaVuSans-72\"/>\n       <use x=\"106.982422\" xlink:href=\"#DejaVuSans-111\"/>\n       <use x=\"168.164062\" xlink:href=\"#DejaVuSans-110\"/>\n       <use x=\"231.542969\" xlink:href=\"#DejaVuSans-100\"/>\n       <use x=\"295.019531\" xlink:href=\"#DejaVuSans-117\"/>\n       <use x=\"358.398438\" xlink:href=\"#DejaVuSans-114\"/>\n       <use x=\"399.511719\" xlink:href=\"#DejaVuSans-97\"/>\n       <use x=\"460.791016\" xlink:href=\"#DejaVuSans-115\"/>\n      </g>\n     </g>\n    </g>\n    <g id=\"xtick_131\">\n     <g id=\"line2d_441\">\n      <path clip-path=\"url(#pd2a30a1dc7)\" d=\"M 1137.726125 839.54175 \nL 1137.726125 654.223568 \n\" style=\"fill:none;stroke:#ffffff;stroke-linecap:square;stroke-width:0.8;\"/>\n     </g>\n     <g id=\"line2d_442\">\n      <g>\n       <use style=\"fill:#555555;stroke:#555555;stroke-width:0.8;\" x=\"1137.726125\" xlink:href=\"#mdde19dd8b5\" y=\"839.54175\"/>\n      </g>\n     </g>\n     <g id=\"text_235\">\n      <!--  Hungary -->\n      <g style=\"fill:#555555;\" transform=\"translate(1140.4855 892.421437)rotate(-90)scale(0.1 -0.1)\">\n       <use xlink:href=\"#DejaVuSans-32\"/>\n       <use x=\"31.787109\" xlink:href=\"#DejaVuSans-72\"/>\n       <use x=\"106.982422\" xlink:href=\"#DejaVuSans-117\"/>\n       <use x=\"170.361328\" xlink:href=\"#DejaVuSans-110\"/>\n       <use x=\"233.740234\" xlink:href=\"#DejaVuSans-103\"/>\n       <use x=\"297.216797\" xlink:href=\"#DejaVuSans-97\"/>\n       <use x=\"358.496094\" xlink:href=\"#DejaVuSans-114\"/>\n       <use x=\"399.609375\" xlink:href=\"#DejaVuSans-121\"/>\n      </g>\n     </g>\n    </g>\n    <g id=\"xtick_132\">\n     <g id=\"line2d_443\">\n      <path clip-path=\"url(#pd2a30a1dc7)\" d=\"M 1143.592399 839.54175 \nL 1143.592399 654.223568 \n\" style=\"fill:none;stroke:#ffffff;stroke-linecap:square;stroke-width:0.8;\"/>\n     </g>\n     <g id=\"line2d_444\">\n      <g>\n       <use style=\"fill:#555555;stroke:#555555;stroke-width:0.8;\" x=\"1143.592399\" xlink:href=\"#mdde19dd8b5\" y=\"839.54175\"/>\n      </g>\n     </g>\n     <g id=\"text_236\">\n      <!--  Scotland -->\n      <g style=\"fill:#555555;\" transform=\"translate(1146.351774 893.198)rotate(-90)scale(0.1 -0.1)\">\n       <use xlink:href=\"#DejaVuSans-32\"/>\n       <use x=\"31.787109\" xlink:href=\"#DejaVuSans-83\"/>\n       <use x=\"95.263672\" xlink:href=\"#DejaVuSans-99\"/>\n       <use x=\"150.244141\" xlink:href=\"#DejaVuSans-111\"/>\n       <use x=\"211.425781\" xlink:href=\"#DejaVuSans-116\"/>\n       <use x=\"250.634766\" xlink:href=\"#DejaVuSans-108\"/>\n       <use x=\"278.417969\" xlink:href=\"#DejaVuSans-97\"/>\n       <use x=\"339.697266\" xlink:href=\"#DejaVuSans-110\"/>\n       <use x=\"403.076172\" xlink:href=\"#DejaVuSans-100\"/>\n      </g>\n     </g>\n    </g>\n    <g id=\"xtick_133\">\n     <g id=\"line2d_445\">\n      <path clip-path=\"url(#pd2a30a1dc7)\" d=\"M 1149.458673 839.54175 \nL 1149.458673 654.223568 \n\" style=\"fill:none;stroke:#ffffff;stroke-linecap:square;stroke-width:0.8;\"/>\n     </g>\n     <g id=\"line2d_446\">\n      <g>\n       <use style=\"fill:#555555;stroke:#555555;stroke-width:0.8;\" x=\"1149.458673\" xlink:href=\"#mdde19dd8b5\" y=\"839.54175\"/>\n      </g>\n     </g>\n     <g id=\"text_237\">\n      <!--  Holand-Netherlands -->\n      <g style=\"fill:#555555;\" transform=\"translate(1152.218048 949.51675)rotate(-90)scale(0.1 -0.1)\">\n       <use xlink:href=\"#DejaVuSans-32\"/>\n       <use x=\"31.787109\" xlink:href=\"#DejaVuSans-72\"/>\n       <use x=\"106.982422\" xlink:href=\"#DejaVuSans-111\"/>\n       <use x=\"168.164062\" xlink:href=\"#DejaVuSans-108\"/>\n       <use x=\"195.947266\" xlink:href=\"#DejaVuSans-97\"/>\n       <use x=\"257.226562\" xlink:href=\"#DejaVuSans-110\"/>\n       <use x=\"320.605469\" xlink:href=\"#DejaVuSans-100\"/>\n       <use x=\"384.082031\" xlink:href=\"#DejaVuSans-45\"/>\n       <use x=\"420.166016\" xlink:href=\"#DejaVuSans-78\"/>\n       <use x=\"494.970703\" xlink:href=\"#DejaVuSans-101\"/>\n       <use x=\"556.494141\" xlink:href=\"#DejaVuSans-116\"/>\n       <use x=\"595.703125\" xlink:href=\"#DejaVuSans-104\"/>\n       <use x=\"659.082031\" xlink:href=\"#DejaVuSans-101\"/>\n       <use x=\"720.605469\" xlink:href=\"#DejaVuSans-114\"/>\n       <use x=\"761.71875\" xlink:href=\"#DejaVuSans-108\"/>\n       <use x=\"789.501953\" xlink:href=\"#DejaVuSans-97\"/>\n       <use x=\"850.78125\" xlink:href=\"#DejaVuSans-110\"/>\n       <use x=\"914.160156\" xlink:href=\"#DejaVuSans-100\"/>\n       <use x=\"977.636719\" xlink:href=\"#DejaVuSans-115\"/>\n      </g>\n     </g>\n    </g>\n   </g>\n   <g id=\"matplotlib.axis_28\">\n    <g id=\"ytick_91\">\n     <g id=\"line2d_447\">\n      <path clip-path=\"url(#pd2a30a1dc7)\" d=\"M 911.874569 839.54175 \nL 1152.39181 839.54175 \n\" style=\"fill:none;stroke:#ffffff;stroke-linecap:square;stroke-width:0.8;\"/>\n     </g>\n     <g id=\"line2d_448\">\n      <g>\n       <use style=\"fill:#555555;stroke:#555555;stroke-width:0.8;\" x=\"911.874569\" xlink:href=\"#m29fc131eff\" y=\"839.54175\"/>\n      </g>\n     </g>\n     <g id=\"text_238\">\n      <!-- 0 -->\n      <g style=\"fill:#555555;\" transform=\"translate(898.512069 843.340969)scale(0.1 -0.1)\">\n       <use xlink:href=\"#DejaVuSans-48\"/>\n      </g>\n     </g>\n    </g>\n    <g id=\"ytick_92\">\n     <g id=\"line2d_449\">\n      <path clip-path=\"url(#pd2a30a1dc7)\" d=\"M 911.874569 809.289178 \nL 1152.39181 809.289178 \n\" style=\"fill:none;stroke:#ffffff;stroke-linecap:square;stroke-width:0.8;\"/>\n     </g>\n     <g id=\"line2d_450\">\n      <g>\n       <use style=\"fill:#555555;stroke:#555555;stroke-width:0.8;\" x=\"911.874569\" xlink:href=\"#m29fc131eff\" y=\"809.289178\"/>\n      </g>\n     </g>\n     <g id=\"text_239\">\n      <!-- 5000 -->\n      <g style=\"fill:#555555;\" transform=\"translate(879.424569 813.088397)scale(0.1 -0.1)\">\n       <use xlink:href=\"#DejaVuSans-53\"/>\n       <use x=\"63.623047\" xlink:href=\"#DejaVuSans-48\"/>\n       <use x=\"127.246094\" xlink:href=\"#DejaVuSans-48\"/>\n       <use x=\"190.869141\" xlink:href=\"#DejaVuSans-48\"/>\n      </g>\n     </g>\n    </g>\n    <g id=\"ytick_93\">\n     <g id=\"line2d_451\">\n      <path clip-path=\"url(#pd2a30a1dc7)\" d=\"M 911.874569 779.036606 \nL 1152.39181 779.036606 \n\" style=\"fill:none;stroke:#ffffff;stroke-linecap:square;stroke-width:0.8;\"/>\n     </g>\n     <g id=\"line2d_452\">\n      <g>\n       <use style=\"fill:#555555;stroke:#555555;stroke-width:0.8;\" x=\"911.874569\" xlink:href=\"#m29fc131eff\" y=\"779.036606\"/>\n      </g>\n     </g>\n     <g id=\"text_240\">\n      <!-- 10000 -->\n      <g style=\"fill:#555555;\" transform=\"translate(873.062069 782.835824)scale(0.1 -0.1)\">\n       <use xlink:href=\"#DejaVuSans-49\"/>\n       <use x=\"63.623047\" xlink:href=\"#DejaVuSans-48\"/>\n       <use x=\"127.246094\" xlink:href=\"#DejaVuSans-48\"/>\n       <use x=\"190.869141\" xlink:href=\"#DejaVuSans-48\"/>\n       <use x=\"254.492188\" xlink:href=\"#DejaVuSans-48\"/>\n      </g>\n     </g>\n    </g>\n    <g id=\"ytick_94\">\n     <g id=\"line2d_453\">\n      <path clip-path=\"url(#pd2a30a1dc7)\" d=\"M 911.874569 748.784033 \nL 1152.39181 748.784033 \n\" style=\"fill:none;stroke:#ffffff;stroke-linecap:square;stroke-width:0.8;\"/>\n     </g>\n     <g id=\"line2d_454\">\n      <g>\n       <use style=\"fill:#555555;stroke:#555555;stroke-width:0.8;\" x=\"911.874569\" xlink:href=\"#m29fc131eff\" y=\"748.784033\"/>\n      </g>\n     </g>\n     <g id=\"text_241\">\n      <!-- 15000 -->\n      <g style=\"fill:#555555;\" transform=\"translate(873.062069 752.583252)scale(0.1 -0.1)\">\n       <use xlink:href=\"#DejaVuSans-49\"/>\n       <use x=\"63.623047\" xlink:href=\"#DejaVuSans-53\"/>\n       <use x=\"127.246094\" xlink:href=\"#DejaVuSans-48\"/>\n       <use x=\"190.869141\" xlink:href=\"#DejaVuSans-48\"/>\n       <use x=\"254.492188\" xlink:href=\"#DejaVuSans-48\"/>\n      </g>\n     </g>\n    </g>\n    <g id=\"ytick_95\">\n     <g id=\"line2d_455\">\n      <path clip-path=\"url(#pd2a30a1dc7)\" d=\"M 911.874569 718.531461 \nL 1152.39181 718.531461 \n\" style=\"fill:none;stroke:#ffffff;stroke-linecap:square;stroke-width:0.8;\"/>\n     </g>\n     <g id=\"line2d_456\">\n      <g>\n       <use style=\"fill:#555555;stroke:#555555;stroke-width:0.8;\" x=\"911.874569\" xlink:href=\"#m29fc131eff\" y=\"718.531461\"/>\n      </g>\n     </g>\n     <g id=\"text_242\">\n      <!-- 20000 -->\n      <g style=\"fill:#555555;\" transform=\"translate(873.062069 722.33068)scale(0.1 -0.1)\">\n       <use xlink:href=\"#DejaVuSans-50\"/>\n       <use x=\"63.623047\" xlink:href=\"#DejaVuSans-48\"/>\n       <use x=\"127.246094\" xlink:href=\"#DejaVuSans-48\"/>\n       <use x=\"190.869141\" xlink:href=\"#DejaVuSans-48\"/>\n       <use x=\"254.492188\" xlink:href=\"#DejaVuSans-48\"/>\n      </g>\n     </g>\n    </g>\n    <g id=\"ytick_96\">\n     <g id=\"line2d_457\">\n      <path clip-path=\"url(#pd2a30a1dc7)\" d=\"M 911.874569 688.278889 \nL 1152.39181 688.278889 \n\" style=\"fill:none;stroke:#ffffff;stroke-linecap:square;stroke-width:0.8;\"/>\n     </g>\n     <g id=\"line2d_458\">\n      <g>\n       <use style=\"fill:#555555;stroke:#555555;stroke-width:0.8;\" x=\"911.874569\" xlink:href=\"#m29fc131eff\" y=\"688.278889\"/>\n      </g>\n     </g>\n     <g id=\"text_243\">\n      <!-- 25000 -->\n      <g style=\"fill:#555555;\" transform=\"translate(873.062069 692.078108)scale(0.1 -0.1)\">\n       <use xlink:href=\"#DejaVuSans-50\"/>\n       <use x=\"63.623047\" xlink:href=\"#DejaVuSans-53\"/>\n       <use x=\"127.246094\" xlink:href=\"#DejaVuSans-48\"/>\n       <use x=\"190.869141\" xlink:href=\"#DejaVuSans-48\"/>\n       <use x=\"254.492188\" xlink:href=\"#DejaVuSans-48\"/>\n      </g>\n     </g>\n    </g>\n    <g id=\"ytick_97\">\n     <g id=\"line2d_459\">\n      <path clip-path=\"url(#pd2a30a1dc7)\" d=\"M 911.874569 658.026317 \nL 1152.39181 658.026317 \n\" style=\"fill:none;stroke:#ffffff;stroke-linecap:square;stroke-width:0.8;\"/>\n     </g>\n     <g id=\"line2d_460\">\n      <g>\n       <use style=\"fill:#555555;stroke:#555555;stroke-width:0.8;\" x=\"911.874569\" xlink:href=\"#m29fc131eff\" y=\"658.026317\"/>\n      </g>\n     </g>\n     <g id=\"text_244\">\n      <!-- 30000 -->\n      <g style=\"fill:#555555;\" transform=\"translate(873.062069 661.825535)scale(0.1 -0.1)\">\n       <use xlink:href=\"#DejaVuSans-51\"/>\n       <use x=\"63.623047\" xlink:href=\"#DejaVuSans-48\"/>\n       <use x=\"127.246094\" xlink:href=\"#DejaVuSans-48\"/>\n       <use x=\"190.869141\" xlink:href=\"#DejaVuSans-48\"/>\n       <use x=\"254.492188\" xlink:href=\"#DejaVuSans-48\"/>\n      </g>\n     </g>\n    </g>\n   </g>\n   <g id=\"patch_186\">\n    <path clip-path=\"url(#pd2a30a1dc7)\" d=\"M 913.341138 839.54175 \nL 916.274275 839.54175 \nL 916.274275 663.048244 \nL 913.341138 663.048244 \nz\n\" style=\"fill:#e24a33;\"/>\n   </g>\n   <g id=\"patch_187\">\n    <path clip-path=\"url(#pd2a30a1dc7)\" d=\"M 919.207412 839.54175 \nL 922.140549 839.54175 \nL 922.140549 835.651269 \nL 919.207412 835.651269 \nz\n\" style=\"fill:#e24a33;\"/>\n   </g>\n   <g id=\"patch_188\">\n    <path clip-path=\"url(#pd2a30a1dc7)\" d=\"M 925.073686 839.54175 \nL 928.006823 839.54175 \nL 928.006823 838.343748 \nL 925.073686 838.343748 \nz\n\" style=\"fill:#e24a33;\"/>\n   </g>\n   <g id=\"patch_189\">\n    <path clip-path=\"url(#pd2a30a1dc7)\" d=\"M 930.93996 839.54175 \nL 933.873097 839.54175 \nL 933.873097 838.71283 \nL 930.93996 838.71283 \nz\n\" style=\"fill:#e24a33;\"/>\n   </g>\n   <g id=\"patch_190\">\n    <path clip-path=\"url(#pd2a30a1dc7)\" d=\"M 936.806234 839.54175 \nL 939.739371 839.54175 \nL 939.739371 838.809638 \nL 936.806234 838.809638 \nz\n\" style=\"fill:#e24a33;\"/>\n   </g>\n   <g id=\"patch_191\">\n    <path clip-path=\"url(#pd2a30a1dc7)\" d=\"M 942.672508 839.54175 \nL 945.605646 839.54175 \nL 945.605646 838.851991 \nL 942.672508 838.851991 \nz\n\" style=\"fill:#e24a33;\"/>\n   </g>\n   <g id=\"patch_192\">\n    <path clip-path=\"url(#pd2a30a1dc7)\" d=\"M 948.538783 839.54175 \nL 951.47192 839.54175 \nL 951.47192 838.900395 \nL 948.538783 838.900395 \nz\n\" style=\"fill:#e24a33;\"/>\n   </g>\n   <g id=\"patch_193\">\n    <path clip-path=\"url(#pd2a30a1dc7)\" d=\"M 954.405057 839.54175 \nL 957.338194 839.54175 \nL 957.338194 838.936699 \nL 954.405057 838.936699 \nz\n\" style=\"fill:#e24a33;\"/>\n   </g>\n   <g id=\"patch_194\">\n    <path clip-path=\"url(#pd2a30a1dc7)\" d=\"M 960.271331 839.54175 \nL 963.204468 839.54175 \nL 963.204468 838.966951 \nL 960.271331 838.966951 \nz\n\" style=\"fill:#e24a33;\"/>\n   </g>\n   <g id=\"patch_195\">\n    <path clip-path=\"url(#pd2a30a1dc7)\" d=\"M 966.137605 839.54175 \nL 969.070742 839.54175 \nL 969.070742 838.997204 \nL 966.137605 838.997204 \nz\n\" style=\"fill:#e24a33;\"/>\n   </g>\n   <g id=\"patch_196\">\n    <path clip-path=\"url(#pd2a30a1dc7)\" d=\"M 972.003879 839.54175 \nL 974.937016 839.54175 \nL 974.937016 839.051658 \nL 972.003879 839.051658 \nz\n\" style=\"fill:#e24a33;\"/>\n   </g>\n   <g id=\"patch_197\">\n    <path clip-path=\"url(#pd2a30a1dc7)\" d=\"M 977.870153 839.54175 \nL 980.803291 839.54175 \nL 980.803291 839.057709 \nL 977.870153 839.057709 \nz\n\" style=\"fill:#e24a33;\"/>\n   </g>\n   <g id=\"patch_198\">\n    <path clip-path=\"url(#pd2a30a1dc7)\" d=\"M 983.736428 839.54175 \nL 986.669565 839.54175 \nL 986.669565 839.087961 \nL 983.736428 839.087961 \nz\n\" style=\"fill:#e24a33;\"/>\n   </g>\n   <g id=\"patch_199\">\n    <path clip-path=\"url(#pd2a30a1dc7)\" d=\"M 989.602702 839.54175 \nL 992.535839 839.54175 \nL 992.535839 839.100062 \nL 989.602702 839.100062 \nz\n\" style=\"fill:#e24a33;\"/>\n   </g>\n   <g id=\"patch_200\">\n    <path clip-path=\"url(#pd2a30a1dc7)\" d=\"M 995.468976 839.54175 \nL 998.402113 839.54175 \nL 998.402113 839.118214 \nL 995.468976 839.118214 \nz\n\" style=\"fill:#e24a33;\"/>\n   </g>\n   <g id=\"patch_201\">\n    <path clip-path=\"url(#pd2a30a1dc7)\" d=\"M 1001.33525 839.54175 \nL 1004.268387 839.54175 \nL 1004.268387 839.136366 \nL 1001.33525 839.136366 \nz\n\" style=\"fill:#e24a33;\"/>\n   </g>\n   <g id=\"patch_202\">\n    <path clip-path=\"url(#pd2a30a1dc7)\" d=\"M 1007.201524 839.54175 \nL 1010.134661 839.54175 \nL 1010.134661 839.154517 \nL 1007.201524 839.154517 \nz\n\" style=\"fill:#e24a33;\"/>\n   </g>\n   <g id=\"patch_203\">\n    <path clip-path=\"url(#pd2a30a1dc7)\" d=\"M 1013.067799 839.54175 \nL 1016.000936 839.54175 \nL 1016.000936 839.166618 \nL 1013.067799 839.166618 \nz\n\" style=\"fill:#e24a33;\"/>\n   </g>\n   <g id=\"patch_204\">\n    <path clip-path=\"url(#pd2a30a1dc7)\" d=\"M 1018.934073 839.54175 \nL 1021.86721 839.54175 \nL 1021.86721 839.178719 \nL 1018.934073 839.178719 \nz\n\" style=\"fill:#e24a33;\"/>\n   </g>\n   <g id=\"patch_205\">\n    <path clip-path=\"url(#pd2a30a1dc7)\" d=\"M 1024.800347 839.54175 \nL 1027.733484 839.54175 \nL 1027.733484 839.18477 \nL 1024.800347 839.18477 \nz\n\" style=\"fill:#e24a33;\"/>\n   </g>\n   <g id=\"patch_206\">\n    <path clip-path=\"url(#pd2a30a1dc7)\" d=\"M 1030.666621 839.54175 \nL 1033.599758 839.54175 \nL 1033.599758 839.233174 \nL 1030.666621 839.233174 \nz\n\" style=\"fill:#e24a33;\"/>\n   </g>\n   <g id=\"patch_207\">\n    <path clip-path=\"url(#pd2a30a1dc7)\" d=\"M 1036.532895 839.54175 \nL 1039.466032 839.54175 \nL 1039.466032 839.275527 \nL 1036.532895 839.275527 \nz\n\" style=\"fill:#e24a33;\"/>\n   </g>\n   <g id=\"patch_208\">\n    <path clip-path=\"url(#pd2a30a1dc7)\" d=\"M 1042.399169 839.54175 \nL 1045.332307 839.54175 \nL 1045.332307 839.281578 \nL 1042.399169 839.281578 \nz\n\" style=\"fill:#e24a33;\"/>\n   </g>\n   <g id=\"patch_209\">\n    <path clip-path=\"url(#pd2a30a1dc7)\" d=\"M 1048.265444 839.54175 \nL 1051.198581 839.54175 \nL 1051.198581 839.317881 \nL 1048.265444 839.317881 \nz\n\" style=\"fill:#e24a33;\"/>\n   </g>\n   <g id=\"patch_210\">\n    <path clip-path=\"url(#pd2a30a1dc7)\" d=\"M 1054.131718 839.54175 \nL 1057.064855 839.54175 \nL 1057.064855 839.336033 \nL 1054.131718 839.336033 \nz\n\" style=\"fill:#e24a33;\"/>\n   </g>\n   <g id=\"patch_211\">\n    <path clip-path=\"url(#pd2a30a1dc7)\" d=\"M 1059.997992 839.54175 \nL 1062.931129 839.54175 \nL 1062.931129 839.354184 \nL 1059.997992 839.354184 \nz\n\" style=\"fill:#e24a33;\"/>\n   </g>\n   <g id=\"patch_212\">\n    <path clip-path=\"url(#pd2a30a1dc7)\" d=\"M 1065.864266 839.54175 \nL 1068.797403 839.54175 \nL 1068.797403 839.366285 \nL 1065.864266 839.366285 \nz\n\" style=\"fill:#e24a33;\"/>\n   </g>\n   <g id=\"patch_213\">\n    <path clip-path=\"url(#pd2a30a1dc7)\" d=\"M 1071.73054 839.54175 \nL 1074.663677 839.54175 \nL 1074.663677 839.366285 \nL 1071.73054 839.366285 \nz\n\" style=\"fill:#e24a33;\"/>\n   </g>\n   <g id=\"patch_214\">\n    <path clip-path=\"url(#pd2a30a1dc7)\" d=\"M 1077.596815 839.54175 \nL 1080.529952 839.54175 \nL 1080.529952 839.372336 \nL 1077.596815 839.372336 \nz\n\" style=\"fill:#e24a33;\"/>\n   </g>\n   <g id=\"patch_215\">\n    <path clip-path=\"url(#pd2a30a1dc7)\" d=\"M 1083.463089 839.54175 \nL 1086.396226 839.54175 \nL 1086.396226 839.396538 \nL 1083.463089 839.396538 \nz\n\" style=\"fill:#e24a33;\"/>\n   </g>\n   <g id=\"patch_216\">\n    <path clip-path=\"url(#pd2a30a1dc7)\" d=\"M 1089.329363 839.54175 \nL 1092.2625 839.54175 \nL 1092.2625 839.42074 \nL 1089.329363 839.42074 \nz\n\" style=\"fill:#e24a33;\"/>\n   </g>\n   <g id=\"patch_217\">\n    <path clip-path=\"url(#pd2a30a1dc7)\" d=\"M 1095.195637 839.54175 \nL 1098.128774 839.54175 \nL 1098.128774 839.42679 \nL 1095.195637 839.42679 \nz\n\" style=\"fill:#e24a33;\"/>\n   </g>\n   <g id=\"patch_218\">\n    <path clip-path=\"url(#pd2a30a1dc7)\" d=\"M 1101.061911 839.54175 \nL 1103.995048 839.54175 \nL 1103.995048 839.42679 \nL 1101.061911 839.42679 \nz\n\" style=\"fill:#e24a33;\"/>\n   </g>\n   <g id=\"patch_219\">\n    <path clip-path=\"url(#pd2a30a1dc7)\" d=\"M 1106.928185 839.54175 \nL 1109.861323 839.54175 \nL 1109.861323 839.432841 \nL 1106.928185 839.432841 \nz\n\" style=\"fill:#e24a33;\"/>\n   </g>\n   <g id=\"patch_220\">\n    <path clip-path=\"url(#pd2a30a1dc7)\" d=\"M 1112.79446 839.54175 \nL 1115.727597 839.54175 \nL 1115.727597 839.432841 \nL 1112.79446 839.432841 \nz\n\" style=\"fill:#e24a33;\"/>\n   </g>\n   <g id=\"patch_221\">\n    <path clip-path=\"url(#pd2a30a1dc7)\" d=\"M 1118.660734 839.54175 \nL 1121.593871 839.54175 \nL 1121.593871 839.444942 \nL 1118.660734 839.444942 \nz\n\" style=\"fill:#e24a33;\"/>\n   </g>\n   <g id=\"patch_222\">\n    <path clip-path=\"url(#pd2a30a1dc7)\" d=\"M 1124.527008 839.54175 \nL 1127.460145 839.54175 \nL 1127.460145 839.457043 \nL 1124.527008 839.457043 \nz\n\" style=\"fill:#e24a33;\"/>\n   </g>\n   <g id=\"patch_223\">\n    <path clip-path=\"url(#pd2a30a1dc7)\" d=\"M 1130.393282 839.54175 \nL 1133.326419 839.54175 \nL 1133.326419 839.463093 \nL 1130.393282 839.463093 \nz\n\" style=\"fill:#e24a33;\"/>\n   </g>\n   <g id=\"patch_224\">\n    <path clip-path=\"url(#pd2a30a1dc7)\" d=\"M 1136.259556 839.54175 \nL 1139.192693 839.54175 \nL 1139.192693 839.463093 \nL 1136.259556 839.463093 \nz\n\" style=\"fill:#e24a33;\"/>\n   </g>\n   <g id=\"patch_225\">\n    <path clip-path=\"url(#pd2a30a1dc7)\" d=\"M 1142.125831 839.54175 \nL 1145.058968 839.54175 \nL 1145.058968 839.469144 \nL 1142.125831 839.469144 \nz\n\" style=\"fill:#e24a33;\"/>\n   </g>\n   <g id=\"patch_226\">\n    <path clip-path=\"url(#pd2a30a1dc7)\" d=\"M 1147.992105 839.54175 \nL 1150.925242 839.54175 \nL 1150.925242 839.535699 \nL 1147.992105 839.535699 \nz\n\" style=\"fill:#e24a33;\"/>\n   </g>\n   <g id=\"patch_227\">\n    <path d=\"M 911.874569 839.54175 \nL 911.874569 654.223568 \n\" style=\"fill:none;stroke:#ffffff;stroke-linecap:square;stroke-linejoin:miter;\"/>\n   </g>\n   <g id=\"patch_228\">\n    <path d=\"M 1152.39181 839.54175 \nL 1152.39181 654.223568 \n\" style=\"fill:none;stroke:#ffffff;stroke-linecap:square;stroke-linejoin:miter;\"/>\n   </g>\n   <g id=\"patch_229\">\n    <path d=\"M 911.874569 839.54175 \nL 1152.39181 839.54175 \n\" style=\"fill:none;stroke:#ffffff;stroke-linecap:square;stroke-linejoin:miter;\"/>\n   </g>\n   <g id=\"patch_230\">\n    <path d=\"M 911.874569 654.223568 \nL 1152.39181 654.223568 \n\" style=\"fill:none;stroke:#ffffff;stroke-linecap:square;stroke-linejoin:miter;\"/>\n   </g>\n   <g id=\"text_245\">\n    <!-- Country -->\n    <g transform=\"translate(1003.530065 648.223568)scale(0.144 -0.144)\">\n     <use xlink:href=\"#DejaVuSans-67\"/>\n     <use x=\"69.824219\" xlink:href=\"#DejaVuSans-111\"/>\n     <use x=\"131.005859\" xlink:href=\"#DejaVuSans-117\"/>\n     <use x=\"194.384766\" xlink:href=\"#DejaVuSans-110\"/>\n     <use x=\"257.763672\" xlink:href=\"#DejaVuSans-116\"/>\n     <use x=\"296.972656\" xlink:href=\"#DejaVuSans-114\"/>\n     <use x=\"338.085938\" xlink:href=\"#DejaVuSans-121\"/>\n    </g>\n   </g>\n  </g>\n  <g id=\"axes_15\">\n   <g id=\"patch_231\">\n    <path d=\"M 1200.495259 839.54175 \nL 1441.0125 839.54175 \nL 1441.0125 654.223568 \nL 1200.495259 654.223568 \nz\n\" style=\"fill:#e5e5e5;\"/>\n   </g>\n   <g id=\"matplotlib.axis_29\">\n    <g id=\"xtick_134\">\n     <g id=\"line2d_461\">\n      <path clip-path=\"url(#pc63f6e7fb8)\" d=\"M 1260.624569 839.54175 \nL 1260.624569 654.223568 \n\" style=\"fill:none;stroke:#ffffff;stroke-linecap:square;stroke-width:0.8;\"/>\n     </g>\n     <g id=\"line2d_462\">\n      <g>\n       <use style=\"fill:#555555;stroke:#555555;stroke-width:0.8;\" x=\"1260.624569\" xlink:href=\"#mdde19dd8b5\" y=\"839.54175\"/>\n      </g>\n     </g>\n     <g id=\"text_246\">\n      <!-- 0 -->\n      <g style=\"fill:#555555;\" transform=\"translate(1263.383944 852.90425)rotate(-90)scale(0.1 -0.1)\">\n       <use xlink:href=\"#DejaVuSans-48\"/>\n      </g>\n     </g>\n    </g>\n    <g id=\"xtick_135\">\n     <g id=\"line2d_463\">\n      <path clip-path=\"url(#pc63f6e7fb8)\" d=\"M 1380.88319 839.54175 \nL 1380.88319 654.223568 \n\" style=\"fill:none;stroke:#ffffff;stroke-linecap:square;stroke-width:0.8;\"/>\n     </g>\n     <g id=\"line2d_464\">\n      <g>\n       <use style=\"fill:#555555;stroke:#555555;stroke-width:0.8;\" x=\"1380.88319\" xlink:href=\"#mdde19dd8b5\" y=\"839.54175\"/>\n      </g>\n     </g>\n     <g id=\"text_247\">\n      <!-- 1 -->\n      <g style=\"fill:#555555;\" transform=\"translate(1383.642565 852.90425)rotate(-90)scale(0.1 -0.1)\">\n       <use xlink:href=\"#DejaVuSans-49\"/>\n      </g>\n     </g>\n    </g>\n   </g>\n   <g id=\"matplotlib.axis_30\">\n    <g id=\"ytick_98\">\n     <g id=\"line2d_465\">\n      <path clip-path=\"url(#pc63f6e7fb8)\" d=\"M 1200.495259 839.54175 \nL 1441.0125 839.54175 \n\" style=\"fill:none;stroke:#ffffff;stroke-linecap:square;stroke-width:0.8;\"/>\n     </g>\n     <g id=\"line2d_466\">\n      <g>\n       <use style=\"fill:#555555;stroke:#555555;stroke-width:0.8;\" x=\"1200.495259\" xlink:href=\"#m29fc131eff\" y=\"839.54175\"/>\n      </g>\n     </g>\n     <g id=\"text_248\">\n      <!-- 0 -->\n      <g style=\"fill:#555555;\" transform=\"translate(1187.132759 843.340969)scale(0.1 -0.1)\">\n       <use xlink:href=\"#DejaVuSans-48\"/>\n      </g>\n     </g>\n    </g>\n    <g id=\"ytick_99\">\n     <g id=\"line2d_467\">\n      <path clip-path=\"url(#pc63f6e7fb8)\" d=\"M 1200.495259 803.843225 \nL 1441.0125 803.843225 \n\" style=\"fill:none;stroke:#ffffff;stroke-linecap:square;stroke-width:0.8;\"/>\n     </g>\n     <g id=\"line2d_468\">\n      <g>\n       <use style=\"fill:#555555;stroke:#555555;stroke-width:0.8;\" x=\"1200.495259\" xlink:href=\"#m29fc131eff\" y=\"803.843225\"/>\n      </g>\n     </g>\n     <g id=\"text_249\">\n      <!-- 5000 -->\n      <g style=\"fill:#555555;\" transform=\"translate(1168.045259 807.642444)scale(0.1 -0.1)\">\n       <use xlink:href=\"#DejaVuSans-53\"/>\n       <use x=\"63.623047\" xlink:href=\"#DejaVuSans-48\"/>\n       <use x=\"127.246094\" xlink:href=\"#DejaVuSans-48\"/>\n       <use x=\"190.869141\" xlink:href=\"#DejaVuSans-48\"/>\n      </g>\n     </g>\n    </g>\n    <g id=\"ytick_100\">\n     <g id=\"line2d_469\">\n      <path clip-path=\"url(#pc63f6e7fb8)\" d=\"M 1200.495259 768.1447 \nL 1441.0125 768.1447 \n\" style=\"fill:none;stroke:#ffffff;stroke-linecap:square;stroke-width:0.8;\"/>\n     </g>\n     <g id=\"line2d_470\">\n      <g>\n       <use style=\"fill:#555555;stroke:#555555;stroke-width:0.8;\" x=\"1200.495259\" xlink:href=\"#m29fc131eff\" y=\"768.1447\"/>\n      </g>\n     </g>\n     <g id=\"text_250\">\n      <!-- 10000 -->\n      <g style=\"fill:#555555;\" transform=\"translate(1161.682759 771.943919)scale(0.1 -0.1)\">\n       <use xlink:href=\"#DejaVuSans-49\"/>\n       <use x=\"63.623047\" xlink:href=\"#DejaVuSans-48\"/>\n       <use x=\"127.246094\" xlink:href=\"#DejaVuSans-48\"/>\n       <use x=\"190.869141\" xlink:href=\"#DejaVuSans-48\"/>\n       <use x=\"254.492188\" xlink:href=\"#DejaVuSans-48\"/>\n      </g>\n     </g>\n    </g>\n    <g id=\"ytick_101\">\n     <g id=\"line2d_471\">\n      <path clip-path=\"url(#pc63f6e7fb8)\" d=\"M 1200.495259 732.446176 \nL 1441.0125 732.446176 \n\" style=\"fill:none;stroke:#ffffff;stroke-linecap:square;stroke-width:0.8;\"/>\n     </g>\n     <g id=\"line2d_472\">\n      <g>\n       <use style=\"fill:#555555;stroke:#555555;stroke-width:0.8;\" x=\"1200.495259\" xlink:href=\"#m29fc131eff\" y=\"732.446176\"/>\n      </g>\n     </g>\n     <g id=\"text_251\">\n      <!-- 15000 -->\n      <g style=\"fill:#555555;\" transform=\"translate(1161.682759 736.245394)scale(0.1 -0.1)\">\n       <use xlink:href=\"#DejaVuSans-49\"/>\n       <use x=\"63.623047\" xlink:href=\"#DejaVuSans-53\"/>\n       <use x=\"127.246094\" xlink:href=\"#DejaVuSans-48\"/>\n       <use x=\"190.869141\" xlink:href=\"#DejaVuSans-48\"/>\n       <use x=\"254.492188\" xlink:href=\"#DejaVuSans-48\"/>\n      </g>\n     </g>\n    </g>\n    <g id=\"ytick_102\">\n     <g id=\"line2d_473\">\n      <path clip-path=\"url(#pc63f6e7fb8)\" d=\"M 1200.495259 696.747651 \nL 1441.0125 696.747651 \n\" style=\"fill:none;stroke:#ffffff;stroke-linecap:square;stroke-width:0.8;\"/>\n     </g>\n     <g id=\"line2d_474\">\n      <g>\n       <use style=\"fill:#555555;stroke:#555555;stroke-width:0.8;\" x=\"1200.495259\" xlink:href=\"#m29fc131eff\" y=\"696.747651\"/>\n      </g>\n     </g>\n     <g id=\"text_252\">\n      <!-- 20000 -->\n      <g style=\"fill:#555555;\" transform=\"translate(1161.682759 700.54687)scale(0.1 -0.1)\">\n       <use xlink:href=\"#DejaVuSans-50\"/>\n       <use x=\"63.623047\" xlink:href=\"#DejaVuSans-48\"/>\n       <use x=\"127.246094\" xlink:href=\"#DejaVuSans-48\"/>\n       <use x=\"190.869141\" xlink:href=\"#DejaVuSans-48\"/>\n       <use x=\"254.492188\" xlink:href=\"#DejaVuSans-48\"/>\n      </g>\n     </g>\n    </g>\n    <g id=\"ytick_103\">\n     <g id=\"line2d_475\">\n      <path clip-path=\"url(#pc63f6e7fb8)\" d=\"M 1200.495259 661.049126 \nL 1441.0125 661.049126 \n\" style=\"fill:none;stroke:#ffffff;stroke-linecap:square;stroke-width:0.8;\"/>\n     </g>\n     <g id=\"line2d_476\">\n      <g>\n       <use style=\"fill:#555555;stroke:#555555;stroke-width:0.8;\" x=\"1200.495259\" xlink:href=\"#m29fc131eff\" y=\"661.049126\"/>\n      </g>\n     </g>\n     <g id=\"text_253\">\n      <!-- 25000 -->\n      <g style=\"fill:#555555;\" transform=\"translate(1161.682759 664.848345)scale(0.1 -0.1)\">\n       <use xlink:href=\"#DejaVuSans-50\"/>\n       <use x=\"63.623047\" xlink:href=\"#DejaVuSans-53\"/>\n       <use x=\"127.246094\" xlink:href=\"#DejaVuSans-48\"/>\n       <use x=\"190.869141\" xlink:href=\"#DejaVuSans-48\"/>\n       <use x=\"254.492188\" xlink:href=\"#DejaVuSans-48\"/>\n      </g>\n     </g>\n    </g>\n   </g>\n   <g id=\"patch_232\">\n    <path clip-path=\"url(#pc63f6e7fb8)\" d=\"M 1230.559914 839.54175 \nL 1290.689224 839.54175 \nL 1290.689224 663.048244 \nL 1230.559914 663.048244 \nz\n\" style=\"fill:#e24a33;\"/>\n   </g>\n   <g id=\"patch_233\">\n    <path clip-path=\"url(#pc63f6e7fb8)\" d=\"M 1350.818534 839.54175 \nL 1410.947845 839.54175 \nL 1410.947845 783.559323 \nL 1350.818534 783.559323 \nz\n\" style=\"fill:#e24a33;\"/>\n   </g>\n   <g id=\"patch_234\">\n    <path d=\"M 1200.495259 839.54175 \nL 1200.495259 654.223568 \n\" style=\"fill:none;stroke:#ffffff;stroke-linecap:square;stroke-linejoin:miter;\"/>\n   </g>\n   <g id=\"patch_235\">\n    <path d=\"M 1441.0125 839.54175 \nL 1441.0125 654.223568 \n\" style=\"fill:none;stroke:#ffffff;stroke-linecap:square;stroke-linejoin:miter;\"/>\n   </g>\n   <g id=\"patch_236\">\n    <path d=\"M 1200.495259 839.54175 \nL 1441.0125 839.54175 \n\" style=\"fill:none;stroke:#ffffff;stroke-linecap:square;stroke-linejoin:miter;\"/>\n   </g>\n   <g id=\"patch_237\">\n    <path d=\"M 1200.495259 654.223568 \nL 1441.0125 654.223568 \n\" style=\"fill:none;stroke:#ffffff;stroke-linecap:square;stroke-linejoin:miter;\"/>\n   </g>\n   <g id=\"text_254\">\n    <!-- Target -->\n    <g transform=\"translate(1298.474379 648.223568)scale(0.144 -0.144)\">\n     <use xlink:href=\"#DejaVuSans-84\"/>\n     <use x=\"44.583984\" xlink:href=\"#DejaVuSans-97\"/>\n     <use x=\"105.863281\" xlink:href=\"#DejaVuSans-114\"/>\n     <use x=\"145.226562\" xlink:href=\"#DejaVuSans-103\"/>\n     <use x=\"208.703125\" xlink:href=\"#DejaVuSans-101\"/>\n     <use x=\"270.226562\" xlink:href=\"#DejaVuSans-116\"/>\n    </g>\n   </g>\n  </g>\n </g>\n <defs>\n  <clipPath id=\"pd9d4d533c3\">\n   <rect height=\"185.318182\" width=\"240.517241\" x=\"46.0125\" y=\"24.14175\"/>\n  </clipPath>\n  <clipPath id=\"pea3a56ca54\">\n   <rect height=\"185.318182\" width=\"240.517241\" x=\"334.63319\" y=\"24.14175\"/>\n  </clipPath>\n  <clipPath id=\"p8cbf3ddbf6\">\n   <rect height=\"185.318182\" width=\"240.517241\" x=\"623.253879\" y=\"24.14175\"/>\n  </clipPath>\n  <clipPath id=\"p87044fc332\">\n   <rect height=\"185.318182\" width=\"240.517241\" x=\"911.874569\" y=\"24.14175\"/>\n  </clipPath>\n  <clipPath id=\"p4ff6837358\">\n   <rect height=\"185.318182\" width=\"240.517241\" x=\"1200.495259\" y=\"24.14175\"/>\n  </clipPath>\n  <clipPath id=\"pdb16f2fc68\">\n   <rect height=\"185.318182\" width=\"240.517241\" x=\"46.0125\" y=\"339.182659\"/>\n  </clipPath>\n  <clipPath id=\"p7c2828596b\">\n   <rect height=\"185.318182\" width=\"240.517241\" x=\"334.63319\" y=\"339.182659\"/>\n  </clipPath>\n  <clipPath id=\"pb2279fce70\">\n   <rect height=\"185.318182\" width=\"240.517241\" x=\"623.253879\" y=\"339.182659\"/>\n  </clipPath>\n  <clipPath id=\"p5f7cc8808e\">\n   <rect height=\"185.318182\" width=\"240.517241\" x=\"911.874569\" y=\"339.182659\"/>\n  </clipPath>\n  <clipPath id=\"ped5e072650\">\n   <rect height=\"185.318182\" width=\"240.517241\" x=\"1200.495259\" y=\"339.182659\"/>\n  </clipPath>\n  <clipPath id=\"p1680af61c5\">\n   <rect height=\"185.318182\" width=\"240.517241\" x=\"46.0125\" y=\"654.223568\"/>\n  </clipPath>\n  <clipPath id=\"pc270c5f45c\">\n   <rect height=\"185.318182\" width=\"240.517241\" x=\"334.63319\" y=\"654.223568\"/>\n  </clipPath>\n  <clipPath id=\"p999f797f74\">\n   <rect height=\"185.318182\" width=\"240.517241\" x=\"623.253879\" y=\"654.223568\"/>\n  </clipPath>\n  <clipPath id=\"pd2a30a1dc7\">\n   <rect height=\"185.318182\" width=\"240.517241\" x=\"911.874569\" y=\"654.223568\"/>\n  </clipPath>\n  <clipPath id=\"pc63f6e7fb8\">\n   <rect height=\"185.318182\" width=\"240.517241\" x=\"1200.495259\" y=\"654.223568\"/>\n  </clipPath>\n </defs>\n</svg>\n"
          },
          "metadata": {}
        }
      ],
      "source": [
        "fig = plt.figure(figsize=(25, 15))\n",
        "cols = 5\n",
        "rows = np.ceil(float(data_train.shape[1]) / cols)\n",
        "for i, column in enumerate(data_train.columns):\n",
        "    ax = fig.add_subplot(rows, cols, i + 1)\n",
        "    ax.set_title(column)\n",
        "    if data_train.dtypes[column] == np.object:\n",
        "        data_train[column].value_counts().plot(kind=\"bar\", axes=ax)\n",
        "    else:\n",
        "        data_train[column].hist(axes=ax)\n",
        "        plt.xticks(rotation=\"vertical\")\n",
        "plt.subplots_adjust(hspace=0.7, wspace=0.2)"
      ]
    },
    {
      "cell_type": "markdown",
      "metadata": {
        "id": "3Verf-gVQ1B9"
      },
      "source": [
        "Перевіряємо типи даних."
      ]
    },
    {
      "cell_type": "code",
      "execution_count": 22,
      "metadata": {
        "id": "v0_LXZS9Q1B9",
        "outputId": "6cb6d732-834a-46a2-bb9d-bb33da1858ca",
        "colab": {
          "base_uri": "https://localhost:8080/"
        }
      },
      "outputs": [
        {
          "output_type": "execute_result",
          "data": {
            "text/plain": [
              "Age                int64\n",
              "Workclass         object\n",
              "fnlwgt             int64\n",
              "Education         object\n",
              "Education_Num      int64\n",
              "Martial_Status    object\n",
              "Occupation        object\n",
              "Relationship      object\n",
              "Race              object\n",
              "Sex               object\n",
              "Capital_Gain       int64\n",
              "Capital_Loss       int64\n",
              "Hours_per_week     int64\n",
              "Country           object\n",
              "Target            object\n",
              "dtype: object"
            ]
          },
          "metadata": {},
          "execution_count": 22
        }
      ],
      "source": [
        "data_train.dtypes"
      ]
    },
    {
      "cell_type": "code",
      "execution_count": 23,
      "metadata": {
        "id": "-Aq4WtPaQ1B9",
        "outputId": "bdf2a1c3-2dfc-41d4-bf4b-a477aaf87d0a",
        "colab": {
          "base_uri": "https://localhost:8080/"
        }
      },
      "outputs": [
        {
          "output_type": "execute_result",
          "data": {
            "text/plain": [
              "Age                object\n",
              "Workclass          object\n",
              "fnlwgt            float64\n",
              "Education          object\n",
              "Education_Num     float64\n",
              "Martial_Status     object\n",
              "Occupation         object\n",
              "Relationship       object\n",
              "Race               object\n",
              "Sex                object\n",
              "Capital_Gain      float64\n",
              "Capital_Loss      float64\n",
              "Hours_per_week    float64\n",
              "Country            object\n",
              "Target             object\n",
              "dtype: object"
            ]
          },
          "metadata": {},
          "execution_count": 23
        }
      ],
      "source": [
        "data_test.dtypes"
      ]
    },
    {
      "cell_type": "markdown",
      "metadata": {
        "id": "xoQnR3AvQ1B9"
      },
      "source": [
        "З'ясувалося, що в тестовому наборі даних вік віднесений до типу object, необхідно це виправити."
      ]
    },
    {
      "cell_type": "code",
      "execution_count": 24,
      "metadata": {
        "id": "R9dD_MPsQ1B-"
      },
      "outputs": [],
      "source": [
        "data_test['Age'] = data_test['Age'].astype(int)"
      ]
    },
    {
      "cell_type": "markdown",
      "metadata": {
        "id": "ru5rlnvyQ1B-"
      },
      "source": [
        "Також переведемо показники типу float в int для відповідності train і test вибірок."
      ]
    },
    {
      "cell_type": "code",
      "execution_count": 25,
      "metadata": {
        "id": "B4e9d3HuQ1B-"
      },
      "outputs": [],
      "source": [
        "data_test['fnlwgt'] = data_test['fnlwgt'].astype(int)\n",
        "data_test['Education_Num'] = data_test['Education_Num'].astype(int)\n",
        "data_test['Capital_Gain'] = data_test['Capital_Gain'].astype(int)\n",
        "data_test['Capital_Loss'] = data_test['Capital_Loss'].astype(int)\n",
        "data_test['Hours_per_week'] = data_test['Hours_per_week'].astype(int)"
      ]
    },
    {
      "cell_type": "markdown",
      "metadata": {
        "id": "Wh6W79R2Q1B-"
      },
      "source": [
        "Заповнимо пропуски в кількісних полях значеннями [медіан](https://uk.wikipedia.org/wiki/%D0%9C%D0%B5%D0%B4%D1%96%D0%B0%D0%BD%D0%B0_(%D1%81%D1%82%D0%B0%D1%82%D0%B8%D1%81%D1%82%D0%B8%D0%BA%D0%B0)), а в категоріальних - ті значення, що зустрічаються найчастіше ([мода](https://uk.wikipedia.org/wiki/%D0%9C%D0%BE%D0%B4%D0%B0_(%D1%81%D1%82%D0%B0%D1%82%D0%B8%D1%81%D1%82%D0%B8%D0%BA%D0%B0)))."
      ]
    },
    {
      "cell_type": "code",
      "execution_count": 26,
      "metadata": {
        "id": "dTrhAk7-Q1B-",
        "outputId": "bde5550e-7823-4038-f33b-d818105c3e34",
        "colab": {
          "base_uri": "https://localhost:8080/"
        }
      },
      "outputs": [
        {
          "output_type": "stream",
          "name": "stdout",
          "text": [
            "categorical_columns_test: ['Workclass', 'Education', 'Martial_Status', 'Occupation', 'Relationship', 'Race', 'Sex', 'Country', 'Target']\n",
            "categorical_columns_train: ['Workclass', 'Education', 'Martial_Status', 'Occupation', 'Relationship', 'Race', 'Sex', 'Country', 'Target']\n",
            "numerical_columns_test: ['Age', 'fnlwgt', 'Education_Num', 'Capital_Gain', 'Capital_Loss', 'Hours_per_week']\n",
            "numerical_columns_train: ['Age', 'fnlwgt', 'Education_Num', 'Capital_Gain', 'Capital_Loss', 'Hours_per_week']\n"
          ]
        }
      ],
      "source": [
        "# виділимо у вибірках категоріальні і числові поля\n",
        "\n",
        "categorical_columns_train = [c for c in data_train.columns \n",
        "                             if data_train[c].dtype.name == 'object']\n",
        "numerical_columns_train = [c for c in data_train.columns \n",
        "                           if data_train[c].dtype.name != 'object']\n",
        "\n",
        "categorical_columns_test = [c for c in data_test.columns \n",
        "                            if data_test[c].dtype.name == 'object']\n",
        "numerical_columns_test = [c for c in data_test.columns \n",
        "                          if data_test[c].dtype.name != 'object']\n",
        "\n",
        "print('categorical_columns_test:', categorical_columns_test)\n",
        "print('categorical_columns_train:', categorical_columns_train)\n",
        "print('numerical_columns_test:', numerical_columns_test)\n",
        "print('numerical_columns_train:', numerical_columns_train)"
      ]
    },
    {
      "cell_type": "code",
      "execution_count": 27,
      "metadata": {
        "id": "wNuKywLgQ1B_"
      },
      "outputs": [],
      "source": [
        "# заповнюємо пропуски\n",
        "\n",
        "for c in categorical_columns_train:\n",
        "    data_train[c] = data_train[c].fillna(data_train[c].mode())\n",
        "for c in categorical_columns_test:\n",
        "    data_test[c] = data_test[c].fillna(data_train[c].mode())\n",
        "    \n",
        "for c in numerical_columns_train:\n",
        "    data_train[c] = data_train[c].fillna(data_train[c].median())\n",
        "for c in numerical_columns_test:\n",
        "    data_test[c] = data_test[c].fillna(data_train[c].median())    "
      ]
    },
    {
      "cell_type": "markdown",
      "metadata": {
        "id": "LqXUXqhbQ1B_"
      },
      "source": [
        "Кодуємо категоріальні ознаки 'Workclass', 'Education', 'Martial_Status', 'Occupation', 'Relationship', 'Race', 'Sex', 'Country'. Це можна зробити за допомогою методу `pandas get_dummies`."
      ]
    },
    {
      "cell_type": "code",
      "execution_count": 28,
      "metadata": {
        "id": "eTpp2AHjQ1B_"
      },
      "outputs": [],
      "source": [
        "data_train = pd.concat([data_train, pd.get_dummies(data_train['Workclass'], \n",
        "                                                   prefix=\"Workclass\"),\n",
        "                      pd.get_dummies(data_train['Education'], prefix=\"Education\"),\n",
        "                      pd.get_dummies(data_train['Martial_Status'], prefix=\"Martial_Status\"),\n",
        "                      pd.get_dummies(data_train['Occupation'], prefix=\"Occupation\"),\n",
        "                      pd.get_dummies(data_train['Relationship'], prefix=\"Relationship\"),\n",
        "                      pd.get_dummies(data_train['Race'], prefix=\"Race\"),\n",
        "                      pd.get_dummies(data_train['Sex'], prefix=\"Sex\"),\n",
        "                      pd.get_dummies(data_train['Country'], prefix=\"Country\")],\n",
        "                     axis=1)\n",
        "\n",
        "data_test = pd.concat([data_test, pd.get_dummies(data_test['Workclass'], prefix=\"Workclass\"),\n",
        "                      pd.get_dummies(data_test['Education'], prefix=\"Education\"),\n",
        "                      pd.get_dummies(data_test['Martial_Status'], prefix=\"Martial_Status\"),\n",
        "                      pd.get_dummies(data_test['Occupation'], prefix=\"Occupation\"),\n",
        "                      pd.get_dummies(data_test['Relationship'], prefix=\"Relationship\"),\n",
        "                      pd.get_dummies(data_test['Race'], prefix=\"Race\"),\n",
        "                      pd.get_dummies(data_test['Sex'], prefix=\"Sex\"),\n",
        "                      pd.get_dummies(data_test['Country'], prefix=\"Country\")],\n",
        "                     axis=1)"
      ]
    },
    {
      "cell_type": "code",
      "execution_count": 29,
      "metadata": {
        "id": "LXKW70I1Q1B_"
      },
      "outputs": [],
      "source": [
        "data_train.drop(['Workclass', 'Education', 'Martial_Status',\n",
        "                 'Occupation', 'Relationship', 'Race', 'Sex', 'Country'],\n",
        "                axis=1, inplace=True)\n",
        "data_test.drop(['Workclass', 'Education', 'Martial_Status', 'Occupation', \n",
        "                'Relationship', 'Race', 'Sex', 'Country'],\n",
        "               axis=1, inplace=True)"
      ]
    },
    {
      "cell_type": "code",
      "execution_count": 30,
      "metadata": {
        "id": "JmNRw30zQ1CA",
        "outputId": "14677caf-4593-4063-aa6c-ec6002a61336",
        "colab": {
          "base_uri": "https://localhost:8080/",
          "height": 424
        }
      },
      "outputs": [
        {
          "output_type": "execute_result",
          "data": {
            "text/plain": [
              "                            count           mean            std      min  \\\n",
              "Age                       16281.0      38.767459      13.849187     17.0   \n",
              "fnlwgt                    16281.0  189435.677784  105714.907671  13492.0   \n",
              "Education_Num             16281.0      10.072907       2.567545      1.0   \n",
              "Capital_Gain              16281.0    1081.905104    7583.935968      0.0   \n",
              "Capital_Loss              16281.0      87.899269     403.105286      0.0   \n",
              "...                           ...            ...            ...      ...   \n",
              "Country_ Thailand         16281.0       0.000737       0.027140      0.0   \n",
              "Country_ Trinadad&Tobago  16281.0       0.000491       0.022162      0.0   \n",
              "Country_ United-States    16281.0       0.900559       0.299262      0.0   \n",
              "Country_ Vietnam          16281.0       0.001167       0.034143      0.0   \n",
              "Country_ Yugoslavia       16281.0       0.000430       0.020731      0.0   \n",
              "\n",
              "                               25%       50%       75%        max  \n",
              "Age                           28.0      37.0      48.0       90.0  \n",
              "fnlwgt                    116736.0  177831.0  238384.0  1490400.0  \n",
              "Education_Num                  9.0      10.0      12.0       16.0  \n",
              "Capital_Gain                   0.0       0.0       0.0    99999.0  \n",
              "Capital_Loss                   0.0       0.0       0.0     3770.0  \n",
              "...                            ...       ...       ...        ...  \n",
              "Country_ Thailand              0.0       0.0       0.0        1.0  \n",
              "Country_ Trinadad&Tobago       0.0       0.0       0.0        1.0  \n",
              "Country_ United-States         1.0       1.0       1.0        1.0  \n",
              "Country_ Vietnam               0.0       0.0       0.0        1.0  \n",
              "Country_ Yugoslavia            0.0       0.0       0.0        1.0  \n",
              "\n",
              "[105 rows x 8 columns]"
            ],
            "text/html": [
              "\n",
              "  <div id=\"df-3009c7f1-dc43-48f3-bda3-5800e54a62f2\">\n",
              "    <div class=\"colab-df-container\">\n",
              "      <div>\n",
              "<style scoped>\n",
              "    .dataframe tbody tr th:only-of-type {\n",
              "        vertical-align: middle;\n",
              "    }\n",
              "\n",
              "    .dataframe tbody tr th {\n",
              "        vertical-align: top;\n",
              "    }\n",
              "\n",
              "    .dataframe thead th {\n",
              "        text-align: right;\n",
              "    }\n",
              "</style>\n",
              "<table border=\"1\" class=\"dataframe\">\n",
              "  <thead>\n",
              "    <tr style=\"text-align: right;\">\n",
              "      <th></th>\n",
              "      <th>count</th>\n",
              "      <th>mean</th>\n",
              "      <th>std</th>\n",
              "      <th>min</th>\n",
              "      <th>25%</th>\n",
              "      <th>50%</th>\n",
              "      <th>75%</th>\n",
              "      <th>max</th>\n",
              "    </tr>\n",
              "  </thead>\n",
              "  <tbody>\n",
              "    <tr>\n",
              "      <th>Age</th>\n",
              "      <td>16281.0</td>\n",
              "      <td>38.767459</td>\n",
              "      <td>13.849187</td>\n",
              "      <td>17.0</td>\n",
              "      <td>28.0</td>\n",
              "      <td>37.0</td>\n",
              "      <td>48.0</td>\n",
              "      <td>90.0</td>\n",
              "    </tr>\n",
              "    <tr>\n",
              "      <th>fnlwgt</th>\n",
              "      <td>16281.0</td>\n",
              "      <td>189435.677784</td>\n",
              "      <td>105714.907671</td>\n",
              "      <td>13492.0</td>\n",
              "      <td>116736.0</td>\n",
              "      <td>177831.0</td>\n",
              "      <td>238384.0</td>\n",
              "      <td>1490400.0</td>\n",
              "    </tr>\n",
              "    <tr>\n",
              "      <th>Education_Num</th>\n",
              "      <td>16281.0</td>\n",
              "      <td>10.072907</td>\n",
              "      <td>2.567545</td>\n",
              "      <td>1.0</td>\n",
              "      <td>9.0</td>\n",
              "      <td>10.0</td>\n",
              "      <td>12.0</td>\n",
              "      <td>16.0</td>\n",
              "    </tr>\n",
              "    <tr>\n",
              "      <th>Capital_Gain</th>\n",
              "      <td>16281.0</td>\n",
              "      <td>1081.905104</td>\n",
              "      <td>7583.935968</td>\n",
              "      <td>0.0</td>\n",
              "      <td>0.0</td>\n",
              "      <td>0.0</td>\n",
              "      <td>0.0</td>\n",
              "      <td>99999.0</td>\n",
              "    </tr>\n",
              "    <tr>\n",
              "      <th>Capital_Loss</th>\n",
              "      <td>16281.0</td>\n",
              "      <td>87.899269</td>\n",
              "      <td>403.105286</td>\n",
              "      <td>0.0</td>\n",
              "      <td>0.0</td>\n",
              "      <td>0.0</td>\n",
              "      <td>0.0</td>\n",
              "      <td>3770.0</td>\n",
              "    </tr>\n",
              "    <tr>\n",
              "      <th>...</th>\n",
              "      <td>...</td>\n",
              "      <td>...</td>\n",
              "      <td>...</td>\n",
              "      <td>...</td>\n",
              "      <td>...</td>\n",
              "      <td>...</td>\n",
              "      <td>...</td>\n",
              "      <td>...</td>\n",
              "    </tr>\n",
              "    <tr>\n",
              "      <th>Country_ Thailand</th>\n",
              "      <td>16281.0</td>\n",
              "      <td>0.000737</td>\n",
              "      <td>0.027140</td>\n",
              "      <td>0.0</td>\n",
              "      <td>0.0</td>\n",
              "      <td>0.0</td>\n",
              "      <td>0.0</td>\n",
              "      <td>1.0</td>\n",
              "    </tr>\n",
              "    <tr>\n",
              "      <th>Country_ Trinadad&amp;Tobago</th>\n",
              "      <td>16281.0</td>\n",
              "      <td>0.000491</td>\n",
              "      <td>0.022162</td>\n",
              "      <td>0.0</td>\n",
              "      <td>0.0</td>\n",
              "      <td>0.0</td>\n",
              "      <td>0.0</td>\n",
              "      <td>1.0</td>\n",
              "    </tr>\n",
              "    <tr>\n",
              "      <th>Country_ United-States</th>\n",
              "      <td>16281.0</td>\n",
              "      <td>0.900559</td>\n",
              "      <td>0.299262</td>\n",
              "      <td>0.0</td>\n",
              "      <td>1.0</td>\n",
              "      <td>1.0</td>\n",
              "      <td>1.0</td>\n",
              "      <td>1.0</td>\n",
              "    </tr>\n",
              "    <tr>\n",
              "      <th>Country_ Vietnam</th>\n",
              "      <td>16281.0</td>\n",
              "      <td>0.001167</td>\n",
              "      <td>0.034143</td>\n",
              "      <td>0.0</td>\n",
              "      <td>0.0</td>\n",
              "      <td>0.0</td>\n",
              "      <td>0.0</td>\n",
              "      <td>1.0</td>\n",
              "    </tr>\n",
              "    <tr>\n",
              "      <th>Country_ Yugoslavia</th>\n",
              "      <td>16281.0</td>\n",
              "      <td>0.000430</td>\n",
              "      <td>0.020731</td>\n",
              "      <td>0.0</td>\n",
              "      <td>0.0</td>\n",
              "      <td>0.0</td>\n",
              "      <td>0.0</td>\n",
              "      <td>1.0</td>\n",
              "    </tr>\n",
              "  </tbody>\n",
              "</table>\n",
              "<p>105 rows × 8 columns</p>\n",
              "</div>\n",
              "      <button class=\"colab-df-convert\" onclick=\"convertToInteractive('df-3009c7f1-dc43-48f3-bda3-5800e54a62f2')\"\n",
              "              title=\"Convert this dataframe to an interactive table.\"\n",
              "              style=\"display:none;\">\n",
              "        \n",
              "  <svg xmlns=\"http://www.w3.org/2000/svg\" height=\"24px\"viewBox=\"0 0 24 24\"\n",
              "       width=\"24px\">\n",
              "    <path d=\"M0 0h24v24H0V0z\" fill=\"none\"/>\n",
              "    <path d=\"M18.56 5.44l.94 2.06.94-2.06 2.06-.94-2.06-.94-.94-2.06-.94 2.06-2.06.94zm-11 1L8.5 8.5l.94-2.06 2.06-.94-2.06-.94L8.5 2.5l-.94 2.06-2.06.94zm10 10l.94 2.06.94-2.06 2.06-.94-2.06-.94-.94-2.06-.94 2.06-2.06.94z\"/><path d=\"M17.41 7.96l-1.37-1.37c-.4-.4-.92-.59-1.43-.59-.52 0-1.04.2-1.43.59L10.3 9.45l-7.72 7.72c-.78.78-.78 2.05 0 2.83L4 21.41c.39.39.9.59 1.41.59.51 0 1.02-.2 1.41-.59l7.78-7.78 2.81-2.81c.8-.78.8-2.07 0-2.86zM5.41 20L4 18.59l7.72-7.72 1.47 1.35L5.41 20z\"/>\n",
              "  </svg>\n",
              "      </button>\n",
              "      \n",
              "  <style>\n",
              "    .colab-df-container {\n",
              "      display:flex;\n",
              "      flex-wrap:wrap;\n",
              "      gap: 12px;\n",
              "    }\n",
              "\n",
              "    .colab-df-convert {\n",
              "      background-color: #E8F0FE;\n",
              "      border: none;\n",
              "      border-radius: 50%;\n",
              "      cursor: pointer;\n",
              "      display: none;\n",
              "      fill: #1967D2;\n",
              "      height: 32px;\n",
              "      padding: 0 0 0 0;\n",
              "      width: 32px;\n",
              "    }\n",
              "\n",
              "    .colab-df-convert:hover {\n",
              "      background-color: #E2EBFA;\n",
              "      box-shadow: 0px 1px 2px rgba(60, 64, 67, 0.3), 0px 1px 3px 1px rgba(60, 64, 67, 0.15);\n",
              "      fill: #174EA6;\n",
              "    }\n",
              "\n",
              "    [theme=dark] .colab-df-convert {\n",
              "      background-color: #3B4455;\n",
              "      fill: #D2E3FC;\n",
              "    }\n",
              "\n",
              "    [theme=dark] .colab-df-convert:hover {\n",
              "      background-color: #434B5C;\n",
              "      box-shadow: 0px 1px 3px 1px rgba(0, 0, 0, 0.15);\n",
              "      filter: drop-shadow(0px 1px 2px rgba(0, 0, 0, 0.3));\n",
              "      fill: #FFFFFF;\n",
              "    }\n",
              "  </style>\n",
              "\n",
              "      <script>\n",
              "        const buttonEl =\n",
              "          document.querySelector('#df-3009c7f1-dc43-48f3-bda3-5800e54a62f2 button.colab-df-convert');\n",
              "        buttonEl.style.display =\n",
              "          google.colab.kernel.accessAllowed ? 'block' : 'none';\n",
              "\n",
              "        async function convertToInteractive(key) {\n",
              "          const element = document.querySelector('#df-3009c7f1-dc43-48f3-bda3-5800e54a62f2');\n",
              "          const dataTable =\n",
              "            await google.colab.kernel.invokeFunction('convertToInteractive',\n",
              "                                                     [key], {});\n",
              "          if (!dataTable) return;\n",
              "\n",
              "          const docLinkHtml = 'Like what you see? Visit the ' +\n",
              "            '<a target=\"_blank\" href=https://colab.research.google.com/notebooks/data_table.ipynb>data table notebook</a>'\n",
              "            + ' to learn more about interactive tables.';\n",
              "          element.innerHTML = '';\n",
              "          dataTable['output_type'] = 'display_data';\n",
              "          await google.colab.output.renderOutput(dataTable, element);\n",
              "          const docLink = document.createElement('div');\n",
              "          docLink.innerHTML = docLinkHtml;\n",
              "          element.appendChild(docLink);\n",
              "        }\n",
              "      </script>\n",
              "    </div>\n",
              "  </div>\n",
              "  "
            ]
          },
          "metadata": {},
          "execution_count": 30
        }
      ],
      "source": [
        "data_test.describe(include='all').T"
      ]
    },
    {
      "cell_type": "code",
      "execution_count": 31,
      "metadata": {
        "id": "sJZtBanyQ1CA",
        "outputId": "6fe3e30d-2009-43aa-bff5-9269ef557ecb",
        "colab": {
          "base_uri": "https://localhost:8080/"
        }
      },
      "outputs": [
        {
          "output_type": "execute_result",
          "data": {
            "text/plain": [
              "{'Country_ Holand-Netherlands'}"
            ]
          },
          "metadata": {},
          "execution_count": 31
        }
      ],
      "source": [
        "set(data_train.columns) - set(data_test.columns)"
      ]
    },
    {
      "cell_type": "code",
      "execution_count": 33,
      "metadata": {
        "id": "agEBiNl4Q1CA",
        "outputId": "77c47209-c0b9-41a1-fff7-55e55fb5c290",
        "colab": {
          "base_uri": "https://localhost:8080/"
        }
      },
      "outputs": [
        {
          "output_type": "execute_result",
          "data": {
            "text/plain": [
              "((32561, 106), (16281, 105))"
            ]
          },
          "metadata": {},
          "execution_count": 33
        }
      ],
      "source": [
        "data_train.shape, data_test.shape"
      ]
    },
    {
      "cell_type": "markdown",
      "metadata": {
        "id": "7CGcoZ1OQ1CA"
      },
      "source": [
        "У тестовій вибірці не виявилося Голландії. Заведемо необхідну ознаку та заповнимо рядки нулями."
      ]
    },
    {
      "cell_type": "code",
      "execution_count": 34,
      "metadata": {
        "id": "9EkM7MslQ1CB"
      },
      "outputs": [],
      "source": [
        "data_test['Country_ Holand-Netherlands'] = np.zeros([data_test.shape[0], 1])"
      ]
    },
    {
      "cell_type": "code",
      "execution_count": 35,
      "metadata": {
        "id": "Ni3l6QV1Q1CB",
        "outputId": "e94f0cab-4e8f-4ca8-83aa-3e4b1204ab35",
        "colab": {
          "base_uri": "https://localhost:8080/"
        }
      },
      "outputs": [
        {
          "output_type": "execute_result",
          "data": {
            "text/plain": [
              "set()"
            ]
          },
          "metadata": {},
          "execution_count": 35
        }
      ],
      "source": [
        "set(data_train.columns) - set(data_test.columns)"
      ]
    },
    {
      "cell_type": "code",
      "execution_count": 36,
      "metadata": {
        "id": "NSjoLkHMQ1CB",
        "outputId": "8566e251-9eb8-4516-bda3-f260565f96eb",
        "colab": {
          "base_uri": "https://localhost:8080/",
          "height": 220
        }
      },
      "outputs": [
        {
          "output_type": "execute_result",
          "data": {
            "text/plain": [
              "   Age  fnlwgt  Education_Num  Capital_Gain  Capital_Loss  Hours_per_week  \\\n",
              "0   39   77516             13          2174             0              40   \n",
              "1   50   83311             13             0             0              13   \n",
              "\n",
              "   Target  Workclass_ Federal-gov  Workclass_ Local-gov  \\\n",
              "0       0                       0                     0   \n",
              "1       0                       0                     0   \n",
              "\n",
              "   Workclass_ Never-worked  ...  Country_ Portugal  Country_ Puerto-Rico  \\\n",
              "0                        0  ...                  0                     0   \n",
              "1                        0  ...                  0                     0   \n",
              "\n",
              "   Country_ Scotland  Country_ South  Country_ Taiwan  Country_ Thailand  \\\n",
              "0                  0               0                0                  0   \n",
              "1                  0               0                0                  0   \n",
              "\n",
              "   Country_ Trinadad&Tobago  Country_ United-States  Country_ Vietnam  \\\n",
              "0                         0                       1                 0   \n",
              "1                         0                       1                 0   \n",
              "\n",
              "   Country_ Yugoslavia  \n",
              "0                    0  \n",
              "1                    0  \n",
              "\n",
              "[2 rows x 106 columns]"
            ],
            "text/html": [
              "\n",
              "  <div id=\"df-59d4d1fd-b2b7-4aa2-9af2-1dd4bb855963\">\n",
              "    <div class=\"colab-df-container\">\n",
              "      <div>\n",
              "<style scoped>\n",
              "    .dataframe tbody tr th:only-of-type {\n",
              "        vertical-align: middle;\n",
              "    }\n",
              "\n",
              "    .dataframe tbody tr th {\n",
              "        vertical-align: top;\n",
              "    }\n",
              "\n",
              "    .dataframe thead th {\n",
              "        text-align: right;\n",
              "    }\n",
              "</style>\n",
              "<table border=\"1\" class=\"dataframe\">\n",
              "  <thead>\n",
              "    <tr style=\"text-align: right;\">\n",
              "      <th></th>\n",
              "      <th>Age</th>\n",
              "      <th>fnlwgt</th>\n",
              "      <th>Education_Num</th>\n",
              "      <th>Capital_Gain</th>\n",
              "      <th>Capital_Loss</th>\n",
              "      <th>Hours_per_week</th>\n",
              "      <th>Target</th>\n",
              "      <th>Workclass_ Federal-gov</th>\n",
              "      <th>Workclass_ Local-gov</th>\n",
              "      <th>Workclass_ Never-worked</th>\n",
              "      <th>...</th>\n",
              "      <th>Country_ Portugal</th>\n",
              "      <th>Country_ Puerto-Rico</th>\n",
              "      <th>Country_ Scotland</th>\n",
              "      <th>Country_ South</th>\n",
              "      <th>Country_ Taiwan</th>\n",
              "      <th>Country_ Thailand</th>\n",
              "      <th>Country_ Trinadad&amp;Tobago</th>\n",
              "      <th>Country_ United-States</th>\n",
              "      <th>Country_ Vietnam</th>\n",
              "      <th>Country_ Yugoslavia</th>\n",
              "    </tr>\n",
              "  </thead>\n",
              "  <tbody>\n",
              "    <tr>\n",
              "      <th>0</th>\n",
              "      <td>39</td>\n",
              "      <td>77516</td>\n",
              "      <td>13</td>\n",
              "      <td>2174</td>\n",
              "      <td>0</td>\n",
              "      <td>40</td>\n",
              "      <td>0</td>\n",
              "      <td>0</td>\n",
              "      <td>0</td>\n",
              "      <td>0</td>\n",
              "      <td>...</td>\n",
              "      <td>0</td>\n",
              "      <td>0</td>\n",
              "      <td>0</td>\n",
              "      <td>0</td>\n",
              "      <td>0</td>\n",
              "      <td>0</td>\n",
              "      <td>0</td>\n",
              "      <td>1</td>\n",
              "      <td>0</td>\n",
              "      <td>0</td>\n",
              "    </tr>\n",
              "    <tr>\n",
              "      <th>1</th>\n",
              "      <td>50</td>\n",
              "      <td>83311</td>\n",
              "      <td>13</td>\n",
              "      <td>0</td>\n",
              "      <td>0</td>\n",
              "      <td>13</td>\n",
              "      <td>0</td>\n",
              "      <td>0</td>\n",
              "      <td>0</td>\n",
              "      <td>0</td>\n",
              "      <td>...</td>\n",
              "      <td>0</td>\n",
              "      <td>0</td>\n",
              "      <td>0</td>\n",
              "      <td>0</td>\n",
              "      <td>0</td>\n",
              "      <td>0</td>\n",
              "      <td>0</td>\n",
              "      <td>1</td>\n",
              "      <td>0</td>\n",
              "      <td>0</td>\n",
              "    </tr>\n",
              "  </tbody>\n",
              "</table>\n",
              "<p>2 rows × 106 columns</p>\n",
              "</div>\n",
              "      <button class=\"colab-df-convert\" onclick=\"convertToInteractive('df-59d4d1fd-b2b7-4aa2-9af2-1dd4bb855963')\"\n",
              "              title=\"Convert this dataframe to an interactive table.\"\n",
              "              style=\"display:none;\">\n",
              "        \n",
              "  <svg xmlns=\"http://www.w3.org/2000/svg\" height=\"24px\"viewBox=\"0 0 24 24\"\n",
              "       width=\"24px\">\n",
              "    <path d=\"M0 0h24v24H0V0z\" fill=\"none\"/>\n",
              "    <path d=\"M18.56 5.44l.94 2.06.94-2.06 2.06-.94-2.06-.94-.94-2.06-.94 2.06-2.06.94zm-11 1L8.5 8.5l.94-2.06 2.06-.94-2.06-.94L8.5 2.5l-.94 2.06-2.06.94zm10 10l.94 2.06.94-2.06 2.06-.94-2.06-.94-.94-2.06-.94 2.06-2.06.94z\"/><path d=\"M17.41 7.96l-1.37-1.37c-.4-.4-.92-.59-1.43-.59-.52 0-1.04.2-1.43.59L10.3 9.45l-7.72 7.72c-.78.78-.78 2.05 0 2.83L4 21.41c.39.39.9.59 1.41.59.51 0 1.02-.2 1.41-.59l7.78-7.78 2.81-2.81c.8-.78.8-2.07 0-2.86zM5.41 20L4 18.59l7.72-7.72 1.47 1.35L5.41 20z\"/>\n",
              "  </svg>\n",
              "      </button>\n",
              "      \n",
              "  <style>\n",
              "    .colab-df-container {\n",
              "      display:flex;\n",
              "      flex-wrap:wrap;\n",
              "      gap: 12px;\n",
              "    }\n",
              "\n",
              "    .colab-df-convert {\n",
              "      background-color: #E8F0FE;\n",
              "      border: none;\n",
              "      border-radius: 50%;\n",
              "      cursor: pointer;\n",
              "      display: none;\n",
              "      fill: #1967D2;\n",
              "      height: 32px;\n",
              "      padding: 0 0 0 0;\n",
              "      width: 32px;\n",
              "    }\n",
              "\n",
              "    .colab-df-convert:hover {\n",
              "      background-color: #E2EBFA;\n",
              "      box-shadow: 0px 1px 2px rgba(60, 64, 67, 0.3), 0px 1px 3px 1px rgba(60, 64, 67, 0.15);\n",
              "      fill: #174EA6;\n",
              "    }\n",
              "\n",
              "    [theme=dark] .colab-df-convert {\n",
              "      background-color: #3B4455;\n",
              "      fill: #D2E3FC;\n",
              "    }\n",
              "\n",
              "    [theme=dark] .colab-df-convert:hover {\n",
              "      background-color: #434B5C;\n",
              "      box-shadow: 0px 1px 3px 1px rgba(0, 0, 0, 0.15);\n",
              "      filter: drop-shadow(0px 1px 2px rgba(0, 0, 0, 0.3));\n",
              "      fill: #FFFFFF;\n",
              "    }\n",
              "  </style>\n",
              "\n",
              "      <script>\n",
              "        const buttonEl =\n",
              "          document.querySelector('#df-59d4d1fd-b2b7-4aa2-9af2-1dd4bb855963 button.colab-df-convert');\n",
              "        buttonEl.style.display =\n",
              "          google.colab.kernel.accessAllowed ? 'block' : 'none';\n",
              "\n",
              "        async function convertToInteractive(key) {\n",
              "          const element = document.querySelector('#df-59d4d1fd-b2b7-4aa2-9af2-1dd4bb855963');\n",
              "          const dataTable =\n",
              "            await google.colab.kernel.invokeFunction('convertToInteractive',\n",
              "                                                     [key], {});\n",
              "          if (!dataTable) return;\n",
              "\n",
              "          const docLinkHtml = 'Like what you see? Visit the ' +\n",
              "            '<a target=\"_blank\" href=https://colab.research.google.com/notebooks/data_table.ipynb>data table notebook</a>'\n",
              "            + ' to learn more about interactive tables.';\n",
              "          element.innerHTML = '';\n",
              "          dataTable['output_type'] = 'display_data';\n",
              "          await google.colab.output.renderOutput(dataTable, element);\n",
              "          const docLink = document.createElement('div');\n",
              "          docLink.innerHTML = docLinkHtml;\n",
              "          element.appendChild(docLink);\n",
              "        }\n",
              "      </script>\n",
              "    </div>\n",
              "  </div>\n",
              "  "
            ]
          },
          "metadata": {},
          "execution_count": 36
        }
      ],
      "source": [
        "data_train.head(2)"
      ]
    },
    {
      "cell_type": "code",
      "execution_count": 37,
      "metadata": {
        "id": "-y0wUB4NQ1CB",
        "outputId": "4025d834-edef-4b35-f41e-2c01e09a165f",
        "colab": {
          "base_uri": "https://localhost:8080/",
          "height": 220
        }
      },
      "outputs": [
        {
          "output_type": "execute_result",
          "data": {
            "text/plain": [
              "   Age  fnlwgt  Education_Num  Capital_Gain  Capital_Loss  Hours_per_week  \\\n",
              "1   25  226802              7             0             0              40   \n",
              "2   38   89814              9             0             0              50   \n",
              "\n",
              "   Target  Workclass_ Federal-gov  Workclass_ Local-gov  \\\n",
              "1       0                       0                     0   \n",
              "2       0                       0                     0   \n",
              "\n",
              "   Workclass_ Never-worked  ...  Country_ Puerto-Rico  Country_ Scotland  \\\n",
              "1                        0  ...                     0                  0   \n",
              "2                        0  ...                     0                  0   \n",
              "\n",
              "   Country_ South  Country_ Taiwan  Country_ Thailand  \\\n",
              "1               0                0                  0   \n",
              "2               0                0                  0   \n",
              "\n",
              "   Country_ Trinadad&Tobago  Country_ United-States  Country_ Vietnam  \\\n",
              "1                         0                       1                 0   \n",
              "2                         0                       1                 0   \n",
              "\n",
              "   Country_ Yugoslavia  Country_ Holand-Netherlands  \n",
              "1                    0                          0.0  \n",
              "2                    0                          0.0  \n",
              "\n",
              "[2 rows x 106 columns]"
            ],
            "text/html": [
              "\n",
              "  <div id=\"df-e40072c4-8741-43ed-abba-d47a7509034b\">\n",
              "    <div class=\"colab-df-container\">\n",
              "      <div>\n",
              "<style scoped>\n",
              "    .dataframe tbody tr th:only-of-type {\n",
              "        vertical-align: middle;\n",
              "    }\n",
              "\n",
              "    .dataframe tbody tr th {\n",
              "        vertical-align: top;\n",
              "    }\n",
              "\n",
              "    .dataframe thead th {\n",
              "        text-align: right;\n",
              "    }\n",
              "</style>\n",
              "<table border=\"1\" class=\"dataframe\">\n",
              "  <thead>\n",
              "    <tr style=\"text-align: right;\">\n",
              "      <th></th>\n",
              "      <th>Age</th>\n",
              "      <th>fnlwgt</th>\n",
              "      <th>Education_Num</th>\n",
              "      <th>Capital_Gain</th>\n",
              "      <th>Capital_Loss</th>\n",
              "      <th>Hours_per_week</th>\n",
              "      <th>Target</th>\n",
              "      <th>Workclass_ Federal-gov</th>\n",
              "      <th>Workclass_ Local-gov</th>\n",
              "      <th>Workclass_ Never-worked</th>\n",
              "      <th>...</th>\n",
              "      <th>Country_ Puerto-Rico</th>\n",
              "      <th>Country_ Scotland</th>\n",
              "      <th>Country_ South</th>\n",
              "      <th>Country_ Taiwan</th>\n",
              "      <th>Country_ Thailand</th>\n",
              "      <th>Country_ Trinadad&amp;Tobago</th>\n",
              "      <th>Country_ United-States</th>\n",
              "      <th>Country_ Vietnam</th>\n",
              "      <th>Country_ Yugoslavia</th>\n",
              "      <th>Country_ Holand-Netherlands</th>\n",
              "    </tr>\n",
              "  </thead>\n",
              "  <tbody>\n",
              "    <tr>\n",
              "      <th>1</th>\n",
              "      <td>25</td>\n",
              "      <td>226802</td>\n",
              "      <td>7</td>\n",
              "      <td>0</td>\n",
              "      <td>0</td>\n",
              "      <td>40</td>\n",
              "      <td>0</td>\n",
              "      <td>0</td>\n",
              "      <td>0</td>\n",
              "      <td>0</td>\n",
              "      <td>...</td>\n",
              "      <td>0</td>\n",
              "      <td>0</td>\n",
              "      <td>0</td>\n",
              "      <td>0</td>\n",
              "      <td>0</td>\n",
              "      <td>0</td>\n",
              "      <td>1</td>\n",
              "      <td>0</td>\n",
              "      <td>0</td>\n",
              "      <td>0.0</td>\n",
              "    </tr>\n",
              "    <tr>\n",
              "      <th>2</th>\n",
              "      <td>38</td>\n",
              "      <td>89814</td>\n",
              "      <td>9</td>\n",
              "      <td>0</td>\n",
              "      <td>0</td>\n",
              "      <td>50</td>\n",
              "      <td>0</td>\n",
              "      <td>0</td>\n",
              "      <td>0</td>\n",
              "      <td>0</td>\n",
              "      <td>...</td>\n",
              "      <td>0</td>\n",
              "      <td>0</td>\n",
              "      <td>0</td>\n",
              "      <td>0</td>\n",
              "      <td>0</td>\n",
              "      <td>0</td>\n",
              "      <td>1</td>\n",
              "      <td>0</td>\n",
              "      <td>0</td>\n",
              "      <td>0.0</td>\n",
              "    </tr>\n",
              "  </tbody>\n",
              "</table>\n",
              "<p>2 rows × 106 columns</p>\n",
              "</div>\n",
              "      <button class=\"colab-df-convert\" onclick=\"convertToInteractive('df-e40072c4-8741-43ed-abba-d47a7509034b')\"\n",
              "              title=\"Convert this dataframe to an interactive table.\"\n",
              "              style=\"display:none;\">\n",
              "        \n",
              "  <svg xmlns=\"http://www.w3.org/2000/svg\" height=\"24px\"viewBox=\"0 0 24 24\"\n",
              "       width=\"24px\">\n",
              "    <path d=\"M0 0h24v24H0V0z\" fill=\"none\"/>\n",
              "    <path d=\"M18.56 5.44l.94 2.06.94-2.06 2.06-.94-2.06-.94-.94-2.06-.94 2.06-2.06.94zm-11 1L8.5 8.5l.94-2.06 2.06-.94-2.06-.94L8.5 2.5l-.94 2.06-2.06.94zm10 10l.94 2.06.94-2.06 2.06-.94-2.06-.94-.94-2.06-.94 2.06-2.06.94z\"/><path d=\"M17.41 7.96l-1.37-1.37c-.4-.4-.92-.59-1.43-.59-.52 0-1.04.2-1.43.59L10.3 9.45l-7.72 7.72c-.78.78-.78 2.05 0 2.83L4 21.41c.39.39.9.59 1.41.59.51 0 1.02-.2 1.41-.59l7.78-7.78 2.81-2.81c.8-.78.8-2.07 0-2.86zM5.41 20L4 18.59l7.72-7.72 1.47 1.35L5.41 20z\"/>\n",
              "  </svg>\n",
              "      </button>\n",
              "      \n",
              "  <style>\n",
              "    .colab-df-container {\n",
              "      display:flex;\n",
              "      flex-wrap:wrap;\n",
              "      gap: 12px;\n",
              "    }\n",
              "\n",
              "    .colab-df-convert {\n",
              "      background-color: #E8F0FE;\n",
              "      border: none;\n",
              "      border-radius: 50%;\n",
              "      cursor: pointer;\n",
              "      display: none;\n",
              "      fill: #1967D2;\n",
              "      height: 32px;\n",
              "      padding: 0 0 0 0;\n",
              "      width: 32px;\n",
              "    }\n",
              "\n",
              "    .colab-df-convert:hover {\n",
              "      background-color: #E2EBFA;\n",
              "      box-shadow: 0px 1px 2px rgba(60, 64, 67, 0.3), 0px 1px 3px 1px rgba(60, 64, 67, 0.15);\n",
              "      fill: #174EA6;\n",
              "    }\n",
              "\n",
              "    [theme=dark] .colab-df-convert {\n",
              "      background-color: #3B4455;\n",
              "      fill: #D2E3FC;\n",
              "    }\n",
              "\n",
              "    [theme=dark] .colab-df-convert:hover {\n",
              "      background-color: #434B5C;\n",
              "      box-shadow: 0px 1px 3px 1px rgba(0, 0, 0, 0.15);\n",
              "      filter: drop-shadow(0px 1px 2px rgba(0, 0, 0, 0.3));\n",
              "      fill: #FFFFFF;\n",
              "    }\n",
              "  </style>\n",
              "\n",
              "      <script>\n",
              "        const buttonEl =\n",
              "          document.querySelector('#df-e40072c4-8741-43ed-abba-d47a7509034b button.colab-df-convert');\n",
              "        buttonEl.style.display =\n",
              "          google.colab.kernel.accessAllowed ? 'block' : 'none';\n",
              "\n",
              "        async function convertToInteractive(key) {\n",
              "          const element = document.querySelector('#df-e40072c4-8741-43ed-abba-d47a7509034b');\n",
              "          const dataTable =\n",
              "            await google.colab.kernel.invokeFunction('convertToInteractive',\n",
              "                                                     [key], {});\n",
              "          if (!dataTable) return;\n",
              "\n",
              "          const docLinkHtml = 'Like what you see? Visit the ' +\n",
              "            '<a target=\"_blank\" href=https://colab.research.google.com/notebooks/data_table.ipynb>data table notebook</a>'\n",
              "            + ' to learn more about interactive tables.';\n",
              "          element.innerHTML = '';\n",
              "          dataTable['output_type'] = 'display_data';\n",
              "          await google.colab.output.renderOutput(dataTable, element);\n",
              "          const docLink = document.createElement('div');\n",
              "          docLink.innerHTML = docLinkHtml;\n",
              "          element.appendChild(docLink);\n",
              "        }\n",
              "      </script>\n",
              "    </div>\n",
              "  </div>\n",
              "  "
            ]
          },
          "metadata": {},
          "execution_count": 37
        }
      ],
      "source": [
        "data_test.head(2)"
      ]
    },
    {
      "cell_type": "code",
      "execution_count": 64,
      "metadata": {
        "id": "bq1oE3CGQ1CB"
      },
      "outputs": [],
      "source": [
        "X_train = data_train.drop(['Target'], axis=1)\n",
        "y_train = data_train['Target']\n",
        "\n",
        "X_test = data_test.drop(['Target'], axis=1)\n",
        "y_test = data_test['Target']"
      ]
    },
    {
      "cell_type": "markdown",
      "metadata": {
        "id": "4tf0T6QOQ1CB"
      },
      "source": [
        "<a class=\"anchor\" id=\"3.3.1\"></a>"
      ]
    },
    {
      "cell_type": "markdown",
      "metadata": {
        "id": "YCDK2Os3Q1CC"
      },
      "source": [
        "### <span style=\"color:blue; font-size:1em;\">3.3.1. Дерево рішень без налаштування параметрів</span>\n",
        "\n",
        "[Повернутися до змісту](#3)"
      ]
    },
    {
      "cell_type": "markdown",
      "metadata": {
        "id": "94KjY0olQ1CC"
      },
      "source": [
        "Виконайте навчання дерева рішень (`DecisionTreeClassifier`) з максимальною глибиною 3 за наявною вибіркою та обрахуйте якість на тестовій вибірці. Використайте параметр `random_state` = 17 для відтворюваності результатів."
      ]
    },
    {
      "cell_type": "code",
      "execution_count": 66,
      "metadata": {
        "id": "E0tCwPlhQ1CC",
        "outputId": "384b199e-42b7-4ee5-dbe0-dba878052202",
        "colab": {
          "base_uri": "https://localhost:8080/"
        }
      },
      "outputs": [
        {
          "output_type": "execute_result",
          "data": {
            "text/plain": [
              "84.47884036607088"
            ]
          },
          "metadata": {},
          "execution_count": 66
        }
      ],
      "source": [
        "newTree = DecisionTreeClassifier(criterion='entropy', max_depth=3, random_state=17)\n",
        "\n",
        "newTree.fit(X_train, y_train.values)\n",
        "newTreePredictions = newTree.predict(X_test)\n",
        "\n",
        "right = 0\n",
        "i = 0\n",
        "\n",
        "for v in y_test:\n",
        "  if v == newTreePredictions[i]:\n",
        "    right += 1\n",
        "  i += 1\n",
        "\n",
        "right * 100 / len(newTreePredictions)"
      ]
    },
    {
      "cell_type": "markdown",
      "metadata": {
        "id": "vd4FkwZCQ1CC"
      },
      "source": [
        "Зробіть прогноз для тестової вибірки за допомогою отриманої моделі."
      ]
    },
    {
      "cell_type": "code",
      "execution_count": 67,
      "metadata": {
        "id": "xz_qAJNZQ1CC",
        "outputId": "b4cbd765-9c2a-42b1-eaba-a310915b3334",
        "colab": {
          "base_uri": "https://localhost:8080/"
        }
      },
      "outputs": [
        {
          "output_type": "execute_result",
          "data": {
            "text/plain": [
              "83.06615072784227"
            ]
          },
          "metadata": {},
          "execution_count": 67
        }
      ],
      "source": [
        "treePredictions = tree.predict(X_test)\n",
        "\n",
        "right = 0\n",
        "i = 0\n",
        "\n",
        "for v in y_test:\n",
        "  if v == treePredictions[i]:\n",
        "    right += 1\n",
        "  i += 1\n",
        "\n",
        "right * 100 / len(treePredictions)\n"
      ]
    },
    {
      "cell_type": "code",
      "execution_count": null,
      "metadata": {
        "id": "j951Yc5rQ1CC"
      },
      "outputs": [],
      "source": []
    },
    {
      "cell_type": "markdown",
      "metadata": {
        "id": "cCbb-u9jQ1CD"
      },
      "source": [
        "<span style=\"color:red; font-size:2em;\">Завдання 4</span>\n",
        "\n",
        "**Для всіх варіантів:**\n",
        "\n",
        "Яка частка правильних відповідей (accuracy) дерева рішень на тестовій вибірці за максимальної глибини дерева = 3 і random_state = 17?\n",
        "\n",
        "**Для варіантів 1-5:**\n",
        "\n",
        "Виконайте навчання дерева рішень з новими значеннями параметрів (max_depth=4, random_state=18) та порівняйте нове дерево із початковим (max_depth=3, random_state=17) за значенням частки правильних відповідей accuracy.\n",
        "\n",
        "**Для варіантів 6-10:**\n",
        "\n",
        "Виконайте навчання дерева рішень з новими значеннями параметрів (max_depth=2, random_state=16) та порівняйте нове дерево із початковим (max_depth=3, random_state=17) за значенням частки правильних відповідей accuracy.\n",
        "\n",
        "**Для варіантів 11-15:**\n",
        "\n",
        "Виконайте навчання дерева рішень з новими значеннями параметрів (max_depth=5, random_state=19) та порівняйте нове дерево із початковим (max_depth=3, random_state=17) за значенням частки правильних відповідей accuracy.\n",
        "\n",
        "**Для варіантів 16-20:**\n",
        "\n",
        "Виконайте навчання дерева рішень з новими значеннями параметрів (max_depth=5, random_state=20) та порівняйте нове дерево із початковим (max_depth=3, random_state=17) за значенням частки правильних відповідей accuracy."
      ]
    },
    {
      "cell_type": "markdown",
      "metadata": {
        "id": "KGq-iv9rQ1CD"
      },
      "source": [
        "<a class=\"anchor\" id=\"3.3.2\"></a>\n",
        "\n",
        "> Indented block\n",
        "\n"
      ]
    },
    {
      "cell_type": "code",
      "source": [
        "from ipywidgets import Image\n",
        "from io import StringIO\n",
        "import pydotplus\n",
        "\n",
        "tree = DecisionTreeClassifier(criterion='entropy', max_depth=2, random_state=16)\n",
        "\n",
        "tree.fit(X_train, y_train.values)\n",
        "\n",
        "dot_data = StringIO()\n",
        "export_graphviz(tree, feature_names=X_train.columns, \n",
        "                out_file=dot_data, filled=True)\n",
        "graph = pydotplus.graph_from_dot_data(dot_data.getvalue())\n",
        "Image(value=graph.create_png())"
      ],
      "metadata": {
        "id": "SVU0p46eVj-i",
        "outputId": "73617b34-209d-4603-fe29-91aa0cd2deee",
        "colab": {
          "base_uri": "https://localhost:8080/",
          "height": 384,
          "referenced_widgets": [
            "6197c154444f4555a9c3292611d205aa",
            "89e8294e69a942ca9a3b885322de58d3"
          ]
        }
      },
      "execution_count": 61,
      "outputs": [
        {
          "output_type": "display_data",
          "data": {
            "text/plain": [
              "Image(value=b'\\x89PNG\\r\\n\\x1a\\n\\x00\\x00\\x00\\rIHDR\\x00\\x00\\x03c\\x00\\x00\\x01g\\x08\\x06\\x00\\x00\\x00+?\\x916\\x00\\x00…"
            ],
            "application/vnd.jupyter.widget-view+json": {
              "version_major": 2,
              "version_minor": 0,
              "model_id": "6197c154444f4555a9c3292611d205aa"
            }
          },
          "metadata": {}
        }
      ]
    },
    {
      "cell_type": "markdown",
      "metadata": {
        "id": "YoWIU0PeQ1CD"
      },
      "source": [
        "### <span style=\"color:blue; font-size:1em;\">3.3.2. Дерево рішень з налаштуванням параметрів</span>\n",
        "\n",
        "[Повернутися до змісту](#3)"
      ]
    },
    {
      "cell_type": "markdown",
      "metadata": {
        "id": "N8NWdLuAQ1CD"
      },
      "source": [
        "Виконайте навчання дерева рішень (`DecisionTreeClassifier`, знову `random_state` = 17) за наявною вибіркою. Максимальну глибину налаштуйте на 5-кратній крос-валідації за допомогою `GridSearchCV`."
      ]
    },
    {
      "cell_type": "code",
      "execution_count": 50,
      "metadata": {
        "id": "HZpjX0PWQ1CD",
        "outputId": "09f00290-b8ec-4457-c4cb-62fd1c5ff2b1",
        "colab": {
          "base_uri": "https://localhost:8080/"
        }
      },
      "outputs": [
        {
          "output_type": "execute_result",
          "data": {
            "text/plain": [
              "GridSearchCV(cv=5, estimator=DecisionTreeClassifier(),\n",
              "             param_grid={'criterion': ['entropy'],\n",
              "                         'max_depth': [2, 3, 4, 5, 6, 7, 8, 9, 10],\n",
              "                         'random_state': [17]})"
            ]
          },
          "metadata": {},
          "execution_count": 50
        }
      ],
      "source": [
        "from sklearn.tree import DecisionTreeClassifier\n",
        "from sklearn.model_selection import GridSearchCV\n",
        "\n",
        "tree_params = {'criterion':['entropy'], 'max_depth':[2, 3, 4, 5, 6, 7, 8, 9, 10],  'random_state': [17]}\n",
        "\n",
        "locally_best_tree = GridSearchCV(DecisionTreeClassifier(), tree_params, cv = 5)                  \n",
        "\n",
        "locally_best_tree.fit(X_train, y_train.values)"
      ]
    },
    {
      "cell_type": "code",
      "execution_count": 51,
      "metadata": {
        "id": "sfFFyHpXQ1CD",
        "outputId": "dc154709-de47-4017-9043-99cddf6a9ed7",
        "colab": {
          "base_uri": "https://localhost:8080/"
        }
      },
      "outputs": [
        {
          "output_type": "stream",
          "name": "stdout",
          "text": [
            "Best params: {'criterion': 'entropy', 'max_depth': 8, 'random_state': 17}\n",
            "Best cross validaton score 0.8551643217062379\n"
          ]
        }
      ],
      "source": [
        "print(\"Best params:\", locally_best_tree.best_params_)\n",
        "print(\"Best cross validaton score\", locally_best_tree.best_score_)"
      ]
    },
    {
      "cell_type": "markdown",
      "metadata": {
        "id": "8IDUa-DEQ1CE"
      },
      "source": [
        "Виконайте навчання дерева рішень (`DecisionTreeClassifier`) з найкращим значенням максимальної глибини за наявною вибіркою (тобто, *Best params: {'max_depth': ##}*) та оцініть частку правильних відповідей на тесті. Використайте параметр random_state = 17 для відтворюваності результатів."
      ]
    },
    {
      "cell_type": "code",
      "execution_count": null,
      "metadata": {
        "id": "hLiAzUHLQ1CE"
      },
      "outputs": [],
      "source": [
        "tuned_tree = # Ваш код тут\n",
        "tuned_tree.fit # Ваш код тут\n",
        "tuned_tree_predictions = tuned_tree.predict # Ваш код тут\n",
        "accuracy_score # Ваш код тут"
      ]
    },
    {
      "cell_type": "markdown",
      "metadata": {
        "id": "j0jHEbb_Q1CE"
      },
      "source": [
        "<span style=\"color:red; font-size:2em;\">Завдання 5</span>\n",
        "\n",
        "**Для всіх варіантів:**\n",
        "\n",
        "Яка частка правильних відповідей (accuracy) дерева рішень на тестовій вибірці за найкращої максимальної глибини дерева (яку Ви отримали в результаті застосування `GridSearchCV`) і random_state = 17?\n",
        "\n",
        "**Для варіантів 1-5:**\n",
        "\n",
        "Виконайте порівняння побудованого дерева (max_depth='Best_params', random_state=17) із деревом з параметрами (max_depth=4, random_state=18) за показником accuracy.\n",
        "\n",
        "**Для варіантів 6-10:**\n",
        "\n",
        "Виконайте порівняння побудованого дерева (max_depth='Best_params', random_state=17) із деревом з параметрами (max_depth=2, random_state=16) за показником accuracy.\n",
        "\n",
        "**Для варіантів 11-15:**\n",
        "\n",
        "Виконайте порівняння побудованого дерева (max_depth='Best_params', random_state=17) із деревом з параметрами (max_depth=5, random_state=19) за показником accuracy.\n",
        "\n",
        "**Для варіантів 16-20:**\n",
        "\n",
        "Виконайте порівняння побудованого дерева (max_depth='Best_params', random_state=17) із деревом з параметрами (max_depth=5, random_state=20) за показником accuracy."
      ]
    },
    {
      "cell_type": "code",
      "source": [
        "tree = DecisionTreeClassifier(criterion='entropy', max_depth=8, random_state=17)\n",
        "\n",
        "tree.fit(X_train, y_train.values)\n",
        "\n",
        "treePredictions = tree.predict(X_train)\n",
        "\n",
        "right = 0\n",
        "i = 0\n",
        "\n",
        "for v in y_train:\n",
        "  if v == treePredictions[i]:\n",
        "    right += 1\n",
        "  i += 1\n",
        "\n",
        "right * 100 / len(treePredictions)"
      ],
      "metadata": {
        "id": "Q8rYA5TaUs5Y",
        "outputId": "ad02fb2c-93d0-42b5-d736-a94b668e624c",
        "colab": {
          "base_uri": "https://localhost:8080/"
        }
      },
      "execution_count": 55,
      "outputs": [
        {
          "output_type": "execute_result",
          "data": {
            "text/plain": [
              "85.98323147323485"
            ]
          },
          "metadata": {},
          "execution_count": 55
        }
      ]
    },
    {
      "cell_type": "code",
      "execution_count": 54,
      "metadata": {
        "id": "gZ7A_DTQQ1CE",
        "outputId": "7273de7e-e4e3-4a5c-abee-29a3992234b2",
        "colab": {
          "base_uri": "https://localhost:8080/"
        }
      },
      "outputs": [
        {
          "output_type": "execute_result",
          "data": {
            "text/plain": [
              "82.82300912134149"
            ]
          },
          "metadata": {},
          "execution_count": 54
        }
      ],
      "source": [
        "tree = DecisionTreeClassifier(criterion='entropy', max_depth=2, random_state=16)\n",
        "\n",
        "tree.fit(X_train, y_train.values)\n",
        "\n",
        "treePredictions = tree.predict(X_train)\n",
        "\n",
        "right = 0\n",
        "i = 0\n",
        "\n",
        "for v in y_train:\n",
        "  if v == treePredictions[i]:\n",
        "    right += 1\n",
        "  i += 1\n",
        "\n",
        "right * 100 / len(treePredictions)"
      ]
    }
  ],
  "metadata": {
    "kernelspec": {
      "display_name": "Python 3 (ipykernel)",
      "language": "python",
      "name": "python3"
    },
    "language_info": {
      "codemirror_mode": {
        "name": "ipython",
        "version": 3
      },
      "file_extension": ".py",
      "mimetype": "text/x-python",
      "name": "python",
      "nbconvert_exporter": "python",
      "pygments_lexer": "ipython3",
      "version": "3.9.12"
    },
    "colab": {
      "provenance": []
    },
    "widgets": {
      "application/vnd.jupyter.widget-state+json": {
        "6197c154444f4555a9c3292611d205aa": {
          "model_module": "@jupyter-widgets/controls",
          "model_name": "ImageModel",
          "model_module_version": "1.5.0",
          "state": {
            "_dom_classes": [],
            "_model_module": "@jupyter-widgets/controls",
            "_model_module_version": "1.5.0",
            "_model_name": "ImageModel",
            "_view_count": null,
            "_view_module": "@jupyter-widgets/controls",
            "_view_module_version": "1.5.0",
            "_view_name": "ImageView",
            "format": "png",
            "height": "",
            "layout": "IPY_MODEL_89e8294e69a942ca9a3b885322de58d3",
            "width": ""
          }
        },
        "89e8294e69a942ca9a3b885322de58d3": {
          "model_module": "@jupyter-widgets/base",
          "model_name": "LayoutModel",
          "model_module_version": "1.2.0",
          "state": {
            "_model_module": "@jupyter-widgets/base",
            "_model_module_version": "1.2.0",
            "_model_name": "LayoutModel",
            "_view_count": null,
            "_view_module": "@jupyter-widgets/base",
            "_view_module_version": "1.2.0",
            "_view_name": "LayoutView",
            "align_content": null,
            "align_items": null,
            "align_self": null,
            "border": null,
            "bottom": null,
            "display": null,
            "flex": null,
            "flex_flow": null,
            "grid_area": null,
            "grid_auto_columns": null,
            "grid_auto_flow": null,
            "grid_auto_rows": null,
            "grid_column": null,
            "grid_gap": null,
            "grid_row": null,
            "grid_template_areas": null,
            "grid_template_columns": null,
            "grid_template_rows": null,
            "height": null,
            "justify_content": null,
            "justify_items": null,
            "left": null,
            "margin": null,
            "max_height": null,
            "max_width": null,
            "min_height": null,
            "min_width": null,
            "object_fit": null,
            "object_position": null,
            "order": null,
            "overflow": null,
            "overflow_x": null,
            "overflow_y": null,
            "padding": null,
            "right": null,
            "top": null,
            "visibility": null,
            "width": null
          }
        }
      }
    }
  },
  "nbformat": 4,
  "nbformat_minor": 0
}