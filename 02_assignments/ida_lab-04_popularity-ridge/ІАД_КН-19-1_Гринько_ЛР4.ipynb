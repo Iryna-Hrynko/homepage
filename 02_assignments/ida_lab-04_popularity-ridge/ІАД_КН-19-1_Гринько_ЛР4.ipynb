{
  "cells": [
    {
      "cell_type": "markdown",
      "metadata": {
        "id": "YNdhgGqqWmDz"
      },
      "source": [
        "<h1><center>Лабораторна робота 4.</center></h1>\n",
        "<h2><center>Прогнозування популярності статей на TechMedia (Хабр) за допомогою лінійних моделей</center></h2>"
      ]
    },
    {
      "cell_type": "markdown",
      "metadata": {
        "id": "Jl3dMvOeWmD0"
      },
      "source": [
        "**Виконав:** Прізвище І.П.\n",
        "\n",
        "**Варіант:** №__"
      ]
    },
    {
      "cell_type": "markdown",
      "metadata": {
        "id": "C2IvGd7jWmD1"
      },
      "source": [
        "<a class=\"anchor\" id=\"lab-4\"></a>"
      ]
    },
    {
      "cell_type": "markdown",
      "metadata": {
        "id": "iUla6rz7WmD1"
      },
      "source": [
        "## Зміст\n",
        "\n",
        "- [4.1. Розбиття на train/valid](#lab-4.1)\n",
        "- [4.2. Застосування TfidfVectorizer](#lab-4.2)\n",
        "- [4.3. Робота з категоріальним ознаками](#lab-4.3)\n",
        "- [4.4. Навчання моделі](#lab-4.4)\n",
        "- [4.5 Baseline](#lab-4.5)"
      ]
    },
    {
      "cell_type": "markdown",
      "metadata": {
        "id": "WZ03c_R-WmD2"
      },
      "source": [
        "У цій лабораторній роботі Вам пропонується розібратися з тим, як працює TfidfVectorizer і DictVectorizer, навчити й налаштувати модель лінійної регресії Ridge за набором даних про публікації на Хабрахабр."
      ]
    },
    {
      "cell_type": "markdown",
      "metadata": {
        "id": "pdvbhCsaWmD2"
      },
      "source": [
        "**Опис завдання:**\n",
        "\n",
        "Необхідно зробити прогноз того, як багато зірочок набере стаття, знаючи тільки її текст і час публікації.\n",
        "\n",
        "Побудуйте прогноз популярності статті на Хабрі за змістом і часом публікації. Як відомо, користувачі Хабра можуть додавати статті собі в профіль у розділ *обране*. Загальна кількість користувачів, що виконала цю дію, відображається у статті кількістю зірочок. Будемо вважати, що кількість зірочок у статтінайкраще відображає її популярність.\n",
        "\n",
        "Більш формально, за метрику популярності статті будемо використовувати частку статей за останній місяць, у яких кількість зірочок менше ніж має поточна стаття. А точніше, частці числа зірочок можна поставити у відповідність квантилі стандартного розподілу; у такий спосіб отримуємо кількісну характеристику популярності статті. Популярність статті *0* означає, що стаття отримала рівно стільки зірочок, скільки в середньому отримують статті. І відповідно чим більше зірочок отримала стаття в порівнянні із середнім значенням, тим вище це число."
      ]
    },
    {
      "cell_type": "markdown",
      "metadata": {
        "id": "JxHZYU8WWmD2"
      },
      "source": [
        "**Розпочнемо:** імпортуємо необхідні бібліотеки і завантажимо дані."
      ]
    },
    {
      "cell_type": "code",
      "execution_count": 1,
      "metadata": {
        "id": "C7siAG4oWmD3"
      },
      "outputs": [],
      "source": [
        "import numpy as np\n",
        "import pandas as pd\n",
        "import scipy\n",
        "\n",
        "from sklearn.feature_extraction.text import TfidfVectorizer\n",
        "from sklearn.feature_extraction import DictVectorizer\n",
        "from sklearn.model_selection import train_test_split\n",
        "from sklearn.linear_model import Ridge\n",
        "from sklearn.metrics import mean_squared_error\n",
        "\n",
        "%matplotlib inline\n",
        "from matplotlib import pyplot as plt"
      ]
    },
    {
      "cell_type": "code",
      "execution_count": 2,
      "metadata": {
        "id": "tTft7I5vWmD4"
      },
      "outputs": [],
      "source": [
        "# задамо графіки у форматі .svg, щоби вони мали кращу чіткість\n",
        "%config InlineBackend.figure_format = 'svg' \n",
        "\n",
        "# підвищимо розмір графіків за замовчуванням\n",
        "plt.style.use('ggplot')\n",
        "plt.rcParams['figure.figsize'] = 7, 5"
      ]
    },
    {
      "cell_type": "markdown",
      "metadata": {
        "id": "siKrSZMSWmD4"
      },
      "source": [
        "Подібна задача раніше подавалася на змаганнях в Kaggle [version_1](https://www.kaggle.com/c/howpop-habrahabr-favs-lognorm/overview) та [version_2](https://www.kaggle.com/c/howpop-habrahabr-favs)."
      ]
    },
    {
      "cell_type": "code",
      "execution_count": 3,
      "metadata": {
        "scrolled": true,
        "id": "8I-_yqYyWmD4"
      },
      "outputs": [],
      "source": [
        "howpop_train_url = 'https://raw.githubusercontent.com/radiukpavlo/intelligent-data-analysis/main/02_assignments/ida_lab-04_popularity-ridge/howpop_train.csv'\n",
        "howpop_test_url = 'https://raw.githubusercontent.com/radiukpavlo/intelligent-data-analysis/main/02_assignments/ida_lab-04_popularity-ridge/howpop_test.csv'\n",
        "\n",
        "train_df = pd.read_csv(howpop_train_url)\n",
        "test_df  = pd.read_csv(howpop_test_url)"
      ]
    },
    {
      "cell_type": "markdown",
      "metadata": {
        "id": "IO2NWIxNWmD4"
      },
      "source": [
        "На прикладі першого об'єкта набору даних переглянемо ознаки всього набору:"
      ]
    },
    {
      "cell_type": "code",
      "execution_count": 4,
      "metadata": {
        "id": "Yy7RdYgcWmD5",
        "outputId": "9552e748-2011-4e80-f84c-c9d223a5c731",
        "colab": {
          "base_uri": "https://localhost:8080/",
          "height": 582
        }
      },
      "outputs": [
        {
          "output_type": "execute_result",
          "data": {
            "text/plain": [
              "                                                               0\n",
              "url                             https://habrahabr.ru/post/18284/\n",
              "domain                                              habrahabr.ru\n",
              "post_id                                                    18284\n",
              "published                                    2008-01-01 18:19:00\n",
              "author                                                    @Tapac\n",
              "flow                                                     develop\n",
              "polling                                                    False\n",
              "content_len                                                 4305\n",
              "title             Новогодний подарок блоггерам — WordPress 2.3.2\n",
              "comments                                                       0\n",
              "favs                                                           0\n",
              "views                                                        236\n",
              "votes_plus                                                   0.0\n",
              "votes_minus                                                  0.0\n",
              "views_lognorm                                          -0.792687\n",
              "favs_lognorm                                           -1.344075\n",
              "comments_lognorm                                       -2.436871"
            ],
            "text/html": [
              "\n",
              "  <div id=\"df-ac5ff5bf-2676-4db1-8af3-d37876ead173\">\n",
              "    <div class=\"colab-df-container\">\n",
              "      <div>\n",
              "<style scoped>\n",
              "    .dataframe tbody tr th:only-of-type {\n",
              "        vertical-align: middle;\n",
              "    }\n",
              "\n",
              "    .dataframe tbody tr th {\n",
              "        vertical-align: top;\n",
              "    }\n",
              "\n",
              "    .dataframe thead th {\n",
              "        text-align: right;\n",
              "    }\n",
              "</style>\n",
              "<table border=\"1\" class=\"dataframe\">\n",
              "  <thead>\n",
              "    <tr style=\"text-align: right;\">\n",
              "      <th></th>\n",
              "      <th>0</th>\n",
              "    </tr>\n",
              "  </thead>\n",
              "  <tbody>\n",
              "    <tr>\n",
              "      <th>url</th>\n",
              "      <td>https://habrahabr.ru/post/18284/</td>\n",
              "    </tr>\n",
              "    <tr>\n",
              "      <th>domain</th>\n",
              "      <td>habrahabr.ru</td>\n",
              "    </tr>\n",
              "    <tr>\n",
              "      <th>post_id</th>\n",
              "      <td>18284</td>\n",
              "    </tr>\n",
              "    <tr>\n",
              "      <th>published</th>\n",
              "      <td>2008-01-01 18:19:00</td>\n",
              "    </tr>\n",
              "    <tr>\n",
              "      <th>author</th>\n",
              "      <td>@Tapac</td>\n",
              "    </tr>\n",
              "    <tr>\n",
              "      <th>flow</th>\n",
              "      <td>develop</td>\n",
              "    </tr>\n",
              "    <tr>\n",
              "      <th>polling</th>\n",
              "      <td>False</td>\n",
              "    </tr>\n",
              "    <tr>\n",
              "      <th>content_len</th>\n",
              "      <td>4305</td>\n",
              "    </tr>\n",
              "    <tr>\n",
              "      <th>title</th>\n",
              "      <td>Новогодний подарок блоггерам — WordPress 2.3.2</td>\n",
              "    </tr>\n",
              "    <tr>\n",
              "      <th>comments</th>\n",
              "      <td>0</td>\n",
              "    </tr>\n",
              "    <tr>\n",
              "      <th>favs</th>\n",
              "      <td>0</td>\n",
              "    </tr>\n",
              "    <tr>\n",
              "      <th>views</th>\n",
              "      <td>236</td>\n",
              "    </tr>\n",
              "    <tr>\n",
              "      <th>votes_plus</th>\n",
              "      <td>0.0</td>\n",
              "    </tr>\n",
              "    <tr>\n",
              "      <th>votes_minus</th>\n",
              "      <td>0.0</td>\n",
              "    </tr>\n",
              "    <tr>\n",
              "      <th>views_lognorm</th>\n",
              "      <td>-0.792687</td>\n",
              "    </tr>\n",
              "    <tr>\n",
              "      <th>favs_lognorm</th>\n",
              "      <td>-1.344075</td>\n",
              "    </tr>\n",
              "    <tr>\n",
              "      <th>comments_lognorm</th>\n",
              "      <td>-2.436871</td>\n",
              "    </tr>\n",
              "  </tbody>\n",
              "</table>\n",
              "</div>\n",
              "      <button class=\"colab-df-convert\" onclick=\"convertToInteractive('df-ac5ff5bf-2676-4db1-8af3-d37876ead173')\"\n",
              "              title=\"Convert this dataframe to an interactive table.\"\n",
              "              style=\"display:none;\">\n",
              "        \n",
              "  <svg xmlns=\"http://www.w3.org/2000/svg\" height=\"24px\"viewBox=\"0 0 24 24\"\n",
              "       width=\"24px\">\n",
              "    <path d=\"M0 0h24v24H0V0z\" fill=\"none\"/>\n",
              "    <path d=\"M18.56 5.44l.94 2.06.94-2.06 2.06-.94-2.06-.94-.94-2.06-.94 2.06-2.06.94zm-11 1L8.5 8.5l.94-2.06 2.06-.94-2.06-.94L8.5 2.5l-.94 2.06-2.06.94zm10 10l.94 2.06.94-2.06 2.06-.94-2.06-.94-.94-2.06-.94 2.06-2.06.94z\"/><path d=\"M17.41 7.96l-1.37-1.37c-.4-.4-.92-.59-1.43-.59-.52 0-1.04.2-1.43.59L10.3 9.45l-7.72 7.72c-.78.78-.78 2.05 0 2.83L4 21.41c.39.39.9.59 1.41.59.51 0 1.02-.2 1.41-.59l7.78-7.78 2.81-2.81c.8-.78.8-2.07 0-2.86zM5.41 20L4 18.59l7.72-7.72 1.47 1.35L5.41 20z\"/>\n",
              "  </svg>\n",
              "      </button>\n",
              "      \n",
              "  <style>\n",
              "    .colab-df-container {\n",
              "      display:flex;\n",
              "      flex-wrap:wrap;\n",
              "      gap: 12px;\n",
              "    }\n",
              "\n",
              "    .colab-df-convert {\n",
              "      background-color: #E8F0FE;\n",
              "      border: none;\n",
              "      border-radius: 50%;\n",
              "      cursor: pointer;\n",
              "      display: none;\n",
              "      fill: #1967D2;\n",
              "      height: 32px;\n",
              "      padding: 0 0 0 0;\n",
              "      width: 32px;\n",
              "    }\n",
              "\n",
              "    .colab-df-convert:hover {\n",
              "      background-color: #E2EBFA;\n",
              "      box-shadow: 0px 1px 2px rgba(60, 64, 67, 0.3), 0px 1px 3px 1px rgba(60, 64, 67, 0.15);\n",
              "      fill: #174EA6;\n",
              "    }\n",
              "\n",
              "    [theme=dark] .colab-df-convert {\n",
              "      background-color: #3B4455;\n",
              "      fill: #D2E3FC;\n",
              "    }\n",
              "\n",
              "    [theme=dark] .colab-df-convert:hover {\n",
              "      background-color: #434B5C;\n",
              "      box-shadow: 0px 1px 3px 1px rgba(0, 0, 0, 0.15);\n",
              "      filter: drop-shadow(0px 1px 2px rgba(0, 0, 0, 0.3));\n",
              "      fill: #FFFFFF;\n",
              "    }\n",
              "  </style>\n",
              "\n",
              "      <script>\n",
              "        const buttonEl =\n",
              "          document.querySelector('#df-ac5ff5bf-2676-4db1-8af3-d37876ead173 button.colab-df-convert');\n",
              "        buttonEl.style.display =\n",
              "          google.colab.kernel.accessAllowed ? 'block' : 'none';\n",
              "\n",
              "        async function convertToInteractive(key) {\n",
              "          const element = document.querySelector('#df-ac5ff5bf-2676-4db1-8af3-d37876ead173');\n",
              "          const dataTable =\n",
              "            await google.colab.kernel.invokeFunction('convertToInteractive',\n",
              "                                                     [key], {});\n",
              "          if (!dataTable) return;\n",
              "\n",
              "          const docLinkHtml = 'Like what you see? Visit the ' +\n",
              "            '<a target=\"_blank\" href=https://colab.research.google.com/notebooks/data_table.ipynb>data table notebook</a>'\n",
              "            + ' to learn more about interactive tables.';\n",
              "          element.innerHTML = '';\n",
              "          dataTable['output_type'] = 'display_data';\n",
              "          await google.colab.output.renderOutput(dataTable, element);\n",
              "          const docLink = document.createElement('div');\n",
              "          docLink.innerHTML = docLinkHtml;\n",
              "          element.appendChild(docLink);\n",
              "        }\n",
              "      </script>\n",
              "    </div>\n",
              "  </div>\n",
              "  "
            ]
          },
          "metadata": {},
          "execution_count": 4
        }
      ],
      "source": [
        "train_df.head(1).T"
      ]
    },
    {
      "cell_type": "code",
      "execution_count": 5,
      "metadata": {
        "id": "ME2pGI8mWmD5",
        "outputId": "4f6ca85c-a00b-4609-9423-056ae51da44b",
        "colab": {
          "base_uri": "https://localhost:8080/"
        }
      },
      "outputs": [
        {
          "output_type": "execute_result",
          "data": {
            "text/plain": [
              "((134137, 17), (3990, 9))"
            ]
          },
          "metadata": {},
          "execution_count": 5
        }
      ],
      "source": [
        "train_df.shape, test_df.shape"
      ]
    },
    {
      "cell_type": "markdown",
      "metadata": {
        "id": "2eBMHGRFWmD6"
      },
      "source": [
        "Переконаємося, що дані відсортовано за ознакою `published`."
      ]
    },
    {
      "cell_type": "code",
      "execution_count": 6,
      "metadata": {
        "id": "Mwpyv618WmD6",
        "outputId": "cd72dbb9-fa43-460d-a09b-efa047012ecb",
        "colab": {
          "base_uri": "https://localhost:8080/",
          "height": 439
        }
      },
      "outputs": [
        {
          "output_type": "display_data",
          "data": {
            "text/plain": [
              "<Figure size 504x360 with 1 Axes>"
            ],
            "image/svg+xml": "<?xml version=\"1.0\" encoding=\"utf-8\" standalone=\"no\"?>\n<!DOCTYPE svg PUBLIC \"-//W3C//DTD SVG 1.1//EN\"\n  \"http://www.w3.org/Graphics/SVG/1.1/DTD/svg11.dtd\">\n<!-- Created with matplotlib (https://matplotlib.org/) -->\n<svg height=\"313.476562pt\" version=\"1.1\" viewBox=\"0 0 451.122027 313.476562\" width=\"451.122027pt\" xmlns=\"http://www.w3.org/2000/svg\" xmlns:xlink=\"http://www.w3.org/1999/xlink\">\n <defs>\n  <style type=\"text/css\">\n*{stroke-linecap:butt;stroke-linejoin:round;}\n  </style>\n </defs>\n <g id=\"figure_1\">\n  <g id=\"patch_1\">\n   <path d=\"M 0 313.476562 \nL 451.122027 313.476562 \nL 451.122027 0 \nL 0 0 \nz\n\" style=\"fill:#ffffff;\"/>\n  </g>\n  <g id=\"axes_1\">\n   <g id=\"patch_2\">\n    <path d=\"M 36.465625 289.598437 \nL 427.065625 289.598437 \nL 427.065625 17.798437 \nL 36.465625 17.798437 \nz\n\" style=\"fill:#e5e5e5;\"/>\n   </g>\n   <g id=\"matplotlib.axis_1\">\n    <g id=\"xtick_1\">\n     <g id=\"line2d_1\">\n      <path clip-path=\"url(#pe1b9c24762)\" d=\"M 54.22017 289.598437 \nL 54.22017 17.798437 \n\" style=\"fill:none;stroke:#ffffff;stroke-linecap:square;stroke-width:0.8;\"/>\n     </g>\n     <g id=\"line2d_2\">\n      <defs>\n       <path d=\"M 0 0 \nL 0 3.5 \n\" id=\"mf6bc75b361\" style=\"stroke:#555555;stroke-width:0.8;\"/>\n      </defs>\n      <g>\n       <use style=\"fill:#555555;stroke:#555555;stroke-width:0.8;\" x=\"54.22017\" xlink:href=\"#mf6bc75b361\" y=\"289.598437\"/>\n      </g>\n     </g>\n     <g id=\"text_1\">\n      <!-- 0 -->\n      <defs>\n       <path d=\"M 31.78125 66.40625 \nQ 24.171875 66.40625 20.328125 58.90625 \nQ 16.5 51.421875 16.5 36.375 \nQ 16.5 21.390625 20.328125 13.890625 \nQ 24.171875 6.390625 31.78125 6.390625 \nQ 39.453125 6.390625 43.28125 13.890625 \nQ 47.125 21.390625 47.125 36.375 \nQ 47.125 51.421875 43.28125 58.90625 \nQ 39.453125 66.40625 31.78125 66.40625 \nz\nM 31.78125 74.21875 \nQ 44.046875 74.21875 50.515625 64.515625 \nQ 56.984375 54.828125 56.984375 36.375 \nQ 56.984375 17.96875 50.515625 8.265625 \nQ 44.046875 -1.421875 31.78125 -1.421875 \nQ 19.53125 -1.421875 13.0625 8.265625 \nQ 6.59375 17.96875 6.59375 36.375 \nQ 6.59375 54.828125 13.0625 64.515625 \nQ 19.53125 74.21875 31.78125 74.21875 \nz\n\" id=\"DejaVuSans-48\"/>\n      </defs>\n      <g style=\"fill:#555555;\" transform=\"translate(51.03892 304.196875)scale(0.1 -0.1)\">\n       <use xlink:href=\"#DejaVuSans-48\"/>\n      </g>\n     </g>\n    </g>\n    <g id=\"xtick_2\">\n     <g id=\"line2d_3\">\n      <path clip-path=\"url(#pe1b9c24762)\" d=\"M 107.165078 289.598437 \nL 107.165078 17.798437 \n\" style=\"fill:none;stroke:#ffffff;stroke-linecap:square;stroke-width:0.8;\"/>\n     </g>\n     <g id=\"line2d_4\">\n      <g>\n       <use style=\"fill:#555555;stroke:#555555;stroke-width:0.8;\" x=\"107.165078\" xlink:href=\"#mf6bc75b361\" y=\"289.598437\"/>\n      </g>\n     </g>\n     <g id=\"text_2\">\n      <!-- 20000 -->\n      <defs>\n       <path d=\"M 19.1875 8.296875 \nL 53.609375 8.296875 \nL 53.609375 0 \nL 7.328125 0 \nL 7.328125 8.296875 \nQ 12.9375 14.109375 22.625 23.890625 \nQ 32.328125 33.6875 34.8125 36.53125 \nQ 39.546875 41.84375 41.421875 45.53125 \nQ 43.3125 49.21875 43.3125 52.78125 \nQ 43.3125 58.59375 39.234375 62.25 \nQ 35.15625 65.921875 28.609375 65.921875 \nQ 23.96875 65.921875 18.8125 64.3125 \nQ 13.671875 62.703125 7.8125 59.421875 \nL 7.8125 69.390625 \nQ 13.765625 71.78125 18.9375 73 \nQ 24.125 74.21875 28.421875 74.21875 \nQ 39.75 74.21875 46.484375 68.546875 \nQ 53.21875 62.890625 53.21875 53.421875 \nQ 53.21875 48.921875 51.53125 44.890625 \nQ 49.859375 40.875 45.40625 35.40625 \nQ 44.1875 33.984375 37.640625 27.21875 \nQ 31.109375 20.453125 19.1875 8.296875 \nz\n\" id=\"DejaVuSans-50\"/>\n      </defs>\n      <g style=\"fill:#555555;\" transform=\"translate(91.258828 304.196875)scale(0.1 -0.1)\">\n       <use xlink:href=\"#DejaVuSans-50\"/>\n       <use x=\"63.623047\" xlink:href=\"#DejaVuSans-48\"/>\n       <use x=\"127.246094\" xlink:href=\"#DejaVuSans-48\"/>\n       <use x=\"190.869141\" xlink:href=\"#DejaVuSans-48\"/>\n       <use x=\"254.492188\" xlink:href=\"#DejaVuSans-48\"/>\n      </g>\n     </g>\n    </g>\n    <g id=\"xtick_3\">\n     <g id=\"line2d_5\">\n      <path clip-path=\"url(#pe1b9c24762)\" d=\"M 160.109986 289.598437 \nL 160.109986 17.798437 \n\" style=\"fill:none;stroke:#ffffff;stroke-linecap:square;stroke-width:0.8;\"/>\n     </g>\n     <g id=\"line2d_6\">\n      <g>\n       <use style=\"fill:#555555;stroke:#555555;stroke-width:0.8;\" x=\"160.109986\" xlink:href=\"#mf6bc75b361\" y=\"289.598437\"/>\n      </g>\n     </g>\n     <g id=\"text_3\">\n      <!-- 40000 -->\n      <defs>\n       <path d=\"M 37.796875 64.3125 \nL 12.890625 25.390625 \nL 37.796875 25.390625 \nz\nM 35.203125 72.90625 \nL 47.609375 72.90625 \nL 47.609375 25.390625 \nL 58.015625 25.390625 \nL 58.015625 17.1875 \nL 47.609375 17.1875 \nL 47.609375 0 \nL 37.796875 0 \nL 37.796875 17.1875 \nL 4.890625 17.1875 \nL 4.890625 26.703125 \nz\n\" id=\"DejaVuSans-52\"/>\n      </defs>\n      <g style=\"fill:#555555;\" transform=\"translate(144.203736 304.196875)scale(0.1 -0.1)\">\n       <use xlink:href=\"#DejaVuSans-52\"/>\n       <use x=\"63.623047\" xlink:href=\"#DejaVuSans-48\"/>\n       <use x=\"127.246094\" xlink:href=\"#DejaVuSans-48\"/>\n       <use x=\"190.869141\" xlink:href=\"#DejaVuSans-48\"/>\n       <use x=\"254.492188\" xlink:href=\"#DejaVuSans-48\"/>\n      </g>\n     </g>\n    </g>\n    <g id=\"xtick_4\">\n     <g id=\"line2d_7\">\n      <path clip-path=\"url(#pe1b9c24762)\" d=\"M 213.054895 289.598437 \nL 213.054895 17.798437 \n\" style=\"fill:none;stroke:#ffffff;stroke-linecap:square;stroke-width:0.8;\"/>\n     </g>\n     <g id=\"line2d_8\">\n      <g>\n       <use style=\"fill:#555555;stroke:#555555;stroke-width:0.8;\" x=\"213.054895\" xlink:href=\"#mf6bc75b361\" y=\"289.598437\"/>\n      </g>\n     </g>\n     <g id=\"text_4\">\n      <!-- 60000 -->\n      <defs>\n       <path d=\"M 33.015625 40.375 \nQ 26.375 40.375 22.484375 35.828125 \nQ 18.609375 31.296875 18.609375 23.390625 \nQ 18.609375 15.53125 22.484375 10.953125 \nQ 26.375 6.390625 33.015625 6.390625 \nQ 39.65625 6.390625 43.53125 10.953125 \nQ 47.40625 15.53125 47.40625 23.390625 \nQ 47.40625 31.296875 43.53125 35.828125 \nQ 39.65625 40.375 33.015625 40.375 \nz\nM 52.59375 71.296875 \nL 52.59375 62.3125 \nQ 48.875 64.0625 45.09375 64.984375 \nQ 41.3125 65.921875 37.59375 65.921875 \nQ 27.828125 65.921875 22.671875 59.328125 \nQ 17.53125 52.734375 16.796875 39.40625 \nQ 19.671875 43.65625 24.015625 45.921875 \nQ 28.375 48.1875 33.59375 48.1875 \nQ 44.578125 48.1875 50.953125 41.515625 \nQ 57.328125 34.859375 57.328125 23.390625 \nQ 57.328125 12.15625 50.6875 5.359375 \nQ 44.046875 -1.421875 33.015625 -1.421875 \nQ 20.359375 -1.421875 13.671875 8.265625 \nQ 6.984375 17.96875 6.984375 36.375 \nQ 6.984375 53.65625 15.1875 63.9375 \nQ 23.390625 74.21875 37.203125 74.21875 \nQ 40.921875 74.21875 44.703125 73.484375 \nQ 48.484375 72.75 52.59375 71.296875 \nz\n\" id=\"DejaVuSans-54\"/>\n      </defs>\n      <g style=\"fill:#555555;\" transform=\"translate(197.148645 304.196875)scale(0.1 -0.1)\">\n       <use xlink:href=\"#DejaVuSans-54\"/>\n       <use x=\"63.623047\" xlink:href=\"#DejaVuSans-48\"/>\n       <use x=\"127.246094\" xlink:href=\"#DejaVuSans-48\"/>\n       <use x=\"190.869141\" xlink:href=\"#DejaVuSans-48\"/>\n       <use x=\"254.492188\" xlink:href=\"#DejaVuSans-48\"/>\n      </g>\n     </g>\n    </g>\n    <g id=\"xtick_5\">\n     <g id=\"line2d_9\">\n      <path clip-path=\"url(#pe1b9c24762)\" d=\"M 265.999803 289.598437 \nL 265.999803 17.798437 \n\" style=\"fill:none;stroke:#ffffff;stroke-linecap:square;stroke-width:0.8;\"/>\n     </g>\n     <g id=\"line2d_10\">\n      <g>\n       <use style=\"fill:#555555;stroke:#555555;stroke-width:0.8;\" x=\"265.999803\" xlink:href=\"#mf6bc75b361\" y=\"289.598437\"/>\n      </g>\n     </g>\n     <g id=\"text_5\">\n      <!-- 80000 -->\n      <defs>\n       <path d=\"M 31.78125 34.625 \nQ 24.75 34.625 20.71875 30.859375 \nQ 16.703125 27.09375 16.703125 20.515625 \nQ 16.703125 13.921875 20.71875 10.15625 \nQ 24.75 6.390625 31.78125 6.390625 \nQ 38.8125 6.390625 42.859375 10.171875 \nQ 46.921875 13.96875 46.921875 20.515625 \nQ 46.921875 27.09375 42.890625 30.859375 \nQ 38.875 34.625 31.78125 34.625 \nz\nM 21.921875 38.8125 \nQ 15.578125 40.375 12.03125 44.71875 \nQ 8.5 49.078125 8.5 55.328125 \nQ 8.5 64.0625 14.71875 69.140625 \nQ 20.953125 74.21875 31.78125 74.21875 \nQ 42.671875 74.21875 48.875 69.140625 \nQ 55.078125 64.0625 55.078125 55.328125 \nQ 55.078125 49.078125 51.53125 44.71875 \nQ 48 40.375 41.703125 38.8125 \nQ 48.828125 37.15625 52.796875 32.3125 \nQ 56.78125 27.484375 56.78125 20.515625 \nQ 56.78125 9.90625 50.3125 4.234375 \nQ 43.84375 -1.421875 31.78125 -1.421875 \nQ 19.734375 -1.421875 13.25 4.234375 \nQ 6.78125 9.90625 6.78125 20.515625 \nQ 6.78125 27.484375 10.78125 32.3125 \nQ 14.796875 37.15625 21.921875 38.8125 \nz\nM 18.3125 54.390625 \nQ 18.3125 48.734375 21.84375 45.5625 \nQ 25.390625 42.390625 31.78125 42.390625 \nQ 38.140625 42.390625 41.71875 45.5625 \nQ 45.3125 48.734375 45.3125 54.390625 \nQ 45.3125 60.0625 41.71875 63.234375 \nQ 38.140625 66.40625 31.78125 66.40625 \nQ 25.390625 66.40625 21.84375 63.234375 \nQ 18.3125 60.0625 18.3125 54.390625 \nz\n\" id=\"DejaVuSans-56\"/>\n      </defs>\n      <g style=\"fill:#555555;\" transform=\"translate(250.093553 304.196875)scale(0.1 -0.1)\">\n       <use xlink:href=\"#DejaVuSans-56\"/>\n       <use x=\"63.623047\" xlink:href=\"#DejaVuSans-48\"/>\n       <use x=\"127.246094\" xlink:href=\"#DejaVuSans-48\"/>\n       <use x=\"190.869141\" xlink:href=\"#DejaVuSans-48\"/>\n       <use x=\"254.492188\" xlink:href=\"#DejaVuSans-48\"/>\n      </g>\n     </g>\n    </g>\n    <g id=\"xtick_6\">\n     <g id=\"line2d_11\">\n      <path clip-path=\"url(#pe1b9c24762)\" d=\"M 318.944711 289.598437 \nL 318.944711 17.798437 \n\" style=\"fill:none;stroke:#ffffff;stroke-linecap:square;stroke-width:0.8;\"/>\n     </g>\n     <g id=\"line2d_12\">\n      <g>\n       <use style=\"fill:#555555;stroke:#555555;stroke-width:0.8;\" x=\"318.944711\" xlink:href=\"#mf6bc75b361\" y=\"289.598437\"/>\n      </g>\n     </g>\n     <g id=\"text_6\">\n      <!-- 100000 -->\n      <defs>\n       <path d=\"M 12.40625 8.296875 \nL 28.515625 8.296875 \nL 28.515625 63.921875 \nL 10.984375 60.40625 \nL 10.984375 69.390625 \nL 28.421875 72.90625 \nL 38.28125 72.90625 \nL 38.28125 8.296875 \nL 54.390625 8.296875 \nL 54.390625 0 \nL 12.40625 0 \nz\n\" id=\"DejaVuSans-49\"/>\n      </defs>\n      <g style=\"fill:#555555;\" transform=\"translate(299.857211 304.196875)scale(0.1 -0.1)\">\n       <use xlink:href=\"#DejaVuSans-49\"/>\n       <use x=\"63.623047\" xlink:href=\"#DejaVuSans-48\"/>\n       <use x=\"127.246094\" xlink:href=\"#DejaVuSans-48\"/>\n       <use x=\"190.869141\" xlink:href=\"#DejaVuSans-48\"/>\n       <use x=\"254.492188\" xlink:href=\"#DejaVuSans-48\"/>\n       <use x=\"318.115234\" xlink:href=\"#DejaVuSans-48\"/>\n      </g>\n     </g>\n    </g>\n    <g id=\"xtick_7\">\n     <g id=\"line2d_13\">\n      <path clip-path=\"url(#pe1b9c24762)\" d=\"M 371.889619 289.598437 \nL 371.889619 17.798437 \n\" style=\"fill:none;stroke:#ffffff;stroke-linecap:square;stroke-width:0.8;\"/>\n     </g>\n     <g id=\"line2d_14\">\n      <g>\n       <use style=\"fill:#555555;stroke:#555555;stroke-width:0.8;\" x=\"371.889619\" xlink:href=\"#mf6bc75b361\" y=\"289.598437\"/>\n      </g>\n     </g>\n     <g id=\"text_7\">\n      <!-- 120000 -->\n      <g style=\"fill:#555555;\" transform=\"translate(352.802119 304.196875)scale(0.1 -0.1)\">\n       <use xlink:href=\"#DejaVuSans-49\"/>\n       <use x=\"63.623047\" xlink:href=\"#DejaVuSans-50\"/>\n       <use x=\"127.246094\" xlink:href=\"#DejaVuSans-48\"/>\n       <use x=\"190.869141\" xlink:href=\"#DejaVuSans-48\"/>\n       <use x=\"254.492188\" xlink:href=\"#DejaVuSans-48\"/>\n       <use x=\"318.115234\" xlink:href=\"#DejaVuSans-48\"/>\n      </g>\n     </g>\n    </g>\n    <g id=\"xtick_8\">\n     <g id=\"line2d_15\">\n      <path clip-path=\"url(#pe1b9c24762)\" d=\"M 424.834527 289.598437 \nL 424.834527 17.798437 \n\" style=\"fill:none;stroke:#ffffff;stroke-linecap:square;stroke-width:0.8;\"/>\n     </g>\n     <g id=\"line2d_16\">\n      <g>\n       <use style=\"fill:#555555;stroke:#555555;stroke-width:0.8;\" x=\"424.834527\" xlink:href=\"#mf6bc75b361\" y=\"289.598437\"/>\n      </g>\n     </g>\n     <g id=\"text_8\">\n      <!-- 140000 -->\n      <g style=\"fill:#555555;\" transform=\"translate(405.747027 304.196875)scale(0.1 -0.1)\">\n       <use xlink:href=\"#DejaVuSans-49\"/>\n       <use x=\"63.623047\" xlink:href=\"#DejaVuSans-52\"/>\n       <use x=\"127.246094\" xlink:href=\"#DejaVuSans-48\"/>\n       <use x=\"190.869141\" xlink:href=\"#DejaVuSans-48\"/>\n       <use x=\"254.492188\" xlink:href=\"#DejaVuSans-48\"/>\n       <use x=\"318.115234\" xlink:href=\"#DejaVuSans-48\"/>\n      </g>\n     </g>\n    </g>\n   </g>\n   <g id=\"matplotlib.axis_2\">\n    <g id=\"ytick_1\">\n     <g id=\"line2d_17\">\n      <path clip-path=\"url(#pe1b9c24762)\" d=\"M 36.465625 276.544973 \nL 427.065625 276.544973 \n\" style=\"fill:none;stroke:#ffffff;stroke-linecap:square;stroke-width:0.8;\"/>\n     </g>\n     <g id=\"line2d_18\">\n      <defs>\n       <path d=\"M 0 0 \nL -3.5 0 \n\" id=\"m2d88d23f99\" style=\"stroke:#555555;stroke-width:0.8;\"/>\n      </defs>\n      <g>\n       <use style=\"fill:#555555;stroke:#555555;stroke-width:0.8;\" x=\"36.465625\" xlink:href=\"#m2d88d23f99\" y=\"276.544973\"/>\n      </g>\n     </g>\n     <g id=\"text_9\">\n      <!-- 1.20 -->\n      <defs>\n       <path d=\"M 10.6875 12.40625 \nL 21 12.40625 \nL 21 0 \nL 10.6875 0 \nz\n\" id=\"DejaVuSans-46\"/>\n      </defs>\n      <g style=\"fill:#555555;\" transform=\"translate(7.2 280.344192)scale(0.1 -0.1)\">\n       <use xlink:href=\"#DejaVuSans-49\"/>\n       <use x=\"63.623047\" xlink:href=\"#DejaVuSans-46\"/>\n       <use x=\"95.410156\" xlink:href=\"#DejaVuSans-50\"/>\n       <use x=\"159.033203\" xlink:href=\"#DejaVuSans-48\"/>\n      </g>\n     </g>\n    </g>\n    <g id=\"ytick_2\">\n     <g id=\"line2d_19\">\n      <path clip-path=\"url(#pe1b9c24762)\" d=\"M 36.465625 232.223196 \nL 427.065625 232.223196 \n\" style=\"fill:none;stroke:#ffffff;stroke-linecap:square;stroke-width:0.8;\"/>\n     </g>\n     <g id=\"line2d_20\">\n      <g>\n       <use style=\"fill:#555555;stroke:#555555;stroke-width:0.8;\" x=\"36.465625\" xlink:href=\"#m2d88d23f99\" y=\"232.223196\"/>\n      </g>\n     </g>\n     <g id=\"text_10\">\n      <!-- 1.25 -->\n      <defs>\n       <path d=\"M 10.796875 72.90625 \nL 49.515625 72.90625 \nL 49.515625 64.59375 \nL 19.828125 64.59375 \nL 19.828125 46.734375 \nQ 21.96875 47.46875 24.109375 47.828125 \nQ 26.265625 48.1875 28.421875 48.1875 \nQ 40.625 48.1875 47.75 41.5 \nQ 54.890625 34.8125 54.890625 23.390625 \nQ 54.890625 11.625 47.5625 5.09375 \nQ 40.234375 -1.421875 26.90625 -1.421875 \nQ 22.3125 -1.421875 17.546875 -0.640625 \nQ 12.796875 0.140625 7.71875 1.703125 \nL 7.71875 11.625 \nQ 12.109375 9.234375 16.796875 8.0625 \nQ 21.484375 6.890625 26.703125 6.890625 \nQ 35.15625 6.890625 40.078125 11.328125 \nQ 45.015625 15.765625 45.015625 23.390625 \nQ 45.015625 31 40.078125 35.4375 \nQ 35.15625 39.890625 26.703125 39.890625 \nQ 22.75 39.890625 18.8125 39.015625 \nQ 14.890625 38.140625 10.796875 36.28125 \nz\n\" id=\"DejaVuSans-53\"/>\n      </defs>\n      <g style=\"fill:#555555;\" transform=\"translate(7.2 236.022415)scale(0.1 -0.1)\">\n       <use xlink:href=\"#DejaVuSans-49\"/>\n       <use x=\"63.623047\" xlink:href=\"#DejaVuSans-46\"/>\n       <use x=\"95.410156\" xlink:href=\"#DejaVuSans-50\"/>\n       <use x=\"159.033203\" xlink:href=\"#DejaVuSans-53\"/>\n      </g>\n     </g>\n    </g>\n    <g id=\"ytick_3\">\n     <g id=\"line2d_21\">\n      <path clip-path=\"url(#pe1b9c24762)\" d=\"M 36.465625 187.90142 \nL 427.065625 187.90142 \n\" style=\"fill:none;stroke:#ffffff;stroke-linecap:square;stroke-width:0.8;\"/>\n     </g>\n     <g id=\"line2d_22\">\n      <g>\n       <use style=\"fill:#555555;stroke:#555555;stroke-width:0.8;\" x=\"36.465625\" xlink:href=\"#m2d88d23f99\" y=\"187.90142\"/>\n      </g>\n     </g>\n     <g id=\"text_11\">\n      <!-- 1.30 -->\n      <defs>\n       <path d=\"M 40.578125 39.3125 \nQ 47.65625 37.796875 51.625 33 \nQ 55.609375 28.21875 55.609375 21.1875 \nQ 55.609375 10.40625 48.1875 4.484375 \nQ 40.765625 -1.421875 27.09375 -1.421875 \nQ 22.515625 -1.421875 17.65625 -0.515625 \nQ 12.796875 0.390625 7.625 2.203125 \nL 7.625 11.71875 \nQ 11.71875 9.328125 16.59375 8.109375 \nQ 21.484375 6.890625 26.8125 6.890625 \nQ 36.078125 6.890625 40.9375 10.546875 \nQ 45.796875 14.203125 45.796875 21.1875 \nQ 45.796875 27.640625 41.28125 31.265625 \nQ 36.765625 34.90625 28.71875 34.90625 \nL 20.21875 34.90625 \nL 20.21875 43.015625 \nL 29.109375 43.015625 \nQ 36.375 43.015625 40.234375 45.921875 \nQ 44.09375 48.828125 44.09375 54.296875 \nQ 44.09375 59.90625 40.109375 62.90625 \nQ 36.140625 65.921875 28.71875 65.921875 \nQ 24.65625 65.921875 20.015625 65.03125 \nQ 15.375 64.15625 9.8125 62.3125 \nL 9.8125 71.09375 \nQ 15.4375 72.65625 20.34375 73.4375 \nQ 25.25 74.21875 29.59375 74.21875 \nQ 40.828125 74.21875 47.359375 69.109375 \nQ 53.90625 64.015625 53.90625 55.328125 \nQ 53.90625 49.265625 50.4375 45.09375 \nQ 46.96875 40.921875 40.578125 39.3125 \nz\n\" id=\"DejaVuSans-51\"/>\n      </defs>\n      <g style=\"fill:#555555;\" transform=\"translate(7.2 191.700638)scale(0.1 -0.1)\">\n       <use xlink:href=\"#DejaVuSans-49\"/>\n       <use x=\"63.623047\" xlink:href=\"#DejaVuSans-46\"/>\n       <use x=\"95.410156\" xlink:href=\"#DejaVuSans-51\"/>\n       <use x=\"159.033203\" xlink:href=\"#DejaVuSans-48\"/>\n      </g>\n     </g>\n    </g>\n    <g id=\"ytick_4\">\n     <g id=\"line2d_23\">\n      <path clip-path=\"url(#pe1b9c24762)\" d=\"M 36.465625 143.579643 \nL 427.065625 143.579643 \n\" style=\"fill:none;stroke:#ffffff;stroke-linecap:square;stroke-width:0.8;\"/>\n     </g>\n     <g id=\"line2d_24\">\n      <g>\n       <use style=\"fill:#555555;stroke:#555555;stroke-width:0.8;\" x=\"36.465625\" xlink:href=\"#m2d88d23f99\" y=\"143.579643\"/>\n      </g>\n     </g>\n     <g id=\"text_12\">\n      <!-- 1.35 -->\n      <g style=\"fill:#555555;\" transform=\"translate(7.2 147.378862)scale(0.1 -0.1)\">\n       <use xlink:href=\"#DejaVuSans-49\"/>\n       <use x=\"63.623047\" xlink:href=\"#DejaVuSans-46\"/>\n       <use x=\"95.410156\" xlink:href=\"#DejaVuSans-51\"/>\n       <use x=\"159.033203\" xlink:href=\"#DejaVuSans-53\"/>\n      </g>\n     </g>\n    </g>\n    <g id=\"ytick_5\">\n     <g id=\"line2d_25\">\n      <path clip-path=\"url(#pe1b9c24762)\" d=\"M 36.465625 99.257866 \nL 427.065625 99.257866 \n\" style=\"fill:none;stroke:#ffffff;stroke-linecap:square;stroke-width:0.8;\"/>\n     </g>\n     <g id=\"line2d_26\">\n      <g>\n       <use style=\"fill:#555555;stroke:#555555;stroke-width:0.8;\" x=\"36.465625\" xlink:href=\"#m2d88d23f99\" y=\"99.257866\"/>\n      </g>\n     </g>\n     <g id=\"text_13\">\n      <!-- 1.40 -->\n      <g style=\"fill:#555555;\" transform=\"translate(7.2 103.057085)scale(0.1 -0.1)\">\n       <use xlink:href=\"#DejaVuSans-49\"/>\n       <use x=\"63.623047\" xlink:href=\"#DejaVuSans-46\"/>\n       <use x=\"95.410156\" xlink:href=\"#DejaVuSans-52\"/>\n       <use x=\"159.033203\" xlink:href=\"#DejaVuSans-48\"/>\n      </g>\n     </g>\n    </g>\n    <g id=\"ytick_6\">\n     <g id=\"line2d_27\">\n      <path clip-path=\"url(#pe1b9c24762)\" d=\"M 36.465625 54.936089 \nL 427.065625 54.936089 \n\" style=\"fill:none;stroke:#ffffff;stroke-linecap:square;stroke-width:0.8;\"/>\n     </g>\n     <g id=\"line2d_28\">\n      <g>\n       <use style=\"fill:#555555;stroke:#555555;stroke-width:0.8;\" x=\"36.465625\" xlink:href=\"#m2d88d23f99\" y=\"54.936089\"/>\n      </g>\n     </g>\n     <g id=\"text_14\">\n      <!-- 1.45 -->\n      <g style=\"fill:#555555;\" transform=\"translate(7.2 58.735308)scale(0.1 -0.1)\">\n       <use xlink:href=\"#DejaVuSans-49\"/>\n       <use x=\"63.623047\" xlink:href=\"#DejaVuSans-46\"/>\n       <use x=\"95.410156\" xlink:href=\"#DejaVuSans-52\"/>\n       <use x=\"159.033203\" xlink:href=\"#DejaVuSans-53\"/>\n      </g>\n     </g>\n    </g>\n    <g id=\"text_15\">\n     <!-- 1e18 -->\n     <defs>\n      <path d=\"M 56.203125 29.59375 \nL 56.203125 25.203125 \nL 14.890625 25.203125 \nQ 15.484375 15.921875 20.484375 11.0625 \nQ 25.484375 6.203125 34.421875 6.203125 \nQ 39.59375 6.203125 44.453125 7.46875 \nQ 49.3125 8.734375 54.109375 11.28125 \nL 54.109375 2.78125 \nQ 49.265625 0.734375 44.1875 -0.34375 \nQ 39.109375 -1.421875 33.890625 -1.421875 \nQ 20.796875 -1.421875 13.15625 6.1875 \nQ 5.515625 13.8125 5.515625 26.8125 \nQ 5.515625 40.234375 12.765625 48.109375 \nQ 20.015625 56 32.328125 56 \nQ 43.359375 56 49.78125 48.890625 \nQ 56.203125 41.796875 56.203125 29.59375 \nz\nM 47.21875 32.234375 \nQ 47.125 39.59375 43.09375 43.984375 \nQ 39.0625 48.390625 32.421875 48.390625 \nQ 24.90625 48.390625 20.390625 44.140625 \nQ 15.875 39.890625 15.1875 32.171875 \nz\n\" id=\"DejaVuSans-101\"/>\n     </defs>\n     <g style=\"fill:#555555;\" transform=\"translate(36.465625 14.798437)scale(0.1 -0.1)\">\n      <use xlink:href=\"#DejaVuSans-49\"/>\n      <use x=\"63.623047\" xlink:href=\"#DejaVuSans-101\"/>\n      <use x=\"125.146484\" xlink:href=\"#DejaVuSans-49\"/>\n      <use x=\"188.769531\" xlink:href=\"#DejaVuSans-56\"/>\n     </g>\n    </g>\n   </g>\n   <g id=\"line2d_29\">\n    <path clip-path=\"url(#pe1b9c24762)\" d=\"M 54.22017 277.243892 \nL 54.233407 277.173952 \nL 54.360474 276.762079 \nL 54.609316 276.258938 \nL 54.707264 276.131823 \nL 54.850215 275.932535 \nL 54.905807 275.829939 \nL 55.038169 275.637245 \nL 55.170532 275.354987 \nL 55.292305 275.035232 \nL 55.3929 274.880034 \nL 55.662919 274.359183 \nL 55.869404 274.036821 \nL 56.078537 273.708663 \nL 56.205605 273.481133 \nL 56.504743 272.95592 \nL 56.584161 272.854813 \nL 56.737701 272.563778 \nL 57.00772 272.097549 \nL 57.309506 271.485695 \nL 57.402159 271.367835 \nL 57.831013 270.764226 \nL 57.971317 270.589935 \nL 58.312812 270.082379 \nL 58.508708 269.757412 \nL 58.619892 269.640722 \nL 58.765491 269.412128 \nL 58.945503 269.111679 \nL 59.077866 268.923134 \nL 62.183085 264.509324 \nL 62.310152 264.353807 \nL 62.823718 263.587023 \nL 62.95608 263.383746 \nL 63.151976 263.203711 \nL 63.284339 263.015325 \nL 63.623186 262.555052 \nL 63.729076 262.39693 \nL 63.895852 262.164081 \nL 64.168519 261.777897 \nL 64.335295 261.613871 \nL 65.235359 260.085939 \nL 65.542439 259.759057 \nL 65.74363 259.487542 \nL 66.479564 258.800377 \nL 66.537803 258.654275 \nL 66.670166 258.491792 \nL 66.948126 258.314469 \nL 67.141375 258.032317 \nL 67.572876 257.691553 \nL 67.702591 257.478808 \nL 68.419995 256.902058 \nL 68.568241 256.793026 \nL 68.695308 256.691973 \nL 68.83826 256.436945 \nL 68.986505 256.285471 \nL 69.386239 255.72957 \nL 69.500071 255.604742 \nL 69.677436 255.321153 \nL 69.809799 255.159414 \nL 69.934219 255.029906 \nL 69.971281 254.930129 \nL 70.095701 254.733979 \nL 70.384251 254.479377 \nL 70.940172 253.772161 \nL 71.093713 253.51341 \nL 71.204897 253.324652 \nL 71.363732 253.056275 \nL 71.673459 252.683281 \nL 71.848178 252.561485 \nL 71.993776 252.383896 \nL 72.213497 252.065311 \nL 72.459691 251.869693 \nL 72.899134 251.372083 \nL 73.063263 251.233161 \nL 73.203567 251.005365 \nL 73.402111 250.830223 \nL 73.534473 250.716245 \nL 73.666835 250.505149 \nL 74.074511 250.105455 \nL 74.204226 249.967331 \nL 74.506012 249.649012 \nL 74.648963 249.380316 \nL 74.791914 249.012959 \nL 74.950749 248.726179 \nL 75.268419 248.322231 \nL 75.421959 248.196871 \nL 75.62315 248.03811 \nL 75.74757 247.849566 \nL 75.969939 247.678519 \nL 76.475563 247.232553 \nL 76.597336 247.119267 \nL 76.724404 246.997098 \nL 76.830293 246.892694 \nL 77.020895 246.689523 \nL 78.826316 244.926988 \nL 78.945442 244.819498 \nL 79.093688 244.616593 \nL 80.483492 243.297418 \nL 80.560262 243.186312 \nL 84.057273 239.303405 \nL 84.189636 239.17145 \nL 84.5126 238.787925 \nL 84.650256 238.65746 \nL 84.965279 238.346374 \nL 85.105583 238.137193 \nL 85.510611 237.809992 \nL 85.664151 237.629638 \nL 86.032118 237.165748 \nL 86.153892 237.036612 \nL 86.273018 236.926996 \nL 86.527153 236.582137 \nL 86.789231 236.341735 \nL 86.969243 236.039851 \nL 87.204848 235.792376 \nL 87.427217 235.44656 \nL 87.758122 235.195308 \nL 87.797831 235.115476 \nL 87.916957 234.909273 \nL 88.271688 234.630152 \nL 88.40405 234.447671 \nL 88.547002 234.32497 \nL 88.674069 234.213705 \nL 89.319997 233.528987 \nL 89.478832 233.302573 \nL 89.844152 233.048716 \nL 90.040048 232.814857 \nL 90.259769 232.658436 \nL 90.775982 232.140829 \nL 90.905697 232.023021 \nL 91.064532 231.888035 \nL 91.927534 231.06849 \nL 92.110194 230.961799 \nL 92.231967 230.85064 \nL 92.372271 230.673264 \nL 92.557578 230.527534 \nL 92.753475 230.362763 \nL 93.505292 229.602414 \nL 93.743544 229.442005 \nL 95.52514 227.774247 \nL 95.683975 227.637293 \nL 96.004292 227.329984 \nL 96.276958 227.12176 \nL 96.414615 226.942097 \nL 96.782582 226.664997 \nL 96.925533 226.454699 \nL 97.190258 226.281951 \nL 97.349093 226.181642 \nL 97.574108 226.038358 \nL 97.71706 225.865769 \nL 98.074438 225.610689 \nL 98.508586 225.247161 \nL 98.961265 224.906557 \nL 99.085686 224.790931 \nL 99.318643 224.64185 \nL 103.278922 221.237512 \nL 103.498644 220.87824 \nL 103.683951 220.698364 \nL 103.863963 220.512798 \nL 104.088979 220.339517 \nL 104.417238 220.076193 \nL 104.554895 219.953333 \nL 104.774616 219.796274 \nL 105.738213 219.147935 \nL 105.910284 218.970453 \nL 106.127358 218.816213 \nL 109.862622 216.286309 \nL 110.024104 216.138345 \nL 110.262356 215.983467 \nL 111.760696 214.978994 \nL 112.104838 214.692639 \nL 112.351032 214.495 \nL 115.821571 211.504769 \nL 115.948639 211.320373 \nL 116.226599 211.157464 \nL 116.422496 210.934561 \nL 116.544269 210.822976 \nL 116.711045 210.695914 \nL 118.505878 209.299885 \nL 118.659418 209.223084 \nL 119.776556 208.292912 \nL 119.906271 208.136438 \nL 120.04128 208.026609 \nL 120.446309 207.67207 \nL 120.613085 207.573357 \nL 121.020761 207.352421 \nL 121.349019 207.062344 \nL 121.851996 206.67717 \nL 121.971122 206.540003 \nL 122.143193 206.427887 \nL 122.304675 206.331407 \nL 124.512478 204.509463 \nL 124.64484 204.388996 \nL 124.853972 204.259595 \nL 124.986335 204.153807 \nL 125.123991 204.021374 \nL 125.261648 203.860539 \nL 125.473428 203.699332 \nL 125.60579 203.587056 \nL 126.667335 202.657575 \nL 126.921471 202.526312 \nL 127.329147 202.201025 \nL 127.747411 201.918873 \nL 127.89301 201.734743 \nL 128.157735 201.569919 \nL 128.634239 201.135494 \nL 128.856607 200.973489 \nL 129.11339 200.677881 \nL 129.574011 200.424874 \nL 130.114049 199.965453 \nL 130.317887 199.82084 \nL 130.865867 199.360088 \nL 131.027349 199.213241 \nL 131.1703 199.033206 \nL 131.450908 198.87269 \nL 131.601801 198.757064 \nL 133.0922 197.491925 \nL 133.219268 197.376352 \nL 133.452225 197.217644 \nL 133.756659 196.9156 \nL 134.034619 196.734555 \nL 134.256988 196.516492 \nL 134.757317 196.077068 \nL 134.876443 195.953676 \nL 135.000864 195.815286 \nL 136.155063 194.917025 \nL 136.316545 194.761083 \nL 136.49391 194.632213 \nL 136.687159 194.50813 \nL 136.798343 194.401385 \nL 136.943942 194.220553 \nL 137.335734 193.962015 \nL 137.576634 193.693053 \nL 137.780472 193.506742 \nL 137.915481 193.364362 \nL 138.026665 193.110079 \nL 138.145791 193.048596 \nL 138.709655 192.668794 \nL 138.834075 192.576569 \nL 139.029971 192.465889 \nL 139.419116 192.121243 \nL 139.599129 192.00668 \nL 139.752669 191.887968 \nL 139.895621 191.780267 \nL 140.004158 191.676766 \nL 140.123284 191.527632 \nL 140.401244 191.377701 \nL 140.57861 191.26101 \nL 140.718914 191.144852 \nL 141.060409 190.868071 \nL 141.224538 190.753987 \nL 141.412492 190.600864 \nL 141.563385 190.460931 \nL 141.973708 190.196118 \nL 142.251669 189.951302 \nL 142.532277 189.827165 \nL 142.680523 189.714996 \nL 146.206654 186.954316 \nL 146.320485 186.836296 \nL 146.447553 186.717532 \nL 146.736103 186.508351 \nL 146.990238 186.406978 \nL 147.096128 186.259865 \nL 147.339675 186.108817 \nL 147.638813 185.92926 \nL 147.80559 185.729546 \nL 148.58388 185.18274 \nL 148.721537 185.09461 \nL 148.888313 184.967176 \nL 149.145096 184.796874 \nL 149.227161 184.658484 \nL 149.383348 184.518338 \nL 149.653367 184.356812 \nL 149.891619 184.232623 \nL 150.03457 184.065459 \nL 150.241056 183.903454 \nL 150.50578 183.775541 \nL 150.656673 183.596463 \nL 150.894925 183.369731 \nL 151.2073 183.183473 \nL 151.482614 182.911851 \nL 151.858523 182.716924 \nL 152.022652 182.56561 \nL 152.615635 182.137408 \nL 152.750644 181.991359 \nL 152.89889 181.876424 \nL 153.724831 181.294355 \nL 154.113976 181.10347 \nL 154.362817 180.882588 \nL 154.738726 180.702446 \nL 154.865793 180.648675 \nL 155.072278 180.538101 \nL 155.294647 180.355088 \nL 155.442893 180.272224 \nL 156.131177 179.883007 \nL 156.255597 179.764456 \nL 156.525616 179.621704 \nL 156.758574 179.525118 \nL 156.95447 179.41465 \nL 157.097421 179.222648 \nL 157.317143 179.115744 \nL 157.465388 179.012085 \nL 157.772469 178.81636 \nL 157.918067 178.682596 \nL 158.156319 178.564896 \nL 158.28074 178.509582 \nL 159.286693 177.842149 \nL 159.411114 177.713598 \nL 159.771139 177.463092 \nL 160.035864 177.350497 \nL 160.165579 177.262952 \nL 160.25029 177.119403 \nL 160.369417 177.06393 \nL 160.737384 176.851557 \nL 160.967694 176.707955 \nL 162.378676 175.689015 \nL 162.458093 175.576792 \nL 162.601044 175.466857 \nL 162.974306 175.266983 \nL 163.11461 175.186619 \nL 163.381982 174.931219 \nL 164.017321 174.601625 \nL 164.147036 174.443768 \nL 166.553382 172.914986 \nL 166.75722 172.76282 \nL 167.149012 172.564596 \nL 167.392559 172.339459 \nL 167.522274 172.250691 \nL 168.070253 171.927213 \nL 168.247619 171.709203 \nL 168.469987 171.598736 \nL 168.589114 171.547039 \nL 169.330342 171.051876 \nL 169.576536 170.949226 \nL 169.82273 170.841578 \nL 169.989506 170.650799 \nL 170.37071 170.469062 \nL 170.96634 170.037084 \nL 171.241653 169.914863 \nL 171.506378 169.654729 \nL 171.794928 169.493097 \nL 172.255548 169.225092 \nL 172.387911 169.043993 \nL 172.687049 168.926877 \nL 173.142376 168.681955 \nL 173.272091 168.508674 \nL 173.661236 168.325874 \nL 174.015967 168.033616 \nL 174.16686 167.938945 \nL 174.420995 167.822839 \nL 174.807493 167.642272 \nL 175.20458 167.336346 \nL 175.408418 167.205242 \nL 177.828 165.323676 \nL 177.949773 165.180871 \nL 178.267443 164.799846 \nL 178.344213 164.685974 \nL 179.723428 163.784363 \nL 179.845201 163.678948 \nL 180.070217 163.567364 \nL 180.244935 163.452801 \nL 180.491129 163.326165 \nL 180.618197 163.197241 \nL 180.882921 163.031247 \nL 181.007342 162.951628 \nL 181.600325 162.513108 \nL 181.732687 162.405619 \nL 181.872991 162.295896 \nL 181.986822 162.185535 \nL 182.254194 161.996033 \nL 182.492446 161.876311 \nL 182.627456 161.80653 \nL 182.794232 161.650376 \nL 183.058957 161.451832 \nL 183.307798 161.233077 \nL 183.929901 160.841734 \nL 184.14168 160.725788 \nL 184.268748 160.619416 \nL 184.549356 160.389439 \nL 184.867025 160.086065 \nL 185.015271 159.967301 \nL 185.224404 159.847738 \nL 185.685024 159.593615 \nL 185.917982 159.382306 \nL 186.330952 159.213866 \nL 186.484492 159.128609 \nL 186.619502 159.018567 \nL 186.841871 158.845552 \nL 187.080123 158.735989 \nL 187.199249 158.69227 \nL 187.49574 158.563187 \nL 187.744581 158.438519 \nL 188.001364 158.274014 \nL 188.131079 158.17562 \nL 188.499046 158.004201 \nL 188.655234 157.813741 \nL 188.779654 157.764118 \nL 188.946431 157.640248 \nL 189.213802 157.524143 \nL 189.404404 157.413249 \nL 189.621478 157.219173 \nL 189.907381 157.050786 \nL 190.055626 156.979517 \nL 190.19593 156.860007 \nL 190.524189 156.631573 \nL 190.788913 156.484673 \nL 191.03246 156.327029 \nL 191.164822 156.201031 \nL 191.352777 156.028655 \nL 191.694271 155.843035 \nL 191.985468 155.55716 \nL 192.742581 155.063539 \nL 193.301149 154.67443 \nL 193.420275 154.56726 \nL 193.880896 154.342069 \nL 195.114512 153.587571 \nL 195.24158 153.485081 \nL 195.535424 153.369401 \nL 195.659845 153.297547 \nL 196.144291 152.897641 \nL 196.316362 152.799884 \nL 197.523506 152.021133 \nL 197.684988 151.882158 \nL 198.341505 151.554903 \nL 198.500339 151.430022 \nL 198.640643 151.340723 \nL 199.040377 151.139626 \nL 199.217743 151.037083 \nL 199.360694 150.888694 \nL 199.575121 150.747432 \nL 200.009269 150.549047 \nL 200.395767 150.242961 \nL 200.591663 150.12308 \nL 200.85374 149.952937 \nL 201.6135 149.429213 \nL 201.71939 149.320235 \nL 201.841163 149.194237 \nL 202.465913 148.779811 \nL 202.592981 148.66578 \nL 202.799466 148.546749 \nL 202.929181 148.476543 \nL 203.12243 148.348205 \nL 203.217731 148.252842 \nL 203.342151 148.124185 \nL 203.503633 148.021589 \nL 203.691588 147.891655 \nL 205.031094 146.956803 \nL 205.200517 146.846654 \nL 205.375236 146.758312 \nL 205.557896 146.64093 \nL 205.743203 146.514241 \nL 206.280594 146.259852 \nL 206.78357 145.843085 \nL 207.066825 145.720917 \nL 207.19654 145.637042 \nL 207.426851 145.425893 \nL 207.741873 145.263569 \nL 208.305736 144.877704 \nL 208.435451 144.806275 \nL 211.532728 142.883915 \nL 211.659796 142.760311 \nL 211.985407 142.582243 \nL 212.888118 141.999323 \nL 215.215047 140.54314 \nL 215.429474 140.434747 \nL 215.604192 140.320929 \nL 216.726624 139.593874 \nL 216.853692 139.541379 \nL 218.029069 138.849375 \nL 218.272615 138.68955 \nL 218.680291 138.383198 \nL 219.188562 138.052434 \nL 219.328866 137.934467 \nL 219.659772 137.754804 \nL 220.006561 137.457175 \nL 220.483065 136.854044 \nL 220.705434 136.722249 \nL 220.983394 136.551308 \nL 221.176643 136.354998 \nL 221.364598 136.25937 \nL 221.565788 136.142626 \nL 221.716681 136.003438 \nL 221.798746 135.856538 \nL 221.93905 135.787502 \nL 222.608803 135.389723 \nL 222.757049 135.256279 \nL 222.960887 135.124218 \nL 223.347385 134.91993 \nL 223.5724 134.723141 \nL 223.929779 134.497739 \nL 224.141558 134.357114 \nL 224.316276 134.194258 \nL 224.551881 134.070122 \nL 224.686891 133.969866 \nL 224.946321 133.79515 \nL 225.105156 133.64942 \nL 225.287816 133.539271 \nL 225.414883 133.462949 \nL 225.833148 133.124526 \nL 226.10052 133.005442 \nL 226.219646 132.945448 \nL 226.468487 132.807217 \nL 226.577024 132.695526 \nL 226.868221 132.497195 \nL 227.119709 132.349976 \nL 227.720634 131.881885 \nL 229.078671 131.082817 \nL 229.200444 130.9757 \nL 229.401635 130.855339 \nL 229.526055 130.75519 \nL 230.627309 130.056484 \nL 230.79938 129.899797 \nL 231.082636 129.789915 \nL 231.201762 129.716678 \nL 231.461192 129.559991 \nL 231.585612 129.377084 \nL 232.189184 128.990634 \nL 232.506854 128.753211 \nL 233.335442 128.128221 \nL 233.483687 127.895638 \nL 233.568399 127.767778 \nL 234.07667 127.34665 \nL 234.203738 127.218844 \nL 234.407576 127.107791 \nL 234.526702 127.040139 \nL 234.722598 126.913609 \nL 237.954885 124.57193 \nL 238.076658 124.522892 \nL 238.224904 124.407372 \nL 238.365208 124.370567 \nL 238.524043 124.265471 \nL 238.645816 124.215955 \nL 238.802003 124.059641 \nL 238.926424 123.971937 \nL 239.16997 123.843812 \nL 239.500876 123.663777 \nL 239.625297 123.470339 \nL 239.855607 123.345458 \nL 239.993264 123.238128 \nL 240.210338 123.051711 \nL 240.347995 122.923692 \nL 243.987957 120.307147 \nL 244.13885 120.189818 \nL 245.473062 119.291557 \nL 245.608071 119.174335 \nL 245.833087 119.065463 \nL 245.960155 118.997225 \nL 246.232821 118.860324 \nL 246.452542 118.615509 \nL 246.921105 118.369948 \nL 247.042878 118.323198 \nL 247.146121 118.179542 \nL 247.344664 118.036418 \nL 247.604094 117.906431 \nL 247.78146 117.80926 \nL 247.929705 117.693899 \nL 248.048831 117.566412 \nL 248.660345 117.24304 \nL 248.821827 117.040188 \nL 250.283107 116.216548 \nL 250.415469 116.160862 \nL 250.489592 116.042683 \nL 250.661663 115.936417 \nL 251.069338 115.698781 \nL 251.199053 115.547839 \nL 251.51937 115.342487 \nL 251.736444 115.232339 \nL 251.993227 115.116712 \nL 252.080586 115.004862 \nL 252.199712 114.900351 \nL 252.504145 114.782118 \nL 252.625919 114.723241 \nL 252.954177 114.546184 \nL 253.086539 114.373968 \nL 253.981308 113.858966 \nL 254.113671 113.748073 \nL 254.531935 113.588355 \nL 254.939611 113.289556 \nL 255.214925 113.146113 \nL 255.974684 112.677436 \nL 257.195064 112.020535 \nL 257.332721 111.95836 \nL 257.605387 111.78008 \nL 257.732455 111.678388 \nL 257.986591 111.549305 \nL 258.1216 111.452666 \nL 258.41015 111.334806 \nL 258.547807 111.143229 \nL 258.820473 111.027284 \nL 258.936952 110.957929 \nL 259.079903 110.847248 \nL 261.271822 109.263578 \nL 261.39889 109.056684 \nL 263.050771 107.839413 \nL 263.304907 107.664484 \nL 264.567643 106.768085 \nL 264.811189 106.630546 \nL 264.996497 106.539491 \nL 265.081208 106.436895 \nL 265.197687 106.32531 \nL 265.512709 106.19644 \nL 265.63713 106.093312 \nL 265.862146 105.966304 \nL 266.031569 105.782227 \nL 266.288352 105.655537 \nL 266.420715 105.560441 \nL 266.717206 105.388064 \nL 267.143413 105.082616 \nL 267.527263 104.73446 \nL 267.680803 104.630428 \nL 268.199663 104.261476 \nL 268.36644 104.099843 \nL 268.676168 103.950762 \nL 268.956776 103.740092 \nL 269.081196 103.623827 \nL 270.243337 102.842895 \nL 270.60601 102.567391 \nL 270.878676 102.423522 \nL 272.149354 101.608924 \nL 272.28701 101.480745 \nL 272.559677 101.336504 \nL 274.431279 100.197417 \nL 274.696004 99.877396 \nL 274.905136 99.743526 \nL 275.098385 99.634601 \nL 275.169861 99.499774 \nL 275.307517 99.34346 \nL 275.559006 99.232195 \nL 275.709899 99.154756 \nL 275.897853 99.039768 \nL 276.030215 98.933342 \nL 276.146694 98.808408 \nL 276.485542 98.649913 \nL 280.591419 95.817273 \nL 280.689367 95.704412 \nL 280.813788 95.585275 \nL 281.017626 95.4655 \nL 281.163224 95.416835 \nL 281.766796 94.977039 \nL 282.002401 94.832957 \nL 282.452433 94.501235 \nL 282.775397 94.333061 \nL 282.918348 94.228178 \nL 283.085124 94.075534 \nL 283.212192 93.98166 \nL 283.437208 93.866087 \nL 283.558981 93.773383 \nL 283.749583 93.684456 \nL 283.847531 93.57335 \nL 283.966657 93.451235 \nL 284.318741 93.289815 \nL 284.800539 92.895972 \nL 284.999083 92.789812 \nL 285.152623 92.692375 \nL 285.369697 92.522339 \nL 285.59736 92.348261 \nL 288.392851 90.462919 \nL 288.514625 90.352877 \nL 288.676107 90.228102 \nL 288.940831 90.09019 \nL 292.752865 87.771009 \nL 292.874638 87.613099 \nL 292.988469 87.535129 \nL 293.644986 87.292972 \nL 293.962656 87.019595 \nL 294.282972 86.89615 \nL 294.399451 86.854718 \nL 295.768077 85.986348 \nL 295.990446 85.796527 \nL 296.25517 85.677177 \nL 296.599312 85.398801 \nL 297.24524 85.146061 \nL 297.385544 85.08378 \nL 297.459667 84.986928 \nL 297.58144 84.870769 \nL 298.256488 84.607923 \nL 299.376273 84.01894 \nL 299.498046 83.902303 \nL 299.619819 83.801462 \nL 300.173093 83.591962 \nL 300.308103 83.54335 \nL 300.57018 83.33837 \nL 300.702542 83.263218 \nL 301.073157 83.11435 \nL 301.549661 82.888948 \nL 301.679376 82.728006 \nL 302.502669 82.403145 \nL 302.698566 82.196836 \nL 303.161833 82.020099 \nL 303.466267 81.870486 \nL 303.622454 81.709811 \nL 303.749522 81.645722 \nL 303.963949 81.517543 \nL 304.345152 81.031103 \nL 304.453689 80.915742 \nL 304.620466 80.765704 \nL 304.747533 80.593647 \nL 305.120795 80.46116 \nL 305.242568 80.419781 \nL 305.562885 80.275009 \nL 307.638325 79.275056 \nL 308.000998 79.113743 \nL 308.382201 78.905998 \nL 308.781935 78.770852 \nL 308.954006 78.723091 \nL 309.216084 78.557735 \nL 309.377566 78.444821 \nL 309.809067 78.309515 \nL 309.962607 78.26936 \nL 310.431169 78.064912 \nL 310.595299 77.907907 \nL 311.1221 77.743508 \nL 311.598605 77.516138 \nL 311.916274 77.287437 \nL 312.760745 76.952737 \nL 312.99635 76.819878 \nL 313.607864 76.647076 \nL 314.153196 76.322003 \nL 314.309384 76.226002 \nL 315.034729 76.017565 \nL 315.15915 75.97725 \nL 316.260404 75.526604 \nL 316.636313 75.333645 \nL 316.766028 75.223124 \nL 317.419897 75.007295 \nL 317.666091 74.922941 \nL 318.057883 74.722696 \nL 318.174362 74.678179 \nL 319.23326 74.353584 \nL 319.590638 74.129724 \nL 321.785205 73.221038 \nL 322.002279 73.073341 \nL 323.08765 72.635885 \nL 323.225306 72.551797 \nL 323.701811 72.405642 \nL 323.852704 72.376815 \nL 324.175667 72.225075 \nL 324.379505 72.000417 \nL 328.480088 70.145604 \nL 328.755402 70.025882 \nL 328.940709 69.868876 \nL 329.480747 69.703095 \nL 330.002255 69.509604 \nL 330.142559 69.346322 \nL 330.288157 69.308667 \nL 330.777897 69.160384 \nL 331.042622 69.042842 \nL 331.302052 68.795633 \nL 331.760026 68.663466 \nL 331.884446 68.628044 \nL 332.202116 68.491196 \nL 334.791122 67.342694 \nL 334.931426 67.187657 \nL 335.325865 67.069211 \nL 335.59059 66.95518 \nL 336.014149 66.786846 \nL 336.228576 66.642712 \nL 336.691844 66.506342 \nL 336.855973 66.479696 \nL 337.210704 66.372367 \nL 337.343066 66.332477 \nL 337.499254 66.221371 \nL 337.724269 66.097926 \nL 338.701103 65.728921 \nL 338.926119 65.559576 \nL 339.471451 65.379647 \nL 339.58793 65.330876 \nL 339.855302 65.148022 \nL 340.21268 64.957456 \nL 340.525055 64.838266 \nL 340.644181 64.800823 \nL 340.924789 64.698865 \nL 341.04921 64.508671 \nL 341.583953 64.332625 \nL 342.150464 64.037123 \nL 342.330476 63.953568 \nL 342.658735 63.822783 \nL 343.251718 63.56616 \nL 343.437025 63.421174 \nL 343.744105 63.315706 \nL 343.857937 63.268583 \nL 344.172959 63.134288 \nL 344.540926 62.898674 \nL 345.570705 62.430104 \nL 345.790426 62.349899 \nL 346.544891 62.103914 \nL 346.735493 62.023283 \nL 346.875797 61.86548 \nL 347.029337 61.810273 \nL 347.214644 61.741982 \nL 348.008818 61.46919 \nL 348.255012 61.271551 \nL 349.181548 60.883132 \nL 349.298026 60.750646 \nL 349.962485 60.506149 \nL 350.367513 60.21671 \nL 350.777836 60.091829 \nL 350.896963 60.047206 \nL 351.744081 59.602463 \nL 352.567374 59.324672 \nL 352.697089 59.176336 \nL 353.890997 58.677291 \nL 354.153074 58.574003 \nL 354.66664 58.402531 \nL 354.785766 58.366524 \nL 366.153038 53.453455 \nL 366.330403 53.237679 \nL 366.558066 53.088971 \nL 367.577256 52.545834 \nL 367.963754 52.380531 \nL 368.376724 52.134705 \nL 368.818814 51.967754 \nL 368.940587 51.930523 \nL 369.234431 51.811759 \nL 369.358852 51.679591 \nL 369.530923 51.622735 \nL 370.88896 51.047474 \nL 371.008086 51.014286 \nL 371.754609 50.689585 \nL 372.143754 50.485829 \nL 372.731443 50.31558 \nL 374.258903 49.52284 \nL 374.388618 49.416362 \nL 374.695699 49.307117 \nL 374.910126 49.232657 \nL 375.246326 48.986511 \nL 375.381335 48.949068 \nL 376.667897 48.31392 \nL 376.853204 48.25701 \nL 377.244996 48.123247 \nL 377.533546 47.927576 \nL 378.71157 47.524957 \nL 378.838638 47.396938 \nL 379.585161 47.167439 \nL 379.759879 47.102446 \nL 380.024604 46.97932 \nL 380.196675 46.816677 \nL 380.620234 46.70706 \nL 380.805541 46.644407 \nL 381.276751 46.47586 \nL 381.475294 46.279922 \nL 381.851203 46.154456 \nL 384.755231 44.877351 \nL 384.879652 44.764915 \nL 385.23703 44.59573 \nL 385.681767 44.476168 \nL 386.182096 44.134607 \nL 386.542122 43.964198 \nL 387.071571 43.585619 \nL 388.79228 42.811442 \nL 389.025238 42.657309 \nL 389.168189 42.522163 \nL 390.195321 42.076197 \nL 390.441514 41.967218 \nL 390.719475 41.840795 \nL 391.52159 41.36813 \nL 392.027214 41.132196 \nL 392.130457 40.968649 \nL 392.313117 40.832811 \nL 392.757854 40.63831 \nL 392.874333 40.593208 \nL 392.948456 40.446308 \nL 393.131116 40.356796 \nL 393.507025 40.180164 \nL 393.626151 40.13586 \nL 394.806822 39.477257 \nL 394.949773 39.300306 \nL 395.304504 39.112985 \nL 395.471281 39.002623 \nL 395.614232 38.883327 \nL 395.773067 38.750362 \nL 395.966315 38.623513 \nL 396.310457 38.440021 \nL 396.363402 38.337531 \nL 396.487823 38.212969 \nL 396.710191 38.111543 \nL 396.829317 38.060538 \nL 397.033155 37.955069 \nL 397.157576 37.911404 \nL 397.258171 37.731262 \nL 397.456715 37.613242 \nL 397.78762 37.455067 \nL 398.065581 37.193072 \nL 398.187354 37.125791 \nL 398.502377 36.933417 \nL 398.6718 36.820662 \nL 398.796221 36.63382 \nL 402.422947 34.219063 \nL 402.60296 34.085831 \nL 403.58244 33.448874 \nL 403.905404 33.315058 \nL 404.141009 33.185018 \nL 404.485151 32.99626 \nL 404.739287 32.796281 \nL 405.154904 32.617522 \nL 405.912016 32.16544 \nL 406.221744 31.979129 \nL 406.356754 31.799519 \nL 407.097982 31.453437 \nL 407.232992 31.301431 \nL 409.035766 30.283129 \nL 409.165481 30.189415 \nL 409.31108 30.152983 \nL 409.31108 30.152983 \n\" style=\"fill:none;stroke:#e24a33;stroke-linecap:square;stroke-width:1.5;\"/>\n   </g>\n   <g id=\"patch_3\">\n    <path d=\"M 36.465625 289.598438 \nL 36.465625 17.798438 \n\" style=\"fill:none;stroke:#ffffff;stroke-linecap:square;stroke-linejoin:miter;\"/>\n   </g>\n   <g id=\"patch_4\">\n    <path d=\"M 427.065625 289.598438 \nL 427.065625 17.798438 \n\" style=\"fill:none;stroke:#ffffff;stroke-linecap:square;stroke-linejoin:miter;\"/>\n   </g>\n   <g id=\"patch_5\">\n    <path d=\"M 36.465625 289.598437 \nL 427.065625 289.598437 \n\" style=\"fill:none;stroke:#ffffff;stroke-linecap:square;stroke-linejoin:miter;\"/>\n   </g>\n   <g id=\"patch_6\">\n    <path d=\"M 36.465625 17.798437 \nL 427.065625 17.798437 \n\" style=\"fill:none;stroke:#ffffff;stroke-linecap:square;stroke-linejoin:miter;\"/>\n   </g>\n  </g>\n </g>\n <defs>\n  <clipPath id=\"pe1b9c24762\">\n   <rect height=\"271.8\" width=\"390.6\" x=\"36.465625\" y=\"17.798437\"/>\n  </clipPath>\n </defs>\n</svg>\n"
          },
          "metadata": {}
        }
      ],
      "source": [
        "train_df['published'].apply(lambda ts: pd.to_datetime(ts).value).plot();"
      ]
    },
    {
      "cell_type": "markdown",
      "metadata": {
        "id": "L5eWoETTWmD6"
      },
      "source": [
        "### <span style=\"color:red; font-size:1.5em;\">Завдання 1</span>\n",
        "\n",
        "Виконайте первинний аналіз навчального набору даних (train_df):\n",
        "\n",
        "**Для варіантів 1-5:**\n",
        "\n",
        "Вкажіть дві ознаки, коефіцієнт кореліції між якими є найбільшим (за модулем).\n",
        "\n",
        "**Для варіантів 6-10:**\n",
        "\n",
        "В якому році було найменше публікацій?\n",
        "\n",
        "**Для варіантів 11-15:**\n",
        "\n",
        "В якому році було найбільше публікацій?\n",
        "\n",
        "**Для варіантів 16-20:**\n",
        "\n",
        "Вкажіть дві ознаки, коефіцієнт кореліції між якими є найменшим (за модулем)."
      ]
    },
    {
      "cell_type": "code",
      "execution_count": 8,
      "metadata": {
        "id": "H7iphl3ZWmD6",
        "outputId": "dd1cf29f-5037-4ac4-ee4b-9e5ae8aaa92b",
        "colab": {
          "base_uri": "https://localhost:8080/"
        }
      },
      "outputs": [
        {
          "output_type": "execute_result",
          "data": {
            "text/plain": [
              "2008     7743\n",
              "2009    10783\n",
              "2010    13091\n",
              "2011    15063\n",
              "2013    15537\n",
              "2012    15972\n",
              "2014    16180\n",
              "2016    16316\n",
              "2015    23452\n",
              "Name: published, dtype: int64"
            ]
          },
          "metadata": {},
          "execution_count": 8
        }
      ],
      "source": [
        "train_df.published.apply(lambda ts: pd.to_datetime(ts).year).value_counts().sort_values(ascending=[True])"
      ]
    },
    {
      "cell_type": "markdown",
      "metadata": {
        "id": "zYZjioVxWmD6"
      },
      "source": [
        "***Примітка 1:*** Для вирішення завдання 1 використайте [pandas.DataFrame.corr()](http://pandas.pydata.org/pandas-docs/stable/generated/pandas.DataFrame.corr.html), [pandas.to_datetime()](http://pandas.pydata.org/pandas-docs/stable/generated/pandas.to_datetime.html) та [pandas.Series.value_counts()](http://pandas.pydata.org/pandas-docs/stable/generated/pandas.Series.value_counts.html).\n",
        "\n",
        "***Примітка 2:*** Зверніть увагу, кореляція ознаки із самою на себе завжди буде 1.\n",
        "\n",
        "***Примітка 3:*** Рахувати кількість публікацій можна за ознакою *published*."
      ]
    },
    {
      "cell_type": "markdown",
      "metadata": {
        "id": "_Xhq7BcAWmD7"
      },
      "source": [
        "<a class=\"anchor\" id=\"lab-4.1\"></a>"
      ]
    },
    {
      "cell_type": "markdown",
      "metadata": {
        "id": "drHEVG9bWmD7"
      },
      "source": [
        "## <span style=\"color:blue; font-size:1.2em;\">4.1. Розбиття на train/valid</span>\n",
        "\n",
        "[Повернутися до змісту](#lab-4)"
      ]
    },
    {
      "cell_type": "markdown",
      "metadata": {
        "id": "5rO93flfWmD7"
      },
      "source": [
        "Використовуємо тільки ознаки 'author', 'flow', 'domain' та 'title'."
      ]
    },
    {
      "cell_type": "code",
      "execution_count": 9,
      "metadata": {
        "id": "aiCbgHRlWmD7"
      },
      "outputs": [],
      "source": [
        "features = ['author', 'flow', 'domain','title']\n",
        "train_size = int(0.7 * train_df.shape[0])"
      ]
    },
    {
      "cell_type": "code",
      "execution_count": 10,
      "metadata": {
        "id": "UL_5r0v6WmD7",
        "outputId": "693aeb2b-0408-47cd-da5a-afbf9d36ef7b",
        "colab": {
          "base_uri": "https://localhost:8080/"
        }
      },
      "outputs": [
        {
          "output_type": "execute_result",
          "data": {
            "text/plain": [
              "(134137, 93895)"
            ]
          },
          "metadata": {},
          "execution_count": 10
        }
      ],
      "source": [
        "len(train_df), train_size"
      ]
    },
    {
      "cell_type": "code",
      "execution_count": 11,
      "metadata": {
        "id": "U7nhiOlwWmD8"
      },
      "outputs": [],
      "source": [
        "X, y = train_df.loc[:, features],  train_df['favs_lognorm'] # відокремлюємо ознаки від цільової змінної\n",
        "X_test = test_df.loc[:, features]"
      ]
    },
    {
      "cell_type": "code",
      "execution_count": 12,
      "metadata": {
        "id": "gyl-vct7WmD8"
      },
      "outputs": [],
      "source": [
        "X_train, X_valid = X.iloc[:train_size, :], X.iloc[train_size:,:]\n",
        "y_train, y_valid = y.iloc[:train_size], y.iloc[train_size:]"
      ]
    },
    {
      "cell_type": "markdown",
      "metadata": {
        "id": "kz-2BwXeWmD8"
      },
      "source": [
        "<a class=\"anchor\" id=\"lab-4.2\"></a>"
      ]
    },
    {
      "cell_type": "markdown",
      "metadata": {
        "id": "xHAIkGR-WmD8"
      },
      "source": [
        "## <span style=\"color:blue; font-size:1.2em;\">4.2. Застосування TfidfVectorizer</span>\n",
        "\n",
        "[Повернутися до змісту](#lab-4)"
      ]
    },
    {
      "cell_type": "markdown",
      "metadata": {
        "id": "RyriH0S7WmD8"
      },
      "source": [
        "**[TF-IDF](https://uk.wikipedia.org/wiki/TF-IDF)** (з англ. TF – term frequency, IDF – inverse document frequency) – статистична міра, яка використовується для оцінки важливості слова в контексті документа, що є частиною колекції документів або корпусу. Вага деякого слова є пропорційною кількості вживання цього слова в документі, і обернено пропорційною частоті вживання слова в інших документах колекції.\n",
        "\n",
        "Тут ми будемо використовувати клас [TfidfVectorizer](https://scikit-learn.org/stable/modules/generated/sklearn.feature_extraction.text.TfidfVectorizer.html) з бібліотеки scikit-learn. Об'єкт цього класу перетворює тексти в матрицю TF-IDF ознак.\n",
        "\n",
        "**Основні параметри TfidfVectorizer в sklearn:**\n",
        "\n",
        "- **min_df** – у разі побудови словника слова, які зустрічаються *рідше*, ніж вказане значення, ігноруються;\n",
        "- **max_df** – у разі побудови словника слова, які зустрічаються *частіше*, ніж вказане значення, ігноруються;\n",
        "- **analyzer** – визначає, чи будуються ознаки за словами або за символами (літерами);\n",
        "- **ngram_range** – визначає, чи формуються ознаки тільки з окремих слів або з декількох слів (у випадку з analyzer='char' задає кількість символів); наприклад, якщо вказати analyzer='word' і ngram_range=(1,3), то ознаки будуть формуватися з окремих слів, з пар слів і з трійок слів;\n",
        "- **stop_words** – слова, які ігноруються під час побудови матриці.\n",
        "\n",
        "Більш детально з параметрами можна ознайомитися в [документації](http://scikit-learn.org/stable/modules/generated/sklearn.feature_extraction.text.TfidfVectorizer.html)."
      ]
    },
    {
      "cell_type": "markdown",
      "metadata": {
        "id": "IRTBDwrNWmD9"
      },
      "source": [
        "**Ініціалізуйте TfidfVectorizer з параметрами min_df=3, max_df=0.3 та ngram_range=(1,3).**\n",
        "\n",
        "Застосуйте метод **fit_transform** до `X_train['title']` і метод **transform** до `X_valid['title']` та `X_test['title']`."
      ]
    },
    {
      "cell_type": "code",
      "execution_count": 14,
      "metadata": {
        "id": "x1qmM1YVWmD9"
      },
      "outputs": [],
      "source": [
        "vectorizer_title = TfidfVectorizer(min_df=3, max_df=0.3, ngram_range=(1, 3))\n",
        "\n",
        "X_train_title = vectorizer_title.fit_transform(X_train['title'])\n",
        "X_valid_title = vectorizer_title.transform(X_valid['title'])\n",
        "X_test_title = vectorizer_title.transform(X_test['title'])"
      ]
    },
    {
      "cell_type": "code",
      "execution_count": 30,
      "metadata": {
        "id": "3zs-oJ8WWmD9"
      },
      "outputs": [],
      "source": [
        "# Можна подивитися словник у вигляді {'термін': індекс ознаки,...}\n",
        "vectorizer_title.vocabulary"
      ]
    },
    {
      "cell_type": "markdown",
      "metadata": {
        "id": "38fuyLxXWmD9"
      },
      "source": [
        "**Ініціалізуйте TfidfVectorizer з параметром analyzer='char'.**\n",
        "\n",
        "Застосуйте метод **fit_transform** до `X_train['title']` і метод **transform** до `X_valid['title']` та `X_test['title']`."
      ]
    },
    {
      "cell_type": "code",
      "execution_count": 16,
      "metadata": {
        "id": "Haum-bp4WmD-"
      },
      "outputs": [],
      "source": [
        "vectorizer_title_ch = TfidfVectorizer(analyzer='word')\n",
        "\n",
        "X_train_title_ch = vectorizer_title_ch.fit_transform(X_train['title'])\n",
        "X_valid_title_ch = vectorizer_title_ch.transform(X_valid['title'])\n",
        "X_test_title_ch = vectorizer_title_ch.transform(X_test['title'])"
      ]
    },
    {
      "cell_type": "code",
      "execution_count": 17,
      "metadata": {
        "id": "neOtLcrBWmD-",
        "outputId": "595cddf3-3253-40ce-f948-c887d80f3422",
        "colab": {
          "base_uri": "https://localhost:8080/"
        }
      },
      "outputs": [
        {
          "output_type": "execute_result",
          "data": {
            "text/plain": [
              "(93895, 218)"
            ]
          },
          "metadata": {},
          "execution_count": 17
        }
      ],
      "source": [
        "X_train_title_ch.shape"
      ]
    },
    {
      "cell_type": "code",
      "execution_count": null,
      "metadata": {
        "id": "95wMTqE4WmD-"
      },
      "outputs": [],
      "source": [
        "# Тут так само можна подивитися словник\n",
        "vectorizer_title_ch.vocabulary_"
      ]
    },
    {
      "cell_type": "markdown",
      "metadata": {
        "id": "CAiADguBWmD-"
      },
      "source": [
        "В результаті використання `TfidfVectorizer` отримали два словника. Зверніть увагу наскільки відрізняються ініціалізовані словники для TfidfVectorizer з `analyzer='word'` та `analyzer='char'`."
      ]
    },
    {
      "cell_type": "markdown",
      "metadata": {
        "id": "YeQBtS5eWmD_"
      },
      "source": [
        "### <span style=\"color:red; font-size:1.5em;\">Завдання 2</span>\n",
        "\n",
        "Дайте відповідь на запитання:\n",
        "\n",
        "**Для варіантів 1-5:**\n",
        "\n",
        "Який розмір ініціалізованого словника для TfidfVectorizer з параметрами min_df=3, max_df=0.3 та ngram_range=(1,3)? (тут `analyzer='word'`)\n",
        "\n",
        "**Для варіантів 6-10:**\n",
        "\n",
        "Який індекс у слова ***'nvidia'*** для TfidfVectorizer з параметрами min_df=3, max_df=0.3 та ngram_range=(1,3)? (`analyzer='word'`)\n",
        "\n",
        "**Для варіантів 11-15:**\n",
        "\n",
        "Який розмір словника для TfidfVectorizer з символьним заданням ознаки?\n",
        "\n",
        "**Для варіантів 16-20:**\n",
        "\n",
        "Який індекс у символа ****$**** для TfidfVectorizer з символьним заданням ознаки?"
      ]
    },
    {
      "cell_type": "markdown",
      "metadata": {
        "id": "zCvcuwe8WmD_"
      },
      "source": [
        "<a class=\"anchor\" id=\"lab-4.3\"></a>"
      ]
    },
    {
      "cell_type": "code",
      "source": [
        "vectorizer_title.vocabulary_['nvidia']"
      ],
      "metadata": {
        "id": "9vSN-Be2XSr_",
        "outputId": "1d38221a-186b-4bb6-d3b1-c587ab89f111",
        "colab": {
          "base_uri": "https://localhost:8080/"
        }
      },
      "execution_count": 18,
      "outputs": [
        {
          "output_type": "execute_result",
          "data": {
            "text/plain": [
              "7978"
            ]
          },
          "metadata": {},
          "execution_count": 18
        }
      ]
    },
    {
      "cell_type": "markdown",
      "metadata": {
        "id": "1CYfMhHkWmD_"
      },
      "source": [
        "## <span style=\"color:blue; font-size:1.2em;\">4.3. Робота з категоріальним ознаками</span>\n",
        "\n",
        "[Повернутися до змісту](#lab-4)"
      ]
    },
    {
      "cell_type": "markdown",
      "metadata": {
        "id": "iwYPohnWWmD_"
      },
      "source": [
        "Для оброблення категоріальних ознак 'author', 'flow', 'domain' ми будемо використовувати [DictVectorizer](https://scikit-learn.org/stable/modules/generated/sklearn.feature_extraction.DictVectorizer.html) з sklearn."
      ]
    },
    {
      "cell_type": "code",
      "execution_count": 19,
      "metadata": {
        "scrolled": true,
        "id": "25SdksqtWmD_",
        "outputId": "1337ba20-6ab3-41f6-9555-db9d3d955d77",
        "colab": {
          "base_uri": "https://localhost:8080/",
          "height": 206
        }
      },
      "outputs": [
        {
          "output_type": "execute_result",
          "data": {
            "text/plain": [
              "       author     flow        domain\n",
              "0      @Tapac  develop  habrahabr.ru\n",
              "1  @DezmASter   design  habrahabr.ru\n",
              "2  @DezmASter   design  habrahabr.ru\n",
              "3    @Taoorus   design  habrahabr.ru\n",
              "4    @dennydo      NaN  geektimes.ru"
            ],
            "text/html": [
              "\n",
              "  <div id=\"df-77073683-cf8f-4707-80da-b5174960b851\">\n",
              "    <div class=\"colab-df-container\">\n",
              "      <div>\n",
              "<style scoped>\n",
              "    .dataframe tbody tr th:only-of-type {\n",
              "        vertical-align: middle;\n",
              "    }\n",
              "\n",
              "    .dataframe tbody tr th {\n",
              "        vertical-align: top;\n",
              "    }\n",
              "\n",
              "    .dataframe thead th {\n",
              "        text-align: right;\n",
              "    }\n",
              "</style>\n",
              "<table border=\"1\" class=\"dataframe\">\n",
              "  <thead>\n",
              "    <tr style=\"text-align: right;\">\n",
              "      <th></th>\n",
              "      <th>author</th>\n",
              "      <th>flow</th>\n",
              "      <th>domain</th>\n",
              "    </tr>\n",
              "  </thead>\n",
              "  <tbody>\n",
              "    <tr>\n",
              "      <th>0</th>\n",
              "      <td>@Tapac</td>\n",
              "      <td>develop</td>\n",
              "      <td>habrahabr.ru</td>\n",
              "    </tr>\n",
              "    <tr>\n",
              "      <th>1</th>\n",
              "      <td>@DezmASter</td>\n",
              "      <td>design</td>\n",
              "      <td>habrahabr.ru</td>\n",
              "    </tr>\n",
              "    <tr>\n",
              "      <th>2</th>\n",
              "      <td>@DezmASter</td>\n",
              "      <td>design</td>\n",
              "      <td>habrahabr.ru</td>\n",
              "    </tr>\n",
              "    <tr>\n",
              "      <th>3</th>\n",
              "      <td>@Taoorus</td>\n",
              "      <td>design</td>\n",
              "      <td>habrahabr.ru</td>\n",
              "    </tr>\n",
              "    <tr>\n",
              "      <th>4</th>\n",
              "      <td>@dennydo</td>\n",
              "      <td>NaN</td>\n",
              "      <td>geektimes.ru</td>\n",
              "    </tr>\n",
              "  </tbody>\n",
              "</table>\n",
              "</div>\n",
              "      <button class=\"colab-df-convert\" onclick=\"convertToInteractive('df-77073683-cf8f-4707-80da-b5174960b851')\"\n",
              "              title=\"Convert this dataframe to an interactive table.\"\n",
              "              style=\"display:none;\">\n",
              "        \n",
              "  <svg xmlns=\"http://www.w3.org/2000/svg\" height=\"24px\"viewBox=\"0 0 24 24\"\n",
              "       width=\"24px\">\n",
              "    <path d=\"M0 0h24v24H0V0z\" fill=\"none\"/>\n",
              "    <path d=\"M18.56 5.44l.94 2.06.94-2.06 2.06-.94-2.06-.94-.94-2.06-.94 2.06-2.06.94zm-11 1L8.5 8.5l.94-2.06 2.06-.94-2.06-.94L8.5 2.5l-.94 2.06-2.06.94zm10 10l.94 2.06.94-2.06 2.06-.94-2.06-.94-.94-2.06-.94 2.06-2.06.94z\"/><path d=\"M17.41 7.96l-1.37-1.37c-.4-.4-.92-.59-1.43-.59-.52 0-1.04.2-1.43.59L10.3 9.45l-7.72 7.72c-.78.78-.78 2.05 0 2.83L4 21.41c.39.39.9.59 1.41.59.51 0 1.02-.2 1.41-.59l7.78-7.78 2.81-2.81c.8-.78.8-2.07 0-2.86zM5.41 20L4 18.59l7.72-7.72 1.47 1.35L5.41 20z\"/>\n",
              "  </svg>\n",
              "      </button>\n",
              "      \n",
              "  <style>\n",
              "    .colab-df-container {\n",
              "      display:flex;\n",
              "      flex-wrap:wrap;\n",
              "      gap: 12px;\n",
              "    }\n",
              "\n",
              "    .colab-df-convert {\n",
              "      background-color: #E8F0FE;\n",
              "      border: none;\n",
              "      border-radius: 50%;\n",
              "      cursor: pointer;\n",
              "      display: none;\n",
              "      fill: #1967D2;\n",
              "      height: 32px;\n",
              "      padding: 0 0 0 0;\n",
              "      width: 32px;\n",
              "    }\n",
              "\n",
              "    .colab-df-convert:hover {\n",
              "      background-color: #E2EBFA;\n",
              "      box-shadow: 0px 1px 2px rgba(60, 64, 67, 0.3), 0px 1px 3px 1px rgba(60, 64, 67, 0.15);\n",
              "      fill: #174EA6;\n",
              "    }\n",
              "\n",
              "    [theme=dark] .colab-df-convert {\n",
              "      background-color: #3B4455;\n",
              "      fill: #D2E3FC;\n",
              "    }\n",
              "\n",
              "    [theme=dark] .colab-df-convert:hover {\n",
              "      background-color: #434B5C;\n",
              "      box-shadow: 0px 1px 3px 1px rgba(0, 0, 0, 0.15);\n",
              "      filter: drop-shadow(0px 1px 2px rgba(0, 0, 0, 0.3));\n",
              "      fill: #FFFFFF;\n",
              "    }\n",
              "  </style>\n",
              "\n",
              "      <script>\n",
              "        const buttonEl =\n",
              "          document.querySelector('#df-77073683-cf8f-4707-80da-b5174960b851 button.colab-df-convert');\n",
              "        buttonEl.style.display =\n",
              "          google.colab.kernel.accessAllowed ? 'block' : 'none';\n",
              "\n",
              "        async function convertToInteractive(key) {\n",
              "          const element = document.querySelector('#df-77073683-cf8f-4707-80da-b5174960b851');\n",
              "          const dataTable =\n",
              "            await google.colab.kernel.invokeFunction('convertToInteractive',\n",
              "                                                     [key], {});\n",
              "          if (!dataTable) return;\n",
              "\n",
              "          const docLinkHtml = 'Like what you see? Visit the ' +\n",
              "            '<a target=\"_blank\" href=https://colab.research.google.com/notebooks/data_table.ipynb>data table notebook</a>'\n",
              "            + ' to learn more about interactive tables.';\n",
              "          element.innerHTML = '';\n",
              "          dataTable['output_type'] = 'display_data';\n",
              "          await google.colab.output.renderOutput(dataTable, element);\n",
              "          const docLink = document.createElement('div');\n",
              "          docLink.innerHTML = docLinkHtml;\n",
              "          element.appendChild(docLink);\n",
              "        }\n",
              "      </script>\n",
              "    </div>\n",
              "  </div>\n",
              "  "
            ]
          },
          "metadata": {},
          "execution_count": 19
        }
      ],
      "source": [
        "feats = ['author', 'flow', 'domain']\n",
        "X_train[feats][:5]"
      ]
    },
    {
      "cell_type": "markdown",
      "metadata": {
        "id": "HIlqj5enWmEA"
      },
      "source": [
        "Розглянемо як DictVectorizer працює за прикладом перших п'яти рядків:"
      ]
    },
    {
      "cell_type": "code",
      "execution_count": 20,
      "metadata": {
        "id": "jW7ooT6UWmEA",
        "outputId": "939a12fa-47e4-4b0b-975a-6e209300fd99",
        "colab": {
          "base_uri": "https://localhost:8080/",
          "height": 206
        }
      },
      "outputs": [
        {
          "output_type": "execute_result",
          "data": {
            "text/plain": [
              "       author     flow        domain\n",
              "0      @Tapac  develop  habrahabr.ru\n",
              "1  @DezmASter   design  habrahabr.ru\n",
              "2  @DezmASter   design  habrahabr.ru\n",
              "3    @Taoorus   design  habrahabr.ru\n",
              "4    @dennydo        -  geektimes.ru"
            ],
            "text/html": [
              "\n",
              "  <div id=\"df-a259ff6a-9fdc-4e5a-a451-613426846184\">\n",
              "    <div class=\"colab-df-container\">\n",
              "      <div>\n",
              "<style scoped>\n",
              "    .dataframe tbody tr th:only-of-type {\n",
              "        vertical-align: middle;\n",
              "    }\n",
              "\n",
              "    .dataframe tbody tr th {\n",
              "        vertical-align: top;\n",
              "    }\n",
              "\n",
              "    .dataframe thead th {\n",
              "        text-align: right;\n",
              "    }\n",
              "</style>\n",
              "<table border=\"1\" class=\"dataframe\">\n",
              "  <thead>\n",
              "    <tr style=\"text-align: right;\">\n",
              "      <th></th>\n",
              "      <th>author</th>\n",
              "      <th>flow</th>\n",
              "      <th>domain</th>\n",
              "    </tr>\n",
              "  </thead>\n",
              "  <tbody>\n",
              "    <tr>\n",
              "      <th>0</th>\n",
              "      <td>@Tapac</td>\n",
              "      <td>develop</td>\n",
              "      <td>habrahabr.ru</td>\n",
              "    </tr>\n",
              "    <tr>\n",
              "      <th>1</th>\n",
              "      <td>@DezmASter</td>\n",
              "      <td>design</td>\n",
              "      <td>habrahabr.ru</td>\n",
              "    </tr>\n",
              "    <tr>\n",
              "      <th>2</th>\n",
              "      <td>@DezmASter</td>\n",
              "      <td>design</td>\n",
              "      <td>habrahabr.ru</td>\n",
              "    </tr>\n",
              "    <tr>\n",
              "      <th>3</th>\n",
              "      <td>@Taoorus</td>\n",
              "      <td>design</td>\n",
              "      <td>habrahabr.ru</td>\n",
              "    </tr>\n",
              "    <tr>\n",
              "      <th>4</th>\n",
              "      <td>@dennydo</td>\n",
              "      <td>-</td>\n",
              "      <td>geektimes.ru</td>\n",
              "    </tr>\n",
              "  </tbody>\n",
              "</table>\n",
              "</div>\n",
              "      <button class=\"colab-df-convert\" onclick=\"convertToInteractive('df-a259ff6a-9fdc-4e5a-a451-613426846184')\"\n",
              "              title=\"Convert this dataframe to an interactive table.\"\n",
              "              style=\"display:none;\">\n",
              "        \n",
              "  <svg xmlns=\"http://www.w3.org/2000/svg\" height=\"24px\"viewBox=\"0 0 24 24\"\n",
              "       width=\"24px\">\n",
              "    <path d=\"M0 0h24v24H0V0z\" fill=\"none\"/>\n",
              "    <path d=\"M18.56 5.44l.94 2.06.94-2.06 2.06-.94-2.06-.94-.94-2.06-.94 2.06-2.06.94zm-11 1L8.5 8.5l.94-2.06 2.06-.94-2.06-.94L8.5 2.5l-.94 2.06-2.06.94zm10 10l.94 2.06.94-2.06 2.06-.94-2.06-.94-.94-2.06-.94 2.06-2.06.94z\"/><path d=\"M17.41 7.96l-1.37-1.37c-.4-.4-.92-.59-1.43-.59-.52 0-1.04.2-1.43.59L10.3 9.45l-7.72 7.72c-.78.78-.78 2.05 0 2.83L4 21.41c.39.39.9.59 1.41.59.51 0 1.02-.2 1.41-.59l7.78-7.78 2.81-2.81c.8-.78.8-2.07 0-2.86zM5.41 20L4 18.59l7.72-7.72 1.47 1.35L5.41 20z\"/>\n",
              "  </svg>\n",
              "      </button>\n",
              "      \n",
              "  <style>\n",
              "    .colab-df-container {\n",
              "      display:flex;\n",
              "      flex-wrap:wrap;\n",
              "      gap: 12px;\n",
              "    }\n",
              "\n",
              "    .colab-df-convert {\n",
              "      background-color: #E8F0FE;\n",
              "      border: none;\n",
              "      border-radius: 50%;\n",
              "      cursor: pointer;\n",
              "      display: none;\n",
              "      fill: #1967D2;\n",
              "      height: 32px;\n",
              "      padding: 0 0 0 0;\n",
              "      width: 32px;\n",
              "    }\n",
              "\n",
              "    .colab-df-convert:hover {\n",
              "      background-color: #E2EBFA;\n",
              "      box-shadow: 0px 1px 2px rgba(60, 64, 67, 0.3), 0px 1px 3px 1px rgba(60, 64, 67, 0.15);\n",
              "      fill: #174EA6;\n",
              "    }\n",
              "\n",
              "    [theme=dark] .colab-df-convert {\n",
              "      background-color: #3B4455;\n",
              "      fill: #D2E3FC;\n",
              "    }\n",
              "\n",
              "    [theme=dark] .colab-df-convert:hover {\n",
              "      background-color: #434B5C;\n",
              "      box-shadow: 0px 1px 3px 1px rgba(0, 0, 0, 0.15);\n",
              "      filter: drop-shadow(0px 1px 2px rgba(0, 0, 0, 0.3));\n",
              "      fill: #FFFFFF;\n",
              "    }\n",
              "  </style>\n",
              "\n",
              "      <script>\n",
              "        const buttonEl =\n",
              "          document.querySelector('#df-a259ff6a-9fdc-4e5a-a451-613426846184 button.colab-df-convert');\n",
              "        buttonEl.style.display =\n",
              "          google.colab.kernel.accessAllowed ? 'block' : 'none';\n",
              "\n",
              "        async function convertToInteractive(key) {\n",
              "          const element = document.querySelector('#df-a259ff6a-9fdc-4e5a-a451-613426846184');\n",
              "          const dataTable =\n",
              "            await google.colab.kernel.invokeFunction('convertToInteractive',\n",
              "                                                     [key], {});\n",
              "          if (!dataTable) return;\n",
              "\n",
              "          const docLinkHtml = 'Like what you see? Visit the ' +\n",
              "            '<a target=\"_blank\" href=https://colab.research.google.com/notebooks/data_table.ipynb>data table notebook</a>'\n",
              "            + ' to learn more about interactive tables.';\n",
              "          element.innerHTML = '';\n",
              "          dataTable['output_type'] = 'display_data';\n",
              "          await google.colab.output.renderOutput(dataTable, element);\n",
              "          const docLink = document.createElement('div');\n",
              "          docLink.innerHTML = docLinkHtml;\n",
              "          element.appendChild(docLink);\n",
              "        }\n",
              "      </script>\n",
              "    </div>\n",
              "  </div>\n",
              "  "
            ]
          },
          "metadata": {},
          "execution_count": 20
        }
      ],
      "source": [
        "# для початку заповнюємо пропуски прочерком\n",
        "X_train[feats][:5].fillna('-')"
      ]
    },
    {
      "cell_type": "code",
      "execution_count": 21,
      "metadata": {
        "id": "KWfx1OXLWmEA",
        "outputId": "ba1f072a-1074-4baa-c418-822b79d10b6a",
        "colab": {
          "base_uri": "https://localhost:8080/"
        }
      },
      "outputs": [
        {
          "output_type": "execute_result",
          "data": {
            "text/plain": [
              "{0: {'author': '@Tapac', 'flow': 'develop', 'domain': 'habrahabr.ru'},\n",
              " 1: {'author': '@DezmASter', 'flow': 'design', 'domain': 'habrahabr.ru'},\n",
              " 2: {'author': '@DezmASter', 'flow': 'design', 'domain': 'habrahabr.ru'},\n",
              " 3: {'author': '@Taoorus', 'flow': 'design', 'domain': 'habrahabr.ru'},\n",
              " 4: {'author': '@dennydo', 'flow': '-', 'domain': 'geektimes.ru'}}"
            ]
          },
          "metadata": {},
          "execution_count": 21
        }
      ],
      "source": [
        "# Перетворимо датафрейм в словник, де ключами є індекси об'єктів (саме для цього ми транспонували датафрейм),\n",
        "# а значеннями є словники у вигляді 'назва_колонки': 'значення'\n",
        "X_train[feats][:5].fillna('-').T.to_dict()"
      ]
    },
    {
      "cell_type": "code",
      "execution_count": 22,
      "metadata": {
        "id": "NGVczgzoWmEA",
        "outputId": "916be32e-2791-412b-fb6c-4f54a658f5ba",
        "colab": {
          "base_uri": "https://localhost:8080/"
        }
      },
      "outputs": [
        {
          "output_type": "execute_result",
          "data": {
            "text/plain": [
              "dict_values([{'author': '@Tapac', 'flow': 'develop', 'domain': 'habrahabr.ru'}, {'author': '@DezmASter', 'flow': 'design', 'domain': 'habrahabr.ru'}, {'author': '@DezmASter', 'flow': 'design', 'domain': 'habrahabr.ru'}, {'author': '@Taoorus', 'flow': 'design', 'domain': 'habrahabr.ru'}, {'author': '@dennydo', 'flow': '-', 'domain': 'geektimes.ru'}])"
            ]
          },
          "metadata": {},
          "execution_count": 22
        }
      ],
      "source": [
        "# У DictVectorizer нам потрібно буде передати список словників для кожного об'єкта у вигляді 'назва_колонки': 'значення',\n",
        "# тому використовуємо .values()\n",
        "X_train[feats][:5].fillna('-').T.to_dict().values()"
      ]
    },
    {
      "cell_type": "code",
      "execution_count": 23,
      "metadata": {
        "id": "BVoYPFjtWmEA",
        "outputId": "1599665f-1971-4b3b-da9b-0fcad5015a07",
        "colab": {
          "base_uri": "https://localhost:8080/"
        }
      },
      "outputs": [
        {
          "output_type": "execute_result",
          "data": {
            "text/plain": [
              "<5x9 sparse matrix of type '<class 'numpy.float64'>'\n",
              "\twith 15 stored elements in Compressed Sparse Row format>"
            ]
          },
          "metadata": {},
          "execution_count": 23
        }
      ],
      "source": [
        "# У підсумку виходить розріджена матриця\n",
        "dict_vect = DictVectorizer()\n",
        "dict_vect_matrix = dict_vect.fit_transform(X_train[feats][:5].fillna('-').T.to_dict().values())\n",
        "dict_vect_matrix"
      ]
    },
    {
      "cell_type": "code",
      "execution_count": 24,
      "metadata": {
        "id": "WDovCiQUWmEB",
        "outputId": "34915ad5-38fd-4e82-c997-c88be1eba057",
        "colab": {
          "base_uri": "https://localhost:8080/"
        }
      },
      "outputs": [
        {
          "output_type": "execute_result",
          "data": {
            "text/plain": [
              "array([[0., 0., 1., 0., 0., 1., 0., 0., 1.],\n",
              "       [1., 0., 0., 0., 0., 1., 0., 1., 0.],\n",
              "       [1., 0., 0., 0., 0., 1., 0., 1., 0.],\n",
              "       [0., 1., 0., 0., 0., 1., 0., 1., 0.],\n",
              "       [0., 0., 0., 1., 1., 0., 1., 0., 0.]])"
            ]
          },
          "metadata": {},
          "execution_count": 24
        }
      ],
      "source": [
        "# Але можна перетворити її в numpy array за допомогою .toarray()\n",
        "dict_vect_matrix.toarray()"
      ]
    },
    {
      "cell_type": "code",
      "execution_count": 25,
      "metadata": {
        "id": "kllB5iUfWmEB",
        "outputId": "25d447d6-ac37-4146-8b07-436c0ee7b0b7",
        "colab": {
          "base_uri": "https://localhost:8080/"
        }
      },
      "outputs": [
        {
          "output_type": "execute_result",
          "data": {
            "text/plain": [
              "(5, 9)"
            ]
          },
          "metadata": {},
          "execution_count": 25
        }
      ],
      "source": [
        "# У результуючій матриці є 5 рядків (за числом об'єктів) та 9 стовпців\n",
        "# Далі розберемося чому колонок саме 9\n",
        "dict_vect_matrix.shape"
      ]
    },
    {
      "cell_type": "markdown",
      "metadata": {
        "id": "BRD6fi0rWmEB"
      },
      "source": [
        "Подивимося скільки унікальних значень є в кожному стовпчику:"
      ]
    },
    {
      "cell_type": "code",
      "execution_count": 26,
      "metadata": {
        "id": "SFZSteezWmEB",
        "outputId": "358fb97d-498c-4609-bbd3-f452cd36bce0",
        "colab": {
          "base_uri": "https://localhost:8080/"
        }
      },
      "outputs": [
        {
          "output_type": "stream",
          "name": "stdout",
          "text": [
            "author 4\n",
            "flow 3\n",
            "domain 2\n"
          ]
        }
      ],
      "source": [
        "for col in feats:\n",
        "    print(col,len(X_train[col][:5].fillna('-').unique()))"
      ]
    },
    {
      "cell_type": "markdown",
      "metadata": {
        "id": "CDU1D8TwWmEB"
      },
      "source": [
        "Загалом є 9 унікальних значень – стільки ж, скільки і колонок. Це пояснюється тим, що для категорійних ознак з рядковими значеннями DictVectorizer робить кодування бінарними ознаками – кожному унікальному значенню ознаки відповідає одна нова бінарна ознака, яка дорівнює 1 тільки в тому випадку, коли в початковій матриці ця ознака приймає значення, якому відповідає ця колонка нової матриці."
      ]
    },
    {
      "cell_type": "markdown",
      "metadata": {
        "id": "t29OOcWhWmEB"
      },
      "source": [
        "**Ініціалізуйте DictVectorizer з параметрами за замовчуванням.**\n",
        "\n",
        "Застосуйте метод **fit_transform** до `X_train[feats]` і метод **transform** до `X_valid[feats]` та `X_test[feats]`."
      ]
    },
    {
      "cell_type": "code",
      "execution_count": 27,
      "metadata": {
        "id": "wGiEuMSAWmEC"
      },
      "outputs": [],
      "source": [
        "vectorizer_feats = DictVectorizer()\n",
        "\n",
        "X_train_feats = vectorizer_feats.fit_transform(X_train.loc[:, feats].fillna('-').T.to_dict().values())\n",
        "X_valid_feats = vectorizer_feats.transform(X_valid.loc[:, feats].fillna('-').T.to_dict().values())\n",
        "X_test_feats = vectorizer_feats.transform(X_test.loc[:, feats].fillna('-').T.to_dict().values())"
      ]
    },
    {
      "cell_type": "markdown",
      "metadata": {
        "id": "lp46iWQKWmEC"
      },
      "source": [
        "Об'єднаємо всі отримані матриці за допомогою `scipy.sparse.hstack()`:"
      ]
    },
    {
      "cell_type": "code",
      "execution_count": 28,
      "metadata": {
        "id": "SfAn9ki1WmEC"
      },
      "outputs": [],
      "source": [
        "X_train_new = scipy.sparse.hstack([X_train_title, X_train_feats, X_train_title_ch])\n",
        "X_valid_new = scipy.sparse.hstack([X_valid_title, X_valid_feats, X_valid_title_ch])\n",
        "X_test_new =  scipy.sparse.hstack([X_test_title, X_test_feats, X_test_title_ch])"
      ]
    },
    {
      "cell_type": "markdown",
      "metadata": {
        "id": "_nwoE98YWmEC"
      },
      "source": [
        "### <span style=\"color:red; font-size:1.5em;\">Завдання 3</span>\n",
        "\n",
        "**Для варіантів 1-5:**\n",
        "\n",
        "Який розмір отриманого словника для DictVectorizer з параметрами за замовчуванням?\n",
        "\n",
        "**Для варіантів 6-10:**\n",
        "\n",
        "Виведіть усі колонки отриманої матриці `dict_vect_matrix` (ознака dict_vect).\n",
        "\n",
        "**Для варіантів 11-15:**\n",
        "\n",
        "Виведіть вміст створеного словника DictVectorizer.\n",
        "\n",
        "**Для варіантів 16-20:**\n",
        "\n",
        "Перевірте ознаки, за якими будувався словник dict_vect (атрибут `feature_names_`)"
      ]
    },
    {
      "cell_type": "markdown",
      "metadata": {
        "id": "qG2MdpNGWmEC"
      },
      "source": [
        "<a class=\"anchor\" id=\"lab-4.4\"></a>"
      ]
    },
    {
      "cell_type": "code",
      "source": [
        "X_train_feats.shape"
      ],
      "metadata": {
        "id": "PZVZdzCfXsWv",
        "outputId": "2b9828d4-034b-4184-b74b-ce65c2325a42",
        "colab": {
          "base_uri": "https://localhost:8080/"
        }
      },
      "execution_count": 47,
      "outputs": [
        {
          "output_type": "execute_result",
          "data": {
            "text/plain": [
              "(93895, 17869)"
            ]
          },
          "metadata": {},
          "execution_count": 47
        }
      ]
    },
    {
      "cell_type": "markdown",
      "metadata": {
        "id": "xw5SWn32WmEC"
      },
      "source": [
        "## <span style=\"color:blue; font-size:1.2em;\">4.4. Навчання моделі</span>\n",
        "\n",
        "[Повернутися до змісту](#lab-4)"
      ]
    },
    {
      "cell_type": "markdown",
      "metadata": {
        "id": "3646pg-OWmED"
      },
      "source": [
        "Далі будемо використовувати [Ridge](http://scikit-learn.org/stable/modules/generated/sklearn.linear_model.Ridge.html), лінійну модель з l2-регуляризацією.\n",
        "\n",
        "Основний параметр Ridge – **alpha, коефіцієнт регуляризації**. Регуляризація використовується для поліпшення узагальнюючої здатності моделі – додаючи до функціоналу втрат суму квадратів ваг, що помножена на коефіцієнт регуляризації (та сама alpha), ми штрафуємо модель за надто великі значення ваг і не дозволяємо їй перенавчатися. Чим більше значення цього коеефіціенту, тим сильніше ефект."
      ]
    },
    {
      "cell_type": "markdown",
      "metadata": {
        "id": "JDmObwZNWmED"
      },
      "source": [
        "**Виконайте навчання двох моделей за X_train_new, y_train, задавши в першій alpha=0.1 і random_state=1, а в другій – alpha=1.0 і random_state=1.**\n",
        "\n",
        "Обрахуйте середньоквадратичну помилку кожної моделі (mean_squared_error, MSE). Порівняйте значення помилки за навчальною та валідаційною вибірками та дайте відповідь на питання."
      ]
    },
    {
      "cell_type": "code",
      "execution_count": 33,
      "metadata": {
        "scrolled": true,
        "id": "X2GbR_2xWmED",
        "outputId": "405a7c41-5cb1-411a-9570-c948d1947c60",
        "colab": {
          "base_uri": "https://localhost:8080/"
        }
      },
      "outputs": [
        {
          "output_type": "stream",
          "name": "stdout",
          "text": [
            "MSE за навчальним набором:  0.18452335504527054\n",
            "MSE за валідаційним набором:  0.9036980824620631\n",
            "CPU times: user 7.26 s, sys: 5.72 s, total: 13 s\n",
            "Wall time: 6.96 s\n"
          ]
        }
      ],
      "source": [
        "%%time\n",
        "model1 = Ridge(alpha=0.1,random_state=1)\n",
        "model1.fit(X_train_new, y_train)\n",
        "\n",
        "# Тут також Ваш код\n",
        "\n",
        "train_preds1 = model1.predict(X_train_new)\n",
        "valid_preds1 = model1.predict(X_valid_new)\n",
        "\n",
        "print('MSE за навчальним набором: ',mean_squared_error(y_train, train_preds1))\n",
        "print('MSE за валідаційним набором: ',mean_squared_error(y_valid, valid_preds1))"
      ]
    },
    {
      "cell_type": "code",
      "execution_count": 34,
      "metadata": {
        "id": "ZE_VtwA5WmED",
        "outputId": "877cbe74-157d-469b-9690-a77d5079c925",
        "colab": {
          "base_uri": "https://localhost:8080/"
        }
      },
      "outputs": [
        {
          "output_type": "stream",
          "name": "stdout",
          "text": [
            "MSE за навчальним набором:  0.28674076626948974\n",
            "MSE за валідаційним набором:  0.7010885114715637\n",
            "CPU times: user 3.39 s, sys: 2.47 s, total: 5.86 s\n",
            "Wall time: 3.51 s\n"
          ]
        }
      ],
      "source": [
        "%%time\n",
        "model2 = Ridge(alpha=1.0,random_state=1)\n",
        "model2.fit(X_train_new, y_train)\n",
        "\n",
        "train_preds2 = model2.predict(X_train_new)\n",
        "valid_preds2 = model2.predict(X_valid_new)\n",
        "\n",
        "print('MSE за навчальним набором: ',mean_squared_error(y_train, train_preds2))\n",
        "print('MSE за валідаційним набором: ',mean_squared_error(y_valid, valid_preds2))"
      ]
    },
    {
      "cell_type": "markdown",
      "metadata": {
        "id": "AeH5gd8BWmED"
      },
      "source": [
        "### <span style=\"color:red; font-size:1.5em;\">Завдання 4</span>\n",
        "\n",
        "На основі результатів навчання моделі дайте відповідь на запитання нижче:\n",
        "\n",
        "**Для варіантів 1-5:**\n",
        "\n",
        "Чи справді обидві моделі показують однаковий результат? (тобто середньоквадратична помилка відрізняється не більше, ніж на тисячні)\n",
        "\n",
        "**Для варіантів 6-10:**\n",
        "\n",
        "Чи справді модель починає перенавчається при alpha = 0.1?\n",
        "\n",
        "**Для варіантів 11-15:**\n",
        "\n",
        "Середньоквадратична помилка (MSE) якої моделі за тестовим набором даних менше?\n",
        "\n",
        "**Для варіантів 16-20:**\n",
        "\n",
        "За якого значення alpha модель краще узагальнює дані: alpha = 0.1 чи alpha = 1.0? Як ми це бачимо?"
      ]
    },
    {
      "cell_type": "markdown",
      "metadata": {
        "id": "2VoV3JwOWmED"
      },
      "source": [
        "<a class=\"anchor\" id=\"lab-4.5\"></a>"
      ]
    },
    {
      "cell_type": "code",
      "source": [
        "#Так"
      ],
      "metadata": {
        "id": "A9mD5wL4ar_n"
      },
      "execution_count": null,
      "outputs": []
    },
    {
      "cell_type": "markdown",
      "metadata": {
        "id": "UUIMXb3nWmEE"
      },
      "source": [
        "## <span style=\"color:blue; font-size:1.2em;\">4.5. Baseline</span>\n",
        "\n",
        "[Повернутися до змісту](#lab-4)"
      ]
    },
    {
      "cell_type": "markdown",
      "metadata": {
        "id": "54e1t8dQWmEE"
      },
      "source": [
        "Тепер спробуємо отримати так званий бейзлайн (з англ. baseline – базовий рівень) для змагання – використовуйте Ridge з параметрами за замовчуванням і навчіть модель за усіма даними – з'єднайте X_train_new та X_valid_new (використовуйте `scipy.sparse.vstack()`), а цільовою змінною буде y."
      ]
    },
    {
      "cell_type": "code",
      "execution_count": 35,
      "metadata": {
        "id": "It6FgiOoWmEE",
        "outputId": "9ebeffe8-66f0-4ef0-8716-0686d07b688e",
        "colab": {
          "base_uri": "https://localhost:8080/"
        }
      },
      "outputs": [
        {
          "output_type": "stream",
          "name": "stdout",
          "text": [
            "CPU times: user 5.72 s, sys: 4.15 s, total: 9.86 s\n",
            "Wall time: 7.39 s\n"
          ]
        }
      ],
      "source": [
        "%%time\n",
        "model3 = Ridge()\n",
        "model = Ridge()\n",
        "\n",
        "model.fit(scipy.sparse.vstack([X_train_new, X_valid_new]), y) \n",
        "test_preds = model.predict(X_test_new)"
      ]
    },
    {
      "cell_type": "code",
      "execution_count": 36,
      "metadata": {
        "id": "M7q8c1svWmEE"
      },
      "outputs": [],
      "source": [
        "habr_sample_submission_url = 'https://raw.githubusercontent.com/radiukpavlo/intelligent-data-analysis/main/02_assignments/ida_lab-04_popularity-ridge/habr_sample_submission.csv'\n",
        "\n",
        "habr_sample_submission = pd.read_csv(habr_sample_submission_url, \n",
        "                                index_col='url')"
      ]
    },
    {
      "cell_type": "code",
      "execution_count": 37,
      "metadata": {
        "id": "nEx0I64nWmEE",
        "outputId": "1c2dac46-347b-4a72-97fe-90e8422bfd95",
        "colab": {
          "base_uri": "https://localhost:8080/",
          "height": 238
        }
      },
      "outputs": [
        {
          "output_type": "execute_result",
          "data": {
            "text/plain": [
              "                                                    favs_lognorm\n",
              "url                                                             \n",
              "https://habrahabr.ru/post/314080/                       0.323588\n",
              "https://habrahabr.ru/company/plesk/blog/313732/         0.560105\n",
              "https://habrahabr.ru/company/etagi/blog/314000/         0.667039\n",
              "https://habrahabr.ru/company/knopka/blog/314030/        0.149563\n",
              "https://geektimes.ru/company/audiomania/blog/28...      0.670754"
            ],
            "text/html": [
              "\n",
              "  <div id=\"df-2866145c-daf0-4ed0-952d-362950aaa9f7\">\n",
              "    <div class=\"colab-df-container\">\n",
              "      <div>\n",
              "<style scoped>\n",
              "    .dataframe tbody tr th:only-of-type {\n",
              "        vertical-align: middle;\n",
              "    }\n",
              "\n",
              "    .dataframe tbody tr th {\n",
              "        vertical-align: top;\n",
              "    }\n",
              "\n",
              "    .dataframe thead th {\n",
              "        text-align: right;\n",
              "    }\n",
              "</style>\n",
              "<table border=\"1\" class=\"dataframe\">\n",
              "  <thead>\n",
              "    <tr style=\"text-align: right;\">\n",
              "      <th></th>\n",
              "      <th>favs_lognorm</th>\n",
              "    </tr>\n",
              "    <tr>\n",
              "      <th>url</th>\n",
              "      <th></th>\n",
              "    </tr>\n",
              "  </thead>\n",
              "  <tbody>\n",
              "    <tr>\n",
              "      <th>https://habrahabr.ru/post/314080/</th>\n",
              "      <td>0.323588</td>\n",
              "    </tr>\n",
              "    <tr>\n",
              "      <th>https://habrahabr.ru/company/plesk/blog/313732/</th>\n",
              "      <td>0.560105</td>\n",
              "    </tr>\n",
              "    <tr>\n",
              "      <th>https://habrahabr.ru/company/etagi/blog/314000/</th>\n",
              "      <td>0.667039</td>\n",
              "    </tr>\n",
              "    <tr>\n",
              "      <th>https://habrahabr.ru/company/knopka/blog/314030/</th>\n",
              "      <td>0.149563</td>\n",
              "    </tr>\n",
              "    <tr>\n",
              "      <th>https://geektimes.ru/company/audiomania/blog/282058/</th>\n",
              "      <td>0.670754</td>\n",
              "    </tr>\n",
              "  </tbody>\n",
              "</table>\n",
              "</div>\n",
              "      <button class=\"colab-df-convert\" onclick=\"convertToInteractive('df-2866145c-daf0-4ed0-952d-362950aaa9f7')\"\n",
              "              title=\"Convert this dataframe to an interactive table.\"\n",
              "              style=\"display:none;\">\n",
              "        \n",
              "  <svg xmlns=\"http://www.w3.org/2000/svg\" height=\"24px\"viewBox=\"0 0 24 24\"\n",
              "       width=\"24px\">\n",
              "    <path d=\"M0 0h24v24H0V0z\" fill=\"none\"/>\n",
              "    <path d=\"M18.56 5.44l.94 2.06.94-2.06 2.06-.94-2.06-.94-.94-2.06-.94 2.06-2.06.94zm-11 1L8.5 8.5l.94-2.06 2.06-.94-2.06-.94L8.5 2.5l-.94 2.06-2.06.94zm10 10l.94 2.06.94-2.06 2.06-.94-2.06-.94-.94-2.06-.94 2.06-2.06.94z\"/><path d=\"M17.41 7.96l-1.37-1.37c-.4-.4-.92-.59-1.43-.59-.52 0-1.04.2-1.43.59L10.3 9.45l-7.72 7.72c-.78.78-.78 2.05 0 2.83L4 21.41c.39.39.9.59 1.41.59.51 0 1.02-.2 1.41-.59l7.78-7.78 2.81-2.81c.8-.78.8-2.07 0-2.86zM5.41 20L4 18.59l7.72-7.72 1.47 1.35L5.41 20z\"/>\n",
              "  </svg>\n",
              "      </button>\n",
              "      \n",
              "  <style>\n",
              "    .colab-df-container {\n",
              "      display:flex;\n",
              "      flex-wrap:wrap;\n",
              "      gap: 12px;\n",
              "    }\n",
              "\n",
              "    .colab-df-convert {\n",
              "      background-color: #E8F0FE;\n",
              "      border: none;\n",
              "      border-radius: 50%;\n",
              "      cursor: pointer;\n",
              "      display: none;\n",
              "      fill: #1967D2;\n",
              "      height: 32px;\n",
              "      padding: 0 0 0 0;\n",
              "      width: 32px;\n",
              "    }\n",
              "\n",
              "    .colab-df-convert:hover {\n",
              "      background-color: #E2EBFA;\n",
              "      box-shadow: 0px 1px 2px rgba(60, 64, 67, 0.3), 0px 1px 3px 1px rgba(60, 64, 67, 0.15);\n",
              "      fill: #174EA6;\n",
              "    }\n",
              "\n",
              "    [theme=dark] .colab-df-convert {\n",
              "      background-color: #3B4455;\n",
              "      fill: #D2E3FC;\n",
              "    }\n",
              "\n",
              "    [theme=dark] .colab-df-convert:hover {\n",
              "      background-color: #434B5C;\n",
              "      box-shadow: 0px 1px 3px 1px rgba(0, 0, 0, 0.15);\n",
              "      filter: drop-shadow(0px 1px 2px rgba(0, 0, 0, 0.3));\n",
              "      fill: #FFFFFF;\n",
              "    }\n",
              "  </style>\n",
              "\n",
              "      <script>\n",
              "        const buttonEl =\n",
              "          document.querySelector('#df-2866145c-daf0-4ed0-952d-362950aaa9f7 button.colab-df-convert');\n",
              "        buttonEl.style.display =\n",
              "          google.colab.kernel.accessAllowed ? 'block' : 'none';\n",
              "\n",
              "        async function convertToInteractive(key) {\n",
              "          const element = document.querySelector('#df-2866145c-daf0-4ed0-952d-362950aaa9f7');\n",
              "          const dataTable =\n",
              "            await google.colab.kernel.invokeFunction('convertToInteractive',\n",
              "                                                     [key], {});\n",
              "          if (!dataTable) return;\n",
              "\n",
              "          const docLinkHtml = 'Like what you see? Visit the ' +\n",
              "            '<a target=\"_blank\" href=https://colab.research.google.com/notebooks/data_table.ipynb>data table notebook</a>'\n",
              "            + ' to learn more about interactive tables.';\n",
              "          element.innerHTML = '';\n",
              "          dataTable['output_type'] = 'display_data';\n",
              "          await google.colab.output.renderOutput(dataTable, element);\n",
              "          const docLink = document.createElement('div');\n",
              "          docLink.innerHTML = docLinkHtml;\n",
              "          element.appendChild(docLink);\n",
              "        }\n",
              "      </script>\n",
              "    </div>\n",
              "  </div>\n",
              "  "
            ]
          },
          "metadata": {},
          "execution_count": 37
        }
      ],
      "source": [
        "habr_sample_submission.head()"
      ]
    },
    {
      "cell_type": "code",
      "execution_count": 38,
      "metadata": {
        "id": "jM8IxSeNWmEH"
      },
      "outputs": [],
      "source": [
        "ridge_submission = habr_sample_submission.copy()\n",
        "ridge_submission['favs_lognorm'] = test_preds\n",
        "\n",
        "# це буде бейзлайн \"Просте рішення\"\n",
        "ridge_submission.to_csv('habr_ridge_baseline.csv')"
      ]
    },
    {
      "cell_type": "markdown",
      "metadata": {
        "id": "EKSFZXcaWmEI"
      },
      "source": [
        "### <span style=\"color:red; font-size:1.5em;\">Завдання 5</span>\n",
        "\n",
        "**Для усіх варіантів:**\n",
        "\n",
        "Виведіть значення змінної `test_preds` та покажіть вміст файлу `habr_ridge_baseline.csv`"
      ]
    },
    {
      "cell_type": "code",
      "execution_count": 41,
      "metadata": {
        "id": "jDa5xmIEWmEI",
        "outputId": "5142d2fc-277e-4e44-807d-8494f53331c3",
        "colab": {
          "base_uri": "https://localhost:8080/"
        }
      },
      "outputs": [
        {
          "output_type": "stream",
          "name": "stdout",
          "text": [
            "[ 0.43435335 -1.09260971  0.65548665 ...  0.64503734  0.02541083\n",
            "  0.60407764]\n"
          ]
        }
      ],
      "source": [
        "print(test_preds)#5"
      ]
    },
    {
      "cell_type": "code",
      "source": [
        "baseline = 'habr_ridge_baseline.csv'\n",
        "\n",
        "df = pd.read_csv(baseline)\n",
        "df.describe().T"
      ],
      "metadata": {
        "id": "bLMzLMSPbBDE",
        "outputId": "7224c824-f635-4d55-c2d0-0ab9e4daac92",
        "colab": {
          "base_uri": "https://localhost:8080/",
          "height": 81
        }
      },
      "execution_count": 44,
      "outputs": [
        {
          "output_type": "execute_result",
          "data": {
            "text/plain": [
              "               count      mean       std       min       25%       50%  \\\n",
              "favs_lognorm  3990.0  0.149387  0.629606 -2.473313 -0.239494  0.175721   \n",
              "\n",
              "                   75%       max  \n",
              "favs_lognorm  0.575151  2.483398  "
            ],
            "text/html": [
              "\n",
              "  <div id=\"df-3777af6d-3709-4e3e-9794-ed4b2b048bd4\">\n",
              "    <div class=\"colab-df-container\">\n",
              "      <div>\n",
              "<style scoped>\n",
              "    .dataframe tbody tr th:only-of-type {\n",
              "        vertical-align: middle;\n",
              "    }\n",
              "\n",
              "    .dataframe tbody tr th {\n",
              "        vertical-align: top;\n",
              "    }\n",
              "\n",
              "    .dataframe thead th {\n",
              "        text-align: right;\n",
              "    }\n",
              "</style>\n",
              "<table border=\"1\" class=\"dataframe\">\n",
              "  <thead>\n",
              "    <tr style=\"text-align: right;\">\n",
              "      <th></th>\n",
              "      <th>count</th>\n",
              "      <th>mean</th>\n",
              "      <th>std</th>\n",
              "      <th>min</th>\n",
              "      <th>25%</th>\n",
              "      <th>50%</th>\n",
              "      <th>75%</th>\n",
              "      <th>max</th>\n",
              "    </tr>\n",
              "  </thead>\n",
              "  <tbody>\n",
              "    <tr>\n",
              "      <th>favs_lognorm</th>\n",
              "      <td>3990.0</td>\n",
              "      <td>0.149387</td>\n",
              "      <td>0.629606</td>\n",
              "      <td>-2.473313</td>\n",
              "      <td>-0.239494</td>\n",
              "      <td>0.175721</td>\n",
              "      <td>0.575151</td>\n",
              "      <td>2.483398</td>\n",
              "    </tr>\n",
              "  </tbody>\n",
              "</table>\n",
              "</div>\n",
              "      <button class=\"colab-df-convert\" onclick=\"convertToInteractive('df-3777af6d-3709-4e3e-9794-ed4b2b048bd4')\"\n",
              "              title=\"Convert this dataframe to an interactive table.\"\n",
              "              style=\"display:none;\">\n",
              "        \n",
              "  <svg xmlns=\"http://www.w3.org/2000/svg\" height=\"24px\"viewBox=\"0 0 24 24\"\n",
              "       width=\"24px\">\n",
              "    <path d=\"M0 0h24v24H0V0z\" fill=\"none\"/>\n",
              "    <path d=\"M18.56 5.44l.94 2.06.94-2.06 2.06-.94-2.06-.94-.94-2.06-.94 2.06-2.06.94zm-11 1L8.5 8.5l.94-2.06 2.06-.94-2.06-.94L8.5 2.5l-.94 2.06-2.06.94zm10 10l.94 2.06.94-2.06 2.06-.94-2.06-.94-.94-2.06-.94 2.06-2.06.94z\"/><path d=\"M17.41 7.96l-1.37-1.37c-.4-.4-.92-.59-1.43-.59-.52 0-1.04.2-1.43.59L10.3 9.45l-7.72 7.72c-.78.78-.78 2.05 0 2.83L4 21.41c.39.39.9.59 1.41.59.51 0 1.02-.2 1.41-.59l7.78-7.78 2.81-2.81c.8-.78.8-2.07 0-2.86zM5.41 20L4 18.59l7.72-7.72 1.47 1.35L5.41 20z\"/>\n",
              "  </svg>\n",
              "      </button>\n",
              "      \n",
              "  <style>\n",
              "    .colab-df-container {\n",
              "      display:flex;\n",
              "      flex-wrap:wrap;\n",
              "      gap: 12px;\n",
              "    }\n",
              "\n",
              "    .colab-df-convert {\n",
              "      background-color: #E8F0FE;\n",
              "      border: none;\n",
              "      border-radius: 50%;\n",
              "      cursor: pointer;\n",
              "      display: none;\n",
              "      fill: #1967D2;\n",
              "      height: 32px;\n",
              "      padding: 0 0 0 0;\n",
              "      width: 32px;\n",
              "    }\n",
              "\n",
              "    .colab-df-convert:hover {\n",
              "      background-color: #E2EBFA;\n",
              "      box-shadow: 0px 1px 2px rgba(60, 64, 67, 0.3), 0px 1px 3px 1px rgba(60, 64, 67, 0.15);\n",
              "      fill: #174EA6;\n",
              "    }\n",
              "\n",
              "    [theme=dark] .colab-df-convert {\n",
              "      background-color: #3B4455;\n",
              "      fill: #D2E3FC;\n",
              "    }\n",
              "\n",
              "    [theme=dark] .colab-df-convert:hover {\n",
              "      background-color: #434B5C;\n",
              "      box-shadow: 0px 1px 3px 1px rgba(0, 0, 0, 0.15);\n",
              "      filter: drop-shadow(0px 1px 2px rgba(0, 0, 0, 0.3));\n",
              "      fill: #FFFFFF;\n",
              "    }\n",
              "  </style>\n",
              "\n",
              "      <script>\n",
              "        const buttonEl =\n",
              "          document.querySelector('#df-3777af6d-3709-4e3e-9794-ed4b2b048bd4 button.colab-df-convert');\n",
              "        buttonEl.style.display =\n",
              "          google.colab.kernel.accessAllowed ? 'block' : 'none';\n",
              "\n",
              "        async function convertToInteractive(key) {\n",
              "          const element = document.querySelector('#df-3777af6d-3709-4e3e-9794-ed4b2b048bd4');\n",
              "          const dataTable =\n",
              "            await google.colab.kernel.invokeFunction('convertToInteractive',\n",
              "                                                     [key], {});\n",
              "          if (!dataTable) return;\n",
              "\n",
              "          const docLinkHtml = 'Like what you see? Visit the ' +\n",
              "            '<a target=\"_blank\" href=https://colab.research.google.com/notebooks/data_table.ipynb>data table notebook</a>'\n",
              "            + ' to learn more about interactive tables.';\n",
              "          element.innerHTML = '';\n",
              "          dataTable['output_type'] = 'display_data';\n",
              "          await google.colab.output.renderOutput(dataTable, element);\n",
              "          const docLink = document.createElement('div');\n",
              "          docLink.innerHTML = docLinkHtml;\n",
              "          element.appendChild(docLink);\n",
              "        }\n",
              "      </script>\n",
              "    </div>\n",
              "  </div>\n",
              "  "
            ]
          },
          "metadata": {},
          "execution_count": 44
        }
      ]
    },
    {
      "cell_type": "code",
      "source": [
        "pd.set_option('display.max_rows', 10)\n",
        "print(df)"
      ],
      "metadata": {
        "id": "6gnwUXWYbIk7",
        "outputId": "6e00f2de-ff1f-417a-f4e9-496dfbd1f03c",
        "colab": {
          "base_uri": "https://localhost:8080/"
        }
      },
      "execution_count": 45,
      "outputs": [
        {
          "output_type": "stream",
          "name": "stdout",
          "text": [
            "                                                    url  favs_lognorm\n",
            "0                     https://habrahabr.ru/post/314080/      0.434353\n",
            "1       https://habrahabr.ru/company/plesk/blog/313732/     -1.092610\n",
            "2       https://habrahabr.ru/company/etagi/blog/314000/      0.655487\n",
            "3      https://habrahabr.ru/company/knopka/blog/314030/      0.518344\n",
            "4     https://geektimes.ru/company/audiomania/blog/2...      1.150439\n",
            "...                                                 ...           ...\n",
            "3985                  https://geektimes.ru/post/281642/     -0.014880\n",
            "3986   https://habrahabr.ru/company/tuturu/blog/320326/      0.267876\n",
            "3987  https://habrahabr.ru/company/gemaltorussia/blo...      0.645037\n",
            "3988                  https://habrahabr.ru/post/320472/      0.025411\n",
            "3989     https://habrahabr.ru/company/croc/blog/320470/      0.604078\n",
            "\n",
            "[3990 rows x 2 columns]\n"
          ]
        }
      ]
    }
  ],
  "metadata": {
    "anaconda-cloud": {},
    "kernelspec": {
      "display_name": "Python 3 (ipykernel)",
      "language": "python",
      "name": "python3"
    },
    "language_info": {
      "codemirror_mode": {
        "name": "ipython",
        "version": 3
      },
      "file_extension": ".py",
      "mimetype": "text/x-python",
      "name": "python",
      "nbconvert_exporter": "python",
      "pygments_lexer": "ipython3",
      "version": "3.9.13"
    },
    "colab": {
      "provenance": []
    }
  },
  "nbformat": 4,
  "nbformat_minor": 0
}