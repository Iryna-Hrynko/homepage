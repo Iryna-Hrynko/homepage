{
  "cells": [
    {
      "cell_type": "markdown",
      "metadata": {
        "id": "mryo-PHWsjNR"
      },
      "source": [
        "<h1><center>Лабораторна робота 6.</center></h1>\n",
        "<h2><center>Лінійна регресія, Lasso і RF-регресія для задачі визначення якості вина</center></h2>"
      ]
    },
    {
      "cell_type": "markdown",
      "metadata": {
        "id": "8CC2ahGUsjNT"
      },
      "source": [
        "**Виконав:** Прізвище І.П.\n",
        "\n",
        "**Варіант:** №__"
      ]
    },
    {
      "cell_type": "markdown",
      "metadata": {
        "id": "Kydd98kFsjNT"
      },
      "source": [
        "<a class=\"anchor\" id=\"lab-6\"></a>"
      ]
    },
    {
      "cell_type": "markdown",
      "metadata": {
        "id": "sH7TTfxWsjNU"
      },
      "source": [
        "## Зміст\n",
        "\n",
        "- [6.1. Завантаження навчальних даних](#lab-6.1)\n",
        "- [6.2. Лінійна регресія](#lab-6.2)  \n",
        "- [6.3. LASSO-регресія](#lab-6.3)\n",
        "- [6.4. Випадковий ліс](#lab-6.4)\n",
        "- [6.5. Порівняння моделей](#lab-6.5)"
      ]
    },
    {
      "cell_type": "code",
      "execution_count": 1,
      "metadata": {
        "id": "Wa48Zta7sjNU"
      },
      "outputs": [],
      "source": [
        "# відключимо попередження Anaconda\n",
        "import warnings\n",
        "warnings.filterwarnings('ignore')\n",
        "import numpy as np\n",
        "import pandas as pd\n",
        "from sklearn.metrics import mean_squared_error\n",
        "from sklearn.preprocessing import StandardScaler\n",
        "from sklearn.model_selection import GridSearchCV\n",
        "from sklearn.model_selection import cross_val_score, train_test_split\n",
        "from sklearn.linear_model import LinearRegression, LassoCV, Lasso\n",
        "from sklearn.ensemble import RandomForestRegressor"
      ]
    },
    {
      "cell_type": "markdown",
      "metadata": {
        "id": "LEYOOB34sjNV"
      },
      "source": [
        "<a class=\"anchor\" id=\"lab-6.1\"></a>"
      ]
    },
    {
      "cell_type": "markdown",
      "metadata": {
        "id": "KQsE892IsjNW"
      },
      "source": [
        "## <span style=\"color:blue; font-size:1.2em;\">6.1. Завантаження навчальних даних</span>\n",
        "\n",
        "[Повернутися до змісту](#lab-6)"
      ]
    },
    {
      "cell_type": "markdown",
      "metadata": {
        "id": "Sd3Fkkf1sjNW"
      },
      "source": [
        "В цій лабораторній робота будемо працювати з набором даних за якістю білого вина ([репозиторій UCI](https://archive.ics.uci.edu/ml/datasets/wine+quality)).\n",
        "\n",
        "Спершу завантажуємо дані:"
      ]
    },
    {
      "cell_type": "code",
      "execution_count": 2,
      "metadata": {
        "id": "XVLU_D7xsjNW"
      },
      "outputs": [],
      "source": [
        "winequality_white_url = 'https://raw.githubusercontent.com/radiukpavlo/intelligent-data-analysis/main/02_assignments/ida_lab-06_regression-wine/winequality-white.csv'\n",
        "data = pd.read_csv(winequality_white_url, sep=';')"
      ]
    },
    {
      "cell_type": "code",
      "execution_count": 3,
      "metadata": {
        "id": "gcwNARYYsjNW",
        "outputId": "82ef1659-d1f9-4949-d7b6-c234e4eb726b",
        "colab": {
          "base_uri": "https://localhost:8080/",
          "height": 206
        }
      },
      "outputs": [
        {
          "output_type": "execute_result",
          "data": {
            "text/plain": [
              "   fixed acidity  volatile acidity  citric acid  residual sugar  chlorides  \\\n",
              "0            7.0              0.27         0.36            20.7      0.045   \n",
              "1            6.3              0.30         0.34             1.6      0.049   \n",
              "2            8.1              0.28         0.40             6.9      0.050   \n",
              "3            7.2              0.23         0.32             8.5      0.058   \n",
              "4            7.2              0.23         0.32             8.5      0.058   \n",
              "\n",
              "   free sulfur dioxide  total sulfur dioxide  density    pH  sulphates  \\\n",
              "0                 45.0                 170.0   1.0010  3.00       0.45   \n",
              "1                 14.0                 132.0   0.9940  3.30       0.49   \n",
              "2                 30.0                  97.0   0.9951  3.26       0.44   \n",
              "3                 47.0                 186.0   0.9956  3.19       0.40   \n",
              "4                 47.0                 186.0   0.9956  3.19       0.40   \n",
              "\n",
              "   alcohol  quality  \n",
              "0      8.8        6  \n",
              "1      9.5        6  \n",
              "2     10.1        6  \n",
              "3      9.9        6  \n",
              "4      9.9        6  "
            ],
            "text/html": [
              "\n",
              "  <div id=\"df-f6cdaa01-2c88-4832-af59-1e2cabcf71b1\">\n",
              "    <div class=\"colab-df-container\">\n",
              "      <div>\n",
              "<style scoped>\n",
              "    .dataframe tbody tr th:only-of-type {\n",
              "        vertical-align: middle;\n",
              "    }\n",
              "\n",
              "    .dataframe tbody tr th {\n",
              "        vertical-align: top;\n",
              "    }\n",
              "\n",
              "    .dataframe thead th {\n",
              "        text-align: right;\n",
              "    }\n",
              "</style>\n",
              "<table border=\"1\" class=\"dataframe\">\n",
              "  <thead>\n",
              "    <tr style=\"text-align: right;\">\n",
              "      <th></th>\n",
              "      <th>fixed acidity</th>\n",
              "      <th>volatile acidity</th>\n",
              "      <th>citric acid</th>\n",
              "      <th>residual sugar</th>\n",
              "      <th>chlorides</th>\n",
              "      <th>free sulfur dioxide</th>\n",
              "      <th>total sulfur dioxide</th>\n",
              "      <th>density</th>\n",
              "      <th>pH</th>\n",
              "      <th>sulphates</th>\n",
              "      <th>alcohol</th>\n",
              "      <th>quality</th>\n",
              "    </tr>\n",
              "  </thead>\n",
              "  <tbody>\n",
              "    <tr>\n",
              "      <th>0</th>\n",
              "      <td>7.0</td>\n",
              "      <td>0.27</td>\n",
              "      <td>0.36</td>\n",
              "      <td>20.7</td>\n",
              "      <td>0.045</td>\n",
              "      <td>45.0</td>\n",
              "      <td>170.0</td>\n",
              "      <td>1.0010</td>\n",
              "      <td>3.00</td>\n",
              "      <td>0.45</td>\n",
              "      <td>8.8</td>\n",
              "      <td>6</td>\n",
              "    </tr>\n",
              "    <tr>\n",
              "      <th>1</th>\n",
              "      <td>6.3</td>\n",
              "      <td>0.30</td>\n",
              "      <td>0.34</td>\n",
              "      <td>1.6</td>\n",
              "      <td>0.049</td>\n",
              "      <td>14.0</td>\n",
              "      <td>132.0</td>\n",
              "      <td>0.9940</td>\n",
              "      <td>3.30</td>\n",
              "      <td>0.49</td>\n",
              "      <td>9.5</td>\n",
              "      <td>6</td>\n",
              "    </tr>\n",
              "    <tr>\n",
              "      <th>2</th>\n",
              "      <td>8.1</td>\n",
              "      <td>0.28</td>\n",
              "      <td>0.40</td>\n",
              "      <td>6.9</td>\n",
              "      <td>0.050</td>\n",
              "      <td>30.0</td>\n",
              "      <td>97.0</td>\n",
              "      <td>0.9951</td>\n",
              "      <td>3.26</td>\n",
              "      <td>0.44</td>\n",
              "      <td>10.1</td>\n",
              "      <td>6</td>\n",
              "    </tr>\n",
              "    <tr>\n",
              "      <th>3</th>\n",
              "      <td>7.2</td>\n",
              "      <td>0.23</td>\n",
              "      <td>0.32</td>\n",
              "      <td>8.5</td>\n",
              "      <td>0.058</td>\n",
              "      <td>47.0</td>\n",
              "      <td>186.0</td>\n",
              "      <td>0.9956</td>\n",
              "      <td>3.19</td>\n",
              "      <td>0.40</td>\n",
              "      <td>9.9</td>\n",
              "      <td>6</td>\n",
              "    </tr>\n",
              "    <tr>\n",
              "      <th>4</th>\n",
              "      <td>7.2</td>\n",
              "      <td>0.23</td>\n",
              "      <td>0.32</td>\n",
              "      <td>8.5</td>\n",
              "      <td>0.058</td>\n",
              "      <td>47.0</td>\n",
              "      <td>186.0</td>\n",
              "      <td>0.9956</td>\n",
              "      <td>3.19</td>\n",
              "      <td>0.40</td>\n",
              "      <td>9.9</td>\n",
              "      <td>6</td>\n",
              "    </tr>\n",
              "  </tbody>\n",
              "</table>\n",
              "</div>\n",
              "      <button class=\"colab-df-convert\" onclick=\"convertToInteractive('df-f6cdaa01-2c88-4832-af59-1e2cabcf71b1')\"\n",
              "              title=\"Convert this dataframe to an interactive table.\"\n",
              "              style=\"display:none;\">\n",
              "        \n",
              "  <svg xmlns=\"http://www.w3.org/2000/svg\" height=\"24px\"viewBox=\"0 0 24 24\"\n",
              "       width=\"24px\">\n",
              "    <path d=\"M0 0h24v24H0V0z\" fill=\"none\"/>\n",
              "    <path d=\"M18.56 5.44l.94 2.06.94-2.06 2.06-.94-2.06-.94-.94-2.06-.94 2.06-2.06.94zm-11 1L8.5 8.5l.94-2.06 2.06-.94-2.06-.94L8.5 2.5l-.94 2.06-2.06.94zm10 10l.94 2.06.94-2.06 2.06-.94-2.06-.94-.94-2.06-.94 2.06-2.06.94z\"/><path d=\"M17.41 7.96l-1.37-1.37c-.4-.4-.92-.59-1.43-.59-.52 0-1.04.2-1.43.59L10.3 9.45l-7.72 7.72c-.78.78-.78 2.05 0 2.83L4 21.41c.39.39.9.59 1.41.59.51 0 1.02-.2 1.41-.59l7.78-7.78 2.81-2.81c.8-.78.8-2.07 0-2.86zM5.41 20L4 18.59l7.72-7.72 1.47 1.35L5.41 20z\"/>\n",
              "  </svg>\n",
              "      </button>\n",
              "      \n",
              "  <style>\n",
              "    .colab-df-container {\n",
              "      display:flex;\n",
              "      flex-wrap:wrap;\n",
              "      gap: 12px;\n",
              "    }\n",
              "\n",
              "    .colab-df-convert {\n",
              "      background-color: #E8F0FE;\n",
              "      border: none;\n",
              "      border-radius: 50%;\n",
              "      cursor: pointer;\n",
              "      display: none;\n",
              "      fill: #1967D2;\n",
              "      height: 32px;\n",
              "      padding: 0 0 0 0;\n",
              "      width: 32px;\n",
              "    }\n",
              "\n",
              "    .colab-df-convert:hover {\n",
              "      background-color: #E2EBFA;\n",
              "      box-shadow: 0px 1px 2px rgba(60, 64, 67, 0.3), 0px 1px 3px 1px rgba(60, 64, 67, 0.15);\n",
              "      fill: #174EA6;\n",
              "    }\n",
              "\n",
              "    [theme=dark] .colab-df-convert {\n",
              "      background-color: #3B4455;\n",
              "      fill: #D2E3FC;\n",
              "    }\n",
              "\n",
              "    [theme=dark] .colab-df-convert:hover {\n",
              "      background-color: #434B5C;\n",
              "      box-shadow: 0px 1px 3px 1px rgba(0, 0, 0, 0.15);\n",
              "      filter: drop-shadow(0px 1px 2px rgba(0, 0, 0, 0.3));\n",
              "      fill: #FFFFFF;\n",
              "    }\n",
              "  </style>\n",
              "\n",
              "      <script>\n",
              "        const buttonEl =\n",
              "          document.querySelector('#df-f6cdaa01-2c88-4832-af59-1e2cabcf71b1 button.colab-df-convert');\n",
              "        buttonEl.style.display =\n",
              "          google.colab.kernel.accessAllowed ? 'block' : 'none';\n",
              "\n",
              "        async function convertToInteractive(key) {\n",
              "          const element = document.querySelector('#df-f6cdaa01-2c88-4832-af59-1e2cabcf71b1');\n",
              "          const dataTable =\n",
              "            await google.colab.kernel.invokeFunction('convertToInteractive',\n",
              "                                                     [key], {});\n",
              "          if (!dataTable) return;\n",
              "\n",
              "          const docLinkHtml = 'Like what you see? Visit the ' +\n",
              "            '<a target=\"_blank\" href=https://colab.research.google.com/notebooks/data_table.ipynb>data table notebook</a>'\n",
              "            + ' to learn more about interactive tables.';\n",
              "          element.innerHTML = '';\n",
              "          dataTable['output_type'] = 'display_data';\n",
              "          await google.colab.output.renderOutput(dataTable, element);\n",
              "          const docLink = document.createElement('div');\n",
              "          docLink.innerHTML = docLinkHtml;\n",
              "          element.appendChild(docLink);\n",
              "        }\n",
              "      </script>\n",
              "    </div>\n",
              "  </div>\n",
              "  "
            ]
          },
          "metadata": {},
          "execution_count": 3
        }
      ],
      "source": [
        "data.head()"
      ]
    },
    {
      "cell_type": "code",
      "execution_count": 4,
      "metadata": {
        "id": "pGVjijxSsjNX",
        "outputId": "6511e5e9-7a44-4b7e-f6fe-1f75e32d9475",
        "colab": {
          "base_uri": "https://localhost:8080/"
        }
      },
      "outputs": [
        {
          "output_type": "stream",
          "name": "stdout",
          "text": [
            "<class 'pandas.core.frame.DataFrame'>\n",
            "RangeIndex: 4898 entries, 0 to 4897\n",
            "Data columns (total 12 columns):\n",
            " #   Column                Non-Null Count  Dtype  \n",
            "---  ------                --------------  -----  \n",
            " 0   fixed acidity         4898 non-null   float64\n",
            " 1   volatile acidity      4898 non-null   float64\n",
            " 2   citric acid           4898 non-null   float64\n",
            " 3   residual sugar        4898 non-null   float64\n",
            " 4   chlorides             4898 non-null   float64\n",
            " 5   free sulfur dioxide   4898 non-null   float64\n",
            " 6   total sulfur dioxide  4898 non-null   float64\n",
            " 7   density               4898 non-null   float64\n",
            " 8   pH                    4898 non-null   float64\n",
            " 9   sulphates             4898 non-null   float64\n",
            " 10  alcohol               4898 non-null   float64\n",
            " 11  quality               4898 non-null   int64  \n",
            "dtypes: float64(11), int64(1)\n",
            "memory usage: 459.3 KB\n"
          ]
        }
      ],
      "source": [
        "data.info()"
      ]
    },
    {
      "cell_type": "markdown",
      "metadata": {
        "id": "ODmh3RodsjNY"
      },
      "source": [
        "Виконаємо відокремлення цільової ознаки. Для цього розділимо навчальну вибірку за відношенням 7:3; тут 30% даних - валідаційна вибірка. Задамо `random_state=17` і виконаємо стандартизацію даних за допомогою `StandardScaler()`."
      ]
    },
    {
      "cell_type": "code",
      "execution_count": 5,
      "metadata": {
        "id": "Hsmlaq-jsjNY"
      },
      "outputs": [],
      "source": [
        "y = data['quality']\n",
        "X = data.drop('quality', axis=1)\n",
        "\n",
        "X_train, X_valid, y_train, y_valid = train_test_split(X, y, test_size=0.3, random_state=17)\n",
        "scaler = StandardScaler()\n",
        "X_train_scaled = scaler.fit_transform(X_train)\n",
        "X_valid_scaled = scaler.transform(X_valid)"
      ]
    },
    {
      "cell_type": "markdown",
      "metadata": {
        "id": "dfJ9fSsDsjNY"
      },
      "source": [
        "<a class=\"anchor\" id=\"lab-6.2\"></a>"
      ]
    },
    {
      "cell_type": "markdown",
      "metadata": {
        "id": "0Mg3I1CgsjNY"
      },
      "source": [
        "## <span style=\"color:blue; font-size:1.2em;\">6.2. Лінійна регресія</span>\n",
        "\n",
        "[Повернутися до змісту](#lab-6)"
      ]
    },
    {
      "cell_type": "markdown",
      "metadata": {
        "id": "lXuUhLEwsjNY"
      },
      "source": [
        "Виконайте навчання простої лінійної регресії. Пам'ятейте, що для навчання та тестування моделі ми використовуємо стандартизовані значення незалежних змінних `X_train_scaled` та `X_valid_scaled`, і початкові значення цільової ознаки `y_train` та `y_valid`."
      ]
    },
    {
      "cell_type": "code",
      "execution_count": 6,
      "metadata": {
        "id": "NWQS--KDsjNZ",
        "outputId": "b28615e8-ae89-4be6-fcaf-80698e26637c",
        "colab": {
          "base_uri": "https://localhost:8080/"
        }
      },
      "outputs": [
        {
          "output_type": "execute_result",
          "data": {
            "text/plain": [
              "LinearRegression(normalize=True)"
            ]
          },
          "metadata": {},
          "execution_count": 6
        }
      ],
      "source": [
        "linreg = LinearRegression(normalize=True)\n",
        "linreg.fit(X_train_scaled,y_train)"
      ]
    },
    {
      "cell_type": "markdown",
      "metadata": {
        "id": "Fhzi0zRNsjNZ"
      },
      "source": [
        "Після навчання моделі перегляньте її коефіцієнти й відсортуйте ознаки за впливом на якість вина. Майте на увазі, що великі за модулем негативні значення коефіцієнтів теж вказують на сильний вплив на цільову ознаку. Для виконання цього завдання створіть новий DataFrame, як в попередній темі."
      ]
    },
    {
      "cell_type": "code",
      "execution_count": 7,
      "metadata": {
        "id": "ZKhwIgAusjNZ",
        "outputId": "9cfd689d-88e6-4aef-b038-e5ab61e0f382",
        "colab": {
          "base_uri": "https://localhost:8080/",
          "height": 394
        }
      },
      "outputs": [
        {
          "output_type": "execute_result",
          "data": {
            "text/plain": [
              "                         coeff\n",
              "residual sugar        0.538164\n",
              "pH                    0.150036\n",
              "alcohol               0.129533\n",
              "fixed acidity         0.097822\n",
              "sulphates             0.062053\n",
              "free sulfur dioxide   0.042180\n",
              "total sulfur dioxide  0.014304\n",
              "chlorides             0.008127\n",
              "citric acid          -0.000183\n",
              "volatile acidity     -0.192260\n",
              "density              -0.665720"
            ],
            "text/html": [
              "\n",
              "  <div id=\"df-6cef68dc-cc96-4233-8273-6dd20fa1b471\">\n",
              "    <div class=\"colab-df-container\">\n",
              "      <div>\n",
              "<style scoped>\n",
              "    .dataframe tbody tr th:only-of-type {\n",
              "        vertical-align: middle;\n",
              "    }\n",
              "\n",
              "    .dataframe tbody tr th {\n",
              "        vertical-align: top;\n",
              "    }\n",
              "\n",
              "    .dataframe thead th {\n",
              "        text-align: right;\n",
              "    }\n",
              "</style>\n",
              "<table border=\"1\" class=\"dataframe\">\n",
              "  <thead>\n",
              "    <tr style=\"text-align: right;\">\n",
              "      <th></th>\n",
              "      <th>coeff</th>\n",
              "    </tr>\n",
              "  </thead>\n",
              "  <tbody>\n",
              "    <tr>\n",
              "      <th>residual sugar</th>\n",
              "      <td>0.538164</td>\n",
              "    </tr>\n",
              "    <tr>\n",
              "      <th>pH</th>\n",
              "      <td>0.150036</td>\n",
              "    </tr>\n",
              "    <tr>\n",
              "      <th>alcohol</th>\n",
              "      <td>0.129533</td>\n",
              "    </tr>\n",
              "    <tr>\n",
              "      <th>fixed acidity</th>\n",
              "      <td>0.097822</td>\n",
              "    </tr>\n",
              "    <tr>\n",
              "      <th>sulphates</th>\n",
              "      <td>0.062053</td>\n",
              "    </tr>\n",
              "    <tr>\n",
              "      <th>free sulfur dioxide</th>\n",
              "      <td>0.042180</td>\n",
              "    </tr>\n",
              "    <tr>\n",
              "      <th>total sulfur dioxide</th>\n",
              "      <td>0.014304</td>\n",
              "    </tr>\n",
              "    <tr>\n",
              "      <th>chlorides</th>\n",
              "      <td>0.008127</td>\n",
              "    </tr>\n",
              "    <tr>\n",
              "      <th>citric acid</th>\n",
              "      <td>-0.000183</td>\n",
              "    </tr>\n",
              "    <tr>\n",
              "      <th>volatile acidity</th>\n",
              "      <td>-0.192260</td>\n",
              "    </tr>\n",
              "    <tr>\n",
              "      <th>density</th>\n",
              "      <td>-0.665720</td>\n",
              "    </tr>\n",
              "  </tbody>\n",
              "</table>\n",
              "</div>\n",
              "      <button class=\"colab-df-convert\" onclick=\"convertToInteractive('df-6cef68dc-cc96-4233-8273-6dd20fa1b471')\"\n",
              "              title=\"Convert this dataframe to an interactive table.\"\n",
              "              style=\"display:none;\">\n",
              "        \n",
              "  <svg xmlns=\"http://www.w3.org/2000/svg\" height=\"24px\"viewBox=\"0 0 24 24\"\n",
              "       width=\"24px\">\n",
              "    <path d=\"M0 0h24v24H0V0z\" fill=\"none\"/>\n",
              "    <path d=\"M18.56 5.44l.94 2.06.94-2.06 2.06-.94-2.06-.94-.94-2.06-.94 2.06-2.06.94zm-11 1L8.5 8.5l.94-2.06 2.06-.94-2.06-.94L8.5 2.5l-.94 2.06-2.06.94zm10 10l.94 2.06.94-2.06 2.06-.94-2.06-.94-.94-2.06-.94 2.06-2.06.94z\"/><path d=\"M17.41 7.96l-1.37-1.37c-.4-.4-.92-.59-1.43-.59-.52 0-1.04.2-1.43.59L10.3 9.45l-7.72 7.72c-.78.78-.78 2.05 0 2.83L4 21.41c.39.39.9.59 1.41.59.51 0 1.02-.2 1.41-.59l7.78-7.78 2.81-2.81c.8-.78.8-2.07 0-2.86zM5.41 20L4 18.59l7.72-7.72 1.47 1.35L5.41 20z\"/>\n",
              "  </svg>\n",
              "      </button>\n",
              "      \n",
              "  <style>\n",
              "    .colab-df-container {\n",
              "      display:flex;\n",
              "      flex-wrap:wrap;\n",
              "      gap: 12px;\n",
              "    }\n",
              "\n",
              "    .colab-df-convert {\n",
              "      background-color: #E8F0FE;\n",
              "      border: none;\n",
              "      border-radius: 50%;\n",
              "      cursor: pointer;\n",
              "      display: none;\n",
              "      fill: #1967D2;\n",
              "      height: 32px;\n",
              "      padding: 0 0 0 0;\n",
              "      width: 32px;\n",
              "    }\n",
              "\n",
              "    .colab-df-convert:hover {\n",
              "      background-color: #E2EBFA;\n",
              "      box-shadow: 0px 1px 2px rgba(60, 64, 67, 0.3), 0px 1px 3px 1px rgba(60, 64, 67, 0.15);\n",
              "      fill: #174EA6;\n",
              "    }\n",
              "\n",
              "    [theme=dark] .colab-df-convert {\n",
              "      background-color: #3B4455;\n",
              "      fill: #D2E3FC;\n",
              "    }\n",
              "\n",
              "    [theme=dark] .colab-df-convert:hover {\n",
              "      background-color: #434B5C;\n",
              "      box-shadow: 0px 1px 3px 1px rgba(0, 0, 0, 0.15);\n",
              "      filter: drop-shadow(0px 1px 2px rgba(0, 0, 0, 0.3));\n",
              "      fill: #FFFFFF;\n",
              "    }\n",
              "  </style>\n",
              "\n",
              "      <script>\n",
              "        const buttonEl =\n",
              "          document.querySelector('#df-6cef68dc-cc96-4233-8273-6dd20fa1b471 button.colab-df-convert');\n",
              "        buttonEl.style.display =\n",
              "          google.colab.kernel.accessAllowed ? 'block' : 'none';\n",
              "\n",
              "        async function convertToInteractive(key) {\n",
              "          const element = document.querySelector('#df-6cef68dc-cc96-4233-8273-6dd20fa1b471');\n",
              "          const dataTable =\n",
              "            await google.colab.kernel.invokeFunction('convertToInteractive',\n",
              "                                                     [key], {});\n",
              "          if (!dataTable) return;\n",
              "\n",
              "          const docLinkHtml = 'Like what you see? Visit the ' +\n",
              "            '<a target=\"_blank\" href=https://colab.research.google.com/notebooks/data_table.ipynb>data table notebook</a>'\n",
              "            + ' to learn more about interactive tables.';\n",
              "          element.innerHTML = '';\n",
              "          dataTable['output_type'] = 'display_data';\n",
              "          await google.colab.output.renderOutput(dataTable, element);\n",
              "          const docLink = document.createElement('div');\n",
              "          docLink.innerHTML = docLinkHtml;\n",
              "          element.appendChild(docLink);\n",
              "        }\n",
              "      </script>\n",
              "    </div>\n",
              "  </div>\n",
              "  "
            ]
          },
          "metadata": {},
          "execution_count": 7
        }
      ],
      "source": [
        "linreg_coef = pd.DataFrame(linreg.coef_,data.columns[:-1], columns = ['coeff'])\n",
        "linreg_coef.sort_values(by = 'coeff', ascending=False)"
      ]
    },
    {
      "cell_type": "markdown",
      "metadata": {
        "id": "TTileI7zsjNZ"
      },
      "source": [
        "### <span style=\"color:red; font-size:1.5em;\">Завдання 1</span>\n",
        "\n",
        "\n",
        "**Для варіантів 1-5:**\n",
        "\n",
        "Яка ознака в моделі лінійної регресії має найменший вплив на якість вина?\n",
        "\n",
        "**Для варіантів 6-10:**\n",
        "\n",
        "Обрахуйте середньоквадратичні помилки лінійної регресії за навчальною та валідаційною вибірками.\n",
        "\n",
        "**Для варіантів 11-15:**\n",
        "\n",
        "Обрахуйте середньоквадратичні помилки лінійної регресії за навчальною та валідаційною вибірками. \n",
        "\n",
        "**Для варіантів 16-20:**\n",
        "\n",
        "Яка ознака в моделі лінійної регресії має найбільший вплив на якість вина?"
      ]
    },
    {
      "cell_type": "code",
      "source": [
        "print(\"Середньоквадратична помилка (train): %.3f\" % mean_squared_error(y_train, linreg.predict(X_train_scaled)))\n",
        "print(\"Середньоквадратична помилка (valid): %.3f\" % mean_squared_error(y_valid, linreg.predict(X_valid_scaled)))"
      ],
      "metadata": {
        "id": "vGdIIAyvtNG5",
        "outputId": "78771e75-fb1b-4edd-d232-f2c29676777b",
        "colab": {
          "base_uri": "https://localhost:8080/"
        }
      },
      "execution_count": 11,
      "outputs": [
        {
          "output_type": "stream",
          "name": "stdout",
          "text": [
            "Середньоквадратична помилка (train): 0.558\n",
            "Середньоквадратична помилка (valid): 0.584\n"
          ]
        }
      ]
    },
    {
      "cell_type": "markdown",
      "metadata": {
        "id": "VsYPeQAWsjNZ"
      },
      "source": [
        "<a class=\"anchor\" id=\"lab-6.3\"></a>"
      ]
    },
    {
      "cell_type": "markdown",
      "metadata": {
        "id": "firqTDELsjNa"
      },
      "source": [
        "## <span style=\"color:blue; font-size:1.2em;\">6.3. Lasso-регресія</span>\n",
        "\n",
        "[Повернутися до змісту](#lab-6)"
      ]
    },
    {
      "cell_type": "markdown",
      "metadata": {
        "id": "PJ-sptDksjNa"
      },
      "source": [
        "Навчіть Lasso-регресію з невеликим коефіцієнтом $\\alpha = 0.01$ (слабка регуляризація). Прийміть `random_state=17` та `cv=5`."
      ]
    },
    {
      "cell_type": "code",
      "execution_count": 12,
      "metadata": {
        "id": "kFi76RMMsjNa",
        "outputId": "79934dcb-0264-436c-e40d-db6b7d6b2cca",
        "colab": {
          "base_uri": "https://localhost:8080/"
        }
      },
      "outputs": [
        {
          "output_type": "execute_result",
          "data": {
            "text/plain": [
              "Lasso(alpha=0.01, random_state=17)"
            ]
          },
          "metadata": {},
          "execution_count": 12
        }
      ],
      "source": [
        "lasso1 = Lasso(alpha=0.01, random_state=17)\n",
        "lasso1.fit(X_train_scaled, y_train)"
      ]
    },
    {
      "cell_type": "markdown",
      "metadata": {
        "id": "vvC13LYnsjNa"
      },
      "source": [
        "Обрахуйте вплив всіх незалежних ознак на цільову ознаку LASSO-регресії. Відсортуйте ознаки за впливом на якість вина."
      ]
    },
    {
      "cell_type": "code",
      "execution_count": 16,
      "metadata": {
        "id": "x5fUXns4sjNa",
        "outputId": "1df7ee0f-5d9a-47b5-ac12-5bb2d61ddb89",
        "colab": {
          "base_uri": "https://localhost:8080/",
          "height": 394
        }
      },
      "outputs": [
        {
          "output_type": "execute_result",
          "data": {
            "text/plain": [
              "                         coeff\n",
              "alcohol               0.322425\n",
              "residual sugar        0.256363\n",
              "pH                    0.067277\n",
              "free sulfur dioxide   0.043088\n",
              "sulphates             0.029722\n",
              "fixed acidity        -0.000000\n",
              "citric acid          -0.000000\n",
              "total sulfur dioxide -0.000000\n",
              "chlorides            -0.002747\n",
              "volatile acidity     -0.188479\n",
              "density              -0.235492"
            ],
            "text/html": [
              "\n",
              "  <div id=\"df-fc3853ca-2341-4820-ada4-b9ba1b07cf8d\">\n",
              "    <div class=\"colab-df-container\">\n",
              "      <div>\n",
              "<style scoped>\n",
              "    .dataframe tbody tr th:only-of-type {\n",
              "        vertical-align: middle;\n",
              "    }\n",
              "\n",
              "    .dataframe tbody tr th {\n",
              "        vertical-align: top;\n",
              "    }\n",
              "\n",
              "    .dataframe thead th {\n",
              "        text-align: right;\n",
              "    }\n",
              "</style>\n",
              "<table border=\"1\" class=\"dataframe\">\n",
              "  <thead>\n",
              "    <tr style=\"text-align: right;\">\n",
              "      <th></th>\n",
              "      <th>coeff</th>\n",
              "    </tr>\n",
              "  </thead>\n",
              "  <tbody>\n",
              "    <tr>\n",
              "      <th>alcohol</th>\n",
              "      <td>0.322425</td>\n",
              "    </tr>\n",
              "    <tr>\n",
              "      <th>residual sugar</th>\n",
              "      <td>0.256363</td>\n",
              "    </tr>\n",
              "    <tr>\n",
              "      <th>pH</th>\n",
              "      <td>0.067277</td>\n",
              "    </tr>\n",
              "    <tr>\n",
              "      <th>free sulfur dioxide</th>\n",
              "      <td>0.043088</td>\n",
              "    </tr>\n",
              "    <tr>\n",
              "      <th>sulphates</th>\n",
              "      <td>0.029722</td>\n",
              "    </tr>\n",
              "    <tr>\n",
              "      <th>fixed acidity</th>\n",
              "      <td>-0.000000</td>\n",
              "    </tr>\n",
              "    <tr>\n",
              "      <th>citric acid</th>\n",
              "      <td>-0.000000</td>\n",
              "    </tr>\n",
              "    <tr>\n",
              "      <th>total sulfur dioxide</th>\n",
              "      <td>-0.000000</td>\n",
              "    </tr>\n",
              "    <tr>\n",
              "      <th>chlorides</th>\n",
              "      <td>-0.002747</td>\n",
              "    </tr>\n",
              "    <tr>\n",
              "      <th>volatile acidity</th>\n",
              "      <td>-0.188479</td>\n",
              "    </tr>\n",
              "    <tr>\n",
              "      <th>density</th>\n",
              "      <td>-0.235492</td>\n",
              "    </tr>\n",
              "  </tbody>\n",
              "</table>\n",
              "</div>\n",
              "      <button class=\"colab-df-convert\" onclick=\"convertToInteractive('df-fc3853ca-2341-4820-ada4-b9ba1b07cf8d')\"\n",
              "              title=\"Convert this dataframe to an interactive table.\"\n",
              "              style=\"display:none;\">\n",
              "        \n",
              "  <svg xmlns=\"http://www.w3.org/2000/svg\" height=\"24px\"viewBox=\"0 0 24 24\"\n",
              "       width=\"24px\">\n",
              "    <path d=\"M0 0h24v24H0V0z\" fill=\"none\"/>\n",
              "    <path d=\"M18.56 5.44l.94 2.06.94-2.06 2.06-.94-2.06-.94-.94-2.06-.94 2.06-2.06.94zm-11 1L8.5 8.5l.94-2.06 2.06-.94-2.06-.94L8.5 2.5l-.94 2.06-2.06.94zm10 10l.94 2.06.94-2.06 2.06-.94-2.06-.94-.94-2.06-.94 2.06-2.06.94z\"/><path d=\"M17.41 7.96l-1.37-1.37c-.4-.4-.92-.59-1.43-.59-.52 0-1.04.2-1.43.59L10.3 9.45l-7.72 7.72c-.78.78-.78 2.05 0 2.83L4 21.41c.39.39.9.59 1.41.59.51 0 1.02-.2 1.41-.59l7.78-7.78 2.81-2.81c.8-.78.8-2.07 0-2.86zM5.41 20L4 18.59l7.72-7.72 1.47 1.35L5.41 20z\"/>\n",
              "  </svg>\n",
              "      </button>\n",
              "      \n",
              "  <style>\n",
              "    .colab-df-container {\n",
              "      display:flex;\n",
              "      flex-wrap:wrap;\n",
              "      gap: 12px;\n",
              "    }\n",
              "\n",
              "    .colab-df-convert {\n",
              "      background-color: #E8F0FE;\n",
              "      border: none;\n",
              "      border-radius: 50%;\n",
              "      cursor: pointer;\n",
              "      display: none;\n",
              "      fill: #1967D2;\n",
              "      height: 32px;\n",
              "      padding: 0 0 0 0;\n",
              "      width: 32px;\n",
              "    }\n",
              "\n",
              "    .colab-df-convert:hover {\n",
              "      background-color: #E2EBFA;\n",
              "      box-shadow: 0px 1px 2px rgba(60, 64, 67, 0.3), 0px 1px 3px 1px rgba(60, 64, 67, 0.15);\n",
              "      fill: #174EA6;\n",
              "    }\n",
              "\n",
              "    [theme=dark] .colab-df-convert {\n",
              "      background-color: #3B4455;\n",
              "      fill: #D2E3FC;\n",
              "    }\n",
              "\n",
              "    [theme=dark] .colab-df-convert:hover {\n",
              "      background-color: #434B5C;\n",
              "      box-shadow: 0px 1px 3px 1px rgba(0, 0, 0, 0.15);\n",
              "      filter: drop-shadow(0px 1px 2px rgba(0, 0, 0, 0.3));\n",
              "      fill: #FFFFFF;\n",
              "    }\n",
              "  </style>\n",
              "\n",
              "      <script>\n",
              "        const buttonEl =\n",
              "          document.querySelector('#df-fc3853ca-2341-4820-ada4-b9ba1b07cf8d button.colab-df-convert');\n",
              "        buttonEl.style.display =\n",
              "          google.colab.kernel.accessAllowed ? 'block' : 'none';\n",
              "\n",
              "        async function convertToInteractive(key) {\n",
              "          const element = document.querySelector('#df-fc3853ca-2341-4820-ada4-b9ba1b07cf8d');\n",
              "          const dataTable =\n",
              "            await google.colab.kernel.invokeFunction('convertToInteractive',\n",
              "                                                     [key], {});\n",
              "          if (!dataTable) return;\n",
              "\n",
              "          const docLinkHtml = 'Like what you see? Visit the ' +\n",
              "            '<a target=\"_blank\" href=https://colab.research.google.com/notebooks/data_table.ipynb>data table notebook</a>'\n",
              "            + ' to learn more about interactive tables.';\n",
              "          element.innerHTML = '';\n",
              "          dataTable['output_type'] = 'display_data';\n",
              "          await google.colab.output.renderOutput(dataTable, element);\n",
              "          const docLink = document.createElement('div');\n",
              "          docLink.innerHTML = docLinkHtml;\n",
              "          element.appendChild(docLink);\n",
              "        }\n",
              "      </script>\n",
              "    </div>\n",
              "  </div>\n",
              "  "
            ]
          },
          "metadata": {},
          "execution_count": 16
        }
      ],
      "source": [
        "lasso1_coef = pd.DataFrame(lasso1.coef_,data.columns[:-1], columns = ['coeff'])\n",
        "lasso1_coef.sort_values(by = 'coeff', ascending = False)"
      ]
    },
    {
      "cell_type": "markdown",
      "metadata": {
        "id": "4uspoJE_sjNb"
      },
      "source": [
        "Код нижче дасть змогу знайти найкраще значення $\\alpha$ поміж заданих."
      ]
    },
    {
      "cell_type": "code",
      "execution_count": null,
      "metadata": {
        "id": "37Xy7hrYsjNb"
      },
      "outputs": [],
      "source": [
        "alphas = np.logspace(-6, 2, 200)\n",
        "lasso_cv = LassoCV # Ваш код тут\n",
        "lasso_cv.fit # Ваш код тут"
      ]
    },
    {
      "cell_type": "markdown",
      "metadata": {
        "id": "aKRTFrA6sjNb"
      },
      "source": [
        "### <span style=\"color:red; font-size:1.5em;\">Завдання 2</span>\n",
        "\n",
        "\n",
        "**Для варіантів 1-5:**\n",
        "\n",
        "Обрахуйте середньоквадратичні помилки побудованої LASSO-регресії за навчальною та валідаційною вибірками. \n",
        "\n",
        "**Для варіантів 6-10:**\n",
        "\n",
        "Яка ознака в моделі LASSO-регресії має найбільший вплив на якість вина? Використайте підхід з DataFrame як в попередньому завданні.\n",
        "\n",
        "**Для варіантів 11-15:**\n",
        "\n",
        "Обрахуйте найкраще значення $\\alpha$ для LASSO-регресії за 5-кратною крос-валідацією. Використайте LassoCV, `random_state = 17` і команду `alpha_`.\n",
        "\n",
        "**Для варіантів 16-20:**\n",
        "\n",
        "Обрахуйте середньоквадратичні помилки побудованої LASSO-регресії за навчальною та валідаційною вибірками. "
      ]
    },
    {
      "cell_type": "markdown",
      "metadata": {
        "id": "cLwpxzh9sjNb"
      },
      "source": [
        "<a class=\"anchor\" id=\"lab-6.4\"></a>"
      ]
    },
    {
      "cell_type": "markdown",
      "metadata": {
        "id": "PP39IPplsjNb"
      },
      "source": [
        "## <span style=\"color:blue; font-size:1.2em;\">6.4. Випадковий ліс</span>\n",
        "\n",
        "[Повернутися до змісту](#lab-6)"
      ]
    },
    {
      "cell_type": "markdown",
      "metadata": {
        "id": "ALKuSOPIsjNb"
      },
      "source": [
        "Навчіть випадковий ліс з параметрами \"з коробки\", фіксуючи тільки `random_state=17`."
      ]
    },
    {
      "cell_type": "code",
      "execution_count": 18,
      "metadata": {
        "id": "Dz61mjlnsjNb",
        "outputId": "492312a6-a3c5-4ec9-c5c8-42fe92c9adf3",
        "colab": {
          "base_uri": "https://localhost:8080/"
        }
      },
      "outputs": [
        {
          "output_type": "execute_result",
          "data": {
            "text/plain": [
              "RandomForestRegressor(random_state=17)"
            ]
          },
          "metadata": {},
          "execution_count": 18
        }
      ],
      "source": [
        "rf = RandomForestRegressor(random_state=17)\n",
        "rf.fit(X_train, y_train)\n"
      ]
    },
    {
      "cell_type": "markdown",
      "metadata": {
        "id": "T7snaW3xsjNc"
      },
      "source": [
        "### <span style=\"color:red; font-size:1.5em;\">Завдання 3</span>\n",
        "\n",
        "**Для варіантів 1-5:**\n",
        "\n",
        "Обрахуйте середньоквадратичні помилки побудованого випадкового лісу за навчальною та валідаційною вибірками за допомогою GridSearchCV(). Протестуйте значення параметра `'n_estimators': [10, 50, 100, 250, 500]`. \n",
        "\n",
        "**Для варіантів 6-10:**\n",
        "\n",
        "Обрахуйте середньоквадратичні помилки побудованого випадкового лісу за навчальною та валідаційною вибірками за допомогою GridSearchCV(). Протестуйте значення параметра `'max_features': [3, 4, 5, 7, 9]`. \n",
        "\n",
        "**Для варіантів 11-15:**\n",
        "\n",
        "Обрахуйте середньоквадратичні помилки побудованого випадкового лісу за навчальною та валідаційною вибірками за допомогою GridSearchCV(). Протестуйте значення параметра `min_samples_leaf': [1, 3, 5, 7, 9]`. \n",
        "\n",
        "**Для варіантів 16-20:**\n",
        "\n",
        "Обрахуйте середньоквадратичні помилки побудованого випадкового лісу за навчальною та валідаційною вибірками за допомогою GridSearchCV(). Протестуйте значення параметра `'max_depth': [5, 7, 9, 11, 13]`.  "
      ]
    },
    {
      "cell_type": "markdown",
      "metadata": {
        "id": "_H-Cs8xLsjNc"
      },
      "source": [
        "Середньоквадратична помилка на крос-валідації (cross_val_score з `scoring='neg_mean_squared_error'`) буде такою:"
      ]
    },
    {
      "cell_type": "code",
      "execution_count": 19,
      "metadata": {
        "id": "Oed2xmAxsjNc",
        "outputId": "29b602e7-724d-4961-de9c-5ed33d44a8ba",
        "colab": {
          "base_uri": "https://localhost:8080/"
        }
      },
      "outputs": [
        {
          "output_type": "stream",
          "name": "stdout",
          "text": [
            "Середньоквадратична помилка (train): 0.053\n",
            "Середньоквадратична помилка (valid): 0.371\n"
          ]
        }
      ],
      "source": [
        "print(\"Середньоквадратична помилка (train): %.3f\" % mean_squared_error(y_train, rf.predict(X_train)))\n",
        "print(\"Середньоквадратична помилка (valid): %.3f\" % mean_squared_error(y_valid, rf.predict(X_valid)))"
      ]
    },
    {
      "cell_type": "markdown",
      "metadata": {
        "id": "tChUWpwBsjNc"
      },
      "source": [
        "Далі налаштуйте всі важливі параметри випадкового лісу за допомогою GridSearchCV(). Тюнинг одночасно кількох параметрів може зайняти чимало часу на слабких процесорах, тому будьте готові до тривалих обрахунків. "
      ]
    },
    {
      "cell_type": "code",
      "execution_count": 20,
      "metadata": {
        "id": "qWrX9ZrksjNc"
      },
      "outputs": [],
      "source": [
        "rf_params = {'n_estimators': [10, 50],\n",
        "             'criterion': ['squared_error', 'absolute_error', 'poisson'],\n",
        "             'max_features': [3, 5],\n",
        "             'min_samples_leaf': [3, 5],\n",
        "             'max_depth': [5, 7]}"
      ]
    },
    {
      "cell_type": "code",
      "execution_count": 21,
      "metadata": {
        "id": "bsdSjs1asjNd",
        "outputId": "8f09bd02-a04c-44e3-8518-7bcba2ae1d28",
        "colab": {
          "base_uri": "https://localhost:8080/"
        }
      },
      "outputs": [
        {
          "output_type": "stream",
          "name": "stdout",
          "text": [
            "CPU times: user 2.57 s, sys: 195 ms, total: 2.76 s\n",
            "Wall time: 2min 23s\n"
          ]
        },
        {
          "output_type": "execute_result",
          "data": {
            "text/plain": [
              "GridSearchCV(estimator=RandomForestRegressor(random_state=17), n_jobs=-1,\n",
              "             param_grid={'criterion': ['squared_error', 'absolute_error',\n",
              "                                       'poisson'],\n",
              "                         'max_depth': [5, 7], 'max_features': [3, 5],\n",
              "                         'min_samples_leaf': [3, 5], 'n_estimators': [10, 50]})"
            ]
          },
          "metadata": {},
          "execution_count": 21
        }
      ],
      "source": [
        "%%time\n",
        "locally_best_rf = GridSearchCV(rf, rf_params,n_jobs=-1)\n",
        "locally_best_rf.fit(X_train, y_train)"
      ]
    },
    {
      "cell_type": "code",
      "execution_count": 22,
      "metadata": {
        "id": "ddGM9-qMsjNd",
        "outputId": "6c14e5de-dc11-452e-f837-ea90bcf131da",
        "colab": {
          "base_uri": "https://localhost:8080/"
        }
      },
      "outputs": [
        {
          "output_type": "execute_result",
          "data": {
            "text/plain": [
              "({'criterion': 'squared_error',\n",
              "  'max_depth': 7,\n",
              "  'max_features': 5,\n",
              "  'min_samples_leaf': 3,\n",
              "  'n_estimators': 50},\n",
              " 0.38190651014361565)"
            ]
          },
          "metadata": {},
          "execution_count": 22
        }
      ],
      "source": [
        "locally_best_rf.best_params_, locally_best_rf.best_score_\n"
      ]
    },
    {
      "cell_type": "markdown",
      "metadata": {
        "id": "U47n8-yvsjNd"
      },
      "source": [
        "Насамкінець, оцініть важливість всіх ознак налаштованого випадкового лісу."
      ]
    },
    {
      "cell_type": "code",
      "execution_count": 23,
      "metadata": {
        "id": "w3Vyk_6LsjNf",
        "outputId": "4f78bff5-d246-4d79-97f4-5ad7463ccd96",
        "colab": {
          "base_uri": "https://localhost:8080/",
          "height": 394
        }
      },
      "outputs": [
        {
          "output_type": "execute_result",
          "data": {
            "text/plain": [
              "                         coeff\n",
              "density               0.056540\n",
              "citric acid           0.058904\n",
              "sulphates             0.059056\n",
              "fixed acidity         0.061918\n",
              "chlorides             0.063729\n",
              "total sulfur dioxide  0.067204\n",
              "residual sugar        0.070903\n",
              "pH                    0.071950\n",
              "free sulfur dioxide   0.116562\n",
              "volatile acidity      0.125960\n",
              "alcohol               0.247273"
            ],
            "text/html": [
              "\n",
              "  <div id=\"df-e075f9ee-1125-4458-acfe-ee680f2793b9\">\n",
              "    <div class=\"colab-df-container\">\n",
              "      <div>\n",
              "<style scoped>\n",
              "    .dataframe tbody tr th:only-of-type {\n",
              "        vertical-align: middle;\n",
              "    }\n",
              "\n",
              "    .dataframe tbody tr th {\n",
              "        vertical-align: top;\n",
              "    }\n",
              "\n",
              "    .dataframe thead th {\n",
              "        text-align: right;\n",
              "    }\n",
              "</style>\n",
              "<table border=\"1\" class=\"dataframe\">\n",
              "  <thead>\n",
              "    <tr style=\"text-align: right;\">\n",
              "      <th></th>\n",
              "      <th>coeff</th>\n",
              "    </tr>\n",
              "  </thead>\n",
              "  <tbody>\n",
              "    <tr>\n",
              "      <th>density</th>\n",
              "      <td>0.056540</td>\n",
              "    </tr>\n",
              "    <tr>\n",
              "      <th>citric acid</th>\n",
              "      <td>0.058904</td>\n",
              "    </tr>\n",
              "    <tr>\n",
              "      <th>sulphates</th>\n",
              "      <td>0.059056</td>\n",
              "    </tr>\n",
              "    <tr>\n",
              "      <th>fixed acidity</th>\n",
              "      <td>0.061918</td>\n",
              "    </tr>\n",
              "    <tr>\n",
              "      <th>chlorides</th>\n",
              "      <td>0.063729</td>\n",
              "    </tr>\n",
              "    <tr>\n",
              "      <th>total sulfur dioxide</th>\n",
              "      <td>0.067204</td>\n",
              "    </tr>\n",
              "    <tr>\n",
              "      <th>residual sugar</th>\n",
              "      <td>0.070903</td>\n",
              "    </tr>\n",
              "    <tr>\n",
              "      <th>pH</th>\n",
              "      <td>0.071950</td>\n",
              "    </tr>\n",
              "    <tr>\n",
              "      <th>free sulfur dioxide</th>\n",
              "      <td>0.116562</td>\n",
              "    </tr>\n",
              "    <tr>\n",
              "      <th>volatile acidity</th>\n",
              "      <td>0.125960</td>\n",
              "    </tr>\n",
              "    <tr>\n",
              "      <th>alcohol</th>\n",
              "      <td>0.247273</td>\n",
              "    </tr>\n",
              "  </tbody>\n",
              "</table>\n",
              "</div>\n",
              "      <button class=\"colab-df-convert\" onclick=\"convertToInteractive('df-e075f9ee-1125-4458-acfe-ee680f2793b9')\"\n",
              "              title=\"Convert this dataframe to an interactive table.\"\n",
              "              style=\"display:none;\">\n",
              "        \n",
              "  <svg xmlns=\"http://www.w3.org/2000/svg\" height=\"24px\"viewBox=\"0 0 24 24\"\n",
              "       width=\"24px\">\n",
              "    <path d=\"M0 0h24v24H0V0z\" fill=\"none\"/>\n",
              "    <path d=\"M18.56 5.44l.94 2.06.94-2.06 2.06-.94-2.06-.94-.94-2.06-.94 2.06-2.06.94zm-11 1L8.5 8.5l.94-2.06 2.06-.94-2.06-.94L8.5 2.5l-.94 2.06-2.06.94zm10 10l.94 2.06.94-2.06 2.06-.94-2.06-.94-.94-2.06-.94 2.06-2.06.94z\"/><path d=\"M17.41 7.96l-1.37-1.37c-.4-.4-.92-.59-1.43-.59-.52 0-1.04.2-1.43.59L10.3 9.45l-7.72 7.72c-.78.78-.78 2.05 0 2.83L4 21.41c.39.39.9.59 1.41.59.51 0 1.02-.2 1.41-.59l7.78-7.78 2.81-2.81c.8-.78.8-2.07 0-2.86zM5.41 20L4 18.59l7.72-7.72 1.47 1.35L5.41 20z\"/>\n",
              "  </svg>\n",
              "      </button>\n",
              "      \n",
              "  <style>\n",
              "    .colab-df-container {\n",
              "      display:flex;\n",
              "      flex-wrap:wrap;\n",
              "      gap: 12px;\n",
              "    }\n",
              "\n",
              "    .colab-df-convert {\n",
              "      background-color: #E8F0FE;\n",
              "      border: none;\n",
              "      border-radius: 50%;\n",
              "      cursor: pointer;\n",
              "      display: none;\n",
              "      fill: #1967D2;\n",
              "      height: 32px;\n",
              "      padding: 0 0 0 0;\n",
              "      width: 32px;\n",
              "    }\n",
              "\n",
              "    .colab-df-convert:hover {\n",
              "      background-color: #E2EBFA;\n",
              "      box-shadow: 0px 1px 2px rgba(60, 64, 67, 0.3), 0px 1px 3px 1px rgba(60, 64, 67, 0.15);\n",
              "      fill: #174EA6;\n",
              "    }\n",
              "\n",
              "    [theme=dark] .colab-df-convert {\n",
              "      background-color: #3B4455;\n",
              "      fill: #D2E3FC;\n",
              "    }\n",
              "\n",
              "    [theme=dark] .colab-df-convert:hover {\n",
              "      background-color: #434B5C;\n",
              "      box-shadow: 0px 1px 3px 1px rgba(0, 0, 0, 0.15);\n",
              "      filter: drop-shadow(0px 1px 2px rgba(0, 0, 0, 0.3));\n",
              "      fill: #FFFFFF;\n",
              "    }\n",
              "  </style>\n",
              "\n",
              "      <script>\n",
              "        const buttonEl =\n",
              "          document.querySelector('#df-e075f9ee-1125-4458-acfe-ee680f2793b9 button.colab-df-convert');\n",
              "        buttonEl.style.display =\n",
              "          google.colab.kernel.accessAllowed ? 'block' : 'none';\n",
              "\n",
              "        async function convertToInteractive(key) {\n",
              "          const element = document.querySelector('#df-e075f9ee-1125-4458-acfe-ee680f2793b9');\n",
              "          const dataTable =\n",
              "            await google.colab.kernel.invokeFunction('convertToInteractive',\n",
              "                                                     [key], {});\n",
              "          if (!dataTable) return;\n",
              "\n",
              "          const docLinkHtml = 'Like what you see? Visit the ' +\n",
              "            '<a target=\"_blank\" href=https://colab.research.google.com/notebooks/data_table.ipynb>data table notebook</a>'\n",
              "            + ' to learn more about interactive tables.';\n",
              "          element.innerHTML = '';\n",
              "          dataTable['output_type'] = 'display_data';\n",
              "          await google.colab.output.renderOutput(dataTable, element);\n",
              "          const docLink = document.createElement('div');\n",
              "          docLink.innerHTML = docLinkHtml;\n",
              "          element.appendChild(docLink);\n",
              "        }\n",
              "      </script>\n",
              "    </div>\n",
              "  </div>\n",
              "  "
            ]
          },
          "metadata": {},
          "execution_count": 23
        }
      ],
      "source": [
        "\n",
        "rf_importance = pd.DataFrame(rf.feature_importances_, data.columns[:-1], columns = ['coeff'])\n",
        "rf_importance.sort_values(by = 'coeff', ascending = True)"
      ]
    },
    {
      "cell_type": "markdown",
      "metadata": {
        "id": "YTvPmF-esjNf"
      },
      "source": [
        "### <span style=\"color:red; font-size:1.5em;\">Завдання 4</span>\n",
        "\n",
        "\n",
        "**Для варіантів 1-5:**\n",
        "\n",
        "Обрахуйте середньоквадратичні помилки налаштованого випадкового лісу за навчальною та валідаційною вибірками та на крос-валідації (cross_val_score з `scoring='neg_mean_squared_error'`). Скористайтеся знайденими значення параметрів за допомогою GridSearchCV з попереднього кроку.\n",
        "\n",
        "**Для варіантів 6-10:**\n",
        "\n",
        "Яка ознака виявилася найгіршою (з найменшим значенням) для моделі випадкового лісу? \n",
        "\n",
        "**Для варіантів 11-15:**\n",
        "\n",
        "Яка ознака виявилася найкращою (з найбільшим значенням) для моделі випадкового лісу?\n",
        "\n",
        "**Для варіантів 16-20:**\n",
        "\n",
        "Обрахуйте середньоквадратичні помилки налаштованого випадкового лісу за навчальною та валідаційною вибірками та на крос-валідації (cross_val_score з `scoring=neg_mean_squared_log_error'`). Скористайтеся знайденими значення параметрів за допомогою GridSearchCV з попереднього кроку."
      ]
    },
    {
      "cell_type": "markdown",
      "metadata": {
        "id": "SQQdNbSLsjNf"
      },
      "source": []
    },
    {
      "cell_type": "code",
      "source": [
        "rf_importance.sort_values(by = 'coeff', ascending = True).head(1)"
      ],
      "metadata": {
        "id": "8DJDNUpaw32X",
        "outputId": "d2df4484-54d1-4a4d-c73e-29fe2efc76ae",
        "colab": {
          "base_uri": "https://localhost:8080/",
          "height": 81
        }
      },
      "execution_count": 33,
      "outputs": [
        {
          "output_type": "execute_result",
          "data": {
            "text/plain": [
              "           coeff\n",
              "density  0.05654"
            ],
            "text/html": [
              "\n",
              "  <div id=\"df-a73ac640-7a1c-4252-80a1-4a2dd2059f10\">\n",
              "    <div class=\"colab-df-container\">\n",
              "      <div>\n",
              "<style scoped>\n",
              "    .dataframe tbody tr th:only-of-type {\n",
              "        vertical-align: middle;\n",
              "    }\n",
              "\n",
              "    .dataframe tbody tr th {\n",
              "        vertical-align: top;\n",
              "    }\n",
              "\n",
              "    .dataframe thead th {\n",
              "        text-align: right;\n",
              "    }\n",
              "</style>\n",
              "<table border=\"1\" class=\"dataframe\">\n",
              "  <thead>\n",
              "    <tr style=\"text-align: right;\">\n",
              "      <th></th>\n",
              "      <th>coeff</th>\n",
              "    </tr>\n",
              "  </thead>\n",
              "  <tbody>\n",
              "    <tr>\n",
              "      <th>density</th>\n",
              "      <td>0.05654</td>\n",
              "    </tr>\n",
              "  </tbody>\n",
              "</table>\n",
              "</div>\n",
              "      <button class=\"colab-df-convert\" onclick=\"convertToInteractive('df-a73ac640-7a1c-4252-80a1-4a2dd2059f10')\"\n",
              "              title=\"Convert this dataframe to an interactive table.\"\n",
              "              style=\"display:none;\">\n",
              "        \n",
              "  <svg xmlns=\"http://www.w3.org/2000/svg\" height=\"24px\"viewBox=\"0 0 24 24\"\n",
              "       width=\"24px\">\n",
              "    <path d=\"M0 0h24v24H0V0z\" fill=\"none\"/>\n",
              "    <path d=\"M18.56 5.44l.94 2.06.94-2.06 2.06-.94-2.06-.94-.94-2.06-.94 2.06-2.06.94zm-11 1L8.5 8.5l.94-2.06 2.06-.94-2.06-.94L8.5 2.5l-.94 2.06-2.06.94zm10 10l.94 2.06.94-2.06 2.06-.94-2.06-.94-.94-2.06-.94 2.06-2.06.94z\"/><path d=\"M17.41 7.96l-1.37-1.37c-.4-.4-.92-.59-1.43-.59-.52 0-1.04.2-1.43.59L10.3 9.45l-7.72 7.72c-.78.78-.78 2.05 0 2.83L4 21.41c.39.39.9.59 1.41.59.51 0 1.02-.2 1.41-.59l7.78-7.78 2.81-2.81c.8-.78.8-2.07 0-2.86zM5.41 20L4 18.59l7.72-7.72 1.47 1.35L5.41 20z\"/>\n",
              "  </svg>\n",
              "      </button>\n",
              "      \n",
              "  <style>\n",
              "    .colab-df-container {\n",
              "      display:flex;\n",
              "      flex-wrap:wrap;\n",
              "      gap: 12px;\n",
              "    }\n",
              "\n",
              "    .colab-df-convert {\n",
              "      background-color: #E8F0FE;\n",
              "      border: none;\n",
              "      border-radius: 50%;\n",
              "      cursor: pointer;\n",
              "      display: none;\n",
              "      fill: #1967D2;\n",
              "      height: 32px;\n",
              "      padding: 0 0 0 0;\n",
              "      width: 32px;\n",
              "    }\n",
              "\n",
              "    .colab-df-convert:hover {\n",
              "      background-color: #E2EBFA;\n",
              "      box-shadow: 0px 1px 2px rgba(60, 64, 67, 0.3), 0px 1px 3px 1px rgba(60, 64, 67, 0.15);\n",
              "      fill: #174EA6;\n",
              "    }\n",
              "\n",
              "    [theme=dark] .colab-df-convert {\n",
              "      background-color: #3B4455;\n",
              "      fill: #D2E3FC;\n",
              "    }\n",
              "\n",
              "    [theme=dark] .colab-df-convert:hover {\n",
              "      background-color: #434B5C;\n",
              "      box-shadow: 0px 1px 3px 1px rgba(0, 0, 0, 0.15);\n",
              "      filter: drop-shadow(0px 1px 2px rgba(0, 0, 0, 0.3));\n",
              "      fill: #FFFFFF;\n",
              "    }\n",
              "  </style>\n",
              "\n",
              "      <script>\n",
              "        const buttonEl =\n",
              "          document.querySelector('#df-a73ac640-7a1c-4252-80a1-4a2dd2059f10 button.colab-df-convert');\n",
              "        buttonEl.style.display =\n",
              "          google.colab.kernel.accessAllowed ? 'block' : 'none';\n",
              "\n",
              "        async function convertToInteractive(key) {\n",
              "          const element = document.querySelector('#df-a73ac640-7a1c-4252-80a1-4a2dd2059f10');\n",
              "          const dataTable =\n",
              "            await google.colab.kernel.invokeFunction('convertToInteractive',\n",
              "                                                     [key], {});\n",
              "          if (!dataTable) return;\n",
              "\n",
              "          const docLinkHtml = 'Like what you see? Visit the ' +\n",
              "            '<a target=\"_blank\" href=https://colab.research.google.com/notebooks/data_table.ipynb>data table notebook</a>'\n",
              "            + ' to learn more about interactive tables.';\n",
              "          element.innerHTML = '';\n",
              "          dataTable['output_type'] = 'display_data';\n",
              "          await google.colab.output.renderOutput(dataTable, element);\n",
              "          const docLink = document.createElement('div');\n",
              "          docLink.innerHTML = docLinkHtml;\n",
              "          element.appendChild(docLink);\n",
              "        }\n",
              "      </script>\n",
              "    </div>\n",
              "  </div>\n",
              "  "
            ]
          },
          "metadata": {},
          "execution_count": 33
        }
      ]
    },
    {
      "cell_type": "markdown",
      "metadata": {
        "id": "6-Ro64e7sjNf"
      },
      "source": [
        "## <span style=\"color:blue; font-size:1.2em;\">6.5. Порівняння моделей</span>\n",
        "\n",
        "[Повернутися до змісту](#lab-6)"
      ]
    },
    {
      "cell_type": "markdown",
      "metadata": {
        "id": "wdXjeOugsjNf"
      },
      "source": [
        "### <span style=\"color:red; font-size:1.5em;\">Завдання 5</span>\n",
        "\n",
        "**Для всіх варіантів:**\n",
        "\n",
        "Зробіть висновки щодо якості побудованих моделей: лінійна регресія, LASSO-регресія та випадковий ліс. Охорайтеризуйте знайдені оцінки впливу ознак на якість вина."
      ]
    },
    {
      "cell_type": "markdown",
      "source": [
        "Висновки:\n",
        "  Середньоквадратичні помилки моделі лінійної регресії та LASSO-регресії майже однакові: навчальна вибірка (0.558 і 0.564), тестова вибірка (0.584 і 0.574).\n",
        "З цього можна робити висновки, щодо якості побудованих моделей.\n",
        "  В свою чергу випадковий ліс має значно менші середньоквадратичні помилки відносно своїх конкурентів на обох вибірках: навчальна вибірка (0.053) та тестова вибірка (0.371).\n",
        "\n",
        "Щодо ознак, що впливали на якість вина:\n",
        "*   У лінійної регресії найбільше впливало - residual sugar, а наймешне - density.\n",
        "*   У LASSO-регресії найбільше впливало - alcohol, а наймешне - density.\n",
        "*   У випадкового лісу найбільше впливало - alcohol, а наймешне - density."
      ],
      "metadata": {
        "id": "dite83bCvsab"
      }
    }
  ],
  "metadata": {
    "anaconda-cloud": {},
    "kernelspec": {
      "display_name": "Python 3 (ipykernel)",
      "language": "python",
      "name": "python3"
    },
    "language_info": {
      "codemirror_mode": {
        "name": "ipython",
        "version": 3
      },
      "file_extension": ".py",
      "mimetype": "text/x-python",
      "name": "python",
      "nbconvert_exporter": "python",
      "pygments_lexer": "ipython3",
      "version": "3.9.13"
    },
    "name": "lesson8_part1_kmeans.ipynb",
    "colab": {
      "provenance": []
    }
  },
  "nbformat": 4,
  "nbformat_minor": 0
}