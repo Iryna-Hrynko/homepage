{
 "cells": [
  {
   "cell_type": "code",
   "execution_count": 16,
   "id": "b9577dee",
   "metadata": {},
   "outputs": [],
   "source": [
    "import warnings\n",
    "warnings.filterwarnings('ignore')\n",
    "\n",
    "import numpy as np\n",
    "import pandas as pd\n",
    "\n",
    "%matplotlib inline\n",
    "from matplotlib import pyplot as plt\n",
    "import seaborn as sns\n",
    "\n",
    "from sklearn.preprocessing import LabelEncoder\n",
    "import collections\n",
    "from sklearn.model_selection import GridSearchCV\n",
    "from sklearn import preprocessing\n",
    "from sklearn.tree import DecisionTreeClassifier, export_graphviz\n",
    "from sklearn.ensemble import RandomForestClassifier\n",
    "from sklearn.metrics import accuracy_score\n",
    "\n",
    "from sklearn.tree import DecisionTreeClassifier\n",
    "\n",
    "from ipywidgets import Image\n",
    "from io import StringIO\n",
    "import pydotplus\n",
    "from sklearn.tree import export_graphviz\n",
    "\n",
    "import math as m\n",
    "import collections as coll"
   ]
  },
  {
   "cell_type": "code",
   "execution_count": 17,
   "id": "6a7384ef",
   "metadata": {},
   "outputs": [],
   "source": [
    "# задамо графіки у форматі .svg, щоби вони мали кращу чіткість\n",
    "%config InlineBackend.figure_format = 'svg' \n",
    "\n",
    "# підвищимо розмір графіків за замовчуванням\n",
    "plt.style.use('ggplot')\n",
    "plt.rcParams['figure.figsize'] = 7, 5"
   ]
  },
  {
   "cell_type": "code",
   "execution_count": 18,
   "id": "d371600a",
   "metadata": {},
   "outputs": [],
   "source": [
    "# Створення датафрейму з dummy variables\n",
    "def create_df(dic, feature_list):\n",
    "    out = pd.DataFrame(dic)\n",
    "    out = pd.concat([out, pd.get_dummies(out[feature_list])], axis = 1)\n",
    "    out.drop(feature_list, axis = 1, inplace = True)\n",
    "    return out\n",
    "\n",
    "# Деякі значення ознак є в тестовій підвибірці, але немає в навчальній і навпаки\n",
    "def intersect_features(train, test):\n",
    "    common_feat = list( set(train.keys()) & set(test.keys()))\n",
    "    return train[common_feat], test[common_feat]\n"
   ]
  },
  {
   "cell_type": "code",
   "execution_count": 19,
   "id": "fff8c0a6",
   "metadata": {},
   "outputs": [],
   "source": [
    "\n",
    "features = ['Зовнішність', 'Алкоголь_в_напої',\n",
    "            'Рівень_харизми', 'Витрачені_гроші']\n"
   ]
  },
  {
   "cell_type": "code",
   "execution_count": 20,
   "id": "28cd00b4",
   "metadata": {},
   "outputs": [
    {
     "data": {
      "text/html": [
       "<div>\n",
       "<style scoped>\n",
       "    .dataframe tbody tr th:only-of-type {\n",
       "        vertical-align: middle;\n",
       "    }\n",
       "\n",
       "    .dataframe tbody tr th {\n",
       "        vertical-align: top;\n",
       "    }\n",
       "\n",
       "    .dataframe thead th {\n",
       "        text-align: right;\n",
       "    }\n",
       "</style>\n",
       "<table border=\"1\" class=\"dataframe\">\n",
       "  <thead>\n",
       "    <tr style=\"text-align: right;\">\n",
       "      <th></th>\n",
       "      <th>Поїде</th>\n",
       "      <th>Зовнішність_відштовхуюча</th>\n",
       "      <th>Зовнішність_приємна</th>\n",
       "      <th>Алкоголь_в_напої_ні</th>\n",
       "      <th>Алкоголь_в_напої_так</th>\n",
       "      <th>Рівень_харизми_високий</th>\n",
       "      <th>Рівень_харизми_низький</th>\n",
       "      <th>Рівень_харизми_середній</th>\n",
       "      <th>Витрачені_гроші_багато</th>\n",
       "      <th>Витрачені_гроші_мало</th>\n",
       "    </tr>\n",
       "  </thead>\n",
       "  <tbody>\n",
       "    <tr>\n",
       "      <th>0</th>\n",
       "      <td>0</td>\n",
       "      <td>0</td>\n",
       "      <td>1</td>\n",
       "      <td>0</td>\n",
       "      <td>1</td>\n",
       "      <td>1</td>\n",
       "      <td>0</td>\n",
       "      <td>0</td>\n",
       "      <td>1</td>\n",
       "      <td>0</td>\n",
       "    </tr>\n",
       "    <tr>\n",
       "      <th>1</th>\n",
       "      <td>1</td>\n",
       "      <td>0</td>\n",
       "      <td>1</td>\n",
       "      <td>0</td>\n",
       "      <td>1</td>\n",
       "      <td>0</td>\n",
       "      <td>1</td>\n",
       "      <td>0</td>\n",
       "      <td>0</td>\n",
       "      <td>1</td>\n",
       "    </tr>\n",
       "    <tr>\n",
       "      <th>2</th>\n",
       "      <td>0</td>\n",
       "      <td>0</td>\n",
       "      <td>1</td>\n",
       "      <td>1</td>\n",
       "      <td>0</td>\n",
       "      <td>0</td>\n",
       "      <td>0</td>\n",
       "      <td>1</td>\n",
       "      <td>1</td>\n",
       "      <td>0</td>\n",
       "    </tr>\n",
       "    <tr>\n",
       "      <th>3</th>\n",
       "      <td>1</td>\n",
       "      <td>1</td>\n",
       "      <td>0</td>\n",
       "      <td>1</td>\n",
       "      <td>0</td>\n",
       "      <td>0</td>\n",
       "      <td>0</td>\n",
       "      <td>1</td>\n",
       "      <td>0</td>\n",
       "      <td>1</td>\n",
       "    </tr>\n",
       "    <tr>\n",
       "      <th>4</th>\n",
       "      <td>1</td>\n",
       "      <td>1</td>\n",
       "      <td>0</td>\n",
       "      <td>0</td>\n",
       "      <td>1</td>\n",
       "      <td>0</td>\n",
       "      <td>1</td>\n",
       "      <td>0</td>\n",
       "      <td>1</td>\n",
       "      <td>0</td>\n",
       "    </tr>\n",
       "    <tr>\n",
       "      <th>5</th>\n",
       "      <td>0</td>\n",
       "      <td>1</td>\n",
       "      <td>0</td>\n",
       "      <td>0</td>\n",
       "      <td>1</td>\n",
       "      <td>1</td>\n",
       "      <td>0</td>\n",
       "      <td>0</td>\n",
       "      <td>1</td>\n",
       "      <td>0</td>\n",
       "    </tr>\n",
       "    <tr>\n",
       "      <th>6</th>\n",
       "      <td>0</td>\n",
       "      <td>0</td>\n",
       "      <td>1</td>\n",
       "      <td>0</td>\n",
       "      <td>1</td>\n",
       "      <td>0</td>\n",
       "      <td>0</td>\n",
       "      <td>1</td>\n",
       "      <td>1</td>\n",
       "      <td>0</td>\n",
       "    </tr>\n",
       "  </tbody>\n",
       "</table>\n",
       "</div>"
      ],
      "text/plain": [
       "   Поїде  Зовнішність_відштовхуюча  Зовнішність_приємна  Алкоголь_в_напої_ні  \\\n",
       "0      0                         0                    1                    0   \n",
       "1      1                         0                    1                    0   \n",
       "2      0                         0                    1                    1   \n",
       "3      1                         1                    0                    1   \n",
       "4      1                         1                    0                    0   \n",
       "5      0                         1                    0                    0   \n",
       "6      0                         0                    1                    0   \n",
       "\n",
       "   Алкоголь_в_напої_так  Рівень_харизми_високий  Рівень_харизми_низький  \\\n",
       "0                     1                       1                       0   \n",
       "1                     1                       0                       1   \n",
       "2                     0                       0                       0   \n",
       "3                     0                       0                       0   \n",
       "4                     1                       0                       1   \n",
       "5                     1                       1                       0   \n",
       "6                     1                       0                       0   \n",
       "\n",
       "   Рівень_харизми_середній  Витрачені_гроші_багато  Витрачені_гроші_мало  \n",
       "0                        0                       1                     0  \n",
       "1                        0                       0                     1  \n",
       "2                        1                       1                     0  \n",
       "3                        1                       0                     1  \n",
       "4                        0                       1                     0  \n",
       "5                        0                       1                     0  \n",
       "6                        1                       1                     0  "
      ]
     },
     "execution_count": 20,
     "metadata": {},
     "output_type": "execute_result"
    }
   ],
   "source": [
    "\n",
    "df_train = {}\n",
    "df_train['Зовнішність'] = ['приємна', 'приємна', 'приємна', 'відштовхуюча',\n",
    "                         'відштовхуюча', 'відштовхуюча', 'приємна'] \n",
    "df_train['Алкоголь_в_напої'] = ['так', 'так', 'ні', 'ні', 'так', 'так', 'так']\n",
    "df_train['Рівень_харизми'] = ['високий', 'низький', 'середній', 'середній', 'низький',\n",
    "                                   'високий', 'середній']\n",
    "df_train['Витрачені_гроші'] = ['багато', 'мало', 'багато', 'мало', 'багато',\n",
    "                                  'багато', 'багато']\n",
    "df_train['Поїде'] = LabelEncoder().fit_transform(['+', '-', '+', '-', '-', '+', '+'])\n",
    "\n",
    "df_train = create_df(df_train, features)\n",
    "df_train"
   ]
  },
  {
   "cell_type": "code",
   "execution_count": 21,
   "id": "6b741d75",
   "metadata": {},
   "outputs": [
    {
     "data": {
      "text/plain": [
       "0.9182958340544896"
      ]
     },
     "execution_count": 21,
     "metadata": {},
     "output_type": "execute_result"
    }
   ],
   "source": [
    "willride = df_train[(df_train['Поїде'] == 1) & (df_train['Зовнішність_приємна'] == 0)]['Поїде'].count()\n",
    "cases = df_train[df_train['Зовнішність_приємна'] == 0]['Поїде'].count()\n",
    "wontride = cases - willride\n",
    "\n",
    "S2 = -(willride / cases) * m.log((willride / cases), 2) - (wontride / cases) * m.log((wontride / cases), 2)\n",
    "S2"
   ]
  },
  {
   "cell_type": "code",
   "execution_count": null,
   "id": "e8256706",
   "metadata": {},
   "outputs": [],
   "source": []
  },
  {
   "cell_type": "code",
   "execution_count": 22,
   "id": "9ff1f019",
   "metadata": {},
   "outputs": [
    {
     "name": "stdout",
     "output_type": "stream",
     "text": [
      "0.9927744539878084\n"
     ]
    }
   ],
   "source": [
    "def entropy(a_list):\n",
    "    \n",
    "    numOfElements = len(a_list)\n",
    "    elements = coll.Counter([el for el in a_list])\n",
    "\n",
    "    entropy = 0\n",
    "\n",
    "    for elm in elements:\n",
    "      ni = elements[elm]\n",
    "      pi = ni / numOfElements\n",
    "      entropy += pi * (m.log(pi, 2))\n",
    "\n",
    "    return entropy * -1\n",
    "\n",
    "balls = [1 for i in range(9)] + [0 for i in range(11)]\n",
    "\n",
    "balls_left  = [1 for i in range(8)] + [0 for i in range(5)] # 8 синіх і 5 жовтих\n",
    "balls_right = [1 for i in range(1)] + [0 for i in range(6)] # 1 синя і 6 жовтих\n",
    "\n",
    "print(entropy(balls)) # 9 синіх і 11 жовтих"
   ]
  },
  {
   "cell_type": "code",
   "execution_count": 23,
   "id": "420cd610",
   "metadata": {},
   "outputs": [
    {
     "data": {
      "text/plain": [
       "0.16088518841412436"
      ]
     },
     "execution_count": 23,
     "metadata": {},
     "output_type": "execute_result"
    }
   ],
   "source": [
    "def information_gain(root, left, right):\n",
    "  N = len(root)\n",
    "  Ni1 = len(left)\n",
    "  Ni2 = len(right)\n",
    "\n",
    "  return entropy(root) - Ni1 / N * entropy(left) - Ni2 / N * entropy(right)\n",
    "\n",
    "information_gain(balls, balls_left, balls_right)"
   ]
  },
  {
   "cell_type": "code",
   "execution_count": 24,
   "id": "0ecbd7bc",
   "metadata": {
    "scrolled": true
   },
   "outputs": [
    {
     "data": {
      "application/vnd.jupyter.widget-view+json": {
       "model_id": "97bd73b6bd9d4df4a444dfe5f09a2371",
       "version_major": 2,
       "version_minor": 0
      },
      "text/plain": [
       "Image(value=b'\\x89PNG\\r\\n\\x1a\\n\\x00\\x00\\x00\\rIHDR\\x00\\x00\\x05\\xd7\\x00\\x00\\x01\\xf1\\x08\\x02\\x00\\x00\\x00\\x00\\xca\\…"
      ]
     },
     "metadata": {},
     "output_type": "display_data"
    }
   ],
   "source": [
    "data_train_url = 'https://raw.githubusercontent.com/radiukpavlo/intelligent-data-analysis/main/02_assignments/ida_lab-03_classification/adult_train.csv'\n",
    "data_train = pd.read_csv(data_train_url, sep=';')\n",
    "\n",
    "data_train.tail()\n",
    "\n",
    "\n",
    "\n",
    "tree = DecisionTreeClassifier(criterion='entropy', max_depth=3, random_state=17)\n",
    "\n",
    "tree.fit(X_train, Y_train.values)\n",
    "\n",
    "dot_data = StringIO()\n",
    "export_graphviz(tree, feature_names=X_train.columns, \n",
    "                out_file=dot_data, filled=True)\n",
    "graph = pydotplus.graph_from_dot_data(dot_data.getvalue())\n",
    "Image(value=graph.create_png())\n",
    "\n"
   ]
  },
  {
   "cell_type": "code",
   "execution_count": 11,
   "id": "82e4d921",
   "metadata": {},
   "outputs": [
    {
     "data": {
      "text/html": [
       "<div>\n",
       "<style scoped>\n",
       "    .dataframe tbody tr th:only-of-type {\n",
       "        vertical-align: middle;\n",
       "    }\n",
       "\n",
       "    .dataframe tbody tr th {\n",
       "        vertical-align: top;\n",
       "    }\n",
       "\n",
       "    .dataframe thead th {\n",
       "        text-align: right;\n",
       "    }\n",
       "</style>\n",
       "<table border=\"1\" class=\"dataframe\">\n",
       "  <thead>\n",
       "    <tr style=\"text-align: right;\">\n",
       "      <th></th>\n",
       "      <th>Age</th>\n",
       "      <th>Workclass</th>\n",
       "      <th>fnlwgt</th>\n",
       "      <th>Education</th>\n",
       "      <th>Education_Num</th>\n",
       "      <th>Martial_Status</th>\n",
       "      <th>Occupation</th>\n",
       "      <th>Relationship</th>\n",
       "      <th>Race</th>\n",
       "      <th>Sex</th>\n",
       "      <th>Capital_Gain</th>\n",
       "      <th>Capital_Loss</th>\n",
       "      <th>Hours_per_week</th>\n",
       "      <th>Country</th>\n",
       "      <th>Target</th>\n",
       "    </tr>\n",
       "  </thead>\n",
       "  <tbody>\n",
       "    <tr>\n",
       "      <th>16277</th>\n",
       "      <td>39</td>\n",
       "      <td>Private</td>\n",
       "      <td>215419.0</td>\n",
       "      <td>Bachelors</td>\n",
       "      <td>13.0</td>\n",
       "      <td>Divorced</td>\n",
       "      <td>Prof-specialty</td>\n",
       "      <td>Not-in-family</td>\n",
       "      <td>White</td>\n",
       "      <td>Female</td>\n",
       "      <td>0.0</td>\n",
       "      <td>0.0</td>\n",
       "      <td>36.0</td>\n",
       "      <td>United-States</td>\n",
       "      <td>&lt;=50K.</td>\n",
       "    </tr>\n",
       "    <tr>\n",
       "      <th>16278</th>\n",
       "      <td>64</td>\n",
       "      <td>NaN</td>\n",
       "      <td>321403.0</td>\n",
       "      <td>HS-grad</td>\n",
       "      <td>9.0</td>\n",
       "      <td>Widowed</td>\n",
       "      <td>NaN</td>\n",
       "      <td>Other-relative</td>\n",
       "      <td>Black</td>\n",
       "      <td>Male</td>\n",
       "      <td>0.0</td>\n",
       "      <td>0.0</td>\n",
       "      <td>40.0</td>\n",
       "      <td>United-States</td>\n",
       "      <td>&lt;=50K.</td>\n",
       "    </tr>\n",
       "    <tr>\n",
       "      <th>16279</th>\n",
       "      <td>38</td>\n",
       "      <td>Private</td>\n",
       "      <td>374983.0</td>\n",
       "      <td>Bachelors</td>\n",
       "      <td>13.0</td>\n",
       "      <td>Married-civ-spouse</td>\n",
       "      <td>Prof-specialty</td>\n",
       "      <td>Husband</td>\n",
       "      <td>White</td>\n",
       "      <td>Male</td>\n",
       "      <td>0.0</td>\n",
       "      <td>0.0</td>\n",
       "      <td>50.0</td>\n",
       "      <td>United-States</td>\n",
       "      <td>&lt;=50K.</td>\n",
       "    </tr>\n",
       "    <tr>\n",
       "      <th>16280</th>\n",
       "      <td>44</td>\n",
       "      <td>Private</td>\n",
       "      <td>83891.0</td>\n",
       "      <td>Bachelors</td>\n",
       "      <td>13.0</td>\n",
       "      <td>Divorced</td>\n",
       "      <td>Adm-clerical</td>\n",
       "      <td>Own-child</td>\n",
       "      <td>Asian-Pac-Islander</td>\n",
       "      <td>Male</td>\n",
       "      <td>5455.0</td>\n",
       "      <td>0.0</td>\n",
       "      <td>40.0</td>\n",
       "      <td>United-States</td>\n",
       "      <td>&lt;=50K.</td>\n",
       "    </tr>\n",
       "    <tr>\n",
       "      <th>16281</th>\n",
       "      <td>35</td>\n",
       "      <td>Self-emp-inc</td>\n",
       "      <td>182148.0</td>\n",
       "      <td>Bachelors</td>\n",
       "      <td>13.0</td>\n",
       "      <td>Married-civ-spouse</td>\n",
       "      <td>Exec-managerial</td>\n",
       "      <td>Husband</td>\n",
       "      <td>White</td>\n",
       "      <td>Male</td>\n",
       "      <td>0.0</td>\n",
       "      <td>0.0</td>\n",
       "      <td>60.0</td>\n",
       "      <td>United-States</td>\n",
       "      <td>&gt;50K.</td>\n",
       "    </tr>\n",
       "  </tbody>\n",
       "</table>\n",
       "</div>"
      ],
      "text/plain": [
       "      Age      Workclass    fnlwgt   Education  Education_Num  \\\n",
       "16277  39        Private  215419.0   Bachelors           13.0   \n",
       "16278  64            NaN  321403.0     HS-grad            9.0   \n",
       "16279  38        Private  374983.0   Bachelors           13.0   \n",
       "16280  44        Private   83891.0   Bachelors           13.0   \n",
       "16281  35   Self-emp-inc  182148.0   Bachelors           13.0   \n",
       "\n",
       "            Martial_Status        Occupation     Relationship  \\\n",
       "16277             Divorced    Prof-specialty    Not-in-family   \n",
       "16278              Widowed               NaN   Other-relative   \n",
       "16279   Married-civ-spouse    Prof-specialty          Husband   \n",
       "16280             Divorced      Adm-clerical        Own-child   \n",
       "16281   Married-civ-spouse   Exec-managerial          Husband   \n",
       "\n",
       "                      Race      Sex  Capital_Gain  Capital_Loss  \\\n",
       "16277                White   Female           0.0           0.0   \n",
       "16278                Black     Male           0.0           0.0   \n",
       "16279                White     Male           0.0           0.0   \n",
       "16280   Asian-Pac-Islander     Male        5455.0           0.0   \n",
       "16281                White     Male           0.0           0.0   \n",
       "\n",
       "       Hours_per_week         Country   Target  \n",
       "16277            36.0   United-States   <=50K.  \n",
       "16278            40.0   United-States   <=50K.  \n",
       "16279            50.0   United-States   <=50K.  \n",
       "16280            40.0   United-States   <=50K.  \n",
       "16281            60.0   United-States    >50K.  "
      ]
     },
     "execution_count": 11,
     "metadata": {},
     "output_type": "execute_result"
    }
   ],
   "source": [
    "data_test_url = 'https://raw.githubusercontent.com/radiukpavlo/intelligent-data-analysis/main/02_assignments/ida_lab-03_classification/adult_test.csv'\n",
    "data_test = pd.read_csv(data_test_url, sep=';')\n",
    "\n",
    "\n",
    "\n",
    "data_test.tail()"
   ]
  },
  {
   "cell_type": "code",
   "execution_count": 13,
   "id": "24530f25",
   "metadata": {},
   "outputs": [],
   "source": [
    "data_test = data_test[(data_test['Target'] == ' >50K.') \n",
    "                      | (data_test['Target']==' <=50K.')]\n",
    "# перекодуємо target в числове поле\n",
    "data_train.loc[data_train['Target'] == ' <=50K', 'Target'] = 0\n",
    "data_train.loc[data_train['Target'] == ' >50K', 'Target'] = 1\n",
    "\n",
    "data_test.loc[data_test['Target'] == ' <=50K.', 'Target'] = 0\n",
    "data_test.loc[data_test['Target'] == ' >50K.', 'Target'] = 1\n"
   ]
  },
  {
   "cell_type": "code",
   "execution_count": 14,
   "id": "6b8b9021",
   "metadata": {},
   "outputs": [],
   "source": [
    "data_test['Age'] = data_test['Age'].astype(int)\n",
    "data_test['fnlwgt'] = data_test['fnlwgt'].astype(int)\n",
    "data_test['Education_Num'] = data_test['Education_Num'].astype(int)\n",
    "data_test['Capital_Gain'] = data_test['Capital_Gain'].astype(int)\n",
    "data_test['Capital_Loss'] = data_test['Capital_Loss'].astype(int)\n",
    "data_test['Hours_per_week'] = data_test['Hours_per_week'].astype(int)\n",
    "\n",
    "categorical_columns_train = [c for c in data_train.columns \n",
    "                             if data_train[c].dtype.name == 'object']\n",
    "numerical_columns_train = [c for c in data_train.columns \n",
    "                           if data_train[c].dtype.name != 'object']\n",
    "\n",
    "categorical_columns_test = [c for c in data_test.columns \n",
    "                            if data_test[c].dtype.name == 'object']\n",
    "numerical_columns_test = [c for c in data_test.columns \n",
    "                          if data_test[c].dtype.name != 'object']\n",
    "\n",
    "for c in categorical_columns_train:\n",
    "    data_train[c] = data_train[c].fillna(data_train[c].mode())\n",
    "for c in categorical_columns_test:\n",
    "    data_test[c] = data_test[c].fillna(data_train[c].mode())\n",
    "    \n",
    "for c in numerical_columns_train:\n",
    "    data_train[c] = data_train[c].fillna(data_train[c].median())\n",
    "for c in numerical_columns_test:\n",
    "    data_test[c] = data_test[c].fillna(data_train[c].median())\n",
    "\n",
    "data_train = pd.concat([data_train, pd.get_dummies(data_train['Workclass'], \n",
    "                                                   prefix=\"Workclass\"),\n",
    "                      pd.get_dummies(data_train['Education'], prefix=\"Education\"),\n",
    "                      pd.get_dummies(data_train['Martial_Status'], prefix=\"Martial_Status\"),\n",
    "                      pd.get_dummies(data_train['Occupation'], prefix=\"Occupation\"),\n",
    "                      pd.get_dummies(data_train['Relationship'], prefix=\"Relationship\"),\n",
    "                      pd.get_dummies(data_train['Race'], prefix=\"Race\"),\n",
    "                      pd.get_dummies(data_train['Sex'], prefix=\"Sex\"),\n",
    "                      pd.get_dummies(data_train['Country'], prefix=\"Country\")],\n",
    "                     axis=1)\n",
    "\n",
    "data_test = pd.concat([data_test, pd.get_dummies(data_test['Workclass'], prefix=\"Workclass\"),\n",
    "                      pd.get_dummies(data_test['Education'], prefix=\"Education\"),\n",
    "                      pd.get_dummies(data_test['Martial_Status'], prefix=\"Martial_Status\"),\n",
    "                      pd.get_dummies(data_test['Occupation'], prefix=\"Occupation\"),\n",
    "                      pd.get_dummies(data_test['Relationship'], prefix=\"Relationship\"),\n",
    "                      pd.get_dummies(data_test['Race'], prefix=\"Race\"),\n",
    "                      pd.get_dummies(data_test['Sex'], prefix=\"Sex\"),\n",
    "                      pd.get_dummies(data_test['Country'], prefix=\"Country\")],\n",
    "                     axis=1)\n",
    "\n",
    "data_train.drop(['Workclass', 'Education', 'Martial_Status',\n",
    "                 'Occupation', 'Relationship', 'Race', 'Sex', 'Country'],\n",
    "                axis=1, inplace=True)\n",
    "data_test.drop(['Workclass', 'Education', 'Martial_Status', 'Occupation', \n",
    "                'Relationship', 'Race', 'Sex', 'Country'],\n",
    "               axis=1, inplace=True)\n",
    "\n",
    "data_test['Country_ Holand-Netherlands'] = np.zeros([data_test.shape[0], 1])\n",
    "\n",
    "X_train=data_train.drop(['Target'], axis=1)\n",
    "Y_train = data_train['Target']\n",
    "\n",
    "X_test=data_test.drop(['Target'], axis=1)\n",
    "Y_test = data_test['Target']"
   ]
  },
  {
   "cell_type": "code",
   "execution_count": 25,
   "id": "f6e7934c",
   "metadata": {},
   "outputs": [
    {
     "data": {
      "application/vnd.jupyter.widget-view+json": {
       "model_id": "0118e82db8e5470094fac32a18df7316",
       "version_major": 2,
       "version_minor": 0
      },
      "text/plain": [
       "Image(value=b'\\x89PNG\\r\\n\\x1a\\n\\x00\\x00\\x00\\rIHDR\\x00\\x00\\x034\\x00\\x00\\x01g\\x08\\x06\\x00\\x00\\x00p\\xf7\\x0c\\x07\\x…"
      ]
     },
     "metadata": {},
     "output_type": "display_data"
    }
   ],
   "source": [
    "\n",
    "tree = DecisionTreeClassifier(criterion='entropy', max_depth=2, random_state=16)\n",
    "\n",
    "tree.fit(X_train, Y_train.values)\n",
    "\n",
    "dot_data = StringIO()\n",
    "export_graphviz(tree, feature_names=X_train.columns, \n",
    "                out_file=dot_data, filled=True)\n",
    "graph = pydotplus.graph_from_dot_data(dot_data.getvalue())\n",
    "Image(value=graph.create_png())"
   ]
  },
  {
   "cell_type": "code",
   "execution_count": 26,
   "id": "4dec4a85",
   "metadata": {},
   "outputs": [
    {
     "data": {
      "text/plain": [
       "83.06615072784227"
      ]
     },
     "execution_count": 26,
     "metadata": {},
     "output_type": "execute_result"
    }
   ],
   "source": [
    "treePredictions = tree.predict(X_test)\n",
    "\n",
    "right = 0\n",
    "i = 0\n",
    "\n",
    "for v in Y_test:\n",
    "  if v == treePredictions[i]:\n",
    "    right += 1\n",
    "  i += 1\n",
    "\n",
    "right * 100 / len(treePredictions)"
   ]
  },
  {
   "cell_type": "code",
   "execution_count": 27,
   "id": "50bc84bb",
   "metadata": {},
   "outputs": [
    {
     "data": {
      "text/plain": [
       "84.47884036607088"
      ]
     },
     "execution_count": 27,
     "metadata": {},
     "output_type": "execute_result"
    }
   ],
   "source": [
    "newTree = DecisionTreeClassifier(criterion='entropy', max_depth=3, random_state=17)\n",
    "\n",
    "newTree.fit(X_train, Y_train.values)\n",
    "newTreePredictions = newTree.predict(X_test)\n",
    "\n",
    "right = 0\n",
    "i = 0\n",
    "\n",
    "for v in Y_test:\n",
    "  if v == newTreePredictions[i]:\n",
    "    right += 1\n",
    "  i += 1\n",
    "\n",
    "right * 100 / len(newTreePredictions)"
   ]
  },
  {
   "cell_type": "code",
   "execution_count": 28,
   "id": "2d2336ac",
   "metadata": {},
   "outputs": [
    {
     "name": "stdout",
     "output_type": "stream",
     "text": [
      "Best params: {'criterion': 'entropy', 'max_depth': 8, 'random_state': 17}\n",
      "Best cross validaton score 0.8551643217062379\n"
     ]
    }
   ],
   "source": [
    "from sklearn.tree import DecisionTreeClassifier\n",
    "from sklearn.model_selection import GridSearchCV\n",
    "\n",
    "tree_params = {'criterion':['entropy'], 'max_depth':[2, 3, 4, 5, 6, 7, 8, 9, 10],  'random_state': [17]}\n",
    "\n",
    "locally_best_tree = GridSearchCV(DecisionTreeClassifier(), tree_params, cv = 5)                  \n",
    "\n",
    "locally_best_tree.fit(X_train, Y_train.values)\n",
    "\n",
    "print(\"Best params:\", locally_best_tree.best_params_)\n",
    "print(\"Best cross validaton score\", locally_best_tree.best_score_)"
   ]
  },
  {
   "cell_type": "code",
   "execution_count": 29,
   "id": "413c2830",
   "metadata": {},
   "outputs": [
    {
     "data": {
      "text/plain": [
       "85.98323147323485"
      ]
     },
     "execution_count": 29,
     "metadata": {},
     "output_type": "execute_result"
    }
   ],
   "source": [
    "tree = DecisionTreeClassifier(criterion='entropy', max_depth=8, random_state=17)\n",
    "\n",
    "tree.fit(X_train, Y_train.values)\n",
    "\n",
    "treePredictions = tree.predict(X_train)\n",
    "\n",
    "right = 0\n",
    "i = 0\n",
    "\n",
    "for v in Y_train:\n",
    "  if v == treePredictions[i]:\n",
    "    right += 1\n",
    "  i += 1\n",
    "\n",
    "right * 100 / len(treePredictions)"
   ]
  },
  {
   "cell_type": "code",
   "execution_count": 30,
   "id": "3f2028f0",
   "metadata": {},
   "outputs": [
    {
     "data": {
      "text/plain": [
       "82.82300912134149"
      ]
     },
     "execution_count": 30,
     "metadata": {},
     "output_type": "execute_result"
    }
   ],
   "source": [
    "tree = DecisionTreeClassifier(criterion='entropy', max_depth=2, random_state=16)\n",
    "\n",
    "tree.fit(X_train, Y_train.values)\n",
    "\n",
    "treePredictions = tree.predict(X_train)\n",
    "\n",
    "right = 0\n",
    "i = 0\n",
    "\n",
    "for v in Y_train:\n",
    "  if v == treePredictions[i]:\n",
    "    right += 1\n",
    "  i += 1\n",
    "\n",
    "right * 100 / len(treePredictions)"
   ]
  },
  {
   "cell_type": "code",
   "execution_count": null,
   "id": "32b2da00",
   "metadata": {},
   "outputs": [],
   "source": []
  },
  {
   "cell_type": "code",
   "execution_count": null,
   "id": "b5d34d44",
   "metadata": {},
   "outputs": [],
   "source": []
  }
 ],
 "metadata": {
  "kernelspec": {
   "display_name": "Python 3 (ipykernel)",
   "language": "python",
   "name": "python3"
  },
  "language_info": {
   "codemirror_mode": {
    "name": "ipython",
    "version": 3
   },
   "file_extension": ".py",
   "mimetype": "text/x-python",
   "name": "python",
   "nbconvert_exporter": "python",
   "pygments_lexer": "ipython3",
   "version": "3.9.12"
  },
  "vscode": {
   "interpreter": {
    "hash": "a791db5b063bd5c792440812cf98cf14da24b6b8cb24f1f04bc6123a4946dd97"
   }
  }
 },
 "nbformat": 4,
 "nbformat_minor": 5
}
